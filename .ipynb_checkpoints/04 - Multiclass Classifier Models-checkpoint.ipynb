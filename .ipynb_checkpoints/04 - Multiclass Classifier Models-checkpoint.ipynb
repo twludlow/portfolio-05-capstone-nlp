{
 "cells": [
  {
   "cell_type": "markdown",
   "metadata": {},
   "source": [
    "# Capstone: Philosophical Factors for NLP\n",
    "**_Measuring Similarity to Philosophical Concepts in Text Data_**\n",
    "\n",
    "## Thomas W. Ludlow, Jr.\n",
    "**General Assembly Data Science Immersive DSI-NY-6**\n",
    "\n",
    "**February 12, 2019**"
   ]
  },
  {
   "cell_type": "markdown",
   "metadata": {},
   "source": [
    "# Notebook 4 - Multiclass Classifier Models"
   ]
  },
  {
   "cell_type": "markdown",
   "metadata": {},
   "source": [
    "### Table of Contents"
   ]
  },
  {
   "cell_type": "markdown",
   "metadata": {},
   "source": [
    "[**4.1 Data Preparation**](#4.1-Data-Preparation)\n",
    "- [4.1.1 Define X and y](#4.1.1-Define-X-and-y)\n",
    "- [4.1.2 Standardize and Weight](#4.1.2-Standardize-and-Weight)\n",
    "\n",
    "[**4.2 Logistic Regression**](#4.2-Logistic-Regression)\n",
    "- [4.2.1 Logistic Regression Assembly](#4.2.1-Logistic-Regression-Assembly)\n",
    "- [4.2.2 Logistic Regression Optimization](#4.2.2-Logistic-Regression-Optimization)\n",
    "\n",
    "[**4.3 Recurrent Neural Net**](#4.4-Recurrent-Neural-Net)\n",
    "- [4.3.1 Keras FFRNN Assembly](#4.4.1-Keras-FFRNN-Assembly)\n",
    "- [4.3.2 Keras FFRNN Optimization](#4.4.2-Keras-FFRNN-Optimization)"
   ]
  },
  {
   "cell_type": "markdown",
   "metadata": {},
   "source": [
    "**Libraries**"
   ]
  },
  {
   "cell_type": "code",
   "execution_count": 1,
   "metadata": {},
   "outputs": [
    {
     "name": "stderr",
     "output_type": "stream",
     "text": [
      "Using TensorFlow backend.\n"
     ]
    }
   ],
   "source": [
    "# Python Data Science\n",
    "import re\n",
    "import ast\n",
    "import time\n",
    "import pickle\n",
    "import numpy as np\n",
    "import pandas as pd\n",
    "from tqdm import tqdm\n",
    "\n",
    "# Natural Language Processing\n",
    "import spacy\n",
    "import gensim\n",
    "import pyLDAvis.gensim\n",
    "from gensim.corpora import Dictionary\n",
    "from gensim.models import TfidfModel, ldamulticore, CoherenceModel\n",
    "\n",
    "# Modeling Prep\n",
    "from sklearn.linear_model import LogisticRegression\n",
    "from sklearn.naive_bayes import MultinomialNB\n",
    "from sklearn.model_selection import GridSearchCV\n",
    "from sklearn.preprocessing import StandardScaler\n",
    "from sklearn.externals import joblib\n",
    "from sklearn.metrics import classification_report, accuracy_score\n",
    "from sklearn.utils import class_weight\n",
    "\n",
    "# Neural Net\n",
    "import keras\n",
    "import tensorflow as tf\n",
    "from keras.models import Sequential\n",
    "from keras.layers import Dense, Activation, Dropout\n",
    "from keras.callbacks import EarlyStopping\n",
    "\n",
    "# Plotting\n",
    "import matplotlib.pyplot as plt\n",
    "%matplotlib inline\n",
    "\n",
    "# Override deprecation warnings\n",
    "import warnings\n",
    "warnings.filterwarnings(\"ignore\",category=DeprecationWarning)"
   ]
  },
  {
   "cell_type": "markdown",
   "metadata": {},
   "source": [
    "## 4.1 Data Preparation"
   ]
  },
  {
   "cell_type": "markdown",
   "metadata": {},
   "source": [
    "**Load Train and Test Data**"
   ]
  },
  {
   "cell_type": "code",
   "execution_count": 2,
   "metadata": {},
   "outputs": [],
   "source": [
    "prep_train = pd.read_csv('../data_vec/prep_train.csv')\n",
    "prep_test = pd.read_csv('../data_vec/prep_test.csv')"
   ]
  },
  {
   "cell_type": "code",
   "execution_count": 3,
   "metadata": {},
   "outputs": [
    {
     "data": {
      "text/plain": [
       "(63932, 99)"
      ]
     },
     "execution_count": 3,
     "metadata": {},
     "output_type": "execute_result"
    }
   ],
   "source": [
    "prep_train.shape"
   ]
  },
  {
   "cell_type": "code",
   "execution_count": 4,
   "metadata": {},
   "outputs": [
    {
     "data": {
      "text/html": [
       "<div>\n",
       "<style scoped>\n",
       "    .dataframe tbody tr th:only-of-type {\n",
       "        vertical-align: middle;\n",
       "    }\n",
       "\n",
       "    .dataframe tbody tr th {\n",
       "        vertical-align: top;\n",
       "    }\n",
       "\n",
       "    .dataframe thead th {\n",
       "        text-align: right;\n",
       "    }\n",
       "</style>\n",
       "<table border=\"1\" class=\"dataframe\">\n",
       "  <thead>\n",
       "    <tr style=\"text-align: right;\">\n",
       "      <th></th>\n",
       "      <th>s_vec_0</th>\n",
       "      <th>s_vec_1</th>\n",
       "      <th>s_vec_2</th>\n",
       "      <th>s_vec_3</th>\n",
       "      <th>s_vec_4</th>\n",
       "      <th>s_vec_5</th>\n",
       "      <th>s_vec_6</th>\n",
       "      <th>s_vec_7</th>\n",
       "      <th>s_vec_8</th>\n",
       "      <th>s_vec_9</th>\n",
       "      <th>...</th>\n",
       "      <th>p9_lda_civil</th>\n",
       "      <th>p10_lda_deadites</th>\n",
       "      <th>p11_lda_idea</th>\n",
       "      <th>p12_lda_love</th>\n",
       "      <th>p13_lda_sense</th>\n",
       "      <th>p14_lda_biomolecular</th>\n",
       "      <th>p15_lda_thee</th>\n",
       "      <th>a_num</th>\n",
       "      <th>p_num</th>\n",
       "      <th>s_num</th>\n",
       "    </tr>\n",
       "  </thead>\n",
       "  <tbody>\n",
       "    <tr>\n",
       "      <th>0</th>\n",
       "      <td>0.005141</td>\n",
       "      <td>0.007563</td>\n",
       "      <td>-0.005119</td>\n",
       "      <td>0.003487</td>\n",
       "      <td>0.014759</td>\n",
       "      <td>-0.000401</td>\n",
       "      <td>-0.013146</td>\n",
       "      <td>-0.010836</td>\n",
       "      <td>0.013186</td>\n",
       "      <td>0.000359</td>\n",
       "      <td>...</td>\n",
       "      <td>0.012991</td>\n",
       "      <td>0.012991</td>\n",
       "      <td>0.805130</td>\n",
       "      <td>0.012991</td>\n",
       "      <td>0.012991</td>\n",
       "      <td>0.012991</td>\n",
       "      <td>0.012991</td>\n",
       "      <td>0</td>\n",
       "      <td>0</td>\n",
       "      <td>0</td>\n",
       "    </tr>\n",
       "    <tr>\n",
       "      <th>1</th>\n",
       "      <td>0.000672</td>\n",
       "      <td>-0.008255</td>\n",
       "      <td>0.004202</td>\n",
       "      <td>0.012191</td>\n",
       "      <td>-0.008325</td>\n",
       "      <td>0.010428</td>\n",
       "      <td>-0.010309</td>\n",
       "      <td>0.007246</td>\n",
       "      <td>0.000948</td>\n",
       "      <td>0.013675</td>\n",
       "      <td>...</td>\n",
       "      <td>0.012991</td>\n",
       "      <td>0.012991</td>\n",
       "      <td>0.805130</td>\n",
       "      <td>0.012991</td>\n",
       "      <td>0.012991</td>\n",
       "      <td>0.012991</td>\n",
       "      <td>0.012991</td>\n",
       "      <td>0</td>\n",
       "      <td>0</td>\n",
       "      <td>1</td>\n",
       "    </tr>\n",
       "    <tr>\n",
       "      <th>2</th>\n",
       "      <td>0.009192</td>\n",
       "      <td>0.003800</td>\n",
       "      <td>0.004282</td>\n",
       "      <td>0.003132</td>\n",
       "      <td>0.009840</td>\n",
       "      <td>0.002502</td>\n",
       "      <td>-0.015351</td>\n",
       "      <td>-0.012835</td>\n",
       "      <td>0.005541</td>\n",
       "      <td>-0.002684</td>\n",
       "      <td>...</td>\n",
       "      <td>0.012991</td>\n",
       "      <td>0.012991</td>\n",
       "      <td>0.805130</td>\n",
       "      <td>0.012991</td>\n",
       "      <td>0.012991</td>\n",
       "      <td>0.012991</td>\n",
       "      <td>0.012991</td>\n",
       "      <td>0</td>\n",
       "      <td>0</td>\n",
       "      <td>2</td>\n",
       "    </tr>\n",
       "    <tr>\n",
       "      <th>3</th>\n",
       "      <td>0.012862</td>\n",
       "      <td>0.005095</td>\n",
       "      <td>0.007222</td>\n",
       "      <td>-0.000288</td>\n",
       "      <td>0.005181</td>\n",
       "      <td>0.011893</td>\n",
       "      <td>-0.000838</td>\n",
       "      <td>-0.004347</td>\n",
       "      <td>0.000892</td>\n",
       "      <td>-0.013354</td>\n",
       "      <td>...</td>\n",
       "      <td>0.013657</td>\n",
       "      <td>0.013657</td>\n",
       "      <td>0.013657</td>\n",
       "      <td>0.013657</td>\n",
       "      <td>0.736205</td>\n",
       "      <td>0.013657</td>\n",
       "      <td>0.013657</td>\n",
       "      <td>0</td>\n",
       "      <td>1</td>\n",
       "      <td>0</td>\n",
       "    </tr>\n",
       "    <tr>\n",
       "      <th>4</th>\n",
       "      <td>0.005489</td>\n",
       "      <td>-0.004147</td>\n",
       "      <td>-0.003460</td>\n",
       "      <td>-0.008962</td>\n",
       "      <td>0.004228</td>\n",
       "      <td>-0.000990</td>\n",
       "      <td>-0.011614</td>\n",
       "      <td>-0.008368</td>\n",
       "      <td>0.003744</td>\n",
       "      <td>0.005757</td>\n",
       "      <td>...</td>\n",
       "      <td>0.013657</td>\n",
       "      <td>0.013657</td>\n",
       "      <td>0.013657</td>\n",
       "      <td>0.013657</td>\n",
       "      <td>0.735830</td>\n",
       "      <td>0.013657</td>\n",
       "      <td>0.013657</td>\n",
       "      <td>0</td>\n",
       "      <td>1</td>\n",
       "      <td>1</td>\n",
       "    </tr>\n",
       "  </tbody>\n",
       "</table>\n",
       "<p>5 rows × 99 columns</p>\n",
       "</div>"
      ],
      "text/plain": [
       "    s_vec_0   s_vec_1   s_vec_2   s_vec_3   s_vec_4   s_vec_5   s_vec_6  \\\n",
       "0  0.005141  0.007563 -0.005119  0.003487  0.014759 -0.000401 -0.013146   \n",
       "1  0.000672 -0.008255  0.004202  0.012191 -0.008325  0.010428 -0.010309   \n",
       "2  0.009192  0.003800  0.004282  0.003132  0.009840  0.002502 -0.015351   \n",
       "3  0.012862  0.005095  0.007222 -0.000288  0.005181  0.011893 -0.000838   \n",
       "4  0.005489 -0.004147 -0.003460 -0.008962  0.004228 -0.000990 -0.011614   \n",
       "\n",
       "    s_vec_7   s_vec_8   s_vec_9  ...    p9_lda_civil  p10_lda_deadites  \\\n",
       "0 -0.010836  0.013186  0.000359  ...        0.012991          0.012991   \n",
       "1  0.007246  0.000948  0.013675  ...        0.012991          0.012991   \n",
       "2 -0.012835  0.005541 -0.002684  ...        0.012991          0.012991   \n",
       "3 -0.004347  0.000892 -0.013354  ...        0.013657          0.013657   \n",
       "4 -0.008368  0.003744  0.005757  ...        0.013657          0.013657   \n",
       "\n",
       "   p11_lda_idea  p12_lda_love  p13_lda_sense  p14_lda_biomolecular  \\\n",
       "0      0.805130      0.012991       0.012991              0.012991   \n",
       "1      0.805130      0.012991       0.012991              0.012991   \n",
       "2      0.805130      0.012991       0.012991              0.012991   \n",
       "3      0.013657      0.013657       0.736205              0.013657   \n",
       "4      0.013657      0.013657       0.735830              0.013657   \n",
       "\n",
       "   p15_lda_thee  a_num  p_num  s_num  \n",
       "0      0.012991      0      0      0  \n",
       "1      0.012991      0      0      1  \n",
       "2      0.012991      0      0      2  \n",
       "3      0.013657      0      1      0  \n",
       "4      0.013657      0      1      1  \n",
       "\n",
       "[5 rows x 99 columns]"
      ]
     },
     "execution_count": 4,
     "metadata": {},
     "output_type": "execute_result"
    }
   ],
   "source": [
    "prep_train.head()"
   ]
  },
  {
   "cell_type": "code",
   "execution_count": 5,
   "metadata": {},
   "outputs": [
    {
     "data": {
      "text/plain": [
       "(7935, 99)"
      ]
     },
     "execution_count": 5,
     "metadata": {},
     "output_type": "execute_result"
    }
   ],
   "source": [
    "prep_test.shape"
   ]
  },
  {
   "cell_type": "code",
   "execution_count": 6,
   "metadata": {},
   "outputs": [
    {
     "data": {
      "text/html": [
       "<div>\n",
       "<style scoped>\n",
       "    .dataframe tbody tr th:only-of-type {\n",
       "        vertical-align: middle;\n",
       "    }\n",
       "\n",
       "    .dataframe tbody tr th {\n",
       "        vertical-align: top;\n",
       "    }\n",
       "\n",
       "    .dataframe thead th {\n",
       "        text-align: right;\n",
       "    }\n",
       "</style>\n",
       "<table border=\"1\" class=\"dataframe\">\n",
       "  <thead>\n",
       "    <tr style=\"text-align: right;\">\n",
       "      <th></th>\n",
       "      <th>s_vec_0</th>\n",
       "      <th>s_vec_1</th>\n",
       "      <th>s_vec_2</th>\n",
       "      <th>s_vec_3</th>\n",
       "      <th>s_vec_4</th>\n",
       "      <th>s_vec_5</th>\n",
       "      <th>s_vec_6</th>\n",
       "      <th>s_vec_7</th>\n",
       "      <th>s_vec_8</th>\n",
       "      <th>s_vec_9</th>\n",
       "      <th>...</th>\n",
       "      <th>p9_lda_civil</th>\n",
       "      <th>p10_lda_deadites</th>\n",
       "      <th>p11_lda_idea</th>\n",
       "      <th>p12_lda_love</th>\n",
       "      <th>p13_lda_sense</th>\n",
       "      <th>p14_lda_biomolecular</th>\n",
       "      <th>p15_lda_thee</th>\n",
       "      <th>a_num</th>\n",
       "      <th>p_num</th>\n",
       "      <th>s_num</th>\n",
       "    </tr>\n",
       "  </thead>\n",
       "  <tbody>\n",
       "    <tr>\n",
       "      <th>0</th>\n",
       "      <td>0.012852</td>\n",
       "      <td>-0.000564</td>\n",
       "      <td>0.000924</td>\n",
       "      <td>0.015578</td>\n",
       "      <td>-0.009460</td>\n",
       "      <td>-0.001825</td>\n",
       "      <td>0.006729</td>\n",
       "      <td>0.014028</td>\n",
       "      <td>-0.012019</td>\n",
       "      <td>-0.005941</td>\n",
       "      <td>...</td>\n",
       "      <td>0.012556</td>\n",
       "      <td>0.012556</td>\n",
       "      <td>0.012556</td>\n",
       "      <td>0.012556</td>\n",
       "      <td>0.267877</td>\n",
       "      <td>0.012556</td>\n",
       "      <td>0.012556</td>\n",
       "      <td>0</td>\n",
       "      <td>0</td>\n",
       "      <td>0</td>\n",
       "    </tr>\n",
       "    <tr>\n",
       "      <th>1</th>\n",
       "      <td>0.014496</td>\n",
       "      <td>-0.015362</td>\n",
       "      <td>-0.008466</td>\n",
       "      <td>0.012413</td>\n",
       "      <td>0.012671</td>\n",
       "      <td>-0.000903</td>\n",
       "      <td>0.015530</td>\n",
       "      <td>-0.005830</td>\n",
       "      <td>-0.007259</td>\n",
       "      <td>0.014899</td>\n",
       "      <td>...</td>\n",
       "      <td>0.011455</td>\n",
       "      <td>0.011455</td>\n",
       "      <td>0.147549</td>\n",
       "      <td>0.011455</td>\n",
       "      <td>0.011455</td>\n",
       "      <td>0.011455</td>\n",
       "      <td>0.011455</td>\n",
       "      <td>0</td>\n",
       "      <td>1</td>\n",
       "      <td>0</td>\n",
       "    </tr>\n",
       "    <tr>\n",
       "      <th>2</th>\n",
       "      <td>-0.005569</td>\n",
       "      <td>0.010911</td>\n",
       "      <td>0.007000</td>\n",
       "      <td>0.004631</td>\n",
       "      <td>0.000567</td>\n",
       "      <td>0.012376</td>\n",
       "      <td>0.001706</td>\n",
       "      <td>-0.012309</td>\n",
       "      <td>0.000371</td>\n",
       "      <td>0.012049</td>\n",
       "      <td>...</td>\n",
       "      <td>0.011455</td>\n",
       "      <td>0.011455</td>\n",
       "      <td>0.147652</td>\n",
       "      <td>0.011455</td>\n",
       "      <td>0.011455</td>\n",
       "      <td>0.011455</td>\n",
       "      <td>0.011455</td>\n",
       "      <td>0</td>\n",
       "      <td>1</td>\n",
       "      <td>1</td>\n",
       "    </tr>\n",
       "    <tr>\n",
       "      <th>3</th>\n",
       "      <td>0.012320</td>\n",
       "      <td>-0.007913</td>\n",
       "      <td>-0.014627</td>\n",
       "      <td>-0.005808</td>\n",
       "      <td>-0.004552</td>\n",
       "      <td>0.002174</td>\n",
       "      <td>-0.012969</td>\n",
       "      <td>0.000185</td>\n",
       "      <td>-0.009987</td>\n",
       "      <td>-0.009841</td>\n",
       "      <td>...</td>\n",
       "      <td>0.012644</td>\n",
       "      <td>0.012644</td>\n",
       "      <td>0.012644</td>\n",
       "      <td>0.012644</td>\n",
       "      <td>0.012644</td>\n",
       "      <td>0.012644</td>\n",
       "      <td>0.012644</td>\n",
       "      <td>0</td>\n",
       "      <td>2</td>\n",
       "      <td>0</td>\n",
       "    </tr>\n",
       "    <tr>\n",
       "      <th>4</th>\n",
       "      <td>0.001876</td>\n",
       "      <td>-0.003734</td>\n",
       "      <td>-0.006766</td>\n",
       "      <td>-0.008286</td>\n",
       "      <td>0.006277</td>\n",
       "      <td>-0.012269</td>\n",
       "      <td>-0.003850</td>\n",
       "      <td>-0.011094</td>\n",
       "      <td>0.013328</td>\n",
       "      <td>0.011740</td>\n",
       "      <td>...</td>\n",
       "      <td>0.015147</td>\n",
       "      <td>0.015147</td>\n",
       "      <td>0.015147</td>\n",
       "      <td>0.015147</td>\n",
       "      <td>0.015148</td>\n",
       "      <td>0.015147</td>\n",
       "      <td>0.015147</td>\n",
       "      <td>0</td>\n",
       "      <td>3</td>\n",
       "      <td>0</td>\n",
       "    </tr>\n",
       "  </tbody>\n",
       "</table>\n",
       "<p>5 rows × 99 columns</p>\n",
       "</div>"
      ],
      "text/plain": [
       "    s_vec_0   s_vec_1   s_vec_2   s_vec_3   s_vec_4   s_vec_5   s_vec_6  \\\n",
       "0  0.012852 -0.000564  0.000924  0.015578 -0.009460 -0.001825  0.006729   \n",
       "1  0.014496 -0.015362 -0.008466  0.012413  0.012671 -0.000903  0.015530   \n",
       "2 -0.005569  0.010911  0.007000  0.004631  0.000567  0.012376  0.001706   \n",
       "3  0.012320 -0.007913 -0.014627 -0.005808 -0.004552  0.002174 -0.012969   \n",
       "4  0.001876 -0.003734 -0.006766 -0.008286  0.006277 -0.012269 -0.003850   \n",
       "\n",
       "    s_vec_7   s_vec_8   s_vec_9  ...    p9_lda_civil  p10_lda_deadites  \\\n",
       "0  0.014028 -0.012019 -0.005941  ...        0.012556          0.012556   \n",
       "1 -0.005830 -0.007259  0.014899  ...        0.011455          0.011455   \n",
       "2 -0.012309  0.000371  0.012049  ...        0.011455          0.011455   \n",
       "3  0.000185 -0.009987 -0.009841  ...        0.012644          0.012644   \n",
       "4 -0.011094  0.013328  0.011740  ...        0.015147          0.015147   \n",
       "\n",
       "   p11_lda_idea  p12_lda_love  p13_lda_sense  p14_lda_biomolecular  \\\n",
       "0      0.012556      0.012556       0.267877              0.012556   \n",
       "1      0.147549      0.011455       0.011455              0.011455   \n",
       "2      0.147652      0.011455       0.011455              0.011455   \n",
       "3      0.012644      0.012644       0.012644              0.012644   \n",
       "4      0.015147      0.015147       0.015148              0.015147   \n",
       "\n",
       "   p15_lda_thee  a_num  p_num  s_num  \n",
       "0      0.012556      0      0      0  \n",
       "1      0.011455      0      1      0  \n",
       "2      0.011455      0      1      1  \n",
       "3      0.012644      0      2      0  \n",
       "4      0.015147      0      3      0  \n",
       "\n",
       "[5 rows x 99 columns]"
      ]
     },
     "execution_count": 6,
     "metadata": {},
     "output_type": "execute_result"
    }
   ],
   "source": [
    "prep_test.head()"
   ]
  },
  {
   "cell_type": "code",
   "execution_count": 7,
   "metadata": {},
   "outputs": [
    {
     "data": {
      "text/html": [
       "<div>\n",
       "<style scoped>\n",
       "    .dataframe tbody tr th:only-of-type {\n",
       "        vertical-align: middle;\n",
       "    }\n",
       "\n",
       "    .dataframe tbody tr th {\n",
       "        vertical-align: top;\n",
       "    }\n",
       "\n",
       "    .dataframe thead th {\n",
       "        text-align: right;\n",
       "    }\n",
       "</style>\n",
       "<table border=\"1\" class=\"dataframe\">\n",
       "  <thead>\n",
       "    <tr style=\"text-align: right;\">\n",
       "      <th></th>\n",
       "      <th>s_vec_0</th>\n",
       "      <th>s_vec_1</th>\n",
       "      <th>s_vec_2</th>\n",
       "      <th>s_vec_3</th>\n",
       "      <th>s_vec_4</th>\n",
       "      <th>s_vec_5</th>\n",
       "      <th>s_vec_6</th>\n",
       "      <th>s_vec_7</th>\n",
       "      <th>s_vec_8</th>\n",
       "      <th>s_vec_9</th>\n",
       "      <th>...</th>\n",
       "      <th>p9_lda_civil</th>\n",
       "      <th>p10_lda_deadites</th>\n",
       "      <th>p11_lda_idea</th>\n",
       "      <th>p12_lda_love</th>\n",
       "      <th>p13_lda_sense</th>\n",
       "      <th>p14_lda_biomolecular</th>\n",
       "      <th>p15_lda_thee</th>\n",
       "      <th>a_num</th>\n",
       "      <th>p_num</th>\n",
       "      <th>s_num</th>\n",
       "    </tr>\n",
       "  </thead>\n",
       "  <tbody>\n",
       "    <tr>\n",
       "      <th>7930</th>\n",
       "      <td>-0.006734</td>\n",
       "      <td>0.011162</td>\n",
       "      <td>0.009488</td>\n",
       "      <td>-0.008400</td>\n",
       "      <td>-0.010261</td>\n",
       "      <td>-0.010349</td>\n",
       "      <td>-0.011043</td>\n",
       "      <td>0.010268</td>\n",
       "      <td>-0.007921</td>\n",
       "      <td>-0.014453</td>\n",
       "      <td>...</td>\n",
       "      <td>0.000000</td>\n",
       "      <td>0.000000</td>\n",
       "      <td>0.000000</td>\n",
       "      <td>0.158337</td>\n",
       "      <td>0.000000</td>\n",
       "      <td>0.029041</td>\n",
       "      <td>0.201526</td>\n",
       "      <td>16</td>\n",
       "      <td>83</td>\n",
       "      <td>1</td>\n",
       "    </tr>\n",
       "    <tr>\n",
       "      <th>7931</th>\n",
       "      <td>0.012661</td>\n",
       "      <td>-0.008760</td>\n",
       "      <td>-0.008574</td>\n",
       "      <td>-0.010942</td>\n",
       "      <td>0.009893</td>\n",
       "      <td>-0.002269</td>\n",
       "      <td>-0.000573</td>\n",
       "      <td>-0.009278</td>\n",
       "      <td>-0.014053</td>\n",
       "      <td>-0.005179</td>\n",
       "      <td>...</td>\n",
       "      <td>0.000000</td>\n",
       "      <td>0.000000</td>\n",
       "      <td>0.000000</td>\n",
       "      <td>0.158665</td>\n",
       "      <td>0.000000</td>\n",
       "      <td>0.028997</td>\n",
       "      <td>0.201952</td>\n",
       "      <td>16</td>\n",
       "      <td>83</td>\n",
       "      <td>2</td>\n",
       "    </tr>\n",
       "    <tr>\n",
       "      <th>7932</th>\n",
       "      <td>-0.015370</td>\n",
       "      <td>0.013310</td>\n",
       "      <td>-0.009113</td>\n",
       "      <td>0.002124</td>\n",
       "      <td>-0.010596</td>\n",
       "      <td>-0.002114</td>\n",
       "      <td>0.003677</td>\n",
       "      <td>0.011908</td>\n",
       "      <td>-0.007208</td>\n",
       "      <td>-0.006414</td>\n",
       "      <td>...</td>\n",
       "      <td>0.000000</td>\n",
       "      <td>0.000000</td>\n",
       "      <td>0.000000</td>\n",
       "      <td>0.158550</td>\n",
       "      <td>0.000000</td>\n",
       "      <td>0.029009</td>\n",
       "      <td>0.201803</td>\n",
       "      <td>16</td>\n",
       "      <td>83</td>\n",
       "      <td>3</td>\n",
       "    </tr>\n",
       "    <tr>\n",
       "      <th>7933</th>\n",
       "      <td>-0.002627</td>\n",
       "      <td>-0.011851</td>\n",
       "      <td>0.002627</td>\n",
       "      <td>-0.002608</td>\n",
       "      <td>0.009272</td>\n",
       "      <td>-0.013032</td>\n",
       "      <td>-0.010604</td>\n",
       "      <td>0.009540</td>\n",
       "      <td>-0.007297</td>\n",
       "      <td>-0.007836</td>\n",
       "      <td>...</td>\n",
       "      <td>0.012244</td>\n",
       "      <td>0.012244</td>\n",
       "      <td>0.012244</td>\n",
       "      <td>0.466041</td>\n",
       "      <td>0.012244</td>\n",
       "      <td>0.012244</td>\n",
       "      <td>0.247581</td>\n",
       "      <td>16</td>\n",
       "      <td>84</td>\n",
       "      <td>0</td>\n",
       "    </tr>\n",
       "    <tr>\n",
       "      <th>7934</th>\n",
       "      <td>-0.004780</td>\n",
       "      <td>-0.000294</td>\n",
       "      <td>-0.002042</td>\n",
       "      <td>0.013785</td>\n",
       "      <td>0.015297</td>\n",
       "      <td>-0.000199</td>\n",
       "      <td>-0.004119</td>\n",
       "      <td>-0.002273</td>\n",
       "      <td>0.001138</td>\n",
       "      <td>-0.005124</td>\n",
       "      <td>...</td>\n",
       "      <td>0.012244</td>\n",
       "      <td>0.012244</td>\n",
       "      <td>0.012244</td>\n",
       "      <td>0.465861</td>\n",
       "      <td>0.012244</td>\n",
       "      <td>0.012244</td>\n",
       "      <td>0.247772</td>\n",
       "      <td>16</td>\n",
       "      <td>84</td>\n",
       "      <td>1</td>\n",
       "    </tr>\n",
       "  </tbody>\n",
       "</table>\n",
       "<p>5 rows × 99 columns</p>\n",
       "</div>"
      ],
      "text/plain": [
       "       s_vec_0   s_vec_1   s_vec_2   s_vec_3   s_vec_4   s_vec_5   s_vec_6  \\\n",
       "7930 -0.006734  0.011162  0.009488 -0.008400 -0.010261 -0.010349 -0.011043   \n",
       "7931  0.012661 -0.008760 -0.008574 -0.010942  0.009893 -0.002269 -0.000573   \n",
       "7932 -0.015370  0.013310 -0.009113  0.002124 -0.010596 -0.002114  0.003677   \n",
       "7933 -0.002627 -0.011851  0.002627 -0.002608  0.009272 -0.013032 -0.010604   \n",
       "7934 -0.004780 -0.000294 -0.002042  0.013785  0.015297 -0.000199 -0.004119   \n",
       "\n",
       "       s_vec_7   s_vec_8   s_vec_9  ...    p9_lda_civil  p10_lda_deadites  \\\n",
       "7930  0.010268 -0.007921 -0.014453  ...        0.000000          0.000000   \n",
       "7931 -0.009278 -0.014053 -0.005179  ...        0.000000          0.000000   \n",
       "7932  0.011908 -0.007208 -0.006414  ...        0.000000          0.000000   \n",
       "7933  0.009540 -0.007297 -0.007836  ...        0.012244          0.012244   \n",
       "7934 -0.002273  0.001138 -0.005124  ...        0.012244          0.012244   \n",
       "\n",
       "      p11_lda_idea  p12_lda_love  p13_lda_sense  p14_lda_biomolecular  \\\n",
       "7930      0.000000      0.158337       0.000000              0.029041   \n",
       "7931      0.000000      0.158665       0.000000              0.028997   \n",
       "7932      0.000000      0.158550       0.000000              0.029009   \n",
       "7933      0.012244      0.466041       0.012244              0.012244   \n",
       "7934      0.012244      0.465861       0.012244              0.012244   \n",
       "\n",
       "      p15_lda_thee  a_num  p_num  s_num  \n",
       "7930      0.201526     16     83      1  \n",
       "7931      0.201952     16     83      2  \n",
       "7932      0.201803     16     83      3  \n",
       "7933      0.247581     16     84      0  \n",
       "7934      0.247772     16     84      1  \n",
       "\n",
       "[5 rows x 99 columns]"
      ]
     },
     "execution_count": 7,
     "metadata": {},
     "output_type": "execute_result"
    }
   ],
   "source": [
    "prep_test.tail()"
   ]
  },
  {
   "cell_type": "markdown",
   "metadata": {},
   "source": [
    "### 4.1.1 Define X and y"
   ]
  },
  {
   "cell_type": "code",
   "execution_count": 8,
   "metadata": {},
   "outputs": [],
   "source": [
    "X_train = prep_train.drop(['a_num'], axis=1)\n",
    "X_test = prep_test.drop(['a_num'], axis=1)\n",
    "y_train = prep_train.a_num\n",
    "y_train_d = pd.get_dummies(prep_train['a_num'])\n",
    "y_test = prep_test.a_num"
   ]
  },
  {
   "cell_type": "code",
   "execution_count": 9,
   "metadata": {},
   "outputs": [],
   "source": [
    "adj_y = prep_test.a_num"
   ]
  },
  {
   "cell_type": "code",
   "execution_count": 10,
   "metadata": {},
   "outputs": [
    {
     "data": {
      "text/plain": [
       "5     2407\n",
       "13     720\n",
       "9      663\n",
       "14     549\n",
       "16     515\n",
       "10     438\n",
       "15     410\n",
       "12     346\n",
       "4      333\n",
       "2      329\n",
       "3      307\n",
       "0      230\n",
       "11     175\n",
       "1      160\n",
       "6      131\n",
       "8      130\n",
       "7       92\n",
       "Name: a_num, dtype: int64"
      ]
     },
     "execution_count": 10,
     "metadata": {},
     "output_type": "execute_result"
    }
   ],
   "source": [
    "adj_y.value_counts()"
   ]
  },
  {
   "cell_type": "code",
   "execution_count": 11,
   "metadata": {},
   "outputs": [],
   "source": [
    "adj_y += 3"
   ]
  },
  {
   "cell_type": "code",
   "execution_count": 12,
   "metadata": {},
   "outputs": [],
   "source": [
    "adj_y.loc[adj_y[adj_y<=18].index] -= 1 # Sun Tzu"
   ]
  },
  {
   "cell_type": "code",
   "execution_count": 13,
   "metadata": {},
   "outputs": [],
   "source": [
    "adj_y.loc[adj_y[adj_y<=8].index] -= 1 # Khayyam"
   ]
  },
  {
   "cell_type": "code",
   "execution_count": 14,
   "metadata": {},
   "outputs": [],
   "source": [
    "adj_y.loc[adj_y[adj_y<=4].index] -= 1 # Hobbes"
   ]
  },
  {
   "cell_type": "code",
   "execution_count": 15,
   "metadata": {},
   "outputs": [
    {
     "data": {
      "text/plain": [
       "array([ 0,  1,  2,  3,  5,  6,  7,  9, 10, 11, 12, 13, 14, 15, 16, 17, 19])"
      ]
     },
     "execution_count": 15,
     "metadata": {},
     "output_type": "execute_result"
    }
   ],
   "source": [
    "adj_y.unique()"
   ]
  },
  {
   "cell_type": "code",
   "execution_count": 16,
   "metadata": {},
   "outputs": [],
   "source": [
    "y_test_d = pd.get_dummies(adj_y)"
   ]
  },
  {
   "cell_type": "code",
   "execution_count": 17,
   "metadata": {},
   "outputs": [],
   "source": [
    "add_nums = [4,8,18]\n",
    "for num in add_nums:\n",
    "    y_test_d[num] = 0"
   ]
  },
  {
   "cell_type": "code",
   "execution_count": 18,
   "metadata": {},
   "outputs": [
    {
     "data": {
      "text/html": [
       "<div>\n",
       "<style scoped>\n",
       "    .dataframe tbody tr th:only-of-type {\n",
       "        vertical-align: middle;\n",
       "    }\n",
       "\n",
       "    .dataframe tbody tr th {\n",
       "        vertical-align: top;\n",
       "    }\n",
       "\n",
       "    .dataframe thead th {\n",
       "        text-align: right;\n",
       "    }\n",
       "</style>\n",
       "<table border=\"1\" class=\"dataframe\">\n",
       "  <thead>\n",
       "    <tr style=\"text-align: right;\">\n",
       "      <th></th>\n",
       "      <th>0</th>\n",
       "      <th>1</th>\n",
       "      <th>2</th>\n",
       "      <th>3</th>\n",
       "      <th>5</th>\n",
       "      <th>6</th>\n",
       "      <th>7</th>\n",
       "      <th>9</th>\n",
       "      <th>10</th>\n",
       "      <th>11</th>\n",
       "      <th>12</th>\n",
       "      <th>13</th>\n",
       "      <th>14</th>\n",
       "      <th>15</th>\n",
       "      <th>16</th>\n",
       "      <th>17</th>\n",
       "      <th>19</th>\n",
       "      <th>4</th>\n",
       "      <th>8</th>\n",
       "      <th>18</th>\n",
       "    </tr>\n",
       "  </thead>\n",
       "  <tbody>\n",
       "    <tr>\n",
       "      <th>0</th>\n",
       "      <td>1</td>\n",
       "      <td>0</td>\n",
       "      <td>0</td>\n",
       "      <td>0</td>\n",
       "      <td>0</td>\n",
       "      <td>0</td>\n",
       "      <td>0</td>\n",
       "      <td>0</td>\n",
       "      <td>0</td>\n",
       "      <td>0</td>\n",
       "      <td>0</td>\n",
       "      <td>0</td>\n",
       "      <td>0</td>\n",
       "      <td>0</td>\n",
       "      <td>0</td>\n",
       "      <td>0</td>\n",
       "      <td>0</td>\n",
       "      <td>0</td>\n",
       "      <td>0</td>\n",
       "      <td>0</td>\n",
       "    </tr>\n",
       "    <tr>\n",
       "      <th>1</th>\n",
       "      <td>1</td>\n",
       "      <td>0</td>\n",
       "      <td>0</td>\n",
       "      <td>0</td>\n",
       "      <td>0</td>\n",
       "      <td>0</td>\n",
       "      <td>0</td>\n",
       "      <td>0</td>\n",
       "      <td>0</td>\n",
       "      <td>0</td>\n",
       "      <td>0</td>\n",
       "      <td>0</td>\n",
       "      <td>0</td>\n",
       "      <td>0</td>\n",
       "      <td>0</td>\n",
       "      <td>0</td>\n",
       "      <td>0</td>\n",
       "      <td>0</td>\n",
       "      <td>0</td>\n",
       "      <td>0</td>\n",
       "    </tr>\n",
       "    <tr>\n",
       "      <th>2</th>\n",
       "      <td>1</td>\n",
       "      <td>0</td>\n",
       "      <td>0</td>\n",
       "      <td>0</td>\n",
       "      <td>0</td>\n",
       "      <td>0</td>\n",
       "      <td>0</td>\n",
       "      <td>0</td>\n",
       "      <td>0</td>\n",
       "      <td>0</td>\n",
       "      <td>0</td>\n",
       "      <td>0</td>\n",
       "      <td>0</td>\n",
       "      <td>0</td>\n",
       "      <td>0</td>\n",
       "      <td>0</td>\n",
       "      <td>0</td>\n",
       "      <td>0</td>\n",
       "      <td>0</td>\n",
       "      <td>0</td>\n",
       "    </tr>\n",
       "    <tr>\n",
       "      <th>3</th>\n",
       "      <td>1</td>\n",
       "      <td>0</td>\n",
       "      <td>0</td>\n",
       "      <td>0</td>\n",
       "      <td>0</td>\n",
       "      <td>0</td>\n",
       "      <td>0</td>\n",
       "      <td>0</td>\n",
       "      <td>0</td>\n",
       "      <td>0</td>\n",
       "      <td>0</td>\n",
       "      <td>0</td>\n",
       "      <td>0</td>\n",
       "      <td>0</td>\n",
       "      <td>0</td>\n",
       "      <td>0</td>\n",
       "      <td>0</td>\n",
       "      <td>0</td>\n",
       "      <td>0</td>\n",
       "      <td>0</td>\n",
       "    </tr>\n",
       "    <tr>\n",
       "      <th>4</th>\n",
       "      <td>1</td>\n",
       "      <td>0</td>\n",
       "      <td>0</td>\n",
       "      <td>0</td>\n",
       "      <td>0</td>\n",
       "      <td>0</td>\n",
       "      <td>0</td>\n",
       "      <td>0</td>\n",
       "      <td>0</td>\n",
       "      <td>0</td>\n",
       "      <td>0</td>\n",
       "      <td>0</td>\n",
       "      <td>0</td>\n",
       "      <td>0</td>\n",
       "      <td>0</td>\n",
       "      <td>0</td>\n",
       "      <td>0</td>\n",
       "      <td>0</td>\n",
       "      <td>0</td>\n",
       "      <td>0</td>\n",
       "    </tr>\n",
       "  </tbody>\n",
       "</table>\n",
       "</div>"
      ],
      "text/plain": [
       "   0   1   2   3   5   6   7   9   10  11  12  13  14  15  16  17  19  4   8   \\\n",
       "0   1   0   0   0   0   0   0   0   0   0   0   0   0   0   0   0   0   0   0   \n",
       "1   1   0   0   0   0   0   0   0   0   0   0   0   0   0   0   0   0   0   0   \n",
       "2   1   0   0   0   0   0   0   0   0   0   0   0   0   0   0   0   0   0   0   \n",
       "3   1   0   0   0   0   0   0   0   0   0   0   0   0   0   0   0   0   0   0   \n",
       "4   1   0   0   0   0   0   0   0   0   0   0   0   0   0   0   0   0   0   0   \n",
       "\n",
       "   18  \n",
       "0   0  \n",
       "1   0  \n",
       "2   0  \n",
       "3   0  \n",
       "4   0  "
      ]
     },
     "execution_count": 18,
     "metadata": {},
     "output_type": "execute_result"
    }
   ],
   "source": [
    "y_test_d.head()"
   ]
  },
  {
   "cell_type": "code",
   "execution_count": 19,
   "metadata": {},
   "outputs": [],
   "source": [
    "y_test_d = y_test_d[list(range(20))]"
   ]
  },
  {
   "cell_type": "code",
   "execution_count": 20,
   "metadata": {},
   "outputs": [
    {
     "data": {
      "text/plain": [
       "(7935, 98)"
      ]
     },
     "execution_count": 20,
     "metadata": {},
     "output_type": "execute_result"
    }
   ],
   "source": [
    "X_test.shape"
   ]
  },
  {
   "cell_type": "code",
   "execution_count": 21,
   "metadata": {},
   "outputs": [
    {
     "data": {
      "text/plain": [
       "(7935,)"
      ]
     },
     "execution_count": 21,
     "metadata": {},
     "output_type": "execute_result"
    }
   ],
   "source": [
    "y_test.shape"
   ]
  },
  {
   "cell_type": "markdown",
   "metadata": {},
   "source": [
    "### 4.1.2 Standardize and Weight"
   ]
  },
  {
   "cell_type": "markdown",
   "metadata": {},
   "source": [
    "**Standardize X Features**"
   ]
  },
  {
   "cell_type": "code",
   "execution_count": 22,
   "metadata": {},
   "outputs": [],
   "source": [
    "ss = StandardScaler()"
   ]
  },
  {
   "cell_type": "code",
   "execution_count": 23,
   "metadata": {},
   "outputs": [],
   "source": [
    "X_train_sc = ss.fit_transform(X_train)\n",
    "X_test_sc = ss.transform(X_test)"
   ]
  },
  {
   "cell_type": "code",
   "execution_count": 24,
   "metadata": {},
   "outputs": [
    {
     "data": {
      "text/plain": [
       "(63932, 98)"
      ]
     },
     "execution_count": 24,
     "metadata": {},
     "output_type": "execute_result"
    }
   ],
   "source": [
    "X_train_sc.shape"
   ]
  },
  {
   "cell_type": "code",
   "execution_count": 25,
   "metadata": {},
   "outputs": [
    {
     "data": {
      "text/plain": [
       "(7935, 98)"
      ]
     },
     "execution_count": 25,
     "metadata": {},
     "output_type": "execute_result"
    }
   ],
   "source": [
    "X_test_sc.shape"
   ]
  },
  {
   "cell_type": "code",
   "execution_count": 26,
   "metadata": {},
   "outputs": [
    {
     "data": {
      "text/plain": [
       "(63932,)"
      ]
     },
     "execution_count": 26,
     "metadata": {},
     "output_type": "execute_result"
    }
   ],
   "source": [
    "y_train.shape"
   ]
  },
  {
   "cell_type": "code",
   "execution_count": 27,
   "metadata": {},
   "outputs": [
    {
     "data": {
      "text/plain": [
       "0    0\n",
       "1    0\n",
       "2    0\n",
       "3    0\n",
       "4    0\n",
       "Name: a_num, dtype: int64"
      ]
     },
     "execution_count": 27,
     "metadata": {},
     "output_type": "execute_result"
    }
   ],
   "source": [
    "y_train.head()"
   ]
  },
  {
   "cell_type": "code",
   "execution_count": 28,
   "metadata": {},
   "outputs": [
    {
     "data": {
      "text/plain": [
       "(7935,)"
      ]
     },
     "execution_count": 28,
     "metadata": {},
     "output_type": "execute_result"
    }
   ],
   "source": [
    "y_test.shape"
   ]
  },
  {
   "cell_type": "code",
   "execution_count": 29,
   "metadata": {},
   "outputs": [
    {
     "data": {
      "text/plain": [
       "0    0\n",
       "1    0\n",
       "2    0\n",
       "3    0\n",
       "4    0\n",
       "Name: a_num, dtype: int64"
      ]
     },
     "execution_count": 29,
     "metadata": {},
     "output_type": "execute_result"
    }
   ],
   "source": [
    "y_train.head()"
   ]
  },
  {
   "cell_type": "code",
   "execution_count": 30,
   "metadata": {},
   "outputs": [
    {
     "data": {
      "text/plain": [
       "(63932,)"
      ]
     },
     "execution_count": 30,
     "metadata": {},
     "output_type": "execute_result"
    }
   ],
   "source": [
    "y_train.shape"
   ]
  },
  {
   "cell_type": "markdown",
   "metadata": {},
   "source": [
    "**Weights**"
   ]
  },
  {
   "cell_type": "code",
   "execution_count": 31,
   "metadata": {},
   "outputs": [],
   "source": [
    "class_weights = {i:val for i, val in y_train.value_counts(sort=False).iteritems()}"
   ]
  },
  {
   "cell_type": "code",
   "execution_count": 32,
   "metadata": {},
   "outputs": [
    {
     "data": {
      "text/plain": [
       "{0: 1111,\n",
       " 1: 1955,\n",
       " 2: 1205,\n",
       " 3: 569,\n",
       " 4: 6160,\n",
       " 5: 1566,\n",
       " 6: 2492,\n",
       " 7: 6067,\n",
       " 8: 224,\n",
       " 9: 8417,\n",
       " 10: 1159,\n",
       " 11: 7556,\n",
       " 12: 5497,\n",
       " 13: 3982,\n",
       " 14: 2631,\n",
       " 15: 3171,\n",
       " 16: 3426,\n",
       " 17: 3910,\n",
       " 18: 1715,\n",
       " 19: 1119}"
      ]
     },
     "execution_count": 32,
     "metadata": {},
     "output_type": "execute_result"
    }
   ],
   "source": [
    "class_weights"
   ]
  },
  {
   "cell_type": "markdown",
   "metadata": {},
   "source": [
    "## 4.2 Logistic Regression"
   ]
  },
  {
   "cell_type": "markdown",
   "metadata": {},
   "source": [
    "### 4.2.1 Logistic Regression Assembly"
   ]
  },
  {
   "cell_type": "code",
   "execution_count": 64,
   "metadata": {},
   "outputs": [],
   "source": [
    "lr_runs = pd.DataFrame(columns=['train_accuracy','test_accuracy','params'])"
   ]
  },
  {
   "cell_type": "code",
   "execution_count": 65,
   "metadata": {},
   "outputs": [],
   "source": [
    "lr_single = {}"
   ]
  },
  {
   "cell_type": "code",
   "execution_count": 66,
   "metadata": {},
   "outputs": [],
   "source": [
    "logreg = LogisticRegression(penalty='l2', random_state=211, n_jobs=3, \n",
    "                            multi_class='multinomial', solver='lbfgs', \n",
    "                            class_weight='balanced')\n"
   ]
  },
  {
   "cell_type": "code",
   "execution_count": 67,
   "metadata": {},
   "outputs": [
    {
     "data": {
      "text/plain": [
       "(63932, 98)"
      ]
     },
     "execution_count": 67,
     "metadata": {},
     "output_type": "execute_result"
    }
   ],
   "source": [
    "X_train_sc.shape"
   ]
  },
  {
   "cell_type": "code",
   "execution_count": 68,
   "metadata": {},
   "outputs": [
    {
     "data": {
      "text/plain": [
       "(63932,)"
      ]
     },
     "execution_count": 68,
     "metadata": {},
     "output_type": "execute_result"
    }
   ],
   "source": [
    "y_train.shape"
   ]
  },
  {
   "cell_type": "code",
   "execution_count": 69,
   "metadata": {
    "scrolled": false
   },
   "outputs": [
    {
     "data": {
      "text/plain": [
       "LogisticRegression(C=1.0, class_weight='balanced', dual=False,\n",
       "          fit_intercept=True, intercept_scaling=1, max_iter=100,\n",
       "          multi_class='multinomial', n_jobs=3, penalty='l2',\n",
       "          random_state=211, solver='lbfgs', tol=0.0001, verbose=0,\n",
       "          warm_start=False)"
      ]
     },
     "execution_count": 69,
     "metadata": {},
     "output_type": "execute_result"
    }
   ],
   "source": [
    "logreg.fit(X_train_sc, y_train)"
   ]
  },
  {
   "cell_type": "code",
   "execution_count": 70,
   "metadata": {},
   "outputs": [],
   "source": [
    "lr_single['train_accuracy'] = logreg.score(X_train_sc, y_train)\n",
    "lr_single['test_accuracy'] = logreg.score(X_test_sc, y_test)\n",
    "lr_single['params'] = {'penalty':logreg.penalty, 'C':logreg.C, 'solver':logreg.solver}"
   ]
  },
  {
   "cell_type": "code",
   "execution_count": 71,
   "metadata": {},
   "outputs": [
    {
     "data": {
      "text/plain": [
       "{'train_accuracy': 0.5724832634674342,\n",
       " 'test_accuracy': 0.14984247006931317,\n",
       " 'params': {'penalty': 'l2', 'C': 1.0, 'solver': 'lbfgs'}}"
      ]
     },
     "execution_count": 71,
     "metadata": {},
     "output_type": "execute_result"
    }
   ],
   "source": [
    "lr_single"
   ]
  },
  {
   "cell_type": "markdown",
   "metadata": {},
   "source": [
    "### 4.2.2 Logistic Regression Optimization"
   ]
  },
  {
   "cell_type": "markdown",
   "metadata": {},
   "source": [
    "**Parameters**"
   ]
  },
  {
   "cell_type": "code",
   "execution_count": 84,
   "metadata": {},
   "outputs": [],
   "source": [
    "lr_single = {}"
   ]
  },
  {
   "cell_type": "code",
   "execution_count": 85,
   "metadata": {},
   "outputs": [],
   "source": [
    "lr_params = {\n",
    "    'penalty':['l2'],\n",
    "    'C':np.arange(.005, .05, .001),\n",
    "    'solver':['lbfgs'],\n",
    "    'class_weight':['balanced'],\n",
    "    'multi_class':['multinomial'],\n",
    "    'n_jobs':[3]\n",
    "}"
   ]
  },
  {
   "cell_type": "code",
   "execution_count": 86,
   "metadata": {
    "scrolled": false
   },
   "outputs": [],
   "source": [
    "grid = GridSearchCV(logreg, lr_params, cv=3)\n",
    "grid.fit(X_train_sc, y_train)\n",
    "lr_single['train_accuracy'] = grid.score(X_train_sc, y_train)\n",
    "lr_single['test_accuracy'] = grid.score(X_test_sc, y_test)\n",
    "lr_single['params'] = grid.best_params_"
   ]
  },
  {
   "cell_type": "code",
   "execution_count": 87,
   "metadata": {},
   "outputs": [],
   "source": [
    "lr_runs = lr_runs.append(lr_single, ignore_index=True)"
   ]
  },
  {
   "cell_type": "code",
   "execution_count": 88,
   "metadata": {},
   "outputs": [
    {
     "data": {
      "text/html": [
       "<div>\n",
       "<style scoped>\n",
       "    .dataframe tbody tr th:only-of-type {\n",
       "        vertical-align: middle;\n",
       "    }\n",
       "\n",
       "    .dataframe tbody tr th {\n",
       "        vertical-align: top;\n",
       "    }\n",
       "\n",
       "    .dataframe thead th {\n",
       "        text-align: right;\n",
       "    }\n",
       "</style>\n",
       "<table border=\"1\" class=\"dataframe\">\n",
       "  <thead>\n",
       "    <tr style=\"text-align: right;\">\n",
       "      <th></th>\n",
       "      <th>train_accuracy</th>\n",
       "      <th>test_accuracy</th>\n",
       "      <th>params</th>\n",
       "    </tr>\n",
       "  </thead>\n",
       "  <tbody>\n",
       "    <tr>\n",
       "      <th>0</th>\n",
       "      <td>0.569199</td>\n",
       "      <td>0.148834</td>\n",
       "      <td>{'C': 0.1, 'class_weight': 'balanced', 'multi_...</td>\n",
       "    </tr>\n",
       "    <tr>\n",
       "      <th>1</th>\n",
       "      <td>0.553588</td>\n",
       "      <td>0.144549</td>\n",
       "      <td>{'C': 0.01, 'class_weight': 'balanced', 'multi...</td>\n",
       "    </tr>\n",
       "    <tr>\n",
       "      <th>2</th>\n",
       "      <td>0.546049</td>\n",
       "      <td>0.146314</td>\n",
       "      <td>{'C': 0.005, 'class_weight': 'balanced', 'mult...</td>\n",
       "    </tr>\n",
       "  </tbody>\n",
       "</table>\n",
       "</div>"
      ],
      "text/plain": [
       "   train_accuracy  test_accuracy  \\\n",
       "0        0.569199       0.148834   \n",
       "1        0.553588       0.144549   \n",
       "2        0.546049       0.146314   \n",
       "\n",
       "                                              params  \n",
       "0  {'C': 0.1, 'class_weight': 'balanced', 'multi_...  \n",
       "1  {'C': 0.01, 'class_weight': 'balanced', 'multi...  \n",
       "2  {'C': 0.005, 'class_weight': 'balanced', 'mult...  "
      ]
     },
     "execution_count": 88,
     "metadata": {},
     "output_type": "execute_result"
    }
   ],
   "source": [
    "lr_runs"
   ]
  },
  {
   "cell_type": "markdown",
   "metadata": {},
   "source": [
    "**Final Logistic Regression Model**"
   ]
  },
  {
   "cell_type": "code",
   "execution_count": 89,
   "metadata": {},
   "outputs": [],
   "source": [
    "logreg = LogisticRegression(C=0.1, penalty='l2', random_state=211, n_jobs=3, \n",
    "                            multi_class='multinomial', solver='lbfgs', \n",
    "                            class_weight='balanced')"
   ]
  },
  {
   "cell_type": "code",
   "execution_count": 90,
   "metadata": {},
   "outputs": [
    {
     "data": {
      "text/plain": [
       "LogisticRegression(C=0.1, class_weight='balanced', dual=False,\n",
       "          fit_intercept=True, intercept_scaling=1, max_iter=100,\n",
       "          multi_class='multinomial', n_jobs=3, penalty='l2',\n",
       "          random_state=211, solver='lbfgs', tol=0.0001, verbose=0,\n",
       "          warm_start=False)"
      ]
     },
     "execution_count": 90,
     "metadata": {},
     "output_type": "execute_result"
    }
   ],
   "source": [
    "logreg.fit(X_train_sc, y_train)"
   ]
  },
  {
   "cell_type": "code",
   "execution_count": 91,
   "metadata": {},
   "outputs": [
    {
     "data": {
      "text/plain": [
       "0.14883427851291745"
      ]
     },
     "execution_count": 91,
     "metadata": {},
     "output_type": "execute_result"
    }
   ],
   "source": [
    "logreg.score(X_test_sc, y_test)"
   ]
  },
  {
   "cell_type": "markdown",
   "metadata": {},
   "source": [
    "**Save Final Logistic Regression to Disk**"
   ]
  },
  {
   "cell_type": "code",
   "execution_count": 92,
   "metadata": {},
   "outputs": [
    {
     "data": {
      "text/plain": [
       "['../models/logreg']"
      ]
     },
     "execution_count": 92,
     "metadata": {},
     "output_type": "execute_result"
    }
   ],
   "source": [
    "joblib.dump(logreg, '../models/logreg')\n",
    " \n",
    "# some time later...\n",
    " \n",
    "# load the model from disk\n",
    "#logreg = joblib.load('./models/logreg')"
   ]
  },
  {
   "cell_type": "markdown",
   "metadata": {},
   "source": [
    "## 4.3 Recurrent Neural Net"
   ]
  },
  {
   "cell_type": "markdown",
   "metadata": {},
   "source": [
    "### 4.3.1 Keras FFRNN Assembly"
   ]
  },
  {
   "cell_type": "markdown",
   "metadata": {},
   "source": [
    "**RNN Parameters**"
   ]
  },
  {
   "cell_type": "code",
   "execution_count": 33,
   "metadata": {},
   "outputs": [],
   "source": [
    "dropout_pct = .25\n",
    "dense_1_nodes = 64\n",
    "dense_2_nodes = 128\n",
    "dense_3_nodes = 64\n",
    "target_nodes = 20\n",
    "epochs = 50\n",
    "batch_size = 1000\n",
    "patience = 20"
   ]
  },
  {
   "cell_type": "code",
   "execution_count": 35,
   "metadata": {},
   "outputs": [],
   "source": [
    "model = Sequential()\n",
    "model.add(Dense(X_train_sc.shape[0], input_dim=X_train_sc.shape[1], activation='relu'))\n",
    "model.add(Dropout(rate=dropout_pct))\n",
    "model.add(Dense(dense_1_nodes, activation='relu'))\n",
    "model.add(Dropout(rate=dropout_pct))\n",
    "model.add(Dense(dense_2_nodes, activation='relu'))\n",
    "model.add(Dropout(rate=dropout_pct))\n",
    "model.add(Dense(dense_3_nodes, activation='relu'))\n",
    "model.add(Dense(y_test_d.shape[1], activation=None))\n",
    "model.add(Activation(tf.nn.softmax))"
   ]
  },
  {
   "cell_type": "code",
   "execution_count": 36,
   "metadata": {},
   "outputs": [],
   "source": [
    "model.compile(loss='categorical_crossentropy', optimizer='adam', metrics=['accuracy'])"
   ]
  },
  {
   "cell_type": "code",
   "execution_count": 37,
   "metadata": {},
   "outputs": [],
   "source": [
    "early_stop = EarlyStopping(monitor='val_loss', min_delta=0, patience=patience, verbose=1, mode='auto')"
   ]
  },
  {
   "cell_type": "code",
   "execution_count": 38,
   "metadata": {
    "scrolled": false
   },
   "outputs": [
    {
     "name": "stdout",
     "output_type": "stream",
     "text": [
      "WARNING:tensorflow:From /home/ubuntu/anaconda3/envs/tensorflow_p36/lib/python3.6/site-packages/tensorflow/python/ops/math_ops.py:3066: to_int32 (from tensorflow.python.ops.math_ops) is deprecated and will be removed in a future version.\n",
      "Instructions for updating:\n",
      "Use tf.cast instead.\n",
      "Train on 63932 samples, validate on 7935 samples\n",
      "Epoch 1/50\n",
      "63932/63932 [==============================] - 9s 142us/step - loss: 7324.1542 - acc: 0.4097 - val_loss: 3.1172 - val_acc: 0.1061\n",
      "Epoch 2/50\n",
      "63932/63932 [==============================] - 7s 113us/step - loss: 5533.5788 - acc: 0.5070 - val_loss: 3.2161 - val_acc: 0.1086\n",
      "Epoch 3/50\n",
      "63932/63932 [==============================] - 7s 114us/step - loss: 5000.9352 - acc: 0.5387 - val_loss: 3.1638 - val_acc: 0.1183\n",
      "Epoch 4/50\n",
      "63932/63932 [==============================] - 7s 113us/step - loss: 4610.8830 - acc: 0.5653 - val_loss: 3.0923 - val_acc: 0.1318\n",
      "Epoch 5/50\n",
      "63932/63932 [==============================] - 7s 114us/step - loss: 4314.5498 - acc: 0.5843 - val_loss: 3.2689 - val_acc: 0.1395\n",
      "Epoch 6/50\n",
      "63932/63932 [==============================] - 7s 114us/step - loss: 3994.5395 - acc: 0.6041 - val_loss: 3.3451 - val_acc: 0.1207\n",
      "Epoch 7/50\n",
      "63932/63932 [==============================] - 7s 114us/step - loss: 3769.3244 - acc: 0.6182 - val_loss: 3.5595 - val_acc: 0.1352\n",
      "Epoch 8/50\n",
      "63932/63932 [==============================] - 7s 113us/step - loss: 3642.7389 - acc: 0.6284 - val_loss: 3.6390 - val_acc: 0.1244\n",
      "Epoch 9/50\n",
      "63932/63932 [==============================] - 7s 113us/step - loss: 3432.8512 - acc: 0.6438 - val_loss: 3.6010 - val_acc: 0.1221\n",
      "Epoch 10/50\n",
      "63932/63932 [==============================] - 7s 115us/step - loss: 3236.1308 - acc: 0.6564 - val_loss: 3.5767 - val_acc: 0.1425\n",
      "Epoch 11/50\n",
      "63932/63932 [==============================] - 7s 114us/step - loss: 3082.2756 - acc: 0.6671 - val_loss: 3.8700 - val_acc: 0.1302\n",
      "Epoch 12/50\n",
      "63932/63932 [==============================] - 7s 114us/step - loss: 2935.1604 - acc: 0.6789 - val_loss: 4.0242 - val_acc: 0.1220\n",
      "Epoch 13/50\n",
      "63932/63932 [==============================] - 7s 114us/step - loss: 2784.0252 - acc: 0.6933 - val_loss: 4.1369 - val_acc: 0.1080\n",
      "Epoch 14/50\n",
      "63932/63932 [==============================] - 7s 115us/step - loss: 2739.7040 - acc: 0.6955 - val_loss: 4.1100 - val_acc: 0.1293\n",
      "Epoch 15/50\n",
      "63932/63932 [==============================] - 7s 116us/step - loss: 2586.0228 - acc: 0.7085 - val_loss: 3.9126 - val_acc: 0.1398\n",
      "Epoch 16/50\n",
      "63932/63932 [==============================] - 7s 115us/step - loss: 2474.0085 - acc: 0.7177 - val_loss: 4.2443 - val_acc: 0.1304\n",
      "Epoch 17/50\n",
      "63932/63932 [==============================] - 7s 115us/step - loss: 2367.4778 - acc: 0.7252 - val_loss: 4.2494 - val_acc: 0.1293\n",
      "Epoch 18/50\n",
      "63932/63932 [==============================] - 7s 115us/step - loss: 2268.0460 - acc: 0.7347 - val_loss: 4.2284 - val_acc: 0.1486\n",
      "Epoch 19/50\n",
      "63932/63932 [==============================] - 7s 115us/step - loss: 2148.3005 - acc: 0.7450 - val_loss: 4.4459 - val_acc: 0.1360\n",
      "Epoch 20/50\n",
      "63932/63932 [==============================] - 7s 115us/step - loss: 2146.2883 - acc: 0.7477 - val_loss: 4.5117 - val_acc: 0.1337\n",
      "Epoch 21/50\n",
      "63932/63932 [==============================] - 7s 115us/step - loss: 2089.4013 - acc: 0.7536 - val_loss: 4.4854 - val_acc: 0.1422\n",
      "Epoch 22/50\n",
      "63932/63932 [==============================] - 7s 115us/step - loss: 2033.3079 - acc: 0.7585 - val_loss: 4.6854 - val_acc: 0.1284\n",
      "Epoch 23/50\n",
      "63932/63932 [==============================] - 7s 115us/step - loss: 1885.1645 - acc: 0.7682 - val_loss: 4.4592 - val_acc: 0.1456\n",
      "Epoch 24/50\n",
      "63932/63932 [==============================] - 7s 114us/step - loss: 1859.2187 - acc: 0.7707 - val_loss: 4.3033 - val_acc: 0.1464\n",
      "Epoch 00024: early stopping\n"
     ]
    }
   ],
   "source": [
    "history = model.fit(X_train_sc, \n",
    "                    y_train_d, \n",
    "                    validation_data=(X_test_sc, y_test_d), \n",
    "                    epochs=epochs, \n",
    "                    batch_size=batch_size, \n",
    "                    callbacks=[early_stop], \n",
    "                    class_weight=class_weights\n",
    "                   )"
   ]
  },
  {
   "cell_type": "markdown",
   "metadata": {},
   "source": [
    "**With Class Weights**"
   ]
  },
  {
   "cell_type": "code",
   "execution_count": 39,
   "metadata": {},
   "outputs": [
    {
     "data": {
      "text/plain": [
       "<matplotlib.legend.Legend at 0x7f6b187f1160>"
      ]
     },
     "execution_count": 39,
     "metadata": {},
     "output_type": "execute_result"
    },
    {
     "data": {
      "image/png": "[encoded data removed]",
      "text/plain": [
       "<Figure size 432x288 with 1 Axes>"
      ]
     },
     "metadata": {},
     "output_type": "display_data"
    }
   ],
   "source": [
    "train_loss = history.history['loss']\n",
    "test_loss = history.history['val_loss']\n",
    "plt.plot(train_loss, label='Training loss')\n",
    "plt.plot(test_loss, label='Testing loss')\n",
    "plt.legend()"
   ]
  },
  {
   "cell_type": "markdown",
   "metadata": {},
   "source": [
    "### 4.4.2 Keras FFRNN Optimization"
   ]
  },
  {
   "cell_type": "markdown",
   "metadata": {},
   "source": [
    "Dropout percentage searched manually over terms:\n",
    "\n",
    "`.5, .45, .4, .35, .3, .25, .2, .15, .1, .05, 0`"
   ]
  },
  {
   "cell_type": "code",
   "execution_count": 40,
   "metadata": {},
   "outputs": [],
   "source": [
    "rnn_opt_params = {\n",
    "    'dropout_pct' : [0],\n",
    "    'dense_1_nodes' : [128, 256],\n",
    "    'dense_2_nodes' : [64, 128],\n",
    "    'dense_3_nodes' : [32, 64],\n",
    "    'target_nodes' : [20],\n",
    "    'epochs' : [30],\n",
    "    'batch_size' : [1000],\n",
    "    'patience' : [5]\n",
    "}"
   ]
  },
  {
   "cell_type": "code",
   "execution_count": 41,
   "metadata": {
    "scrolled": false
   },
   "outputs": [
    {
     "name": "stdout",
     "output_type": "stream",
     "text": [
      "dropout_pct         0.0\n",
      "dense_1_nodes     128.0\n",
      "dense_2_nodes      64.0\n",
      "dense_3_nodes      32.0\n",
      "target_nodes       20.0\n",
      "epochs             30.0\n",
      "batch_size       1000.0\n",
      "patience            5.0\n",
      "dtype: float64\n",
      "Acc: 0.7979399992676659\n",
      "Val Acc: 0.15107750458972646\n",
      "dropout_pct         0.0\n",
      "dense_1_nodes     128.0\n",
      "dense_2_nodes      64.0\n",
      "dense_3_nodes      64.0\n",
      "target_nodes       20.0\n",
      "epochs             30.0\n",
      "batch_size       1000.0\n",
      "patience            5.0\n",
      "dtype: float64\n",
      "Acc: 0.7127041231162358\n",
      "Val Acc: 0.14691871389695024\n",
      "dropout_pct         0.0\n",
      "dense_1_nodes     128.0\n",
      "dense_2_nodes     128.0\n",
      "dense_3_nodes      32.0\n",
      "target_nodes       20.0\n",
      "epochs             30.0\n",
      "batch_size       1000.0\n",
      "patience            5.0\n",
      "dtype: float64\n",
      "Acc: 0.7555788443471727\n",
      "Val Acc: 0.1500525097400842\n",
      "dropout_pct         0.0\n",
      "dense_1_nodes     128.0\n",
      "dense_2_nodes     128.0\n",
      "dense_3_nodes      64.0\n",
      "target_nodes       20.0\n",
      "epochs             30.0\n",
      "batch_size       1000.0\n",
      "patience            5.0\n",
      "dtype: float64\n",
      "Acc: 0.6809090136030661\n",
      "Val Acc: 0.15374921196009483\n",
      "dropout_pct         0.0\n",
      "dense_1_nodes     256.0\n",
      "dense_2_nodes      64.0\n",
      "dense_3_nodes      32.0\n",
      "target_nodes       20.0\n",
      "epochs             30.0\n",
      "batch_size       1000.0\n",
      "patience            5.0\n",
      "dtype: float64\n",
      "Acc: 0.6251106082938195\n",
      "Val Acc: 0.12503375749342904\n",
      "dropout_pct         0.0\n",
      "dense_1_nodes     256.0\n",
      "dense_2_nodes      64.0\n",
      "dense_3_nodes      64.0\n",
      "target_nodes       20.0\n",
      "epochs             30.0\n",
      "batch_size       1000.0\n",
      "patience            5.0\n",
      "dtype: float64\n",
      "Acc: 0.6556944438779075\n",
      "Val Acc: 0.1374381132942313\n",
      "dropout_pct         0.0\n",
      "dense_1_nodes     256.0\n",
      "dense_2_nodes     128.0\n",
      "dense_3_nodes      32.0\n",
      "target_nodes       20.0\n",
      "epochs             30.0\n",
      "batch_size       1000.0\n",
      "patience            5.0\n",
      "dtype: float64\n",
      "Acc: 0.8004936172519639\n",
      "Val Acc: 0.15091698977096635\n",
      "dropout_pct         0.0\n",
      "dense_1_nodes     256.0\n",
      "dense_2_nodes     128.0\n",
      "dense_3_nodes      64.0\n",
      "target_nodes       20.0\n",
      "epochs             30.0\n",
      "batch_size       1000.0\n",
      "patience            5.0\n",
      "dtype: float64\n",
      "Acc: 0.7253394223844734\n",
      "Val Acc: 0.15579079931112455\n"
     ]
    },
    {
     "data": {
      "text/html": [
       "<div>\n",
       "<style scoped>\n",
       "    .dataframe tbody tr th:only-of-type {\n",
       "        vertical-align: middle;\n",
       "    }\n",
       "\n",
       "    .dataframe tbody tr th {\n",
       "        vertical-align: top;\n",
       "    }\n",
       "\n",
       "    .dataframe thead th {\n",
       "        text-align: right;\n",
       "    }\n",
       "</style>\n",
       "<table border=\"1\" class=\"dataframe\">\n",
       "  <thead>\n",
       "    <tr style=\"text-align: right;\">\n",
       "      <th></th>\n",
       "      <th>dropout_pct</th>\n",
       "      <th>dense_1_nodes</th>\n",
       "      <th>dense_2_nodes</th>\n",
       "      <th>dense_3_nodes</th>\n",
       "      <th>target_nodes</th>\n",
       "      <th>epochs</th>\n",
       "      <th>batch_size</th>\n",
       "      <th>patience</th>\n",
       "      <th>train_loss</th>\n",
       "      <th>test_loss</th>\n",
       "      <th>train_acc</th>\n",
       "      <th>test_acc</th>\n",
       "    </tr>\n",
       "  </thead>\n",
       "  <tbody>\n",
       "    <tr>\n",
       "      <th>0</th>\n",
       "      <td>0.0</td>\n",
       "      <td>128.0</td>\n",
       "      <td>64.0</td>\n",
       "      <td>32.0</td>\n",
       "      <td>20.0</td>\n",
       "      <td>30.0</td>\n",
       "      <td>1000.0</td>\n",
       "      <td>5.0</td>\n",
       "      <td>[7000.47649736732, 4675.093412697035, 3971.401...</td>\n",
       "      <td>[3.2396667289072867, 3.2491806166383856, 3.355...</td>\n",
       "      <td>[0.4410623776004057, 0.571231932609645, 0.6182...</td>\n",
       "      <td>[0.11644612221257372, 0.11291745199664029, 0.1...</td>\n",
       "    </tr>\n",
       "    <tr>\n",
       "      <th>1</th>\n",
       "      <td>0.0</td>\n",
       "      <td>128.0</td>\n",
       "      <td>64.0</td>\n",
       "      <td>64.0</td>\n",
       "      <td>20.0</td>\n",
       "      <td>30.0</td>\n",
       "      <td>1000.0</td>\n",
       "      <td>5.0</td>\n",
       "      <td>[6411.526916538275, 4326.956224729009, 3750.69...</td>\n",
       "      <td>[3.2980531997175886, 3.3142742964931458, 3.365...</td>\n",
       "      <td>[0.47545829559410346, 0.591738094907898, 0.635...</td>\n",
       "      <td>[0.11770636534814799, 0.1257718953068668, 0.15...</td>\n",
       "    </tr>\n",
       "    <tr>\n",
       "      <th>2</th>\n",
       "      <td>0.0</td>\n",
       "      <td>128.0</td>\n",
       "      <td>128.0</td>\n",
       "      <td>32.0</td>\n",
       "      <td>20.0</td>\n",
       "      <td>30.0</td>\n",
       "      <td>1000.0</td>\n",
       "      <td>5.0</td>\n",
       "      <td>[6981.225339276497, 4677.000521641891, 4014.63...</td>\n",
       "      <td>[3.30319941892666, 3.2115299261510186, 3.35187...</td>\n",
       "      <td>[0.4546549452488215, 0.5768629154544117, 0.616...</td>\n",
       "      <td>[0.12665406417127442, 0.13232514326928374, 0.1...</td>\n",
       "    </tr>\n",
       "    <tr>\n",
       "      <th>3</th>\n",
       "      <td>0.0</td>\n",
       "      <td>128.0</td>\n",
       "      <td>128.0</td>\n",
       "      <td>64.0</td>\n",
       "      <td>20.0</td>\n",
       "      <td>30.0</td>\n",
       "      <td>1000.0</td>\n",
       "      <td>5.0</td>\n",
       "      <td>[6289.711426636651, 4343.899238827485, 3696.32...</td>\n",
       "      <td>[3.3623245672828084, 3.6025079355798733, 3.438...</td>\n",
       "      <td>[0.4719858592271111, 0.5880310307163354, 0.637...</td>\n",
       "      <td>[0.13585381371467348, 0.11052299959781077, 0.1...</td>\n",
       "    </tr>\n",
       "    <tr>\n",
       "      <th>4</th>\n",
       "      <td>0.0</td>\n",
       "      <td>256.0</td>\n",
       "      <td>64.0</td>\n",
       "      <td>32.0</td>\n",
       "      <td>20.0</td>\n",
       "      <td>30.0</td>\n",
       "      <td>1000.0</td>\n",
       "      <td>5.0</td>\n",
       "      <td>[7743.777058382099, 4915.8313539556675, 4134.4...</td>\n",
       "      <td>[3.6170854648104536, 3.243385871702121, 3.5585...</td>\n",
       "      <td>[0.43496214673818107, 0.5569980636426447, 0.60...</td>\n",
       "      <td>[0.11039697907210129, 0.13144297359444357, 0.1...</td>\n",
       "    </tr>\n",
       "  </tbody>\n",
       "</table>\n",
       "</div>"
      ],
      "text/plain": [
       "   dropout_pct  dense_1_nodes  dense_2_nodes  dense_3_nodes  target_nodes  \\\n",
       "0          0.0          128.0           64.0           32.0          20.0   \n",
       "1          0.0          128.0           64.0           64.0          20.0   \n",
       "2          0.0          128.0          128.0           32.0          20.0   \n",
       "3          0.0          128.0          128.0           64.0          20.0   \n",
       "4          0.0          256.0           64.0           32.0          20.0   \n",
       "\n",
       "   epochs  batch_size  patience  \\\n",
       "0    30.0      1000.0       5.0   \n",
       "1    30.0      1000.0       5.0   \n",
       "2    30.0      1000.0       5.0   \n",
       "3    30.0      1000.0       5.0   \n",
       "4    30.0      1000.0       5.0   \n",
       "\n",
       "                                          train_loss  \\\n",
       "0  [7000.47649736732, 4675.093412697035, 3971.401...   \n",
       "1  [6411.526916538275, 4326.956224729009, 3750.69...   \n",
       "2  [6981.225339276497, 4677.000521641891, 4014.63...   \n",
       "3  [6289.711426636651, 4343.899238827485, 3696.32...   \n",
       "4  [7743.777058382099, 4915.8313539556675, 4134.4...   \n",
       "\n",
       "                                           test_loss  \\\n",
       "0  [3.2396667289072867, 3.2491806166383856, 3.355...   \n",
       "1  [3.2980531997175886, 3.3142742964931458, 3.365...   \n",
       "2  [3.30319941892666, 3.2115299261510186, 3.35187...   \n",
       "3  [3.3623245672828084, 3.6025079355798733, 3.438...   \n",
       "4  [3.6170854648104536, 3.243385871702121, 3.5585...   \n",
       "\n",
       "                                           train_acc  \\\n",
       "0  [0.4410623776004057, 0.571231932609645, 0.6182...   \n",
       "1  [0.47545829559410346, 0.591738094907898, 0.635...   \n",
       "2  [0.4546549452488215, 0.5768629154544117, 0.616...   \n",
       "3  [0.4719858592271111, 0.5880310307163354, 0.637...   \n",
       "4  [0.43496214673818107, 0.5569980636426447, 0.60...   \n",
       "\n",
       "                                            test_acc  \n",
       "0  [0.11644612221257372, 0.11291745199664029, 0.1...  \n",
       "1  [0.11770636534814799, 0.1257718953068668, 0.15...  \n",
       "2  [0.12665406417127442, 0.13232514326928374, 0.1...  \n",
       "3  [0.13585381371467348, 0.11052299959781077, 0.1...  \n",
       "4  [0.11039697907210129, 0.13144297359444357, 0.1...  "
      ]
     },
     "execution_count": 41,
     "metadata": {},
     "output_type": "execute_result"
    }
   ],
   "source": [
    "rnn_df = pd.DataFrame(columns=['dropout_pct','dense_1_nodes','dense_2_nodes',\n",
    "                               'dense_3_nodes','target_nodes','epochs','batch_size',\n",
    "                               'patience'])\n",
    "train_loss_list = []\n",
    "train_acc_list = []\n",
    "test_loss_list = []\n",
    "test_acc_list = []\n",
    "\n",
    "for dp in rnn_opt_params['dropout_pct']:\n",
    "    for d1 in rnn_opt_params['dense_1_nodes']:\n",
    "        for d2 in rnn_opt_params['dense_2_nodes']:\n",
    "            for d3 in rnn_opt_params['dense_3_nodes']:\n",
    "                for tn in rnn_opt_params['target_nodes']:\n",
    "                    for e in rnn_opt_params['epochs']:\n",
    "                        for bs in rnn_opt_params['batch_size']:\n",
    "                            for p in rnn_opt_params['patience']:\n",
    "                                temp_df = pd.Series(index=['dropout_pct','dense_1_nodes','dense_2_nodes',\n",
    "                                                                'dense_3_nodes','target_nodes','epochs',\n",
    "                                                                'batch_size','patience'])\n",
    "                                temp_df['dropout_pct'] = dp\n",
    "                                temp_df['dense_1_nodes'] = d1\n",
    "                                temp_df['dense_2_nodes'] = d2\n",
    "                                temp_df['dense_3_nodes'] = d3\n",
    "                                temp_df['target_nodes'] = tn\n",
    "                                temp_df['epochs'] = e\n",
    "                                temp_df['batch_size'] = bs\n",
    "                                temp_df['patience'] = p\n",
    "                                \n",
    "                                model = Sequential()\n",
    "                                model.add(Dense(X_train_sc.shape[0], input_dim=X_train_sc.shape[1], activation='relu'))\n",
    "                                model.add(Dropout(rate=dp))\n",
    "                                model.add(Dense(d1, activation='relu'))\n",
    "                                model.add(Dropout(rate=dp))\n",
    "                                model.add(Dense(d2, activation='relu'))\n",
    "                                model.add(Dropout(rate=dp))\n",
    "                                model.add(Dense(d3, activation='relu'))\n",
    "                                model.add(Dense(y_test_d.shape[1], activation=None))\n",
    "                                model.add(Activation(tf.nn.softmax))\n",
    "                                model.compile(loss='categorical_crossentropy', \n",
    "                                              optimizer='adam', \n",
    "                                              metrics=['accuracy'], \n",
    "                                              weighted_metrics=['accuracy'])\n",
    "                                early_stop = EarlyStopping(monitor='val_acc', \n",
    "                                                                min_delta=0, patience=p, \n",
    "                                                                verbose=0, mode='auto')\n",
    "                                history = model.fit(X_train_sc, \n",
    "                                                    y_train_d, \n",
    "                                                    validation_data=(X_test_sc, y_test_d), \n",
    "                                                    epochs=e, \n",
    "                                                    batch_size=bs, \n",
    "                                                    callbacks=[early_stop], \n",
    "                                                    class_weight=class_weights, \n",
    "                                                    verbose=0)\n",
    "                                \n",
    "                                train_loss_list.append(history.history['loss'])\n",
    "                                test_loss_list.append(history.history['val_loss'])\n",
    "                                train_acc_list.append(history.history['acc'])\n",
    "                                test_acc_list.append(history.history['val_acc'])\n",
    "                                \n",
    "                                rnn_df = rnn_df.append(temp_df, ignore_index=True)\n",
    "                                print(temp_df)\n",
    "                                print('Acc:',np.mean(history.history['acc']))\n",
    "                                print('Val Acc:',np.mean(history.history['val_acc']))\n",
    "\n",
    "rnn_df['train_loss'] = train_loss_list\n",
    "rnn_df['test_loss'] = test_loss_list\n",
    "rnn_df['train_acc'] = train_acc_list\n",
    "rnn_df['test_acc'] = test_acc_list\n",
    "rnn_df.head()"
   ]
  },
  {
   "cell_type": "code",
   "execution_count": 38,
   "metadata": {},
   "outputs": [],
   "source": [
    "# rnn_runs_df = rnn_df"
   ]
  },
  {
   "cell_type": "code",
   "execution_count": 42,
   "metadata": {},
   "outputs": [],
   "source": [
    "rnn_runs_df = rnn_runs_df.append(rnn_df).reset_index(drop=True)"
   ]
  },
  {
   "cell_type": "code",
   "execution_count": 43,
   "metadata": {},
   "outputs": [
    {
     "data": {
      "text/plain": [
       "(88, 12)"
      ]
     },
     "execution_count": 43,
     "metadata": {},
     "output_type": "execute_result"
    }
   ],
   "source": [
    "rnn_runs_df.shape"
   ]
  },
  {
   "cell_type": "code",
   "execution_count": 44,
   "metadata": {},
   "outputs": [
    {
     "data": {
      "text/html": [
       "<div>\n",
       "<style scoped>\n",
       "    .dataframe tbody tr th:only-of-type {\n",
       "        vertical-align: middle;\n",
       "    }\n",
       "\n",
       "    .dataframe tbody tr th {\n",
       "        vertical-align: top;\n",
       "    }\n",
       "\n",
       "    .dataframe thead th {\n",
       "        text-align: right;\n",
       "    }\n",
       "</style>\n",
       "<table border=\"1\" class=\"dataframe\">\n",
       "  <thead>\n",
       "    <tr style=\"text-align: right;\">\n",
       "      <th></th>\n",
       "      <th>dropout_pct</th>\n",
       "      <th>dense_1_nodes</th>\n",
       "      <th>dense_2_nodes</th>\n",
       "      <th>dense_3_nodes</th>\n",
       "      <th>target_nodes</th>\n",
       "      <th>epochs</th>\n",
       "      <th>batch_size</th>\n",
       "      <th>patience</th>\n",
       "      <th>train_loss</th>\n",
       "      <th>test_loss</th>\n",
       "      <th>train_acc</th>\n",
       "      <th>test_acc</th>\n",
       "    </tr>\n",
       "  </thead>\n",
       "  <tbody>\n",
       "    <tr>\n",
       "      <th>83</th>\n",
       "      <td>0.0</td>\n",
       "      <td>128.0</td>\n",
       "      <td>128.0</td>\n",
       "      <td>64.0</td>\n",
       "      <td>20.0</td>\n",
       "      <td>30.0</td>\n",
       "      <td>1000.0</td>\n",
       "      <td>5.0</td>\n",
       "      <td>[6289.711426636651, 4343.899238827485, 3696.32...</td>\n",
       "      <td>[3.3623245672828084, 3.6025079355798733, 3.438...</td>\n",
       "      <td>[0.4719858592271111, 0.5880310307163354, 0.637...</td>\n",
       "      <td>[0.13585381371467348, 0.11052299959781077, 0.1...</td>\n",
       "    </tr>\n",
       "    <tr>\n",
       "      <th>84</th>\n",
       "      <td>0.0</td>\n",
       "      <td>256.0</td>\n",
       "      <td>64.0</td>\n",
       "      <td>32.0</td>\n",
       "      <td>20.0</td>\n",
       "      <td>30.0</td>\n",
       "      <td>1000.0</td>\n",
       "      <td>5.0</td>\n",
       "      <td>[7743.777058382099, 4915.8313539556675, 4134.4...</td>\n",
       "      <td>[3.6170854648104536, 3.243385871702121, 3.5585...</td>\n",
       "      <td>[0.43496214673818107, 0.5569980636426447, 0.60...</td>\n",
       "      <td>[0.11039697907210129, 0.13144297359444357, 0.1...</td>\n",
       "    </tr>\n",
       "    <tr>\n",
       "      <th>85</th>\n",
       "      <td>0.0</td>\n",
       "      <td>256.0</td>\n",
       "      <td>64.0</td>\n",
       "      <td>64.0</td>\n",
       "      <td>20.0</td>\n",
       "      <td>30.0</td>\n",
       "      <td>1000.0</td>\n",
       "      <td>5.0</td>\n",
       "      <td>[6351.177239830992, 4421.104237155787, 3779.57...</td>\n",
       "      <td>[3.4931962210649803, 3.091948292130709, 3.6197...</td>\n",
       "      <td>[0.47222048397271704, 0.5856065827653233, 0.63...</td>\n",
       "      <td>[0.10560806609558736, 0.18323881179094315, 0.1...</td>\n",
       "    </tr>\n",
       "    <tr>\n",
       "      <th>86</th>\n",
       "      <td>0.0</td>\n",
       "      <td>256.0</td>\n",
       "      <td>128.0</td>\n",
       "      <td>32.0</td>\n",
       "      <td>20.0</td>\n",
       "      <td>30.0</td>\n",
       "      <td>1000.0</td>\n",
       "      <td>5.0</td>\n",
       "      <td>[6742.465438742531, 4611.957481771404, 3943.60...</td>\n",
       "      <td>[3.386409793173508, 3.2864797131851473, 3.4490...</td>\n",
       "      <td>[0.4582525178750935, 0.5785052836526807, 0.625...</td>\n",
       "      <td>[0.1214870806506447, 0.12488972678048174, 0.13...</td>\n",
       "    </tr>\n",
       "    <tr>\n",
       "      <th>87</th>\n",
       "      <td>0.0</td>\n",
       "      <td>256.0</td>\n",
       "      <td>128.0</td>\n",
       "      <td>64.0</td>\n",
       "      <td>20.0</td>\n",
       "      <td>30.0</td>\n",
       "      <td>1000.0</td>\n",
       "      <td>5.0</td>\n",
       "      <td>[6236.77191583318, 4300.025955311894, 3648.506...</td>\n",
       "      <td>[3.3483060630673345, 3.270634562547055, 3.5625...</td>\n",
       "      <td>[0.4777419780118403, 0.5934273885828841, 0.641...</td>\n",
       "      <td>[0.13774416709780016, 0.13547573766301996, 0.1...</td>\n",
       "    </tr>\n",
       "  </tbody>\n",
       "</table>\n",
       "</div>"
      ],
      "text/plain": [
       "    dropout_pct  dense_1_nodes  dense_2_nodes  dense_3_nodes  target_nodes  \\\n",
       "83          0.0          128.0          128.0           64.0          20.0   \n",
       "84          0.0          256.0           64.0           32.0          20.0   \n",
       "85          0.0          256.0           64.0           64.0          20.0   \n",
       "86          0.0          256.0          128.0           32.0          20.0   \n",
       "87          0.0          256.0          128.0           64.0          20.0   \n",
       "\n",
       "    epochs  batch_size  patience  \\\n",
       "83    30.0      1000.0       5.0   \n",
       "84    30.0      1000.0       5.0   \n",
       "85    30.0      1000.0       5.0   \n",
       "86    30.0      1000.0       5.0   \n",
       "87    30.0      1000.0       5.0   \n",
       "\n",
       "                                           train_loss  \\\n",
       "83  [6289.711426636651, 4343.899238827485, 3696.32...   \n",
       "84  [7743.777058382099, 4915.8313539556675, 4134.4...   \n",
       "85  [6351.177239830992, 4421.104237155787, 3779.57...   \n",
       "86  [6742.465438742531, 4611.957481771404, 3943.60...   \n",
       "87  [6236.77191583318, 4300.025955311894, 3648.506...   \n",
       "\n",
       "                                            test_loss  \\\n",
       "83  [3.3623245672828084, 3.6025079355798733, 3.438...   \n",
       "84  [3.6170854648104536, 3.243385871702121, 3.5585...   \n",
       "85  [3.4931962210649803, 3.091948292130709, 3.6197...   \n",
       "86  [3.386409793173508, 3.2864797131851473, 3.4490...   \n",
       "87  [3.3483060630673345, 3.270634562547055, 3.5625...   \n",
       "\n",
       "                                            train_acc  \\\n",
       "83  [0.4719858592271111, 0.5880310307163354, 0.637...   \n",
       "84  [0.43496214673818107, 0.5569980636426447, 0.60...   \n",
       "85  [0.47222048397271704, 0.5856065827653233, 0.63...   \n",
       "86  [0.4582525178750935, 0.5785052836526807, 0.625...   \n",
       "87  [0.4777419780118403, 0.5934273885828841, 0.641...   \n",
       "\n",
       "                                             test_acc  \n",
       "83  [0.13585381371467348, 0.11052299959781077, 0.1...  \n",
       "84  [0.11039697907210129, 0.13144297359444357, 0.1...  \n",
       "85  [0.10560806609558736, 0.18323881179094315, 0.1...  \n",
       "86  [0.1214870806506447, 0.12488972678048174, 0.13...  \n",
       "87  [0.13774416709780016, 0.13547573766301996, 0.1...  "
      ]
     },
     "execution_count": 44,
     "metadata": {},
     "output_type": "execute_result"
    }
   ],
   "source": [
    "rnn_runs_df.tail()"
   ]
  },
  {
   "cell_type": "markdown",
   "metadata": {},
   "source": [
    "**Save RNN Results DataFrame**"
   ]
  },
  {
   "cell_type": "code",
   "execution_count": 45,
   "metadata": {},
   "outputs": [],
   "source": [
    "# rnn_runs_df.to_csv('../models/rnn_runs_df.csv', index=False)"
   ]
  },
  {
   "cell_type": "markdown",
   "metadata": {},
   "source": [
    "**Load RNN Results DataFrame**"
   ]
  },
  {
   "cell_type": "code",
   "execution_count": 33,
   "metadata": {},
   "outputs": [
    {
     "data": {
      "text/html": [
       "<div>\n",
       "<style scoped>\n",
       "    .dataframe tbody tr th:only-of-type {\n",
       "        vertical-align: middle;\n",
       "    }\n",
       "\n",
       "    .dataframe tbody tr th {\n",
       "        vertical-align: top;\n",
       "    }\n",
       "\n",
       "    .dataframe thead th {\n",
       "        text-align: right;\n",
       "    }\n",
       "</style>\n",
       "<table border=\"1\" class=\"dataframe\">\n",
       "  <thead>\n",
       "    <tr style=\"text-align: right;\">\n",
       "      <th></th>\n",
       "      <th>dropout_pct</th>\n",
       "      <th>dense_1_nodes</th>\n",
       "      <th>dense_2_nodes</th>\n",
       "      <th>dense_3_nodes</th>\n",
       "      <th>target_nodes</th>\n",
       "      <th>epochs</th>\n",
       "      <th>batch_size</th>\n",
       "      <th>patience</th>\n",
       "      <th>train_loss</th>\n",
       "      <th>test_loss</th>\n",
       "      <th>train_acc</th>\n",
       "      <th>test_acc</th>\n",
       "    </tr>\n",
       "  </thead>\n",
       "  <tbody>\n",
       "    <tr>\n",
       "      <th>83</th>\n",
       "      <td>0.0</td>\n",
       "      <td>128.0</td>\n",
       "      <td>128.0</td>\n",
       "      <td>64.0</td>\n",
       "      <td>20.0</td>\n",
       "      <td>30.0</td>\n",
       "      <td>1000.0</td>\n",
       "      <td>5.0</td>\n",
       "      <td>[6289.711426636651, 4343.899238827485, 3696.32...</td>\n",
       "      <td>[3.3623245672828084, 3.6025079355798733, 3.438...</td>\n",
       "      <td>[0.4719858592271111, 0.5880310307163354, 0.637...</td>\n",
       "      <td>[0.13585381371467348, 0.11052299959781077, 0.1...</td>\n",
       "    </tr>\n",
       "    <tr>\n",
       "      <th>84</th>\n",
       "      <td>0.0</td>\n",
       "      <td>256.0</td>\n",
       "      <td>64.0</td>\n",
       "      <td>32.0</td>\n",
       "      <td>20.0</td>\n",
       "      <td>30.0</td>\n",
       "      <td>1000.0</td>\n",
       "      <td>5.0</td>\n",
       "      <td>[7743.777058382099, 4915.8313539556675, 4134.4...</td>\n",
       "      <td>[3.6170854648104536, 3.243385871702121, 3.5585...</td>\n",
       "      <td>[0.43496214673818107, 0.5569980636426447, 0.60...</td>\n",
       "      <td>[0.11039697907210129, 0.13144297359444357, 0.1...</td>\n",
       "    </tr>\n",
       "    <tr>\n",
       "      <th>85</th>\n",
       "      <td>0.0</td>\n",
       "      <td>256.0</td>\n",
       "      <td>64.0</td>\n",
       "      <td>64.0</td>\n",
       "      <td>20.0</td>\n",
       "      <td>30.0</td>\n",
       "      <td>1000.0</td>\n",
       "      <td>5.0</td>\n",
       "      <td>[6351.177239830992, 4421.104237155787, 3779.57...</td>\n",
       "      <td>[3.4931962210649803, 3.091948292130709, 3.6197...</td>\n",
       "      <td>[0.47222048397271704, 0.5856065827653233, 0.63...</td>\n",
       "      <td>[0.10560806609558736, 0.18323881179094315, 0.1...</td>\n",
       "    </tr>\n",
       "    <tr>\n",
       "      <th>86</th>\n",
       "      <td>0.0</td>\n",
       "      <td>256.0</td>\n",
       "      <td>128.0</td>\n",
       "      <td>32.0</td>\n",
       "      <td>20.0</td>\n",
       "      <td>30.0</td>\n",
       "      <td>1000.0</td>\n",
       "      <td>5.0</td>\n",
       "      <td>[6742.465438742531, 4611.957481771404, 3943.60...</td>\n",
       "      <td>[3.386409793173508, 3.2864797131851473, 3.4490...</td>\n",
       "      <td>[0.4582525178750935, 0.5785052836526807, 0.625...</td>\n",
       "      <td>[0.1214870806506447, 0.12488972678048174, 0.13...</td>\n",
       "    </tr>\n",
       "    <tr>\n",
       "      <th>87</th>\n",
       "      <td>0.0</td>\n",
       "      <td>256.0</td>\n",
       "      <td>128.0</td>\n",
       "      <td>64.0</td>\n",
       "      <td>20.0</td>\n",
       "      <td>30.0</td>\n",
       "      <td>1000.0</td>\n",
       "      <td>5.0</td>\n",
       "      <td>[6236.77191583318, 4300.025955311894, 3648.506...</td>\n",
       "      <td>[3.3483060630673345, 3.270634562547055, 3.5625...</td>\n",
       "      <td>[0.4777419780118403, 0.5934273885828841, 0.641...</td>\n",
       "      <td>[0.13774416709780016, 0.13547573766301996, 0.1...</td>\n",
       "    </tr>\n",
       "  </tbody>\n",
       "</table>\n",
       "</div>"
      ],
      "text/plain": [
       "    dropout_pct  dense_1_nodes  dense_2_nodes  dense_3_nodes  target_nodes  \\\n",
       "83          0.0          128.0          128.0           64.0          20.0   \n",
       "84          0.0          256.0           64.0           32.0          20.0   \n",
       "85          0.0          256.0           64.0           64.0          20.0   \n",
       "86          0.0          256.0          128.0           32.0          20.0   \n",
       "87          0.0          256.0          128.0           64.0          20.0   \n",
       "\n",
       "    epochs  batch_size  patience  \\\n",
       "83    30.0      1000.0       5.0   \n",
       "84    30.0      1000.0       5.0   \n",
       "85    30.0      1000.0       5.0   \n",
       "86    30.0      1000.0       5.0   \n",
       "87    30.0      1000.0       5.0   \n",
       "\n",
       "                                           train_loss  \\\n",
       "83  [6289.711426636651, 4343.899238827485, 3696.32...   \n",
       "84  [7743.777058382099, 4915.8313539556675, 4134.4...   \n",
       "85  [6351.177239830992, 4421.104237155787, 3779.57...   \n",
       "86  [6742.465438742531, 4611.957481771404, 3943.60...   \n",
       "87  [6236.77191583318, 4300.025955311894, 3648.506...   \n",
       "\n",
       "                                            test_loss  \\\n",
       "83  [3.3623245672828084, 3.6025079355798733, 3.438...   \n",
       "84  [3.6170854648104536, 3.243385871702121, 3.5585...   \n",
       "85  [3.4931962210649803, 3.091948292130709, 3.6197...   \n",
       "86  [3.386409793173508, 3.2864797131851473, 3.4490...   \n",
       "87  [3.3483060630673345, 3.270634562547055, 3.5625...   \n",
       "\n",
       "                                            train_acc  \\\n",
       "83  [0.4719858592271111, 0.5880310307163354, 0.637...   \n",
       "84  [0.43496214673818107, 0.5569980636426447, 0.60...   \n",
       "85  [0.47222048397271704, 0.5856065827653233, 0.63...   \n",
       "86  [0.4582525178750935, 0.5785052836526807, 0.625...   \n",
       "87  [0.4777419780118403, 0.5934273885828841, 0.641...   \n",
       "\n",
       "                                             test_acc  \n",
       "83  [0.13585381371467348, 0.11052299959781077, 0.1...  \n",
       "84  [0.11039697907210129, 0.13144297359444357, 0.1...  \n",
       "85  [0.10560806609558736, 0.18323881179094315, 0.1...  \n",
       "86  [0.1214870806506447, 0.12488972678048174, 0.13...  \n",
       "87  [0.13774416709780016, 0.13547573766301996, 0.1...  "
      ]
     },
     "execution_count": 33,
     "metadata": {},
     "output_type": "execute_result"
    }
   ],
   "source": [
    "# rnn_runs_df = pd.read_csv('../models/rnn_runs_df.csv')\n",
    "rnn_runs_df.tail()"
   ]
  },
  {
   "cell_type": "markdown",
   "metadata": {},
   "source": [
    "**Re-run with Next Hyperparameter HERE --^**"
   ]
  },
  {
   "cell_type": "code",
   "execution_count": 56,
   "metadata": {},
   "outputs": [
    {
     "data": {
      "text/plain": [
       "0    [0.07208569589168978, 0.06452426048102493, 0.0...\n",
       "1    [0.07536232139311952, 0.08128544497030782, 0.1...\n",
       "2    [0.06175173280635061, 0.08998109674328855, 0.0...\n",
       "3    [0.059861371879921854, 0.07561436773200943, 0....\n",
       "4    [0.06402016511549627, 0.09023314575936409, 0.1...\n",
       "Name: test_acc, dtype: object"
      ]
     },
     "execution_count": 56,
     "metadata": {},
     "output_type": "execute_result"
    }
   ],
   "source": [
    "rnn_runs_df['test_acc'].head()"
   ]
  },
  {
   "cell_type": "code",
   "execution_count": 59,
   "metadata": {},
   "outputs": [],
   "source": [
    "eval_results = []\n",
    "\n",
    "for r, result in rnn_runs_df['test_acc'].iteritems():\n",
    "    eval_results.append(ast.literal_eval(result))"
   ]
  },
  {
   "cell_type": "code",
   "execution_count": 70,
   "metadata": {},
   "outputs": [],
   "source": [
    "train_results = []\n",
    "\n",
    "for r, result in rnn_runs_df['train_acc'].iteritems():\n",
    "    train_results.append(ast.literal_eval(result))"
   ]
  },
  {
   "cell_type": "code",
   "execution_count": 74,
   "metadata": {},
   "outputs": [
    {
     "data": {
      "text/html": [
       "<div>\n",
       "<style scoped>\n",
       "    .dataframe tbody tr th:only-of-type {\n",
       "        vertical-align: middle;\n",
       "    }\n",
       "\n",
       "    .dataframe tbody tr th {\n",
       "        vertical-align: top;\n",
       "    }\n",
       "\n",
       "    .dataframe thead th {\n",
       "        text-align: right;\n",
       "    }\n",
       "</style>\n",
       "<table border=\"1\" class=\"dataframe\">\n",
       "  <thead>\n",
       "    <tr style=\"text-align: right;\">\n",
       "      <th></th>\n",
       "      <th>train_mean</th>\n",
       "      <th>train_max</th>\n",
       "      <th>test_mean</th>\n",
       "      <th>test_max</th>\n",
       "    </tr>\n",
       "  </thead>\n",
       "  <tbody>\n",
       "    <tr>\n",
       "      <th>0</th>\n",
       "      <td>0.488705</td>\n",
       "      <td>0.558844</td>\n",
       "      <td>0.10289</td>\n",
       "      <td>0.129175</td>\n",
       "    </tr>\n",
       "    <tr>\n",
       "      <th>1</th>\n",
       "      <td>0.555824</td>\n",
       "      <td>0.633329</td>\n",
       "      <td>0.10648</td>\n",
       "      <td>0.120605</td>\n",
       "    </tr>\n",
       "    <tr>\n",
       "      <th>2</th>\n",
       "      <td>0.487546</td>\n",
       "      <td>0.55789</td>\n",
       "      <td>0.103914</td>\n",
       "      <td>0.119471</td>\n",
       "    </tr>\n",
       "    <tr>\n",
       "      <th>3</th>\n",
       "      <td>0.51138</td>\n",
       "      <td>0.580554</td>\n",
       "      <td>0.103163</td>\n",
       "      <td>0.118336</td>\n",
       "    </tr>\n",
       "    <tr>\n",
       "      <th>4</th>\n",
       "      <td>0.574122</td>\n",
       "      <td>0.660389</td>\n",
       "      <td>0.114382</td>\n",
       "      <td>0.133207</td>\n",
       "    </tr>\n",
       "  </tbody>\n",
       "</table>\n",
       "</div>"
      ],
      "text/plain": [
       "  train_mean train_max test_mean  test_max\n",
       "0   0.488705  0.558844   0.10289  0.129175\n",
       "1   0.555824  0.633329   0.10648  0.120605\n",
       "2   0.487546   0.55789  0.103914  0.119471\n",
       "3    0.51138  0.580554  0.103163  0.118336\n",
       "4   0.574122  0.660389  0.114382  0.133207"
      ]
     },
     "execution_count": 74,
     "metadata": {},
     "output_type": "execute_result"
    }
   ],
   "source": [
    "res_df = pd.DataFrame(columns=['train_mean','train_max','test_mean','test_max'])\n",
    "\n",
    "for i, res_list in enumerate(eval_results):\n",
    "    res_df.loc[i, 'test_mean'] = np.mean(res_list)\n",
    "    res_df.loc[i, 'test_max'] = np.max(res_list)\n",
    "    \n",
    "for j, train_list in enumerate(train_results):\n",
    "    res_df.loc[j, 'train_mean'] = np.mean(train_list)\n",
    "    res_df.loc[j, 'train_max'] = np.max(train_list)\n",
    "    \n",
    "res_df.head()"
   ]
  },
  {
   "cell_type": "code",
   "execution_count": 77,
   "metadata": {},
   "outputs": [
    {
     "data": {
      "text/html": [
       "<div>\n",
       "<style scoped>\n",
       "    .dataframe tbody tr th:only-of-type {\n",
       "        vertical-align: middle;\n",
       "    }\n",
       "\n",
       "    .dataframe tbody tr th {\n",
       "        vertical-align: top;\n",
       "    }\n",
       "\n",
       "    .dataframe thead th {\n",
       "        text-align: right;\n",
       "    }\n",
       "</style>\n",
       "<table border=\"1\" class=\"dataframe\">\n",
       "  <thead>\n",
       "    <tr style=\"text-align: right;\">\n",
       "      <th></th>\n",
       "      <th>train_mean</th>\n",
       "      <th>train_max</th>\n",
       "      <th>test_mean</th>\n",
       "      <th>test_max</th>\n",
       "    </tr>\n",
       "  </thead>\n",
       "  <tbody>\n",
       "    <tr>\n",
       "      <th>86</th>\n",
       "      <td>0.800494</td>\n",
       "      <td>0.942783</td>\n",
       "      <td>0.150917</td>\n",
       "      <td>0.17782</td>\n",
       "    </tr>\n",
       "    <tr>\n",
       "      <th>80</th>\n",
       "      <td>0.79794</td>\n",
       "      <td>0.952543</td>\n",
       "      <td>0.151078</td>\n",
       "      <td>0.175299</td>\n",
       "    </tr>\n",
       "    <tr>\n",
       "      <th>78</th>\n",
       "      <td>0.791915</td>\n",
       "      <td>0.920681</td>\n",
       "      <td>0.148396</td>\n",
       "      <td>0.167234</td>\n",
       "    </tr>\n",
       "    <tr>\n",
       "      <th>62</th>\n",
       "      <td>0.762288</td>\n",
       "      <td>0.894294</td>\n",
       "      <td>0.143536</td>\n",
       "      <td>0.16925</td>\n",
       "    </tr>\n",
       "    <tr>\n",
       "      <th>82</th>\n",
       "      <td>0.755579</td>\n",
       "      <td>0.918648</td>\n",
       "      <td>0.150053</td>\n",
       "      <td>0.172275</td>\n",
       "    </tr>\n",
       "  </tbody>\n",
       "</table>\n",
       "</div>"
      ],
      "text/plain": [
       "   train_mean train_max test_mean  test_max\n",
       "86   0.800494  0.942783  0.150917   0.17782\n",
       "80    0.79794  0.952543  0.151078  0.175299\n",
       "78   0.791915  0.920681  0.148396  0.167234\n",
       "62   0.762288  0.894294  0.143536   0.16925\n",
       "82   0.755579  0.918648  0.150053  0.172275"
      ]
     },
     "execution_count": 77,
     "metadata": {},
     "output_type": "execute_result"
    }
   ],
   "source": [
    "res_df.sort_values(by='train_mean', ascending=False).head()"
   ]
  },
  {
   "cell_type": "code",
   "execution_count": 79,
   "metadata": {},
   "outputs": [
    {
     "data": {
      "text/html": [
       "<div>\n",
       "<style scoped>\n",
       "    .dataframe tbody tr th:only-of-type {\n",
       "        vertical-align: middle;\n",
       "    }\n",
       "\n",
       "    .dataframe tbody tr th {\n",
       "        vertical-align: top;\n",
       "    }\n",
       "\n",
       "    .dataframe thead th {\n",
       "        text-align: right;\n",
       "    }\n",
       "</style>\n",
       "<table border=\"1\" class=\"dataframe\">\n",
       "  <thead>\n",
       "    <tr style=\"text-align: right;\">\n",
       "      <th></th>\n",
       "      <th>train_mean</th>\n",
       "      <th>train_max</th>\n",
       "      <th>test_mean</th>\n",
       "      <th>test_max</th>\n",
       "    </tr>\n",
       "  </thead>\n",
       "  <tbody>\n",
       "    <tr>\n",
       "      <th>80</th>\n",
       "      <td>0.79794</td>\n",
       "      <td>0.952543</td>\n",
       "      <td>0.151078</td>\n",
       "      <td>0.175299</td>\n",
       "    </tr>\n",
       "    <tr>\n",
       "      <th>86</th>\n",
       "      <td>0.800494</td>\n",
       "      <td>0.942783</td>\n",
       "      <td>0.150917</td>\n",
       "      <td>0.17782</td>\n",
       "    </tr>\n",
       "    <tr>\n",
       "      <th>78</th>\n",
       "      <td>0.791915</td>\n",
       "      <td>0.920681</td>\n",
       "      <td>0.148396</td>\n",
       "      <td>0.167234</td>\n",
       "    </tr>\n",
       "    <tr>\n",
       "      <th>82</th>\n",
       "      <td>0.755579</td>\n",
       "      <td>0.918648</td>\n",
       "      <td>0.150053</td>\n",
       "      <td>0.172275</td>\n",
       "    </tr>\n",
       "    <tr>\n",
       "      <th>62</th>\n",
       "      <td>0.762288</td>\n",
       "      <td>0.894294</td>\n",
       "      <td>0.143536</td>\n",
       "      <td>0.16925</td>\n",
       "    </tr>\n",
       "  </tbody>\n",
       "</table>\n",
       "</div>"
      ],
      "text/plain": [
       "   train_mean train_max test_mean  test_max\n",
       "80    0.79794  0.952543  0.151078  0.175299\n",
       "86   0.800494  0.942783  0.150917   0.17782\n",
       "78   0.791915  0.920681  0.148396  0.167234\n",
       "82   0.755579  0.918648  0.150053  0.172275\n",
       "62   0.762288  0.894294  0.143536   0.16925"
      ]
     },
     "execution_count": 79,
     "metadata": {},
     "output_type": "execute_result"
    }
   ],
   "source": [
    "res_df.sort_values(by='train_max', ascending=False).head()"
   ]
  },
  {
   "cell_type": "code",
   "execution_count": 78,
   "metadata": {},
   "outputs": [
    {
     "data": {
      "text/html": [
       "<div>\n",
       "<style scoped>\n",
       "    .dataframe tbody tr th:only-of-type {\n",
       "        vertical-align: middle;\n",
       "    }\n",
       "\n",
       "    .dataframe tbody tr th {\n",
       "        vertical-align: top;\n",
       "    }\n",
       "\n",
       "    .dataframe thead th {\n",
       "        text-align: right;\n",
       "    }\n",
       "</style>\n",
       "<table border=\"1\" class=\"dataframe\">\n",
       "  <thead>\n",
       "    <tr style=\"text-align: right;\">\n",
       "      <th></th>\n",
       "      <th>train_mean</th>\n",
       "      <th>train_max</th>\n",
       "      <th>test_mean</th>\n",
       "      <th>test_max</th>\n",
       "    </tr>\n",
       "  </thead>\n",
       "  <tbody>\n",
       "    <tr>\n",
       "      <th>87</th>\n",
       "      <td>0.725339</td>\n",
       "      <td>0.880467</td>\n",
       "      <td>0.155791</td>\n",
       "      <td>0.188784</td>\n",
       "    </tr>\n",
       "    <tr>\n",
       "      <th>83</th>\n",
       "      <td>0.680909</td>\n",
       "      <td>0.81668</td>\n",
       "      <td>0.153749</td>\n",
       "      <td>0.175929</td>\n",
       "    </tr>\n",
       "    <tr>\n",
       "      <th>80</th>\n",
       "      <td>0.79794</td>\n",
       "      <td>0.952543</td>\n",
       "      <td>0.151078</td>\n",
       "      <td>0.175299</td>\n",
       "    </tr>\n",
       "    <tr>\n",
       "      <th>86</th>\n",
       "      <td>0.800494</td>\n",
       "      <td>0.942783</td>\n",
       "      <td>0.150917</td>\n",
       "      <td>0.17782</td>\n",
       "    </tr>\n",
       "    <tr>\n",
       "      <th>82</th>\n",
       "      <td>0.755579</td>\n",
       "      <td>0.918648</td>\n",
       "      <td>0.150053</td>\n",
       "      <td>0.172275</td>\n",
       "    </tr>\n",
       "  </tbody>\n",
       "</table>\n",
       "</div>"
      ],
      "text/plain": [
       "   train_mean train_max test_mean  test_max\n",
       "87   0.725339  0.880467  0.155791  0.188784\n",
       "83   0.680909   0.81668  0.153749  0.175929\n",
       "80    0.79794  0.952543  0.151078  0.175299\n",
       "86   0.800494  0.942783  0.150917   0.17782\n",
       "82   0.755579  0.918648  0.150053  0.172275"
      ]
     },
     "execution_count": 78,
     "metadata": {},
     "output_type": "execute_result"
    }
   ],
   "source": [
    "res_df.sort_values(by='test_mean', ascending=False).head()"
   ]
  },
  {
   "cell_type": "code",
   "execution_count": 80,
   "metadata": {},
   "outputs": [
    {
     "data": {
      "text/html": [
       "<div>\n",
       "<style scoped>\n",
       "    .dataframe tbody tr th:only-of-type {\n",
       "        vertical-align: middle;\n",
       "    }\n",
       "\n",
       "    .dataframe tbody tr th {\n",
       "        vertical-align: top;\n",
       "    }\n",
       "\n",
       "    .dataframe thead th {\n",
       "        text-align: right;\n",
       "    }\n",
       "</style>\n",
       "<table border=\"1\" class=\"dataframe\">\n",
       "  <thead>\n",
       "    <tr style=\"text-align: right;\">\n",
       "      <th></th>\n",
       "      <th>train_mean</th>\n",
       "      <th>train_max</th>\n",
       "      <th>test_mean</th>\n",
       "      <th>test_max</th>\n",
       "    </tr>\n",
       "  </thead>\n",
       "  <tbody>\n",
       "    <tr>\n",
       "      <th>87</th>\n",
       "      <td>0.725339</td>\n",
       "      <td>0.880467</td>\n",
       "      <td>0.155791</td>\n",
       "      <td>0.188784</td>\n",
       "    </tr>\n",
       "    <tr>\n",
       "      <th>85</th>\n",
       "      <td>0.655694</td>\n",
       "      <td>0.774338</td>\n",
       "      <td>0.137438</td>\n",
       "      <td>0.183239</td>\n",
       "    </tr>\n",
       "    <tr>\n",
       "      <th>81</th>\n",
       "      <td>0.712704</td>\n",
       "      <td>0.855737</td>\n",
       "      <td>0.146919</td>\n",
       "      <td>0.182231</td>\n",
       "    </tr>\n",
       "    <tr>\n",
       "      <th>86</th>\n",
       "      <td>0.800494</td>\n",
       "      <td>0.942783</td>\n",
       "      <td>0.150917</td>\n",
       "      <td>0.17782</td>\n",
       "    </tr>\n",
       "    <tr>\n",
       "      <th>64</th>\n",
       "      <td>0.652407</td>\n",
       "      <td>0.776309</td>\n",
       "      <td>0.145342</td>\n",
       "      <td>0.177316</td>\n",
       "    </tr>\n",
       "  </tbody>\n",
       "</table>\n",
       "</div>"
      ],
      "text/plain": [
       "   train_mean train_max test_mean  test_max\n",
       "87   0.725339  0.880467  0.155791  0.188784\n",
       "85   0.655694  0.774338  0.137438  0.183239\n",
       "81   0.712704  0.855737  0.146919  0.182231\n",
       "86   0.800494  0.942783  0.150917   0.17782\n",
       "64   0.652407  0.776309  0.145342  0.177316"
      ]
     },
     "execution_count": 80,
     "metadata": {},
     "output_type": "execute_result"
    }
   ],
   "source": [
    "res_df.sort_values(by='test_max', ascending=False).head()"
   ]
  },
  {
   "cell_type": "markdown",
   "metadata": {},
   "source": [
    "Selecting run 86"
   ]
  },
  {
   "cell_type": "markdown",
   "metadata": {},
   "source": [
    "**Highest Mean Accuracy Model**"
   ]
  },
  {
   "cell_type": "code",
   "execution_count": 35,
   "metadata": {},
   "outputs": [],
   "source": [
    "# model number\n",
    "mn = 86"
   ]
  },
  {
   "cell_type": "code",
   "execution_count": 36,
   "metadata": {},
   "outputs": [
    {
     "data": {
      "text/plain": [
       "dropout_pct                                                      0\n",
       "dense_1_nodes                                                  256\n",
       "dense_2_nodes                                                  128\n",
       "dense_3_nodes                                                   32\n",
       "target_nodes                                                    20\n",
       "epochs                                                          30\n",
       "batch_size                                                    1000\n",
       "patience                                                         5\n",
       "train_loss       [6742.465438742531, 4611.957481771404, 3943.60...\n",
       "test_loss        [3.386409793173508, 3.2864797131851473, 3.4490...\n",
       "train_acc        [0.4582525178750935, 0.5785052836526807, 0.625...\n",
       "test_acc         [0.1214870806506447, 0.12488972678048174, 0.13...\n",
       "Name: 86, dtype: object"
      ]
     },
     "execution_count": 36,
     "metadata": {},
     "output_type": "execute_result"
    }
   ],
   "source": [
    "rnn_runs_df.loc[mn]"
   ]
  },
  {
   "cell_type": "code",
   "execution_count": 37,
   "metadata": {},
   "outputs": [
    {
     "data": {
      "text/plain": [
       "dropout_pct                                                      0\n",
       "dense_1_nodes                                                  256\n",
       "dense_2_nodes                                                  128\n",
       "dense_3_nodes                                                   32\n",
       "target_nodes                                                    20\n",
       "epochs                                                          30\n",
       "batch_size                                                    1000\n",
       "patience                                                         5\n",
       "train_loss       [6742.465438742531, 4611.957481771404, 3943.60...\n",
       "test_loss        [3.386409793173508, 3.2864797131851473, 3.4490...\n",
       "train_acc        [0.4582525178750935, 0.5785052836526807, 0.625...\n",
       "test_acc         [0.1214870806506447, 0.12488972678048174, 0.13...\n",
       "Name: 86, dtype: object"
      ]
     },
     "execution_count": 37,
     "metadata": {},
     "output_type": "execute_result"
    }
   ],
   "source": [
    "rnn_runs_df.loc[mn]"
   ]
  },
  {
   "cell_type": "code",
   "execution_count": 38,
   "metadata": {},
   "outputs": [],
   "source": [
    "dp = rnn_runs_df.loc[mn,'dropout_pct']\n",
    "d1 = rnn_runs_df.loc[mn,'dense_1_nodes'].astype(int)\n",
    "d2 = rnn_runs_df.loc[mn,'dense_2_nodes'].astype(int)\n",
    "d3 = rnn_runs_df.loc[mn,'dense_3_nodes'].astype(int)\n",
    "tn = rnn_runs_df.loc[mn,'target_nodes'].astype(int)\n",
    "e = rnn_runs_df.loc[mn,'epochs'].astype(int)\n",
    "bs = rnn_runs_df.loc[mn,'batch_size'].astype(int)\n",
    "p = rnn_runs_df.loc[mn,'patience'].astype(int)"
   ]
  },
  {
   "cell_type": "code",
   "execution_count": 39,
   "metadata": {},
   "outputs": [
    {
     "data": {
      "text/plain": [
       "(0.0, 256, 128, 32, 20, 30, 1000, 5)"
      ]
     },
     "execution_count": 39,
     "metadata": {},
     "output_type": "execute_result"
    }
   ],
   "source": [
    "dp, d1, d2, d3, tn, e, bs, p"
   ]
  },
  {
   "cell_type": "code",
   "execution_count": 40,
   "metadata": {},
   "outputs": [
    {
     "name": "stdout",
     "output_type": "stream",
     "text": [
      "WARNING:tensorflow:From /home/ubuntu/anaconda3/envs/tensorflow_p36/lib/python3.6/site-packages/tensorflow/python/framework/op_def_library.py:263: colocate_with (from tensorflow.python.framework.ops) is deprecated and will be removed in a future version.\n",
      "Instructions for updating:\n",
      "Colocations handled automatically by placer.\n",
      "WARNING:tensorflow:From /home/ubuntu/anaconda3/envs/tensorflow_p36/lib/python3.6/site-packages/tensorflow/python/ops/math_ops.py:3066: to_int32 (from tensorflow.python.ops.math_ops) is deprecated and will be removed in a future version.\n",
      "Instructions for updating:\n",
      "Use tf.cast instead.\n",
      "Train on 63932 samples, validate on 7935 samples\n",
      "Epoch 1/30\n",
      "63932/63932 [==============================] - 10s 151us/step - loss: 1.6342 - acc: 0.4933 - val_loss: 2.8465 - val_acc: 0.1640\n",
      "Epoch 2/30\n",
      "63932/63932 [==============================] - 8s 121us/step - loss: 1.1570 - acc: 0.6199 - val_loss: 3.0967 - val_acc: 0.1655\n",
      "Epoch 3/30\n",
      "63932/63932 [==============================] - 8s 122us/step - loss: 0.9758 - acc: 0.6740 - val_loss: 3.3011 - val_acc: 0.1701\n",
      "Epoch 4/30\n",
      "63932/63932 [==============================] - 8s 122us/step - loss: 0.8279 - acc: 0.7233 - val_loss: 3.5418 - val_acc: 0.1763\n",
      "Epoch 5/30\n",
      "63932/63932 [==============================] - 8s 122us/step - loss: 0.6944 - acc: 0.7687 - val_loss: 3.9464 - val_acc: 0.1698\n",
      "Epoch 6/30\n",
      "63932/63932 [==============================] - 8s 123us/step - loss: 0.5792 - acc: 0.8074 - val_loss: 4.1354 - val_acc: 0.1822\n",
      "Epoch 7/30\n",
      "63932/63932 [==============================] - 8s 122us/step - loss: 0.4588 - acc: 0.8490 - val_loss: 4.5253 - val_acc: 0.1695\n",
      "Epoch 8/30\n",
      "63932/63932 [==============================] - 8s 123us/step - loss: 0.3632 - acc: 0.8816 - val_loss: 4.8738 - val_acc: 0.1680\n",
      "Epoch 9/30\n",
      "63932/63932 [==============================] - 8s 123us/step - loss: 0.3017 - acc: 0.9021 - val_loss: 5.6758 - val_acc: 0.1498\n",
      "Epoch 10/30\n",
      "63932/63932 [==============================] - 8s 123us/step - loss: 0.2427 - acc: 0.9213 - val_loss: 5.7387 - val_acc: 0.1756\n",
      "Epoch 11/30\n",
      "63932/63932 [==============================] - 8s 124us/step - loss: 0.1976 - acc: 0.9375 - val_loss: 6.1520 - val_acc: 0.1777\n",
      "Epoch 00011: early stopping\n"
     ]
    }
   ],
   "source": [
    "model = Sequential()\n",
    "model.add(Dense(X_train_sc.shape[0], input_dim=X_train_sc.shape[1], activation='relu'))\n",
    "model.add(Dropout(dp))\n",
    "model.add(Dense(d1, activation='relu'))\n",
    "model.add(Dropout(dp))\n",
    "model.add(Dense(d2, activation='relu'))\n",
    "model.add(Dropout(dp))\n",
    "model.add(Dense(d3, activation='relu'))\n",
    "model.add(Dense(y_test_d.shape[1], activation=None))\n",
    "model.add(Activation(tf.nn.softmax))\n",
    "model.compile(loss='categorical_crossentropy', \n",
    "                   optimizer='adam', metrics=['accuracy'])\n",
    "early_stop = EarlyStopping(monitor='val_acc', \n",
    "                                min_delta=0, patience=p, \n",
    "                                verbose=1, mode='auto')\n",
    "history = model.fit(X_train_sc, \n",
    "                    y_train_d, \n",
    "                    validation_data=(X_test_sc, y_test_d), \n",
    "                    epochs=e, \n",
    "                    batch_size=bs, \n",
    "                    callbacks=[early_stop])"
   ]
  },
  {
   "cell_type": "code",
   "execution_count": 41,
   "metadata": {},
   "outputs": [
    {
     "data": {
      "text/plain": [
       "<matplotlib.legend.Legend at 0x7f28b435f160>"
      ]
     },
     "execution_count": 41,
     "metadata": {},
     "output_type": "execute_result"
    },
    {
     "data": {
      "image/png": "[encoded data removed]",
      "text/plain": [
       "<Figure size 432x288 with 1 Axes>"
      ]
     },
     "metadata": {},
     "output_type": "display_data"
    }
   ],
   "source": [
    "train_loss = history.history['loss']\n",
    "test_loss = history.history['val_loss']\n",
    "plt.plot(train_loss, label='Training loss')\n",
    "plt.plot(test_loss, label='Testing loss')\n",
    "plt.legend()"
   ]
  },
  {
   "cell_type": "code",
   "execution_count": 42,
   "metadata": {},
   "outputs": [
    {
     "data": {
      "text/plain": [
       "<matplotlib.legend.Legend at 0x7f28b42f8d30>"
      ]
     },
     "execution_count": 42,
     "metadata": {},
     "output_type": "execute_result"
    },
    {
     "data": {
      "image/png": "[encoded data removed]",
      "text/plain": [
       "<Figure size 432x288 with 1 Axes>"
      ]
     },
     "metadata": {},
     "output_type": "display_data"
    }
   ],
   "source": [
    "train_acc = history.history['acc']\n",
    "test_acc = history.history['val_acc']\n",
    "plt.plot(train_acc, label='Training Accuracy')\n",
    "plt.plot(test_acc, label='Testing Accuracy')\n",
    "plt.legend()"
   ]
  },
  {
   "cell_type": "markdown",
   "metadata": {},
   "source": [
    "**Save Final Keras FFRNN to Disk**"
   ]
  },
  {
   "cell_type": "code",
   "execution_count": 43,
   "metadata": {},
   "outputs": [],
   "source": [
    "model.save('../models/rnn')"
   ]
  },
  {
   "cell_type": "markdown",
   "metadata": {},
   "source": [
    "## Factorizing Text Example"
   ]
  },
  {
   "cell_type": "markdown",
   "metadata": {},
   "source": [
    "### Preprocessing"
   ]
  },
  {
   "cell_type": "code",
   "execution_count": 45,
   "metadata": {},
   "outputs": [],
   "source": [
    "# Using medium English library which does not include vectors\n",
    "nlp = spacy.load('en_core_web_md')"
   ]
  },
  {
   "cell_type": "code",
   "execution_count": null,
   "metadata": {},
   "outputs": [],
   "source": [
    "# def preprocess_to_df(par_file, nlp=nlp, sw=['the','a','but','like','for'], to_stem=False):\n",
    "#     # Run spaCy process on each paragraph and store docs in list\n",
    "#     print('nlp of paragraphs...')\n",
    "#     par_nlp = []\n",
    "#     for par in tqdm(par_file.paragraph):\n",
    "#         par_nlp.append(nlp(par))\n",
    "    \n",
    "#     # Store paragraph lemma from spaCy docs\n",
    "#     print('nlp lemmatizing, part-of-speech, stopwords...')\n",
    "#     par_lemma = []\n",
    "#     for par in tqdm(par_nlp):\n",
    "#         par_lemma.append([token.lemma_ for token in par     # List comprehension\n",
    "#                            if token.lemma_ != '-PRON-'           # Pronouns are excluded\n",
    "#                            and token.pos_ != 'PUNCT'             # Punctionation is excluded\n",
    "#                            and token.is_alpha                    # Numbers are excluded\n",
    "#                            and not token.is_stop                 # Stop words are excluded\n",
    "#                           and len(token.lemma_) > 1])               \n",
    "    \n",
    "#     # Stem lemma with NLTK PorterStemmer and remove stop words\n",
    "#     print('additional stopwords...')\n",
    "#     if to_stem: ps = PorterStemmer()\n",
    "#     par_lemma_sw = []\n",
    "#     for vec_list in tqdm(par_lemma):    \n",
    "#         update_list = []\n",
    "#         for token in vec_list:\n",
    "#             if token in sw: continue\n",
    "#             if to_stem: update_list.append(ps.stem(token))\n",
    "#             else: update_list.append(token)\n",
    "#         par_lemma_sw.append(update_list)\n",
    "    \n",
    "#     # Run spaCy on each sentence doc: Text\n",
    "#     print('saving sentence text...')\n",
    "#     sent_text = []\n",
    "#     for par in tqdm(par_nlp):\n",
    "#         sent_list = []\n",
    "#         for s in par.sents:\n",
    "#             sent_list.append(s.text)\n",
    "#         sent_text.append(sent_list)\n",
    "    \n",
    "#     # Run spaCy on each sentence doc: NLP\n",
    "#     print('nlp of sentences...')\n",
    "#     sent_nlp = []\n",
    "#     for par in tqdm(par_nlp):\n",
    "#         sent_list = []\n",
    "#         for s in par.sents:\n",
    "#             sent_list.append(nlp(s.text))\n",
    "#         sent_nlp.append(sent_list)\n",
    "    \n",
    "#     # Store lemma from spaCy docs\n",
    "#     print('nlp lemmatizing, part-of-speech, stopwords...')\n",
    "#     sent_lemma = []\n",
    "#     for par in tqdm(sent_nlp):\n",
    "#         for sent in par:\n",
    "#             sent_lemma.append([token.lemma_ for token in sent     # List comprehension\n",
    "#                                if token.lemma_ != '-PRON-'           # Pronouns are excluded\n",
    "#                                and token.pos_ != 'PUNCT'             # Punctionation is excluded\n",
    "#                                and token.is_alpha                    # Numbers are excluded\n",
    "#                                and not token.is_stop                 # Stop words are excluded\n",
    "#                               and len(token.lemma_) > 1])               \n",
    "    \n",
    "#     # Stem lemma with NLTK PorterStemmer and remove stop words\n",
    "#     print('additional stopwords...')\n",
    "#     if to_stem: ps = PorterStemmer()\n",
    "#     sent_lemma_sw = []\n",
    "#     for vec_list in tqdm(sent_lemma):    \n",
    "#         update_list = []\n",
    "#         for token in vec_list:\n",
    "#             if token in sw: continue\n",
    "#             if to_stem: update_list.append(ps.stem(token))\n",
    "#             else: update_list.append(token)\n",
    "#         sent_lemma_sw.append(update_list)\n",
    "    \n",
    "#     print('constructing dataframe...')\n",
    "#     nlp_df = pd.DataFrame(columns=['author','work','a_num','w_num','p_num','s_num',\n",
    "#                                     'sent_text','sent_lemma','par_text','par_lemma'])\n",
    "\n",
    "#     a_num = 0\n",
    "#     w_num = 0\n",
    "#     p_num = 0\n",
    "\n",
    "#     for p, sents_in_par in enumerate(tqdm(sent_text)):\n",
    "#         for s, sent in enumerate(sents_in_par):\n",
    "#             nlp_df = nlp_df.append({'author':par_file.loc[p, 'author'], \n",
    "#                                     'work':par_file.loc[p, 'work'], \n",
    "#                                     'a_num':a_num,\n",
    "#                                     'w_num':w_num,\n",
    "#                                     'p_num':p_num,\n",
    "#                                     's_num':s,\n",
    "#                                     'sent_text':sent,\n",
    "#                                     'par_text':par_file.loc[p, 'paragraph'],\n",
    "#                                     'par_lemma':par_lemma_sw[p]\n",
    "#                                     }, ignore_index=True)\n",
    "#         p_num += 1\n",
    "#         if p == par_file.shape[0]-1: continue\n",
    "#         if par_file.loc[p,'work'] != par_file.loc[p+1,'work']:\n",
    "#             p_num = 0\n",
    "#             w_num += 1\n",
    "#             if par_file.loc[p,'author'] != par_file.loc[p+1,'author']:\n",
    "#                 a_num += 1\n",
    "\n",
    "#     nlp_df['sent_lemma'] = sent_lemma_sw\n",
    "#     print('complete')\n",
    "#     return nlp_df"
   ]
  },
  {
   "cell_type": "code",
   "execution_count": null,
   "metadata": {},
   "outputs": [],
   "source": [
    "def preprocess_to_df(par_file, nlp=nlp, sw=['the','a','but','like','for'], to_stem=False):\n",
    "    # Run spaCy process on each paragraph and store docs in list\n",
    "    print('1/8: nlp of paragraphs...')\n",
    "    par_nlp = []\n",
    "    for par in tqdm(par_file.paragraph):\n",
    "        par_nlp.append(nlp(par))\n",
    "    \n",
    "    # Store paragraph lemma from spaCy docs\n",
    "    print('2/8: nlp lemmatizing, part-of-speech, stopwords...')\n",
    "    par_lemma = []\n",
    "    for par in tqdm(par_nlp):\n",
    "        par_lemma.append([token.lemma_ for token in par     # List comprehension\n",
    "                           if token.lemma_ != '-PRON-'           # Pronouns are excluded\n",
    "                           and token.pos_ != 'PUNCT'             # Punctuation is excluded\n",
    "                           and token.is_alpha                    # Numbers are excluded\n",
    "                           and not token.is_stop                 # Stop words are excluded\n",
    "                          and len(token.lemma_) > 1])\n",
    "    par_lemma = [[pl[i].lower() for i in range(len(pl))] for pl in par_lemma]\n",
    "    \n",
    "    # Stem lemma with NLTK PorterStemmer and remove stop words\n",
    "    print('3/8: additional stopwords...')\n",
    "    if to_stem: ps = PorterStemmer()\n",
    "    par_lemma_sw = []\n",
    "    for vec_list in tqdm(par_lemma):    \n",
    "        update_list = []\n",
    "        for token in vec_list:\n",
    "            if token in sw: continue\n",
    "            if to_stem: update_list.append(ps.stem(token))\n",
    "            else: update_list.append(token)\n",
    "        par_lemma_sw.append(update_list)\n",
    "    \n",
    "    # Run spaCy on each sentence doc: Text\n",
    "    print('4/8: saving sentence text...')\n",
    "    sent_text = []\n",
    "    for par in tqdm(par_nlp):\n",
    "        sent_list = []\n",
    "        for s in par.sents:\n",
    "            sent_list.append(s.text)\n",
    "        sent_text.append(sent_list)\n",
    "    \n",
    "    # Run spaCy on each sentence doc: NLP\n",
    "    print('5/8: nlp of sentences...')\n",
    "    sent_nlp = []\n",
    "    for par in tqdm(par_nlp):\n",
    "        sent_list = []\n",
    "        for s in par.sents:\n",
    "            sent_list.append(nlp(s.text))\n",
    "        sent_nlp.append(sent_list)\n",
    "    \n",
    "    # Store lemma from spaCy docs\n",
    "    print('6/8: nlp lemmatizing, part-of-speech, stopwords...')\n",
    "    sent_lemma = []\n",
    "    for par in tqdm(sent_nlp):\n",
    "        for sent in par:\n",
    "            sent_lemma.append([token.lemma_ for token in sent     # List comprehension\n",
    "                               if token.lemma_ != '-PRON-'           # Pronouns are excluded\n",
    "                               and token.pos_ != 'PUNCT'             # Punctuation is excluded\n",
    "                               and token.is_alpha                    # Numbers are excluded\n",
    "                               and not token.is_stop                 # Stop words are excluded\n",
    "                              and len(token.lemma_) > 1])\n",
    "    sent_lemma = [[sl[j].lower() for j in range(len(sl))] for sl in sent_lemma]\n",
    "    \n",
    "    # Stem lemma with NLTK PorterStemmer and remove stop words\n",
    "    print('7/8: additional stopwords...')\n",
    "    if to_stem: ps = PorterStemmer()\n",
    "    sent_lemma_sw = []\n",
    "    for vec_list in tqdm(sent_lemma):    \n",
    "        update_list = []\n",
    "        for token in vec_list:\n",
    "            if token in sw: continue\n",
    "            if to_stem: update_list.append(ps.stem(token))\n",
    "            else: update_list.append(token)\n",
    "        sent_lemma_sw.append(update_list)\n",
    "    \n",
    "    print('8/8: constructing dataframe...')\n",
    "    nlp_df = pd.DataFrame(columns=['author','work','a_num','w_num','p_num','s_num',\n",
    "                                    'sent_text','sent_lemma','par_text','par_lemma'])\n",
    "\n",
    "    a_num = 0\n",
    "    w_num = 0\n",
    "    p_num = 0\n",
    "\n",
    "    for p, sents_in_par in enumerate(tqdm(sent_text)):\n",
    "        for s, sent in enumerate(sents_in_par):\n",
    "            nlp_df = nlp_df.append({'author':par_file.loc[p, 'author'], \n",
    "                                    'work':par_file.loc[p, 'work'], \n",
    "                                    'a_num':a_num,\n",
    "                                    'w_num':w_num,\n",
    "                                    'p_num':p_num,\n",
    "                                    's_num':s,\n",
    "                                    'sent_text':sent,\n",
    "                                    'par_text':par_file.loc[p, 'paragraph'],\n",
    "                                    'par_lemma':par_lemma_sw[p]\n",
    "                                    }, ignore_index=True)\n",
    "        p_num += 1\n",
    "        if p == par_file.shape[0]-1: continue\n",
    "        if par_file.loc[p,'work'] != par_file.loc[p+1,'work']:\n",
    "            p_num = 0\n",
    "            w_num += 1\n",
    "            if par_file.loc[p,'author'] != par_file.loc[p+1,'author']:\n",
    "                a_num += 1\n",
    "\n",
    "    nlp_df['sent_lemma'] = sent_lemma_sw\n",
    "    print('complete')\n",
    "    return nlp_df"
   ]
  },
  {
   "cell_type": "code",
   "execution_count": null,
   "metadata": {},
   "outputs": [],
   "source": [
    "def nlp_factorize(lda_df, model=model_full, ss=ss):\n",
    "    lda_sc = ss.transform(lda_df.values)    \n",
    "    preds = model.predict_proba(lda_sc)\n",
    "    return preds"
   ]
  },
  {
   "cell_type": "markdown",
   "metadata": {},
   "source": [
    "### Display Results"
   ]
  },
  {
   "cell_type": "code",
   "execution_count": null,
   "metadata": {},
   "outputs": [],
   "source": [
    "def display_nlp_factors(preds, raw_text, doc_number=0, thresh=0.01, target_authors=None):\n",
    "    print('-'*30)\n",
    "    print('Doc #:', doc_number)\n",
    "    if target_authors: print('Target Author:', target_authors[doc_number])\n",
    "    print('Text:\\n', raw_text[doc_number])\n",
    "    print('\\nPhilosophical Factors:\\n')\n",
    "    \n",
    "    result_list = [(text_data.Author.unique()[i], preds[doc_number][i]) for i in range(len(text_data.Author.unique()))]\n",
    "    result_list.sort(key=lambda tup: tup[1], reverse=True)\n",
    "    \n",
    "    for j in range(len(text_data.Author.unique())):\n",
    "        n_sp = 35 - len(result_list[j][0])\n",
    "        if result_list[j][1] >= thresh:\n",
    "            print('\\t{}{}{}'.format(result_list[j][0],str(' '*n_sp),str(round(result_list[j][1], 3))))\n",
    "    print('-'*30)"
   ]
  },
  {
   "cell_type": "code",
   "execution_count": null,
   "metadata": {},
   "outputs": [],
   "source": [
    "babbage = \"\"\"\n",
    "There are few circumstances which so strongly distinguish the philosopher, \n",
    "as the calmness with which he can reply to criticisms he may think...\n",
    "\"\"\""
   ]
  },
  {
   "cell_type": "markdown",
   "metadata": {},
   "source": [
    "## Continue to Notebook 5: Factorizing Unseen Text"
   ]
  }
 ],
 "metadata": {
  "kernelspec": {
   "display_name": "Environment (conda_tensorflow_p36)",
   "language": "python",
   "name": "conda_tensorflow_p36"
  },
  "language_info": {
   "codemirror_mode": {
    "name": "ipython",
    "version": 3
   },
   "file_extension": ".py",
   "mimetype": "text/x-python",
   "name": "python",
   "nbconvert_exporter": "python",
   "pygments_lexer": "ipython3",
   "version": "3.6.5"
  }
 },
 "nbformat": 4,
 "nbformat_minor": 2
}
