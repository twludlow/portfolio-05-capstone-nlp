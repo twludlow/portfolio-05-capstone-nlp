{
 "cells": [
  {
   "cell_type": "markdown",
   "metadata": {},
   "source": [
    "# Capstone: Philosophical Factors for NLP\n",
    "**_Measuring Similarity to Philosophical Concepts in Text Data_**\n",
    "\n",
    "## Thomas W. Ludlow, Jr.\n",
    "**General Assembly Data Science Immersive DSI-NY-6**\n",
    "\n",
    "**February 12, 2019**"
   ]
  },
  {
   "cell_type": "markdown",
   "metadata": {},
   "source": [
    "# Notebook 3 - Document Vectors"
   ]
  },
  {
   "cell_type": "markdown",
   "metadata": {},
   "source": [
    "### Table of Contents"
   ]
  },
  {
   "cell_type": "markdown",
   "metadata": {},
   "source": [
    "[**3.1 Gensim Doc2Vec**](#3.1-Gensim-Doc2Vec)\n",
    "- [3.1.1 Create Tagged Documents](#3.1.1-Create-Tagged-Documents)\n",
    "- [3.1.2 Build Doc2Vec Models](#3.1.2-Build-Doc2Vec-Models)\n",
    "\n",
    "[**3.2 Doc2Vec Features for Corpora**](#3.2-Doc2Vec-Features-for-Corpora)\n",
    "- [3.2.1 3.2.1 Combine Sentence and Paragraph Vectors](#3.2.1-Combine-Sentence-and-Paragraph-Vectors)\n",
    "- [3.2.2 Combine Vectors with LDA Features](#3.2.2-Combine-Vectors-with-LDA-Features)"
   ]
  },
  {
   "cell_type": "markdown",
   "metadata": {},
   "source": [
    "**Libraries**"
   ]
  },
  {
   "cell_type": "code",
   "execution_count": 1,
   "metadata": {},
   "outputs": [],
   "source": [
    "# Python Data Science\n",
    "import re\n",
    "import ast\n",
    "import time\n",
    "import pickle\n",
    "import numpy as np\n",
    "import pandas as pd\n",
    "from tqdm import tqdm\n",
    "\n",
    "# Natural Language Processing\n",
    "import spacy\n",
    "from nltk.stem import PorterStemmer\n",
    "\n",
    "# Gensim\n",
    "import gensim\n",
    "import gensim.downloader as api\n",
    "from gensim.corpora import Dictionary\n",
    "from gensim.models import TfidfModel, ldamulticore, CoherenceModel\n",
    "from gensim.models.word2vec import Word2Vec\n",
    "from gensim.models.doc2vec import Doc2Vec, TaggedDocument\n",
    "from gensim.test.utils import get_tmpfile\n",
    "import pyLDAvis.gensim\n",
    "\n",
    "# Modeling Prep\n",
    "from sklearn.preprocessing import StandardScaler\n",
    "from sklearn.externals import joblib\n",
    "\n",
    "# Plotting\n",
    "import matplotlib.pyplot as plt\n",
    "%matplotlib inline\n",
    "\n",
    "# Override deprecation warnings\n",
    "import warnings\n",
    "warnings.filterwarnings(\"ignore\",category=DeprecationWarning)"
   ]
  },
  {
   "cell_type": "markdown",
   "metadata": {},
   "source": [
    "## 3.1 Gensim Doc2Vec"
   ]
  },
  {
   "cell_type": "markdown",
   "metadata": {},
   "source": [
    "**Load Preprocessed Text Data**"
   ]
  },
  {
   "cell_type": "code",
   "execution_count": 2,
   "metadata": {},
   "outputs": [],
   "source": [
    "nlp_df = pd.read_csv('../data_eda/nlp_df.csv')\n",
    "t_nlp_df = pd.read_csv('../data_eda/t_nlp_df.csv')"
   ]
  },
  {
   "cell_type": "code",
   "execution_count": 3,
   "metadata": {},
   "outputs": [],
   "source": [
    "text8_corpus = api.load('text8')"
   ]
  },
  {
   "cell_type": "code",
   "execution_count": 4,
   "metadata": {},
   "outputs": [],
   "source": [
    "text8_data = [d for d in text8_corpus]"
   ]
  },
  {
   "cell_type": "code",
   "execution_count": 5,
   "metadata": {},
   "outputs": [],
   "source": [
    "wiki_corpus = api.load('wiki-english-20171001')"
   ]
  },
  {
   "cell_type": "code",
   "execution_count": 6,
   "metadata": {},
   "outputs": [
    {
     "name": "stderr",
     "output_type": "stream",
     "text": [
      "4924894it [08:41, 9438.02it/s] \n"
     ]
    }
   ],
   "source": [
    "wiki_data = [d for d in tqdm(wiki_corpus)]"
   ]
  },
  {
   "cell_type": "markdown",
   "metadata": {},
   "source": [
    "### 3.1.1 Create Tagged Documents"
   ]
  },
  {
   "cell_type": "code",
   "execution_count": 7,
   "metadata": {},
   "outputs": [],
   "source": [
    "def create_tagged_document(list_of_list_of_words):\n",
    "    for i, list_of_words in enumerate(list_of_list_of_words):\n",
    "        yield gensim.models.doc2vec.TaggedDocument(list_of_words, [i])"
   ]
  },
  {
   "cell_type": "code",
   "execution_count": 8,
   "metadata": {},
   "outputs": [],
   "source": [
    "wiki_tag = list(create_tagged_document(wiki_data))"
   ]
  },
  {
   "cell_type": "code",
   "execution_count": 9,
   "metadata": {
    "scrolled": true
   },
   "outputs": [
    {
     "data": {
      "text/plain": [
       "4924894"
      ]
     },
     "execution_count": 9,
     "metadata": {},
     "output_type": "execute_result"
    }
   ],
   "source": [
    "len(wiki_tag)"
   ]
  },
  {
   "cell_type": "markdown",
   "metadata": {},
   "source": [
    "**Sentence Vectors**"
   ]
  },
  {
   "cell_type": "code",
   "execution_count": 10,
   "metadata": {},
   "outputs": [],
   "source": [
    "d2v_s = gensim.models.doc2vec.Doc2Vec(vector_size=32, min_count=2, epochs=5)"
   ]
  },
  {
   "cell_type": "code",
   "execution_count": 11,
   "metadata": {},
   "outputs": [],
   "source": [
    "d2v_s.build_vocab(wiki_tag)"
   ]
  },
  {
   "cell_type": "markdown",
   "metadata": {},
   "source": [
    "**Paragraph Vectors**"
   ]
  },
  {
   "cell_type": "code",
   "execution_count": 12,
   "metadata": {},
   "outputs": [],
   "source": [
    "d2v_p = gensim.models.doc2vec.Doc2Vec(vector_size=18, min_count=2, epochs=5)"
   ]
  },
  {
   "cell_type": "code",
   "execution_count": 13,
   "metadata": {},
   "outputs": [],
   "source": [
    "d2v_p.build_vocab(wiki_tag)"
   ]
  },
  {
   "cell_type": "markdown",
   "metadata": {},
   "source": [
    "### 3.1.2 Build Doc2Vec Models"
   ]
  },
  {
   "cell_type": "markdown",
   "metadata": {},
   "source": [
    "**Sentence Model**"
   ]
  },
  {
   "cell_type": "code",
   "execution_count": 14,
   "metadata": {},
   "outputs": [],
   "source": [
    "d2v_s.train(wiki_tag, total_examples=d2v_s.corpus_count, epochs=d2v_s.epochs)"
   ]
  },
  {
   "cell_type": "code",
   "execution_count": 15,
   "metadata": {},
   "outputs": [],
   "source": [
    "d2v_s_vecs = []\n",
    "\n",
    "for sent_vec in [ast.literal_eval(sent) for sent in nlp_df.sent_lemma]:\n",
    "    d2v_s_vecs.append(d2v_s.infer_vector(sent_vec))"
   ]
  },
  {
   "cell_type": "code",
   "execution_count": 16,
   "metadata": {},
   "outputs": [
    {
     "data": {
      "text/plain": [
       "74115"
      ]
     },
     "execution_count": 16,
     "metadata": {},
     "output_type": "execute_result"
    }
   ],
   "source": [
    "len(d2v_s_vecs)"
   ]
  },
  {
   "cell_type": "code",
   "execution_count": 17,
   "metadata": {},
   "outputs": [
    {
     "data": {
      "text/plain": [
       "32"
      ]
     },
     "execution_count": 17,
     "metadata": {},
     "output_type": "execute_result"
    }
   ],
   "source": [
    "len(d2v_s_vecs[0])"
   ]
  },
  {
   "cell_type": "code",
   "execution_count": 18,
   "metadata": {},
   "outputs": [
    {
     "data": {
      "text/plain": [
       "array([ 0.01387677, -0.0121483 ,  0.00700643, -0.01539578, -0.00265582,\n",
       "       -0.00348972,  0.01171596,  0.00422984,  0.00690689,  0.00254729,\n",
       "        0.01471115, -0.00755273, -0.00990111, -0.00768929,  0.00917837,\n",
       "        0.00609836,  0.01111884, -0.00650711,  0.00322653,  0.00478539,\n",
       "        0.00688467,  0.00633643, -0.00989119, -0.01206473, -0.0112613 ,\n",
       "        0.00740096,  0.00755055, -0.01261828,  0.01227136, -0.0049176 ,\n",
       "       -0.00609248, -0.00477354], dtype=float32)"
      ]
     },
     "execution_count": 18,
     "metadata": {},
     "output_type": "execute_result"
    }
   ],
   "source": [
    "d2v_s_vecs[0]"
   ]
  },
  {
   "cell_type": "markdown",
   "metadata": {},
   "source": [
    "Testing Text"
   ]
  },
  {
   "cell_type": "code",
   "execution_count": 19,
   "metadata": {},
   "outputs": [],
   "source": [
    "t_d2v_s_vecs = []\n",
    "\n",
    "for sent_vec in [ast.literal_eval(sent) for sent in t_nlp_df.sent_lemma]:\n",
    "    t_d2v_s_vecs.append(d2v_s.infer_vector(sent_vec))"
   ]
  },
  {
   "cell_type": "code",
   "execution_count": 20,
   "metadata": {},
   "outputs": [
    {
     "data": {
      "text/plain": [
       "8870"
      ]
     },
     "execution_count": 20,
     "metadata": {},
     "output_type": "execute_result"
    }
   ],
   "source": [
    "len(t_d2v_s_vecs)"
   ]
  },
  {
   "cell_type": "code",
   "execution_count": 21,
   "metadata": {},
   "outputs": [
    {
     "data": {
      "text/plain": [
       "32"
      ]
     },
     "execution_count": 21,
     "metadata": {},
     "output_type": "execute_result"
    }
   ],
   "source": [
    "len(t_d2v_s_vecs[0])"
   ]
  },
  {
   "cell_type": "markdown",
   "metadata": {},
   "source": [
    "**Paragraph Model**"
   ]
  },
  {
   "cell_type": "code",
   "execution_count": 15,
   "metadata": {},
   "outputs": [],
   "source": [
    "d2v_p.train(wiki_tag, total_examples=d2v_p.corpus_count, epochs=d2v_p.epochs)"
   ]
  },
  {
   "cell_type": "code",
   "execution_count": 23,
   "metadata": {},
   "outputs": [],
   "source": [
    "d2v_p_vecs = []\n",
    "\n",
    "for par_vec in [ast.literal_eval(par) for par in nlp_df.par_lemma]:\n",
    "    d2v_p_vecs.append(d2v_p.infer_vector(par_vec))"
   ]
  },
  {
   "cell_type": "code",
   "execution_count": 24,
   "metadata": {},
   "outputs": [
    {
     "data": {
      "text/plain": [
       "74115"
      ]
     },
     "execution_count": 24,
     "metadata": {},
     "output_type": "execute_result"
    }
   ],
   "source": [
    "len(d2v_p_vecs)"
   ]
  },
  {
   "cell_type": "code",
   "execution_count": 25,
   "metadata": {},
   "outputs": [
    {
     "data": {
      "text/plain": [
       "18"
      ]
     },
     "execution_count": 25,
     "metadata": {},
     "output_type": "execute_result"
    }
   ],
   "source": [
    "len(d2v_p_vecs[0])"
   ]
  },
  {
   "cell_type": "markdown",
   "metadata": {},
   "source": [
    "Testing Text"
   ]
  },
  {
   "cell_type": "code",
   "execution_count": 26,
   "metadata": {},
   "outputs": [],
   "source": [
    "t_d2v_p_vecs = []\n",
    "\n",
    "for par_vec in [ast.literal_eval(par) for par in t_nlp_df.par_lemma]:\n",
    "    t_d2v_p_vecs.append(d2v_p.infer_vector(par_vec))"
   ]
  },
  {
   "cell_type": "code",
   "execution_count": 27,
   "metadata": {},
   "outputs": [
    {
     "data": {
      "text/plain": [
       "8870"
      ]
     },
     "execution_count": 27,
     "metadata": {},
     "output_type": "execute_result"
    }
   ],
   "source": [
    "len(t_d2v_p_vecs)"
   ]
  },
  {
   "cell_type": "code",
   "execution_count": 28,
   "metadata": {},
   "outputs": [
    {
     "data": {
      "text/plain": [
       "18"
      ]
     },
     "execution_count": 28,
     "metadata": {},
     "output_type": "execute_result"
    }
   ],
   "source": [
    "len(t_d2v_p_vecs[0])"
   ]
  },
  {
   "cell_type": "markdown",
   "metadata": {},
   "source": [
    "**Save to Disk**"
   ]
  },
  {
   "cell_type": "code",
   "execution_count": 17,
   "metadata": {},
   "outputs": [],
   "source": [
    "d2v_s_file = open('../models/d2v_s','wb')\n",
    "pickle.dump(d2v_s, d2v_s_file)\n",
    "d2v_s_file.close()"
   ]
  },
  {
   "cell_type": "code",
   "execution_count": 18,
   "metadata": {},
   "outputs": [],
   "source": [
    "d2v_p_file = open('../models/d2v_p','wb')\n",
    "pickle.dump(d2v_p, d2v_p_file)\n",
    "d2v_p_file.close()"
   ]
  },
  {
   "cell_type": "markdown",
   "metadata": {},
   "source": [
    "## 3.2 Doc2Vec Features for Corpora"
   ]
  },
  {
   "cell_type": "markdown",
   "metadata": {},
   "source": [
    "### 3.2.1 Combine Sentence and Paragraph Vectors"
   ]
  },
  {
   "cell_type": "code",
   "execution_count": 29,
   "metadata": {},
   "outputs": [],
   "source": [
    "# Feature names\n",
    "s_vec_cols = ['s_vec_'+str(i) for i in range(len(d2v_s_vecs[0]))]\n",
    "p_vec_cols = ['p_vec_'+str(j) for j in range(len(d2v_p_vecs[0]))]"
   ]
  },
  {
   "cell_type": "code",
   "execution_count": 30,
   "metadata": {},
   "outputs": [
    {
     "data": {
      "text/html": [
       "<div>\n",
       "<style scoped>\n",
       "    .dataframe tbody tr th:only-of-type {\n",
       "        vertical-align: middle;\n",
       "    }\n",
       "\n",
       "    .dataframe tbody tr th {\n",
       "        vertical-align: top;\n",
       "    }\n",
       "\n",
       "    .dataframe thead th {\n",
       "        text-align: right;\n",
       "    }\n",
       "</style>\n",
       "<table border=\"1\" class=\"dataframe\">\n",
       "  <thead>\n",
       "    <tr style=\"text-align: right;\">\n",
       "      <th></th>\n",
       "      <th>s_vec_0</th>\n",
       "      <th>s_vec_1</th>\n",
       "      <th>s_vec_2</th>\n",
       "      <th>s_vec_3</th>\n",
       "      <th>s_vec_4</th>\n",
       "      <th>s_vec_5</th>\n",
       "      <th>s_vec_6</th>\n",
       "      <th>s_vec_7</th>\n",
       "      <th>s_vec_8</th>\n",
       "      <th>s_vec_9</th>\n",
       "      <th>...</th>\n",
       "      <th>s_vec_22</th>\n",
       "      <th>s_vec_23</th>\n",
       "      <th>s_vec_24</th>\n",
       "      <th>s_vec_25</th>\n",
       "      <th>s_vec_26</th>\n",
       "      <th>s_vec_27</th>\n",
       "      <th>s_vec_28</th>\n",
       "      <th>s_vec_29</th>\n",
       "      <th>s_vec_30</th>\n",
       "      <th>s_vec_31</th>\n",
       "    </tr>\n",
       "  </thead>\n",
       "  <tbody>\n",
       "    <tr>\n",
       "      <th>0</th>\n",
       "      <td>0.013877</td>\n",
       "      <td>-0.012148</td>\n",
       "      <td>0.007006</td>\n",
       "      <td>-0.015396</td>\n",
       "      <td>-0.002656</td>\n",
       "      <td>-0.003490</td>\n",
       "      <td>0.011716</td>\n",
       "      <td>0.004230</td>\n",
       "      <td>0.006907</td>\n",
       "      <td>0.002547</td>\n",
       "      <td>...</td>\n",
       "      <td>-0.009891</td>\n",
       "      <td>-0.012065</td>\n",
       "      <td>-0.011261</td>\n",
       "      <td>0.007401</td>\n",
       "      <td>0.007551</td>\n",
       "      <td>-0.012618</td>\n",
       "      <td>0.012271</td>\n",
       "      <td>-0.004918</td>\n",
       "      <td>-0.006092</td>\n",
       "      <td>-0.004774</td>\n",
       "    </tr>\n",
       "    <tr>\n",
       "      <th>1</th>\n",
       "      <td>-0.015537</td>\n",
       "      <td>-0.014925</td>\n",
       "      <td>-0.003562</td>\n",
       "      <td>0.007443</td>\n",
       "      <td>-0.003987</td>\n",
       "      <td>-0.000591</td>\n",
       "      <td>0.015054</td>\n",
       "      <td>0.012240</td>\n",
       "      <td>-0.015296</td>\n",
       "      <td>0.011213</td>\n",
       "      <td>...</td>\n",
       "      <td>0.000181</td>\n",
       "      <td>0.004094</td>\n",
       "      <td>0.000516</td>\n",
       "      <td>-0.004944</td>\n",
       "      <td>-0.003514</td>\n",
       "      <td>-0.000628</td>\n",
       "      <td>-0.007596</td>\n",
       "      <td>0.013407</td>\n",
       "      <td>0.015258</td>\n",
       "      <td>-0.012898</td>\n",
       "    </tr>\n",
       "    <tr>\n",
       "      <th>2</th>\n",
       "      <td>0.006117</td>\n",
       "      <td>0.000151</td>\n",
       "      <td>0.008452</td>\n",
       "      <td>-0.000479</td>\n",
       "      <td>-0.014821</td>\n",
       "      <td>0.008976</td>\n",
       "      <td>-0.013490</td>\n",
       "      <td>-0.006188</td>\n",
       "      <td>-0.013559</td>\n",
       "      <td>-0.002593</td>\n",
       "      <td>...</td>\n",
       "      <td>-0.012294</td>\n",
       "      <td>-0.000628</td>\n",
       "      <td>0.007572</td>\n",
       "      <td>0.002907</td>\n",
       "      <td>-0.010185</td>\n",
       "      <td>-0.006701</td>\n",
       "      <td>-0.006174</td>\n",
       "      <td>0.005899</td>\n",
       "      <td>-0.014035</td>\n",
       "      <td>0.007012</td>\n",
       "    </tr>\n",
       "    <tr>\n",
       "      <th>3</th>\n",
       "      <td>0.003889</td>\n",
       "      <td>0.011431</td>\n",
       "      <td>0.007139</td>\n",
       "      <td>0.012332</td>\n",
       "      <td>-0.000440</td>\n",
       "      <td>-0.009316</td>\n",
       "      <td>-0.000799</td>\n",
       "      <td>0.000181</td>\n",
       "      <td>-0.012577</td>\n",
       "      <td>-0.013329</td>\n",
       "      <td>...</td>\n",
       "      <td>-0.014215</td>\n",
       "      <td>-0.001203</td>\n",
       "      <td>0.009691</td>\n",
       "      <td>-0.006956</td>\n",
       "      <td>0.000836</td>\n",
       "      <td>-0.008287</td>\n",
       "      <td>0.011692</td>\n",
       "      <td>-0.008896</td>\n",
       "      <td>-0.015057</td>\n",
       "      <td>-0.000123</td>\n",
       "    </tr>\n",
       "    <tr>\n",
       "      <th>4</th>\n",
       "      <td>-0.006190</td>\n",
       "      <td>0.011925</td>\n",
       "      <td>0.012945</td>\n",
       "      <td>-0.004754</td>\n",
       "      <td>-0.004691</td>\n",
       "      <td>0.004129</td>\n",
       "      <td>-0.015233</td>\n",
       "      <td>-0.010919</td>\n",
       "      <td>0.009673</td>\n",
       "      <td>-0.005051</td>\n",
       "      <td>...</td>\n",
       "      <td>0.008736</td>\n",
       "      <td>-0.004417</td>\n",
       "      <td>-0.011493</td>\n",
       "      <td>0.008998</td>\n",
       "      <td>0.004071</td>\n",
       "      <td>-0.002987</td>\n",
       "      <td>-0.000368</td>\n",
       "      <td>0.012635</td>\n",
       "      <td>0.015053</td>\n",
       "      <td>-0.004915</td>\n",
       "    </tr>\n",
       "  </tbody>\n",
       "</table>\n",
       "<p>5 rows × 32 columns</p>\n",
       "</div>"
      ],
      "text/plain": [
       "    s_vec_0   s_vec_1   s_vec_2   s_vec_3   s_vec_4   s_vec_5   s_vec_6  \\\n",
       "0  0.013877 -0.012148  0.007006 -0.015396 -0.002656 -0.003490  0.011716   \n",
       "1 -0.015537 -0.014925 -0.003562  0.007443 -0.003987 -0.000591  0.015054   \n",
       "2  0.006117  0.000151  0.008452 -0.000479 -0.014821  0.008976 -0.013490   \n",
       "3  0.003889  0.011431  0.007139  0.012332 -0.000440 -0.009316 -0.000799   \n",
       "4 -0.006190  0.011925  0.012945 -0.004754 -0.004691  0.004129 -0.015233   \n",
       "\n",
       "    s_vec_7   s_vec_8   s_vec_9    ...     s_vec_22  s_vec_23  s_vec_24  \\\n",
       "0  0.004230  0.006907  0.002547    ...    -0.009891 -0.012065 -0.011261   \n",
       "1  0.012240 -0.015296  0.011213    ...     0.000181  0.004094  0.000516   \n",
       "2 -0.006188 -0.013559 -0.002593    ...    -0.012294 -0.000628  0.007572   \n",
       "3  0.000181 -0.012577 -0.013329    ...    -0.014215 -0.001203  0.009691   \n",
       "4 -0.010919  0.009673 -0.005051    ...     0.008736 -0.004417 -0.011493   \n",
       "\n",
       "   s_vec_25  s_vec_26  s_vec_27  s_vec_28  s_vec_29  s_vec_30  s_vec_31  \n",
       "0  0.007401  0.007551 -0.012618  0.012271 -0.004918 -0.006092 -0.004774  \n",
       "1 -0.004944 -0.003514 -0.000628 -0.007596  0.013407  0.015258 -0.012898  \n",
       "2  0.002907 -0.010185 -0.006701 -0.006174  0.005899 -0.014035  0.007012  \n",
       "3 -0.006956  0.000836 -0.008287  0.011692 -0.008896 -0.015057 -0.000123  \n",
       "4  0.008998  0.004071 -0.002987 -0.000368  0.012635  0.015053 -0.004915  \n",
       "\n",
       "[5 rows x 32 columns]"
      ]
     },
     "execution_count": 30,
     "metadata": {},
     "output_type": "execute_result"
    }
   ],
   "source": [
    "vec_df = pd.DataFrame(d2v_s_vecs, columns=s_vec_cols)\n",
    "vec_df.head()"
   ]
  },
  {
   "cell_type": "code",
   "execution_count": 31,
   "metadata": {},
   "outputs": [
    {
     "data": {
      "text/html": [
       "<div>\n",
       "<style scoped>\n",
       "    .dataframe tbody tr th:only-of-type {\n",
       "        vertical-align: middle;\n",
       "    }\n",
       "\n",
       "    .dataframe tbody tr th {\n",
       "        vertical-align: top;\n",
       "    }\n",
       "\n",
       "    .dataframe thead th {\n",
       "        text-align: right;\n",
       "    }\n",
       "</style>\n",
       "<table border=\"1\" class=\"dataframe\">\n",
       "  <thead>\n",
       "    <tr style=\"text-align: right;\">\n",
       "      <th></th>\n",
       "      <th>p_vec_0</th>\n",
       "      <th>p_vec_1</th>\n",
       "      <th>p_vec_2</th>\n",
       "      <th>p_vec_3</th>\n",
       "      <th>p_vec_4</th>\n",
       "      <th>p_vec_5</th>\n",
       "      <th>p_vec_6</th>\n",
       "      <th>p_vec_7</th>\n",
       "      <th>p_vec_8</th>\n",
       "      <th>p_vec_9</th>\n",
       "      <th>p_vec_10</th>\n",
       "      <th>p_vec_11</th>\n",
       "      <th>p_vec_12</th>\n",
       "      <th>p_vec_13</th>\n",
       "      <th>p_vec_14</th>\n",
       "      <th>p_vec_15</th>\n",
       "      <th>p_vec_16</th>\n",
       "      <th>p_vec_17</th>\n",
       "    </tr>\n",
       "  </thead>\n",
       "  <tbody>\n",
       "    <tr>\n",
       "      <th>0</th>\n",
       "      <td>0.007508</td>\n",
       "      <td>-0.008221</td>\n",
       "      <td>-0.019116</td>\n",
       "      <td>-0.005250</td>\n",
       "      <td>0.001566</td>\n",
       "      <td>0.012003</td>\n",
       "      <td>-0.008436</td>\n",
       "      <td>-0.019355</td>\n",
       "      <td>-0.009274</td>\n",
       "      <td>0.018805</td>\n",
       "      <td>-0.014826</td>\n",
       "      <td>0.024534</td>\n",
       "      <td>-0.026125</td>\n",
       "      <td>-0.018985</td>\n",
       "      <td>-0.012861</td>\n",
       "      <td>0.023923</td>\n",
       "      <td>0.015246</td>\n",
       "      <td>0.018545</td>\n",
       "    </tr>\n",
       "    <tr>\n",
       "      <th>1</th>\n",
       "      <td>0.007508</td>\n",
       "      <td>-0.008221</td>\n",
       "      <td>-0.019116</td>\n",
       "      <td>-0.005250</td>\n",
       "      <td>0.001566</td>\n",
       "      <td>0.012003</td>\n",
       "      <td>-0.008436</td>\n",
       "      <td>-0.019355</td>\n",
       "      <td>-0.009274</td>\n",
       "      <td>0.018805</td>\n",
       "      <td>-0.014826</td>\n",
       "      <td>0.024534</td>\n",
       "      <td>-0.026125</td>\n",
       "      <td>-0.018985</td>\n",
       "      <td>-0.012861</td>\n",
       "      <td>0.023923</td>\n",
       "      <td>0.015246</td>\n",
       "      <td>0.018545</td>\n",
       "    </tr>\n",
       "    <tr>\n",
       "      <th>2</th>\n",
       "      <td>0.007508</td>\n",
       "      <td>-0.008221</td>\n",
       "      <td>-0.019116</td>\n",
       "      <td>-0.005250</td>\n",
       "      <td>0.001566</td>\n",
       "      <td>0.012003</td>\n",
       "      <td>-0.008436</td>\n",
       "      <td>-0.019355</td>\n",
       "      <td>-0.009274</td>\n",
       "      <td>0.018805</td>\n",
       "      <td>-0.014826</td>\n",
       "      <td>0.024534</td>\n",
       "      <td>-0.026125</td>\n",
       "      <td>-0.018985</td>\n",
       "      <td>-0.012861</td>\n",
       "      <td>0.023923</td>\n",
       "      <td>0.015246</td>\n",
       "      <td>0.018545</td>\n",
       "    </tr>\n",
       "    <tr>\n",
       "      <th>3</th>\n",
       "      <td>-0.012694</td>\n",
       "      <td>0.006602</td>\n",
       "      <td>-0.012751</td>\n",
       "      <td>0.012468</td>\n",
       "      <td>0.020460</td>\n",
       "      <td>-0.008088</td>\n",
       "      <td>-0.026354</td>\n",
       "      <td>-0.027765</td>\n",
       "      <td>0.025904</td>\n",
       "      <td>0.016994</td>\n",
       "      <td>0.006162</td>\n",
       "      <td>0.019634</td>\n",
       "      <td>0.017726</td>\n",
       "      <td>0.020254</td>\n",
       "      <td>0.018650</td>\n",
       "      <td>0.026383</td>\n",
       "      <td>0.023289</td>\n",
       "      <td>-0.010726</td>\n",
       "    </tr>\n",
       "    <tr>\n",
       "      <th>4</th>\n",
       "      <td>-0.012694</td>\n",
       "      <td>0.006602</td>\n",
       "      <td>-0.012751</td>\n",
       "      <td>0.012468</td>\n",
       "      <td>0.020460</td>\n",
       "      <td>-0.008088</td>\n",
       "      <td>-0.026354</td>\n",
       "      <td>-0.027765</td>\n",
       "      <td>0.025904</td>\n",
       "      <td>0.016994</td>\n",
       "      <td>0.006162</td>\n",
       "      <td>0.019634</td>\n",
       "      <td>0.017726</td>\n",
       "      <td>0.020254</td>\n",
       "      <td>0.018650</td>\n",
       "      <td>0.026383</td>\n",
       "      <td>0.023289</td>\n",
       "      <td>-0.010726</td>\n",
       "    </tr>\n",
       "  </tbody>\n",
       "</table>\n",
       "</div>"
      ],
      "text/plain": [
       "    p_vec_0   p_vec_1   p_vec_2   p_vec_3   p_vec_4   p_vec_5   p_vec_6  \\\n",
       "0  0.007508 -0.008221 -0.019116 -0.005250  0.001566  0.012003 -0.008436   \n",
       "1  0.007508 -0.008221 -0.019116 -0.005250  0.001566  0.012003 -0.008436   \n",
       "2  0.007508 -0.008221 -0.019116 -0.005250  0.001566  0.012003 -0.008436   \n",
       "3 -0.012694  0.006602 -0.012751  0.012468  0.020460 -0.008088 -0.026354   \n",
       "4 -0.012694  0.006602 -0.012751  0.012468  0.020460 -0.008088 -0.026354   \n",
       "\n",
       "    p_vec_7   p_vec_8   p_vec_9  p_vec_10  p_vec_11  p_vec_12  p_vec_13  \\\n",
       "0 -0.019355 -0.009274  0.018805 -0.014826  0.024534 -0.026125 -0.018985   \n",
       "1 -0.019355 -0.009274  0.018805 -0.014826  0.024534 -0.026125 -0.018985   \n",
       "2 -0.019355 -0.009274  0.018805 -0.014826  0.024534 -0.026125 -0.018985   \n",
       "3 -0.027765  0.025904  0.016994  0.006162  0.019634  0.017726  0.020254   \n",
       "4 -0.027765  0.025904  0.016994  0.006162  0.019634  0.017726  0.020254   \n",
       "\n",
       "   p_vec_14  p_vec_15  p_vec_16  p_vec_17  \n",
       "0 -0.012861  0.023923  0.015246  0.018545  \n",
       "1 -0.012861  0.023923  0.015246  0.018545  \n",
       "2 -0.012861  0.023923  0.015246  0.018545  \n",
       "3  0.018650  0.026383  0.023289 -0.010726  \n",
       "4  0.018650  0.026383  0.023289 -0.010726  "
      ]
     },
     "execution_count": 31,
     "metadata": {},
     "output_type": "execute_result"
    }
   ],
   "source": [
    "p_vec_df = pd.DataFrame(d2v_p_vecs, columns=p_vec_cols)\n",
    "p_vec_df.head()"
   ]
  },
  {
   "cell_type": "code",
   "execution_count": 32,
   "metadata": {},
   "outputs": [],
   "source": [
    "for col_name in p_vec_cols:\n",
    "    vec_df[col_name] = p_vec_df[col_name]"
   ]
  },
  {
   "cell_type": "code",
   "execution_count": 33,
   "metadata": {},
   "outputs": [
    {
     "data": {
      "text/plain": [
       "(74115, 50)"
      ]
     },
     "execution_count": 33,
     "metadata": {},
     "output_type": "execute_result"
    }
   ],
   "source": [
    "vec_df.shape"
   ]
  },
  {
   "cell_type": "markdown",
   "metadata": {},
   "source": [
    "Testing Texts"
   ]
  },
  {
   "cell_type": "code",
   "execution_count": 34,
   "metadata": {},
   "outputs": [
    {
     "data": {
      "text/html": [
       "<div>\n",
       "<style scoped>\n",
       "    .dataframe tbody tr th:only-of-type {\n",
       "        vertical-align: middle;\n",
       "    }\n",
       "\n",
       "    .dataframe tbody tr th {\n",
       "        vertical-align: top;\n",
       "    }\n",
       "\n",
       "    .dataframe thead th {\n",
       "        text-align: right;\n",
       "    }\n",
       "</style>\n",
       "<table border=\"1\" class=\"dataframe\">\n",
       "  <thead>\n",
       "    <tr style=\"text-align: right;\">\n",
       "      <th></th>\n",
       "      <th>s_vec_0</th>\n",
       "      <th>s_vec_1</th>\n",
       "      <th>s_vec_2</th>\n",
       "      <th>s_vec_3</th>\n",
       "      <th>s_vec_4</th>\n",
       "      <th>s_vec_5</th>\n",
       "      <th>s_vec_6</th>\n",
       "      <th>s_vec_7</th>\n",
       "      <th>s_vec_8</th>\n",
       "      <th>s_vec_9</th>\n",
       "      <th>...</th>\n",
       "      <th>s_vec_22</th>\n",
       "      <th>s_vec_23</th>\n",
       "      <th>s_vec_24</th>\n",
       "      <th>s_vec_25</th>\n",
       "      <th>s_vec_26</th>\n",
       "      <th>s_vec_27</th>\n",
       "      <th>s_vec_28</th>\n",
       "      <th>s_vec_29</th>\n",
       "      <th>s_vec_30</th>\n",
       "      <th>s_vec_31</th>\n",
       "    </tr>\n",
       "  </thead>\n",
       "  <tbody>\n",
       "    <tr>\n",
       "      <th>0</th>\n",
       "      <td>0.000008</td>\n",
       "      <td>-0.008943</td>\n",
       "      <td>-0.008056</td>\n",
       "      <td>-0.015117</td>\n",
       "      <td>0.001085</td>\n",
       "      <td>0.000351</td>\n",
       "      <td>0.007255</td>\n",
       "      <td>-0.013254</td>\n",
       "      <td>-0.003751</td>\n",
       "      <td>-0.013496</td>\n",
       "      <td>...</td>\n",
       "      <td>0.015456</td>\n",
       "      <td>-0.011774</td>\n",
       "      <td>0.003357</td>\n",
       "      <td>0.006641</td>\n",
       "      <td>0.003017</td>\n",
       "      <td>-0.011106</td>\n",
       "      <td>-0.008946</td>\n",
       "      <td>-0.010291</td>\n",
       "      <td>0.014659</td>\n",
       "      <td>-0.010295</td>\n",
       "    </tr>\n",
       "    <tr>\n",
       "      <th>1</th>\n",
       "      <td>0.001525</td>\n",
       "      <td>0.006725</td>\n",
       "      <td>0.003211</td>\n",
       "      <td>0.001403</td>\n",
       "      <td>-0.002386</td>\n",
       "      <td>0.004559</td>\n",
       "      <td>-0.001950</td>\n",
       "      <td>0.012243</td>\n",
       "      <td>0.014489</td>\n",
       "      <td>-0.003642</td>\n",
       "      <td>...</td>\n",
       "      <td>-0.001204</td>\n",
       "      <td>0.008767</td>\n",
       "      <td>-0.011929</td>\n",
       "      <td>0.004373</td>\n",
       "      <td>-0.011145</td>\n",
       "      <td>0.013896</td>\n",
       "      <td>0.000683</td>\n",
       "      <td>-0.002667</td>\n",
       "      <td>-0.007358</td>\n",
       "      <td>0.008570</td>\n",
       "    </tr>\n",
       "    <tr>\n",
       "      <th>2</th>\n",
       "      <td>-0.005480</td>\n",
       "      <td>0.013700</td>\n",
       "      <td>0.010534</td>\n",
       "      <td>-0.001587</td>\n",
       "      <td>-0.010978</td>\n",
       "      <td>0.004592</td>\n",
       "      <td>-0.012572</td>\n",
       "      <td>0.008551</td>\n",
       "      <td>0.012623</td>\n",
       "      <td>-0.000427</td>\n",
       "      <td>...</td>\n",
       "      <td>0.006316</td>\n",
       "      <td>-0.009491</td>\n",
       "      <td>-0.004088</td>\n",
       "      <td>-0.015113</td>\n",
       "      <td>-0.002937</td>\n",
       "      <td>-0.013021</td>\n",
       "      <td>-0.004485</td>\n",
       "      <td>-0.001282</td>\n",
       "      <td>0.015381</td>\n",
       "      <td>-0.012993</td>\n",
       "    </tr>\n",
       "    <tr>\n",
       "      <th>3</th>\n",
       "      <td>0.008601</td>\n",
       "      <td>0.012692</td>\n",
       "      <td>0.002467</td>\n",
       "      <td>-0.011486</td>\n",
       "      <td>-0.014021</td>\n",
       "      <td>-0.013896</td>\n",
       "      <td>0.003447</td>\n",
       "      <td>0.004098</td>\n",
       "      <td>0.011823</td>\n",
       "      <td>0.002959</td>\n",
       "      <td>...</td>\n",
       "      <td>0.001026</td>\n",
       "      <td>-0.001139</td>\n",
       "      <td>0.015386</td>\n",
       "      <td>-0.000064</td>\n",
       "      <td>0.011331</td>\n",
       "      <td>0.005836</td>\n",
       "      <td>-0.002353</td>\n",
       "      <td>0.011362</td>\n",
       "      <td>-0.001275</td>\n",
       "      <td>-0.014506</td>\n",
       "    </tr>\n",
       "    <tr>\n",
       "      <th>4</th>\n",
       "      <td>0.013156</td>\n",
       "      <td>0.008079</td>\n",
       "      <td>0.006109</td>\n",
       "      <td>0.010705</td>\n",
       "      <td>0.007149</td>\n",
       "      <td>0.015479</td>\n",
       "      <td>0.013234</td>\n",
       "      <td>-0.003879</td>\n",
       "      <td>-0.004706</td>\n",
       "      <td>-0.006246</td>\n",
       "      <td>...</td>\n",
       "      <td>-0.002134</td>\n",
       "      <td>0.004156</td>\n",
       "      <td>-0.013784</td>\n",
       "      <td>0.002654</td>\n",
       "      <td>0.013832</td>\n",
       "      <td>-0.001058</td>\n",
       "      <td>-0.007675</td>\n",
       "      <td>0.010734</td>\n",
       "      <td>-0.012753</td>\n",
       "      <td>0.009998</td>\n",
       "    </tr>\n",
       "  </tbody>\n",
       "</table>\n",
       "<p>5 rows × 32 columns</p>\n",
       "</div>"
      ],
      "text/plain": [
       "    s_vec_0   s_vec_1   s_vec_2   s_vec_3   s_vec_4   s_vec_5   s_vec_6  \\\n",
       "0  0.000008 -0.008943 -0.008056 -0.015117  0.001085  0.000351  0.007255   \n",
       "1  0.001525  0.006725  0.003211  0.001403 -0.002386  0.004559 -0.001950   \n",
       "2 -0.005480  0.013700  0.010534 -0.001587 -0.010978  0.004592 -0.012572   \n",
       "3  0.008601  0.012692  0.002467 -0.011486 -0.014021 -0.013896  0.003447   \n",
       "4  0.013156  0.008079  0.006109  0.010705  0.007149  0.015479  0.013234   \n",
       "\n",
       "    s_vec_7   s_vec_8   s_vec_9    ...     s_vec_22  s_vec_23  s_vec_24  \\\n",
       "0 -0.013254 -0.003751 -0.013496    ...     0.015456 -0.011774  0.003357   \n",
       "1  0.012243  0.014489 -0.003642    ...    -0.001204  0.008767 -0.011929   \n",
       "2  0.008551  0.012623 -0.000427    ...     0.006316 -0.009491 -0.004088   \n",
       "3  0.004098  0.011823  0.002959    ...     0.001026 -0.001139  0.015386   \n",
       "4 -0.003879 -0.004706 -0.006246    ...    -0.002134  0.004156 -0.013784   \n",
       "\n",
       "   s_vec_25  s_vec_26  s_vec_27  s_vec_28  s_vec_29  s_vec_30  s_vec_31  \n",
       "0  0.006641  0.003017 -0.011106 -0.008946 -0.010291  0.014659 -0.010295  \n",
       "1  0.004373 -0.011145  0.013896  0.000683 -0.002667 -0.007358  0.008570  \n",
       "2 -0.015113 -0.002937 -0.013021 -0.004485 -0.001282  0.015381 -0.012993  \n",
       "3 -0.000064  0.011331  0.005836 -0.002353  0.011362 -0.001275 -0.014506  \n",
       "4  0.002654  0.013832 -0.001058 -0.007675  0.010734 -0.012753  0.009998  \n",
       "\n",
       "[5 rows x 32 columns]"
      ]
     },
     "execution_count": 34,
     "metadata": {},
     "output_type": "execute_result"
    }
   ],
   "source": [
    "t_vec_df = pd.DataFrame(t_d2v_s_vecs, columns=s_vec_cols)\n",
    "t_vec_df.head()"
   ]
  },
  {
   "cell_type": "code",
   "execution_count": 35,
   "metadata": {},
   "outputs": [
    {
     "data": {
      "text/html": [
       "<div>\n",
       "<style scoped>\n",
       "    .dataframe tbody tr th:only-of-type {\n",
       "        vertical-align: middle;\n",
       "    }\n",
       "\n",
       "    .dataframe tbody tr th {\n",
       "        vertical-align: top;\n",
       "    }\n",
       "\n",
       "    .dataframe thead th {\n",
       "        text-align: right;\n",
       "    }\n",
       "</style>\n",
       "<table border=\"1\" class=\"dataframe\">\n",
       "  <thead>\n",
       "    <tr style=\"text-align: right;\">\n",
       "      <th></th>\n",
       "      <th>p_vec_0</th>\n",
       "      <th>p_vec_1</th>\n",
       "      <th>p_vec_2</th>\n",
       "      <th>p_vec_3</th>\n",
       "      <th>p_vec_4</th>\n",
       "      <th>p_vec_5</th>\n",
       "      <th>p_vec_6</th>\n",
       "      <th>p_vec_7</th>\n",
       "      <th>p_vec_8</th>\n",
       "      <th>p_vec_9</th>\n",
       "      <th>p_vec_10</th>\n",
       "      <th>p_vec_11</th>\n",
       "      <th>p_vec_12</th>\n",
       "      <th>p_vec_13</th>\n",
       "      <th>p_vec_14</th>\n",
       "      <th>p_vec_15</th>\n",
       "      <th>p_vec_16</th>\n",
       "      <th>p_vec_17</th>\n",
       "    </tr>\n",
       "  </thead>\n",
       "  <tbody>\n",
       "    <tr>\n",
       "      <th>0</th>\n",
       "      <td>0.000015</td>\n",
       "      <td>-0.015899</td>\n",
       "      <td>-0.014323</td>\n",
       "      <td>-0.026875</td>\n",
       "      <td>0.001928</td>\n",
       "      <td>0.000625</td>\n",
       "      <td>0.012898</td>\n",
       "      <td>-0.023562</td>\n",
       "      <td>-0.006669</td>\n",
       "      <td>-0.023993</td>\n",
       "      <td>-0.005121</td>\n",
       "      <td>0.000440</td>\n",
       "      <td>0.026449</td>\n",
       "      <td>0.026704</td>\n",
       "      <td>-0.026971</td>\n",
       "      <td>0.015114</td>\n",
       "      <td>-0.014864</td>\n",
       "      <td>0.007920</td>\n",
       "    </tr>\n",
       "    <tr>\n",
       "      <th>1</th>\n",
       "      <td>0.000015</td>\n",
       "      <td>-0.015899</td>\n",
       "      <td>-0.014323</td>\n",
       "      <td>-0.026875</td>\n",
       "      <td>0.001928</td>\n",
       "      <td>0.000625</td>\n",
       "      <td>0.012898</td>\n",
       "      <td>-0.023562</td>\n",
       "      <td>-0.006669</td>\n",
       "      <td>-0.023993</td>\n",
       "      <td>-0.005121</td>\n",
       "      <td>0.000440</td>\n",
       "      <td>0.026449</td>\n",
       "      <td>0.026704</td>\n",
       "      <td>-0.026971</td>\n",
       "      <td>0.015114</td>\n",
       "      <td>-0.014864</td>\n",
       "      <td>0.007920</td>\n",
       "    </tr>\n",
       "    <tr>\n",
       "      <th>2</th>\n",
       "      <td>0.001240</td>\n",
       "      <td>0.020633</td>\n",
       "      <td>-0.003893</td>\n",
       "      <td>0.002280</td>\n",
       "      <td>-0.003181</td>\n",
       "      <td>-0.018474</td>\n",
       "      <td>-0.013665</td>\n",
       "      <td>0.006410</td>\n",
       "      <td>-0.019669</td>\n",
       "      <td>0.000017</td>\n",
       "      <td>0.003914</td>\n",
       "      <td>-0.004053</td>\n",
       "      <td>0.017850</td>\n",
       "      <td>-0.017501</td>\n",
       "      <td>-0.026088</td>\n",
       "      <td>0.003198</td>\n",
       "      <td>-0.004491</td>\n",
       "      <td>-0.019510</td>\n",
       "    </tr>\n",
       "    <tr>\n",
       "      <th>3</th>\n",
       "      <td>0.001240</td>\n",
       "      <td>0.020633</td>\n",
       "      <td>-0.003893</td>\n",
       "      <td>0.002280</td>\n",
       "      <td>-0.003181</td>\n",
       "      <td>-0.018474</td>\n",
       "      <td>-0.013665</td>\n",
       "      <td>0.006410</td>\n",
       "      <td>-0.019669</td>\n",
       "      <td>0.000017</td>\n",
       "      <td>0.003914</td>\n",
       "      <td>-0.004053</td>\n",
       "      <td>0.017850</td>\n",
       "      <td>-0.017501</td>\n",
       "      <td>-0.026088</td>\n",
       "      <td>0.003198</td>\n",
       "      <td>-0.004491</td>\n",
       "      <td>-0.019510</td>\n",
       "    </tr>\n",
       "    <tr>\n",
       "      <th>4</th>\n",
       "      <td>0.023388</td>\n",
       "      <td>0.014362</td>\n",
       "      <td>0.010860</td>\n",
       "      <td>0.019032</td>\n",
       "      <td>0.012710</td>\n",
       "      <td>0.027518</td>\n",
       "      <td>0.023526</td>\n",
       "      <td>-0.006895</td>\n",
       "      <td>-0.008366</td>\n",
       "      <td>-0.011105</td>\n",
       "      <td>0.007186</td>\n",
       "      <td>0.018796</td>\n",
       "      <td>0.019055</td>\n",
       "      <td>0.001408</td>\n",
       "      <td>-0.019603</td>\n",
       "      <td>0.018545</td>\n",
       "      <td>0.017376</td>\n",
       "      <td>0.014727</td>\n",
       "    </tr>\n",
       "  </tbody>\n",
       "</table>\n",
       "</div>"
      ],
      "text/plain": [
       "    p_vec_0   p_vec_1   p_vec_2   p_vec_3   p_vec_4   p_vec_5   p_vec_6  \\\n",
       "0  0.000015 -0.015899 -0.014323 -0.026875  0.001928  0.000625  0.012898   \n",
       "1  0.000015 -0.015899 -0.014323 -0.026875  0.001928  0.000625  0.012898   \n",
       "2  0.001240  0.020633 -0.003893  0.002280 -0.003181 -0.018474 -0.013665   \n",
       "3  0.001240  0.020633 -0.003893  0.002280 -0.003181 -0.018474 -0.013665   \n",
       "4  0.023388  0.014362  0.010860  0.019032  0.012710  0.027518  0.023526   \n",
       "\n",
       "    p_vec_7   p_vec_8   p_vec_9  p_vec_10  p_vec_11  p_vec_12  p_vec_13  \\\n",
       "0 -0.023562 -0.006669 -0.023993 -0.005121  0.000440  0.026449  0.026704   \n",
       "1 -0.023562 -0.006669 -0.023993 -0.005121  0.000440  0.026449  0.026704   \n",
       "2  0.006410 -0.019669  0.000017  0.003914 -0.004053  0.017850 -0.017501   \n",
       "3  0.006410 -0.019669  0.000017  0.003914 -0.004053  0.017850 -0.017501   \n",
       "4 -0.006895 -0.008366 -0.011105  0.007186  0.018796  0.019055  0.001408   \n",
       "\n",
       "   p_vec_14  p_vec_15  p_vec_16  p_vec_17  \n",
       "0 -0.026971  0.015114 -0.014864  0.007920  \n",
       "1 -0.026971  0.015114 -0.014864  0.007920  \n",
       "2 -0.026088  0.003198 -0.004491 -0.019510  \n",
       "3 -0.026088  0.003198 -0.004491 -0.019510  \n",
       "4 -0.019603  0.018545  0.017376  0.014727  "
      ]
     },
     "execution_count": 35,
     "metadata": {},
     "output_type": "execute_result"
    }
   ],
   "source": [
    "t_p_vec_df = pd.DataFrame(t_d2v_p_vecs, columns=p_vec_cols)\n",
    "t_p_vec_df.head()"
   ]
  },
  {
   "cell_type": "code",
   "execution_count": 36,
   "metadata": {},
   "outputs": [],
   "source": [
    "for col_name in p_vec_cols:\n",
    "    t_vec_df[col_name] = t_p_vec_df[col_name]"
   ]
  },
  {
   "cell_type": "code",
   "execution_count": 37,
   "metadata": {},
   "outputs": [
    {
     "data": {
      "text/plain": [
       "(8870, 50)"
      ]
     },
     "execution_count": 37,
     "metadata": {},
     "output_type": "execute_result"
    }
   ],
   "source": [
    "t_vec_df.shape"
   ]
  },
  {
   "cell_type": "markdown",
   "metadata": {},
   "source": [
    "**Save Vector DataFrames to Disk**"
   ]
  },
  {
   "cell_type": "code",
   "execution_count": 38,
   "metadata": {},
   "outputs": [],
   "source": [
    "vec_df.to_csv('../data_vec/vec_df.csv', index=False)"
   ]
  },
  {
   "cell_type": "code",
   "execution_count": 39,
   "metadata": {},
   "outputs": [],
   "source": [
    "t_vec_df.to_csv('../data_vec/t_vec_df.csv', index=False)"
   ]
  },
  {
   "cell_type": "code",
   "execution_count": 40,
   "metadata": {},
   "outputs": [],
   "source": [
    "vec_df = pd.read_csv('../data_vec/vec_df.csv')"
   ]
  },
  {
   "cell_type": "code",
   "execution_count": 41,
   "metadata": {},
   "outputs": [],
   "source": [
    "t_vec_df = pd.read_csv('../data_vec/t_vec_df.csv')"
   ]
  },
  {
   "cell_type": "markdown",
   "metadata": {},
   "source": [
    "### 3.2.2 Combine Vectors with LDA Features"
   ]
  },
  {
   "cell_type": "markdown",
   "metadata": {},
   "source": [
    "**Load LDA Features**"
   ]
  },
  {
   "cell_type": "code",
   "execution_count": 42,
   "metadata": {},
   "outputs": [],
   "source": [
    "lda_train = pd.read_csv('../data_vec/lda_train.csv')\n",
    "lda_test = pd.read_csv('../data_vec/lda_test.csv')"
   ]
  },
  {
   "cell_type": "code",
   "execution_count": 43,
   "metadata": {},
   "outputs": [],
   "source": [
    "prep_train = pd.merge(vec_df, lda_train, right_index=True, left_index=True)\n",
    "prep_test = pd.merge(t_vec_df, lda_test, right_index=True, left_index=True)"
   ]
  },
  {
   "cell_type": "code",
   "execution_count": 44,
   "metadata": {},
   "outputs": [
    {
     "data": {
      "text/html": [
       "<div>\n",
       "<style scoped>\n",
       "    .dataframe tbody tr th:only-of-type {\n",
       "        vertical-align: middle;\n",
       "    }\n",
       "\n",
       "    .dataframe tbody tr th {\n",
       "        vertical-align: top;\n",
       "    }\n",
       "\n",
       "    .dataframe thead th {\n",
       "        text-align: right;\n",
       "    }\n",
       "</style>\n",
       "<table border=\"1\" class=\"dataframe\">\n",
       "  <thead>\n",
       "    <tr style=\"text-align: right;\">\n",
       "      <th></th>\n",
       "      <th>s_vec_0</th>\n",
       "      <th>s_vec_1</th>\n",
       "      <th>s_vec_2</th>\n",
       "      <th>s_vec_3</th>\n",
       "      <th>s_vec_4</th>\n",
       "      <th>s_vec_5</th>\n",
       "      <th>s_vec_6</th>\n",
       "      <th>s_vec_7</th>\n",
       "      <th>s_vec_8</th>\n",
       "      <th>s_vec_9</th>\n",
       "      <th>...</th>\n",
       "      <th>p11_lda_consciousness</th>\n",
       "      <th>p12_lda_god</th>\n",
       "      <th>p13_lda_mankind</th>\n",
       "      <th>p14_lda_weekend</th>\n",
       "      <th>p15_lda_pleasure</th>\n",
       "      <th>p16_lda_opacity</th>\n",
       "      <th>p17_lda_downside</th>\n",
       "      <th>a_num</th>\n",
       "      <th>p_num</th>\n",
       "      <th>s_num</th>\n",
       "    </tr>\n",
       "  </thead>\n",
       "  <tbody>\n",
       "    <tr>\n",
       "      <th>0</th>\n",
       "      <td>0.013877</td>\n",
       "      <td>-0.012148</td>\n",
       "      <td>0.007006</td>\n",
       "      <td>-0.015396</td>\n",
       "      <td>-0.002656</td>\n",
       "      <td>-0.003490</td>\n",
       "      <td>0.011716</td>\n",
       "      <td>0.004230</td>\n",
       "      <td>0.006907</td>\n",
       "      <td>0.002547</td>\n",
       "      <td>...</td>\n",
       "      <td>0.011534</td>\n",
       "      <td>0.011534</td>\n",
       "      <td>0.011534</td>\n",
       "      <td>0.011534</td>\n",
       "      <td>0.011534</td>\n",
       "      <td>0.011534</td>\n",
       "      <td>0.011534</td>\n",
       "      <td>0</td>\n",
       "      <td>0</td>\n",
       "      <td>0</td>\n",
       "    </tr>\n",
       "    <tr>\n",
       "      <th>1</th>\n",
       "      <td>-0.015537</td>\n",
       "      <td>-0.014925</td>\n",
       "      <td>-0.003562</td>\n",
       "      <td>0.007443</td>\n",
       "      <td>-0.003987</td>\n",
       "      <td>-0.000591</td>\n",
       "      <td>0.015054</td>\n",
       "      <td>0.012240</td>\n",
       "      <td>-0.015296</td>\n",
       "      <td>0.011213</td>\n",
       "      <td>...</td>\n",
       "      <td>0.011534</td>\n",
       "      <td>0.011534</td>\n",
       "      <td>0.011534</td>\n",
       "      <td>0.011534</td>\n",
       "      <td>0.011534</td>\n",
       "      <td>0.011534</td>\n",
       "      <td>0.011534</td>\n",
       "      <td>0</td>\n",
       "      <td>0</td>\n",
       "      <td>1</td>\n",
       "    </tr>\n",
       "    <tr>\n",
       "      <th>2</th>\n",
       "      <td>0.006117</td>\n",
       "      <td>0.000151</td>\n",
       "      <td>0.008452</td>\n",
       "      <td>-0.000479</td>\n",
       "      <td>-0.014821</td>\n",
       "      <td>0.008976</td>\n",
       "      <td>-0.013490</td>\n",
       "      <td>-0.006188</td>\n",
       "      <td>-0.013559</td>\n",
       "      <td>-0.002593</td>\n",
       "      <td>...</td>\n",
       "      <td>0.011534</td>\n",
       "      <td>0.011534</td>\n",
       "      <td>0.011534</td>\n",
       "      <td>0.011534</td>\n",
       "      <td>0.011534</td>\n",
       "      <td>0.011534</td>\n",
       "      <td>0.011534</td>\n",
       "      <td>0</td>\n",
       "      <td>0</td>\n",
       "      <td>2</td>\n",
       "    </tr>\n",
       "    <tr>\n",
       "      <th>3</th>\n",
       "      <td>0.003889</td>\n",
       "      <td>0.011431</td>\n",
       "      <td>0.007139</td>\n",
       "      <td>0.012332</td>\n",
       "      <td>-0.000440</td>\n",
       "      <td>-0.009316</td>\n",
       "      <td>-0.000799</td>\n",
       "      <td>0.000181</td>\n",
       "      <td>-0.012577</td>\n",
       "      <td>-0.013329</td>\n",
       "      <td>...</td>\n",
       "      <td>0.012096</td>\n",
       "      <td>0.012096</td>\n",
       "      <td>0.012096</td>\n",
       "      <td>0.012096</td>\n",
       "      <td>0.012096</td>\n",
       "      <td>0.012096</td>\n",
       "      <td>0.012096</td>\n",
       "      <td>0</td>\n",
       "      <td>1</td>\n",
       "      <td>0</td>\n",
       "    </tr>\n",
       "    <tr>\n",
       "      <th>4</th>\n",
       "      <td>-0.006190</td>\n",
       "      <td>0.011925</td>\n",
       "      <td>0.012945</td>\n",
       "      <td>-0.004754</td>\n",
       "      <td>-0.004691</td>\n",
       "      <td>0.004129</td>\n",
       "      <td>-0.015233</td>\n",
       "      <td>-0.010919</td>\n",
       "      <td>0.009673</td>\n",
       "      <td>-0.005051</td>\n",
       "      <td>...</td>\n",
       "      <td>0.012096</td>\n",
       "      <td>0.012096</td>\n",
       "      <td>0.012096</td>\n",
       "      <td>0.012096</td>\n",
       "      <td>0.012096</td>\n",
       "      <td>0.012096</td>\n",
       "      <td>0.012096</td>\n",
       "      <td>0</td>\n",
       "      <td>1</td>\n",
       "      <td>1</td>\n",
       "    </tr>\n",
       "  </tbody>\n",
       "</table>\n",
       "<p>5 rows × 103 columns</p>\n",
       "</div>"
      ],
      "text/plain": [
       "    s_vec_0   s_vec_1   s_vec_2   s_vec_3   s_vec_4   s_vec_5   s_vec_6  \\\n",
       "0  0.013877 -0.012148  0.007006 -0.015396 -0.002656 -0.003490  0.011716   \n",
       "1 -0.015537 -0.014925 -0.003562  0.007443 -0.003987 -0.000591  0.015054   \n",
       "2  0.006117  0.000151  0.008452 -0.000479 -0.014821  0.008976 -0.013490   \n",
       "3  0.003889  0.011431  0.007139  0.012332 -0.000440 -0.009316 -0.000799   \n",
       "4 -0.006190  0.011925  0.012945 -0.004754 -0.004691  0.004129 -0.015233   \n",
       "\n",
       "    s_vec_7   s_vec_8   s_vec_9  ...    p11_lda_consciousness  p12_lda_god  \\\n",
       "0  0.004230  0.006907  0.002547  ...                 0.011534     0.011534   \n",
       "1  0.012240 -0.015296  0.011213  ...                 0.011534     0.011534   \n",
       "2 -0.006188 -0.013559 -0.002593  ...                 0.011534     0.011534   \n",
       "3  0.000181 -0.012577 -0.013329  ...                 0.012096     0.012096   \n",
       "4 -0.010919  0.009673 -0.005051  ...                 0.012096     0.012096   \n",
       "\n",
       "   p13_lda_mankind  p14_lda_weekend  p15_lda_pleasure  p16_lda_opacity  \\\n",
       "0         0.011534         0.011534          0.011534         0.011534   \n",
       "1         0.011534         0.011534          0.011534         0.011534   \n",
       "2         0.011534         0.011534          0.011534         0.011534   \n",
       "3         0.012096         0.012096          0.012096         0.012096   \n",
       "4         0.012096         0.012096          0.012096         0.012096   \n",
       "\n",
       "   p17_lda_downside  a_num  p_num  s_num  \n",
       "0          0.011534      0      0      0  \n",
       "1          0.011534      0      0      1  \n",
       "2          0.011534      0      0      2  \n",
       "3          0.012096      0      1      0  \n",
       "4          0.012096      0      1      1  \n",
       "\n",
       "[5 rows x 103 columns]"
      ]
     },
     "execution_count": 44,
     "metadata": {},
     "output_type": "execute_result"
    }
   ],
   "source": [
    "prep_train.head()"
   ]
  },
  {
   "cell_type": "code",
   "execution_count": 45,
   "metadata": {},
   "outputs": [
    {
     "data": {
      "text/plain": [
       "(74115, 103)"
      ]
     },
     "execution_count": 45,
     "metadata": {},
     "output_type": "execute_result"
    }
   ],
   "source": [
    "prep_train.shape"
   ]
  },
  {
   "cell_type": "code",
   "execution_count": 46,
   "metadata": {},
   "outputs": [
    {
     "data": {
      "text/html": [
       "<div>\n",
       "<style scoped>\n",
       "    .dataframe tbody tr th:only-of-type {\n",
       "        vertical-align: middle;\n",
       "    }\n",
       "\n",
       "    .dataframe tbody tr th {\n",
       "        vertical-align: top;\n",
       "    }\n",
       "\n",
       "    .dataframe thead th {\n",
       "        text-align: right;\n",
       "    }\n",
       "</style>\n",
       "<table border=\"1\" class=\"dataframe\">\n",
       "  <thead>\n",
       "    <tr style=\"text-align: right;\">\n",
       "      <th></th>\n",
       "      <th>s_vec_0</th>\n",
       "      <th>s_vec_1</th>\n",
       "      <th>s_vec_2</th>\n",
       "      <th>s_vec_3</th>\n",
       "      <th>s_vec_4</th>\n",
       "      <th>s_vec_5</th>\n",
       "      <th>s_vec_6</th>\n",
       "      <th>s_vec_7</th>\n",
       "      <th>s_vec_8</th>\n",
       "      <th>s_vec_9</th>\n",
       "      <th>...</th>\n",
       "      <th>p11_lda_consciousness</th>\n",
       "      <th>p12_lda_god</th>\n",
       "      <th>p13_lda_mankind</th>\n",
       "      <th>p14_lda_weekend</th>\n",
       "      <th>p15_lda_pleasure</th>\n",
       "      <th>p16_lda_opacity</th>\n",
       "      <th>p17_lda_downside</th>\n",
       "      <th>a_num</th>\n",
       "      <th>p_num</th>\n",
       "      <th>s_num</th>\n",
       "    </tr>\n",
       "  </thead>\n",
       "  <tbody>\n",
       "    <tr>\n",
       "      <th>0</th>\n",
       "      <td>0.000008</td>\n",
       "      <td>-0.008943</td>\n",
       "      <td>-0.008056</td>\n",
       "      <td>-0.015117</td>\n",
       "      <td>0.001085</td>\n",
       "      <td>0.000351</td>\n",
       "      <td>0.007255</td>\n",
       "      <td>-0.013254</td>\n",
       "      <td>-0.003751</td>\n",
       "      <td>-0.013496</td>\n",
       "      <td>...</td>\n",
       "      <td>0.011146</td>\n",
       "      <td>0.011146</td>\n",
       "      <td>0.011146</td>\n",
       "      <td>0.011146</td>\n",
       "      <td>0.011146</td>\n",
       "      <td>0.011146</td>\n",
       "      <td>0.011146</td>\n",
       "      <td>0</td>\n",
       "      <td>0</td>\n",
       "      <td>0</td>\n",
       "    </tr>\n",
       "    <tr>\n",
       "      <th>1</th>\n",
       "      <td>0.001525</td>\n",
       "      <td>0.006725</td>\n",
       "      <td>0.003211</td>\n",
       "      <td>0.001403</td>\n",
       "      <td>-0.002386</td>\n",
       "      <td>0.004559</td>\n",
       "      <td>-0.001950</td>\n",
       "      <td>0.012243</td>\n",
       "      <td>0.014489</td>\n",
       "      <td>-0.003642</td>\n",
       "      <td>...</td>\n",
       "      <td>0.011146</td>\n",
       "      <td>0.011146</td>\n",
       "      <td>0.011146</td>\n",
       "      <td>0.011146</td>\n",
       "      <td>0.011146</td>\n",
       "      <td>0.011146</td>\n",
       "      <td>0.011146</td>\n",
       "      <td>0</td>\n",
       "      <td>0</td>\n",
       "      <td>1</td>\n",
       "    </tr>\n",
       "    <tr>\n",
       "      <th>2</th>\n",
       "      <td>-0.005480</td>\n",
       "      <td>0.013700</td>\n",
       "      <td>0.010534</td>\n",
       "      <td>-0.001587</td>\n",
       "      <td>-0.010978</td>\n",
       "      <td>0.004592</td>\n",
       "      <td>-0.012572</td>\n",
       "      <td>0.008551</td>\n",
       "      <td>0.012623</td>\n",
       "      <td>-0.000427</td>\n",
       "      <td>...</td>\n",
       "      <td>0.010188</td>\n",
       "      <td>0.010188</td>\n",
       "      <td>0.010188</td>\n",
       "      <td>0.010188</td>\n",
       "      <td>0.010188</td>\n",
       "      <td>0.010188</td>\n",
       "      <td>0.054689</td>\n",
       "      <td>0</td>\n",
       "      <td>1</td>\n",
       "      <td>0</td>\n",
       "    </tr>\n",
       "    <tr>\n",
       "      <th>3</th>\n",
       "      <td>0.008601</td>\n",
       "      <td>0.012692</td>\n",
       "      <td>0.002467</td>\n",
       "      <td>-0.011486</td>\n",
       "      <td>-0.014021</td>\n",
       "      <td>-0.013896</td>\n",
       "      <td>0.003447</td>\n",
       "      <td>0.004098</td>\n",
       "      <td>0.011823</td>\n",
       "      <td>0.002959</td>\n",
       "      <td>...</td>\n",
       "      <td>0.010188</td>\n",
       "      <td>0.010188</td>\n",
       "      <td>0.010188</td>\n",
       "      <td>0.010188</td>\n",
       "      <td>0.010188</td>\n",
       "      <td>0.010188</td>\n",
       "      <td>0.055025</td>\n",
       "      <td>0</td>\n",
       "      <td>1</td>\n",
       "      <td>1</td>\n",
       "    </tr>\n",
       "    <tr>\n",
       "      <th>4</th>\n",
       "      <td>0.013156</td>\n",
       "      <td>0.008079</td>\n",
       "      <td>0.006109</td>\n",
       "      <td>0.010705</td>\n",
       "      <td>0.007149</td>\n",
       "      <td>0.015479</td>\n",
       "      <td>0.013234</td>\n",
       "      <td>-0.003879</td>\n",
       "      <td>-0.004706</td>\n",
       "      <td>-0.006246</td>\n",
       "      <td>...</td>\n",
       "      <td>0.011233</td>\n",
       "      <td>0.011233</td>\n",
       "      <td>0.011233</td>\n",
       "      <td>0.011233</td>\n",
       "      <td>0.011233</td>\n",
       "      <td>0.011233</td>\n",
       "      <td>0.011233</td>\n",
       "      <td>0</td>\n",
       "      <td>2</td>\n",
       "      <td>0</td>\n",
       "    </tr>\n",
       "  </tbody>\n",
       "</table>\n",
       "<p>5 rows × 103 columns</p>\n",
       "</div>"
      ],
      "text/plain": [
       "    s_vec_0   s_vec_1   s_vec_2   s_vec_3   s_vec_4   s_vec_5   s_vec_6  \\\n",
       "0  0.000008 -0.008943 -0.008056 -0.015117  0.001085  0.000351  0.007255   \n",
       "1  0.001525  0.006725  0.003211  0.001403 -0.002386  0.004559 -0.001950   \n",
       "2 -0.005480  0.013700  0.010534 -0.001587 -0.010978  0.004592 -0.012572   \n",
       "3  0.008601  0.012692  0.002467 -0.011486 -0.014021 -0.013896  0.003447   \n",
       "4  0.013156  0.008079  0.006109  0.010705  0.007149  0.015479  0.013234   \n",
       "\n",
       "    s_vec_7   s_vec_8   s_vec_9  ...    p11_lda_consciousness  p12_lda_god  \\\n",
       "0 -0.013254 -0.003751 -0.013496  ...                 0.011146     0.011146   \n",
       "1  0.012243  0.014489 -0.003642  ...                 0.011146     0.011146   \n",
       "2  0.008551  0.012623 -0.000427  ...                 0.010188     0.010188   \n",
       "3  0.004098  0.011823  0.002959  ...                 0.010188     0.010188   \n",
       "4 -0.003879 -0.004706 -0.006246  ...                 0.011233     0.011233   \n",
       "\n",
       "   p13_lda_mankind  p14_lda_weekend  p15_lda_pleasure  p16_lda_opacity  \\\n",
       "0         0.011146         0.011146          0.011146         0.011146   \n",
       "1         0.011146         0.011146          0.011146         0.011146   \n",
       "2         0.010188         0.010188          0.010188         0.010188   \n",
       "3         0.010188         0.010188          0.010188         0.010188   \n",
       "4         0.011233         0.011233          0.011233         0.011233   \n",
       "\n",
       "   p17_lda_downside  a_num  p_num  s_num  \n",
       "0          0.011146      0      0      0  \n",
       "1          0.011146      0      0      1  \n",
       "2          0.054689      0      1      0  \n",
       "3          0.055025      0      1      1  \n",
       "4          0.011233      0      2      0  \n",
       "\n",
       "[5 rows x 103 columns]"
      ]
     },
     "execution_count": 46,
     "metadata": {},
     "output_type": "execute_result"
    }
   ],
   "source": [
    "prep_test.head()"
   ]
  },
  {
   "cell_type": "code",
   "execution_count": 47,
   "metadata": {},
   "outputs": [
    {
     "data": {
      "text/plain": [
       "(8870, 103)"
      ]
     },
     "execution_count": 47,
     "metadata": {},
     "output_type": "execute_result"
    }
   ],
   "source": [
    "prep_test.shape"
   ]
  },
  {
   "cell_type": "markdown",
   "metadata": {},
   "source": [
    "**Save Train and Test Features to Disk**"
   ]
  },
  {
   "cell_type": "code",
   "execution_count": 48,
   "metadata": {},
   "outputs": [],
   "source": [
    "prep_train.to_csv('../data_vec/prep_train.csv', index=False)\n",
    "prep_test.to_csv('../data_vec/prep_test.csv', index=False)"
   ]
  },
  {
   "cell_type": "markdown",
   "metadata": {},
   "source": [
    "## Continue to Notebook 4: Multiclass Classification Models"
   ]
  }
 ],
 "metadata": {
  "kernelspec": {
   "display_name": "Environment (conda_tensorflow_p36)",
   "language": "python",
   "name": "conda_tensorflow_p36"
  },
  "language_info": {
   "codemirror_mode": {
    "name": "ipython",
    "version": 3
   },
   "file_extension": ".py",
   "mimetype": "text/x-python",
   "name": "python",
   "nbconvert_exporter": "python",
   "pygments_lexer": "ipython3",
   "version": "3.6.5"
  }
 },
 "nbformat": 4,
 "nbformat_minor": 2
}
