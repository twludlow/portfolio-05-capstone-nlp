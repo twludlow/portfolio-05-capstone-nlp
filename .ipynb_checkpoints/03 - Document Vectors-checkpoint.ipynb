{
 "cells": [
  {
   "cell_type": "markdown",
   "metadata": {},
   "source": [
    "# Capstone: Philosophical Factors for NLP\n",
    "**_Measuring Similarity to Philosophical Concepts in Text Data_**\n",
    "\n",
    "## Thomas W. Ludlow, Jr.\n",
    "**General Assembly Data Science Immersive DSI-NY-6**\n",
    "\n",
    "**February 12, 2019**"
   ]
  },
  {
   "cell_type": "markdown",
   "metadata": {},
   "source": [
    "# Notebook 3 - Document Vectors"
   ]
  },
  {
   "cell_type": "markdown",
   "metadata": {},
   "source": [
    "### Table of Contents"
   ]
  },
  {
   "cell_type": "markdown",
   "metadata": {},
   "source": [
    "[**3.1 Gensim Doc2Vec**](#3.1-Gensim-Doc2Vec)\n",
    "- [3.1.1 Create Tagged Documents](#3.1.1-Create-Tagged-Documents)\n",
    "- [3.1.2 Build Doc2Vec Models](#3.1.2-Build-Doc2Vec-Models)\n",
    "\n",
    "[**3.2 Doc2Vec Features for Corpora**](#3.2-Doc2Vec-Features-for-Corpora)\n",
    "- [3.2.1 3.2.1 Combine Sentence and Paragraph Vectors](#3.2.1-Combine-Sentence-and-Paragraph-Vectors)\n",
    "- [3.2.2 Combine Vectors with LDA Features](#3.2.2-Combine-Vectors-with-LDA-Features)"
   ]
  },
  {
   "cell_type": "markdown",
   "metadata": {},
   "source": [
    "**Libraries**"
   ]
  },
  {
   "cell_type": "code",
   "execution_count": 1,
   "metadata": {},
   "outputs": [],
   "source": [
    "# Python Data Science\n",
    "import re\n",
    "import ast\n",
    "import time\n",
    "import pickle\n",
    "import numpy as np\n",
    "import pandas as pd\n",
    "from tqdm import tqdm_notebook as tqdm\n",
    "\n",
    "# Natural Language Processing\n",
    "import spacy\n",
    "from nltk.stem import PorterStemmer\n",
    "\n",
    "# Gensim\n",
    "import gensim\n",
    "import gensim.downloader as api\n",
    "from gensim.corpora import Dictionary\n",
    "from gensim.models import TfidfModel, ldamulticore, CoherenceModel\n",
    "from gensim.models.word2vec import Word2Vec\n",
    "from gensim.models.doc2vec import Doc2Vec, TaggedDocument\n",
    "import pyLDAvis.gensim\n",
    "\n",
    "# Modeling Prep\n",
    "from sklearn.preprocessing import StandardScaler\n",
    "from sklearn.externals import joblib\n",
    "\n",
    "# Plotting\n",
    "import matplotlib.pyplot as plt\n",
    "%matplotlib inline\n",
    "\n",
    "# Override deprecation warnings\n",
    "import warnings\n",
    "warnings.filterwarnings(\"ignore\",category=DeprecationWarning)"
   ]
  },
  {
   "cell_type": "markdown",
   "metadata": {},
   "source": [
    "## 3.1 Gensim Doc2Vec"
   ]
  },
  {
   "cell_type": "markdown",
   "metadata": {},
   "source": [
    "**Load Preprocessed Text Data**"
   ]
  },
  {
   "cell_type": "code",
   "execution_count": 2,
   "metadata": {},
   "outputs": [],
   "source": [
    "nlp_df = pd.read_csv('../data_eda/nlp_df.csv')\n",
    "t_nlp_df = pd.read_csv('../data_eda/t_nlp_df.csv')"
   ]
  },
  {
   "cell_type": "code",
   "execution_count": 3,
   "metadata": {},
   "outputs": [],
   "source": [
    "text8_corpus = api.load('text8')"
   ]
  },
  {
   "cell_type": "code",
   "execution_count": 4,
   "metadata": {},
   "outputs": [],
   "source": [
    "text8_data = [d for d in text8_corpus]"
   ]
  },
  {
   "cell_type": "code",
   "execution_count": 5,
   "metadata": {},
   "outputs": [],
   "source": [
    "wiki_corpus = api.load('wiki-english-20171001')"
   ]
  },
  {
   "cell_type": "code",
   "execution_count": 6,
   "metadata": {},
   "outputs": [
    {
     "data": {
      "application/vnd.jupyter.widget-view+json": {
       "model_id": "14756d31d9d44c51b0de7b2272b158f4",
       "version_major": 2,
       "version_minor": 0
      },
      "text/plain": [
       "HBox(children=(IntProgress(value=1, bar_style='info', max=1), HTML(value='')))"
      ]
     },
     "metadata": {},
     "output_type": "display_data"
    },
    {
     "name": "stdout",
     "output_type": "stream",
     "text": [
      "\n"
     ]
    }
   ],
   "source": [
    "wiki_data = [d for d in tqdm(wiki_corpus)]"
   ]
  },
  {
   "cell_type": "markdown",
   "metadata": {},
   "source": [
    "### 3.1.1 Create Tagged Documents"
   ]
  },
  {
   "cell_type": "code",
   "execution_count": 7,
   "metadata": {},
   "outputs": [],
   "source": [
    "def create_tagged_document(list_of_list_of_words):\n",
    "    for i, list_of_words in enumerate(list_of_list_of_words):\n",
    "        yield gensim.models.doc2vec.TaggedDocument(list_of_words, [i])"
   ]
  },
  {
   "cell_type": "code",
   "execution_count": 8,
   "metadata": {},
   "outputs": [],
   "source": [
    "wiki_tag = list(create_tagged_document(wiki_data))"
   ]
  },
  {
   "cell_type": "code",
   "execution_count": 9,
   "metadata": {
    "scrolled": true
   },
   "outputs": [
    {
     "data": {
      "text/plain": [
       "4924894"
      ]
     },
     "execution_count": 9,
     "metadata": {},
     "output_type": "execute_result"
    }
   ],
   "source": [
    "len(wiki_tag)"
   ]
  },
  {
   "cell_type": "markdown",
   "metadata": {},
   "source": [
    "**Sentence Vectors**"
   ]
  },
  {
   "cell_type": "code",
   "execution_count": 10,
   "metadata": {},
   "outputs": [],
   "source": [
    "d2v_s = gensim.models.doc2vec.Doc2Vec(vector_size=32, min_count=2, epochs=5)"
   ]
  },
  {
   "cell_type": "code",
   "execution_count": 11,
   "metadata": {},
   "outputs": [],
   "source": [
    "d2v_s.build_vocab(wiki_tag)"
   ]
  },
  {
   "cell_type": "markdown",
   "metadata": {},
   "source": [
    "**Paragraph Vectors**"
   ]
  },
  {
   "cell_type": "code",
   "execution_count": 12,
   "metadata": {},
   "outputs": [],
   "source": [
    "d2v_p = gensim.models.doc2vec.Doc2Vec(vector_size=16, min_count=2, epochs=5)"
   ]
  },
  {
   "cell_type": "code",
   "execution_count": 13,
   "metadata": {},
   "outputs": [],
   "source": [
    "d2v_p.build_vocab(wiki_tag)"
   ]
  },
  {
   "cell_type": "markdown",
   "metadata": {},
   "source": [
    "### 3.1.2 Build Doc2Vec Models"
   ]
  },
  {
   "cell_type": "markdown",
   "metadata": {},
   "source": [
    "**Sentence Model**"
   ]
  },
  {
   "cell_type": "code",
   "execution_count": 14,
   "metadata": {},
   "outputs": [],
   "source": [
    "d2v_s.train(wiki_tag, total_examples=d2v_s.corpus_count, epochs=d2v_s.epochs)"
   ]
  },
  {
   "cell_type": "code",
   "execution_count": 15,
   "metadata": {},
   "outputs": [],
   "source": [
    "d2v_s_vecs = []\n",
    "\n",
    "for sent_vec in [ast.literal_eval(sent) for sent in nlp_df.sent_lemma]:\n",
    "    d2v_s_vecs.append(d2v_s.infer_vector(sent_vec))"
   ]
  },
  {
   "cell_type": "code",
   "execution_count": 16,
   "metadata": {},
   "outputs": [
    {
     "data": {
      "text/plain": [
       "70922"
      ]
     },
     "execution_count": 16,
     "metadata": {},
     "output_type": "execute_result"
    }
   ],
   "source": [
    "len(d2v_s_vecs)"
   ]
  },
  {
   "cell_type": "code",
   "execution_count": 17,
   "metadata": {},
   "outputs": [
    {
     "data": {
      "text/plain": [
       "32"
      ]
     },
     "execution_count": 17,
     "metadata": {},
     "output_type": "execute_result"
    }
   ],
   "source": [
    "len(d2v_s_vecs[0])"
   ]
  },
  {
   "cell_type": "code",
   "execution_count": 18,
   "metadata": {},
   "outputs": [
    {
     "data": {
      "text/plain": [
       "array([ 0.00385751, -0.00105863,  0.01090039,  0.00760083, -0.00016888,\n",
       "        0.01177285,  0.00322402,  0.00500347, -0.00305098, -0.00792306,\n",
       "       -0.01459706, -0.00332637, -0.00256728,  0.01545913,  0.00960032,\n",
       "        0.00344929,  0.01180919, -0.00051465, -0.01484104, -0.01062763,\n",
       "        0.00904354,  0.00088135,  0.00616374,  0.00067539, -0.0051318 ,\n",
       "       -0.00227692,  0.00019254,  0.01195077, -0.00568404,  0.00389648,\n",
       "        0.00915742, -0.00359113], dtype=float32)"
      ]
     },
     "execution_count": 18,
     "metadata": {},
     "output_type": "execute_result"
    }
   ],
   "source": [
    "d2v_s_vecs[0]"
   ]
  },
  {
   "cell_type": "markdown",
   "metadata": {},
   "source": [
    "Testing Text"
   ]
  },
  {
   "cell_type": "code",
   "execution_count": 19,
   "metadata": {},
   "outputs": [],
   "source": [
    "t_d2v_s_vecs = []\n",
    "\n",
    "for sent_vec in [ast.literal_eval(sent) for sent in t_nlp_df.sent_lemma]:\n",
    "    t_d2v_s_vecs.append(d2v_s.infer_vector(sent_vec))"
   ]
  },
  {
   "cell_type": "code",
   "execution_count": 20,
   "metadata": {},
   "outputs": [
    {
     "data": {
      "text/plain": [
       "8395"
      ]
     },
     "execution_count": 20,
     "metadata": {},
     "output_type": "execute_result"
    }
   ],
   "source": [
    "len(t_d2v_s_vecs)"
   ]
  },
  {
   "cell_type": "code",
   "execution_count": 21,
   "metadata": {},
   "outputs": [
    {
     "data": {
      "text/plain": [
       "32"
      ]
     },
     "execution_count": 21,
     "metadata": {},
     "output_type": "execute_result"
    }
   ],
   "source": [
    "len(t_d2v_s_vecs[0])"
   ]
  },
  {
   "cell_type": "markdown",
   "metadata": {},
   "source": [
    "**Paragraph Model**"
   ]
  },
  {
   "cell_type": "code",
   "execution_count": 22,
   "metadata": {},
   "outputs": [],
   "source": [
    "d2v_p.train(wiki_tag, total_examples=d2v_p.corpus_count, epochs=d2v_p.epochs)"
   ]
  },
  {
   "cell_type": "code",
   "execution_count": 23,
   "metadata": {},
   "outputs": [],
   "source": [
    "d2v_p_vecs = []\n",
    "\n",
    "for par_vec in [ast.literal_eval(par) for par in nlp_df.par_lemma]:\n",
    "    d2v_p_vecs.append(d2v_p.infer_vector(par_vec))"
   ]
  },
  {
   "cell_type": "code",
   "execution_count": 24,
   "metadata": {},
   "outputs": [
    {
     "data": {
      "text/plain": [
       "70922"
      ]
     },
     "execution_count": 24,
     "metadata": {},
     "output_type": "execute_result"
    }
   ],
   "source": [
    "len(d2v_p_vecs)"
   ]
  },
  {
   "cell_type": "code",
   "execution_count": 25,
   "metadata": {},
   "outputs": [
    {
     "data": {
      "text/plain": [
       "16"
      ]
     },
     "execution_count": 25,
     "metadata": {},
     "output_type": "execute_result"
    }
   ],
   "source": [
    "len(d2v_p_vecs[0])"
   ]
  },
  {
   "cell_type": "markdown",
   "metadata": {},
   "source": [
    "Testing Text"
   ]
  },
  {
   "cell_type": "code",
   "execution_count": 26,
   "metadata": {},
   "outputs": [],
   "source": [
    "t_d2v_p_vecs = []\n",
    "\n",
    "for par_vec in [ast.literal_eval(par) for par in t_nlp_df.par_lemma]:\n",
    "    t_d2v_p_vecs.append(d2v_p.infer_vector(par_vec))"
   ]
  },
  {
   "cell_type": "code",
   "execution_count": 27,
   "metadata": {},
   "outputs": [
    {
     "data": {
      "text/plain": [
       "8395"
      ]
     },
     "execution_count": 27,
     "metadata": {},
     "output_type": "execute_result"
    }
   ],
   "source": [
    "len(t_d2v_p_vecs)"
   ]
  },
  {
   "cell_type": "code",
   "execution_count": 28,
   "metadata": {},
   "outputs": [
    {
     "data": {
      "text/plain": [
       "16"
      ]
     },
     "execution_count": 28,
     "metadata": {},
     "output_type": "execute_result"
    }
   ],
   "source": [
    "len(t_d2v_p_vecs[0])"
   ]
  },
  {
   "cell_type": "markdown",
   "metadata": {},
   "source": [
    "## 3.2 Doc2Vec Features for Corpora"
   ]
  },
  {
   "cell_type": "markdown",
   "metadata": {},
   "source": [
    "### 3.2.1 Combine Sentence and Paragraph Vectors"
   ]
  },
  {
   "cell_type": "code",
   "execution_count": 29,
   "metadata": {},
   "outputs": [],
   "source": [
    "# Feature names\n",
    "s_vec_cols = ['s_vec_'+str(i) for i in range(len(d2v_s_vecs[0]))]\n",
    "p_vec_cols = ['p_vec_'+str(j) for j in range(len(d2v_p_vecs[0]))]"
   ]
  },
  {
   "cell_type": "code",
   "execution_count": 30,
   "metadata": {},
   "outputs": [
    {
     "data": {
      "text/html": [
       "<div>\n",
       "<style scoped>\n",
       "    .dataframe tbody tr th:only-of-type {\n",
       "        vertical-align: middle;\n",
       "    }\n",
       "\n",
       "    .dataframe tbody tr th {\n",
       "        vertical-align: top;\n",
       "    }\n",
       "\n",
       "    .dataframe thead th {\n",
       "        text-align: right;\n",
       "    }\n",
       "</style>\n",
       "<table border=\"1\" class=\"dataframe\">\n",
       "  <thead>\n",
       "    <tr style=\"text-align: right;\">\n",
       "      <th></th>\n",
       "      <th>s_vec_0</th>\n",
       "      <th>s_vec_1</th>\n",
       "      <th>s_vec_2</th>\n",
       "      <th>s_vec_3</th>\n",
       "      <th>s_vec_4</th>\n",
       "      <th>s_vec_5</th>\n",
       "      <th>s_vec_6</th>\n",
       "      <th>s_vec_7</th>\n",
       "      <th>s_vec_8</th>\n",
       "      <th>s_vec_9</th>\n",
       "      <th>...</th>\n",
       "      <th>s_vec_22</th>\n",
       "      <th>s_vec_23</th>\n",
       "      <th>s_vec_24</th>\n",
       "      <th>s_vec_25</th>\n",
       "      <th>s_vec_26</th>\n",
       "      <th>s_vec_27</th>\n",
       "      <th>s_vec_28</th>\n",
       "      <th>s_vec_29</th>\n",
       "      <th>s_vec_30</th>\n",
       "      <th>s_vec_31</th>\n",
       "    </tr>\n",
       "  </thead>\n",
       "  <tbody>\n",
       "    <tr>\n",
       "      <th>0</th>\n",
       "      <td>0.003858</td>\n",
       "      <td>-0.001059</td>\n",
       "      <td>0.010900</td>\n",
       "      <td>0.007601</td>\n",
       "      <td>-0.000169</td>\n",
       "      <td>0.011773</td>\n",
       "      <td>0.003224</td>\n",
       "      <td>0.005003</td>\n",
       "      <td>-0.003051</td>\n",
       "      <td>-0.007923</td>\n",
       "      <td>...</td>\n",
       "      <td>0.006164</td>\n",
       "      <td>0.000675</td>\n",
       "      <td>-0.005132</td>\n",
       "      <td>-0.002277</td>\n",
       "      <td>0.000193</td>\n",
       "      <td>0.011951</td>\n",
       "      <td>-0.005684</td>\n",
       "      <td>0.003896</td>\n",
       "      <td>0.009157</td>\n",
       "      <td>-0.003591</td>\n",
       "    </tr>\n",
       "    <tr>\n",
       "      <th>1</th>\n",
       "      <td>-0.013389</td>\n",
       "      <td>0.012570</td>\n",
       "      <td>0.008184</td>\n",
       "      <td>-0.002391</td>\n",
       "      <td>-0.010678</td>\n",
       "      <td>0.010813</td>\n",
       "      <td>-0.007665</td>\n",
       "      <td>0.002444</td>\n",
       "      <td>0.003449</td>\n",
       "      <td>-0.014223</td>\n",
       "      <td>...</td>\n",
       "      <td>0.013180</td>\n",
       "      <td>0.001904</td>\n",
       "      <td>0.005881</td>\n",
       "      <td>0.001613</td>\n",
       "      <td>0.012513</td>\n",
       "      <td>0.001844</td>\n",
       "      <td>-0.011092</td>\n",
       "      <td>-0.006049</td>\n",
       "      <td>-0.004544</td>\n",
       "      <td>0.001458</td>\n",
       "    </tr>\n",
       "    <tr>\n",
       "      <th>2</th>\n",
       "      <td>-0.000618</td>\n",
       "      <td>0.006237</td>\n",
       "      <td>0.005052</td>\n",
       "      <td>0.010632</td>\n",
       "      <td>-0.007403</td>\n",
       "      <td>-0.006426</td>\n",
       "      <td>-0.005638</td>\n",
       "      <td>-0.002501</td>\n",
       "      <td>0.008501</td>\n",
       "      <td>0.015035</td>\n",
       "      <td>...</td>\n",
       "      <td>-0.001421</td>\n",
       "      <td>-0.012025</td>\n",
       "      <td>-0.008904</td>\n",
       "      <td>-0.001158</td>\n",
       "      <td>0.011842</td>\n",
       "      <td>-0.006222</td>\n",
       "      <td>0.011366</td>\n",
       "      <td>-0.000743</td>\n",
       "      <td>-0.012555</td>\n",
       "      <td>0.001841</td>\n",
       "    </tr>\n",
       "    <tr>\n",
       "      <th>3</th>\n",
       "      <td>-0.003668</td>\n",
       "      <td>-0.013479</td>\n",
       "      <td>0.004037</td>\n",
       "      <td>0.015057</td>\n",
       "      <td>0.009767</td>\n",
       "      <td>-0.004177</td>\n",
       "      <td>-0.010813</td>\n",
       "      <td>-0.002221</td>\n",
       "      <td>0.007194</td>\n",
       "      <td>-0.007292</td>\n",
       "      <td>...</td>\n",
       "      <td>0.014247</td>\n",
       "      <td>-0.005851</td>\n",
       "      <td>0.014260</td>\n",
       "      <td>0.004263</td>\n",
       "      <td>0.001678</td>\n",
       "      <td>0.012790</td>\n",
       "      <td>-0.007219</td>\n",
       "      <td>-0.014648</td>\n",
       "      <td>-0.002402</td>\n",
       "      <td>0.001446</td>\n",
       "    </tr>\n",
       "    <tr>\n",
       "      <th>4</th>\n",
       "      <td>-0.011028</td>\n",
       "      <td>0.015561</td>\n",
       "      <td>-0.015301</td>\n",
       "      <td>-0.000413</td>\n",
       "      <td>0.000686</td>\n",
       "      <td>-0.007448</td>\n",
       "      <td>-0.004838</td>\n",
       "      <td>0.002938</td>\n",
       "      <td>0.001321</td>\n",
       "      <td>0.015450</td>\n",
       "      <td>...</td>\n",
       "      <td>0.009706</td>\n",
       "      <td>-0.004140</td>\n",
       "      <td>-0.000032</td>\n",
       "      <td>-0.006838</td>\n",
       "      <td>0.004089</td>\n",
       "      <td>0.011523</td>\n",
       "      <td>-0.015440</td>\n",
       "      <td>0.008162</td>\n",
       "      <td>0.002061</td>\n",
       "      <td>-0.014123</td>\n",
       "    </tr>\n",
       "  </tbody>\n",
       "</table>\n",
       "<p>5 rows × 32 columns</p>\n",
       "</div>"
      ],
      "text/plain": [
       "    s_vec_0   s_vec_1   s_vec_2   s_vec_3   s_vec_4   s_vec_5   s_vec_6  \\\n",
       "0  0.003858 -0.001059  0.010900  0.007601 -0.000169  0.011773  0.003224   \n",
       "1 -0.013389  0.012570  0.008184 -0.002391 -0.010678  0.010813 -0.007665   \n",
       "2 -0.000618  0.006237  0.005052  0.010632 -0.007403 -0.006426 -0.005638   \n",
       "3 -0.003668 -0.013479  0.004037  0.015057  0.009767 -0.004177 -0.010813   \n",
       "4 -0.011028  0.015561 -0.015301 -0.000413  0.000686 -0.007448 -0.004838   \n",
       "\n",
       "    s_vec_7   s_vec_8   s_vec_9    ...     s_vec_22  s_vec_23  s_vec_24  \\\n",
       "0  0.005003 -0.003051 -0.007923    ...     0.006164  0.000675 -0.005132   \n",
       "1  0.002444  0.003449 -0.014223    ...     0.013180  0.001904  0.005881   \n",
       "2 -0.002501  0.008501  0.015035    ...    -0.001421 -0.012025 -0.008904   \n",
       "3 -0.002221  0.007194 -0.007292    ...     0.014247 -0.005851  0.014260   \n",
       "4  0.002938  0.001321  0.015450    ...     0.009706 -0.004140 -0.000032   \n",
       "\n",
       "   s_vec_25  s_vec_26  s_vec_27  s_vec_28  s_vec_29  s_vec_30  s_vec_31  \n",
       "0 -0.002277  0.000193  0.011951 -0.005684  0.003896  0.009157 -0.003591  \n",
       "1  0.001613  0.012513  0.001844 -0.011092 -0.006049 -0.004544  0.001458  \n",
       "2 -0.001158  0.011842 -0.006222  0.011366 -0.000743 -0.012555  0.001841  \n",
       "3  0.004263  0.001678  0.012790 -0.007219 -0.014648 -0.002402  0.001446  \n",
       "4 -0.006838  0.004089  0.011523 -0.015440  0.008162  0.002061 -0.014123  \n",
       "\n",
       "[5 rows x 32 columns]"
      ]
     },
     "execution_count": 30,
     "metadata": {},
     "output_type": "execute_result"
    }
   ],
   "source": [
    "vec_df = pd.DataFrame(d2v_s_vecs, columns=s_vec_cols)\n",
    "vec_df.head()"
   ]
  },
  {
   "cell_type": "code",
   "execution_count": 31,
   "metadata": {},
   "outputs": [
    {
     "data": {
      "text/html": [
       "<div>\n",
       "<style scoped>\n",
       "    .dataframe tbody tr th:only-of-type {\n",
       "        vertical-align: middle;\n",
       "    }\n",
       "\n",
       "    .dataframe tbody tr th {\n",
       "        vertical-align: top;\n",
       "    }\n",
       "\n",
       "    .dataframe thead th {\n",
       "        text-align: right;\n",
       "    }\n",
       "</style>\n",
       "<table border=\"1\" class=\"dataframe\">\n",
       "  <thead>\n",
       "    <tr style=\"text-align: right;\">\n",
       "      <th></th>\n",
       "      <th>p_vec_0</th>\n",
       "      <th>p_vec_1</th>\n",
       "      <th>p_vec_2</th>\n",
       "      <th>p_vec_3</th>\n",
       "      <th>p_vec_4</th>\n",
       "      <th>p_vec_5</th>\n",
       "      <th>p_vec_6</th>\n",
       "      <th>p_vec_7</th>\n",
       "      <th>p_vec_8</th>\n",
       "      <th>p_vec_9</th>\n",
       "      <th>p_vec_10</th>\n",
       "      <th>p_vec_11</th>\n",
       "      <th>p_vec_12</th>\n",
       "      <th>p_vec_13</th>\n",
       "      <th>p_vec_14</th>\n",
       "      <th>p_vec_15</th>\n",
       "    </tr>\n",
       "  </thead>\n",
       "  <tbody>\n",
       "    <tr>\n",
       "      <th>0</th>\n",
       "      <td>-0.023799</td>\n",
       "      <td>-0.030376</td>\n",
       "      <td>-0.009521</td>\n",
       "      <td>-0.025856</td>\n",
       "      <td>0.004975</td>\n",
       "      <td>0.019548</td>\n",
       "      <td>0.005511</td>\n",
       "      <td>0.021429</td>\n",
       "      <td>0.000847</td>\n",
       "      <td>0.015740</td>\n",
       "      <td>0.008186</td>\n",
       "      <td>0.011306</td>\n",
       "      <td>-0.028358</td>\n",
       "      <td>-0.026734</td>\n",
       "      <td>0.013352</td>\n",
       "      <td>-0.003708</td>\n",
       "    </tr>\n",
       "    <tr>\n",
       "      <th>1</th>\n",
       "      <td>-0.023799</td>\n",
       "      <td>-0.030376</td>\n",
       "      <td>-0.009521</td>\n",
       "      <td>-0.025856</td>\n",
       "      <td>0.004975</td>\n",
       "      <td>0.019548</td>\n",
       "      <td>0.005511</td>\n",
       "      <td>0.021429</td>\n",
       "      <td>0.000847</td>\n",
       "      <td>0.015740</td>\n",
       "      <td>0.008186</td>\n",
       "      <td>0.011306</td>\n",
       "      <td>-0.028358</td>\n",
       "      <td>-0.026734</td>\n",
       "      <td>0.013352</td>\n",
       "      <td>-0.003708</td>\n",
       "    </tr>\n",
       "    <tr>\n",
       "      <th>2</th>\n",
       "      <td>-0.023799</td>\n",
       "      <td>-0.030376</td>\n",
       "      <td>-0.009521</td>\n",
       "      <td>-0.025856</td>\n",
       "      <td>0.004975</td>\n",
       "      <td>0.019548</td>\n",
       "      <td>0.005511</td>\n",
       "      <td>0.021429</td>\n",
       "      <td>0.000847</td>\n",
       "      <td>0.015740</td>\n",
       "      <td>0.008186</td>\n",
       "      <td>0.011306</td>\n",
       "      <td>-0.028358</td>\n",
       "      <td>-0.026734</td>\n",
       "      <td>0.013352</td>\n",
       "      <td>-0.003708</td>\n",
       "    </tr>\n",
       "    <tr>\n",
       "      <th>3</th>\n",
       "      <td>-0.006215</td>\n",
       "      <td>0.014121</td>\n",
       "      <td>0.001989</td>\n",
       "      <td>0.005874</td>\n",
       "      <td>0.014431</td>\n",
       "      <td>0.016977</td>\n",
       "      <td>-0.010235</td>\n",
       "      <td>0.004929</td>\n",
       "      <td>-0.010111</td>\n",
       "      <td>0.002403</td>\n",
       "      <td>0.005654</td>\n",
       "      <td>-0.024702</td>\n",
       "      <td>0.012832</td>\n",
       "      <td>-0.001034</td>\n",
       "      <td>-0.022984</td>\n",
       "      <td>0.030666</td>\n",
       "    </tr>\n",
       "    <tr>\n",
       "      <th>4</th>\n",
       "      <td>-0.006215</td>\n",
       "      <td>0.014121</td>\n",
       "      <td>0.001989</td>\n",
       "      <td>0.005874</td>\n",
       "      <td>0.014431</td>\n",
       "      <td>0.016977</td>\n",
       "      <td>-0.010235</td>\n",
       "      <td>0.004929</td>\n",
       "      <td>-0.010111</td>\n",
       "      <td>0.002403</td>\n",
       "      <td>0.005654</td>\n",
       "      <td>-0.024702</td>\n",
       "      <td>0.012832</td>\n",
       "      <td>-0.001034</td>\n",
       "      <td>-0.022984</td>\n",
       "      <td>0.030666</td>\n",
       "    </tr>\n",
       "  </tbody>\n",
       "</table>\n",
       "</div>"
      ],
      "text/plain": [
       "    p_vec_0   p_vec_1   p_vec_2   p_vec_3   p_vec_4   p_vec_5   p_vec_6  \\\n",
       "0 -0.023799 -0.030376 -0.009521 -0.025856  0.004975  0.019548  0.005511   \n",
       "1 -0.023799 -0.030376 -0.009521 -0.025856  0.004975  0.019548  0.005511   \n",
       "2 -0.023799 -0.030376 -0.009521 -0.025856  0.004975  0.019548  0.005511   \n",
       "3 -0.006215  0.014121  0.001989  0.005874  0.014431  0.016977 -0.010235   \n",
       "4 -0.006215  0.014121  0.001989  0.005874  0.014431  0.016977 -0.010235   \n",
       "\n",
       "    p_vec_7   p_vec_8   p_vec_9  p_vec_10  p_vec_11  p_vec_12  p_vec_13  \\\n",
       "0  0.021429  0.000847  0.015740  0.008186  0.011306 -0.028358 -0.026734   \n",
       "1  0.021429  0.000847  0.015740  0.008186  0.011306 -0.028358 -0.026734   \n",
       "2  0.021429  0.000847  0.015740  0.008186  0.011306 -0.028358 -0.026734   \n",
       "3  0.004929 -0.010111  0.002403  0.005654 -0.024702  0.012832 -0.001034   \n",
       "4  0.004929 -0.010111  0.002403  0.005654 -0.024702  0.012832 -0.001034   \n",
       "\n",
       "   p_vec_14  p_vec_15  \n",
       "0  0.013352 -0.003708  \n",
       "1  0.013352 -0.003708  \n",
       "2  0.013352 -0.003708  \n",
       "3 -0.022984  0.030666  \n",
       "4 -0.022984  0.030666  "
      ]
     },
     "execution_count": 31,
     "metadata": {},
     "output_type": "execute_result"
    }
   ],
   "source": [
    "p_vec_df = pd.DataFrame(d2v_p_vecs, columns=p_vec_cols)\n",
    "p_vec_df.head()"
   ]
  },
  {
   "cell_type": "code",
   "execution_count": 32,
   "metadata": {},
   "outputs": [],
   "source": [
    "for col_name in p_vec_cols:\n",
    "    vec_df[col_name] = p_vec_df[col_name]"
   ]
  },
  {
   "cell_type": "code",
   "execution_count": 33,
   "metadata": {},
   "outputs": [
    {
     "data": {
      "text/plain": [
       "(70922, 48)"
      ]
     },
     "execution_count": 33,
     "metadata": {},
     "output_type": "execute_result"
    }
   ],
   "source": [
    "vec_df.shape"
   ]
  },
  {
   "cell_type": "markdown",
   "metadata": {},
   "source": [
    "Testing Texts"
   ]
  },
  {
   "cell_type": "code",
   "execution_count": 34,
   "metadata": {},
   "outputs": [
    {
     "data": {
      "text/html": [
       "<div>\n",
       "<style scoped>\n",
       "    .dataframe tbody tr th:only-of-type {\n",
       "        vertical-align: middle;\n",
       "    }\n",
       "\n",
       "    .dataframe tbody tr th {\n",
       "        vertical-align: top;\n",
       "    }\n",
       "\n",
       "    .dataframe thead th {\n",
       "        text-align: right;\n",
       "    }\n",
       "</style>\n",
       "<table border=\"1\" class=\"dataframe\">\n",
       "  <thead>\n",
       "    <tr style=\"text-align: right;\">\n",
       "      <th></th>\n",
       "      <th>s_vec_0</th>\n",
       "      <th>s_vec_1</th>\n",
       "      <th>s_vec_2</th>\n",
       "      <th>s_vec_3</th>\n",
       "      <th>s_vec_4</th>\n",
       "      <th>s_vec_5</th>\n",
       "      <th>s_vec_6</th>\n",
       "      <th>s_vec_7</th>\n",
       "      <th>s_vec_8</th>\n",
       "      <th>s_vec_9</th>\n",
       "      <th>...</th>\n",
       "      <th>s_vec_22</th>\n",
       "      <th>s_vec_23</th>\n",
       "      <th>s_vec_24</th>\n",
       "      <th>s_vec_25</th>\n",
       "      <th>s_vec_26</th>\n",
       "      <th>s_vec_27</th>\n",
       "      <th>s_vec_28</th>\n",
       "      <th>s_vec_29</th>\n",
       "      <th>s_vec_30</th>\n",
       "      <th>s_vec_31</th>\n",
       "    </tr>\n",
       "  </thead>\n",
       "  <tbody>\n",
       "    <tr>\n",
       "      <th>0</th>\n",
       "      <td>-0.006376</td>\n",
       "      <td>-0.014168</td>\n",
       "      <td>-0.010640</td>\n",
       "      <td>-0.004532</td>\n",
       "      <td>0.013724</td>\n",
       "      <td>0.005481</td>\n",
       "      <td>0.000300</td>\n",
       "      <td>0.010631</td>\n",
       "      <td>0.000568</td>\n",
       "      <td>-0.007530</td>\n",
       "      <td>...</td>\n",
       "      <td>-0.009673</td>\n",
       "      <td>0.004990</td>\n",
       "      <td>0.014329</td>\n",
       "      <td>0.009878</td>\n",
       "      <td>0.015131</td>\n",
       "      <td>-0.006123</td>\n",
       "      <td>0.007423</td>\n",
       "      <td>-0.010709</td>\n",
       "      <td>0.001111</td>\n",
       "      <td>0.005326</td>\n",
       "    </tr>\n",
       "    <tr>\n",
       "      <th>1</th>\n",
       "      <td>-0.005234</td>\n",
       "      <td>0.014281</td>\n",
       "      <td>-0.012951</td>\n",
       "      <td>-0.007159</td>\n",
       "      <td>-0.004458</td>\n",
       "      <td>0.013147</td>\n",
       "      <td>-0.004553</td>\n",
       "      <td>0.003022</td>\n",
       "      <td>0.006354</td>\n",
       "      <td>0.001301</td>\n",
       "      <td>...</td>\n",
       "      <td>0.005348</td>\n",
       "      <td>0.015044</td>\n",
       "      <td>0.005215</td>\n",
       "      <td>0.015615</td>\n",
       "      <td>0.009286</td>\n",
       "      <td>-0.010057</td>\n",
       "      <td>0.002151</td>\n",
       "      <td>0.007745</td>\n",
       "      <td>-0.009220</td>\n",
       "      <td>-0.009220</td>\n",
       "    </tr>\n",
       "    <tr>\n",
       "      <th>2</th>\n",
       "      <td>0.007182</td>\n",
       "      <td>0.011417</td>\n",
       "      <td>-0.003972</td>\n",
       "      <td>0.001760</td>\n",
       "      <td>-0.007267</td>\n",
       "      <td>0.010004</td>\n",
       "      <td>0.008006</td>\n",
       "      <td>0.006922</td>\n",
       "      <td>-0.010596</td>\n",
       "      <td>0.008708</td>\n",
       "      <td>...</td>\n",
       "      <td>-0.012330</td>\n",
       "      <td>-0.005333</td>\n",
       "      <td>0.008670</td>\n",
       "      <td>-0.001814</td>\n",
       "      <td>-0.002962</td>\n",
       "      <td>0.013703</td>\n",
       "      <td>0.005386</td>\n",
       "      <td>-0.005223</td>\n",
       "      <td>0.010753</td>\n",
       "      <td>-0.012451</td>\n",
       "    </tr>\n",
       "    <tr>\n",
       "      <th>3</th>\n",
       "      <td>-0.009829</td>\n",
       "      <td>0.010973</td>\n",
       "      <td>-0.014800</td>\n",
       "      <td>-0.004037</td>\n",
       "      <td>0.003420</td>\n",
       "      <td>0.003011</td>\n",
       "      <td>-0.013762</td>\n",
       "      <td>0.015622</td>\n",
       "      <td>0.008290</td>\n",
       "      <td>0.010655</td>\n",
       "      <td>...</td>\n",
       "      <td>-0.011648</td>\n",
       "      <td>-0.002401</td>\n",
       "      <td>0.013344</td>\n",
       "      <td>-0.010347</td>\n",
       "      <td>0.014583</td>\n",
       "      <td>-0.012783</td>\n",
       "      <td>0.006187</td>\n",
       "      <td>0.003055</td>\n",
       "      <td>0.006385</td>\n",
       "      <td>0.002331</td>\n",
       "    </tr>\n",
       "    <tr>\n",
       "      <th>4</th>\n",
       "      <td>-0.015248</td>\n",
       "      <td>0.003000</td>\n",
       "      <td>-0.003895</td>\n",
       "      <td>0.010440</td>\n",
       "      <td>0.007598</td>\n",
       "      <td>-0.015034</td>\n",
       "      <td>0.008169</td>\n",
       "      <td>-0.003571</td>\n",
       "      <td>-0.001063</td>\n",
       "      <td>-0.005591</td>\n",
       "      <td>...</td>\n",
       "      <td>0.009227</td>\n",
       "      <td>0.008740</td>\n",
       "      <td>0.011451</td>\n",
       "      <td>0.000257</td>\n",
       "      <td>0.003004</td>\n",
       "      <td>-0.006843</td>\n",
       "      <td>-0.009474</td>\n",
       "      <td>0.005470</td>\n",
       "      <td>0.007503</td>\n",
       "      <td>0.011693</td>\n",
       "    </tr>\n",
       "  </tbody>\n",
       "</table>\n",
       "<p>5 rows × 32 columns</p>\n",
       "</div>"
      ],
      "text/plain": [
       "    s_vec_0   s_vec_1   s_vec_2   s_vec_3   s_vec_4   s_vec_5   s_vec_6  \\\n",
       "0 -0.006376 -0.014168 -0.010640 -0.004532  0.013724  0.005481  0.000300   \n",
       "1 -0.005234  0.014281 -0.012951 -0.007159 -0.004458  0.013147 -0.004553   \n",
       "2  0.007182  0.011417 -0.003972  0.001760 -0.007267  0.010004  0.008006   \n",
       "3 -0.009829  0.010973 -0.014800 -0.004037  0.003420  0.003011 -0.013762   \n",
       "4 -0.015248  0.003000 -0.003895  0.010440  0.007598 -0.015034  0.008169   \n",
       "\n",
       "    s_vec_7   s_vec_8   s_vec_9    ...     s_vec_22  s_vec_23  s_vec_24  \\\n",
       "0  0.010631  0.000568 -0.007530    ...    -0.009673  0.004990  0.014329   \n",
       "1  0.003022  0.006354  0.001301    ...     0.005348  0.015044  0.005215   \n",
       "2  0.006922 -0.010596  0.008708    ...    -0.012330 -0.005333  0.008670   \n",
       "3  0.015622  0.008290  0.010655    ...    -0.011648 -0.002401  0.013344   \n",
       "4 -0.003571 -0.001063 -0.005591    ...     0.009227  0.008740  0.011451   \n",
       "\n",
       "   s_vec_25  s_vec_26  s_vec_27  s_vec_28  s_vec_29  s_vec_30  s_vec_31  \n",
       "0  0.009878  0.015131 -0.006123  0.007423 -0.010709  0.001111  0.005326  \n",
       "1  0.015615  0.009286 -0.010057  0.002151  0.007745 -0.009220 -0.009220  \n",
       "2 -0.001814 -0.002962  0.013703  0.005386 -0.005223  0.010753 -0.012451  \n",
       "3 -0.010347  0.014583 -0.012783  0.006187  0.003055  0.006385  0.002331  \n",
       "4  0.000257  0.003004 -0.006843 -0.009474  0.005470  0.007503  0.011693  \n",
       "\n",
       "[5 rows x 32 columns]"
      ]
     },
     "execution_count": 34,
     "metadata": {},
     "output_type": "execute_result"
    }
   ],
   "source": [
    "t_vec_df = pd.DataFrame(t_d2v_s_vecs, columns=s_vec_cols)\n",
    "t_vec_df.head()"
   ]
  },
  {
   "cell_type": "code",
   "execution_count": 35,
   "metadata": {},
   "outputs": [
    {
     "data": {
      "text/html": [
       "<div>\n",
       "<style scoped>\n",
       "    .dataframe tbody tr th:only-of-type {\n",
       "        vertical-align: middle;\n",
       "    }\n",
       "\n",
       "    .dataframe tbody tr th {\n",
       "        vertical-align: top;\n",
       "    }\n",
       "\n",
       "    .dataframe thead th {\n",
       "        text-align: right;\n",
       "    }\n",
       "</style>\n",
       "<table border=\"1\" class=\"dataframe\">\n",
       "  <thead>\n",
       "    <tr style=\"text-align: right;\">\n",
       "      <th></th>\n",
       "      <th>p_vec_0</th>\n",
       "      <th>p_vec_1</th>\n",
       "      <th>p_vec_2</th>\n",
       "      <th>p_vec_3</th>\n",
       "      <th>p_vec_4</th>\n",
       "      <th>p_vec_5</th>\n",
       "      <th>p_vec_6</th>\n",
       "      <th>p_vec_7</th>\n",
       "      <th>p_vec_8</th>\n",
       "      <th>p_vec_9</th>\n",
       "      <th>p_vec_10</th>\n",
       "      <th>p_vec_11</th>\n",
       "      <th>p_vec_12</th>\n",
       "      <th>p_vec_13</th>\n",
       "      <th>p_vec_14</th>\n",
       "      <th>p_vec_15</th>\n",
       "    </tr>\n",
       "  </thead>\n",
       "  <tbody>\n",
       "    <tr>\n",
       "      <th>0</th>\n",
       "      <td>-0.012751</td>\n",
       "      <td>-0.028335</td>\n",
       "      <td>-0.021280</td>\n",
       "      <td>-0.009065</td>\n",
       "      <td>0.027448</td>\n",
       "      <td>0.010962</td>\n",
       "      <td>0.000601</td>\n",
       "      <td>0.021261</td>\n",
       "      <td>0.001135</td>\n",
       "      <td>-0.015060</td>\n",
       "      <td>-0.011794</td>\n",
       "      <td>0.007805</td>\n",
       "      <td>-0.030081</td>\n",
       "      <td>0.019921</td>\n",
       "      <td>-0.008623</td>\n",
       "      <td>-0.005035</td>\n",
       "    </tr>\n",
       "    <tr>\n",
       "      <th>1</th>\n",
       "      <td>-0.025024</td>\n",
       "      <td>-0.020902</td>\n",
       "      <td>-0.016591</td>\n",
       "      <td>-0.013759</td>\n",
       "      <td>-0.013820</td>\n",
       "      <td>0.009578</td>\n",
       "      <td>0.020207</td>\n",
       "      <td>0.023601</td>\n",
       "      <td>-0.019704</td>\n",
       "      <td>-0.030108</td>\n",
       "      <td>-0.029877</td>\n",
       "      <td>0.003285</td>\n",
       "      <td>0.020205</td>\n",
       "      <td>-0.026307</td>\n",
       "      <td>0.004863</td>\n",
       "      <td>-0.019466</td>\n",
       "    </tr>\n",
       "    <tr>\n",
       "      <th>2</th>\n",
       "      <td>-0.025024</td>\n",
       "      <td>-0.020902</td>\n",
       "      <td>-0.016591</td>\n",
       "      <td>-0.013759</td>\n",
       "      <td>-0.013820</td>\n",
       "      <td>0.009578</td>\n",
       "      <td>0.020207</td>\n",
       "      <td>0.023601</td>\n",
       "      <td>-0.019704</td>\n",
       "      <td>-0.030108</td>\n",
       "      <td>-0.029877</td>\n",
       "      <td>0.003285</td>\n",
       "      <td>0.020205</td>\n",
       "      <td>-0.026307</td>\n",
       "      <td>0.004863</td>\n",
       "      <td>-0.019466</td>\n",
       "    </tr>\n",
       "    <tr>\n",
       "      <th>3</th>\n",
       "      <td>-0.019657</td>\n",
       "      <td>0.021945</td>\n",
       "      <td>-0.029601</td>\n",
       "      <td>-0.008074</td>\n",
       "      <td>0.006840</td>\n",
       "      <td>0.006022</td>\n",
       "      <td>-0.027525</td>\n",
       "      <td>0.031244</td>\n",
       "      <td>0.016580</td>\n",
       "      <td>0.021310</td>\n",
       "      <td>-0.023342</td>\n",
       "      <td>-0.003345</td>\n",
       "      <td>0.003277</td>\n",
       "      <td>-0.000798</td>\n",
       "      <td>0.017349</td>\n",
       "      <td>-0.028373</td>\n",
       "    </tr>\n",
       "    <tr>\n",
       "      <th>4</th>\n",
       "      <td>-0.030497</td>\n",
       "      <td>0.006001</td>\n",
       "      <td>-0.007789</td>\n",
       "      <td>0.020880</td>\n",
       "      <td>0.015195</td>\n",
       "      <td>-0.030068</td>\n",
       "      <td>0.016337</td>\n",
       "      <td>-0.007143</td>\n",
       "      <td>-0.002125</td>\n",
       "      <td>-0.011182</td>\n",
       "      <td>-0.030776</td>\n",
       "      <td>0.008701</td>\n",
       "      <td>0.010304</td>\n",
       "      <td>0.028061</td>\n",
       "      <td>0.002584</td>\n",
       "      <td>-0.004973</td>\n",
       "    </tr>\n",
       "  </tbody>\n",
       "</table>\n",
       "</div>"
      ],
      "text/plain": [
       "    p_vec_0   p_vec_1   p_vec_2   p_vec_3   p_vec_4   p_vec_5   p_vec_6  \\\n",
       "0 -0.012751 -0.028335 -0.021280 -0.009065  0.027448  0.010962  0.000601   \n",
       "1 -0.025024 -0.020902 -0.016591 -0.013759 -0.013820  0.009578  0.020207   \n",
       "2 -0.025024 -0.020902 -0.016591 -0.013759 -0.013820  0.009578  0.020207   \n",
       "3 -0.019657  0.021945 -0.029601 -0.008074  0.006840  0.006022 -0.027525   \n",
       "4 -0.030497  0.006001 -0.007789  0.020880  0.015195 -0.030068  0.016337   \n",
       "\n",
       "    p_vec_7   p_vec_8   p_vec_9  p_vec_10  p_vec_11  p_vec_12  p_vec_13  \\\n",
       "0  0.021261  0.001135 -0.015060 -0.011794  0.007805 -0.030081  0.019921   \n",
       "1  0.023601 -0.019704 -0.030108 -0.029877  0.003285  0.020205 -0.026307   \n",
       "2  0.023601 -0.019704 -0.030108 -0.029877  0.003285  0.020205 -0.026307   \n",
       "3  0.031244  0.016580  0.021310 -0.023342 -0.003345  0.003277 -0.000798   \n",
       "4 -0.007143 -0.002125 -0.011182 -0.030776  0.008701  0.010304  0.028061   \n",
       "\n",
       "   p_vec_14  p_vec_15  \n",
       "0 -0.008623 -0.005035  \n",
       "1  0.004863 -0.019466  \n",
       "2  0.004863 -0.019466  \n",
       "3  0.017349 -0.028373  \n",
       "4  0.002584 -0.004973  "
      ]
     },
     "execution_count": 35,
     "metadata": {},
     "output_type": "execute_result"
    }
   ],
   "source": [
    "t_p_vec_df = pd.DataFrame(t_d2v_p_vecs, columns=p_vec_cols)\n",
    "t_p_vec_df.head()"
   ]
  },
  {
   "cell_type": "code",
   "execution_count": 36,
   "metadata": {},
   "outputs": [],
   "source": [
    "for col_name in p_vec_cols:\n",
    "    t_vec_df[col_name] = t_p_vec_df[col_name]"
   ]
  },
  {
   "cell_type": "code",
   "execution_count": 37,
   "metadata": {},
   "outputs": [
    {
     "data": {
      "text/plain": [
       "(8395, 48)"
      ]
     },
     "execution_count": 37,
     "metadata": {},
     "output_type": "execute_result"
    }
   ],
   "source": [
    "t_vec_df.shape"
   ]
  },
  {
   "cell_type": "markdown",
   "metadata": {},
   "source": [
    "**Save Vector DataFrames to Disk**"
   ]
  },
  {
   "cell_type": "code",
   "execution_count": 38,
   "metadata": {},
   "outputs": [],
   "source": [
    "vec_df.to_csv('../data_vec/vec_df.csv', index=False)"
   ]
  },
  {
   "cell_type": "code",
   "execution_count": 39,
   "metadata": {},
   "outputs": [],
   "source": [
    "t_vec_df.to_csv('../data_vec/t_vec_df.csv', index=False)"
   ]
  },
  {
   "cell_type": "code",
   "execution_count": 3,
   "metadata": {},
   "outputs": [],
   "source": [
    "vec_df = pd.read_csv('../data_vec/vec_df.csv')"
   ]
  },
  {
   "cell_type": "code",
   "execution_count": 4,
   "metadata": {},
   "outputs": [],
   "source": [
    "t_vec_df = pd.read_csv('../data_vec/t_vec_df.csv')"
   ]
  },
  {
   "cell_type": "markdown",
   "metadata": {},
   "source": [
    "### 3.2.2 Combine Vectors with LDA Features"
   ]
  },
  {
   "cell_type": "markdown",
   "metadata": {},
   "source": [
    "**Load LDA Features**"
   ]
  },
  {
   "cell_type": "code",
   "execution_count": 12,
   "metadata": {},
   "outputs": [],
   "source": [
    "lda_train = pd.read_csv('../data_vec/lda_train.csv')\n",
    "lda_test = pd.read_csv('../data_vec/lda_test.csv')"
   ]
  },
  {
   "cell_type": "code",
   "execution_count": 13,
   "metadata": {},
   "outputs": [],
   "source": [
    "prep_train = pd.merge(vec_df, lda_train, right_index=True, left_index=True)\n",
    "prep_test = pd.merge(t_vec_df, lda_test, right_index=True, left_index=True)"
   ]
  },
  {
   "cell_type": "code",
   "execution_count": 14,
   "metadata": {},
   "outputs": [
    {
     "data": {
      "text/html": [
       "<div>\n",
       "<style scoped>\n",
       "    .dataframe tbody tr th:only-of-type {\n",
       "        vertical-align: middle;\n",
       "    }\n",
       "\n",
       "    .dataframe tbody tr th {\n",
       "        vertical-align: top;\n",
       "    }\n",
       "\n",
       "    .dataframe thead th {\n",
       "        text-align: right;\n",
       "    }\n",
       "</style>\n",
       "<table border=\"1\" class=\"dataframe\">\n",
       "  <thead>\n",
       "    <tr style=\"text-align: right;\">\n",
       "      <th></th>\n",
       "      <th>s_vec_0</th>\n",
       "      <th>s_vec_1</th>\n",
       "      <th>s_vec_2</th>\n",
       "      <th>s_vec_3</th>\n",
       "      <th>s_vec_4</th>\n",
       "      <th>s_vec_5</th>\n",
       "      <th>s_vec_6</th>\n",
       "      <th>s_vec_7</th>\n",
       "      <th>s_vec_8</th>\n",
       "      <th>s_vec_9</th>\n",
       "      <th>...</th>\n",
       "      <th>lda_p_13</th>\n",
       "      <th>lda_p_14</th>\n",
       "      <th>lda_p_15</th>\n",
       "      <th>lda_p_16</th>\n",
       "      <th>lda_p_17</th>\n",
       "      <th>lda_p_18</th>\n",
       "      <th>lda_p_19</th>\n",
       "      <th>a_num</th>\n",
       "      <th>p_num</th>\n",
       "      <th>s_num</th>\n",
       "    </tr>\n",
       "  </thead>\n",
       "  <tbody>\n",
       "    <tr>\n",
       "      <th>0</th>\n",
       "      <td>0.003858</td>\n",
       "      <td>-0.001059</td>\n",
       "      <td>0.010900</td>\n",
       "      <td>0.007601</td>\n",
       "      <td>-0.000169</td>\n",
       "      <td>0.011773</td>\n",
       "      <td>0.003224</td>\n",
       "      <td>0.005003</td>\n",
       "      <td>-0.003051</td>\n",
       "      <td>-0.007923</td>\n",
       "      <td>...</td>\n",
       "      <td>0.0</td>\n",
       "      <td>0.0</td>\n",
       "      <td>0.0</td>\n",
       "      <td>0.0</td>\n",
       "      <td>0.0</td>\n",
       "      <td>0.0</td>\n",
       "      <td>0.0</td>\n",
       "      <td>0</td>\n",
       "      <td>0</td>\n",
       "      <td>0</td>\n",
       "    </tr>\n",
       "    <tr>\n",
       "      <th>1</th>\n",
       "      <td>-0.013389</td>\n",
       "      <td>0.012570</td>\n",
       "      <td>0.008184</td>\n",
       "      <td>-0.002391</td>\n",
       "      <td>-0.010678</td>\n",
       "      <td>0.010813</td>\n",
       "      <td>-0.007665</td>\n",
       "      <td>0.002444</td>\n",
       "      <td>0.003449</td>\n",
       "      <td>-0.014223</td>\n",
       "      <td>...</td>\n",
       "      <td>0.0</td>\n",
       "      <td>0.0</td>\n",
       "      <td>0.0</td>\n",
       "      <td>0.0</td>\n",
       "      <td>0.0</td>\n",
       "      <td>0.0</td>\n",
       "      <td>0.0</td>\n",
       "      <td>0</td>\n",
       "      <td>0</td>\n",
       "      <td>1</td>\n",
       "    </tr>\n",
       "    <tr>\n",
       "      <th>2</th>\n",
       "      <td>-0.000618</td>\n",
       "      <td>0.006237</td>\n",
       "      <td>0.005052</td>\n",
       "      <td>0.010632</td>\n",
       "      <td>-0.007403</td>\n",
       "      <td>-0.006426</td>\n",
       "      <td>-0.005638</td>\n",
       "      <td>-0.002501</td>\n",
       "      <td>0.008501</td>\n",
       "      <td>0.015035</td>\n",
       "      <td>...</td>\n",
       "      <td>0.0</td>\n",
       "      <td>0.0</td>\n",
       "      <td>0.0</td>\n",
       "      <td>0.0</td>\n",
       "      <td>0.0</td>\n",
       "      <td>0.0</td>\n",
       "      <td>0.0</td>\n",
       "      <td>0</td>\n",
       "      <td>0</td>\n",
       "      <td>2</td>\n",
       "    </tr>\n",
       "    <tr>\n",
       "      <th>3</th>\n",
       "      <td>-0.003668</td>\n",
       "      <td>-0.013479</td>\n",
       "      <td>0.004037</td>\n",
       "      <td>0.015057</td>\n",
       "      <td>0.009767</td>\n",
       "      <td>-0.004177</td>\n",
       "      <td>-0.010813</td>\n",
       "      <td>-0.002221</td>\n",
       "      <td>0.007194</td>\n",
       "      <td>-0.007292</td>\n",
       "      <td>...</td>\n",
       "      <td>0.0</td>\n",
       "      <td>0.0</td>\n",
       "      <td>0.0</td>\n",
       "      <td>0.0</td>\n",
       "      <td>0.0</td>\n",
       "      <td>0.0</td>\n",
       "      <td>0.0</td>\n",
       "      <td>0</td>\n",
       "      <td>1</td>\n",
       "      <td>0</td>\n",
       "    </tr>\n",
       "    <tr>\n",
       "      <th>4</th>\n",
       "      <td>-0.011028</td>\n",
       "      <td>0.015561</td>\n",
       "      <td>-0.015301</td>\n",
       "      <td>-0.000413</td>\n",
       "      <td>0.000686</td>\n",
       "      <td>-0.007448</td>\n",
       "      <td>-0.004838</td>\n",
       "      <td>0.002938</td>\n",
       "      <td>0.001321</td>\n",
       "      <td>0.015450</td>\n",
       "      <td>...</td>\n",
       "      <td>0.0</td>\n",
       "      <td>0.0</td>\n",
       "      <td>0.0</td>\n",
       "      <td>0.0</td>\n",
       "      <td>0.0</td>\n",
       "      <td>0.0</td>\n",
       "      <td>0.0</td>\n",
       "      <td>0</td>\n",
       "      <td>1</td>\n",
       "      <td>1</td>\n",
       "    </tr>\n",
       "  </tbody>\n",
       "</table>\n",
       "<p>5 rows × 103 columns</p>\n",
       "</div>"
      ],
      "text/plain": [
       "    s_vec_0   s_vec_1   s_vec_2   s_vec_3   s_vec_4   s_vec_5   s_vec_6  \\\n",
       "0  0.003858 -0.001059  0.010900  0.007601 -0.000169  0.011773  0.003224   \n",
       "1 -0.013389  0.012570  0.008184 -0.002391 -0.010678  0.010813 -0.007665   \n",
       "2 -0.000618  0.006237  0.005052  0.010632 -0.007403 -0.006426 -0.005638   \n",
       "3 -0.003668 -0.013479  0.004037  0.015057  0.009767 -0.004177 -0.010813   \n",
       "4 -0.011028  0.015561 -0.015301 -0.000413  0.000686 -0.007448 -0.004838   \n",
       "\n",
       "    s_vec_7   s_vec_8   s_vec_9  ...    lda_p_13  lda_p_14  lda_p_15  \\\n",
       "0  0.005003 -0.003051 -0.007923  ...         0.0       0.0       0.0   \n",
       "1  0.002444  0.003449 -0.014223  ...         0.0       0.0       0.0   \n",
       "2 -0.002501  0.008501  0.015035  ...         0.0       0.0       0.0   \n",
       "3 -0.002221  0.007194 -0.007292  ...         0.0       0.0       0.0   \n",
       "4  0.002938  0.001321  0.015450  ...         0.0       0.0       0.0   \n",
       "\n",
       "   lda_p_16  lda_p_17  lda_p_18  lda_p_19  a_num  p_num  s_num  \n",
       "0       0.0       0.0       0.0       0.0      0      0      0  \n",
       "1       0.0       0.0       0.0       0.0      0      0      1  \n",
       "2       0.0       0.0       0.0       0.0      0      0      2  \n",
       "3       0.0       0.0       0.0       0.0      0      1      0  \n",
       "4       0.0       0.0       0.0       0.0      0      1      1  \n",
       "\n",
       "[5 rows x 103 columns]"
      ]
     },
     "execution_count": 14,
     "metadata": {},
     "output_type": "execute_result"
    }
   ],
   "source": [
    "prep_train.head()"
   ]
  },
  {
   "cell_type": "code",
   "execution_count": 15,
   "metadata": {},
   "outputs": [
    {
     "data": {
      "text/plain": [
       "(70922, 103)"
      ]
     },
     "execution_count": 15,
     "metadata": {},
     "output_type": "execute_result"
    }
   ],
   "source": [
    "prep_train.shape"
   ]
  },
  {
   "cell_type": "code",
   "execution_count": 16,
   "metadata": {},
   "outputs": [
    {
     "data": {
      "text/html": [
       "<div>\n",
       "<style scoped>\n",
       "    .dataframe tbody tr th:only-of-type {\n",
       "        vertical-align: middle;\n",
       "    }\n",
       "\n",
       "    .dataframe tbody tr th {\n",
       "        vertical-align: top;\n",
       "    }\n",
       "\n",
       "    .dataframe thead th {\n",
       "        text-align: right;\n",
       "    }\n",
       "</style>\n",
       "<table border=\"1\" class=\"dataframe\">\n",
       "  <thead>\n",
       "    <tr style=\"text-align: right;\">\n",
       "      <th></th>\n",
       "      <th>s_vec_0</th>\n",
       "      <th>s_vec_1</th>\n",
       "      <th>s_vec_2</th>\n",
       "      <th>s_vec_3</th>\n",
       "      <th>s_vec_4</th>\n",
       "      <th>s_vec_5</th>\n",
       "      <th>s_vec_6</th>\n",
       "      <th>s_vec_7</th>\n",
       "      <th>s_vec_8</th>\n",
       "      <th>s_vec_9</th>\n",
       "      <th>...</th>\n",
       "      <th>lda_p_13</th>\n",
       "      <th>lda_p_14</th>\n",
       "      <th>lda_p_15</th>\n",
       "      <th>lda_p_16</th>\n",
       "      <th>lda_p_17</th>\n",
       "      <th>lda_p_18</th>\n",
       "      <th>lda_p_19</th>\n",
       "      <th>a_num</th>\n",
       "      <th>p_num</th>\n",
       "      <th>s_num</th>\n",
       "    </tr>\n",
       "  </thead>\n",
       "  <tbody>\n",
       "    <tr>\n",
       "      <th>0</th>\n",
       "      <td>-0.006376</td>\n",
       "      <td>-0.014168</td>\n",
       "      <td>-0.010640</td>\n",
       "      <td>-0.004532</td>\n",
       "      <td>0.013724</td>\n",
       "      <td>0.005481</td>\n",
       "      <td>0.000300</td>\n",
       "      <td>0.010631</td>\n",
       "      <td>0.000568</td>\n",
       "      <td>-0.007530</td>\n",
       "      <td>...</td>\n",
       "      <td>0.0</td>\n",
       "      <td>0.0</td>\n",
       "      <td>0.0</td>\n",
       "      <td>0.0</td>\n",
       "      <td>0.0</td>\n",
       "      <td>0.0</td>\n",
       "      <td>0.0</td>\n",
       "      <td>0</td>\n",
       "      <td>0</td>\n",
       "      <td>0</td>\n",
       "    </tr>\n",
       "    <tr>\n",
       "      <th>1</th>\n",
       "      <td>-0.005234</td>\n",
       "      <td>0.014281</td>\n",
       "      <td>-0.012951</td>\n",
       "      <td>-0.007159</td>\n",
       "      <td>-0.004458</td>\n",
       "      <td>0.013147</td>\n",
       "      <td>-0.004553</td>\n",
       "      <td>0.003022</td>\n",
       "      <td>0.006354</td>\n",
       "      <td>0.001301</td>\n",
       "      <td>...</td>\n",
       "      <td>0.0</td>\n",
       "      <td>0.0</td>\n",
       "      <td>0.0</td>\n",
       "      <td>0.0</td>\n",
       "      <td>0.0</td>\n",
       "      <td>0.0</td>\n",
       "      <td>0.0</td>\n",
       "      <td>0</td>\n",
       "      <td>1</td>\n",
       "      <td>0</td>\n",
       "    </tr>\n",
       "    <tr>\n",
       "      <th>2</th>\n",
       "      <td>0.007182</td>\n",
       "      <td>0.011417</td>\n",
       "      <td>-0.003972</td>\n",
       "      <td>0.001760</td>\n",
       "      <td>-0.007267</td>\n",
       "      <td>0.010004</td>\n",
       "      <td>0.008006</td>\n",
       "      <td>0.006922</td>\n",
       "      <td>-0.010596</td>\n",
       "      <td>0.008708</td>\n",
       "      <td>...</td>\n",
       "      <td>0.0</td>\n",
       "      <td>0.0</td>\n",
       "      <td>0.0</td>\n",
       "      <td>0.0</td>\n",
       "      <td>0.0</td>\n",
       "      <td>0.0</td>\n",
       "      <td>0.0</td>\n",
       "      <td>0</td>\n",
       "      <td>1</td>\n",
       "      <td>1</td>\n",
       "    </tr>\n",
       "    <tr>\n",
       "      <th>3</th>\n",
       "      <td>-0.009829</td>\n",
       "      <td>0.010973</td>\n",
       "      <td>-0.014800</td>\n",
       "      <td>-0.004037</td>\n",
       "      <td>0.003420</td>\n",
       "      <td>0.003011</td>\n",
       "      <td>-0.013762</td>\n",
       "      <td>0.015622</td>\n",
       "      <td>0.008290</td>\n",
       "      <td>0.010655</td>\n",
       "      <td>...</td>\n",
       "      <td>0.0</td>\n",
       "      <td>0.0</td>\n",
       "      <td>0.0</td>\n",
       "      <td>0.0</td>\n",
       "      <td>0.0</td>\n",
       "      <td>0.0</td>\n",
       "      <td>0.0</td>\n",
       "      <td>0</td>\n",
       "      <td>2</td>\n",
       "      <td>0</td>\n",
       "    </tr>\n",
       "    <tr>\n",
       "      <th>4</th>\n",
       "      <td>-0.015248</td>\n",
       "      <td>0.003000</td>\n",
       "      <td>-0.003895</td>\n",
       "      <td>0.010440</td>\n",
       "      <td>0.007598</td>\n",
       "      <td>-0.015034</td>\n",
       "      <td>0.008169</td>\n",
       "      <td>-0.003571</td>\n",
       "      <td>-0.001063</td>\n",
       "      <td>-0.005591</td>\n",
       "      <td>...</td>\n",
       "      <td>0.0</td>\n",
       "      <td>0.0</td>\n",
       "      <td>0.0</td>\n",
       "      <td>0.0</td>\n",
       "      <td>0.0</td>\n",
       "      <td>0.0</td>\n",
       "      <td>0.0</td>\n",
       "      <td>0</td>\n",
       "      <td>3</td>\n",
       "      <td>0</td>\n",
       "    </tr>\n",
       "  </tbody>\n",
       "</table>\n",
       "<p>5 rows × 103 columns</p>\n",
       "</div>"
      ],
      "text/plain": [
       "    s_vec_0   s_vec_1   s_vec_2   s_vec_3   s_vec_4   s_vec_5   s_vec_6  \\\n",
       "0 -0.006376 -0.014168 -0.010640 -0.004532  0.013724  0.005481  0.000300   \n",
       "1 -0.005234  0.014281 -0.012951 -0.007159 -0.004458  0.013147 -0.004553   \n",
       "2  0.007182  0.011417 -0.003972  0.001760 -0.007267  0.010004  0.008006   \n",
       "3 -0.009829  0.010973 -0.014800 -0.004037  0.003420  0.003011 -0.013762   \n",
       "4 -0.015248  0.003000 -0.003895  0.010440  0.007598 -0.015034  0.008169   \n",
       "\n",
       "    s_vec_7   s_vec_8   s_vec_9  ...    lda_p_13  lda_p_14  lda_p_15  \\\n",
       "0  0.010631  0.000568 -0.007530  ...         0.0       0.0       0.0   \n",
       "1  0.003022  0.006354  0.001301  ...         0.0       0.0       0.0   \n",
       "2  0.006922 -0.010596  0.008708  ...         0.0       0.0       0.0   \n",
       "3  0.015622  0.008290  0.010655  ...         0.0       0.0       0.0   \n",
       "4 -0.003571 -0.001063 -0.005591  ...         0.0       0.0       0.0   \n",
       "\n",
       "   lda_p_16  lda_p_17  lda_p_18  lda_p_19  a_num  p_num  s_num  \n",
       "0       0.0       0.0       0.0       0.0      0      0      0  \n",
       "1       0.0       0.0       0.0       0.0      0      1      0  \n",
       "2       0.0       0.0       0.0       0.0      0      1      1  \n",
       "3       0.0       0.0       0.0       0.0      0      2      0  \n",
       "4       0.0       0.0       0.0       0.0      0      3      0  \n",
       "\n",
       "[5 rows x 103 columns]"
      ]
     },
     "execution_count": 16,
     "metadata": {},
     "output_type": "execute_result"
    }
   ],
   "source": [
    "prep_test.head()"
   ]
  },
  {
   "cell_type": "code",
   "execution_count": 17,
   "metadata": {},
   "outputs": [
    {
     "data": {
      "text/plain": [
       "(8395, 103)"
      ]
     },
     "execution_count": 17,
     "metadata": {},
     "output_type": "execute_result"
    }
   ],
   "source": [
    "prep_test.shape"
   ]
  },
  {
   "cell_type": "markdown",
   "metadata": {},
   "source": [
    "**Save Train and Test Features to Disk**"
   ]
  },
  {
   "cell_type": "code",
   "execution_count": 18,
   "metadata": {},
   "outputs": [],
   "source": [
    "prep_train.to_csv('../data_vec/prep_train.csv', index=False)\n",
    "prep_test.to_csv('../data_vec/prep_test.csv', index=False)"
   ]
  },
  {
   "cell_type": "markdown",
   "metadata": {},
   "source": [
    "## Continue to Notebook 4: Multiclass Classification Models"
   ]
  }
 ],
 "metadata": {
  "kernelspec": {
   "display_name": "Environment (conda_tensorflow_p36)",
   "language": "python",
   "name": "conda_tensorflow_p36"
  },
  "language_info": {
   "codemirror_mode": {
    "name": "ipython",
    "version": 3
   },
   "file_extension": ".py",
   "mimetype": "text/x-python",
   "name": "python",
   "nbconvert_exporter": "python",
   "pygments_lexer": "ipython3",
   "version": "3.6.5"
  }
 },
 "nbformat": 4,
 "nbformat_minor": 2
}
