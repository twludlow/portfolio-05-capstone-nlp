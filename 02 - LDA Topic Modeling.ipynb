{
 "cells": [
  {
   "cell_type": "markdown",
   "metadata": {},
   "source": [
    "# Capstone: Philosophical Factors for NLP\n",
    "**_Measuring Similarity to Philosophical Concepts in Text Data_**\n",
    "\n",
    "## Thomas W. Ludlow, Jr.\n",
    "**General Assembly Data Science Immersive DSI-NY-6**\n",
    "\n",
    "**February 12, 2019**"
   ]
  },
  {
   "cell_type": "markdown",
   "metadata": {},
   "source": [
    "# Notebook 2 - LDA Topic Modeling"
   ]
  },
  {
   "cell_type": "markdown",
   "metadata": {},
   "source": [
    "### Table of Contents"
   ]
  },
  {
   "cell_type": "markdown",
   "metadata": {},
   "source": [
    "[**2.1 Gensim LDA**](#2.1-Gensim-LDA)\n",
    "- [2.1.1 Build Dictionary and Corpora](#2.1.1-Build-Dictionary-and-Corpora)\n",
    "- [2.1.2 LDA Model](#2.1.2-LDA-Model)\n",
    "- [2.1.3 Visualize with pyLDAvis](#2.1.3-Visualize-with-pyLDAvis)\n",
    "\n",
    "[**2.2 Topic Labeling with Gensim Word2Vec**](#2.2-Topic-Labeling-with-Gensim-Word2Vec)\n",
    "\n",
    "[**2.3 Combine Features**](#2.3-Combine-Features)\n"
   ]
  },
  {
   "cell_type": "markdown",
   "metadata": {},
   "source": [
    "**Libraries**"
   ]
  },
  {
   "cell_type": "code",
   "execution_count": 45,
   "metadata": {},
   "outputs": [],
   "source": [
    "# Python Data Science\n",
    "import re\n",
    "import ast\n",
    "import time\n",
    "import pickle\n",
    "import numpy as np\n",
    "import pandas as pd\n",
    "from tqdm import tqdm_notebook as tqdm\n",
    "from IPython.display import clear_output\n",
    "\n",
    "# Natural Language Processing\n",
    "import spacy\n",
    "from nltk.stem import PorterStemmer\n",
    "\n",
    "# Gensim\n",
    "import gensim\n",
    "import gensim.downloader as api\n",
    "from gensim.corpora import Dictionary\n",
    "from gensim.models import TfidfModel, ldamulticore, CoherenceModel\n",
    "from gensim.models.word2vec import Word2Vec\n",
    "\n",
    "# Modeling Prep\n",
    "from sklearn.preprocessing import StandardScaler\n",
    "from sklearn.externals import joblib\n",
    "\n",
    "# Plotting\n",
    "import matplotlib.pyplot as plt\n",
    "%matplotlib inline\n",
    "\n",
    "# Override deprecation warnings\n",
    "import warnings\n",
    "warnings.filterwarnings(\"ignore\",category=DeprecationWarning)"
   ]
  },
  {
   "cell_type": "markdown",
   "metadata": {},
   "source": [
    "## 2.1 Gensim LDA"
   ]
  },
  {
   "cell_type": "markdown",
   "metadata": {},
   "source": [
    "**Load Preprocessed Text Data**"
   ]
  },
  {
   "cell_type": "code",
   "execution_count": 49,
   "metadata": {},
   "outputs": [],
   "source": [
    "nlp_df = pd.read_csv('./data_eda/nlp_df.csv')\n",
    "t_nlp_df = pd.read_csv('./data_eda/t_nlp_df.csv')"
   ]
  },
  {
   "cell_type": "code",
   "execution_count": 50,
   "metadata": {},
   "outputs": [
    {
     "data": {
      "text/html": [
       "<div>\n",
       "<style scoped>\n",
       "    .dataframe tbody tr th:only-of-type {\n",
       "        vertical-align: middle;\n",
       "    }\n",
       "\n",
       "    .dataframe tbody tr th {\n",
       "        vertical-align: top;\n",
       "    }\n",
       "\n",
       "    .dataframe thead th {\n",
       "        text-align: right;\n",
       "    }\n",
       "</style>\n",
       "<table border=\"1\" class=\"dataframe\">\n",
       "  <thead>\n",
       "    <tr style=\"text-align: right;\">\n",
       "      <th></th>\n",
       "      <th>author</th>\n",
       "      <th>work</th>\n",
       "      <th>a_num</th>\n",
       "      <th>w_num</th>\n",
       "      <th>p_num</th>\n",
       "      <th>s_num</th>\n",
       "      <th>sent_text</th>\n",
       "      <th>par_text</th>\n",
       "      <th>par_lemma</th>\n",
       "      <th>sent_lemma</th>\n",
       "    </tr>\n",
       "  </thead>\n",
       "  <tbody>\n",
       "    <tr>\n",
       "      <th>0</th>\n",
       "      <td>Aristotle</td>\n",
       "      <td>The Categories</td>\n",
       "      <td>0</td>\n",
       "      <td>0</td>\n",
       "      <td>0</td>\n",
       "      <td>0</td>\n",
       "      <td>Things are said to be named 'equivocally' when...</td>\n",
       "      <td>Things are said to be named 'equivocally' when...</td>\n",
       "      <td>['thing', 'be', 'say', 'to', 'be', 'name', 'eq...</td>\n",
       "      <td>['thing', 'be', 'say', 'to', 'be', 'name', 'eq...</td>\n",
       "    </tr>\n",
       "    <tr>\n",
       "      <th>1</th>\n",
       "      <td>Aristotle</td>\n",
       "      <td>The Categories</td>\n",
       "      <td>0</td>\n",
       "      <td>0</td>\n",
       "      <td>0</td>\n",
       "      <td>1</td>\n",
       "      <td>Thus, a real man and a figure in a picture can...</td>\n",
       "      <td>Things are said to be named 'equivocally' when...</td>\n",
       "      <td>['thing', 'be', 'say', 'to', 'be', 'name', 'eq...</td>\n",
       "      <td>['thus', 'real', 'man', 'and', 'figure', 'in',...</td>\n",
       "    </tr>\n",
       "    <tr>\n",
       "      <th>2</th>\n",
       "      <td>Aristotle</td>\n",
       "      <td>The Categories</td>\n",
       "      <td>0</td>\n",
       "      <td>0</td>\n",
       "      <td>0</td>\n",
       "      <td>2</td>\n",
       "      <td>For should any one define in what sense each i...</td>\n",
       "      <td>Things are said to be named 'equivocally' when...</td>\n",
       "      <td>['thing', 'be', 'say', 'to', 'be', 'name', 'eq...</td>\n",
       "      <td>['should', 'any', 'one', 'define', 'in', 'what...</td>\n",
       "    </tr>\n",
       "    <tr>\n",
       "      <th>3</th>\n",
       "      <td>Aristotle</td>\n",
       "      <td>The Categories</td>\n",
       "      <td>0</td>\n",
       "      <td>0</td>\n",
       "      <td>1</td>\n",
       "      <td>0</td>\n",
       "      <td>On the other hand, things are said to be named...</td>\n",
       "      <td>On the other hand, things are said to be named...</td>\n",
       "      <td>['on', 'other', 'hand', 'thing', 'be', 'say', ...</td>\n",
       "      <td>['thing', 'be', 'say', 'to', 'be', 'name', 'eq...</td>\n",
       "    </tr>\n",
       "    <tr>\n",
       "      <th>4</th>\n",
       "      <td>Aristotle</td>\n",
       "      <td>The Categories</td>\n",
       "      <td>0</td>\n",
       "      <td>0</td>\n",
       "      <td>1</td>\n",
       "      <td>1</td>\n",
       "      <td>A man and an ox are both 'animal', and these a...</td>\n",
       "      <td>On the other hand, things are said to be named...</td>\n",
       "      <td>['on', 'other', 'hand', 'thing', 'be', 'say', ...</td>\n",
       "      <td>['thus', 'real', 'man', 'and', 'figure', 'in',...</td>\n",
       "    </tr>\n",
       "  </tbody>\n",
       "</table>\n",
       "</div>"
      ],
      "text/plain": [
       "      author            work  a_num  w_num  p_num  s_num  \\\n",
       "0  Aristotle  The Categories      0      0      0      0   \n",
       "1  Aristotle  The Categories      0      0      0      1   \n",
       "2  Aristotle  The Categories      0      0      0      2   \n",
       "3  Aristotle  The Categories      0      0      1      0   \n",
       "4  Aristotle  The Categories      0      0      1      1   \n",
       "\n",
       "                                           sent_text  \\\n",
       "0  Things are said to be named 'equivocally' when...   \n",
       "1  Thus, a real man and a figure in a picture can...   \n",
       "2  For should any one define in what sense each i...   \n",
       "3  On the other hand, things are said to be named...   \n",
       "4  A man and an ox are both 'animal', and these a...   \n",
       "\n",
       "                                            par_text  \\\n",
       "0  Things are said to be named 'equivocally' when...   \n",
       "1  Things are said to be named 'equivocally' when...   \n",
       "2  Things are said to be named 'equivocally' when...   \n",
       "3  On the other hand, things are said to be named...   \n",
       "4  On the other hand, things are said to be named...   \n",
       "\n",
       "                                           par_lemma  \\\n",
       "0  ['thing', 'be', 'say', 'to', 'be', 'name', 'eq...   \n",
       "1  ['thing', 'be', 'say', 'to', 'be', 'name', 'eq...   \n",
       "2  ['thing', 'be', 'say', 'to', 'be', 'name', 'eq...   \n",
       "3  ['on', 'other', 'hand', 'thing', 'be', 'say', ...   \n",
       "4  ['on', 'other', 'hand', 'thing', 'be', 'say', ...   \n",
       "\n",
       "                                          sent_lemma  \n",
       "0  ['thing', 'be', 'say', 'to', 'be', 'name', 'eq...  \n",
       "1  ['thus', 'real', 'man', 'and', 'figure', 'in',...  \n",
       "2  ['should', 'any', 'one', 'define', 'in', 'what...  \n",
       "3  ['thing', 'be', 'say', 'to', 'be', 'name', 'eq...  \n",
       "4  ['thus', 'real', 'man', 'and', 'figure', 'in',...  "
      ]
     },
     "execution_count": 50,
     "metadata": {},
     "output_type": "execute_result"
    }
   ],
   "source": [
    "nlp_df.head()"
   ]
  },
  {
   "cell_type": "code",
   "execution_count": 13,
   "metadata": {},
   "outputs": [
    {
     "data": {
      "text/plain": [
       "(70922, 10)"
      ]
     },
     "execution_count": 13,
     "metadata": {},
     "output_type": "execute_result"
    }
   ],
   "source": [
    "nlp_df.shape"
   ]
  },
  {
   "cell_type": "code",
   "execution_count": 5,
   "metadata": {},
   "outputs": [
    {
     "data": {
      "text/html": [
       "<div>\n",
       "<style scoped>\n",
       "    .dataframe tbody tr th:only-of-type {\n",
       "        vertical-align: middle;\n",
       "    }\n",
       "\n",
       "    .dataframe tbody tr th {\n",
       "        vertical-align: top;\n",
       "    }\n",
       "\n",
       "    .dataframe thead th {\n",
       "        text-align: right;\n",
       "    }\n",
       "</style>\n",
       "<table border=\"1\" class=\"dataframe\">\n",
       "  <thead>\n",
       "    <tr style=\"text-align: right;\">\n",
       "      <th></th>\n",
       "      <th>author</th>\n",
       "      <th>work</th>\n",
       "      <th>a_num</th>\n",
       "      <th>w_num</th>\n",
       "      <th>p_num</th>\n",
       "      <th>s_num</th>\n",
       "      <th>sent_text</th>\n",
       "      <th>sent_lemma</th>\n",
       "      <th>par_text</th>\n",
       "      <th>par_lemma</th>\n",
       "    </tr>\n",
       "  </thead>\n",
       "  <tbody>\n",
       "    <tr>\n",
       "      <th>0</th>\n",
       "      <td>Aristotle</td>\n",
       "      <td>Ethics</td>\n",
       "      <td>0</td>\n",
       "      <td>0</td>\n",
       "      <td>0</td>\n",
       "      <td>0</td>\n",
       "      <td>Every art, and every science reduced to a teac...</td>\n",
       "      <td>['every', 'art', 'and', 'every', 'science', 'r...</td>\n",
       "      <td>Every art, and every science reduced to a teac...</td>\n",
       "      <td>['every', 'art', 'and', 'every', 'science', 'r...</td>\n",
       "    </tr>\n",
       "    <tr>\n",
       "      <th>1</th>\n",
       "      <td>Aristotle</td>\n",
       "      <td>Ethics</td>\n",
       "      <td>0</td>\n",
       "      <td>0</td>\n",
       "      <td>1</td>\n",
       "      <td>0</td>\n",
       "      <td>Now there plainly is a difference in the Ends ...</td>\n",
       "      <td>['every', 'art', 'and', 'every', 'science', 'r...</td>\n",
       "      <td>Now there plainly is a difference in the Ends ...</td>\n",
       "      <td>['now', 'there', 'plainly', 'be', 'difference'...</td>\n",
       "    </tr>\n",
       "    <tr>\n",
       "      <th>2</th>\n",
       "      <td>Aristotle</td>\n",
       "      <td>Ethics</td>\n",
       "      <td>0</td>\n",
       "      <td>0</td>\n",
       "      <td>1</td>\n",
       "      <td>1</td>\n",
       "      <td>Again, since actions and arts and sciences are...</td>\n",
       "      <td>['now', 'there', 'plainly', 'be', 'difference'...</td>\n",
       "      <td>Now there plainly is a difference in the Ends ...</td>\n",
       "      <td>['now', 'there', 'plainly', 'be', 'difference'...</td>\n",
       "    </tr>\n",
       "    <tr>\n",
       "      <th>3</th>\n",
       "      <td>Aristotle</td>\n",
       "      <td>Ethics</td>\n",
       "      <td>0</td>\n",
       "      <td>0</td>\n",
       "      <td>2</td>\n",
       "      <td>0</td>\n",
       "      <td>And whatever of such actions, arts, or science...</td>\n",
       "      <td>['every', 'art', 'and', 'every', 'science', 'r...</td>\n",
       "      <td>And whatever of such actions, arts, or science...</td>\n",
       "      <td>['and', 'whatev', 'of', 'such', 'action', 'art...</td>\n",
       "    </tr>\n",
       "    <tr>\n",
       "      <th>4</th>\n",
       "      <td>Aristotle</td>\n",
       "      <td>Ethics</td>\n",
       "      <td>0</td>\n",
       "      <td>0</td>\n",
       "      <td>3</td>\n",
       "      <td>0</td>\n",
       "      <td>(And in this comparison it makes no difference...</td>\n",
       "      <td>['every', 'art', 'and', 'every', 'science', 'r...</td>\n",
       "      <td>(And in this comparison it makes no difference...</td>\n",
       "      <td>['and', 'in', 'this', 'comparison', 'make', 'n...</td>\n",
       "    </tr>\n",
       "  </tbody>\n",
       "</table>\n",
       "</div>"
      ],
      "text/plain": [
       "      author    work  a_num  w_num  p_num  s_num  \\\n",
       "0  Aristotle  Ethics      0      0      0      0   \n",
       "1  Aristotle  Ethics      0      0      1      0   \n",
       "2  Aristotle  Ethics      0      0      1      1   \n",
       "3  Aristotle  Ethics      0      0      2      0   \n",
       "4  Aristotle  Ethics      0      0      3      0   \n",
       "\n",
       "                                           sent_text  \\\n",
       "0  Every art, and every science reduced to a teac...   \n",
       "1  Now there plainly is a difference in the Ends ...   \n",
       "2  Again, since actions and arts and sciences are...   \n",
       "3  And whatever of such actions, arts, or science...   \n",
       "4  (And in this comparison it makes no difference...   \n",
       "\n",
       "                                          sent_lemma  \\\n",
       "0  ['every', 'art', 'and', 'every', 'science', 'r...   \n",
       "1  ['every', 'art', 'and', 'every', 'science', 'r...   \n",
       "2  ['now', 'there', 'plainly', 'be', 'difference'...   \n",
       "3  ['every', 'art', 'and', 'every', 'science', 'r...   \n",
       "4  ['every', 'art', 'and', 'every', 'science', 'r...   \n",
       "\n",
       "                                            par_text  \\\n",
       "0  Every art, and every science reduced to a teac...   \n",
       "1  Now there plainly is a difference in the Ends ...   \n",
       "2  Now there plainly is a difference in the Ends ...   \n",
       "3  And whatever of such actions, arts, or science...   \n",
       "4  (And in this comparison it makes no difference...   \n",
       "\n",
       "                                           par_lemma  \n",
       "0  ['every', 'art', 'and', 'every', 'science', 'r...  \n",
       "1  ['now', 'there', 'plainly', 'be', 'difference'...  \n",
       "2  ['now', 'there', 'plainly', 'be', 'difference'...  \n",
       "3  ['and', 'whatev', 'of', 'such', 'action', 'art...  \n",
       "4  ['and', 'in', 'this', 'comparison', 'make', 'n...  "
      ]
     },
     "execution_count": 5,
     "metadata": {},
     "output_type": "execute_result"
    }
   ],
   "source": [
    "t_nlp_df.head()"
   ]
  },
  {
   "cell_type": "code",
   "execution_count": 14,
   "metadata": {},
   "outputs": [
    {
     "data": {
      "text/plain": [
       "(8395, 10)"
      ]
     },
     "execution_count": 14,
     "metadata": {},
     "output_type": "execute_result"
    }
   ],
   "source": [
    "t_nlp_df.shape"
   ]
  },
  {
   "cell_type": "markdown",
   "metadata": {},
   "source": [
    "### 2.1.1 Build Dictionary and Corpora"
   ]
  },
  {
   "cell_type": "markdown",
   "metadata": {},
   "source": [
    "**Gensim Dictionary `g_dict`**"
   ]
  },
  {
   "cell_type": "code",
   "execution_count": 35,
   "metadata": {},
   "outputs": [],
   "source": [
    "# Build dictionary to contain all terms from normalized text\n",
    "g_dict = Dictionary([ast.literal_eval(lemma_str) for lemma_str in nlp_df.sent_lemma])"
   ]
  },
  {
   "cell_type": "code",
   "execution_count": 31,
   "metadata": {},
   "outputs": [
    {
     "data": {
      "text/plain": [
       "70922"
      ]
     },
     "execution_count": 31,
     "metadata": {},
     "output_type": "execute_result"
    }
   ],
   "source": [
    "len(g_dict)"
   ]
  },
  {
   "cell_type": "markdown",
   "metadata": {},
   "source": [
    "**Remove Outliers from Dictionary**"
   ]
  },
  {
   "cell_type": "code",
   "execution_count": null,
   "metadata": {},
   "outputs": [],
   "source": [
    "g_dict.filter_extremes(no_below=3, no_above=0.9, keep_n=18000)\n",
    "\n",
    "len(g_dict)"
   ]
  },
  {
   "cell_type": "markdown",
   "metadata": {},
   "source": [
    "**Bag of Words (BoW) Corpora**"
   ]
  },
  {
   "cell_type": "markdown",
   "metadata": {},
   "source": [
    "Training Text Corpus"
   ]
  },
  {
   "cell_type": "code",
   "execution_count": null,
   "metadata": {},
   "outputs": [],
   "source": [
    "# Build corpus of normalized text relative to dictionary\n",
    "bow_corpus_s = [g_dict.doc2bow(sent) for sent in nlp_df.sent_lemma]\n",
    "bos_corpus_p = [g_dict.doc2bow(par) for par in nlp_df.par_lemma]"
   ]
  },
  {
   "cell_type": "code",
   "execution_count": null,
   "metadata": {},
   "outputs": [],
   "source": [
    "len(bow_corpus_s)"
   ]
  },
  {
   "cell_type": "code",
   "execution_count": null,
   "metadata": {},
   "outputs": [],
   "source": [
    "len(bow_corpus_s[0])"
   ]
  },
  {
   "cell_type": "code",
   "execution_count": null,
   "metadata": {},
   "outputs": [],
   "source": [
    "len(bow_corpus_p)"
   ]
  },
  {
   "cell_type": "code",
   "execution_count": null,
   "metadata": {},
   "outputs": [],
   "source": [
    "len(bow_corpus_p[0])"
   ]
  },
  {
   "cell_type": "markdown",
   "metadata": {},
   "source": [
    "Testing Text Corpus"
   ]
  },
  {
   "cell_type": "code",
   "execution_count": null,
   "metadata": {},
   "outputs": [],
   "source": [
    "# Build corpus of normalized text relative to dictionary\n",
    "t_bow_corpus_s = [g_dict.doc2bow(sent) for sent in t_nlp_df.sent_lemma]\n",
    "t_bow_corpus_p = [g_dict.doc2bow(par) for par in t_nlp_df.par_lemma]"
   ]
  },
  {
   "cell_type": "code",
   "execution_count": null,
   "metadata": {},
   "outputs": [],
   "source": [
    "len(t_bow_corpus_p)"
   ]
  },
  {
   "cell_type": "code",
   "execution_count": null,
   "metadata": {},
   "outputs": [],
   "source": [
    "len(t_bow_corpus_p[0])"
   ]
  },
  {
   "cell_type": "markdown",
   "metadata": {},
   "source": [
    "**TF-IDF Vectorization**"
   ]
  },
  {
   "cell_type": "code",
   "execution_count": null,
   "metadata": {},
   "outputs": [],
   "source": [
    "tfidf = TfidfModel(bow_corpus_s, normalize=True)"
   ]
  },
  {
   "cell_type": "code",
   "execution_count": null,
   "metadata": {},
   "outputs": [],
   "source": [
    "corpus_s = tfidf[bow_corpus_s]"
   ]
  },
  {
   "cell_type": "code",
   "execution_count": null,
   "metadata": {},
   "outputs": [],
   "source": [
    "len(corpus_s)"
   ]
  },
  {
   "cell_type": "code",
   "execution_count": null,
   "metadata": {},
   "outputs": [],
   "source": [
    "corpus_p = tfidf[bow_corpus_p]"
   ]
  },
  {
   "cell_type": "code",
   "execution_count": null,
   "metadata": {},
   "outputs": [],
   "source": [
    "t_corpus_s = tfidf[t_bow_corpus_s]"
   ]
  },
  {
   "cell_type": "code",
   "execution_count": null,
   "metadata": {},
   "outputs": [],
   "source": [
    "len(t_corpus_s)"
   ]
  },
  {
   "cell_type": "code",
   "execution_count": null,
   "metadata": {},
   "outputs": [],
   "source": [
    "t_corpus_p = tfidf[t_bow_corpus_p]"
   ]
  },
  {
   "cell_type": "markdown",
   "metadata": {},
   "source": [
    "**Save TF-IDF Model to Disk**"
   ]
  },
  {
   "cell_type": "code",
   "execution_count": null,
   "metadata": {},
   "outputs": [],
   "source": [
    "tfidf.save('./models/tfidf')"
   ]
  },
  {
   "cell_type": "markdown",
   "metadata": {},
   "source": [
    "### 2.1.2 LDA Models"
   ]
  },
  {
   "cell_type": "markdown",
   "metadata": {},
   "source": [
    "**Set Parameter Values**"
   ]
  },
  {
   "cell_type": "code",
   "execution_count": 48,
   "metadata": {},
   "outputs": [],
   "source": [
    "sent_param= {\n",
    "    'num_topics':16,\n",
    "    'random_state':210,\n",
    "    'chunksize':5000,\n",
    "    'passes':5,\n",
    "    'workers':3\n",
    "}\n",
    "\n",
    "par_param= {\n",
    "    'num_topics':8,\n",
    "    'random_state':210,\n",
    "    'chunksize':1000,\n",
    "    'passes':5,\n",
    "    'workers':3\n",
    "}"
   ]
  },
  {
   "cell_type": "markdown",
   "metadata": {},
   "source": [
    "**LDA Multicore Model - Sentences**"
   ]
  },
  {
   "cell_type": "code",
   "execution_count": null,
   "metadata": {},
   "outputs": [],
   "source": [
    "# Instantiate model based on parameter values\n",
    "lda_multi_s = ldamulticore.LdaMulticore(corpus=corpus_s,\n",
    "                                        id2word=g_dict,\n",
    "                                        num_topics=sent_param['num_topics'],\n",
    "                                        random_state=sent_param['random_state'],\n",
    "                                        chunksize=sent_param['chunksize'],\n",
    "                                        passes=sent_param['passes'],\n",
    "                                        per_word_topics=True,\n",
    "                                        workers=sent_param['workers']\n",
    ")"
   ]
  },
  {
   "cell_type": "code",
   "execution_count": null,
   "metadata": {},
   "outputs": [],
   "source": [
    "lda_multi_s.print_topics()"
   ]
  },
  {
   "cell_type": "markdown",
   "metadata": {},
   "source": [
    "**LDA Metrics - Sentences**"
   ]
  },
  {
   "cell_type": "code",
   "execution_count": null,
   "metadata": {},
   "outputs": [],
   "source": [
    "lda_multi_s.log_perplexity(corpus_s)"
   ]
  },
  {
   "cell_type": "code",
   "execution_count": null,
   "metadata": {},
   "outputs": [],
   "source": [
    "cm_s = CoherenceModel(model=lda_multi_s, texts=nlp_df.sent_lemma, dictionary=g_dict, coherence='c_v')\n",
    "cm_s.get_coherence()"
   ]
  },
  {
   "cell_type": "markdown",
   "metadata": {},
   "source": [
    "**LDA Multicore Model - Paragraphs**"
   ]
  },
  {
   "cell_type": "code",
   "execution_count": null,
   "metadata": {},
   "outputs": [],
   "source": [
    "# Instantiate model based on parameter values\n",
    "lda_multi_p = ldamulticore.LdaMulticore(corpus=corpus_p,\n",
    "                                        id2word=g_dict,\n",
    "                                        num_topics=par_param['num_topics'],\n",
    "                                        random_state=par_param['random_state'],\n",
    "                                        chunksize=par_param['chunksize'],\n",
    "                                        passes=par_param['passes'],\n",
    "                                        per_word_topics=True,\n",
    "                                        workers=par_param['workers']\n",
    ")"
   ]
  },
  {
   "cell_type": "code",
   "execution_count": null,
   "metadata": {},
   "outputs": [],
   "source": [
    "lda_multi_p.print_topics()"
   ]
  },
  {
   "cell_type": "markdown",
   "metadata": {},
   "source": [
    "**LDA Metrics - Paragraphs**"
   ]
  },
  {
   "cell_type": "code",
   "execution_count": null,
   "metadata": {},
   "outputs": [],
   "source": [
    "lda_multi_p.log_perplexity(corpus_p)"
   ]
  },
  {
   "cell_type": "code",
   "execution_count": null,
   "metadata": {},
   "outputs": [],
   "source": [
    "cm_p = CoherenceModel(model=lda_multi_p, texts=nlp_df.par_lemma, dictionary=g_dict, coherence='c_v')\n",
    "cm_p.get_coherence()"
   ]
  },
  {
   "cell_type": "markdown",
   "metadata": {},
   "source": [
    "### 2.1.3 Visualize with pyLDAvis"
   ]
  },
  {
   "cell_type": "code",
   "execution_count": null,
   "metadata": {},
   "outputs": [],
   "source": [
    "lda_display_s = pyLDAvis.gensim.prepare(lda_multi_s, corpus_s, g_dict, sort_topics=True)\n",
    "pyLDAvis.display(lda_display_s)"
   ]
  },
  {
   "cell_type": "code",
   "execution_count": null,
   "metadata": {},
   "outputs": [],
   "source": [
    "lda_display_p = pyLDAvis.gensim.prepare(lda_multi_p, corpus_p, g_dict, sort_topics=True)\n",
    "pyLDAvis.display(lda_display_p)"
   ]
  },
  {
   "cell_type": "markdown",
   "metadata": {},
   "source": [
    "### 2.1.4 Optimization"
   ]
  },
  {
   "cell_type": "markdown",
   "metadata": {},
   "source": [
    "**Sentence LDA**"
   ]
  },
  {
   "cell_type": "code",
   "execution_count": null,
   "metadata": {},
   "outputs": [],
   "source": []
  },
  {
   "cell_type": "markdown",
   "metadata": {},
   "source": [
    "**Paragraph LDA**"
   ]
  },
  {
   "cell_type": "code",
   "execution_count": null,
   "metadata": {},
   "outputs": [],
   "source": []
  },
  {
   "cell_type": "code",
   "execution_count": null,
   "metadata": {},
   "outputs": [],
   "source": []
  },
  {
   "cell_type": "markdown",
   "metadata": {},
   "source": [
    "## 2.2 Topic Labeling with Gensim Word2Vec"
   ]
  },
  {
   "cell_type": "code",
   "execution_count": null,
   "metadata": {},
   "outputs": [],
   "source": []
  },
  {
   "cell_type": "markdown",
   "metadata": {},
   "source": [
    "## 2.3 Combine Features"
   ]
  },
  {
   "cell_type": "code",
   "execution_count": null,
   "metadata": {},
   "outputs": [],
   "source": []
  },
  {
   "cell_type": "markdown",
   "metadata": {},
   "source": [
    "## Continue to Notebook 3: Document Vectors"
   ]
  },
  {
   "cell_type": "code",
   "execution_count": null,
   "metadata": {},
   "outputs": [],
   "source": []
  }
 ],
 "metadata": {
  "kernelspec": {
   "display_name": "Environment (conda_tensorflow_p36)",
   "language": "python",
   "name": "conda_tensorflow_p36"
  },
  "language_info": {
   "codemirror_mode": {
    "name": "ipython",
    "version": 3
   },
   "file_extension": ".py",
   "mimetype": "text/x-python",
   "name": "python",
   "nbconvert_exporter": "python",
   "pygments_lexer": "ipython3",
   "version": "3.6.5"
  }
 },
 "nbformat": 4,
 "nbformat_minor": 2
}
