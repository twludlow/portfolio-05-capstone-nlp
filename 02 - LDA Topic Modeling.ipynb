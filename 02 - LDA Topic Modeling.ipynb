{
 "cells": [
  {
   "cell_type": "markdown",
   "metadata": {},
   "source": [
    "# Capstone: Philosophical Factors for NLP\n",
    "**_Measuring Similarity to Philosophical Concepts in Text Data_**\n",
    "\n",
    "## Thomas W. Ludlow, Jr.\n",
    "**General Assembly Data Science Immersive DSI-NY-6**\n",
    "\n",
    "**February 12, 2019**"
   ]
  },
  {
   "cell_type": "markdown",
   "metadata": {},
   "source": [
    "# Notebook 2 - LDA Topic Modeling"
   ]
  },
  {
   "cell_type": "markdown",
   "metadata": {},
   "source": [
    "### Table of Contents"
   ]
  },
  {
   "cell_type": "markdown",
   "metadata": {},
   "source": [
    "[**2.1 Gensim LDA**](#2.1-Gensim-LDA)\n",
    "- [2.1.1 Build Dictionary and Corpora](#2.1.1-Build-Dictionary-and-Corpora)\n",
    "- [2.1.2 LDA Model](#2.1.2-LDA-Model)\n",
    "- [2.1.3 Visualize with pyLDAvis](#2.1.3-Visualize-with-pyLDAvis)\n",
    "- [2.1.4 Optimization for Number of Topics](#2.1.4-Optimization-for-Number-of-Topics)\n",
    "\n",
    "[**2.2 Topic Labeling with Gensim Word2Vec**](#2.2-Topic-Labeling-with-Gensim-Word2Vec)\n",
    "- [2.2.1 Word2Vec](#2.2.1-Word2Vec)\n",
    "- [2.2.2 Identify Vectors for Specificity](#2.2.2-Identify-Vectors-for-Specificity)\n",
    "- [2.2.3 Get Topic Labels](#2.2.3-Get-Topic-Labels)\n",
    "\n",
    "[**2.3 LDA Features for Corpora**](#2.3-LDA-Features-for-Corpora)\n",
    "- [2.3.1 Training Text LDA](#2.3.1-Training-Text-LDA)\n",
    "- [2.3.2 Testing Text LDA](#2.3.2-Testing-Text-LDA)"
   ]
  },
  {
   "cell_type": "markdown",
   "metadata": {},
   "source": [
    "**Libraries**"
   ]
  },
  {
   "cell_type": "code",
   "execution_count": 1,
   "metadata": {},
   "outputs": [],
   "source": [
    "# Python Data Science\n",
    "import re\n",
    "import ast\n",
    "import time\n",
    "import pickle\n",
    "import numpy as np\n",
    "import pandas as pd\n",
    "from tqdm import tqdm_notebook as tqdm\n",
    "from IPython.display import clear_output\n",
    "\n",
    "# Natural Language Processing\n",
    "import spacy\n",
    "from nltk.stem import PorterStemmer\n",
    "\n",
    "# Gensim\n",
    "import gensim\n",
    "import gensim.downloader as api\n",
    "from gensim.corpora import Dictionary\n",
    "from gensim.models import TfidfModel, ldamulticore, CoherenceModel\n",
    "from gensim.models.word2vec import Word2Vec\n",
    "import pyLDAvis.gensim\n",
    "\n",
    "# Modeling Prep\n",
    "from sklearn.preprocessing import StandardScaler\n",
    "from sklearn.externals import joblib\n",
    "\n",
    "# Plotting\n",
    "import matplotlib.pyplot as plt\n",
    "%matplotlib inline\n",
    "\n",
    "# Override deprecation warnings\n",
    "import warnings\n",
    "warnings.filterwarnings(\"ignore\",category=DeprecationWarning)"
   ]
  },
  {
   "cell_type": "markdown",
   "metadata": {},
   "source": [
    "## 2.1 Gensim LDA"
   ]
  },
  {
   "cell_type": "markdown",
   "metadata": {},
   "source": [
    "**Load Preprocessed Text Data**"
   ]
  },
  {
   "cell_type": "code",
   "execution_count": 2,
   "metadata": {},
   "outputs": [],
   "source": [
    "nlp_df = pd.read_csv('../data_eda/nlp_df.csv')\n",
    "t_nlp_df = pd.read_csv('../data_eda/t_nlp_df.csv')"
   ]
  },
  {
   "cell_type": "code",
   "execution_count": 147,
   "metadata": {},
   "outputs": [
    {
     "data": {
      "text/html": [
       "<div>\n",
       "<style scoped>\n",
       "    .dataframe tbody tr th:only-of-type {\n",
       "        vertical-align: middle;\n",
       "    }\n",
       "\n",
       "    .dataframe tbody tr th {\n",
       "        vertical-align: top;\n",
       "    }\n",
       "\n",
       "    .dataframe thead th {\n",
       "        text-align: right;\n",
       "    }\n",
       "</style>\n",
       "<table border=\"1\" class=\"dataframe\">\n",
       "  <thead>\n",
       "    <tr style=\"text-align: right;\">\n",
       "      <th></th>\n",
       "      <th>author</th>\n",
       "      <th>work</th>\n",
       "      <th>a_num</th>\n",
       "      <th>w_num</th>\n",
       "      <th>p_num</th>\n",
       "      <th>s_num</th>\n",
       "      <th>sent_text</th>\n",
       "      <th>sent_lemma</th>\n",
       "      <th>par_text</th>\n",
       "      <th>par_lemma</th>\n",
       "    </tr>\n",
       "  </thead>\n",
       "  <tbody>\n",
       "    <tr>\n",
       "      <th>0</th>\n",
       "      <td>Aristotle</td>\n",
       "      <td>The Categories</td>\n",
       "      <td>0</td>\n",
       "      <td>0</td>\n",
       "      <td>0</td>\n",
       "      <td>0</td>\n",
       "      <td>Things are said to be named 'equivocally' when...</td>\n",
       "      <td>['thing', 'be', 'say', 'to', 'be', 'name', 'eq...</td>\n",
       "      <td>Things are said to be named 'equivocally' when...</td>\n",
       "      <td>['thing', 'be', 'say', 'to', 'be', 'name', 'eq...</td>\n",
       "    </tr>\n",
       "    <tr>\n",
       "      <th>1</th>\n",
       "      <td>Aristotle</td>\n",
       "      <td>The Categories</td>\n",
       "      <td>0</td>\n",
       "      <td>0</td>\n",
       "      <td>0</td>\n",
       "      <td>1</td>\n",
       "      <td>Thus, a real man and a figure in a picture can...</td>\n",
       "      <td>['thus', 'real', 'man', 'and', 'figure', 'in',...</td>\n",
       "      <td>Things are said to be named 'equivocally' when...</td>\n",
       "      <td>['thing', 'be', 'say', 'to', 'be', 'name', 'eq...</td>\n",
       "    </tr>\n",
       "    <tr>\n",
       "      <th>2</th>\n",
       "      <td>Aristotle</td>\n",
       "      <td>The Categories</td>\n",
       "      <td>0</td>\n",
       "      <td>0</td>\n",
       "      <td>0</td>\n",
       "      <td>2</td>\n",
       "      <td>For should any one define in what sense each i...</td>\n",
       "      <td>['should', 'any', 'one', 'define', 'in', 'what...</td>\n",
       "      <td>Things are said to be named 'equivocally' when...</td>\n",
       "      <td>['thing', 'be', 'say', 'to', 'be', 'name', 'eq...</td>\n",
       "    </tr>\n",
       "    <tr>\n",
       "      <th>3</th>\n",
       "      <td>Aristotle</td>\n",
       "      <td>The Categories</td>\n",
       "      <td>0</td>\n",
       "      <td>0</td>\n",
       "      <td>1</td>\n",
       "      <td>0</td>\n",
       "      <td>On the other hand, things are said to be named...</td>\n",
       "      <td>['on', 'other', 'hand', 'thing', 'be', 'say', ...</td>\n",
       "      <td>On the other hand, things are said to be named...</td>\n",
       "      <td>['on', 'other', 'hand', 'thing', 'be', 'say', ...</td>\n",
       "    </tr>\n",
       "    <tr>\n",
       "      <th>4</th>\n",
       "      <td>Aristotle</td>\n",
       "      <td>The Categories</td>\n",
       "      <td>0</td>\n",
       "      <td>0</td>\n",
       "      <td>1</td>\n",
       "      <td>1</td>\n",
       "      <td>A man and an ox are both 'animal', and these a...</td>\n",
       "      <td>['man', 'and', 'an', 'ox', 'be', 'both', 'anim...</td>\n",
       "      <td>On the other hand, things are said to be named...</td>\n",
       "      <td>['on', 'other', 'hand', 'thing', 'be', 'say', ...</td>\n",
       "    </tr>\n",
       "  </tbody>\n",
       "</table>\n",
       "</div>"
      ],
      "text/plain": [
       "      author            work  a_num  w_num  p_num  s_num  \\\n",
       "0  Aristotle  The Categories      0      0      0      0   \n",
       "1  Aristotle  The Categories      0      0      0      1   \n",
       "2  Aristotle  The Categories      0      0      0      2   \n",
       "3  Aristotle  The Categories      0      0      1      0   \n",
       "4  Aristotle  The Categories      0      0      1      1   \n",
       "\n",
       "                                           sent_text  \\\n",
       "0  Things are said to be named 'equivocally' when...   \n",
       "1  Thus, a real man and a figure in a picture can...   \n",
       "2  For should any one define in what sense each i...   \n",
       "3  On the other hand, things are said to be named...   \n",
       "4  A man and an ox are both 'animal', and these a...   \n",
       "\n",
       "                                          sent_lemma  \\\n",
       "0  ['thing', 'be', 'say', 'to', 'be', 'name', 'eq...   \n",
       "1  ['thus', 'real', 'man', 'and', 'figure', 'in',...   \n",
       "2  ['should', 'any', 'one', 'define', 'in', 'what...   \n",
       "3  ['on', 'other', 'hand', 'thing', 'be', 'say', ...   \n",
       "4  ['man', 'and', 'an', 'ox', 'be', 'both', 'anim...   \n",
       "\n",
       "                                            par_text  \\\n",
       "0  Things are said to be named 'equivocally' when...   \n",
       "1  Things are said to be named 'equivocally' when...   \n",
       "2  Things are said to be named 'equivocally' when...   \n",
       "3  On the other hand, things are said to be named...   \n",
       "4  On the other hand, things are said to be named...   \n",
       "\n",
       "                                           par_lemma  \n",
       "0  ['thing', 'be', 'say', 'to', 'be', 'name', 'eq...  \n",
       "1  ['thing', 'be', 'say', 'to', 'be', 'name', 'eq...  \n",
       "2  ['thing', 'be', 'say', 'to', 'be', 'name', 'eq...  \n",
       "3  ['on', 'other', 'hand', 'thing', 'be', 'say', ...  \n",
       "4  ['on', 'other', 'hand', 'thing', 'be', 'say', ...  "
      ]
     },
     "execution_count": 147,
     "metadata": {},
     "output_type": "execute_result"
    }
   ],
   "source": [
    "nlp_df.head()"
   ]
  },
  {
   "cell_type": "code",
   "execution_count": 4,
   "metadata": {},
   "outputs": [
    {
     "data": {
      "text/plain": [
       "1887382"
      ]
     },
     "execution_count": 4,
     "metadata": {},
     "output_type": "execute_result"
    }
   ],
   "source": [
    "word_count = sum([sent.strip().count(' ') for sent in nlp_df.sent_text.tolist()]) + nlp_df.shape[0]\n",
    "word_count"
   ]
  },
  {
   "cell_type": "code",
   "execution_count": 149,
   "metadata": {},
   "outputs": [
    {
     "data": {
      "text/plain": [
       "9     9661\n",
       "11    7813\n",
       "4     6513\n",
       "17    6295\n",
       "7     6121\n",
       "12    5887\n",
       "13    4186\n",
       "16    3520\n",
       "15    3172\n",
       "1     3133\n",
       "14    2674\n",
       "6     2598\n",
       "18    2097\n",
       "5     1657\n",
       "2     1289\n",
       "10    1181\n",
       "0     1118\n",
       "19    1112\n",
       "3      596\n",
       "8      299\n",
       "Name: a_num, dtype: int64"
      ]
     },
     "execution_count": 149,
     "metadata": {},
     "output_type": "execute_result"
    }
   ],
   "source": [
    "nlp_df.a_num.value_counts()"
   ]
  },
  {
   "cell_type": "code",
   "execution_count": 148,
   "metadata": {},
   "outputs": [
    {
     "data": {
      "text/plain": [
       "(70922, 10)"
      ]
     },
     "execution_count": 148,
     "metadata": {},
     "output_type": "execute_result"
    }
   ],
   "source": [
    "nlp_df.shape"
   ]
  },
  {
   "cell_type": "code",
   "execution_count": 9,
   "metadata": {},
   "outputs": [
    {
     "data": {
      "text/html": [
       "<div>\n",
       "<style scoped>\n",
       "    .dataframe tbody tr th:only-of-type {\n",
       "        vertical-align: middle;\n",
       "    }\n",
       "\n",
       "    .dataframe tbody tr th {\n",
       "        vertical-align: top;\n",
       "    }\n",
       "\n",
       "    .dataframe thead th {\n",
       "        text-align: right;\n",
       "    }\n",
       "</style>\n",
       "<table border=\"1\" class=\"dataframe\">\n",
       "  <thead>\n",
       "    <tr style=\"text-align: right;\">\n",
       "      <th></th>\n",
       "      <th>author</th>\n",
       "      <th>work</th>\n",
       "      <th>a_num</th>\n",
       "      <th>w_num</th>\n",
       "      <th>p_num</th>\n",
       "      <th>s_num</th>\n",
       "      <th>sent_text</th>\n",
       "      <th>sent_lemma</th>\n",
       "      <th>par_text</th>\n",
       "      <th>par_lemma</th>\n",
       "    </tr>\n",
       "  </thead>\n",
       "  <tbody>\n",
       "    <tr>\n",
       "      <th>0</th>\n",
       "      <td>Aristotle</td>\n",
       "      <td>Ethics</td>\n",
       "      <td>0</td>\n",
       "      <td>0</td>\n",
       "      <td>0</td>\n",
       "      <td>0</td>\n",
       "      <td>Every art, and every science reduced to a teac...</td>\n",
       "      <td>['every', 'art', 'and', 'every', 'science', 'r...</td>\n",
       "      <td>Every art, and every science reduced to a teac...</td>\n",
       "      <td>['every', 'art', 'and', 'every', 'science', 'r...</td>\n",
       "    </tr>\n",
       "    <tr>\n",
       "      <th>1</th>\n",
       "      <td>Aristotle</td>\n",
       "      <td>Ethics</td>\n",
       "      <td>0</td>\n",
       "      <td>0</td>\n",
       "      <td>1</td>\n",
       "      <td>0</td>\n",
       "      <td>Now there plainly is a difference in the Ends ...</td>\n",
       "      <td>['now', 'there', 'plainly', 'be', 'difference'...</td>\n",
       "      <td>Now there plainly is a difference in the Ends ...</td>\n",
       "      <td>['now', 'there', 'plainly', 'be', 'difference'...</td>\n",
       "    </tr>\n",
       "    <tr>\n",
       "      <th>2</th>\n",
       "      <td>Aristotle</td>\n",
       "      <td>Ethics</td>\n",
       "      <td>0</td>\n",
       "      <td>0</td>\n",
       "      <td>1</td>\n",
       "      <td>1</td>\n",
       "      <td>Again, since actions and arts and sciences are...</td>\n",
       "      <td>['again', 'since', 'action', 'and', 'art', 'an...</td>\n",
       "      <td>Now there plainly is a difference in the Ends ...</td>\n",
       "      <td>['now', 'there', 'plainly', 'be', 'difference'...</td>\n",
       "    </tr>\n",
       "    <tr>\n",
       "      <th>3</th>\n",
       "      <td>Aristotle</td>\n",
       "      <td>Ethics</td>\n",
       "      <td>0</td>\n",
       "      <td>0</td>\n",
       "      <td>2</td>\n",
       "      <td>0</td>\n",
       "      <td>And whatever of such actions, arts, or science...</td>\n",
       "      <td>['and', 'whatev', 'of', 'such', 'action', 'art...</td>\n",
       "      <td>And whatever of such actions, arts, or science...</td>\n",
       "      <td>['and', 'whatev', 'of', 'such', 'action', 'art...</td>\n",
       "    </tr>\n",
       "    <tr>\n",
       "      <th>4</th>\n",
       "      <td>Aristotle</td>\n",
       "      <td>Ethics</td>\n",
       "      <td>0</td>\n",
       "      <td>0</td>\n",
       "      <td>3</td>\n",
       "      <td>0</td>\n",
       "      <td>(And in this comparison it makes no difference...</td>\n",
       "      <td>['and', 'in', 'this', 'comparison', 'make', 'n...</td>\n",
       "      <td>(And in this comparison it makes no difference...</td>\n",
       "      <td>['and', 'in', 'this', 'comparison', 'make', 'n...</td>\n",
       "    </tr>\n",
       "  </tbody>\n",
       "</table>\n",
       "</div>"
      ],
      "text/plain": [
       "      author    work  a_num  w_num  p_num  s_num  \\\n",
       "0  Aristotle  Ethics      0      0      0      0   \n",
       "1  Aristotle  Ethics      0      0      1      0   \n",
       "2  Aristotle  Ethics      0      0      1      1   \n",
       "3  Aristotle  Ethics      0      0      2      0   \n",
       "4  Aristotle  Ethics      0      0      3      0   \n",
       "\n",
       "                                           sent_text  \\\n",
       "0  Every art, and every science reduced to a teac...   \n",
       "1  Now there plainly is a difference in the Ends ...   \n",
       "2  Again, since actions and arts and sciences are...   \n",
       "3  And whatever of such actions, arts, or science...   \n",
       "4  (And in this comparison it makes no difference...   \n",
       "\n",
       "                                          sent_lemma  \\\n",
       "0  ['every', 'art', 'and', 'every', 'science', 'r...   \n",
       "1  ['now', 'there', 'plainly', 'be', 'difference'...   \n",
       "2  ['again', 'since', 'action', 'and', 'art', 'an...   \n",
       "3  ['and', 'whatev', 'of', 'such', 'action', 'art...   \n",
       "4  ['and', 'in', 'this', 'comparison', 'make', 'n...   \n",
       "\n",
       "                                            par_text  \\\n",
       "0  Every art, and every science reduced to a teac...   \n",
       "1  Now there plainly is a difference in the Ends ...   \n",
       "2  Now there plainly is a difference in the Ends ...   \n",
       "3  And whatever of such actions, arts, or science...   \n",
       "4  (And in this comparison it makes no difference...   \n",
       "\n",
       "                                           par_lemma  \n",
       "0  ['every', 'art', 'and', 'every', 'science', 'r...  \n",
       "1  ['now', 'there', 'plainly', 'be', 'difference'...  \n",
       "2  ['now', 'there', 'plainly', 'be', 'difference'...  \n",
       "3  ['and', 'whatev', 'of', 'such', 'action', 'art...  \n",
       "4  ['and', 'in', 'this', 'comparison', 'make', 'n...  "
      ]
     },
     "execution_count": 9,
     "metadata": {},
     "output_type": "execute_result"
    }
   ],
   "source": [
    "t_nlp_df.head()"
   ]
  },
  {
   "cell_type": "code",
   "execution_count": 10,
   "metadata": {},
   "outputs": [
    {
     "data": {
      "text/plain": [
       "(8395, 10)"
      ]
     },
     "execution_count": 10,
     "metadata": {},
     "output_type": "execute_result"
    }
   ],
   "source": [
    "t_nlp_df.shape"
   ]
  },
  {
   "cell_type": "markdown",
   "metadata": {},
   "source": [
    "### 2.1.1 Build Dictionary and Corpora"
   ]
  },
  {
   "cell_type": "markdown",
   "metadata": {},
   "source": [
    "**Gensim Dictionary `g_dict`**"
   ]
  },
  {
   "cell_type": "code",
   "execution_count": 68,
   "metadata": {},
   "outputs": [],
   "source": [
    "stopwords = ['xxiv','xxvii','xxxi','xxxvii','xxx','xxv','liii','xlvi','xxxviii','liv']"
   ]
  },
  {
   "cell_type": "code",
   "execution_count": 69,
   "metadata": {},
   "outputs": [
    {
     "data": {
      "text/plain": [
       "25682"
      ]
     },
     "execution_count": 69,
     "metadata": {},
     "output_type": "execute_result"
    }
   ],
   "source": [
    "# Build dictionary to contain all terms from normalized text\n",
    "g_dict = Dictionary([ast.literal_eval(lemma_str) for lemma_str in nlp_df.sent_lemma])\n",
    "len(g_dict)"
   ]
  },
  {
   "cell_type": "code",
   "execution_count": 70,
   "metadata": {},
   "outputs": [],
   "source": [
    "for word in stopwords:\n",
    "    g_dict.filter_tokens(bad_ids=[g_dict.token2id[word]])"
   ]
  },
  {
   "cell_type": "code",
   "execution_count": 71,
   "metadata": {},
   "outputs": [
    {
     "data": {
      "text/plain": [
       "25672"
      ]
     },
     "execution_count": 71,
     "metadata": {},
     "output_type": "execute_result"
    }
   ],
   "source": [
    "len(g_dict)"
   ]
  },
  {
   "cell_type": "markdown",
   "metadata": {},
   "source": [
    "**Remove Outliers from Dictionary**"
   ]
  },
  {
   "cell_type": "code",
   "execution_count": 72,
   "metadata": {},
   "outputs": [
    {
     "data": {
      "text/plain": [
       "9075"
      ]
     },
     "execution_count": 72,
     "metadata": {},
     "output_type": "execute_result"
    }
   ],
   "source": [
    "g_dict.filter_extremes(no_below=5, no_above=0.85, keep_n=10000)\n",
    "len(g_dict)"
   ]
  },
  {
   "cell_type": "markdown",
   "metadata": {},
   "source": [
    "**Bag of Words (BoW) Corpora**"
   ]
  },
  {
   "cell_type": "markdown",
   "metadata": {},
   "source": [
    "Training Text Corpus"
   ]
  },
  {
   "cell_type": "code",
   "execution_count": 73,
   "metadata": {},
   "outputs": [],
   "source": [
    "# Build corpus of normalized text relative to dictionary\n",
    "bow_corpus_s = [g_dict.doc2bow(ast.literal_eval(sent)) for sent in nlp_df.sent_lemma]\n",
    "bow_corpus_p = [g_dict.doc2bow(ast.literal_eval(par)) for par in nlp_df.par_lemma]"
   ]
  },
  {
   "cell_type": "code",
   "execution_count": 74,
   "metadata": {},
   "outputs": [
    {
     "data": {
      "text/plain": [
       "70922"
      ]
     },
     "execution_count": 74,
     "metadata": {},
     "output_type": "execute_result"
    }
   ],
   "source": [
    "len(bow_corpus_s)"
   ]
  },
  {
   "cell_type": "code",
   "execution_count": 75,
   "metadata": {},
   "outputs": [
    {
     "data": {
      "text/plain": [
       "14"
      ]
     },
     "execution_count": 75,
     "metadata": {},
     "output_type": "execute_result"
    }
   ],
   "source": [
    "len(bow_corpus_s[0])"
   ]
  },
  {
   "cell_type": "code",
   "execution_count": 76,
   "metadata": {},
   "outputs": [
    {
     "data": {
      "text/plain": [
       "70922"
      ]
     },
     "execution_count": 76,
     "metadata": {},
     "output_type": "execute_result"
    }
   ],
   "source": [
    "len(bow_corpus_p)"
   ]
  },
  {
   "cell_type": "code",
   "execution_count": 77,
   "metadata": {},
   "outputs": [
    {
     "data": {
      "text/plain": [
       "41"
      ]
     },
     "execution_count": 77,
     "metadata": {},
     "output_type": "execute_result"
    }
   ],
   "source": [
    "len(bow_corpus_p[0])"
   ]
  },
  {
   "cell_type": "markdown",
   "metadata": {},
   "source": [
    "Testing Text Corpus"
   ]
  },
  {
   "cell_type": "code",
   "execution_count": 78,
   "metadata": {},
   "outputs": [],
   "source": [
    "# Build corpus of normalized text relative to dictionary\n",
    "t_bow_corpus_s = [g_dict.doc2bow(ast.literal_eval(sent)) for sent in t_nlp_df.sent_lemma]\n",
    "t_bow_corpus_p = [g_dict.doc2bow(ast.literal_eval(par)) for par in t_nlp_df.par_lemma]"
   ]
  },
  {
   "cell_type": "code",
   "execution_count": 79,
   "metadata": {},
   "outputs": [
    {
     "data": {
      "text/plain": [
       "8395"
      ]
     },
     "execution_count": 79,
     "metadata": {},
     "output_type": "execute_result"
    }
   ],
   "source": [
    "len(t_bow_corpus_p)"
   ]
  },
  {
   "cell_type": "code",
   "execution_count": 80,
   "metadata": {},
   "outputs": [
    {
     "data": {
      "text/plain": [
       "31"
      ]
     },
     "execution_count": 80,
     "metadata": {},
     "output_type": "execute_result"
    }
   ],
   "source": [
    "len(t_bow_corpus_p[0])"
   ]
  },
  {
   "cell_type": "markdown",
   "metadata": {},
   "source": [
    "**TF-IDF Vectorization**"
   ]
  },
  {
   "cell_type": "code",
   "execution_count": 81,
   "metadata": {},
   "outputs": [],
   "source": [
    "tfidf = TfidfModel(bow_corpus_s, normalize=True)"
   ]
  },
  {
   "cell_type": "code",
   "execution_count": 82,
   "metadata": {},
   "outputs": [],
   "source": [
    "corpus_s = tfidf[bow_corpus_s]"
   ]
  },
  {
   "cell_type": "code",
   "execution_count": 83,
   "metadata": {},
   "outputs": [
    {
     "data": {
      "text/plain": [
       "70922"
      ]
     },
     "execution_count": 83,
     "metadata": {},
     "output_type": "execute_result"
    }
   ],
   "source": [
    "len(corpus_s)"
   ]
  },
  {
   "cell_type": "code",
   "execution_count": 84,
   "metadata": {},
   "outputs": [],
   "source": [
    "corpus_p = tfidf[bow_corpus_p]"
   ]
  },
  {
   "cell_type": "code",
   "execution_count": 85,
   "metadata": {},
   "outputs": [],
   "source": [
    "t_corpus_s = tfidf[t_bow_corpus_s]"
   ]
  },
  {
   "cell_type": "code",
   "execution_count": 86,
   "metadata": {},
   "outputs": [
    {
     "data": {
      "text/plain": [
       "8395"
      ]
     },
     "execution_count": 86,
     "metadata": {},
     "output_type": "execute_result"
    }
   ],
   "source": [
    "len(t_corpus_s)"
   ]
  },
  {
   "cell_type": "code",
   "execution_count": 87,
   "metadata": {},
   "outputs": [],
   "source": [
    "t_corpus_p = tfidf[t_bow_corpus_p]"
   ]
  },
  {
   "cell_type": "markdown",
   "metadata": {},
   "source": [
    "**Save TF-IDF Model to Disk**"
   ]
  },
  {
   "cell_type": "code",
   "execution_count": 88,
   "metadata": {},
   "outputs": [],
   "source": [
    "tfidf.save('./models/tfidf')"
   ]
  },
  {
   "cell_type": "markdown",
   "metadata": {},
   "source": [
    "### 2.1.2 LDA Models"
   ]
  },
  {
   "cell_type": "markdown",
   "metadata": {},
   "source": [
    "**Set Parameter Values**"
   ]
  },
  {
   "cell_type": "code",
   "execution_count": 100,
   "metadata": {},
   "outputs": [],
   "source": [
    "sent_param= {\n",
    "    'num_topics':32,\n",
    "    'random_state':211,\n",
    "    'chunksize':5000,\n",
    "    'eval_every':10,\n",
    "    'passes':3,\n",
    "    'workers':3\n",
    "}\n",
    "\n",
    "par_param= {\n",
    "    'num_topics':20,\n",
    "    'random_state':211,\n",
    "    'chunksize':1000,\n",
    "    'eval_every':10,\n",
    "    'passes':3,\n",
    "    'workers':3\n",
    "}"
   ]
  },
  {
   "cell_type": "markdown",
   "metadata": {},
   "source": [
    "**LDA Multicore Model - Sentences**"
   ]
  },
  {
   "cell_type": "code",
   "execution_count": 101,
   "metadata": {},
   "outputs": [],
   "source": [
    "# Instantiate model based on parameter values\n",
    "lda_multi_s = ldamulticore.LdaMulticore(corpus=corpus_s,\n",
    "                                        id2word=g_dict,\n",
    "                                        num_topics=sent_param['num_topics'],\n",
    "                                        random_state=sent_param['random_state'],\n",
    "                                        chunksize=sent_param['chunksize'],\n",
    "                                        eval_every=sent_param['eval_every'],\n",
    "                                        passes=sent_param['passes'],\n",
    "                                        per_word_topics=True,\n",
    "                                        workers=sent_param['workers'],\n",
    "                                        alpha='symmetric'\n",
    ")"
   ]
  },
  {
   "cell_type": "code",
   "execution_count": 102,
   "metadata": {},
   "outputs": [
    {
     "data": {
      "text/plain": [
       "[(15,\n",
       "  '0.009*\"and\" + 0.009*\"to\" + 0.008*\"of\" + 0.008*\"be\" + 0.007*\"in\" + 0.006*\"that\" + 0.006*\"have\" + 0.006*\"as\" + 0.005*\"not\" + 0.005*\"which\"'),\n",
       " (25,\n",
       "  '0.008*\"absurd\" + 0.008*\"of\" + 0.008*\"be\" + 0.008*\"to\" + 0.007*\"and\" + 0.006*\"partly\" + 0.006*\"which\" + 0.006*\"amount\" + 0.006*\"have\" + 0.006*\"in\"'),\n",
       " (26,\n",
       "  '0.010*\"and\" + 0.009*\"of\" + 0.009*\"to\" + 0.008*\"be\" + 0.007*\"modification\" + 0.007*\"in\" + 0.007*\"have\" + 0.006*\"that\" + 0.006*\"not\" + 0.006*\"france\"'),\n",
       " (4,\n",
       "  '0.015*\"kung\" + 0.013*\"soldier\" + 0.011*\"chang\" + 0.010*\"yu\" + 0.008*\"be\" + 0.008*\"to\" + 0.008*\"say\" + 0.007*\"of\" + 0.007*\"everyone\" + 0.007*\"in\"'),\n",
       " (5,\n",
       "  '0.009*\"of\" + 0.009*\"in\" + 0.008*\"be\" + 0.008*\"to\" + 0.007*\"that\" + 0.007*\"and\" + 0.007*\"associate\" + 0.006*\"socrates\" + 0.006*\"repeat\" + 0.006*\"as\"'),\n",
       " (29,\n",
       "  '0.009*\"to\" + 0.009*\"of\" + 0.008*\"be\" + 0.008*\"and\" + 0.008*\"in\" + 0.007*\"government\" + 0.007*\"citizen\" + 0.007*\"have\" + 0.006*\"as\" + 0.006*\"that\"'),\n",
       " (18,\n",
       "  '0.008*\"sun\" + 0.008*\"be\" + 0.008*\"and\" + 0.007*\"as\" + 0.007*\"of\" + 0.007*\"to\" + 0.007*\"in\" + 0.006*\"not\" + 0.006*\"that\" + 0.006*\"happen\"'),\n",
       " (14,\n",
       "  '0.008*\"and\" + 0.008*\"of\" + 0.008*\"to\" + 0.007*\"be\" + 0.007*\"in\" + 0.007*\"have\" + 0.006*\"wait\" + 0.006*\"that\" + 0.005*\"wherewith\" + 0.005*\"parliament\"'),\n",
       " (22,\n",
       "  '0.010*\"victory\" + 0.008*\"answer\" + 0.007*\"be\" + 0.007*\"military\" + 0.007*\"and\" + 0.007*\"to\" + 0.007*\"of\" + 0.006*\"in\" + 0.005*\"have\" + 0.005*\"will\"'),\n",
       " (6,\n",
       "  '0.009*\"to\" + 0.008*\"of\" + 0.007*\"and\" + 0.007*\"camp\" + 0.007*\"be\" + 0.006*\"in\" + 0.006*\"that\" + 0.006*\"have\" + 0.005*\"de\" + 0.005*\"post\"'),\n",
       " (11,\n",
       "  '0.009*\"to\" + 0.009*\"of\" + 0.008*\"be\" + 0.007*\"in\" + 0.007*\"and\" + 0.006*\"national\" + 0.006*\"that\" + 0.006*\"as\" + 0.006*\"quote\" + 0.006*\"not\"'),\n",
       " (27,\n",
       "  '0.010*\"what\" + 0.009*\"adequate\" + 0.009*\"of\" + 0.009*\"be\" + 0.009*\"to\" + 0.008*\"chapter\" + 0.008*\"in\" + 0.008*\"that\" + 0.007*\"and\" + 0.007*\"idea\"'),\n",
       " (31,\n",
       "  '0.013*\"spy\" + 0.010*\"of\" + 0.009*\"be\" + 0.008*\"defeat\" + 0.008*\"to\" + 0.008*\"that\" + 0.007*\"in\" + 0.007*\"and\" + 0.006*\"as\" + 0.006*\"which\"'),\n",
       " (12,\n",
       "  '0.010*\"of\" + 0.009*\"idea\" + 0.009*\"be\" + 0.009*\"in\" + 0.008*\"and\" + 0.008*\"as\" + 0.008*\"to\" + 0.007*\"that\" + 0.007*\"passive\" + 0.007*\"not\"'),\n",
       " (19,\n",
       "  '0.009*\"and\" + 0.009*\"of\" + 0.008*\"to\" + 0.008*\"be\" + 0.007*\"money\" + 0.006*\"in\" + 0.006*\"have\" + 0.006*\"that\" + 0.006*\"man\" + 0.006*\"not\"'),\n",
       " (8,\n",
       "  '0.012*\"of\" + 0.011*\"be\" + 0.010*\"in\" + 0.010*\"which\" + 0.010*\"as\" + 0.009*\"that\" + 0.009*\"thing\" + 0.008*\"to\" + 0.008*\"not\" + 0.008*\"can\"'),\n",
       " (2,\n",
       "  '0.013*\"see\" + 0.013*\"and\" + 0.009*\"to\" + 0.008*\"be\" + 0.007*\"of\" + 0.007*\"have\" + 0.006*\"in\" + 0.006*\"that\" + 0.006*\"as\" + 0.006*\"not\"'),\n",
       " (24,\n",
       "  '0.010*\"say\" + 0.009*\"be\" + 0.009*\"that\" + 0.009*\"to\" + 0.009*\"of\" + 0.009*\"chinese\" + 0.008*\"and\" + 0.007*\"in\" + 0.007*\"not\" + 0.006*\"as\"'),\n",
       " (9,\n",
       "  '0.011*\"wherefore\" + 0.010*\"evil\" + 0.009*\"good\" + 0.009*\"be\" + 0.009*\"to\" + 0.009*\"and\" + 0.009*\"of\" + 0.008*\"that\" + 0.007*\"in\" + 0.006*\"as\"'),\n",
       " (28,\n",
       "  '0.069*\"prop\" + 0.028*\"emotion\" + 0.020*\"love\" + 0.011*\"hatred\" + 0.010*\"affect\" + 0.010*\"by\" + 0.010*\"as\" + 0.010*\"conceive\" + 0.010*\"pleasure\" + 0.009*\"pain\"')]"
      ]
     },
     "execution_count": 102,
     "metadata": {},
     "output_type": "execute_result"
    }
   ],
   "source": [
    "lda_multi_s.print_topics()"
   ]
  },
  {
   "cell_type": "markdown",
   "metadata": {},
   "source": [
    "**LDA Metrics - Sentences**"
   ]
  },
  {
   "cell_type": "code",
   "execution_count": 103,
   "metadata": {},
   "outputs": [
    {
     "data": {
      "text/plain": [
       "-10.594897182885989"
      ]
     },
     "execution_count": 103,
     "metadata": {},
     "output_type": "execute_result"
    }
   ],
   "source": [
    "lda_multi_s.log_perplexity(corpus_s)"
   ]
  },
  {
   "cell_type": "code",
   "execution_count": 104,
   "metadata": {},
   "outputs": [
    {
     "data": {
      "text/plain": [
       "0.47530049779106176"
      ]
     },
     "execution_count": 104,
     "metadata": {},
     "output_type": "execute_result"
    }
   ],
   "source": [
    "cm_s = CoherenceModel(model=lda_multi_s, texts=[ast.literal_eval(sent) for sent in nlp_df.sent_lemma], \n",
    "                      dictionary=g_dict, coherence='c_v')\n",
    "cm_s.get_coherence()"
   ]
  },
  {
   "cell_type": "markdown",
   "metadata": {},
   "source": [
    "**LDA Multicore Model - Paragraphs**"
   ]
  },
  {
   "cell_type": "code",
   "execution_count": 94,
   "metadata": {},
   "outputs": [],
   "source": [
    "# Instantiate model based on parameter values\n",
    "lda_multi_p = ldamulticore.LdaMulticore(corpus=corpus_p,\n",
    "                                        id2word=g_dict,\n",
    "                                        num_topics=par_param['num_topics'],\n",
    "                                        random_state=par_param['random_state'],\n",
    "                                        chunksize=par_param['chunksize'],\n",
    "                                        eval_every=par_param['eval_every'],\n",
    "                                        passes=par_param['passes'],\n",
    "                                        per_word_topics=True,\n",
    "                                        workers=par_param['workers'],\n",
    "                                        alpha='symmetric'\n",
    ")"
   ]
  },
  {
   "cell_type": "code",
   "execution_count": 95,
   "metadata": {},
   "outputs": [
    {
     "data": {
      "text/plain": [
       "[(0,\n",
       "  '0.100*\"ye\" + 0.030*\"christian\" + 0.026*\"ah\" + 0.012*\"spake\" + 0.012*\"boy\" + 0.010*\"council\" + 0.009*\"commander\" + 0.009*\"ordain\" + 0.009*\"meeting\" + 0.008*\"quiet\"'),\n",
       " (1,\n",
       "  '0.026*\"local\" + 0.021*\"relieve\" + 0.021*\"heavy\" + 0.021*\"yea\" + 0.018*\"brave\" + 0.016*\"bar\" + 0.016*\"cage\" + 0.016*\"courageous\" + 0.015*\"equilibrium\" + 0.013*\"yellow\"'),\n",
       " (2,\n",
       "  '0.013*\"and\" + 0.009*\"that\" + 0.008*\"to\" + 0.008*\"god\" + 0.008*\"say\" + 0.008*\"be\" + 0.007*\"intuition\" + 0.007*\"of\" + 0.007*\"day\" + 0.006*\"not\"'),\n",
       " (3,\n",
       "  '0.011*\"to\" + 0.010*\"of\" + 0.010*\"be\" + 0.010*\"that\" + 0.009*\"and\" + 0.008*\"in\" + 0.008*\"have\" + 0.007*\"as\" + 0.007*\"not\" + 0.007*\"which\"'),\n",
       " (4,\n",
       "  '0.071*\"shih\" + 0.044*\"subordinate\" + 0.031*\"ching\" + 0.031*\"snow\" + 0.029*\"hsien\" + 0.027*\"shu\" + 0.020*\"bitter\" + 0.020*\"shang\" + 0.020*\"wei\" + 0.017*\"po\"'),\n",
       " (5,\n",
       "  '0.025*\"civil\" + 0.016*\"intellect\" + 0.013*\"wang\" + 0.012*\"war\" + 0.012*\"enemy\" + 0.011*\"defeat\" + 0.011*\"opponent\" + 0.010*\"contract\" + 0.009*\"justice\" + 0.009*\"hsi\"'),\n",
       " (6,\n",
       "  '0.026*\"correlate\" + 0.025*\"sung\" + 0.023*\"tan\" + 0.023*\"haste\" + 0.022*\"dread\" + 0.021*\"chariot\" + 0.020*\"text\" + 0.018*\"badly\" + 0.018*\"enemy\" + 0.017*\"ride\"'),\n",
       " (7,\n",
       "  '0.051*\"occurrence\" + 0.050*\"table\" + 0.048*\"french\" + 0.028*\"expedient\" + 0.019*\"suitable\" + 0.016*\"ascertain\" + 0.015*\"administration\" + 0.013*\"honey\" + 0.012*\"equality\" + 0.012*\"silent\"'),\n",
       " (8,\n",
       "  '0.064*\"thy\" + 0.060*\"thee\" + 0.020*\"oh\" + 0.015*\"mortal\" + 0.015*\"dry\" + 0.014*\"san\" + 0.013*\"bridge\" + 0.012*\"tenth\" + 0.012*\"violence\" + 0.011*\"winged\"'),\n",
       " (9,\n",
       "  '0.011*\"and\" + 0.010*\"to\" + 0.008*\"have\" + 0.008*\"of\" + 0.008*\"be\" + 0.008*\"in\" + 0.008*\"army\" + 0.007*\"with\" + 0.007*\"on\" + 0.006*\"at\"'),\n",
       " (10,\n",
       "  '0.029*\"emotion\" + 0.022*\"desire\" + 0.021*\"love\" + 0.019*\"pleasure\" + 0.017*\"pain\" + 0.016*\"note\" + 0.011*\"good\" + 0.011*\"hatred\" + 0.010*\"conceive\" + 0.010*\"endeavour\"'),\n",
       " (11,\n",
       "  '0.014*\"of\" + 0.012*\"in\" + 0.011*\"be\" + 0.010*\"which\" + 0.010*\"as\" + 0.009*\"to\" + 0.009*\"that\" + 0.008*\"image\" + 0.008*\"this\" + 0.008*\"not\"'),\n",
       " (12,\n",
       "  '0.013*\"to\" + 0.012*\"and\" + 0.011*\"of\" + 0.011*\"be\" + 0.009*\"in\" + 0.009*\"have\" + 0.009*\"that\" + 0.008*\"man\" + 0.008*\"not\" + 0.007*\"as\"'),\n",
       " (13,\n",
       "  '0.020*\"han\" + 0.016*\"enemy\" + 0.013*\"chao\" + 0.010*\"identical\" + 0.010*\"ho\" + 0.010*\"ma\" + 0.009*\"say\" + 0.009*\"courage\" + 0.008*\"laugh\" + 0.008*\"lin\"'),\n",
       " (14,\n",
       "  '0.020*\"idea\" + 0.012*\"of\" + 0.012*\"body\" + 0.011*\"mind\" + 0.010*\"be\" + 0.010*\"that\" + 0.010*\"in\" + 0.010*\"as\" + 0.010*\"or\" + 0.010*\"and\"'),\n",
       " (15,\n",
       "  '0.017*\"behold\" + 0.013*\"priest\" + 0.011*\"and\" + 0.010*\"king\" + 0.009*\"lord\" + 0.009*\"heart\" + 0.008*\"on\" + 0.008*\"street\" + 0.007*\"say\" + 0.007*\"left\"'),\n",
       " (16,\n",
       "  '0.054*\"fellow\" + 0.033*\"yen\" + 0.031*\"neighbour\" + 0.030*\"chu\" + 0.021*\"lu\" + 0.020*\"chap\" + 0.018*\"wu\" + 0.016*\"tsze\" + 0.016*\"wei\" + 0.015*\"kung\"'),\n",
       " (17,\n",
       "  '0.048*\"fight\" + 0.042*\"drum\" + 0.037*\"tactic\" + 0.033*\"battle\" + 0.033*\"de\" + 0.032*\"surround\" + 0.024*\"phrase\" + 0.023*\"la\" + 0.019*\"band\" + 0.015*\"group\"'),\n",
       " (18,\n",
       "  '0.022*\"absent\" + 0.020*\"spot\" + 0.019*\"forego\" + 0.018*\"delight\" + 0.016*\"angle\" + 0.016*\"degenerate\" + 0.013*\"await\" + 0.013*\"triangle\" + 0.012*\"soil\" + 0.011*\"pressure\"'),\n",
       " (19,\n",
       "  '0.014*\"infinite\" + 0.013*\"proof\" + 0.011*\"god\" + 0.011*\"duration\" + 0.011*\"conceive\" + 0.010*\"whereby\" + 0.009*\"be\" + 0.009*\"of\" + 0.009*\"which\" + 0.009*\"substance\"')]"
      ]
     },
     "execution_count": 95,
     "metadata": {},
     "output_type": "execute_result"
    }
   ],
   "source": [
    "lda_multi_p.print_topics()"
   ]
  },
  {
   "cell_type": "markdown",
   "metadata": {},
   "source": [
    "**LDA Metrics - Paragraphs**"
   ]
  },
  {
   "cell_type": "code",
   "execution_count": 96,
   "metadata": {},
   "outputs": [
    {
     "data": {
      "text/plain": [
       "-12.224433383844822"
      ]
     },
     "execution_count": 96,
     "metadata": {},
     "output_type": "execute_result"
    }
   ],
   "source": [
    "lda_multi_p.log_perplexity(corpus_p)"
   ]
  },
  {
   "cell_type": "code",
   "execution_count": 97,
   "metadata": {},
   "outputs": [
    {
     "data": {
      "text/plain": [
       "0.4043455432103852"
      ]
     },
     "execution_count": 97,
     "metadata": {},
     "output_type": "execute_result"
    }
   ],
   "source": [
    "cm_p = CoherenceModel(model=lda_multi_p, texts=[ast.literal_eval(par) for par in nlp_df.par_lemma], \n",
    "                      dictionary=g_dict, coherence='c_v')\n",
    "cm_p.get_coherence()"
   ]
  },
  {
   "cell_type": "markdown",
   "metadata": {},
   "source": [
    "### 2.1.3 Visualize with pyLDAvis"
   ]
  },
  {
   "cell_type": "code",
   "execution_count": null,
   "metadata": {},
   "outputs": [],
   "source": [
    "lda_display_s = pyLDAvis.gensim.prepare(lda_multi_s, corpus_s, g_dict, sort_topics=True)\n",
    "pyLDAvis.display(lda_display_s)"
   ]
  },
  {
   "cell_type": "code",
   "execution_count": 99,
   "metadata": {},
   "outputs": [
    {
     "data": {
      "text/html": [
       "\n",
       "<link rel=\"stylesheet\" type=\"text/css\" href=\"https://cdn.rawgit.com/bmabey/pyLDAvis/files/ldavis.v1.0.0.css\">\n",
       "\n",
       "\n",
       "<div id=\"ldavis_el100661402834703846082258816021\"></div>\n",
       "<script type=\"text/javascript\">\n",
       "\n",
       "var ldavis_el100661402834703846082258816021_data = {\"mdsDat\": {\"Freq\": [26.770389556884766, 15.594537734985352, 13.793474197387695, 12.865039825439453, 8.059244155883789, 4.410487174987793, 3.0692293643951416, 2.5832865238189697, 1.6985337734222412, 1.504640817642212, 1.290542483329773, 1.193649172782898, 1.02820885181427, 1.0177346467971802, 0.9165223836898804, 0.8958573341369629, 0.8888822197914124, 0.8233201503753662, 0.8137825727462769, 0.7826350927352905], \"cluster\": [1, 1, 1, 1, 1, 1, 1, 1, 1, 1, 1, 1, 1, 1, 1, 1, 1, 1, 1, 1], \"topics\": [1, 2, 3, 4, 5, 6, 7, 8, 9, 10, 11, 12, 13, 14, 15, 16, 17, 18, 19, 20], \"x\": [0.21295962119260542, 0.2440471256429407, 0.24634504655733105, 0.21725073978839515, 0.17575167815389703, 0.13600049626521246, 0.20075124367932962, 0.17651035565928083, 0.05581275904863608, -0.07025095315484631, 0.010831108599941896, -0.04510199662806715, -0.23439019960120974, -0.23702112627950933, -0.1633452379829097, -0.12795692572539016, -0.13219748233309114, -0.22718377769478879, -0.1859413770514639, -0.2528710981362937], \"y\": [-0.011222515311332892, 0.1016263386776123, 0.0784415646814146, 0.04269394547592956, -0.06636610626789234, -0.1415966715548383, 0.03969682096542447, 0.16858959875160273, -0.18707622880719438, -0.039521107832343465, -0.07897729997034338, -0.174258639543079, 0.08982241748432321, -0.002857696678000639, 0.010402274347736155, 0.1044528978470497, -0.07304602635437034, 0.00866614314148043, 0.053859519284278956, 0.07667077166254233]}, \"tinfo\": {\"Category\": [\"Default\", \"Default\", \"Default\", \"Default\", \"Default\", \"Default\", \"Default\", \"Default\", \"Default\", \"Default\", \"Default\", \"Default\", \"Default\", \"Default\", \"Default\", \"Default\", \"Default\", \"Default\", \"Default\", \"Default\", \"Default\", \"Default\", \"Default\", \"Default\", \"Default\", \"Default\", \"Default\", \"Default\", \"Default\", \"Default\", \"Topic1\", \"Topic1\", \"Topic1\", \"Topic1\", \"Topic1\", \"Topic1\", \"Topic1\", \"Topic1\", \"Topic1\", \"Topic1\", \"Topic1\", \"Topic1\", \"Topic1\", \"Topic1\", \"Topic1\", \"Topic1\", \"Topic1\", \"Topic1\", \"Topic1\", \"Topic1\", \"Topic1\", \"Topic1\", \"Topic1\", \"Topic1\", \"Topic1\", \"Topic1\", \"Topic1\", \"Topic1\", \"Topic1\", \"Topic1\", \"Topic1\", \"Topic1\", \"Topic1\", \"Topic1\", \"Topic1\", \"Topic1\", \"Topic1\", \"Topic1\", \"Topic1\", \"Topic1\", \"Topic1\", \"Topic1\", \"Topic1\", \"Topic1\", \"Topic1\", \"Topic1\", \"Topic1\", \"Topic1\", \"Topic1\", \"Topic1\", \"Topic1\", \"Topic1\", \"Topic1\", \"Topic1\", \"Topic1\", \"Topic1\", \"Topic1\", \"Topic1\", \"Topic1\", \"Topic1\", \"Topic1\", \"Topic1\", \"Topic1\", \"Topic1\", \"Topic1\", \"Topic1\", \"Topic1\", \"Topic1\", \"Topic1\", \"Topic1\", \"Topic1\", \"Topic1\", \"Topic1\", \"Topic1\", \"Topic1\", \"Topic1\", \"Topic1\", \"Topic1\", \"Topic1\", \"Topic1\", \"Topic2\", \"Topic2\", \"Topic2\", \"Topic2\", \"Topic2\", \"Topic2\", \"Topic2\", \"Topic2\", \"Topic2\", \"Topic2\", \"Topic2\", \"Topic2\", \"Topic2\", \"Topic2\", \"Topic2\", \"Topic2\", \"Topic2\", \"Topic2\", \"Topic2\", \"Topic2\", \"Topic2\", \"Topic2\", \"Topic2\", \"Topic2\", \"Topic2\", \"Topic2\", \"Topic2\", \"Topic2\", \"Topic2\", \"Topic2\", \"Topic2\", \"Topic2\", \"Topic2\", \"Topic2\", \"Topic2\", \"Topic2\", \"Topic2\", \"Topic2\", \"Topic2\", \"Topic2\", \"Topic2\", \"Topic2\", \"Topic2\", \"Topic2\", \"Topic2\", \"Topic2\", \"Topic2\", \"Topic2\", \"Topic2\", \"Topic2\", \"Topic2\", \"Topic2\", \"Topic2\", \"Topic2\", \"Topic2\", \"Topic2\", \"Topic2\", \"Topic2\", \"Topic2\", \"Topic2\", \"Topic2\", \"Topic2\", \"Topic2\", \"Topic2\", \"Topic2\", \"Topic2\", \"Topic2\", \"Topic2\", \"Topic2\", \"Topic2\", \"Topic2\", \"Topic2\", \"Topic2\", \"Topic2\", \"Topic2\", \"Topic2\", \"Topic2\", \"Topic2\", \"Topic2\", \"Topic3\", \"Topic3\", \"Topic3\", \"Topic3\", \"Topic3\", \"Topic3\", \"Topic3\", \"Topic3\", \"Topic3\", \"Topic3\", \"Topic3\", \"Topic3\", \"Topic3\", \"Topic3\", \"Topic3\", \"Topic3\", \"Topic3\", \"Topic3\", \"Topic3\", \"Topic3\", \"Topic3\", \"Topic3\", \"Topic3\", \"Topic3\", \"Topic3\", \"Topic3\", \"Topic3\", \"Topic3\", \"Topic3\", \"Topic3\", \"Topic3\", \"Topic3\", \"Topic3\", \"Topic3\", \"Topic3\", \"Topic3\", \"Topic3\", \"Topic3\", \"Topic3\", \"Topic3\", \"Topic3\", \"Topic3\", \"Topic3\", \"Topic3\", \"Topic3\", \"Topic3\", \"Topic3\", \"Topic3\", \"Topic3\", \"Topic3\", \"Topic3\", \"Topic3\", \"Topic3\", \"Topic3\", \"Topic3\", \"Topic3\", \"Topic3\", \"Topic3\", \"Topic3\", \"Topic3\", \"Topic3\", \"Topic3\", \"Topic3\", \"Topic3\", \"Topic3\", \"Topic3\", \"Topic3\", \"Topic3\", \"Topic3\", \"Topic3\", \"Topic3\", \"Topic3\", \"Topic3\", \"Topic3\", \"Topic3\", \"Topic3\", \"Topic3\", \"Topic3\", \"Topic3\", \"Topic4\", \"Topic4\", \"Topic4\", \"Topic4\", \"Topic4\", \"Topic4\", \"Topic4\", \"Topic4\", \"Topic4\", \"Topic4\", \"Topic4\", \"Topic4\", \"Topic4\", \"Topic4\", \"Topic4\", \"Topic4\", \"Topic4\", \"Topic4\", \"Topic4\", \"Topic4\", \"Topic4\", \"Topic4\", \"Topic4\", \"Topic4\", \"Topic4\", \"Topic4\", \"Topic4\", \"Topic4\", \"Topic4\", \"Topic4\", \"Topic4\", \"Topic4\", \"Topic4\", \"Topic4\", \"Topic4\", \"Topic4\", \"Topic4\", \"Topic4\", \"Topic4\", \"Topic4\", \"Topic4\", \"Topic4\", \"Topic4\", \"Topic4\", \"Topic4\", \"Topic4\", \"Topic4\", \"Topic4\", \"Topic4\", \"Topic4\", \"Topic4\", \"Topic4\", \"Topic4\", \"Topic4\", \"Topic4\", \"Topic4\", \"Topic4\", \"Topic4\", \"Topic4\", \"Topic4\", \"Topic4\", \"Topic4\", \"Topic4\", \"Topic4\", \"Topic4\", \"Topic4\", \"Topic4\", \"Topic4\", \"Topic4\", \"Topic4\", \"Topic4\", \"Topic4\", \"Topic4\", \"Topic4\", \"Topic4\", \"Topic4\", \"Topic4\", \"Topic4\", \"Topic4\", \"Topic4\", \"Topic4\", \"Topic4\", \"Topic4\", \"Topic4\", \"Topic4\", \"Topic5\", \"Topic5\", \"Topic5\", \"Topic5\", \"Topic5\", \"Topic5\", \"Topic5\", \"Topic5\", \"Topic5\", \"Topic5\", \"Topic5\", \"Topic5\", \"Topic5\", \"Topic5\", \"Topic5\", \"Topic5\", \"Topic5\", \"Topic5\", \"Topic5\", \"Topic5\", \"Topic5\", \"Topic5\", \"Topic5\", \"Topic5\", \"Topic5\", \"Topic5\", \"Topic5\", \"Topic5\", \"Topic5\", \"Topic5\", \"Topic5\", \"Topic5\", \"Topic5\", \"Topic5\", \"Topic5\", \"Topic5\", \"Topic5\", \"Topic5\", \"Topic5\", \"Topic5\", \"Topic5\", \"Topic5\", \"Topic5\", \"Topic5\", \"Topic5\", \"Topic5\", \"Topic5\", \"Topic5\", \"Topic5\", \"Topic5\", \"Topic5\", \"Topic5\", \"Topic5\", \"Topic5\", \"Topic5\", \"Topic5\", \"Topic5\", \"Topic5\", \"Topic5\", \"Topic5\", \"Topic5\", \"Topic5\", \"Topic5\", \"Topic5\", \"Topic5\", \"Topic5\", \"Topic5\", \"Topic5\", \"Topic5\", \"Topic5\", \"Topic5\", \"Topic5\", \"Topic5\", \"Topic5\", \"Topic5\", \"Topic5\", \"Topic5\", \"Topic5\", \"Topic5\", \"Topic5\", \"Topic6\", \"Topic6\", \"Topic6\", \"Topic6\", \"Topic6\", \"Topic6\", \"Topic6\", \"Topic6\", \"Topic6\", \"Topic6\", \"Topic6\", \"Topic6\", \"Topic6\", \"Topic6\", \"Topic6\", \"Topic6\", \"Topic6\", \"Topic6\", \"Topic6\", \"Topic6\", \"Topic6\", \"Topic6\", \"Topic6\", \"Topic6\", \"Topic6\", \"Topic6\", \"Topic6\", \"Topic6\", \"Topic6\", \"Topic6\", \"Topic6\", \"Topic6\", \"Topic6\", \"Topic6\", \"Topic6\", \"Topic6\", \"Topic6\", \"Topic6\", \"Topic6\", \"Topic6\", \"Topic6\", \"Topic6\", \"Topic6\", \"Topic6\", \"Topic6\", \"Topic6\", \"Topic6\", \"Topic6\", \"Topic6\", \"Topic6\", \"Topic6\", \"Topic6\", \"Topic6\", \"Topic6\", \"Topic6\", \"Topic6\", \"Topic6\", \"Topic6\", \"Topic6\", \"Topic6\", \"Topic6\", \"Topic6\", \"Topic6\", \"Topic6\", \"Topic6\", \"Topic6\", \"Topic6\", \"Topic6\", \"Topic6\", \"Topic6\", \"Topic6\", \"Topic6\", \"Topic6\", \"Topic6\", \"Topic6\", \"Topic6\", \"Topic6\", \"Topic6\", \"Topic7\", \"Topic7\", \"Topic7\", \"Topic7\", \"Topic7\", \"Topic7\", \"Topic7\", \"Topic7\", \"Topic7\", \"Topic7\", \"Topic7\", \"Topic7\", \"Topic7\", \"Topic7\", \"Topic7\", \"Topic7\", \"Topic7\", \"Topic7\", \"Topic7\", \"Topic7\", \"Topic7\", \"Topic7\", \"Topic7\", \"Topic7\", \"Topic7\", \"Topic7\", \"Topic7\", \"Topic7\", \"Topic7\", \"Topic7\", \"Topic7\", \"Topic7\", \"Topic7\", \"Topic7\", \"Topic7\", \"Topic7\", \"Topic7\", \"Topic7\", \"Topic7\", \"Topic7\", \"Topic7\", \"Topic7\", \"Topic7\", \"Topic7\", \"Topic7\", \"Topic7\", \"Topic7\", \"Topic7\", \"Topic7\", \"Topic7\", \"Topic7\", \"Topic7\", \"Topic7\", \"Topic7\", \"Topic7\", \"Topic7\", \"Topic7\", \"Topic7\", \"Topic7\", \"Topic7\", \"Topic7\", \"Topic7\", \"Topic7\", \"Topic7\", \"Topic7\", \"Topic7\", \"Topic7\", \"Topic7\", \"Topic7\", \"Topic7\", \"Topic7\", \"Topic7\", \"Topic7\", \"Topic8\", \"Topic8\", \"Topic8\", \"Topic8\", \"Topic8\", \"Topic8\", \"Topic8\", \"Topic8\", \"Topic8\", \"Topic8\", \"Topic8\", \"Topic8\", \"Topic8\", \"Topic8\", \"Topic8\", \"Topic8\", \"Topic8\", \"Topic8\", \"Topic8\", \"Topic8\", \"Topic8\", \"Topic8\", \"Topic8\", \"Topic8\", \"Topic8\", \"Topic8\", \"Topic8\", \"Topic8\", \"Topic8\", \"Topic8\", \"Topic8\", \"Topic8\", \"Topic8\", \"Topic8\", \"Topic8\", \"Topic8\", \"Topic8\", \"Topic8\", \"Topic8\", \"Topic8\", \"Topic8\", \"Topic8\", \"Topic8\", \"Topic8\", \"Topic8\", \"Topic8\", \"Topic8\", \"Topic8\", \"Topic8\", \"Topic8\", \"Topic8\", \"Topic8\", \"Topic8\", \"Topic8\", \"Topic8\", \"Topic8\", \"Topic8\", \"Topic8\", \"Topic8\", \"Topic8\", \"Topic8\", \"Topic8\", \"Topic8\", \"Topic8\", \"Topic8\", \"Topic8\", \"Topic8\", \"Topic8\", \"Topic8\", \"Topic8\", \"Topic8\", \"Topic8\", \"Topic8\", \"Topic8\", \"Topic8\", \"Topic9\", \"Topic9\", \"Topic9\", \"Topic9\", \"Topic9\", \"Topic9\", \"Topic9\", \"Topic9\", \"Topic9\", \"Topic9\", \"Topic9\", \"Topic9\", \"Topic9\", \"Topic9\", \"Topic9\", \"Topic9\", \"Topic9\", \"Topic9\", \"Topic9\", \"Topic9\", \"Topic9\", \"Topic9\", \"Topic9\", \"Topic9\", \"Topic9\", \"Topic9\", \"Topic9\", \"Topic9\", \"Topic9\", \"Topic9\", \"Topic9\", \"Topic9\", \"Topic9\", \"Topic9\", \"Topic9\", \"Topic9\", \"Topic9\", \"Topic9\", \"Topic9\", \"Topic9\", \"Topic9\", \"Topic9\", \"Topic9\", \"Topic9\", \"Topic9\", \"Topic9\", \"Topic9\", \"Topic9\", \"Topic9\", \"Topic9\", \"Topic9\", \"Topic9\", \"Topic9\", \"Topic9\", \"Topic9\", \"Topic9\", \"Topic9\", \"Topic9\", \"Topic9\", \"Topic9\", \"Topic9\", \"Topic9\", \"Topic10\", \"Topic10\", \"Topic10\", \"Topic10\", \"Topic10\", \"Topic10\", \"Topic10\", \"Topic10\", \"Topic10\", \"Topic10\", \"Topic10\", \"Topic10\", \"Topic10\", \"Topic10\", \"Topic10\", \"Topic10\", \"Topic10\", \"Topic10\", \"Topic10\", \"Topic10\", \"Topic10\", \"Topic10\", \"Topic10\", \"Topic10\", \"Topic10\", \"Topic10\", \"Topic10\", \"Topic10\", \"Topic10\", \"Topic10\", \"Topic10\", \"Topic10\", \"Topic10\", \"Topic10\", \"Topic10\", \"Topic10\", \"Topic10\", \"Topic10\", \"Topic10\", \"Topic10\", \"Topic10\", \"Topic10\", \"Topic10\", \"Topic10\", \"Topic10\", \"Topic10\", \"Topic10\", \"Topic10\", \"Topic11\", \"Topic11\", \"Topic11\", \"Topic11\", \"Topic11\", \"Topic11\", \"Topic11\", \"Topic11\", \"Topic11\", \"Topic11\", \"Topic11\", \"Topic11\", \"Topic11\", \"Topic11\", \"Topic11\", \"Topic11\", \"Topic11\", \"Topic11\", \"Topic11\", \"Topic11\", \"Topic11\", \"Topic11\", \"Topic11\", \"Topic11\", \"Topic11\", \"Topic11\", \"Topic11\", \"Topic11\", \"Topic11\", \"Topic11\", \"Topic11\", \"Topic11\", \"Topic11\", \"Topic11\", \"Topic11\", \"Topic11\", \"Topic11\", \"Topic11\", \"Topic11\", \"Topic11\", \"Topic11\", \"Topic11\", \"Topic11\", \"Topic11\", \"Topic11\", \"Topic11\", \"Topic11\", \"Topic11\", \"Topic11\", \"Topic11\", \"Topic11\", \"Topic11\", \"Topic11\", \"Topic11\", \"Topic11\", \"Topic11\", \"Topic11\", \"Topic12\", \"Topic12\", \"Topic12\", \"Topic12\", \"Topic12\", \"Topic12\", \"Topic12\", \"Topic12\", \"Topic12\", \"Topic12\", \"Topic12\", \"Topic12\", \"Topic12\", \"Topic12\", \"Topic12\", \"Topic12\", \"Topic12\", \"Topic12\", \"Topic12\", \"Topic12\", \"Topic12\", \"Topic12\", \"Topic12\", \"Topic12\", \"Topic12\", \"Topic12\", \"Topic12\", \"Topic12\", \"Topic12\", \"Topic12\", \"Topic12\", \"Topic12\", \"Topic12\", \"Topic12\", \"Topic12\", \"Topic12\", \"Topic12\", \"Topic12\", \"Topic12\", \"Topic12\", \"Topic12\", \"Topic12\", \"Topic12\", \"Topic12\", \"Topic12\", \"Topic12\", \"Topic12\", \"Topic12\", \"Topic12\", \"Topic13\", \"Topic13\", \"Topic13\", \"Topic13\", \"Topic13\", \"Topic13\", \"Topic13\", \"Topic13\", \"Topic13\", \"Topic13\", \"Topic13\", \"Topic13\", \"Topic13\", \"Topic13\", \"Topic13\", \"Topic13\", \"Topic13\", \"Topic13\", \"Topic13\", \"Topic13\", \"Topic13\", \"Topic13\", \"Topic13\", \"Topic13\", \"Topic13\", \"Topic13\", \"Topic13\", \"Topic13\", \"Topic13\", \"Topic13\", \"Topic13\", \"Topic13\", \"Topic13\", \"Topic13\", \"Topic13\", \"Topic13\", \"Topic13\", \"Topic13\", \"Topic13\", \"Topic13\", \"Topic13\", \"Topic13\", \"Topic13\", \"Topic14\", \"Topic14\", \"Topic14\", \"Topic14\", \"Topic14\", \"Topic14\", \"Topic14\", \"Topic14\", \"Topic14\", \"Topic14\", \"Topic14\", \"Topic14\", \"Topic14\", \"Topic14\", \"Topic14\", \"Topic14\", \"Topic14\", \"Topic14\", \"Topic14\", \"Topic14\", \"Topic14\", \"Topic14\", \"Topic14\", \"Topic14\", \"Topic14\", \"Topic14\", \"Topic14\", \"Topic14\", \"Topic14\", \"Topic14\", \"Topic14\", \"Topic14\", \"Topic14\", \"Topic14\", \"Topic14\", \"Topic14\", \"Topic14\", \"Topic14\", \"Topic14\", \"Topic14\", \"Topic14\", \"Topic14\", \"Topic14\", \"Topic14\", \"Topic14\", \"Topic15\", \"Topic15\", \"Topic15\", \"Topic15\", \"Topic15\", \"Topic15\", \"Topic15\", \"Topic15\", \"Topic15\", \"Topic15\", \"Topic15\", \"Topic15\", \"Topic15\", \"Topic15\", \"Topic15\", \"Topic15\", \"Topic15\", \"Topic15\", \"Topic15\", \"Topic15\", \"Topic15\", \"Topic15\", \"Topic15\", \"Topic15\", \"Topic15\", \"Topic15\", \"Topic15\", \"Topic15\", \"Topic15\", \"Topic15\", \"Topic15\", \"Topic15\", \"Topic15\", \"Topic15\", \"Topic15\", \"Topic15\", \"Topic15\", \"Topic15\", \"Topic15\", \"Topic15\", \"Topic15\", \"Topic15\", \"Topic15\", \"Topic15\", \"Topic15\", \"Topic15\", \"Topic16\", \"Topic16\", \"Topic16\", \"Topic16\", \"Topic16\", \"Topic16\", \"Topic16\", \"Topic16\", \"Topic16\", \"Topic16\", \"Topic16\", \"Topic16\", \"Topic16\", \"Topic16\", \"Topic16\", \"Topic16\", \"Topic16\", \"Topic16\", \"Topic16\", \"Topic16\", \"Topic16\", \"Topic16\", \"Topic16\", \"Topic16\", \"Topic16\", \"Topic16\", \"Topic16\", \"Topic16\", \"Topic16\", \"Topic16\", \"Topic16\", \"Topic16\", \"Topic16\", \"Topic16\", \"Topic16\", \"Topic16\", \"Topic16\", \"Topic16\", \"Topic16\", \"Topic16\", \"Topic16\", \"Topic16\", \"Topic16\", \"Topic16\", \"Topic16\", \"Topic16\", \"Topic16\", \"Topic16\", \"Topic16\", \"Topic16\", \"Topic17\", \"Topic17\", \"Topic17\", \"Topic17\", \"Topic17\", \"Topic17\", \"Topic17\", \"Topic17\", \"Topic17\", \"Topic17\", \"Topic17\", \"Topic17\", \"Topic17\", \"Topic17\", \"Topic17\", \"Topic17\", \"Topic17\", \"Topic17\", \"Topic17\", \"Topic17\", \"Topic17\", \"Topic17\", \"Topic17\", \"Topic17\", \"Topic17\", \"Topic17\", \"Topic17\", \"Topic17\", \"Topic17\", \"Topic17\", \"Topic17\", \"Topic17\", \"Topic17\", \"Topic17\", \"Topic17\", \"Topic17\", \"Topic17\", \"Topic17\", \"Topic17\", \"Topic17\", \"Topic17\", \"Topic17\", \"Topic17\", \"Topic17\", \"Topic17\", \"Topic17\", \"Topic17\", \"Topic18\", \"Topic18\", \"Topic18\", \"Topic18\", \"Topic18\", \"Topic18\", \"Topic18\", \"Topic18\", \"Topic18\", \"Topic18\", \"Topic18\", \"Topic18\", \"Topic18\", \"Topic18\", \"Topic18\", \"Topic18\", \"Topic18\", \"Topic18\", \"Topic18\", \"Topic18\", \"Topic18\", \"Topic18\", \"Topic18\", \"Topic18\", \"Topic18\", \"Topic18\", \"Topic18\", \"Topic18\", \"Topic18\", \"Topic18\", \"Topic18\", \"Topic18\", \"Topic18\", \"Topic18\", \"Topic18\", \"Topic18\", \"Topic18\", \"Topic18\", \"Topic18\", \"Topic18\", \"Topic18\", \"Topic18\", \"Topic19\", \"Topic19\", \"Topic19\", \"Topic19\", \"Topic19\", \"Topic19\", \"Topic19\", \"Topic19\", \"Topic19\", \"Topic19\", \"Topic19\", \"Topic19\", \"Topic19\", \"Topic19\", \"Topic19\", \"Topic19\", \"Topic19\", \"Topic19\", \"Topic19\", \"Topic19\", \"Topic19\", \"Topic19\", \"Topic19\", \"Topic19\", \"Topic19\", \"Topic19\", \"Topic19\", \"Topic19\", \"Topic19\", \"Topic19\", \"Topic19\", \"Topic19\", \"Topic19\", \"Topic19\", \"Topic19\", \"Topic19\", \"Topic19\", \"Topic19\", \"Topic19\", \"Topic19\", \"Topic19\", \"Topic20\", \"Topic20\", \"Topic20\", \"Topic20\", \"Topic20\", \"Topic20\", \"Topic20\", \"Topic20\", \"Topic20\", \"Topic20\", \"Topic20\", \"Topic20\", \"Topic20\", \"Topic20\", \"Topic20\", \"Topic20\", \"Topic20\", \"Topic20\", \"Topic20\", \"Topic20\", \"Topic20\", \"Topic20\", \"Topic20\", \"Topic20\", \"Topic20\", \"Topic20\", \"Topic20\", \"Topic20\", \"Topic20\", \"Topic20\", \"Topic20\", \"Topic20\", \"Topic20\", \"Topic20\", \"Topic20\", \"Topic20\", \"Topic20\", \"Topic20\", \"Topic20\", \"Topic20\"], \"Freq\": [690.0, 1924.0, 901.0, 468.0, 480.0, 620.0, 4755.0, 709.0, 1884.0, 381.0, 1391.0, 348.0, 327.0, 816.0, 745.0, 319.0, 1194.0, 649.0, 2445.0, 291.0, 714.0, 472.0, 4809.0, 1362.0, 2286.0, 5084.0, 1525.0, 433.0, 250.0, 3699.0, 122.53034210205078, 83.87017822265625, 66.30437469482422, 58.96259307861328, 54.11027908325195, 55.431671142578125, 131.30123901367188, 42.78749084472656, 77.85148620605469, 40.80015182495117, 51.54538345336914, 77.78782653808594, 39.22088623046875, 883.1055297851562, 80.14886474609375, 101.5533218383789, 33.988346099853516, 58.820213317871094, 33.65642166137695, 80.21994018554688, 32.108619689941406, 35.707759857177734, 38.9150390625, 73.62796783447266, 276.8153076171875, 86.11203002929688, 200.8205108642578, 29.10039710998535, 336.65655517578125, 43.40351104736328, 360.3018493652344, 261.5594177246094, 245.733642578125, 115.43224334716797, 319.04779052734375, 158.88816833496094, 71.1477279663086, 825.053955078125, 209.04698181152344, 182.94143676757812, 383.36407470703125, 143.5093231201172, 249.67091369628906, 217.69859313964844, 565.2705688476562, 275.34881591796875, 699.54931640625, 190.76651000976562, 157.96026611328125, 640.197998046875, 132.1620635986328, 1098.441650390625, 1920.7066650390625, 804.3552856445312, 348.5282287597656, 1654.2498779296875, 590.101806640625, 1258.095703125, 1633.8238525390625, 1520.4677734375, 576.2774658203125, 1297.2813720703125, 1092.55517578125, 1215.2833251953125, 1008.1629638671875, 796.0671997070312, 1058.1988525390625, 758.45654296875, 759.4255981445312, 885.8793334960938, 726.3008422851562, 777.494384765625, 693.0706176757812, 655.0602416992188, 862.1322631835938, 735.0313720703125, 587.6461791992188, 647.0451049804688, 620.95458984375, 611.1611328125, 127.5807113647461, 106.69647216796875, 426.6814270019531, 152.7908172607422, 33.75628662109375, 51.85992431640625, 45.02680969238281, 62.280311584472656, 32.471893310546875, 40.06880569458008, 18.194372177124023, 73.09383392333984, 93.89019012451172, 163.64321899414062, 23.07813262939453, 73.20303344726562, 12.441389083862305, 12.39009952545166, 17.957963943481445, 11.447073936462402, 25.521297454833984, 66.18415832519531, 16.192703247070312, 12.17508602142334, 10.14893913269043, 10.07100772857666, 86.44873809814453, 62.40873718261719, 10.04713249206543, 261.3421936035156, 144.65223693847656, 672.8984985351562, 60.731536865234375, 197.7450714111328, 121.6712646484375, 342.0318603515625, 213.3144073486328, 138.80313110351562, 211.63563537597656, 403.8857421875, 413.9369201660156, 135.02011108398438, 566.9185180664062, 344.90570068359375, 330.19525146484375, 336.4352111816406, 397.1436767578125, 219.95928955078125, 305.7889709472656, 170.666259765625, 244.8937530517578, 397.18634033203125, 155.76036071777344, 179.76414489746094, 298.15087890625, 841.7345581054688, 1140.6220703125, 963.6563720703125, 573.9301147460938, 656.139404296875, 797.7981567382812, 910.2249145507812, 378.9350891113281, 722.247314453125, 512.9645385742188, 762.8157958984375, 630.2573852539062, 491.4505615234375, 544.3458862304688, 377.69232177734375, 434.7344970703125, 419.3705139160156, 482.00018310546875, 540.1205444335938, 467.20697021484375, 427.8040771484375, 366.2702331542969, 355.8548583984375, 359.2727355957031, 39.7449951171875, 134.10633850097656, 38.055397033691406, 20.585235595703125, 20.213581085205078, 274.645751953125, 14.364920616149902, 13.960946083068848, 42.6634521484375, 11.872058868408203, 18.49448013305664, 10.866021156311035, 33.56020736694336, 9.682818412780762, 259.4400634765625, 94.13607025146484, 166.16697692871094, 13.167911529541016, 86.1683578491211, 8.244258880615234, 8.212664604187012, 8.12732219696045, 8.073338508605957, 230.8374786376953, 1477.07958984375, 8.726064682006836, 7.143160820007324, 9.427910804748535, 6.8673810958862305, 293.1651611328125, 468.40704345703125, 238.72926330566406, 61.916587829589844, 48.991756439208984, 870.6824951171875, 505.63067626953125, 354.529296875, 170.80856323242188, 146.5990753173828, 102.88510131835938, 54.33798599243164, 779.4640502929688, 161.55677795410156, 124.40801239013672, 106.20553588867188, 205.92510986328125, 233.2603302001953, 184.64215087890625, 99.3620376586914, 131.2498779296875, 327.78564453125, 581.1342163085938, 128.10516357421875, 402.9721984863281, 443.96844482421875, 180.27432250976562, 717.3572998046875, 523.7654418945312, 345.7682189941406, 732.9163208007812, 345.6823425292969, 883.0176391601562, 373.72943115234375, 744.0457153320312, 739.5663452148438, 605.1439819335938, 752.3932495117188, 597.8319091796875, 622.614501953125, 710.72119140625, 427.0237731933594, 654.8558349609375, 461.3052978515625, 507.8913269042969, 400.69757080078125, 418.5661315917969, 402.71527099609375, 377.61279296875, 355.6728210449219, 64.88031005859375, 50.460113525390625, 32.315673828125, 33.424842834472656, 62.37897491455078, 29.97652244567871, 31.117280960083008, 27.92993927001953, 55.79768371582031, 62.082149505615234, 23.117202758789062, 22.573257446289062, 19.724214553833008, 103.75017547607422, 27.212932586669922, 15.437984466552734, 15.130767822265625, 14.65804386138916, 144.95729064941406, 33.357635498046875, 13.28173542022705, 19.70043182373047, 12.926957130432129, 12.863614082336426, 20.157384872436523, 30.173616409301758, 161.96751403808594, 18.866018295288086, 13.280733108520508, 11.725711822509766, 73.88446044921875, 48.61030960083008, 87.78357696533203, 41.876182556152344, 70.4687728881836, 127.95842742919922, 146.66064453125, 66.96113586425781, 73.15943908691406, 87.2014389038086, 122.48910522460938, 414.8751220703125, 75.58036041259766, 94.27932739257812, 180.02085876464844, 133.46914672851562, 399.9042053222656, 120.35774230957031, 112.30642700195312, 72.67880249023438, 235.8409423828125, 188.96890258789062, 308.2787170410156, 244.09854125976562, 751.6578979492188, 654.0667724609375, 703.1251220703125, 670.0327758789062, 193.04339599609375, 540.8489990234375, 626.63720703125, 190.5292205810547, 292.3233642578125, 488.80609130859375, 545.21240234375, 496.6239929199219, 360.7287902832031, 457.9674377441406, 435.2972412109375, 387.223388671875, 332.302490234375, 332.1021423339844, 327.35321044921875, 292.58782958984375, 369.4202880859375, 310.5917663574219, 312.09979248046875, 280.7547302246094, 315.75689697265625, 303.5548095703125, 271.7395324707031, 303.4183349609375, 279.7103271484375, 287.56463623046875, 283.6978759765625, 41.901649475097656, 37.95246505737305, 29.73198127746582, 27.639183044433594, 26.4676456451416, 24.909324645996094, 61.07147216796875, 22.146005630493164, 26.256025314331055, 28.691551208496094, 26.103750228881836, 19.852815628051758, 21.5493106842041, 19.08310317993164, 18.908283233642578, 17.962322235107422, 17.7250919342041, 336.0732727050781, 20.171001434326172, 16.67816734313965, 15.390425682067871, 32.59857177734375, 14.31588077545166, 13.387369155883789, 31.131450653076172, 14.910170555114746, 89.269775390625, 12.333410263061523, 12.007330894470215, 11.365666389465332, 35.7794075012207, 36.149539947509766, 69.56832122802734, 40.00095748901367, 83.70010375976562, 55.52534484863281, 71.62770080566406, 53.76821517944336, 169.56277465820312, 73.03709411621094, 78.36900329589844, 56.13013458251953, 191.58438110351562, 88.34661102294922, 76.54326629638672, 94.3734130859375, 86.6939926147461, 97.72569274902344, 63.415855407714844, 70.93927764892578, 87.88604736328125, 491.0880126953125, 301.1031494140625, 265.9409484863281, 303.8981018066406, 438.7716369628906, 133.70120239257812, 363.29766845703125, 233.93365478515625, 169.13539123535156, 176.04119873046875, 355.08929443359375, 337.2956848144531, 357.81158447265625, 177.5767364501953, 235.986572265625, 210.701904296875, 180.80691528320312, 219.93582153320312, 258.6130676269531, 210.82347106933594, 239.37937927246094, 194.76885986328125, 214.93954467773438, 185.52655029296875, 190.15640258789062, 197.05361938476562, 146.7677459716797, 191.55441284179688, 174.9066925048828, 174.44680786132812, 70.04522705078125, 116.06835174560547, 31.735877990722656, 28.386940002441406, 27.273874282836914, 25.17043113708496, 23.951940536499023, 23.91908073425293, 23.84295654296875, 32.80002975463867, 22.487619400024414, 19.921262741088867, 19.843326568603516, 20.506032943725586, 18.915082931518555, 46.230918884277344, 18.55885887145996, 19.089672088623047, 17.290918350219727, 16.755516052246094, 15.660164833068848, 46.329933166503906, 34.040870666503906, 14.400242805480957, 13.008931159973145, 12.196656227111816, 54.432098388671875, 11.033380508422852, 33.434932708740234, 45.90251922607422, 58.96385955810547, 71.15798950195312, 109.74956512451172, 47.963348388671875, 32.47853088378906, 67.77476501464844, 71.71147918701172, 67.62295532226562, 112.27100372314453, 79.7530288696289, 64.83396911621094, 40.02281188964844, 130.15501403808594, 58.89446258544922, 157.24783325195312, 137.1753692626953, 72.37274169921875, 126.46360778808594, 60.207645416259766, 65.13208770751953, 96.83390808105469, 187.4722442626953, 110.49551391601562, 73.05425262451172, 78.27582550048828, 304.8230895996094, 181.14137268066406, 131.50918579101562, 135.3708953857422, 123.96210479736328, 101.27971649169922, 201.25765991210938, 89.19745635986328, 193.0264892578125, 116.19412994384766, 179.79498291015625, 145.05245971679688, 142.358642578125, 144.75186157226562, 152.09764099121094, 158.6486053466797, 143.3782196044922, 145.57241821289062, 122.30558776855469, 119.6733627319336, 113.31444549560547, 110.00688934326172, 47.860870361328125, 180.45724487304688, 45.550079345703125, 23.19054412841797, 18.761411666870117, 17.213335037231445, 36.657745361328125, 11.99588394165039, 9.824061393737793, 8.731053352355957, 34.46500015258789, 10.019585609436035, 11.496071815490723, 8.68152904510498, 7.590372085571289, 472.1839294433594, 6.789066314697266, 34.58749008178711, 5.905498504638672, 18.43184471130371, 12.061776161193848, 54.09107208251953, 4.675721168518066, 4.705680847167969, 4.644603729248047, 4.349247932434082, 97.4802017211914, 308.1439208984375, 277.5091247558594, 10.885384559631348, 84.62007141113281, 18.43722915649414, 65.0389633178711, 339.4390563964844, 365.1520690917969, 54.571502685546875, 40.79628372192383, 169.43553161621094, 265.294677734375, 85.24668884277344, 43.45689392089844, 154.35018920898438, 168.09788513183594, 31.309181213378906, 44.58745193481445, 90.56948852539062, 170.1595001220703, 96.16197204589844, 75.23503112792969, 183.85227966308594, 100.46369934082031, 75.03340911865234, 130.00750732421875, 90.04241180419922, 79.06328582763672, 85.53074645996094, 150.7491455078125, 116.74518585205078, 94.78958129882812, 148.34300231933594, 155.13064575195312, 144.88816833496094, 138.51622009277344, 127.81781768798828, 110.81165313720703, 117.0086898803711, 117.31233978271484, 112.13096618652344, 104.48223114013672, 103.52752685546875, 97.03604888916016, 98.2489242553711, 98.4653549194336, 33.02777099609375, 27.15692138671875, 156.32119750976562, 56.92668151855469, 16.3709774017334, 13.794795036315918, 27.207584381103516, 13.277385711669922, 35.75114440917969, 12.090486526489258, 12.135522842407227, 11.9788179397583, 11.156381607055664, 10.894206047058105, 10.584634780883789, 14.960051536560059, 51.95662307739258, 8.406068801879883, 8.148427963256836, 28.62932777404785, 16.224048614501953, 7.169492721557617, 6.551785945892334, 6.133400917053223, 18.76548957824707, 11.147346496582031, 5.6506452560424805, 8.859025001525879, 15.224410057067871, 30.512237548828125, 32.72256088256836, 41.92776107788086, 198.86268615722656, 30.50639533996582, 65.71585845947266, 133.95285034179688, 68.71688079833984, 39.13380432128906, 21.408084869384766, 42.0829963684082, 52.91929244995117, 36.39916229248047, 180.31727600097656, 34.838653564453125, 59.84310531616211, 116.54227447509766, 87.0334701538086, 112.82275390625, 148.96937561035156, 47.30913543701172, 117.73754119873047, 48.105167388916016, 115.36126708984375, 157.3674774169922, 103.02843475341797, 92.33606719970703, 113.08145141601562, 53.21377182006836, 58.947364807128906, 95.72036743164062, 108.04542541503906, 118.97601318359375, 89.19268035888672, 128.6210174560547, 111.09919738769531, 115.89500427246094, 123.68022918701172, 95.15157318115234, 110.21504974365234, 78.84449768066406, 76.83219909667969, 79.05778503417969, 76.5444107055664, 71.90579986572266, 69.86328125, 63.23099136352539, 41.4588508605957, 33.18595504760742, 26.71053695678711, 25.766069412231445, 23.12567138671875, 22.870956420898438, 23.2115535736084, 20.490447998046875, 19.503503799438477, 150.1588592529297, 16.781822204589844, 19.29078483581543, 22.68781089782715, 11.272368431091309, 64.82703399658203, 11.67982292175293, 25.441396713256836, 11.8804931640625, 29.69367218017578, 60.98154830932617, 8.349763870239258, 8.649145126342773, 7.771887302398682, 12.948946952819824, 69.41767883300781, 6.155848979949951, 35.93648147583008, 15.245647430419922, 33.590301513671875, 31.440465927124023, 116.22801971435547, 53.95724105834961, 30.92208480834961, 42.824371337890625, 82.58847045898438, 39.44576644897461, 35.53030776977539, 36.209930419921875, 53.7392578125, 79.24710845947266, 94.82868957519531, 44.01319122314453, 43.11532211303711, 38.04899978637695, 42.390892028808594, 30.2108154296875, 55.500152587890625, 95.3988037109375, 73.86865234375, 67.3763656616211, 49.124778747558594, 47.22740936279297, 54.07961654663086, 47.47023010253906, 50.57697296142578, 55.3615837097168, 49.874794006347656, 47.57405471801758, 46.37037658691406, 46.53687286376953, 41.82828903198242, 200.42828369140625, 67.25614166259766, 58.53964614868164, 57.04731369018555, 58.1201171875, 49.331871032714844, 41.773094177246094, 47.79598617553711, 36.49833297729492, 34.76805114746094, 32.92052459716797, 29.86717987060547, 26.19871711730957, 25.96330451965332, 25.370779037475586, 22.79317283630371, 106.82786560058594, 21.593029022216797, 64.90101623535156, 14.277996063232422, 13.485481262207031, 12.919699668884277, 43.656158447265625, 22.73550796508789, 13.844858169555664, 12.244731903076172, 85.23255157470703, 12.348531723022461, 22.08416748046875, 33.71977615356445, 131.59814453125, 49.17445373535156, 46.47221374511719, 56.0058708190918, 76.50813293457031, 48.931156158447266, 50.75123977661133, 89.06999206542969, 71.38809967041016, 64.91452026367188, 97.23162078857422, 49.091426849365234, 64.81053924560547, 72.38076782226562, 93.99602508544922, 46.913516998291016, 58.076114654541016, 39.83005905151367, 135.98837280273438, 67.16067504882812, 56.26224136352539, 50.684547424316406, 69.39353942871094, 47.63296890258789, 34.14607238769531, 31.65669059753418, 24.131324768066406, 22.14999771118164, 18.454809188842773, 17.725187301635742, 90.28044128417969, 14.414884567260742, 13.269515991210938, 13.141457557678223, 16.871654510498047, 12.030701637268066, 11.674412727355957, 11.51953125, 10.83767032623291, 29.899887084960938, 11.36555290222168, 9.69470500946045, 19.55069351196289, 11.527422904968262, 22.29105567932129, 26.641284942626953, 8.078746795654297, 35.399314880371094, 41.05966567993164, 27.172542572021484, 55.55105972290039, 68.49987030029297, 26.133445739746094, 15.74055290222168, 39.525428771972656, 57.24477005004883, 26.19633674621582, 39.78712844848633, 21.331418991088867, 53.70237731933594, 60.605350494384766, 113.09395599365234, 50.78208541870117, 27.550947189331055, 41.72944259643555, 41.11591339111328, 43.15652084350586, 34.6658821105957, 60.74480438232422, 33.47032165527344, 34.020164489746094, 32.05419158935547, 38.405052185058594, 34.497528076171875, 32.519866943359375, 188.25119018554688, 62.66592025756836, 58.214515686035156, 55.82075119018555, 50.76258087158203, 47.70699691772461, 39.013832092285156, 73.09951782226562, 31.102750778198242, 26.979524612426758, 633.544677734375, 163.73033142089844, 39.55752944946289, 17.666677474975586, 27.74411392211914, 16.085071563720703, 15.731121063232422, 15.268287658691406, 58.40049362182617, 19.000469207763672, 17.747526168823242, 27.146034240722656, 27.06049346923828, 9.810487747192383, 30.37331199645996, 8.696162223815918, 7.398658752441406, 6.836566925048828, 13.205878257751465, 6.7029619216918945, 16.626705169677734, 35.69750213623047, 75.53665161132812, 33.436832427978516, 32.69893264770508, 42.105072021484375, 39.94852066040039, 23.91326904296875, 32.13103103637695, 27.451269149780273, 44.968746185302734, 37.86899948120117, 33.14424514770508, 46.39611053466797, 39.990840911865234, 46.501686096191406, 33.98899459838867, 33.998470306396484, 29.979145050048828, 131.58229064941406, 204.15162658691406, 103.78475952148438, 50.635677337646484, 49.90830993652344, 50.6734733581543, 38.74994659423828, 37.41017532348633, 231.3507537841797, 177.00064086914062, 60.294742584228516, 24.56075668334961, 23.260587692260742, 22.904470443725586, 22.613054275512695, 22.028162002563477, 21.8233642578125, 19.730804443359375, 48.76795196533203, 16.862335205078125, 49.787315368652344, 123.63082885742188, 27.429197311401367, 42.18146514892578, 11.238449096679688, 10.506916999816895, 53.85250473022461, 9.126694679260254, 13.904443740844727, 42.872657775878906, 178.27114868164062, 81.18851470947266, 260.7489318847656, 46.82620620727539, 73.81941986083984, 66.80297088623047, 179.84567260742188, 49.51828384399414, 34.09771728515625, 48.07972717285156, 52.069087982177734, 76.06942749023438, 49.116485595703125, 161.4888916015625, 80.51628112792969, 72.82940673828125, 180.33612060546875, 40.32225799560547, 36.347782135009766, 66.5673599243164, 33.03907012939453, 21.232633590698242, 31.00587272644043, 293.6595764160156, 13.973945617675781, 13.52228832244873, 12.221867561340332, 10.296889305114746, 168.524169921875, 12.650887489318848, 45.2125129699707, 7.404102325439453, 78.47322845458984, 112.21862030029297, 53.31418991088867, 89.32708740234375, 14.77518367767334, 15.377121925354004, 6.4702558517456055, 24.50699806213379, 14.133654594421387, 16.429906845092773, 33.609642028808594, 47.8109130859375, 29.625152587890625, 96.16857147216797, 85.9489517211914, 110.92572021484375, 82.21526336669922, 33.0158576965332, 81.5792007446289, 30.89569854736328, 40.72823715209961, 51.17851257324219, 63.678863525390625, 67.59635162353516, 49.44297790527344, 39.39070510864258, 137.3638916015625, 91.26558685302734, 242.04664611816406, 39.520381927490234, 32.641151428222656, 25.655792236328125, 234.90927124023438, 62.72121810913086, 17.263675689697266, 30.505460739135742, 13.228431701660156, 248.39178466796875, 10.71169376373291, 10.643802642822266, 10.291559219360352, 19.815244674682617, 9.788396835327148, 8.685843467712402, 9.413790702819824, 8.37716007232666, 29.07338523864746, 36.868961334228516, 6.6612935066223145, 8.612531661987305, 20.36001968383789, 34.05537796020508, 6.538902282714844, 43.0858039855957, 22.04709815979004, 76.34984588623047, 58.84791946411133, 75.6114273071289, 46.09402084350586, 30.51526641845703, 54.62511444091797, 38.8582878112793, 60.66552734375, 17.10289192199707, 16.75385856628418, 28.787078857421875, 24.893049240112305, 50.75221633911133, 26.785964965820312, 28.628416061401367, 25.60767936706543, 25.997514724731445, 76.33255767822266, 63.027164459228516, 48.28598403930664, 55.994117736816406, 51.338626861572266, 52.21250915527344, 39.682315826416016, 21.2878360748291, 23.19272804260254, 15.893985748291016, 14.441948890686035, 15.845033645629883, 12.914562225341797, 12.293546676635742, 11.455459594726562, 11.302956581115723, 12.435596466064453, 91.78678894042969, 9.145279884338379, 97.42210388183594, 7.397964000701904, 20.163774490356445, 6.446528911590576, 103.61863708496094, 5.784226894378662, 27.669981002807617, 30.36162757873535, 18.10816192626953, 10.670515060424805, 35.78736114501953, 13.774828910827637, 29.375411987304688, 18.369672775268555, 78.37237548828125, 84.27954864501953, 18.096071243286133, 60.17934036254883, 30.016002655029297, 41.604393005371094, 26.437673568725586, 43.51177978515625, 28.595462799072266, 28.8271427154541, 44.79140090942383, 24.383020401000977, 41.48011779785156, 30.980257034301758, 24.51145362854004, 28.512765884399414, 25.658361434936523, 65.54822540283203, 53.3066520690918, 44.38408279418945, 46.509490966796875, 46.66162872314453, 31.068803787231445, 58.091915130615234, 17.80434799194336, 17.74180030822754, 17.3079776763916, 16.824018478393555, 23.02716827392578, 14.377494812011719, 68.69108581542969, 61.48198699951172, 45.192039489746094, 10.726286888122559, 35.092586517333984, 9.874160766601562, 69.82648468017578, 9.600604057312012, 15.069954872131348, 29.2746639251709, 8.804932594299316, 15.217698097229004, 6.968245983123779, 12.410374641418457, 15.54240894317627, 18.370250701904297, 4.777177333831787, 96.95381164550781, 301.6407470703125, 286.0444641113281, 57.009803771972656, 36.1562385559082, 25.488584518432617, 37.3442268371582, 27.595355987548828, 23.635780334472656, 39.98963165283203, 26.978878021240234, 26.006973266601562, 25.31492042541504, 21.42222785949707, 20.234783172607422, 18.897886276245117, 19.4097957611084, 114.61035919189453, 108.23786163330078, 102.3714599609375, 97.38343048095703, 75.59785461425781, 78.17254638671875, 75.38737487792969, 42.884559631347656, 37.92826461791992, 34.07506561279297, 31.457481384277344, 101.19544219970703, 25.510042190551758, 23.9941463470459, 21.196508407592773, 21.096712112426758, 88.22754669189453, 36.59610366821289, 13.324224472045898, 11.529714584350586, 91.40343475341797, 20.350238800048828, 9.420825004577637, 8.708756446838379, 64.79472351074219, 24.56462287902832, 6.29510498046875, 13.632336616516113, 28.71042251586914, 52.28466796875, 40.6187629699707, 49.893524169921875, 72.98821258544922, 32.51887893676758, 51.059627532958984, 51.23624038696289, 34.456504821777344, 77.76897430419922, 48.901790618896484, 30.1783504486084, 30.809343338012695, 28.894371032714844, 113.34034729003906, 91.19781494140625, 69.05661010742188, 57.184349060058594, 51.21138000488281, 41.82485580444336, 29.420652389526367, 28.814281463623047, 22.41476058959961, 21.473915100097656, 19.00484848022461, 52.55928039550781, 63.130577087402344, 22.435693740844727, 15.209834098815918, 11.972090721130371, 89.0330581665039, 24.757234573364258, 69.11766052246094, 23.24021339416504, 10.73105525970459, 70.59980010986328, 35.434329986572266, 32.023277282714844, 52.076541900634766, 15.019037246704102, 76.3659439086914, 8.902199745178223, 5.414056301116943, 32.86920928955078, 89.41692352294922, 23.00090789794922, 57.50580978393555, 23.857351303100586, 35.48202133178711, 56.035892486572266, 31.450090408325195, 29.73978042602539, 24.074508666992188, 28.996397018432617, 23.49153709411621, 184.5816650390625, 128.84310913085938, 119.52812957763672, 85.03169250488281, 32.01475143432617, 27.589872360229492, 17.664491653442383, 60.58104705810547, 297.4018249511719, 14.976600646972656, 85.1052474975586, 14.871048927307129, 129.791259765625, 59.65727615356445, 7.279163837432861, 54.63815689086914, 47.52274703979492, 6.503095626831055, 70.00106811523438, 48.77506637573242, 7.226318836212158, 13.229251861572266, 3.851705551147461, 111.5202407836914, 3.3193511962890625, 41.12445831298828, 22.751745223999023, 11.619833946228027, 10.152589797973633, 82.86656951904297, 26.470455169677734, 31.99504280090332, 50.62371063232422, 20.918445587158203, 24.075881958007812, 15.284208297729492, 27.77550506591797, 25.279098510742188, 24.734905242919922, 16.99909019470215], \"Term\": [\"ye\", \"idea\", \"enemy\", \"thy\", \"thee\", \"emotion\", \"and\", \"desire\", \"say\", \"fight\", \"god\", \"shih\", \"fellow\", \"proof\", \"conceive\", \"battle\", \"good\", \"love\", \"man\", \"occurrence\", \"note\", \"pleasure\", \"be\", \"body\", \"do\", \"to\", \"mind\", \"pain\", \"table\", \"as\", \"expense\", \"democracy\", \"ax\", \"protect\", \"interpreter\", \"sanction\", \"majority\", \"envoy\", \"protection\", \"travel\", \"romans\", \"sacred\", \"incur\", \"government\", \"states\", \"obligation\", \"surrender\", \"bestow\", \"submission\", \"corrupt\", \"contest\", \"labor\", \"institute\", \"honest\", \"sovereign\", \"decree\", \"ruler\", \"cherish\", \"public\", \"idle\", \"nation\", \"religion\", \"pay\", \"living\", \"authority\", \"church\", \"piety\", \"right\", \"duty\", \"govern\", \"country\", \"private\", \"liberty\", \"mankind\", \"people\", \"interest\", \"state\", \"bind\", \"slave\", \"law\", \"family\", \"man\", \"to\", \"who\", \"against\", \"and\", \"good\", \"have\", \"of\", \"be\", \"should\", \"in\", \"not\", \"that\", \"by\", \"do\", \"as\", \"will\", \"all\", \"or\", \"on\", \"with\", \"if\", \"no\", \"which\", \"this\", \"would\", \"from\", \"what\", \"one\", \"objective\", \"induction\", \"phenomenon\", \"physics\", \"theoretically\", \"similarity\", \"presuppose\", \"sequence\", \"verification\", \"entity\", \"telescope\", \"infinity\", \"total\", \"series\", \"dissimilar\", \"premiss\", \"evolve\", \"provisionally\", \"elementary\", \"assuredly\", \"major\", \"ultimate\", \"derivative\", \"gulf\", \"completion\", \"repel\", \"sphere\", \"category\", \"definitely\", \"physical\", \"unity\", \"image\", \"stuff\", \"event\", \"connect\", \"conception\", \"consciousness\", \"connection\", \"content\", \"sensation\", \"experience\", \"element\", \"object\", \"relation\", \"condition\", \"effect\", \"fact\", \"past\", \"belief\", \"pure\", \"merely\", \"case\", \"occur\", \"mere\", \"regard\", \"which\", \"of\", \"in\", \"an\", \"this\", \"as\", \"be\", \"law\", \"that\", \"can\", \"to\", \"not\", \"from\", \"by\", \"because\", \"may\", \"thing\", \"or\", \"and\", \"have\", \"with\", \"only\", \"must\", \"if\", \"immaterial\", \"eternity\", \"archetype\", \"brass\", \"grammar\", \"modification\", \"adjective\", \"odour\", \"solidity\", \"rectangle\", \"eternally\", \"blank\", \"corporeal\", \"chess\", \"adequate\", \"confused\", \"colour\", \"incomprehensible\", \"precise\", \"configuration\", \"affix\", \"arch\", \"conformation\", \"complex\", \"idea\", \"transcend\", \"intimately\", \"similitude\", \"unfamiliar\", \"motion\", \"essence\", \"distinct\", \"collection\", \"smell\", \"body\", \"name\", \"substance\", \"specie\", \"abstract\", \"extension\", \"identity\", \"mind\", \"eternal\", \"figure\", \"signify\", \"quality\", \"simple\", \"several\", \"sensible\", \"sound\", \"human\", \"thing\", \"thinking\", \"word\", \"god\", \"perceive\", \"or\", \"so\", \"far\", \"as\", \"part\", \"of\", \"same\", \"that\", \"in\", \"by\", \"be\", \"which\", \"have\", \"and\", \"any\", \"to\", \"one\", \"not\", \"other\", \"from\", \"can\", \"make\", \"man\", \"speculative\", \"intuitive\", \"mislead\", \"deception\", \"unconscious\", \"sovereignty\", \"combat\", \"reciprocal\", \"revenge\", \"speculation\", \"oracle\", \"burst\", \"pervert\", \"volition\", \"acquisition\", \"phantom\", \"insanity\", \"reasonably\", \"innate\", \"average\", \"rashly\", \"subtlety\", \"simplify\", \"edifice\", \"dialectic\", \"withhold\", \"assent\", \"discrimination\", \"rhetoric\", \"distorted\", \"declare\", \"deduction\", \"vague\", \"conviction\", \"probability\", \"agreement\", \"evidence\", \"accuracy\", \"discussion\", \"intend\", \"certainty\", \"truth\", \"demonstration\", \"instinct\", \"mental\", \"mistake\", \"knowledge\", \"error\", \"examine\", \"falsehood\", \"proposition\", \"opinion\", \"reason\", \"true\", \"to\", \"that\", \"of\", \"be\", \"belief\", \"have\", \"and\", \"believe\", \"know\", \"not\", \"in\", \"as\", \"what\", \"which\", \"or\", \"this\", \"may\", \"can\", \"will\", \"any\", \"by\", \"so\", \"on\", \"more\", \"from\", \"all\", \"mind\", \"man\", \"no\", \"with\", \"do\", \"invade\", \"invariable\", \"concentrate\", \"dew\", \"poison\", \"hsiao\", \"front\", \"expedition\", \"bank\", \"hasten\", \"threaten\", \"husbandman\", \"friction\", \"gratitude\", \"entrust\", \"situate\", \"split\", \"army\", \"apartment\", \"skillful\", \"trap\", \"calamity\", \"autumn\", \"lightly\", \"wound\", \"emerge\", \"wall\", \"unprincipled\", \"impress\", \"orphan\", \"waste\", \"bed\", \"river\", \"successful\", \"control\", \"twenty\", \"burn\", \"rear\", \"attack\", \"blood\", \"till\", \"seize\", \"war\", \"run\", \"town\", \"city\", \"throw\", \"off\", \"close\", \"arm\", \"until\", \"and\", \"on\", \"at\", \"with\", \"to\", \"force\", \"have\", \"when\", \"out\", \"then\", \"be\", \"in\", \"of\", \"into\", \"will\", \"who\", \"see\", \"man\", \"that\", \"do\", \"not\", \"say\", \"by\", \"if\", \"one\", \"this\", \"come\", \"as\", \"from\", \"intuition\", \"shan\", \"revelation\", \"precious\", \"te\", \"thrust\", \"leap\", \"captive\", \"dragon\", \"breathe\", \"bright\", \"vacuum\", \"geometrical\", \"adventure\", \"wheat\", \"elevate\", \"shell\", \"alternative\", \"northern\", \"shortly\", \"dissension\", \"dwelt\", \"ugly\", \"salt\", \"disperse\", \"reprove\", \"crafty\", \"across\", \"zeus\", \"whither\", \"beside\", \"wine\", \"blow\", \"mine\", \"fish\", \"bent\", \"fly\", \"morning\", \"wind\", \"night\", \"dead\", \"drink\", \"angry\", \"earth\", \"height\", \"day\", \"thy\", \"stone\", \"spirit\", \"tree\", \"eat\", \"heart\", \"god\", \"thee\", \"dog\", \"fire\", \"and\", \"say\", \"come\", \"then\", \"shall\", \"again\", \"that\", \"sun\", \"to\", \"enemy\", \"be\", \"with\", \"do\", \"man\", \"not\", \"of\", \"have\", \"in\", \"one\", \"all\", \"there\", \"on\", \"despair\", \"hatred\", \"uneasiness\", \"devotion\", \"verify\", \"mercury\", \"shrink\", \"organic\", \"doom\", \"unwilling\", \"simultaneous\", \"atom\", \"theme\", \"excited\", \"pale\", \"emotion\", \"respective\", \"assail\", \"lament\", \"successor\", \"modest\", \"leader\", \"bitterly\", \"malicious\", \"pilot\", \"backwards\", \"hate\", \"pleasure\", \"pain\", \"readiness\", \"whatsoever\", \"pleasurable\", \"dominion\", \"love\", \"desire\", \"hat\", \"strive\", \"endeavour\", \"note\", \"activity\", \"overcome\", \"evil\", \"affect\", \"excessive\", \"anyone\", \"proportion\", \"conceive\", \"towards\", \"future\", \"good\", \"arise\", \"happiness\", \"proof\", \"feel\", \"fear\", \"bad\", \"will\", \"far\", \"action\", \"or\", \"as\", \"be\", \"to\", \"and\", \"man\", \"that\", \"in\", \"which\", \"so\", \"of\", \"therefore\", \"from\", \"by\", \"capability\", \"generate\", \"duration\", \"contrariwise\", \"spoken\", \"privacy\", \"wheel\", \"descartes\", \"verbal\", \"area\", \"cognizance\", \"rapid\", \"augment\", \"growth\", \"multiplicity\", \"perpetually\", \"adequately\", \"courtesy\", \"insinuate\", \"convenient\", \"survey\", \"untrue\", \"herein\", \"allowable\", \"genera\", \"dialectical\", \"ordinate\", \"fathom\", \"abyss\", \"arbitrary\", \"watch\", \"co\", \"infinite\", \"approval\", \"finite\", \"whereby\", \"absurd\", \"appertain\", \"texture\", \"assertion\", \"collect\", \"yourself\", \"proof\", \"negation\", \"exclude\", \"necessarily\", \"refer\", \"attribute\", \"conceive\", \"operate\", \"substance\", \"predicate\", \"existence\", \"god\", \"exist\", \"essence\", \"therefore\", \"operation\", \"agree\", \"far\", \"thing\", \"which\", \"nature\", \"be\", \"by\", \"as\", \"of\", \"can\", \"in\", \"body\", \"so\", \"or\", \"that\", \"not\", \"an\", \"thank\", \"wooden\", \"file\", \"oneself\", \"bundle\", \"him\", \"steep\", \"impede\", \"neighborhood\", \"safely\", \"behold\", \"henceforth\", \"border\", \"wrath\", \"admonish\", \"left\", \"ancestral\", \"horn\", \"swear\", \"funeral\", \"servant\", \"faithfully\", \"effective\", \"nan\", \"rebellion\", \"street\", \"stair\", \"thither\", \"messenger\", \"shoulder\", \"seventy\", \"priest\", \"window\", \"rite\", \"hill\", \"lord\", \"pray\", \"temple\", \"bid\", \"mountain\", \"heart\", \"king\", \"door\", \"brother\", \"therein\", \"home\", \"devise\", \"thee\", \"and\", \"on\", \"say\", \"love\", \"high\", \"who\", \"up\", \"god\", \"to\", \"not\", \"do\", \"one\", \"be\", \"also\", \"civil\", \"alike\", \"crush\", \"whoever\", \"balance\", \"violent\", \"sublime\", \"burden\", \"crowd\", \"page\", \"yin\", \"modesty\", \"mindedness\", \"innumerable\", \"mixture\", \"vigorous\", \"wang\", \"rigid\", \"motif\", \"sheer\", \"extol\", \"apology\", \"ambitious\", \"timidity\", \"poetical\", \"egoism\", \"opponent\", \"delightful\", \"amusement\", \"admiration\", \"intellect\", \"plato\", \"population\", \"administer\", \"contract\", \"resistance\", \"assistance\", \"defeat\", \"hsi\", \"preservation\", \"war\", \"politic\", \"courage\", \"justice\", \"enemy\", \"benefit\", \"constitution\", \"promote\", \"han\", \"ma\", \"lin\", \"ta\", \"identical\", \"chia\", \"glaucon\", \"inclined\", \"novel\", \"riddle\", \"kindly\", \"slightly\", \"chao\", \"tsung\", \"fox\", \"idleness\", \"hsiang\", \"uphold\", \"certitude\", \"lapse\", \"astonished\", \"clean\", \"fundamentally\", \"ou\", \"feeble\", \"musical\", \"ring\", \"sweep\", \"revere\", \"ne\", \"roll\", \"successfully\", \"famous\", \"ho\", \"weather\", \"deficient\", \"rain\", \"laugh\", \"homer\", \"manage\", \"cowardice\", \"defeat\", \"courage\", \"enemy\", \"wu\", \"eight\", \"value\", \"kung\", \"yu\", \"home\", \"say\", \"back\", \"chang\", \"wei\", \"to\", \"man\", \"and\", \"christian\", \"council\", \"ordain\", \"meeting\", \"quiet\", \"ice\", \"calm\", \"boy\", \"embark\", \"thi\", \"ye\", \"ah\", \"repentance\", \"casual\", \"sister\", \"maiden\", \"intercept\", \"trodden\", \"commander\", \"exceedingly\", \"sunrise\", \"weep\", \"leaf\", \"alien\", \"sigh\", \"elegant\", \"disavow\", \"leo\", \"violently\", \"aged\", \"oxen\", \"kao\", \"spake\", \"twice\", \"wickedness\", \"alas\", \"tear\", \"awaken\", \"deep\", \"violence\", \"high\", \"heart\", \"learn\", \"say\", \"how\", \"do\", \"one\", \"and\", \"have\", \"phrase\", \"tactic\", \"band\", \"preface\", \"dancer\", \"rhythm\", \"discernible\", \"madman\", \"drum\", \"surround\", \"cool\", \"melody\", \"salary\", \"knife\", \"meal\", \"profitable\", \"disagreeable\", \"jar\", \"player\", \"inscribe\", \"brief\", \"la\", \"severally\", \"island\", \"rustic\", \"converge\", \"en\", \"vie\", \"sicily\", \"pour\", \"de\", \"group\", \"fight\", \"specially\", \"valley\", \"final\", \"battle\", \"upwards\", \"statue\", \"creator\", \"contempt\", \"enemy\", \"shih\", \"chu\", \"flattery\", \"me\", \"yen\", \"drag\", \"liu\", \"chung\", \"eager\", \"escort\", \"thrice\", \"fellow\", \"truthful\", \"malice\", \"invert\", \"alphabet\", \"neighbour\", \"kwan\", \"yuan\", \"revile\", \"lust\", \"lu\", \"liao\", \"tsze\", \"corpse\", \"loyal\", \"shao\", \"pillar\", \"tsang\", \"rectify\", \"arrow\", \"chi\", \"confucius\", \"wu\", \"wei\", \"chap\", \"kung\", \"ashamed\", \"master\", \"sing\", \"ho\", \"ear\", \"chang\", \"yu\", \"shu\", \"say\", \"expedient\", \"suitable\", \"table\", \"akin\", \"anchor\", \"halfway\", \"french\", \"honey\", \"expressive\", \"unaware\", \"riches\", \"occurrence\", \"parsimony\", \"impropriety\", \"vacant\", \"insert\", \"nameless\", \"ton\", \"lieu\", \"indeterminate\", \"doctor\", \"convinced\", \"reproof\", \"totter\", \"impracticable\", \"transmit\", \"accomplished\", \"unequal\", \"tooth\", \"ascertain\", \"silent\", \"administration\", \"economy\", \"hit\", \"inequality\", \"provision\", \"equality\", \"hardship\", \"bitterness\", \"concerned\", \"surprise\", \"equal\", \"laughter\", \"laugh\", \"loss\", \"constitution\", \"degenerate\", \"await\", \"salute\", \"soil\", \"glass\", \"pressure\", \"prologue\", \"enclose\", \"conversant\", \"dwelling\", \"ignoble\", \"drama\", \"constellation\", \"movable\", \"concert\", \"thickness\", \"arrest\", \"forego\", \"prometheus\", \"spot\", \"feminine\", \"xlii\", \"lamentation\", \"absent\", \"denouement\", \"purple\", \"prolong\", \"presentation\", \"speedily\", \"tone\", \"epic\", \"inseparable\", \"breadth\", \"angle\", \"delight\", \"briefly\", \"triangle\", \"sharp\", \"surface\", \"soft\", \"vain\", \"season\", \"painful\", \"flow\", \"intrinsic\", \"equal\", \"intellect\", \"yes\", \"number\", \"three\", \"san\", \"winged\", \"refrain\", \"discretion\", \"marry\", \"differentia\", \"tenth\", \"repute\", \"hen\", \"harp\", \"conveniently\", \"invective\", \"circuit\", \"dry\", \"bridge\", \"maintenance\", \"jewel\", \"summit\", \"rules\", \"mortal\", \"residence\", \"tool\", \"pretension\", \"fat\", \"distrustful\", \"myriad\", \"sinner\", \"resume\", \"terrestrial\", \"deflect\", \"oh\", \"thy\", \"thee\", \"violence\", \"pardon\", \"befall\", \"frequent\", \"contradict\", \"formula\", \"praise\", \"wing\", \"spake\", \"father\", \"woman\", \"bird\", \"antiquity\", \"son\", \"correlate\", \"sung\", \"tan\", \"dread\", \"ride\", \"badly\", \"tranquillity\", \"conspire\", \"denial\", \"latin\", \"girl\", \"haste\", \"temperament\", \"prosecution\", \"damp\", \"unsatisfactory\", \"text\", \"covetous\", \"counterpart\", \"sitting\", \"chariot\", \"vein\", \"threshold\", \"courteous\", \"stupid\", \"cheerful\", \"awakening\", \"heresy\", \"obstinately\", \"weapon\", \"skin\", \"flight\", \"proud\", \"flat\", \"fool\", \"yao\", \"spend\", \"enemy\", \"yu\", \"fu\", \"round\", \"shame\", \"local\", \"relieve\", \"courageous\", \"treasury\", \"fluid\", \"fur\", \"lamb\", \"ape\", \"grammarian\", \"dish\", \"heel\", \"sky\", \"equilibrium\", \"lane\", \"squat\", \"bald\", \"yea\", \"gratify\", \"cage\", \"rein\", \"inmost\", \"bar\", \"consistency\", \"historian\", \"patient\", \"mute\", \"brave\", \"reverential\", \"speeches\", \"neck\", \"heavy\", \"tower\", \"yellow\", \"weariness\", \"train\", \"brain\", \"appetite\", \"courage\", \"wherever\", \"war\", \"cloud\", \"subordinate\", \"snow\", \"hsien\", \"shang\", \"vexed\", \"pervade\", \"min\", \"breeze\", \"shih\", \"sour\", \"bitter\", \"marvellous\", \"ching\", \"he\", \"sacrificial\", \"grass\", \"halt\", \"determinately\", \"po\", \"wan\", \"linen\", \"constitutive\", \"cloth\", \"shu\", \"beclouding\", \"sweet\", \"opening\", \"yang\", \"tien\", \"wei\", \"whiteness\", \"hunger\", \"white\", \"unit\", \"regular\", \"forthwith\", \"dangerous\", \"hsi\", \"wu\", \"information\"], \"Total\": [690.0, 1924.0, 901.0, 468.0, 480.0, 620.0, 4755.0, 709.0, 1884.0, 381.0, 1391.0, 348.0, 327.0, 816.0, 745.0, 319.0, 1194.0, 649.0, 2445.0, 291.0, 714.0, 472.0, 4809.0, 1362.0, 2286.0, 5084.0, 1525.0, 433.0, 250.0, 3699.0, 125.58330535888672, 86.44622039794922, 68.50944519042969, 61.171836853027344, 56.529239654541016, 58.08458709716797, 137.5980987548828, 44.986122131347656, 82.01394653320312, 43.00350570678711, 54.412322998046875, 82.28577423095703, 41.5438346862793, 936.7220458984375, 85.28484344482422, 108.06804656982422, 36.19654846191406, 62.86604309082031, 35.99164581298828, 85.78856658935547, 34.35693359375, 38.23698425292969, 41.691463470458984, 78.9051513671875, 296.8149108886719, 92.59053039550781, 216.314208984375, 31.489946365356445, 364.8040771484375, 47.05321502685547, 390.6088562011719, 284.5109558105469, 283.1766052246094, 129.05328369140625, 374.10357666015625, 182.16326904296875, 78.58707427978516, 1042.7890625, 246.5067138671875, 216.3933868408203, 493.6063537597656, 169.21893310546875, 313.8583068847656, 270.758544921875, 804.911865234375, 363.72479248046875, 1082.4610595703125, 242.69679260253906, 196.15159606933594, 1108.7037353515625, 158.45826721191406, 2445.54443359375, 5084.552734375, 1658.4736328125, 575.6571044921875, 4755.67822265625, 1194.9664306640625, 3596.956298828125, 5228.8642578125, 4809.22900390625, 1226.6695556640625, 4366.4990234375, 3383.023193359375, 4087.31787109375, 3091.7919921875, 2286.555908203125, 3699.816162109375, 2171.766357421875, 2206.273681640625, 2968.7021484375, 2097.841064453125, 2436.613037109375, 1960.8416748046875, 1771.23193359375, 3269.424560546875, 2612.727783203125, 1539.546630859375, 2368.515869140625, 1985.775146484375, 2166.750732421875, 132.4140167236328, 111.55293273925781, 446.38031005859375, 163.77696228027344, 36.192012786865234, 56.286659240722656, 49.31747055053711, 68.43138122558594, 35.754676818847656, 44.615238189697266, 20.413490295410156, 82.87671661376953, 107.52947998046875, 187.73143005371094, 26.944576263427734, 85.52861022949219, 14.633734703063965, 14.580172538757324, 21.17115592956543, 13.633817672729492, 30.41327667236328, 78.94451904296875, 19.52456283569336, 14.794517517089844, 12.333390235900879, 12.253252983093262, 105.95851135253906, 76.57327270507812, 12.333364486694336, 321.2968444824219, 178.1051788330078, 850.999267578125, 75.07222747802734, 258.2432861328125, 158.77099609375, 473.7259826660156, 293.1733703613281, 187.22909545898438, 302.0835266113281, 623.1766967773438, 644.8028564453125, 194.9436798095703, 1010.496337890625, 571.5715942382812, 545.2491455078125, 597.5320434570312, 735.0701293945312, 357.7384948730469, 546.2796630859375, 261.7584533691406, 452.015869140625, 908.449462890625, 244.46083068847656, 310.38983154296875, 660.2006225585938, 3269.424560546875, 5228.8642578125, 4366.4990234375, 1975.910400390625, 2612.727783203125, 3699.816162109375, 4809.22900390625, 1108.7037353515625, 4087.31787109375, 2131.393310546875, 5084.552734375, 3383.023193359375, 2368.515869140625, 3091.7919921875, 1329.061279296875, 1915.4345703125, 1812.842041015625, 2968.7021484375, 4755.67822265625, 3596.956298828125, 2436.613037109375, 1627.9801025390625, 1261.4404296875, 1960.8416748046875, 41.93233108520508, 144.56288146972656, 41.082889556884766, 22.772668838500977, 22.453065872192383, 312.4737548828125, 16.560884475708008, 16.147891998291016, 49.45723342895508, 14.057058334350586, 22.131542205810547, 13.097182273864746, 40.72157669067383, 11.87598991394043, 318.4397277832031, 116.38418579101562, 208.0047149658203, 16.522470474243164, 108.53388977050781, 10.428613662719727, 10.40819263458252, 10.310972213745117, 10.258533477783203, 294.4523010253906, 1924.503173828125, 11.375743865966797, 9.32675552368164, 12.44848346710205, 9.113714218139648, 389.2065124511719, 621.8616943359375, 331.1053466796875, 85.91165161132812, 67.84081268310547, 1362.5438232421875, 819.8203735351562, 564.6426391601562, 261.1193542480469, 226.81906127929688, 155.52896118164062, 77.49065399169922, 1525.88720703125, 261.1527404785156, 195.31491088867188, 166.92864990234375, 368.29681396484375, 433.7833251953125, 336.22821044921875, 157.3928985595703, 239.18446350097656, 820.6004638671875, 1812.842041015625, 232.31109619140625, 1205.5335693359375, 1391.31005859375, 378.5296325683594, 2968.7021484375, 2058.834716796875, 1067.0379638671875, 3699.816162109375, 1085.3519287109375, 5228.8642578125, 1241.61865234375, 4087.31787109375, 4366.4990234375, 3091.7919921875, 4809.22900390625, 3269.424560546875, 3596.956298828125, 4755.67822265625, 1669.2532958984375, 5084.552734375, 2166.750732421875, 3383.023193359375, 1866.5283203125, 2368.515869140625, 2131.393310546875, 1570.4603271484375, 2445.54443359375, 67.23822784423828, 53.024139404296875, 34.49897384643555, 35.69656753540039, 66.64042663574219, 32.158775329589844, 33.43065643310547, 30.13100242614746, 60.261451721191406, 67.2969741821289, 25.330217361450195, 24.76083755493164, 22.356082916259766, 118.00520324707031, 30.961931228637695, 17.654027938842773, 17.350116729736328, 16.87933349609375, 167.4475860595703, 38.757774353027344, 15.463988304138184, 23.02569580078125, 15.117646217346191, 15.052151679992676, 23.73456573486328, 35.56769943237305, 191.16729736328125, 22.29120635986328, 15.734646797180176, 13.908297538757324, 88.12079620361328, 57.969547271728516, 105.6610336303711, 50.211509704589844, 89.6568374633789, 169.34812927246094, 202.10121154785156, 87.12237548828125, 96.18325805664062, 117.75233459472656, 172.257080078125, 675.4830322265625, 104.78411865234375, 140.24948120117188, 315.36553955078125, 221.73341369628906, 1005.1759643554688, 208.1664276123047, 193.47935485839844, 107.05801391601562, 626.6618041992188, 469.6009521484375, 1027.7684326171875, 755.4472045898438, 5084.552734375, 4087.31787109375, 5228.8642578125, 4809.22900390625, 546.2796630859375, 3596.956298828125, 4755.67822265625, 547.7122192382812, 1239.9957275390625, 3383.023193359375, 4366.4990234375, 3699.816162109375, 1985.775146484375, 3269.424560546875, 2968.7021484375, 2612.727783203125, 1915.4345703125, 2131.393310546875, 2171.766357421875, 1669.2532958984375, 3091.7919921875, 2058.834716796875, 2097.841064453125, 1600.4853515625, 2368.515869140625, 2206.273681640625, 1525.88720703125, 2445.54443359375, 1771.23193359375, 2436.613037109375, 2286.555908203125, 44.12062454223633, 40.1610107421875, 31.93842315673828, 29.84978675842285, 28.70950698852539, 27.124467849731445, 66.9835433959961, 24.366912841796875, 28.947050094604492, 31.641098022460938, 28.90375328063965, 22.11728858947754, 24.01350212097168, 21.289546966552734, 21.1195068359375, 20.181264877319336, 19.937503814697266, 378.59954833984375, 22.841876983642578, 18.888355255126953, 17.60037612915039, 37.498619079589844, 16.52415657043457, 15.689242362976074, 36.71084213256836, 17.591781616210938, 105.34713745117188, 14.559993743896484, 14.21492862701416, 13.657631874084473, 43.676944732666016, 44.26816177368164, 87.13968658447266, 49.381656646728516, 112.18926239013672, 73.4303970336914, 98.4389419555664, 72.24267578125, 290.4422302246094, 111.54893493652344, 126.35035705566406, 83.82943725585938, 405.7302551269531, 154.6639404296875, 130.68594360351562, 188.9438934326172, 178.6555938720703, 221.25355529785156, 114.66681671142578, 149.99314880371094, 219.0294952392578, 4755.67822265625, 2097.841064453125, 1757.1090087890625, 2436.613037109375, 5084.552734375, 525.4553833007812, 3596.956298828125, 1604.7554931640625, 890.8385620117188, 1012.72900390625, 4809.22900390625, 4366.4990234375, 5228.8642578125, 1070.9920654296875, 2171.766357421875, 1658.4736328125, 1169.27001953125, 2445.54443359375, 4087.31787109375, 2286.555908203125, 3383.023193359375, 1884.0399169921875, 3091.7919921875, 1960.8416748046875, 2166.750732421875, 2612.727783203125, 889.28515625, 3699.816162109375, 2368.515869140625, 179.64024353027344, 72.39798736572266, 121.73709869384766, 33.928951263427734, 30.599382400512695, 29.458560943603516, 27.33548355102539, 26.115121841430664, 26.104568481445312, 26.11749267578125, 35.9508056640625, 24.650760650634766, 22.08575439453125, 22.007495880126953, 22.75931167602539, 21.077953338623047, 51.59695053100586, 20.72129249572754, 21.324487686157227, 19.4599552154541, 18.923179626464844, 17.825117111206055, 52.8099479675293, 38.84501647949219, 16.563451766967773, 15.17634105682373, 14.380313873291016, 64.74383544921875, 13.306079864501953, 40.57186508178711, 56.01474380493164, 75.02345275878906, 94.48651885986328, 157.21438598632812, 62.76675033569336, 41.17366027832031, 106.46131896972656, 116.1678695678711, 111.15995025634766, 216.60537719726562, 141.67919921875, 107.85502624511719, 56.303810119628906, 309.1480407714844, 100.54621887207031, 507.0155029296875, 468.630126953125, 163.54400634765625, 425.4948425292969, 121.7249755859375, 144.08621215820312, 352.6307373046875, 1391.31005859375, 480.2540588378906, 201.0306854248047, 234.00514221191406, 4755.67822265625, 1884.0399169921875, 889.28515625, 1012.72900390625, 923.7879638671875, 510.6324462890625, 4087.31787109375, 360.07037353515625, 5084.552734375, 901.1617431640625, 4809.22900390625, 2436.613037109375, 2286.555908203125, 2445.54443359375, 3383.023193359375, 5228.8642578125, 3596.956298828125, 4366.4990234375, 2166.750732421875, 2206.273681640625, 1740.3597412109375, 2097.841064453125, 50.06380081176758, 196.0318145751953, 50.10042953491211, 25.54599952697754, 20.976003646850586, 19.41681671142578, 42.32852554321289, 14.205360412597656, 12.02876091003418, 10.934074401855469, 43.295005798339844, 12.632394790649414, 14.628534317016602, 11.197386741638184, 9.805015563964844, 620.79052734375, 8.993794441223145, 46.579078674316406, 8.109081268310547, 25.45726203918457, 17.459518432617188, 78.6722640991211, 6.879367351531982, 6.926783561706543, 6.8490519523620605, 6.552595138549805, 148.48997497558594, 472.05511474609375, 433.15936279296875, 17.032588958740234, 136.35760498046875, 29.016368865966797, 110.71285247802734, 649.846923828125, 709.1481323242188, 99.1319351196289, 71.69654846191406, 398.3392028808594, 714.6773681640625, 197.76974487304688, 86.07347106933594, 440.6710510253906, 506.8836975097656, 57.67406463623047, 94.79850006103516, 261.5713806152344, 745.2600708007812, 318.9794616699219, 231.10546875, 1194.9664306640625, 412.9146728515625, 266.5745849609375, 816.6270751953125, 394.2787170410156, 340.19866943359375, 424.9423522949219, 2171.766357421875, 1067.0379638671875, 600.8213500976562, 2968.7021484375, 3699.816162109375, 4809.22900390625, 5084.552734375, 4755.67822265625, 2445.54443359375, 4087.31787109375, 4366.4990234375, 3269.424560546875, 2058.834716796875, 5228.8642578125, 1180.0052490234375, 2368.515869140625, 3091.7919921875, 35.217315673828125, 29.342403411865234, 171.52381896972656, 62.52009582519531, 18.561216354370117, 15.986309051513672, 31.56834602355957, 15.463753700256348, 41.96547317504883, 14.278358459472656, 14.333683967590332, 14.163633346557617, 13.349404335021973, 13.079010963439941, 12.771782875061035, 18.585556030273438, 64.93570709228516, 10.602142333984375, 10.390236854553223, 36.65474319458008, 21.192493438720703, 9.378462791442871, 8.745916366577148, 8.32382583618164, 25.961862564086914, 15.463573455810547, 7.861043453216553, 12.5823392868042, 22.360607147216797, 46.17307662963867, 52.0522346496582, 69.05378723144531, 394.50506591796875, 49.74061965942383, 120.51329040527344, 280.5267333984375, 129.31777954101562, 70.59310150146484, 33.74751281738281, 79.26990509033203, 106.02054595947266, 66.49976348876953, 816.6270751953125, 70.30613708496094, 160.30764770507812, 454.3121643066406, 293.5243835449219, 449.3794860839844, 745.2600708007812, 118.27708435058594, 564.6426391601562, 136.49191284179688, 696.5982055664062, 1391.31005859375, 789.8202514648438, 621.8616943359375, 1180.0052490234375, 182.91452026367188, 246.34141540527344, 1067.0379638671875, 1812.842041015625, 3269.424560546875, 1233.22412109375, 4809.22900390625, 3091.7919921875, 3699.816162109375, 5228.8642578125, 2131.393310546875, 4366.4990234375, 1362.5438232421875, 2058.834716796875, 2968.7021484375, 4087.31787109375, 3383.023193359375, 1975.910400390625, 65.3952407836914, 43.627132415771484, 35.365413665771484, 28.880678176879883, 27.932392120361328, 25.289928436279297, 25.042490005493164, 25.67588233947754, 22.681934356689453, 21.667762756347656, 169.22317504882812, 18.948509216308594, 21.79399299621582, 26.40517234802246, 13.461187362670898, 79.28128051757812, 14.288352012634277, 31.19525718688965, 14.602659225463867, 36.600440979003906, 76.39949798583984, 10.525609970092773, 11.002459526062012, 9.962715148925781, 16.6627254486084, 93.7606430053711, 8.331510543823242, 50.67258834838867, 21.7990779876709, 49.935752868652344, 47.00983810424805, 194.61419677734375, 97.61959838867188, 51.509735107421875, 76.81038665771484, 179.758056640625, 73.35646057128906, 69.29886627197266, 72.37548065185547, 148.6221923828125, 352.6307373046875, 507.39837646484375, 135.16607666015625, 130.89541625976562, 111.1113052368164, 163.39712524414062, 59.959190368652344, 480.2540588378906, 4755.67822265625, 2097.841064453125, 1884.0399169921875, 649.846923828125, 603.3385620117188, 1658.4736328125, 770.4829711914062, 1391.31005859375, 5084.552734375, 3383.023193359375, 2286.555908203125, 2166.750732421875, 4809.22900390625, 936.75048828125, 202.60536193847656, 69.43341064453125, 60.71687698364258, 59.224525451660156, 60.33858871459961, 51.51339340209961, 43.96852111816406, 50.45224380493164, 38.67557144165039, 36.946563720703125, 35.12146759033203, 32.04485321044922, 28.37889862060547, 28.14038848876953, 27.54801368713379, 25.00555419921875, 117.48294067382812, 23.77846908569336, 73.1176986694336, 16.458019256591797, 15.663175582885742, 15.101287841796875, 51.04985046386719, 26.59076499938965, 16.275293350219727, 14.423284530639648, 100.45468139648438, 14.5689115524292, 26.099931716918945, 39.93104934692383, 164.59327697753906, 61.925941467285156, 60.15924072265625, 73.69712829589844, 103.46612548828125, 65.71939849853516, 69.39115905761719, 145.35302734375, 126.05340576171875, 125.64580535888672, 405.7302551269531, 109.98531341552734, 201.58181762695312, 351.49981689453125, 901.1617431640625, 118.74710083007812, 380.508056640625, 79.8137435913086, 138.1951904296875, 69.48517608642578, 58.44716262817383, 52.88302993774414, 72.91250610351562, 50.46235275268555, 36.474151611328125, 33.835594177246094, 26.310033798217773, 24.369279861450195, 20.636245727539062, 19.906936645507812, 101.54666137695312, 16.598655700683594, 15.449403762817383, 15.319779396057129, 19.720232009887695, 14.214204788208008, 13.871009826660156, 13.699155807495117, 13.022037506103516, 36.023460388183594, 13.842910766601562, 11.942439079284668, 24.167985916137695, 14.31881046295166, 28.06146812438965, 33.593116760253906, 10.29001235961914, 46.34318161010742, 55.904884338378906, 37.71035385131836, 85.59070587158203, 111.29634094238281, 36.53751754760742, 20.645627975463867, 69.55631256103516, 120.5843505859375, 41.89281463623047, 77.28952026367188, 32.12553787231445, 145.35302734375, 201.58181762695312, 901.1617431640625, 233.9725341796875, 60.37256622314453, 214.7691650390625, 234.62342834472656, 337.6809997558594, 163.39712524414062, 1884.0399169921875, 236.1768341064453, 284.6780090332031, 206.79083251953125, 5084.552734375, 2445.54443359375, 4755.67822265625, 190.38583374023438, 64.8005599975586, 60.34916687011719, 58.150386810302734, 52.89723205566406, 50.27952575683594, 41.14848327636719, 77.51879119873047, 33.2382926940918, 29.137189865112305, 690.7777709960938, 178.7911376953125, 44.0577392578125, 19.81703758239746, 31.146814346313477, 18.221712112426758, 17.86861801147461, 17.413379669189453, 68.92448425292969, 22.876928329467773, 21.380483627319336, 32.722740173339844, 32.82731246948242, 11.954024314880371, 37.014915466308594, 10.85724925994873, 9.534570693969727, 8.971213340759277, 17.3936767578125, 8.838945388793945, 22.101961135864258, 53.830623626708984, 141.2918701171875, 60.38508987426758, 60.4495849609375, 87.17603302001953, 91.48008728027344, 47.76011657714844, 120.27000427246094, 97.92845916748047, 603.3385620117188, 352.6307373046875, 341.0682373046875, 1884.0399169921875, 894.3685913085938, 2286.555908203125, 2166.750732421875, 4755.67822265625, 3596.956298828125, 133.65699768066406, 208.42752075195312, 105.9598159790039, 52.71521759033203, 51.984375, 53.02243423461914, 40.82465744018555, 39.4912223815918, 247.25868225097656, 189.231201171875, 65.37950897216797, 26.683551788330078, 25.34545135498047, 25.02567481994629, 24.71971893310547, 24.10287094116211, 23.919126510620117, 21.81367301940918, 54.76301193237305, 18.94435691833496, 56.068668365478516, 139.80178833007812, 31.593170166015625, 48.78998947143555, 13.349162101745605, 12.582259178161621, 65.42768096923828, 11.202956199645996, 17.13654899597168, 53.100547790527344, 240.53497314453125, 109.98812103271484, 381.5868835449219, 61.668277740478516, 101.11968994140625, 94.76839447021484, 319.3742370605469, 77.67769622802734, 46.62617874145508, 81.28407287597656, 108.53145599365234, 901.1617431640625, 348.4354248046875, 163.530029296875, 82.71212005615234, 74.86222076416016, 186.01600646972656, 42.35342788696289, 38.419593811035156, 70.57926177978516, 35.09113693237305, 23.27570915222168, 34.21839904785156, 327.9114990234375, 16.035314559936523, 15.552851676940918, 14.275762557983398, 12.509523391723633, 207.7863006591797, 15.601009368896484, 56.37746047973633, 9.44046688079834, 103.30168151855469, 148.10157775878906, 71.6655502319336, 122.26348114013672, 20.264204025268555, 21.72071075439453, 9.414371490478516, 37.368919372558594, 22.409282684326172, 26.213191986083984, 57.43877410888672, 81.75990295410156, 51.87290573120117, 233.9725341796875, 206.79083251953125, 296.47869873046875, 234.62342834472656, 69.50628662109375, 335.9920959472656, 68.05941009521484, 111.29634094238281, 169.70738220214844, 284.6780090332031, 337.6809997558594, 195.1784210205078, 1884.0399169921875, 139.67556762695312, 93.93245697021484, 250.68508911132812, 41.62609100341797, 34.74775314331055, 27.760080337524414, 255.07138061523438, 69.80187225341797, 19.405317306518555, 35.35768508911133, 15.372302055358887, 291.4752197265625, 12.826970100402832, 12.753613471984863, 12.400344848632812, 24.053815841674805, 11.899913787841797, 10.809089660644531, 12.212924003601074, 10.926852226257324, 37.994022369384766, 48.61140441894531, 8.832865715026855, 11.540854454040527, 27.455020904541016, 46.63676452636719, 9.0366792678833, 60.32416915893555, 31.120397567749023, 107.80896759033203, 83.68936157226562, 112.34178161621094, 69.44676208496094, 46.68791198730469, 97.34735870361328, 65.51103210449219, 114.29035949707031, 26.523273468017578, 26.216094970703125, 64.77510070800781, 58.47600173950195, 346.9080505371094, 85.65428161621094, 120.5843505859375, 90.8773422241211, 380.508056640625, 78.42694091796875, 65.29362487792969, 50.386383056640625, 58.561004638671875, 54.53395462036133, 55.50033950805664, 43.47117614746094, 23.375164031982422, 25.806861877441406, 17.979053497314453, 16.532926559448242, 18.421812057495117, 15.055374145507812, 14.384525299072266, 13.542248725891113, 13.3884859085083, 15.074185371398926, 111.37278747558594, 11.271389961242676, 125.33793640136719, 9.520812034606934, 26.460805892944336, 8.535499572753906, 139.3247833251953, 7.913390636444092, 37.99449157714844, 41.810543060302734, 24.95539665222168, 14.858705520629883, 50.609554290771484, 19.585704803466797, 43.90520095825195, 27.086715698242188, 145.6682891845703, 163.54408264160156, 27.995960235595703, 140.0106201171875, 56.777530670166016, 101.94835662841797, 52.64901351928711, 122.62190246582031, 60.192283630371094, 61.27933883666992, 135.938720703125, 56.916378021240234, 346.9080505371094, 164.59327697753906, 99.25605773925781, 497.9127502441406, 341.6754150390625, 67.63553619384766, 55.403629302978516, 46.471099853515625, 48.736045837402344, 49.598697662353516, 33.24122619628906, 63.10690689086914, 19.89488983154297, 19.83082389831543, 19.395967483520508, 18.911224365234375, 26.35699462890625, 16.683385848999023, 80.40930938720703, 72.2988510131836, 53.31319046020508, 12.81484603881836, 42.29220199584961, 11.986837387084961, 84.94436645507812, 11.693763732910156, 18.486345291137695, 36.62733840942383, 11.108312606811523, 19.8066349029541, 9.191720962524414, 16.47898292541504, 21.817867279052734, 26.032407760620117, 6.862936019897461, 140.92333984375, 468.630126953125, 480.2540588378906, 97.92845916748047, 60.255455017089844, 40.260894775390625, 69.10116577148438, 53.322181701660156, 42.79042434692383, 140.55775451660156, 62.21534729003906, 141.2918701171875, 194.88121032714844, 165.56080627441406, 106.33699035644531, 55.317081451416016, 184.46737670898438, 116.81468963623047, 110.3233642578125, 104.44932556152344, 99.75460052490234, 77.67613220214844, 80.77971649169922, 78.80804443359375, 44.95902633666992, 40.04407501220703, 36.16480255126953, 33.551448822021484, 109.01412963867188, 27.58736228942871, 26.08191680908203, 23.273212432861328, 23.174468994140625, 101.21434783935547, 42.12237548828125, 15.401932716369629, 13.608621597290039, 109.64122772216797, 24.55515480041504, 11.49862289428711, 10.788132667541504, 80.3152847290039, 30.667774200439453, 8.369925498962402, 18.444503784179688, 39.20622253417969, 72.15995025634766, 61.1605224609375, 78.01476287841797, 120.51313018798828, 48.544639587402344, 123.73741149902344, 129.99618530273438, 76.58473205566406, 901.1617431640625, 337.6809997558594, 77.76229858398438, 150.70582580566406, 113.31925201416016, 115.40110778808594, 93.25968170166016, 71.14908599853516, 59.24873733520508, 53.2781867980957, 43.939544677734375, 31.482145309448242, 30.927783966064453, 24.50799560546875, 23.655698776245117, 21.072065353393555, 58.85919189453125, 71.32952880859375, 25.417694091796875, 17.279613494873047, 14.034940719604492, 105.87014770507812, 29.666749954223633, 82.97762298583984, 28.9310245513916, 13.626055717468262, 89.98808288574219, 46.998382568359375, 42.76380920410156, 70.62682342529297, 20.384796142578125, 104.86205291748047, 12.233070373535156, 7.5203633308410645, 49.51270294189453, 155.4017333984375, 36.174190521240234, 111.89159393310547, 38.560428619384766, 82.78485107421875, 193.75067138671875, 124.97824096679688, 201.58181762695312, 50.18970489501953, 405.7302551269531, 66.97595977783203, 186.6229705810547, 130.93527221679688, 121.574462890625, 87.1005859375, 34.05923843383789, 29.84910011291504, 19.72949981689453, 68.185791015625, 348.4354248046875, 17.71206283569336, 102.16659545898438, 18.67283058166504, 175.34951782226562, 81.48218536376953, 9.976227760314941, 75.15918731689453, 66.60137939453125, 9.336073875427246, 100.56961059570312, 72.89891052246094, 11.029303550720215, 20.63800621032715, 6.495797157287598, 195.1784210205078, 6.3498759269714355, 82.01678466796875, 46.818870544433594, 24.507732391357422, 23.86410903930664, 206.79083251953125, 69.1584701538086, 89.08197021484375, 156.07235717773438, 54.254486083984375, 84.94271850585938, 41.418235778808594, 140.92584228515625, 126.05340576171875, 233.9725341796875, 86.77788543701172], \"loglift\": [30.0, 29.0, 28.0, 27.0, 26.0, 25.0, 24.0, 23.0, 22.0, 21.0, 20.0, 19.0, 18.0, 17.0, 16.0, 15.0, 14.0, 13.0, 12.0, 11.0, 10.0, 9.0, 8.0, 7.0, 6.0, 5.0, 4.0, 3.0, 2.0, 1.0, 1.2933000326156616, 1.287600040435791, 1.2851999998092651, 1.2811000347137451, 1.2740999460220337, 1.2711000442504883, 1.2710000276565552, 1.267799973487854, 1.2657999992370605, 1.2653000354766846, 1.263700008392334, 1.2617000341415405, 1.2603000402450562, 1.2589000463485718, 1.2558000087738037, 1.2556999921798706, 1.2548999786376953, 1.2513999938964844, 1.2508000135421753, 1.2508000135421753, 1.2502000331878662, 1.249400019645691, 1.2489999532699585, 1.2487000226974487, 1.2481000423431396, 1.245300054550171, 1.2436000108718872, 1.2389999628067017, 1.2375999689102173, 1.2371000051498413, 1.2371000051498413, 1.2338000535964966, 1.1761000156402588, 1.2063000202178955, 1.1586999893188477, 1.1812000274658203, 1.218400001525879, 1.0836999416351318, 1.152999997138977, 1.149899959564209, 1.0650999546051025, 1.1531000137329102, 1.0891000032424927, 1.0997999906539917, 0.9643999934196472, 1.0394999980926514, 0.8812999725341797, 1.0771000385284424, 1.1013000011444092, 0.7687000036239624, 1.1363999843597412, 0.5174999833106995, 0.34439998865127563, 0.5942999720573425, 0.816100001335144, 0.26190000772476196, 0.6122999787330627, 0.26739999651908875, 0.15459999442100525, 0.1664000004529953, 0.5623999834060669, 0.10419999808073044, 0.1876000016927719, 0.10499999672174454, 0.1973000019788742, 0.262800008058548, 0.06620000302791595, 0.26589998602867126, 0.2513999938964844, 0.10859999805688858, 0.2572000026702881, 0.17560000717639923, 0.27790001034736633, 0.323199987411499, -0.01510000042617321, 0.04960000142455101, 0.3547999858856201, 0.0203000009059906, 0.15539999306201935, 0.052299998700618744, 1.8210999965667725, 1.8136999607086182, 1.813099980354309, 1.7888000011444092, 1.788599967956543, 1.7762999534606934, 1.767199993133545, 1.7640999555587769, 1.7618999481201172, 1.7508000135421753, 1.7431999444961548, 1.7325999736785889, 1.722599983215332, 1.720900058746338, 1.7034000158309937, 1.7026000022888184, 1.6958999633789062, 1.6955000162124634, 1.693600058555603, 1.68340003490448, 1.6828999519348145, 1.6819000244140625, 1.6711000204086304, 1.6634000539779663, 1.6633000373840332, 1.6620999574661255, 1.6548000574111938, 1.6536999940872192, 1.6532000303268433, 1.6517000198364258, 1.6502000093460083, 1.6233999729156494, 1.646299958229065, 1.5913000106811523, 1.5921000242233276, 1.5325000286102295, 1.5403000116348267, 1.559000015258789, 1.5024000406265259, 1.4246000051498413, 1.4149999618530273, 1.4910000562667847, 1.2803000211715698, 1.3530999422073364, 1.3566999435424805, 1.2838000059127808, 1.2425999641418457, 1.371899962425232, 1.277999997138977, 1.4305000305175781, 1.2453999519348145, 1.030900001525879, 1.4075000286102295, 1.3121000528335571, 1.0633000135421753, 0.5012999773025513, 0.33559998869895935, 0.3472999930381775, 0.621999979019165, 0.476500004529953, 0.32409998774528503, 0.19359999895095825, 0.7846999764442444, 0.125, 0.43389999866485596, -0.03869999945163727, 0.17790000140666962, 0.2856000065803528, 0.12129999697208405, 0.6000999808311462, 0.37529999017715454, 0.3944000005722046, 0.040300000458955765, -0.31709998846054077, -0.18279999494552612, 0.11860000342130661, 0.36649999022483826, 0.5928000211715698, 0.16120000183582306, 1.92739999294281, 1.905900001525879, 1.9043999910354614, 1.8799999952316284, 1.8759000301361084, 1.8518999814987183, 1.8387000560760498, 1.8353999853134155, 1.8331999778747559, 1.812000036239624, 1.8013999462127686, 1.7941999435424805, 1.787600040435791, 1.7768000364303589, 1.7761000394821167, 1.7688000202178955, 1.7563999891281128, 1.753999948501587, 1.7502000331878662, 1.74590003490448, 1.7440999746322632, 1.7430000305175781, 1.7414000034332275, 1.7375999689102173, 1.7164000272750854, 1.7158000469207764, 1.7142000198364258, 1.7030999660491943, 1.6979999542236328, 1.69760000705719, 1.69760000705719, 1.6539000272750854, 1.65339994430542, 1.655500054359436, 1.5331000089645386, 1.4976999759674072, 1.5155999660491943, 1.55649995803833, 1.5444999933242798, 1.5678000450134277, 1.6260000467300415, 1.3092000484466553, 1.5006999969482422, 1.5298999547958374, 1.5288000106811523, 1.3996000289916992, 1.3605999946594238, 1.381600022315979, 1.5210000276565552, 1.3808000087738037, 1.0633000135421753, 0.8432999849319458, 1.385699987411499, 0.885200023651123, 0.838699996471405, 1.2391999959945679, 0.560699999332428, 0.6121000051498413, 0.8540999889373779, 0.3619999885559082, 0.8367999792098999, 0.20239999890327454, 0.7803000211715698, 0.2773999869823456, 0.2053000032901764, 0.3499000072479248, 0.125900000333786, 0.28189998865127563, 0.22709999978542328, 0.08020000159740448, 0.6176999807357788, -0.06859999895095825, 0.4341000020503998, 0.08470000326633453, 0.4422999918460846, 0.24779999256134033, 0.31470000743865967, 0.5557000041007996, 0.05299999937415123, 2.015000104904175, 2.0011000633239746, 1.9852999448776245, 1.9848999977111816, 1.9845999479293823, 1.9803999662399292, 1.9788999557495117, 1.9747999906539917, 1.9737000465393066, 1.9700000286102295, 1.9592000246047974, 1.9581999778747559, 1.9254000186920166, 1.9219000339508057, 1.9215999841690063, 1.9164999723434448, 1.9138000011444092, 1.909600019454956, 1.9063999652862549, 1.9005999565124512, 1.8984999656677246, 1.894700050354004, 1.8940999507904053, 1.8934999704360962, 1.8873000144958496, 1.886199951171875, 1.8848999738693237, 1.8838000297546387, 1.881100058555603, 1.8799999952316284, 1.874500036239624, 1.8746000528335571, 1.8653000593185425, 1.8690999746322632, 1.8098000288009644, 1.770400047302246, 1.7300000190734863, 1.787500023841858, 1.7769999504089355, 1.7503000497817993, 1.7096999883651733, 1.5631999969482422, 1.7239999771118164, 1.653499960899353, 1.4900000095367432, 1.5430999994277954, 1.128999948501587, 1.5027999877929688, 1.506700038909912, 1.6633000373840332, 1.0734000205993652, 1.1404000520706177, 0.8464999794960022, 0.9208999872207642, 0.13899999856948853, 0.21819999814033508, 0.044199999421834946, 0.07970000058412552, 1.0104000568389893, 0.15600000321865082, 0.023900000378489494, 0.994700014591217, 0.6057000160217285, 0.1160999983549118, -0.029899999499320984, 0.042500000447034836, 0.3449999988079071, 0.08510000258684158, 0.13079999387264252, 0.14149999618530273, 0.29899999499320984, 0.1915999948978424, 0.15839999914169312, 0.3093000054359436, -0.0738999992609024, 0.15919999778270721, 0.1453000009059906, 0.3100999891757965, 0.035599999129772186, 0.06719999760389328, 0.32519999146461487, -0.03629999980330467, 0.20499999821186066, -0.08630000054836273, -0.03620000183582306, 2.4667000770568848, 2.4618000984191895, 2.4467999935150146, 2.4414000511169434, 2.437000036239624, 2.433199882507324, 2.4258999824523926, 2.422800064086914, 2.420799970626831, 2.4205000400543213, 2.4165000915527344, 2.4103000164031982, 2.410099983215332, 2.408900022506714, 2.4077999591827393, 2.401900053024292, 2.400700092315674, 2.399199962615967, 2.3940000534057617, 2.393899917602539, 2.384200096130371, 2.3782999515533447, 2.3749001026153564, 2.3596999645233154, 2.3534998893737793, 2.3529999256134033, 2.352799892425537, 2.352400064468384, 2.349600076675415, 2.3345999717712402, 2.3189001083374023, 2.315700054168701, 2.293100118637085, 2.3076999187469482, 2.225399971008301, 2.2388999462127686, 2.2004001140594482, 2.2230000495910645, 1.9802000522613525, 2.094899892807007, 2.0406999588012695, 2.1171998977661133, 1.7680000066757202, 1.958400011062622, 1.9833999872207642, 1.8242000341415405, 1.795300006866455, 1.701200008392334, 1.9259999990463257, 1.7696000337600708, 1.6052000522613525, 0.24789999425411224, 0.5770999789237976, 0.6302000284194946, 0.4366999864578247, 0.06840000301599503, 1.1497000455856323, 0.2257000058889389, 0.5927000045776367, 0.8568999767303467, 0.7687000036239624, -0.08760000020265579, -0.042399998754262924, -0.16359999775886536, 0.7214000225067139, 0.298799991607666, 0.45509999990463257, 0.6516000032424927, 0.10970000177621841, -0.24199999868869781, 0.13459999859333038, -0.13009999692440033, 0.24899999797344208, -0.1477999985218048, 0.16040000319480896, 0.0851999968290329, -0.06629999727010727, 0.7167999744415283, -0.4424999952316284, -0.08739999681711197, 3.0917999744415283, 3.088099956512451, 3.073499917984009, 3.0543999671936035, 3.046099901199341, 3.044100046157837, 3.0387001037597656, 3.0346999168395996, 3.033799886703491, 3.030100107192993, 3.0295000076293945, 3.0292999744415283, 3.0179998874664307, 3.017699956893921, 3.016900062561035, 3.0129001140594482, 3.011399984359741, 3.010999917984009, 3.010499954223633, 3.003000020980835, 2.999500036239624, 2.9916999340057373, 2.990299940109253, 2.9892001152038574, 2.9811999797821045, 2.967099905014038, 2.9565000534057617, 2.947700023651123, 2.9339001178741455, 2.9277000427246094, 2.922100067138672, 2.8803000450134277, 2.837599992752075, 2.7618000507354736, 2.8522000312805176, 2.884000062942505, 2.669600009918213, 2.6387999057769775, 2.6242001056671143, 2.4639999866485596, 2.546600103378296, 2.6122000217437744, 2.779900074005127, 2.2560999393463135, 2.5862998962402344, 1.9505000114440918, 1.8926000595092773, 2.3059000968933105, 1.9078999757766724, 2.4172000885009766, 2.327199935913086, 1.8287999629974365, 1.1167999505996704, 1.6518000364303589, 2.1089000701904297, 2.026099920272827, 0.37380000948905945, 0.7792999744415283, 1.2098000049591064, 1.1088000535964966, 1.1126999855041504, 1.5033999681472778, 0.11010000109672546, 1.7257000207901, -0.14990000426769257, 1.0728000402450562, -0.16529999673366547, 0.29989999532699585, 0.34470000863075256, 0.29420000314712524, 0.019200000911951065, -0.374099999666214, -0.10119999945163727, -0.2799000144004822, 0.2467000037431717, 0.2069000005722046, 0.3894999921321869, 0.17309999465942383, 3.438699960708618, 3.4010000228881836, 3.3884999752044678, 3.38700008392334, 3.3722000122070312, 3.363300085067749, 3.339900016784668, 3.31469988822937, 3.2813000679016113, 3.258699893951416, 3.25570011138916, 3.252000093460083, 3.242799997329712, 3.229300022125244, 3.2276999950408936, 3.210099935531616, 3.202500104904175, 3.1861000061035156, 3.166599988937378, 3.160799980163574, 3.1138999462127686, 3.109100103378296, 3.097599983215332, 3.097100019454956, 3.0952999591827393, 3.073899984359741, 3.0629000663757324, 3.0571999549865723, 3.0385000705718994, 3.0360000133514404, 3.0065999031066895, 3.0302999019622803, 2.9518001079559326, 2.8343000411987305, 2.819999933242798, 2.8868000507354736, 2.9198999404907227, 2.6289000511169434, 2.492799997329712, 2.642199993133545, 2.800299882888794, 2.4347000122070312, 2.380000114440918, 2.87280011177063, 2.7293999195098877, 2.4231998920440674, 2.006700038909912, 2.2846999168395996, 2.3615000247955322, 1.6119999885559082, 2.0703001022338867, 2.2160000801086426, 1.6461999416351318, 2.006999969482422, 2.0244998931884766, 1.8806999921798706, 0.816100001335144, 1.2711000442504883, 1.6370999813079834, 0.48739999532699585, 0.31200000643730164, -0.01860000006854534, -0.11919999867677689, -0.13269999623298645, 0.38960000872612, -0.06970000267028809, -0.1331000030040741, 0.11100000143051147, 0.5029000043869019, -0.438400000333786, 0.9855999946594238, 0.3012000024318695, 0.03689999878406525, 3.591900110244751, 3.578700065612793, 3.5632998943328857, 3.5624001026153564, 3.5304999351501465, 3.508699893951416, 3.5074000358581543, 3.503700017929077, 3.495800018310547, 3.489799976348877, 3.4895999431610107, 3.488600015640259, 3.476599931716919, 3.473299980163574, 3.4683001041412354, 3.4391000270843506, 3.4330999851226807, 3.4240000247955322, 3.413100004196167, 3.4089999198913574, 3.3889999389648438, 3.387500047683716, 3.367300033569336, 3.3506999015808105, 3.3315000534057617, 3.3287999629974365, 3.3259999752044678, 3.3052000999450684, 3.271699905395508, 3.24180006980896, 3.1919000148773193, 3.1572000980377197, 2.971100091934204, 3.1672000885009766, 3.0497000217437744, 2.9168999195098877, 3.0237998962402344, 3.066200017929077, 3.2009999752044678, 3.022900104522705, 2.961199998855591, 3.053499937057495, 2.1456000804901123, 2.9539999961853027, 2.6707000732421875, 2.295599937438965, 2.4403998851776123, 2.2741000652313232, 2.046099901199341, 2.739799976348877, 2.088399887084961, 2.6131999492645264, 1.8580000400543213, 1.476699948310852, 1.6193000078201294, 1.7488000392913818, 1.3108999729156494, 2.4214000701904297, 2.2260000705718994, 1.2448999881744385, 0.8360000252723694, 0.3427000045776367, 1.0295000076293945, 0.034699998795986176, 0.33000001311302185, 0.19280000030994415, -0.08810000121593475, 0.546999990940094, -0.02319999970495701, 0.8065000176429749, 0.3677999973297119, 0.030400000512599945, -0.32170000672340393, -0.19509999454021454, 0.3138999938964844, 4.0416998863220215, 4.024400234222412, 4.0117998123168945, 3.997299909591675, 3.9946999549865723, 3.9858999252319336, 3.9846999645233154, 3.9744999408721924, 3.97379994392395, 3.9702000617980957, 3.955899953842163, 3.9539999961853027, 3.953399896621704, 3.9237000942230225, 3.897900104522705, 3.8740999698638916, 3.873800039291382, 3.871500015258789, 3.8691000938415527, 3.866300106048584, 3.8499999046325684, 3.8438000679016113, 3.834700107574463, 3.8271000385284424, 3.823199987411499, 3.7748000621795654, 3.7727999687194824, 3.731800079345703, 3.7177999019622803, 3.6789000034332275, 3.673099994659424, 3.5599000453948975, 3.4825000762939453, 3.5650999546051025, 3.4911999702453613, 3.2976999282836914, 3.4549999237060547, 3.407399892807007, 3.3828999996185303, 3.0580999851226807, 2.5826001167297363, 2.398200035095215, 2.953399896621704, 2.964900016784668, 3.003700017929077, 2.7262001037597656, 3.389899969100952, 1.9175000190734863, 0.1664000004529953, 0.7289999723434448, 0.7444999814033508, 1.4930000305175781, 1.527899980545044, 0.6521999835968018, 1.2884999513626099, 0.7609000205993652, -0.4447000026702881, -0.14159999787807465, 0.2029000073671341, 0.23109999299049377, -0.5626000165939331, 0.9666000008583069, 4.185800075531006, 4.16480016708374, 4.160099983215332, 4.159200191497803, 4.159200191497803, 4.153299808502197, 4.145400047302246, 4.142499923706055, 4.138700008392334, 4.135799884796143, 4.131899833679199, 4.126200199127197, 4.116700172424316, 4.116099834442139, 4.114299774169922, 4.104000091552734, 4.101500034332275, 4.100200176239014, 4.077400207519531, 4.054500102996826, 4.046899795532227, 4.040599822998047, 4.040200233459473, 4.039999961853027, 4.034900188446045, 4.032899856567383, 4.032299995422363, 4.031300067901611, 4.0295000076293945, 4.027500152587891, 3.972899913787842, 3.966099977493286, 3.938499927520752, 3.922100067138672, 3.8947999477386475, 3.901599884033203, 3.8838000297546387, 3.706899881362915, 3.628000020980835, 3.5362000465393066, 2.7679998874664307, 3.390000104904175, 3.0618999004364014, 2.616300106048584, 1.9362000226974487, 3.267899990081787, 2.3169000148773193, 3.501499891281128, 4.334000110626221, 4.316100120544434, 4.311999797821045, 4.307600021362305, 4.300600051879883, 4.292399883270264, 4.284200191497803, 4.2835001945495605, 4.263700008392334, 4.2546000480651855, 4.238399982452393, 4.234000205993652, 4.232500076293945, 4.209000110626221, 4.197999954223633, 4.196700096130371, 4.1940999031066895, 4.183300018310547, 4.177700042724609, 4.176799774169922, 4.166500091552734, 4.16379976272583, 4.152900218963623, 4.141600131988525, 4.1381001472473145, 4.133299827575684, 4.119900226593018, 4.118199825286865, 4.1082000732421875, 4.080699920654297, 4.041500091552734, 4.02239990234375, 3.917799949645996, 3.8647000789642334, 4.014999866485596, 4.078800201416016, 3.784899950027466, 3.60509991645813, 3.8805999755859375, 3.6861000061035156, 3.9405999183654785, 3.3543999195098877, 3.1482999324798584, 2.274600028991699, 2.8224000930786133, 3.5655999183654785, 2.7118000984191895, 2.6085000038146973, 2.292799949645996, 2.7997000217437744, 0.9156000018119812, 2.396199941635132, 2.2256999015808105, 2.48580002784729, -0.5357000231742859, 0.08900000154972076, -0.6351000070571899, 4.416900157928467, 4.394700050354004, 4.392099857330322, 4.38730001449585, 4.38700008392334, 4.3755998611450195, 4.374899864196777, 4.369500160217285, 4.361700057983398, 4.351200103759766, 4.341700077056885, 4.340199947357178, 4.320400238037109, 4.313300132751465, 4.3125, 4.303400039672852, 4.3007001876831055, 4.2967000007629395, 4.262499809265137, 4.242499828338623, 4.2418999671936035, 4.241300106048584, 4.235000133514404, 4.230500221252441, 4.230400085449219, 4.206200122833252, 4.174499988555908, 4.156400203704834, 4.152699947357178, 4.151500225067139, 4.143499851226807, 4.017399787902832, 3.8018999099731445, 3.837100028991699, 3.813699960708618, 3.7004001140594482, 3.599600076675415, 3.7363998889923096, 3.1082000732421875, 3.1563000679016113, 1.8315999507904053, 2.196899890899658, 2.09689998626709, 0.7242000102996826, 1.3207000494003296, 0.532800018787384, 0.27320000529289246, -0.5126000046730042, -0.35920000076293945, 4.561699867248535, 4.556600093841553, 4.556600093841553, 4.537099838256836, 4.536600112915039, 4.5320000648498535, 4.525199890136719, 4.523200035095215, 4.510900020599365, 4.510499954223633, 4.496399879455566, 4.494500160217285, 4.491499900817871, 4.488800048828125, 4.48829984664917, 4.487299919128418, 4.4857001304626465, 4.4770002365112305, 4.461400032043457, 4.460899829864502, 4.458499908447266, 4.454400062561035, 4.435999870300293, 4.43179988861084, 4.405200004577637, 4.39709997177124, 4.382699966430664, 4.372399806976318, 4.368299961090088, 4.363399982452393, 4.2778000831604, 4.273799896240234, 4.196599960327148, 4.302000045776367, 4.262700080871582, 4.227700233459473, 4.0030999183654785, 4.127099990844727, 4.264400005340576, 4.052299976348877, 3.842900037765503, 2.105299949645996, 2.6180999279022217, 4.574999809265137, 4.560699939727783, 4.560100078582764, 4.556600093841553, 4.538400173187256, 4.532199859619141, 4.529099941253662, 4.527299880981445, 4.495699882507324, 4.488999843597412, 4.47730016708374, 4.449999809265137, 4.447700023651123, 4.432300090789795, 4.392899990081787, 4.378200054168701, 4.377999782562256, 4.3668999671936035, 4.344600200653076, 4.312699794769287, 4.310100078582764, 4.291800022125244, 4.27370023727417, 4.271699905395508, 4.242199897766113, 4.212600231170654, 4.1656999588012695, 4.126699924468994, 4.1203999519348145, 4.051700115203857, 4.05109977722168, 4.027400016784668, 3.698499917984009, 3.7095999717712402, 3.6045000553131104, 3.5390000343322754, 3.8431999683380127, 3.172100067138672, 3.797800064086914, 3.5822999477386475, 3.3887999057769775, 3.090100049972534, 2.9790000915527344, 3.2144999504089355, 0.7199000120162964, 4.675600051879883, 4.66349983215332, 4.657299995422363, 4.640399932861328, 4.629799842834473, 4.613500118255615, 4.610000133514404, 4.585400104522705, 4.575399875640869, 4.5447001457214355, 4.542099952697754, 4.532400131225586, 4.5121002197265625, 4.511499881744385, 4.505899906158447, 4.498499870300293, 4.497000217437744, 4.473599910736084, 4.432000160217285, 4.426599979400635, 4.424699783325195, 4.415900230407715, 4.410200119018555, 4.399700164794922, 4.393400192260742, 4.377900123596191, 4.368800163269043, 4.355800151824951, 4.347700119018555, 4.347300052642822, 4.340199947357178, 4.29640007019043, 4.28249979019165, 4.267099857330322, 4.114500045776367, 4.170000076293945, 4.059000015258789, 4.253600120544434, 4.24459981918335, 3.8812999725341797, 3.8382999897003174, 2.77020001411438, 3.529900074005127, 3.2544000148773193, 3.4256999492645264, 2.0088000297546387, 4.6880998611450195, 4.679800033569336, 4.672599792480469, 4.670300006866455, 4.654799938201904, 4.654099941253662, 4.624000072479248, 4.621600151062012, 4.60830020904541, 4.591899871826172, 4.579899787902832, 4.564499855041504, 4.561800003051758, 4.55810022354126, 4.547800064086914, 4.54580020904541, 4.52269983291626, 4.521699905395508, 4.506100177764893, 4.463200092315674, 4.462900161743164, 4.443399906158447, 4.434500217437744, 4.419099807739258, 4.401700019836426, 4.398099899291992, 4.395199775695801, 4.394400119781494, 4.383999824523926, 4.368599891662598, 4.3632001876831055, 4.313300132751465, 4.3267998695373535, 4.095300197601318, 4.052199840545654, 4.278800010681152, 3.870800018310547, 4.077700138092041, 3.8189001083374023, 4.026299953460693, 3.6791000366210938, 3.9707999229431152, 3.9609999656677246, 3.6050000190734863, 3.8673999309539795, 2.5913000106811523, 3.0450000762939453, 3.3166000843048096, 1.8551000356674194, 2.126199960708618, 4.6915998458862305, 4.6844000816345215, 4.677000045776367, 4.676199913024902, 4.661900043487549, 4.655399799346924, 4.640200138092041, 4.6118998527526855, 4.611599922180176, 4.609099864959717, 4.605999946594238, 4.587900161743164, 4.57420015335083, 4.565400123596191, 4.5609002113342285, 4.557700157165527, 4.545100212097168, 4.536300182342529, 4.529099941253662, 4.5269999504089355, 4.525700092315674, 4.518599987030029, 4.498899936676025, 4.490600109100342, 4.459400177001953, 4.446000099182129, 4.4394001960754395, 4.383800029754639, 4.3744001388549805, 4.3607001304626465, 4.348999977111816, 4.282400131225586, 4.204800128936768, 4.1819000244140625, 4.212200164794922, 4.2657999992370605, 4.107600212097168, 4.064300060272217, 4.12939977645874, 3.4660000801086426, 3.887399911880493, 3.0304999351501465, 2.681999921798706, 2.678100109100342, 3.063800096511841, 3.648900032043457, 2.471299886703491, 4.7804999351501465, 4.7804999351501465, 4.7795000076293945, 4.7754998207092285, 4.772500038146973, 4.7667999267578125, 4.755199909210205, 4.752299785614014, 4.745299816131592, 4.740099906921387, 4.735099792480469, 4.725200176239014, 4.72130012512207, 4.716100215911865, 4.706099987030029, 4.705599784851074, 4.662300109863281, 4.658899784088135, 4.654699802398682, 4.633800029754639, 4.617599964141846, 4.611800193786621, 4.600299835205078, 4.5854997634887695, 4.584799766540527, 4.577700138092041, 4.514699935913086, 4.497300148010254, 4.48799991607666, 4.477399826049805, 4.3902997970581055, 4.35260009765625, 4.298099994659424, 4.398900032043457, 3.914400100708008, 3.868499994277954, 4.000899791717529, 2.349600076675415, 2.867300033569336, 3.8529999256134033, 3.212100028991699, 3.433000087738037, 4.7932000160217285, 4.788899898529053, 4.781400203704834, 4.7758002281188965, 4.771699905395508, 4.761899948120117, 4.743500232696533, 4.7403998374938965, 4.7220001220703125, 4.7144999504089355, 4.708000183105469, 4.697999954223633, 4.6890997886657715, 4.686399936676025, 4.683599948883057, 4.652299880981445, 4.638000011444092, 4.630300045013428, 4.628499984741211, 4.592199802398682, 4.572400093078613, 4.568600177764893, 4.528800010681152, 4.521999835968018, 4.506499767303467, 4.505799770355225, 4.494100093841553, 4.4934000968933105, 4.482600212097168, 4.401500225067139, 4.258500099182129, 4.358399868011475, 4.145599842071533, 4.331099987030029, 3.9639999866485596, 3.57069993019104, 3.43149995803833, 2.8975000381469727, 4.076600074768066, 2.1726999282836914, 3.7634999752044678, 4.839300155639648, 4.834199905395508, 4.8333001136779785, 4.826200008392334, 4.788400173187256, 4.771599769592285, 4.739699840545654, 4.73199987411499, 4.69189977645874, 4.682499885559082, 4.667500019073486, 4.622600078582764, 4.5493998527526855, 4.53849983215332, 4.535099983215332, 4.531400203704834, 4.512700080871582, 4.488699913024902, 4.4878997802734375, 4.448400020599365, 4.4274001121521, 4.405600070953369, 4.327600002288818, 4.290599822998047, 4.201600074768066, 4.159900188446045, 4.128600120544434, 4.104000091552734, 3.9955999851226807, 3.935800075531006, 3.889899969100952, 3.8262999057769775, 3.724400043487549, 3.897200107574463, 3.5894999504089355, 3.8533999919891357, 3.2262001037597656, 3.243499994277954, 2.603300094604492, 3.220099925994873], \"logprob\": [30.0, 29.0, 28.0, 27.0, 26.0, 25.0, 24.0, 23.0, 22.0, 21.0, 20.0, 19.0, 18.0, 17.0, 16.0, 15.0, 14.0, 13.0, 12.0, 11.0, 10.0, 9.0, 8.0, 7.0, 6.0, 5.0, 4.0, 3.0, 2.0, 1.0, -7.058700084686279, -7.43779993057251, -7.672800064086914, -7.790200233459473, -7.876100063323975, -7.851900100708008, -6.98960018157959, -8.110899925231934, -7.51230001449585, -8.15839958190918, -7.924600124359131, -7.5131001472473145, -8.19789981842041, -5.083700180053711, -7.4832000732421875, -7.246500015258789, -8.341099739074707, -7.792600154876709, -8.350899696350098, -7.4822998046875, -8.39799976348877, -8.29170036315918, -8.205699920654297, -7.5680999755859375, -6.24370002746582, -7.411399841308594, -6.564700126647949, -8.496299743652344, -6.047999858856201, -8.096599578857422, -5.980199813842773, -6.3003997802734375, -6.362800121307373, -7.1184000968933105, -6.101799964904785, -6.798900127410889, -7.60230016708374, -5.151599884033203, -6.524499893188477, -6.657899856567383, -5.918099880218506, -6.900700092315674, -6.3470001220703125, -6.484000205993652, -5.529799938201904, -6.249100208282471, -5.316699981689453, -6.616000175476074, -6.804800033569336, -5.405300140380859, -6.983099937438965, -4.865499973297119, -4.306600093841553, -5.17710018157959, -6.013400077819824, -4.455999851226807, -5.486800193786621, -4.729700088500977, -4.468400001525879, -4.540299892425537, -5.510499954223633, -4.699100017547607, -4.870800018310547, -4.764400005340576, -4.951200008392334, -5.187399864196777, -4.9028000831604, -5.235799789428711, -5.234499931335449, -5.08050012588501, -5.279099941253662, -5.210999965667725, -5.326000213623047, -5.382400035858154, -5.107699871063232, -5.267199993133545, -5.491000175476074, -5.394700050354004, -5.435800075531006, -5.451700210571289, -6.478000164031982, -6.656700134277344, -5.270699977874756, -6.297699928283691, -7.807600021362305, -7.378200054168701, -7.519499778747559, -7.195099830627441, -7.84630012512207, -7.636099815368652, -8.425600051879883, -7.034999847412109, -6.784599781036377, -6.229000091552734, -8.187800407409668, -7.0335001945495605, -8.805700302124023, -8.809800148010254, -8.438699722290039, -8.888999938964844, -8.087200164794922, -7.134300231933594, -8.542200088500977, -8.827300071716309, -9.009400367736816, -9.01710033416748, -6.867199897766113, -7.192999839782715, -9.019399642944336, -5.760900020599365, -6.352399826049805, -4.815100193023682, -7.220300197601318, -6.039700031280518, -6.525400161743164, -5.491799831390381, -5.964000225067139, -6.393700122833252, -5.97189998626709, -5.3256001472473145, -5.301000118255615, -6.421299934387207, -4.986499786376953, -5.483500003814697, -5.5269999504089355, -5.508299827575684, -5.342400074005127, -5.933300018310547, -5.603799819946289, -6.186999797821045, -5.825900077819824, -5.342299938201904, -6.27839994430542, -6.1350998878479, -5.6290998458862305, -4.591300010681152, -4.287399768829346, -4.455999851226807, -4.9741997718811035, -4.8403000831604, -4.644899845123291, -4.513000011444092, -5.389400005340576, -4.7444000244140625, -5.08650016784668, -4.689700126647949, -4.8805999755859375, -5.12939977645874, -5.027100086212158, -5.392600059509277, -5.251999855041504, -5.288000106811523, -5.148799896240234, -5.034900188446045, -5.179999828338623, -5.268099784851074, -5.423399925231934, -5.452199935913086, -5.442599773406982, -7.521500110626221, -6.3053998947143555, -7.565000057220459, -8.179400444030762, -8.197600364685059, -5.588500022888184, -8.539199829101562, -8.567700386047363, -7.450699806213379, -8.7298002243042, -8.286499977111816, -8.818400382995605, -7.690700054168701, -8.933600425720215, -5.645500183105469, -6.659299850463867, -6.091000080108643, -8.626199722290039, -6.747700214385986, -9.094499588012695, -9.098299980163574, -9.108799934387207, -9.115400314331055, -5.76230001449585, -3.9061999320983887, -9.037699699401855, -9.237799644470215, -8.96030044555664, -9.277199745178223, -5.5233001708984375, -5.054699897766113, -5.728700160980225, -7.078199863433838, -7.312300205230713, -4.434700012207031, -4.9781999588012695, -5.333199977874756, -6.063499927520752, -6.216300010681152, -6.570400238037109, -7.208799839019775, -4.545400142669678, -6.119100093841553, -6.38040018081665, -6.538599967956543, -5.876500129699707, -5.751800060272217, -5.985599994659424, -6.605199813842773, -6.326900005340576, -5.411600112915039, -4.839000225067139, -6.351099967956543, -5.205100059509277, -5.1082000732421875, -6.009500026702881, -4.628399848937988, -4.942999839782715, -5.3582000732421875, -4.60699987411499, -5.358500003814697, -4.4207000732421875, -5.2804999351501465, -4.591899871826172, -4.597899913787842, -4.798500061035156, -4.580699920654297, -4.810699939727783, -4.770100116729736, -4.637700080871582, -5.147200107574463, -4.719600200653076, -5.069900035858154, -4.973700046539307, -5.2108001708984375, -5.167200088500977, -5.2058000564575195, -5.270100116729736, -5.329999923706055, -6.9618000984191895, -7.213099956512451, -7.65880012512207, -7.625, -7.001100063323975, -7.73390007019043, -7.696599960327148, -7.804599761962891, -7.112599849700928, -7.005899906158447, -7.99370002746582, -8.017499923706055, -8.15250015258789, -6.492300033569336, -7.830599784851074, -8.397500038146973, -8.41759967803955, -8.449299812316895, -6.157899856567383, -7.626999855041504, -8.547900199890137, -8.15369987487793, -8.574999809265137, -8.579899787902832, -8.13070011138916, -7.72730016708374, -6.046899795532227, -8.196999549865723, -8.54800033569336, -8.672499656677246, -6.8317999839782715, -7.250500202178955, -6.65939998626709, -7.399600028991699, -6.8790998458862305, -6.282599925994873, -6.146200180053711, -6.930200099945068, -6.841700077056885, -6.666100025177002, -6.326300144195557, -5.106299877166748, -6.809100151062012, -6.588099956512451, -5.941199779510498, -6.2403998374938965, -5.143099784851074, -6.343800067901611, -6.413099765777588, -6.848299980163574, -5.671199798583984, -5.8927001953125, -5.403299808502197, -5.63670015335083, -4.51200008392334, -4.651100158691406, -4.578800201416016, -4.626999855041504, -5.871399879455566, -4.84119987487793, -4.693900108337402, -5.884500026702881, -5.456500053405762, -4.942299842834473, -4.833099842071533, -4.926499843597412, -5.246200084686279, -5.007500171661377, -5.058300018310547, -5.175300121307373, -5.3282999992370605, -5.32889986038208, -5.343299865722656, -5.455599784851074, -5.222400188446045, -5.3958001136779785, -5.390999794006348, -5.496799945831299, -5.379300117492676, -5.418799877166748, -5.5295000076293945, -5.4191999435424805, -5.5005998611450195, -5.472899913787842, -5.486400127410889, -6.931300163269043, -7.030300140380859, -7.274400234222412, -7.347400188446045, -7.390699863433838, -7.451399803161621, -6.554599761962891, -7.568999767303467, -7.39870023727417, -7.309999942779541, -7.4045000076293945, -7.678299903869629, -7.59630012512207, -7.717800140380859, -7.7270002365112305, -7.778299808502197, -7.791600227355957, -4.849299907684326, -7.662399768829346, -7.852499961853027, -7.9328999519348145, -7.182400226593018, -8.00529956817627, -8.07229995727539, -7.228400230407715, -7.964600086212158, -6.175000190734863, -8.15429973602295, -8.181099891662598, -8.236000061035156, -7.089200019836426, -7.078999996185303, -6.424300193786621, -6.977700233459473, -6.2393999099731445, -6.649799823760986, -6.395100116729736, -6.6819000244140625, -5.533400058746338, -6.375699996948242, -6.305200099945068, -6.638899803161621, -5.411300182342529, -6.185400009155273, -6.328800201416016, -6.1194000244140625, -6.20419979095459, -6.084499835968018, -6.516900062561035, -6.404799938201904, -6.1905999183654785, -4.46999979019165, -4.959199905395508, -5.0833001136779785, -4.949900150299072, -4.582600116729736, -5.770999908447266, -4.771399974822998, -5.211599826812744, -5.535900115966797, -5.4959001541137695, -4.794300079345703, -4.845699787139893, -4.786600112915039, -5.487199783325195, -5.2027997970581055, -5.316199779510498, -5.469200134277344, -5.2733001708984375, -5.111299991607666, -5.3155999183654785, -5.188600063323975, -5.394800186157227, -5.296299934387207, -5.443399906158447, -5.418799877166748, -5.3831000328063965, -5.677800178527832, -5.411399841308594, -5.502399921417236, -4.902200222015381, -5.814599990844727, -5.309599876403809, -6.606299877166748, -6.717899799346924, -6.757900238037109, -6.838099956512451, -6.887700080871582, -6.889100074768066, -6.892300128936768, -6.573400020599365, -6.950799942016602, -7.072000026702881, -7.075900077819824, -7.043099880218506, -7.123799800872803, -6.230100154876709, -7.1427998542785645, -7.11460018157959, -7.213600158691406, -7.245100021362305, -7.312699794769287, -6.228000164031982, -6.536200046539307, -7.396500110626221, -7.498199939727783, -7.562600135803223, -6.066800117492676, -7.662899971008301, -6.554200172424316, -6.237299919128418, -5.9868998527526855, -5.798900127410889, -5.365600109100342, -6.193399906158447, -6.583199977874756, -5.847599983215332, -5.791100025177002, -5.849800109863281, -5.342899799346924, -5.684899806976318, -5.892000198364258, -6.374300003051758, -5.195099830627441, -5.98799991607666, -5.00600004196167, -5.142499923706055, -5.7820000648498535, -5.223800182342529, -5.966000080108643, -5.887400150299072, -5.490799903869629, -4.8302001953125, -5.358799934387207, -5.772600173950195, -5.703499794006348, -4.344099998474121, -4.864500045776367, -5.184700012207031, -5.155799865722656, -5.243800163269043, -5.445899963378906, -4.759200096130371, -5.57289981842041, -4.801000118255615, -5.308499813079834, -4.872000217437744, -5.086699962615967, -5.105400085449219, -5.088799953460693, -5.039299964904785, -4.997099876403809, -5.098299980163574, -5.083099842071533, -5.257299900054932, -5.2789998054504395, -5.333600044250488, -5.3632001876831055, -5.832900047302246, -4.50570011138916, -5.882400035858154, -6.557499885559082, -6.769400119781494, -6.855500221252441, -6.099599838256836, -7.216700077056885, -7.416399955749512, -7.534299850463867, -6.161300182342529, -7.396699905395508, -7.259200096130371, -7.539999961853027, -7.674300193786621, -3.5439000129699707, -7.785900115966797, -6.157700061798096, -7.925300121307373, -6.787099838256836, -7.21120023727417, -5.710599899291992, -8.15880012512207, -8.15250015258789, -8.165499687194824, -8.231200218200684, -5.121600151062012, -3.9707000255584717, -4.075399875640869, -7.313799858093262, -5.2631001472473145, -6.786900043487549, -5.526199817657471, -3.8738999366760254, -3.8008999824523926, -5.701700210571289, -5.992599964141846, -4.56879997253418, -4.1203999519348145, -5.25570011138916, -5.929500102996826, -4.6620001792907715, -4.576700210571289, -6.257299900054932, -5.903800010681152, -5.195099830627441, -4.564499855041504, -5.135200023651123, -5.3805999755859375, -4.487100124359131, -5.091400146484375, -5.383299827575684, -4.833600044250488, -5.200900077819824, -5.330999851226807, -5.252399921417236, -4.6855998039245605, -4.941199779510498, -5.149600028991699, -4.701700210571289, -4.6570000648498535, -4.725299835205078, -4.770199775695801, -4.850599765777588, -4.9934000968933105, -4.939000129699707, -4.936399936676025, -4.981599807739258, -5.052199840545654, -5.061399936676025, -5.126100063323975, -5.113699913024902, -5.111499786376953, -6.031499862670898, -6.227200031280518, -4.4770002365112305, -5.487100124359131, -6.733399868011475, -6.904600143432617, -6.225399971008301, -6.942800045013428, -5.952300071716309, -7.036399841308594, -7.032700061798096, -7.0457000732421875, -7.1168999671936035, -7.140600204467773, -7.16949987411499, -6.823500156402588, -5.578499794006348, -7.399899959564209, -7.431000232696533, -6.1743998527526855, -6.742400169372559, -7.559000015258789, -7.649099826812744, -7.715099811553955, -6.596799850463867, -7.117700099945068, -7.797100067138672, -7.347400188446045, -6.806000232696533, -6.1107001304626465, -6.040800094604492, -5.792900085449219, -4.236199855804443, -6.110899925231934, -5.343500137329102, -4.631400108337402, -5.298900127410889, -5.8618998527526855, -6.465099811553955, -5.7891998291015625, -5.560100078582764, -5.934299945831299, -4.334099769592285, -5.978099822998047, -5.437099933624268, -4.770599842071533, -5.062600135803223, -4.802999973297119, -4.525100231170654, -5.6722002029418945, -4.76039981842041, -5.6554999351501465, -4.780799865722656, -4.470300197601318, -4.893899917602539, -5.003399848937988, -4.80079984664917, -5.554500102996826, -5.452199935913086, -4.967400074005127, -4.84630012512207, -4.749899864196777, -5.038099765777588, -4.671999931335449, -4.818399906158447, -4.776199817657471, -4.71120023727417, -4.973400115966797, -4.826399803161621, -5.161399841308594, -5.18720006942749, -5.158699989318848, -5.190999984741211, -5.253499984741211, -5.282299995422363, -4.962800025939941, -5.384900093078613, -5.607399940490723, -5.82450008392334, -5.860499858856201, -5.968599796295166, -5.979700088500977, -5.964900016784668, -6.089600086212158, -6.138999938964844, -4.097899913787842, -6.289299964904785, -6.149899959564209, -5.98769998550415, -6.68720006942749, -4.93779993057251, -6.651700019836426, -5.873199939727783, -6.634699821472168, -5.718599796295166, -4.999000072479248, -6.987299919128418, -6.952099800109863, -7.059100151062012, -6.548600196838379, -4.8694000244140625, -7.292200088500977, -5.5278000831604, -6.385300159454346, -5.595300197601318, -5.661499977111816, -4.354000091552734, -5.121399879455566, -5.678100109100342, -5.352499961853027, -4.695700168609619, -5.434599876403809, -5.5391998291015625, -5.520199775695801, -5.125400066375732, -4.736999988555908, -4.557499885559082, -5.325099945068359, -5.345699787139893, -5.470699787139893, -5.362599849700928, -5.701399803161621, -5.093200206756592, -4.551499843597412, -4.807300090789795, -4.8993000984191895, -5.215199947357178, -5.2546000480651855, -5.119100093841553, -5.249499797821045, -5.186100006103516, -5.095699787139893, -5.200099945068359, -5.247300148010254, -5.272900104522705, -5.2692999839782715, -5.375999927520752, -3.6879000663757324, -4.779799938201904, -4.918700218200684, -4.944499969482422, -4.92579984664917, -5.089799880981445, -5.256100177764893, -5.121399879455566, -5.39109992980957, -5.439700126647949, -5.49429988861084, -5.591599941253662, -5.722599983215332, -5.7316999435424805, -5.754799842834473, -5.8618998527526855, -4.3171000480651855, -5.915999889373779, -4.815499782562256, -6.329599857330322, -6.38670015335083, -6.429599761962891, -5.211999893188477, -5.8643999099731445, -6.360400199890137, -6.48330020904541, -4.543000221252441, -6.474800109863281, -5.893499851226807, -5.470300197601318, -4.10860013961792, -5.0929999351501465, -5.149499893188477, -4.962900161743164, -4.651000022888184, -5.097899913787842, -5.061399936676025, -4.498899936676025, -4.720200061798096, -4.815299987792969, -4.411300182342529, -5.094699859619141, -4.81689977645874, -4.706399917602539, -4.445099830627441, -5.140100002288818, -4.926599979400635, -5.303699970245361, -3.922300100326538, -4.627799987792969, -4.804800033569336, -4.909200191497803, -4.595099925994873, -4.97130012512207, -5.304200172424316, -5.379899978637695, -5.651400089263916, -5.736999988555908, -5.91949987411499, -5.95989990234375, -4.331900119781494, -6.166600227355957, -6.2494001388549805, -6.259099960327148, -6.009200096130371, -6.347400188446045, -6.377500057220459, -6.3907999992370605, -6.4517998695373535, -5.436999797821045, -6.404300212860107, -6.563300132751465, -5.8618998527526855, -6.390100002288818, -5.7307000160217285, -5.5524001121521, -6.74560022354126, -5.268199920654297, -5.119800090789795, -5.532700061798096, -4.817599773406982, -4.607999801635742, -5.571599960327148, -6.07859992980957, -5.157899856567383, -4.787499904632568, -5.569200038909912, -5.151299953460693, -5.774700164794922, -4.851399898529053, -4.730500221252441, -4.106599807739258, -4.907299995422363, -5.518799781799316, -5.103700160980225, -5.118500232696533, -5.070000171661377, -5.289100170135498, -4.7281999588012695, -5.32420015335083, -5.3078999519348145, -5.367400169372559, -5.186699867248535, -5.294000148773193, -5.353000164031982, -3.5190000534057617, -4.61899995803833, -4.692699909210205, -4.7347002029418945, -4.829699993133545, -4.89169979095459, -5.092899799346924, -4.465000152587891, -5.319499969482422, -5.461699962615967, -2.305500030517578, -3.658600091934204, -5.079100131988525, -5.8850998878479, -5.433800220489502, -5.978899955749512, -6.001200199127197, -6.031000137329102, -4.689499855041504, -5.812399864196777, -5.8805999755859375, -5.455599784851074, -5.458700180053711, -6.473400115966797, -5.343299865722656, -6.593900203704834, -6.755499839782715, -6.834499835968018, -6.176199913024902, -6.854300022125244, -5.945799827575684, -5.181700229644775, -4.432199954986572, -5.247200012207031, -5.269499778747559, -5.016600131988525, -5.069200038909912, -5.582399845123291, -5.2870001792907715, -5.444399833679199, -4.950799942016602, -5.122700214385986, -5.255899906158447, -4.919600009918213, -5.06820011138916, -4.917300224304199, -5.230800151824951, -5.230500221252441, -5.356299877166748, -3.7279999256134033, -3.288800001144409, -3.9653000831604004, -4.683000087738037, -4.697400093078613, -4.682199954986572, -4.950500011444092, -4.9857001304626465, -3.1637001037597656, -3.43149995803833, -4.508399963378906, -5.406499862670898, -5.460899829864502, -5.47629976272583, -5.489099979400635, -5.5152997970581055, -5.524600028991699, -5.625400066375732, -4.7204999923706055, -5.78249979019165, -4.699900150299072, -3.790299892425537, -5.296000003814697, -4.865600109100342, -6.188300132751465, -6.2555999755859375, -4.621399879455566, -6.396399974822998, -5.975399971008301, -4.849400043487549, -3.424299955368042, -4.2108001708984375, -3.044100046157837, -4.761199951171875, -4.306000232696533, -4.405900001525879, -3.4154999256134033, -4.7052998542785645, -5.078400135040283, -4.734799861907959, -4.65500020980835, -4.276000022888184, -4.713399887084961, -3.5129001140594482, -4.208899974822998, -4.309299945831299, -3.402600049972534, -4.9004998207092285, -5.004199981689453, -4.399199962615967, -5.099699974060059, -5.541800022125244, -5.1631999015808105, -2.9149999618530273, -5.96019983291626, -5.993000030517578, -6.094200134277344, -6.265500068664551, -3.4702999591827393, -6.059700012207031, -4.785999774932861, -6.595300197601318, -4.234600067138672, -3.8768999576568604, -4.621200084686279, -4.105100154876709, -5.904399871826172, -5.864500045776367, -6.730199813842773, -5.398399829864502, -5.948800086975098, -5.798299789428711, -5.082600116729736, -4.730100154876709, -5.208799839019775, -4.031300067901611, -4.143599987030029, -3.8884999752044678, -4.188000202178955, -5.100399971008301, -4.195799827575684, -5.166800022125244, -4.890500068664551, -4.662099838256836, -4.44350004196167, -4.383800029754639, -4.696599960327148, -4.923900127410889, -3.569999933242798, -3.9788999557495117, -3.003499984741211, -4.815800189971924, -5.0071001052856445, -5.247900009155273, -3.033400058746338, -4.353899955749512, -5.644000053405762, -5.074699878692627, -5.910299777984619, -2.97760009765625, -6.121300220489502, -6.127699851989746, -6.161300182342529, -5.506199836730957, -6.211400032043457, -6.330900192260742, -6.250500202178955, -6.367099761962891, -5.122799873352051, -4.885300159454346, -6.59630012512207, -6.339399814605713, -5.479100227355957, -4.964600086212158, -6.6149001121521, -4.729400157928467, -5.399499893188477, -4.157299995422363, -4.417699813842773, -4.166999816894531, -4.6620001792907715, -5.074399948120117, -4.492099761962891, -4.832699775695801, -4.38730001449585, -5.65339994430542, -5.673999786376953, -5.132699966430664, -5.2779998779296875, -4.565700054168701, -5.204800128936768, -5.138199806213379, -5.24970006942749, -5.234600067138672, -4.134699821472168, -4.326300144195557, -4.592700004577637, -4.4446001052856445, -4.531400203704834, -4.514500141143799, -4.788899898529053, -5.4116997718811035, -5.326000213623047, -5.70389986038208, -5.799699783325195, -5.706999778747559, -5.911499977111816, -5.9608001708984375, -6.031400203704834, -6.0447998046875, -5.9492998123168945, -3.9504001140594482, -6.2565999031066895, -3.8907999992370605, -6.468599796295166, -5.46589994430542, -6.606299877166748, -3.8290998935699463, -6.714700222015381, -5.149499893188477, -5.056600093841553, -5.573500156402588, -6.10230016708374, -4.892199993133545, -5.8470001220703125, -5.089700222015381, -5.559100151062012, -4.108399868011475, -4.035699844360352, -5.574100017547607, -4.372499942779541, -5.0680999755859375, -4.741600036621094, -5.195000171661377, -4.696800231933594, -5.116600036621094, -5.108500003814697, -4.667799949645996, -5.275899887084961, -4.74459981918335, -5.036499977111816, -5.270699977874756, -5.119500160217285, -5.224999904632568, -4.279200077056885, -4.486000061035156, -4.669099807739258, -4.622399806976318, -4.619100093841553, -5.0258002281188965, -4.400000095367432, -5.582600116729736, -5.586100101470947, -5.610799789428711, -5.639200210571289, -5.325300216674805, -5.796299934387207, -4.232399940490723, -4.343299865722656, -4.651100158691406, -6.089300155639648, -4.9039998054504395, -6.172100067138672, -4.216000080108643, -6.200200080871582, -5.749300003051758, -5.085299968719482, -6.2866997718811035, -5.73960018157959, -6.520599842071533, -5.94350004196167, -5.718400001525879, -5.551300048828125, -6.898200035095215, -3.8877999782562256, -2.7527999877929688, -2.8059000968933105, -4.418799877166748, -4.874199867248535, -5.223800182342529, -4.841800212860107, -5.144400119781494, -5.299200057983398, -4.773399829864502, -5.166999816894531, -5.20359992980957, -5.230599880218506, -5.397600173950195, -5.454599857330322, -5.5229997634887695, -5.496200084686279, -3.643899917602539, -3.7011001110076904, -3.7567999362945557, -3.8066999912261963, -4.059999942779541, -4.026500225067139, -4.06279993057251, -4.6269001960754395, -4.74970006942749, -4.856800079345703, -4.936800003051758, -3.7683000564575195, -5.146299839019775, -5.207600116729736, -5.331600189208984, -5.336299896240234, -3.9054999351501465, -4.785399913787842, -5.79580020904541, -5.940499782562256, -3.8701000213623047, -5.372300148010254, -6.142499923706055, -6.221099853515625, -4.214200019836426, -5.184100151062012, -6.545599937438965, -5.772900104522705, -5.02810001373291, -4.428699970245361, -4.68120002746582, -4.475500106811523, -4.095099925994873, -4.903600215911865, -4.452400207519531, -4.44890022277832, -4.845699787139893, -4.031599998474121, -4.49560022354126, -4.978300094604492, -4.957600116729736, -5.021699905395508, -3.6433000564575195, -3.8606998920440674, -4.138800144195557, -4.327499866485596, -4.43779993057251, -4.640200138092041, -4.992000102996826, -5.012899875640869, -5.263999938964844, -5.3069000244140625, -5.428999900817871, -4.411799907684326, -4.228499889373779, -5.2631001472473145, -5.651800155639648, -5.891200065612793, -3.884700059890747, -5.164599895477295, -4.137899875640869, -5.22790002822876, -6.0005998611450195, -4.116700172424316, -4.806099891662598, -4.907299995422363, -4.421000003814697, -5.664400100708008, -4.0381999015808105, -6.187399864196777, -6.684700012207031, -4.881199836730957, -3.8803999423980713, -5.2382001876831055, -4.321899890899658, -5.201600074768066, -4.804699897766113, -4.347700119018555, -4.925300121307373, -4.981299877166748, -5.192599773406982, -5.0065999031066895, -5.217100143432617, -3.1166000366210938, -3.476099967956543, -3.5511999130249023, -3.891700029373169, -4.868500232696533, -5.017300128936768, -5.463200092315674, -4.2307000160217285, -2.6396000385284424, -5.628200054168701, -3.8907999992370605, -5.635300159454346, -3.4688000679016113, -4.246099948883057, -6.349699974060059, -4.334000110626221, -4.473499774932861, -6.462399959564209, -4.08620023727417, -4.447500228881836, -6.35699987411499, -5.752299785614014, -6.986199855804443, -3.620500087738037, -7.134900093078613, -4.618100166320801, -5.210100173950195, -5.881999969482422, -6.017000198364258, -3.9175000190734863, -5.058700084686279, -4.869100093841553, -4.410299777984619, -5.294099807739258, -5.153500080108643, -5.607900142669678, -5.0106000900268555, -5.104700088500977, -5.126500129699707, -5.5015997886657715]}, \"token.table\": {\"Topic\": [6, 10, 15, 16, 1, 2, 3, 4, 3, 8, 10, 5, 8, 15, 4, 15, 4, 16, 4, 6, 1, 2, 3, 4, 5, 6, 7, 8, 13, 16, 1, 2, 3, 4, 7, 8, 10, 1, 2, 3, 4, 4, 5, 8, 3, 6, 8, 10, 17, 4, 15, 10, 11, 14, 9, 6, 1, 2, 3, 4, 5, 6, 7, 8, 3, 1, 2, 3, 4, 5, 6, 7, 8, 9, 11, 12, 14, 15, 17, 19, 1, 2, 3, 5, 6, 7, 8, 9, 10, 11, 14, 17, 12, 1, 4, 5, 7, 8, 10, 11, 2, 4, 5, 10, 5, 12, 17, 15, 1, 5, 6, 9, 12, 12, 10, 1, 2, 3, 4, 5, 6, 7, 8, 9, 10, 11, 12, 13, 14, 15, 16, 17, 18, 19, 20, 8, 14, 1, 2, 3, 4, 5, 6, 7, 8, 9, 10, 11, 12, 13, 15, 16, 17, 18, 19, 6, 10, 11, 15, 10, 16, 1, 2, 3, 4, 5, 6, 7, 8, 9, 10, 11, 12, 15, 16, 17, 19, 20, 9, 15, 1, 2, 3, 4, 5, 6, 7, 8, 9, 10, 11, 12, 13, 14, 15, 16, 17, 18, 19, 20, 1, 3, 4, 11, 13, 15, 16, 3, 5, 6, 6, 9, 10, 13, 17, 1, 2, 3, 4, 5, 6, 7, 8, 9, 10, 11, 15, 16, 17, 19, 2, 4, 5, 7, 8, 9, 5, 9, 19, 10, 3, 5, 8, 3, 4, 6, 11, 19, 8, 9, 6, 8, 10, 3, 1, 3, 8, 1, 2, 3, 4, 5, 6, 7, 8, 10, 11, 1, 3, 4, 5, 6, 9, 10, 4, 5, 6, 8, 12, 15, 16, 1, 11, 14, 1, 2, 3, 4, 5, 6, 7, 8, 9, 10, 11, 12, 13, 15, 16, 17, 19, 20, 5, 12, 15, 1, 3, 5, 6, 9, 14, 18, 7, 10, 1, 2, 4, 5, 6, 9, 19, 1, 6, 7, 8, 18, 2, 6, 8, 10, 16, 2, 11, 1, 2, 3, 4, 5, 6, 7, 8, 9, 10, 11, 12, 13, 15, 16, 17, 18, 19, 7, 19, 1, 4, 5, 6, 11, 1, 2, 3, 4, 5, 6, 7, 8, 11, 17, 8, 1, 2, 3, 4, 5, 6, 11, 17, 5, 4, 8, 16, 4, 6, 12, 18, 1, 1, 2, 3, 6, 9, 10, 11, 12, 18, 7, 1, 2, 3, 4, 5, 6, 7, 8, 9, 10, 11, 12, 17, 1, 18, 10, 19, 13, 5, 9, 8, 9, 19, 1, 2, 6, 13, 1, 2, 3, 4, 5, 6, 7, 8, 9, 10, 11, 12, 13, 14, 15, 16, 17, 18, 19, 20, 1, 2, 3, 4, 5, 6, 7, 8, 9, 10, 11, 12, 15, 16, 17, 18, 20, 2, 4, 5, 7, 1, 17, 9, 10, 12, 1, 2, 3, 4, 5, 6, 7, 8, 18, 1, 2, 3, 4, 5, 6, 7, 8, 9, 11, 12, 3, 7, 9, 10, 13, 17, 6, 7, 12, 18, 2, 3, 4, 6, 1, 9, 11, 3, 4, 5, 6, 9, 11, 1, 2, 3, 4, 5, 6, 9, 1, 3, 4, 5, 6, 9, 11, 17, 19, 1, 4, 20, 7, 3, 5, 15, 3, 1, 3, 5, 6, 4, 6, 1, 2, 3, 4, 5, 6, 7, 8, 9, 11, 12, 16, 17, 19, 9, 9, 12, 1, 2, 4, 6, 7, 8, 19, 3, 1, 19, 1, 8, 16, 6, 16, 20, 9, 17, 8, 13, 1, 5, 16, 6, 11, 1, 3, 5, 6, 9, 12, 15, 17, 9, 10, 13, 1, 5, 7, 9, 4, 1, 2, 3, 4, 5, 6, 7, 8, 9, 10, 11, 12, 13, 15, 16, 17, 18, 19, 4, 19, 5, 7, 12, 1, 2, 3, 4, 5, 6, 7, 8, 9, 10, 11, 12, 14, 15, 16, 17, 18, 19, 8, 6, 1, 2, 3, 4, 5, 6, 7, 8, 9, 10, 11, 15, 16, 12, 2, 3, 8, 1, 2, 3, 4, 5, 11, 1, 5, 6, 9, 10, 11, 12, 13, 14, 15, 18, 19, 11, 12, 1, 3, 4, 5, 6, 9, 10, 11, 12, 13, 14, 15, 16, 17, 18, 19, 20, 6, 9, 15, 18, 4, 18, 1, 3, 5, 6, 9, 11, 14, 10, 11, 6, 9, 14, 20, 12, 14, 5, 14, 20, 1, 3, 4, 8, 9, 15, 18, 17, 1, 3, 4, 5, 6, 9, 10, 11, 20, 1, 2, 3, 5, 6, 11, 20, 4, 5, 6, 16, 19, 1, 4, 5, 8, 8, 6, 8, 9, 13, 1, 2, 3, 4, 5, 1, 2, 3, 4, 5, 6, 8, 16, 20, 4, 1, 2, 3, 4, 5, 6, 7, 8, 9, 11, 12, 13, 14, 15, 16, 17, 4, 12, 2, 1, 2, 3, 4, 5, 7, 16, 1, 2, 3, 4, 5, 7, 8, 16, 5, 1, 2, 3, 4, 6, 7, 8, 5, 10, 15, 16, 1, 2, 3, 4, 5, 6, 7, 8, 10, 11, 3, 3, 1, 5, 9, 11, 12, 13, 14, 15, 2, 3, 4, 1, 2, 4, 8, 1, 2, 4, 5, 7, 8, 1, 2, 3, 4, 5, 6, 7, 7, 19, 18, 16, 2, 3, 4, 6, 9, 10, 15, 16, 17, 18, 3, 15, 20, 1, 13, 1, 2, 3, 4, 5, 6, 8, 1, 2, 9, 10, 19, 3, 8, 10, 17, 4, 5, 8, 5, 10, 15, 8, 10, 17, 13, 11, 16, 2, 4, 3, 5, 15, 4, 13, 2, 3, 6, 8, 5, 14, 18, 1, 4, 5, 12, 18, 1, 3, 4, 5, 6, 9, 10, 15, 7, 9, 10, 11, 17, 19, 19, 18, 8, 1, 5, 18, 7, 11, 6, 3, 6, 8, 9, 13, 10, 10, 18, 13, 1, 6, 15, 20, 1, 2, 3, 4, 5, 6, 7, 9, 11, 12, 13, 15, 16, 17, 18, 19, 1, 2, 3, 4, 5, 10, 11, 12, 13, 15, 1, 2, 3, 4, 6, 7, 8, 12, 17, 20, 4, 4, 8, 11, 1, 3, 4, 6, 1, 4, 7, 16, 1, 2, 3, 4, 5, 6, 9, 11, 12, 6, 10, 11, 3, 7, 11, 2, 17, 16, 3, 6, 8, 9, 10, 11, 12, 16, 17, 19, 10, 1, 3, 4, 8, 18, 16, 2, 3, 8, 1, 2, 3, 4, 5, 6, 7, 8, 16, 7, 13, 20, 1, 2, 3, 6, 9, 15, 7, 5, 4, 5, 8, 10, 17, 13, 12, 13, 17, 4, 5, 4, 6, 7, 8, 11, 19, 6, 6, 2, 4, 1, 2, 3, 4, 5, 8, 16, 4, 4, 17, 1, 2, 3, 4, 5, 6, 7, 8, 9, 10, 11, 12, 13, 14, 15, 16, 17, 18, 19, 20, 6, 15, 2, 3, 4, 6, 12, 19, 6, 7, 20, 7, 1, 2, 4, 6, 9, 14, 6, 13, 16, 18, 1, 3, 4, 5, 6, 7, 9, 12, 13, 1, 17, 1, 8, 1, 2, 4, 5, 15, 16, 6, 14, 3, 5, 6, 10, 11, 13, 14, 1, 2, 3, 4, 5, 6, 8, 9, 12, 16, 17, 18, 19, 1, 3, 4, 5, 6, 7, 9, 2, 4, 10, 15, 4, 1, 2, 3, 4, 5, 7, 8, 11, 16, 9, 10, 8, 10, 11, 12, 1, 2, 3, 4, 5, 7, 8, 16, 2, 7, 6, 12, 5, 2, 3, 4, 6, 7, 8, 1, 2, 8, 13, 16, 1, 2, 3, 4, 5, 7, 8, 1, 2, 4, 6, 7, 10, 11, 12, 13, 15, 17, 18, 19, 2, 5, 10, 5, 1, 11, 13, 16, 19, 1, 2, 3, 4, 5, 6, 7, 8, 10, 12, 15, 16, 2, 5, 10, 15, 10, 19, 1, 2, 3, 4, 5, 11, 14, 1, 2, 3, 4, 5, 7, 8, 1, 3, 4, 5, 8, 9, 3, 7, 3, 7, 1, 2, 4, 5, 6, 1, 2, 3, 4, 5, 6, 8, 1, 3, 4, 5, 6, 7, 9, 10, 11, 2, 1, 2, 3, 4, 5, 6, 8, 6, 12, 1, 6, 7, 10, 12, 7, 19, 2, 4, 5, 8, 10, 1, 2, 3, 4, 5, 6, 7, 8, 11, 1, 2, 3, 4, 5, 6, 7, 8, 11, 13, 15, 5, 1, 10, 1, 2, 3, 4, 5, 6, 7, 8, 16, 19, 15, 2, 3, 4, 8, 16, 10, 1, 2, 3, 4, 5, 6, 7, 8, 11, 9, 1, 2, 3, 4, 8, 1, 3, 4, 5, 9, 15, 4, 6, 8, 11, 18, 1, 2, 3, 4, 5, 6, 7, 8, 10, 11, 15, 17, 17, 1, 2, 3, 5, 6, 9, 12, 15, 17, 8, 9, 1, 2, 3, 4, 5, 6, 7, 9, 11, 12, 17, 3, 11, 1, 2, 3, 4, 5, 6, 7, 8, 11, 16, 19, 2, 3, 14, 16, 1, 7, 13, 1, 2, 3, 4, 5, 6, 8, 11, 13, 16, 9, 3, 13, 2, 3, 4, 8, 1, 2, 3, 4, 5, 6, 9, 3, 6, 11, 4, 15, 18, 14, 1, 2, 10, 18, 2, 4, 11, 13, 16, 17, 19, 4, 6, 8, 11, 15, 18, 20, 1, 6, 11, 12, 18, 19, 1, 2, 3, 4, 5, 6, 7, 8, 10, 11, 1, 16, 1, 14, 17, 2, 6, 7, 20, 11, 12, 15, 17, 2, 7, 15, 17, 5, 1, 2, 3, 4, 5, 6, 7, 8, 9, 10, 11, 12, 13, 14, 15, 16, 17, 19, 5, 9, 5, 9, 14, 18, 11, 9, 14, 19, 1, 2, 3, 4, 5, 6, 7, 8, 16, 2, 4, 8, 10, 8, 6, 18, 16, 19, 11, 1, 2, 3, 4, 5, 6, 7, 8, 9, 11, 12, 15, 17, 19, 1, 2, 3, 4, 5, 6, 7, 8, 9, 10, 11, 12, 15, 17, 19, 1, 2, 3, 4, 5, 9, 10, 1, 2, 3, 4, 5, 6, 7, 10, 15, 3, 19, 6, 20, 6, 19, 5, 4, 5, 8, 13, 8, 2, 12, 15, 6, 20, 11, 1, 2, 3, 4, 5, 6, 7, 11, 4, 15, 17, 3, 11, 18, 2, 5, 1, 5, 6, 7, 9, 11, 1, 5, 7, 9, 12, 14, 16, 3, 7, 9, 12, 16, 18, 1, 2, 3, 4, 5, 6, 7, 8, 9, 10, 11, 12, 13, 14, 15, 16, 17, 18, 19, 1, 5, 20, 3, 5, 6, 7, 9, 12, 15, 17, 19, 1, 6, 8, 10, 13, 19, 19, 1, 2, 4, 6, 7, 13, 17, 9, 8, 10, 18, 1, 2, 3, 4, 5, 6, 7, 8, 9, 10, 11, 12, 14, 17, 1, 4, 9, 11, 17, 9, 10, 19, 1, 15, 11, 14, 2, 3, 4, 6, 7, 9, 11, 12, 15, 17, 1, 6, 11, 13, 19, 1, 10, 3, 5, 15, 2, 9, 15, 1, 2, 3, 4, 5, 6, 7, 8, 9, 10, 11, 12, 13, 14, 15, 16, 17, 9, 10, 11, 12, 15, 18, 20, 1, 11, 5, 20, 1, 2, 3, 4, 5, 6, 7, 8, 10, 16, 1, 3, 4, 7, 20, 5, 2, 12, 1, 2, 3, 4, 5, 7, 8, 16, 5, 11, 1, 3, 5, 8, 1, 6, 11, 1, 2, 3, 4, 5, 6, 7, 8, 9, 10, 11, 12, 13, 15, 16, 17, 18, 19, 16, 1, 2, 3, 4, 5, 6, 8, 13, 15, 3, 9, 2, 15, 5, 15, 1, 2, 3, 4, 5, 6, 7, 8, 9, 10, 11, 12, 13, 14, 15, 16, 17, 18, 19, 20, 11, 1, 3, 1, 6, 15, 2, 11, 2, 5, 10, 15, 1, 2, 3, 4, 5, 8, 1, 2, 4, 1, 4, 8, 20, 6, 19, 1, 2, 4, 6, 10, 4, 13, 2, 7, 9, 16, 3, 8, 15, 8, 1, 2, 4, 1, 17, 10, 16, 4, 9, 18, 12, 1, 2, 3, 4, 7, 19, 1, 3, 1, 2, 3, 4, 5, 6, 7, 8, 9, 10, 11, 12, 15, 16, 17, 19, 3, 8, 16, 6, 11, 4, 5, 5, 1, 17, 14, 7, 13, 13, 17, 3, 4, 5, 6, 7, 8, 9, 10, 12, 13, 16, 17, 18, 10, 12, 11, 1, 3, 5, 6, 9, 11, 12, 17, 13, 1, 2, 3, 4, 5, 6, 7, 8, 9, 10, 11, 12, 14, 15, 16, 17, 18, 19, 1, 2, 3, 4, 5, 6, 7, 8, 9, 11, 12, 1, 5, 6, 9, 10, 11, 14, 15, 18, 20, 14, 1, 13, 1, 19, 7, 16, 7, 19, 11, 18, 3, 5, 11, 15, 3, 6, 13, 15, 1, 2, 3, 5, 6, 7, 8, 9, 10, 13, 17, 7, 18, 3, 12, 6, 1, 2, 3, 4, 5, 6, 7, 9, 10, 11, 12, 13, 14, 15, 18, 2, 3, 9, 12, 11, 14, 1, 3, 4, 5, 8, 10, 15, 5, 11, 12, 20, 14, 1, 3, 7, 10, 19, 1, 4, 6, 9, 4, 9, 15, 1, 3, 4, 5, 6, 7, 8, 9, 10, 11, 12, 14, 16, 17, 19, 9, 14, 5, 9, 10, 12, 14, 15, 1, 14, 11, 13, 12, 7, 17, 1, 2, 4, 1, 2, 1, 2, 3, 4, 5, 6, 7, 8, 9, 10, 11, 12, 15, 16, 17, 19, 14, 7, 1, 2, 3, 4, 5, 6, 7, 8, 9, 10, 11, 12, 13, 14, 15, 16, 17, 18, 19, 3, 10, 11, 15, 16, 1, 2, 3, 5, 6, 8, 10, 11, 3, 17, 6, 20, 1, 2, 3, 4, 5, 6, 7, 9, 10, 11, 12, 13, 14, 15, 16, 17, 18, 19, 20, 1, 2, 3, 4, 5, 6, 7, 8, 9, 10, 11, 12, 13, 14, 15, 16, 17, 19, 14, 13, 12, 13, 4, 5, 6, 8, 18, 19, 20, 7, 1, 2, 3, 4, 5, 6, 7, 8, 10, 1, 2, 3, 4, 5, 6, 7, 8, 10, 11, 15, 16, 3, 9, 12, 20, 1, 2, 3, 4, 5, 6, 7, 8, 10, 16, 19, 10, 1, 2, 4, 6, 7, 8, 11, 13, 4, 1, 2, 4, 5, 8, 11, 10, 2, 7, 9, 10, 1, 3, 4, 5, 6, 7, 1, 2, 3, 4, 5, 6, 7, 8, 9, 10, 11, 12, 15, 16, 17, 19, 5, 6, 7, 13, 8, 17, 9, 10, 15, 18, 1, 3, 4, 6, 7, 8, 11, 13, 15, 16, 19, 1, 2, 3, 5, 6, 9, 12, 16, 16, 8, 7, 11, 1, 2, 3, 4, 5, 6, 7, 8, 9, 10, 11, 12, 15, 16, 17, 19, 2, 6, 16, 19, 17, 1, 2, 3, 4, 5, 6, 7, 8, 9, 10, 11, 12, 15, 16, 17, 18, 19, 15, 9, 1, 2, 5, 6, 9, 1, 2, 3, 4, 5, 6, 7, 8, 10, 11, 13, 15, 16, 2, 11, 16, 1, 2, 3, 4, 5, 6, 7, 8, 6, 19, 2, 4, 8, 9, 2, 3, 14, 1, 3, 5, 6, 7, 12, 14, 20, 1, 2, 3, 4, 5, 6, 7, 8, 9, 10, 11, 12, 13, 15, 16, 17, 19, 6, 1, 2, 3, 4, 5, 6, 7, 8, 9, 10, 11, 12, 13, 14, 15, 16, 17, 18, 19, 20, 1, 2, 3, 4, 5, 6, 7, 8, 11, 11, 1, 2, 3, 4, 5, 8, 9, 15, 16, 1, 2, 3, 4, 5, 6, 7, 8, 10, 16, 19, 1, 2, 8, 13, 1, 3, 5, 3, 6, 18, 1, 2, 3, 4, 5, 5, 15, 3, 1, 2, 3, 4, 5, 6, 7, 8, 9, 10, 11, 12, 13, 14, 15, 16, 17, 18, 19, 20, 1, 2, 3, 4, 5, 6, 7, 9, 11, 1, 6, 17, 1, 2, 3, 4, 5, 6, 7, 8, 9, 10, 11, 12, 13, 14, 15, 16, 17, 18, 19, 20, 1, 2, 3, 4, 5, 6, 7, 8, 9, 10, 11, 12, 13, 14, 15, 16, 17, 19, 20, 9, 1, 2, 3, 4, 5, 6, 7, 8, 9, 10, 11, 12, 15, 16, 17, 19, 1, 19, 20, 1, 7, 8, 17, 1, 2, 5, 7, 8, 16, 19, 1, 2, 3, 4, 5, 6, 7, 8, 10, 11, 3, 8, 10, 1, 2, 3, 4, 5, 6, 7, 8, 9, 10, 11, 12, 13, 15, 16, 17, 19, 20, 4, 12, 8, 7, 5, 1, 2, 3, 4, 5, 6, 7, 8, 9, 10, 11, 12, 13, 14, 15, 16, 17, 18, 19, 11, 1, 2, 3, 4, 5, 6, 7, 8, 9, 10, 11, 12, 15, 16, 17, 18, 19, 3, 4, 7, 10, 11, 13, 15, 19, 12, 19, 10, 1, 2, 3, 4, 5, 6, 7, 8, 3, 4, 5, 6, 16, 7, 1, 3, 17, 15, 1, 2, 3, 4, 5, 6, 7, 8, 10, 11, 13, 15, 16, 19, 1, 2, 3, 4, 5, 6, 7, 8, 12, 16, 4, 19, 1, 4, 5, 6, 10, 11, 17, 1, 2, 3, 4, 5, 6, 7, 9, 10, 11, 12, 15, 17, 20, 1, 2, 3, 4, 5, 6, 7, 8, 9, 8, 13, 20, 4, 4, 1, 2, 3, 7, 15, 17, 13, 1, 2, 3, 4, 5, 7, 8, 2, 4, 5, 1, 3, 12, 17, 1, 2, 6, 8, 14, 7, 3, 5, 10, 11, 7, 11, 13, 7, 16, 1, 2, 3, 4, 5, 7, 8, 11, 16, 1, 14, 18, 19, 20, 10, 5, 2, 4, 8, 10, 10, 15, 8, 9, 11, 13, 15, 1, 4, 5, 6, 7, 9, 10, 17, 1, 3, 5, 6, 9, 6, 1, 3, 5, 8, 10, 11, 20, 2, 3, 4, 8, 16, 20, 13, 2, 4, 5, 16, 4, 10, 16, 11, 16, 2, 4, 6, 17, 2, 5, 6, 9, 10, 11, 12, 15, 8, 1, 2, 3, 4, 5, 6, 12, 1, 3, 4, 5, 8, 13, 2, 16, 3, 16, 16, 2, 4, 5, 10, 1, 2, 3, 4, 5, 6, 7, 8, 10, 11, 1, 7, 8, 10, 11, 16, 1, 2, 3, 4, 6, 8, 16, 18, 1, 1, 4, 9, 1, 4, 7, 10, 11, 18, 6, 7, 15, 2, 1, 2, 3, 4, 5, 10, 1, 2, 3, 4, 5, 6, 8, 11, 12, 13, 18, 1, 3, 9, 16, 1, 2, 3, 4, 5, 6, 7, 8, 10, 11, 19, 20, 12, 9, 11, 8, 4, 7, 16, 1, 5, 6, 10, 1, 2, 3, 4, 5, 6, 7, 8, 9, 10, 11, 12, 17, 4, 7, 9, 4, 3, 1, 3, 4, 14, 1, 2, 4, 5, 6, 8, 10, 11, 17, 1, 2, 3, 4, 5, 6, 7, 8, 10, 11, 13, 4, 14, 20, 5, 19, 1, 2, 3, 4, 5, 6, 8, 10, 15, 19, 1, 3, 4, 6, 9, 2, 5, 12, 15, 6, 17, 17, 10, 11, 15, 7, 10, 17, 6, 17, 3, 4, 11, 1, 19, 14, 4, 13, 15, 11, 18, 1, 2, 3, 4, 5, 6, 7, 8, 9, 10, 11, 12, 15, 16, 17, 10, 4, 11, 5, 9, 10, 12, 1, 3, 5, 6, 12, 13, 1, 11, 1, 6, 1, 2, 4, 5, 6, 8, 11, 12, 16, 18, 20, 1, 5, 9, 15, 17, 2, 5, 8, 10, 12, 18, 13, 1, 4, 15, 20, 9, 13, 6, 7, 16, 1, 2, 3, 4, 5, 6, 7, 8, 9, 10, 11, 12, 15, 16, 19, 17, 1, 18, 1, 2, 3, 4, 5, 6, 7, 8, 9, 10, 11, 12, 13, 14, 15, 16, 17, 18, 19, 20, 1, 3, 5, 6, 8, 11, 16, 1, 2, 3, 4, 5, 6, 7, 8, 9, 10, 11, 12, 16, 17, 18, 19, 5, 10, 2, 3, 4, 6, 7, 13, 19, 1, 2, 3, 4, 5, 7, 13, 2, 5, 8, 19, 1, 2, 3, 4, 5, 16, 3, 7, 9, 12, 18, 4, 9, 10, 15, 17, 1, 2, 3, 4, 5, 8, 16, 11, 13, 1, 2, 3, 4, 5, 6, 7, 8, 9, 10, 11, 12, 15, 17, 1, 4, 5, 6, 7, 9, 18, 6, 20, 14, 15, 3, 5, 16, 10, 6, 8, 12, 13, 20, 6, 1, 2, 3, 4, 5, 6, 7, 8, 9, 10, 11, 12, 13, 14, 15, 16, 17, 19, 2, 9, 10, 3, 6, 7, 5, 6, 13, 14, 20, 11, 13, 5, 8, 12, 1, 2, 3, 4, 5, 6, 8, 3, 5, 10, 15, 2, 4, 5, 15, 3, 4, 1, 2, 3, 4, 5, 7, 8, 11, 16, 4, 4, 5, 7, 11, 16, 1, 6, 9, 11, 12, 14, 16, 19, 6, 17, 3, 12, 18, 5, 5, 3, 11, 18, 3, 4, 19, 1, 4, 5, 9, 10, 11, 3, 4, 5, 8, 16, 20, 1, 2, 3, 4, 5, 6, 7, 8, 9, 10, 11, 12, 14, 15, 16, 17, 19, 5, 7, 8, 11, 14, 15, 16, 6, 16, 3, 8, 20, 1, 2, 3, 5, 6, 9, 12, 13, 15, 17, 1, 2, 3, 4, 5, 6, 11, 17, 19, 8, 20, 1, 2, 3, 4, 5, 9, 4, 1, 5, 12, 17, 1, 13, 1, 2, 3, 4, 7, 8, 10, 16, 4, 7, 8, 4, 19, 7, 16, 3, 6, 18, 2, 4, 5, 1, 3, 4, 5, 6, 7, 8, 9, 11, 12, 15, 17, 19, 5, 8, 6, 16, 19, 9, 1, 2, 3, 4, 5, 6, 7, 8, 9, 10, 11, 1, 5, 4, 5, 13, 9, 1, 2, 3, 5, 6, 9, 11, 18, 6, 9, 11, 14, 3, 7, 10, 12, 2, 3, 7, 6, 10, 14, 18, 10, 1, 20, 1, 2, 3, 4, 5, 6, 8, 4, 15, 5, 15, 4, 11, 2, 7, 12, 15, 6, 17, 1, 2, 3, 4, 5, 6, 8, 10, 11, 14, 16, 19, 18, 2, 12, 2, 4, 5, 8, 16, 3, 7, 12, 15, 1, 13, 14, 7, 8, 9, 14, 2, 11, 15, 3, 4, 5, 7, 8, 15, 20, 11, 10, 15, 13, 18, 18, 6, 3, 4, 7, 12, 13, 2, 18, 1, 3, 5, 9, 18, 2, 8, 17, 1, 5, 17, 3, 7, 18, 19, 2, 8, 19, 9, 1, 2, 3, 4, 5, 6, 7, 8, 9, 10, 11, 12, 13, 14, 15, 16, 17, 18, 19, 20, 1, 5, 6, 9, 11, 16, 17, 18, 7, 17, 1, 2, 3, 4, 5, 6, 7, 8, 9, 10, 11, 12, 15, 16, 17, 19, 2, 1, 2, 3, 4, 5, 6, 7, 8, 9, 10, 11, 12, 13, 14, 15, 16, 17, 18, 19, 1, 2, 3, 4, 5, 6, 7, 8, 9, 10, 11, 16, 17, 2, 4, 9, 10, 11, 17, 12, 16, 1, 2, 3, 4, 5, 6, 7, 8, 9, 10, 11, 12, 14, 15, 16, 19, 20, 1, 2, 3, 4, 5, 8, 1, 2, 3, 4, 5, 6, 7, 8, 9, 10, 11, 12, 15, 16, 17, 18, 19, 3, 6, 9, 16, 5, 19, 1, 2, 3, 4, 5, 6, 8, 9, 10, 11, 12, 15, 16, 18, 6, 14, 2, 3, 4, 5, 6, 9, 10, 19, 6, 1, 6, 17, 19, 12, 20, 2, 5, 6, 11, 13, 4, 10, 1, 2, 3, 4, 5, 6, 7, 8, 9, 10, 11, 12, 13, 14, 15, 16, 17, 18, 19, 20, 15, 1, 5, 10, 16, 11, 17, 3, 15, 1, 2, 3, 5, 15, 1, 2, 3, 4, 5, 6, 7, 8, 10, 11, 15, 2, 4, 9, 19, 1, 5, 5, 19, 3, 18, 3, 13, 2, 5, 9, 15, 5, 1, 19, 1, 3, 4, 5, 6, 2, 3, 4, 16, 12, 1, 2, 3, 4, 5, 6, 7, 8, 9, 11, 12, 16, 1, 2, 3, 4, 5, 6, 7, 8, 9, 11, 12, 16, 17, 19, 14, 9, 10, 12, 14, 20, 11, 6, 9, 10, 11, 12, 13, 14, 15, 18, 19, 20, 3, 5, 10, 1, 6, 12, 13, 14, 3, 4, 6, 10, 2, 3, 5, 7, 4, 13, 15, 4, 5, 3, 7, 1, 2, 5, 15, 3, 3, 10, 20, 1, 2, 3, 4, 5, 6, 8, 5, 18, 1, 2, 3, 5, 7, 11, 8, 7, 1, 2, 3, 4, 5, 6, 7, 8, 9, 10, 11, 12, 15, 16, 17, 11, 1, 9, 13, 15, 6, 4, 7, 11, 3, 10, 15, 16, 1, 13, 16, 4, 6, 9, 10, 11, 15, 16, 8, 18, 6, 8, 1, 2, 7, 20, 13, 10, 12, 13, 15, 17, 10, 7, 12, 4, 5, 8, 5, 8, 9, 11, 13, 1, 5, 14, 16, 20, 10, 12, 2, 5, 7, 10, 11, 15, 17, 18, 19, 4, 5, 15, 2, 8, 5, 11, 18, 6, 7, 10, 19, 2, 11, 7, 12, 1, 5, 11, 14, 20, 1, 2, 3, 4, 5, 6, 7, 8, 9, 10, 11, 12, 14, 15, 16, 17, 18, 19, 20, 7, 12, 15, 19, 6, 8, 19, 1, 2, 3, 4, 5, 6, 7, 8, 9, 10, 11, 12, 14, 15, 16, 17, 18, 19, 20, 1, 4, 5, 6, 8, 13, 15, 19, 5, 13, 19, 1, 2, 3, 4, 5, 6, 7, 8, 9, 10, 11, 12, 13, 14, 15, 16, 17, 18, 19, 20, 1, 2, 3, 4, 5, 6, 8, 9, 20, 3, 20, 1, 4, 6, 1, 2, 3, 4, 5, 6, 7, 8, 9, 10, 11, 12, 14, 15, 16, 17, 18, 19, 10, 6, 7, 9, 10, 12, 15, 1, 2, 3, 4, 5, 6, 7, 8, 9, 10, 11, 12, 15, 16, 17, 19, 3, 4, 5, 6, 9, 5, 6, 9, 19, 4, 5, 6, 9, 10, 15, 3, 5, 6, 10, 17, 17, 1, 2, 3, 4, 5, 6, 7, 8, 9, 10, 11, 12, 13, 14, 15, 16, 17, 18, 19, 4, 5, 1, 3, 4, 5, 6, 7, 9, 10, 12, 17, 9, 1, 2, 3, 4, 5, 6, 7, 8, 9, 10, 11, 12, 15, 16, 17, 18, 19, 1, 2, 3, 4, 5, 6, 7, 8, 9, 10, 11, 12, 15, 17, 18, 19, 1, 4, 5, 6, 5, 9, 6, 10, 11, 12, 13, 14, 20, 1, 16, 11, 20, 1, 5, 6, 10, 11, 14, 18, 1, 3, 5, 11, 12, 14, 5, 9, 19, 4, 8, 11, 19, 6, 12, 14, 4, 7, 9, 15, 16, 19, 20, 10, 1, 8, 1, 5, 6, 9, 10, 11, 12, 13, 14, 15, 17, 18, 19, 20, 6, 11, 14, 6], \"Freq\": [0.08612968772649765, 0.02870989590883255, 0.12919452786445618, 0.7464572787284851, 0.03527040407061577, 0.14549042284488678, 0.6480937004089355, 0.16312561929225922, 0.30931556224823, 0.5335693359375, 0.13919200003147125, 0.22360752522945404, 0.6708225607872009, 0.7746208310127258, 0.7690331935882568, 0.2066059410572052, 0.8720386028289795, 0.06459545344114304, 0.12356388568878174, 0.8340562582015991, 0.26796650886535645, 0.12649351358413696, 0.183082714676857, 0.2246924191713333, 0.02496582455933094, 0.0016643882263451815, 0.15811687707901, 0.004993164911866188, 0.0016643882263451815, 0.0016643882263451815, 0.10618408769369125, 0.1820298582315445, 0.010112769901752472, 0.04045107960700989, 0.42979273200035095, 0.20225541293621063, 0.015169155783951283, 0.006280623376369476, 0.15073496103286743, 0.8133407235145569, 0.021982181817293167, 0.1539984792470932, 0.015399848110973835, 0.8007920980453491, 0.8453654646873474, 0.12212144583463669, 0.013569049537181854, 0.7598667740821838, 0.08141429722309113, 0.3026478588581085, 0.6765069961547852, 0.8514677286148071, 0.05008633807301521, 0.07512950897216797, 0.8171641826629639, 0.9087812900543213, 0.07299505174160004, 0.17755551636219025, 0.36300238966941833, 0.025646908208727837, 0.0019728392362594604, 0.003945678472518921, 0.33143696188926697, 0.017755553126335144, 0.7686252593994141, 0.24479447305202484, 0.07441751658916473, 0.17625202238559723, 0.05091724917292595, 0.10770956426858902, 0.19779393076896667, 0.05679231882095337, 0.013708490878343582, 0.04308382794260979, 0.0058750673197209835, 0.017625201493501663, 0.001958355773240328, 0.001958355773240328, 0.001958355773240328, 0.001958355773240328, 0.6062636971473694, 0.0712229534983635, 0.02258288860321045, 0.17718881368637085, 0.019108597189188004, 0.008685726672410965, 0.0017371452413499355, 0.04690292105078697, 0.020845742896199226, 0.015634307637810707, 0.0017371452413499355, 0.006948580965399742, 0.7919496893882751, 0.2435643970966339, 0.4100000858306885, 0.05683169513940811, 0.012178219854831696, 0.23950499296188354, 0.01623762771487236, 0.01623762771487236, 0.1830548644065857, 0.755839467048645, 0.035429976880550385, 0.011809991672635078, 0.03355871140956879, 0.9172714352607727, 0.03915182873606682, 0.9609357714653015, 0.1261814683675766, 0.06882625818252563, 0.18353667855262756, 0.11471042782068253, 0.48178380727767944, 0.8365383744239807, 0.9649533033370972, 0.34401896595954895, 0.16045153141021729, 0.15138646960258484, 0.13778889179229736, 0.0711607113480568, 0.054390352219343185, 0.015410599298775196, 0.020396381616592407, 0.015863852575421333, 0.0031727703753858805, 0.006345540750771761, 0.009065058082342148, 0.00045325292740017176, 0.00045325292740017176, 0.0009065058548003435, 0.0027195175644010305, 0.004079276230186224, 0.00045325292740017176, 0.0013597587822005153, 0.00045325292740017176, 0.7208223938941956, 0.799390971660614, 0.24232706427574158, 0.14625026285648346, 0.1868160218000412, 0.07899648696184158, 0.051240965723991394, 0.08967169374227524, 0.04803840443491936, 0.04163328558206558, 0.04483584687113762, 0.004270080476999283, 0.008540160953998566, 0.018147842958569527, 0.0010675201192498207, 0.0021350402384996414, 0.003202560357749462, 0.01494528166949749, 0.004270080476999283, 0.012810241430997849, 0.9169312119483948, 0.8619025945663452, 0.07835478335618973, 0.019588695839047432, 0.8429141044616699, 0.07662855088710785, 0.2621576488018036, 0.2904990017414093, 0.13310320675373077, 0.11741422861814499, 0.08299971371889114, 0.026823079213500023, 0.03492061048746109, 0.035426706075668335, 0.0035426707472652197, 0.002024383284151554, 0.006073149852454662, 0.001012191642075777, 0.0015182874631136656, 0.001012191642075777, 0.0005060958210378885, 0.0005060958210378885, 0.0005060958210378885, 0.8398449420928955, 0.9497016668319702, 0.347794771194458, 0.11354847252368927, 0.14950549602508545, 0.13184238970279694, 0.10324499756097794, 0.06413386017084122, 0.02691519446671009, 0.01387814711779356, 0.019976120442152023, 0.00399522390216589, 0.00693907355889678, 0.007149348501116037, 0.00042054991354234517, 0.0010513747110962868, 0.0014719245955348015, 0.0021027494221925735, 0.0031541241332888603, 0.0010513747110962868, 0.0016821996541693807, 0.00021027495677117258, 0.02059473656117916, 0.15789297223091125, 0.1647578924894333, 0.006864911876618862, 0.006864911876618862, 0.09610877186059952, 0.5354631543159485, 0.07104314863681793, 0.17760787904262543, 0.7104315161705017, 0.39770716428756714, 0.03615519776940346, 0.19885358214378357, 0.01807759888470173, 0.3434743881225586, 0.3246960937976837, 0.14257872104644775, 0.2558029890060425, 0.17552758753299713, 0.04013770818710327, 0.0191702488809824, 0.015575827099382877, 0.01617489755153656, 0.003594421548768878, 0.0005990702775307, 0.0023962811101228, 0.0011981405550614, 0.0011981405550614, 0.0005990702775307, 0.0005990702775307, 0.02109738066792488, 0.29536333680152893, 0.08438952267169952, 0.4746910631656647, 0.09493821114301682, 0.01054869033396244, 0.8755847811698914, 0.04377923905849457, 0.9376682043075562, 0.8608537316322327, 0.3683079481124878, 0.042497068643569946, 0.5524619221687317, 0.26404595375061035, 0.3200557231903076, 0.08801531791687012, 0.06401114165782928, 0.24804317951202393, 0.6232330799102783, 0.34177297353744507, 0.021657641977071762, 0.6713868975639343, 0.2815493643283844, 0.775872528553009, 0.024341033771634102, 0.9249593019485474, 0.8404327630996704, 0.27608609199523926, 0.18405739963054657, 0.07749785482883453, 0.08476327359676361, 0.0581233873963356, 0.0290616936981678, 0.24218077957630157, 0.033905308693647385, 0.002421807963401079, 0.002421807963401079, 0.32668158411979675, 0.013333942741155624, 0.08667062222957611, 0.4733549654483795, 0.03333485499024391, 0.03333485499024391, 0.020000914111733437, 0.0501849502325058, 0.8874812722206116, 0.03433707356452942, 0.01584787853062153, 0.007923939265310764, 0.0026413132436573505, 0.7960629463195801, 0.05222952738404274, 0.3307870030403137, 0.5919346213340759, 0.2859601676464081, 0.2156863957643509, 0.1981179565191269, 0.13433100283145905, 0.05189447104930878, 0.02513638325035572, 0.04189397394657135, 0.03135290741920471, 0.006216525100171566, 0.00135141855571419, 0.003513687988743186, 0.001081134774722159, 0.00027028369368053973, 0.0005405673873610795, 0.0016217022202908993, 0.0005405673873610795, 0.0005405673873610795, 0.00027028369368053973, 0.259718656539917, 0.009275666438043118, 0.7049506306648254, 0.23019500076770782, 0.04316156357526779, 0.07193593680858612, 0.07193593680858612, 0.057548750191926956, 0.4747771918773651, 0.014387187547981739, 0.7514103055000305, 0.21468865871429443, 0.0156930610537529, 0.10462040454149246, 0.8474252820014954, 0.010462040081620216, 0.005231020040810108, 0.005231020040810108, 0.005231020040810108, 0.214457169175148, 0.16399666666984558, 0.012615128420293331, 0.5298354029655457, 0.06307563930749893, 0.028822114691138268, 0.057644229382276535, 0.07205528765916824, 0.7349639534950256, 0.07205528765916824, 0.8068172931671143, 0.8447218537330627, 0.31585973501205444, 0.17414969205856323, 0.11666891723871231, 0.12292920053005219, 0.15138502418994904, 0.05463520064949989, 0.018780849874019623, 0.005691166501492262, 0.014227916486561298, 0.002845583250746131, 0.00853674951940775, 0.007398516405373812, 0.0005691166734322906, 0.0017073500202968717, 0.002276466693729162, 0.0005691166734322906, 0.0005691166734322906, 0.001138233346864581, 0.7916155457496643, 0.07916155457496643, 0.3029862344264984, 0.020658152177929878, 0.5853143334388733, 0.013772102072834969, 0.07230353355407715, 0.035604652017354965, 0.2069520354270935, 0.41612935066223145, 0.04228052496910095, 0.017802326008677483, 0.0022252907510846853, 0.015577035024762154, 0.2514578402042389, 0.0022252907510846853, 0.006675872020423412, 0.8240067958831787, 0.8527050018310547, 0.01336528267711401, 0.0026730564422905445, 0.06682641059160233, 0.02673056535422802, 0.02673056535422802, 0.005346112884581089, 0.0026730564422905445, 0.8472444415092468, 0.8514420986175537, 0.07740382850170135, 0.9648721218109131, 0.20937971770763397, 0.25125566124916077, 0.5025113224983215, 0.7168522477149963, 0.9633708000183105, 0.3853045105934143, 0.07621408253908157, 0.02540469355881214, 0.17783285677433014, 0.05927761644124985, 0.02540469355881214, 0.13972581923007965, 0.04657527059316635, 0.05080938711762428, 0.6104451417922974, 0.5224238038063049, 0.004706520587205887, 0.03294564411044121, 0.025885863229632378, 0.06353802978992462, 0.0682445541024208, 0.20238038897514343, 0.004706520587205887, 0.016472822055220604, 0.004706520587205887, 0.004706520587205887, 0.04000542685389519, 0.004706520587205887, 0.01237934548407793, 0.9655889272689819, 0.9612422585487366, 0.8550089597702026, 0.9815041422843933, 0.8981916904449463, 0.034545835107564926, 0.1222384050488472, 0.07778807729482651, 0.7889933586120605, 0.3538168966770172, 0.037573475390672684, 0.037573475390672684, 0.5636021494865417, 0.3160589635372162, 0.18921951949596405, 0.1563660204410553, 0.13931547105312347, 0.07381640374660492, 0.03742803633213043, 0.030150363221764565, 0.02682342566549778, 0.009772876277565956, 0.002911069430410862, 0.006238006055355072, 0.0037428035866469145, 0.00020793353905901313, 0.0010396676370874047, 0.001455534715205431, 0.001455534715205431, 0.0020793352741748095, 0.00041586707811802626, 0.0008317341562360525, 0.00020793353905901313, 0.24754314124584198, 0.2844112515449524, 0.1662827730178833, 0.10608991980552673, 0.05944044888019562, 0.027086786925792694, 0.05793562904000282, 0.03536330536007881, 0.009781340137124062, 0.0007524107350036502, 0.0015048214700073004, 0.0007524107350036502, 0.0007524107350036502, 0.0007524107350036502, 0.0007524107350036502, 0.15748339891433716, 0.4724501669406891, 0.02258959785103798, 0.09035839140415192, 0.8132255673408508, 0.02258959785103798, 0.2980559766292572, 0.620949923992157, 0.8864034414291382, 0.0827309861779213, 0.017728067934513092, 0.04576410353183746, 0.5601526498794556, 0.009152821265161037, 0.3532989025115967, 0.009152821265161037, 0.010983385145664215, 0.0036611284594982862, 0.0036611284594982862, 0.0018305642297491431, 0.2373509258031845, 0.2629117965698242, 0.036515526473522186, 0.34872326254844666, 0.04929596185684204, 0.02556086890399456, 0.020083539187908173, 0.00365155260078609, 0.001825776300393045, 0.009128881618380547, 0.00365155260078609, 0.08421257883310318, 0.28632277250289917, 0.14316138625144958, 0.3957991302013397, 0.03368503227829933, 0.05052755028009415, 0.777195930480957, 0.07286211848258972, 0.024287372827529907, 0.07286211848258972, 0.03570488467812538, 0.05355732887983322, 0.05355732887983322, 0.8212123513221741, 0.9385035037994385, 0.015906838700175285, 0.015906838700175285, 0.013816834427416325, 0.0829010009765625, 0.09671783447265625, 0.23488618433475494, 0.4974060356616974, 0.06908416748046875, 0.786990225315094, 0.09064808487892151, 0.008240735158324242, 0.045324042439460754, 0.03708330914378166, 0.004120367579162121, 0.024722205474972725, 0.03761626034975052, 0.1786772459745407, 0.07523252069950104, 0.1880813091993332, 0.2351016253232956, 0.01880813017487526, 0.00940406508743763, 0.1880813091993332, 0.06582845747470856, 0.048939675092697144, 0.09787935018539429, 0.8319745063781738, 0.7268109917640686, 0.03814450651407242, 0.2288670390844345, 0.6484566330909729, 0.8398752808570862, 0.251010924577713, 0.017929350957274437, 0.654421329498291, 0.05378805100917816, 0.2222539335489273, 0.7514299750328064, 0.10128114372491837, 0.0807313472032547, 0.6392455101013184, 0.018348034471273422, 0.044035281985998154, 0.020549798384308815, 0.03155861794948578, 0.05797978490591049, 0.0007339213625527918, 0.0007339213625527918, 0.0014678427251055837, 0.0022017641458660364, 0.0007339213625527918, 0.0007339213625527918, 0.871799886226654, 0.025800196453928947, 0.9417071342468262, 0.030967634171247482, 0.3870954215526581, 0.2219347208738327, 0.015483817085623741, 0.025806361809372902, 0.02064508944749832, 0.2890312671661377, 0.9221580624580383, 0.24794478714466095, 0.7247617244720459, 0.07383693009614944, 0.1845923364162445, 0.6645323634147644, 0.9189243316650391, 0.08799487352371216, 0.8946145176887512, 0.12448330968618393, 0.8437201976776123, 0.07134108990430832, 0.8917636275291443, 0.17859719693660736, 0.10715831816196442, 0.6429498791694641, 0.9179210066795349, 0.027815788984298706, 0.17571279406547546, 0.030558748170733452, 0.09931592643260956, 0.14515405893325806, 0.3285065293312073, 0.08403655886650085, 0.015279374085366726, 0.09931592643260956, 0.9308189749717712, 0.9513947367668152, 0.019820723682641983, 0.142220139503479, 0.7314178347587585, 0.04063432663679123, 0.08126865327358246, 0.9288861751556396, 0.32602453231811523, 0.17594973742961884, 0.19567939639091492, 0.11934826523065567, 0.06953895837068558, 0.031049953773617744, 0.031696829944849014, 0.0359015092253685, 0.004528118297457695, 0.001940622110851109, 0.003881244221702218, 0.000646874075755477, 0.0003234370378777385, 0.0003234370378777385, 0.0009703110554255545, 0.0009703110554255545, 0.0003234370378777385, 0.0003234370378777385, 0.14461730420589447, 0.8315494656562805, 0.8800324201583862, 0.05333529785275459, 0.9477870464324951, 0.2730608284473419, 0.24068762362003326, 0.1890781968832016, 0.15576665103435516, 0.0464484877884388, 0.012667769566178322, 0.024866363033652306, 0.044571783393621445, 0.004222590010613203, 0.0014075300423428416, 0.0032842366490513086, 0.00046917665167711675, 0.00046917665167711675, 0.0009383533033542335, 0.0009383533033542335, 0.00046917665167711675, 0.00046917665167711675, 0.00046917665167711675, 0.9370390772819519, 0.9190077781677246, 0.2840003967285156, 0.4370083510875702, 0.07595359534025192, 0.1342947632074356, 0.03852718323469162, 0.0022015534341335297, 0.013209320604801178, 0.007705437019467354, 0.0011007767170667648, 0.0011007767170667648, 0.0011007767170667648, 0.0011007767170667648, 0.0011007767170667648, 0.9083093404769897, 0.8096820116043091, 0.03917815908789635, 0.11753448098897934, 0.034831658005714417, 0.08707915246486664, 0.15093719959259033, 0.708243727684021, 0.005805276799947023, 0.8651136755943298, 0.014050962403416634, 0.256430059671402, 0.08079303056001663, 0.024589184671640396, 0.09835673868656158, 0.11943317949771881, 0.0035127406008541584, 0.07376755028963089, 0.22481539845466614, 0.0035127406008541584, 0.09484399855136871, 0.0035127406008541584, 0.886292040348053, 0.08862920850515366, 0.1652732491493225, 0.013491694815456867, 0.013491694815456867, 0.05396677926182747, 0.05733970180153847, 0.05059385299682617, 0.02023754082620144, 0.05059385299682617, 0.04722093045711517, 0.02023754082620144, 0.3743945062160492, 0.026983389630913734, 0.01011877041310072, 0.01011877041310072, 0.02023754082620144, 0.006745847407728434, 0.05059385299682617, 0.03648262843489647, 0.10944788157939911, 0.009120657108724117, 0.8299797773361206, 0.13043007254600525, 0.815187931060791, 0.9209288358688354, 0.8420350551605225, 0.20792588591575623, 0.024461869150400162, 0.061154671013355255, 0.08561653643846512, 0.5870848298072815, 0.019816752523183823, 0.9512041807174683, 0.09694922715425491, 0.06273185461759567, 0.09124632924795151, 0.7413764595985413, 0.987468421459198, 0.984528660774231, 0.014168467372655869, 0.9492873549461365, 0.014168467372655869, 0.8728433847427368, 0.032937485724687576, 0.010979161597788334, 0.005489580798894167, 0.054895807057619095, 0.005489580798894167, 0.016468742862343788, 0.8391581773757935, 0.36518776416778564, 0.010585152544081211, 0.010585152544081211, 0.4975021779537201, 0.037048034369945526, 0.06351091712713242, 0.9871407151222229, 0.8327906131744385, 0.11103875190019608, 0.18313929438591003, 0.12209286540746689, 0.07848826795816422, 0.5494179129600525, 0.01744183711707592, 0.01744183711707592, 0.6157827973365784, 0.05972292274236679, 0.17916876077651978, 0.3732682466506958, 0.014930730685591698, 0.3434067964553833, 0.10137025266885757, 0.24618490040302277, 0.014481465332210064, 0.6082215309143066, 0.8371888399124146, 0.028296401724219322, 0.4999031126499176, 0.1980748176574707, 0.25466760993003845, 0.08147905021905899, 0.13967837393283844, 0.7216715812683105, 0.02327973023056984, 0.01163986511528492, 0.009615167044103146, 0.09615166485309601, 0.798058807849884, 0.043268248438835144, 0.01923033408820629, 0.004807583522051573, 0.004807583522051573, 0.004807583522051573, 0.009615167044103146, 0.9272925853729248, 0.24514071643352509, 0.0764659121632576, 0.1585543155670166, 0.11919686198234558, 0.16530130803585052, 0.1484338343143463, 0.01124498713761568, 0.006746992003172636, 0.028112467378377914, 0.013493984006345272, 0.014618483372032642, 0.0011244986671954393, 0.0011244986671954393, 0.003373496001586318, 0.0011244986671954393, 0.007871490903198719, 0.11606905609369278, 0.8415006995201111, 0.8108070492744446, 0.0033961357548832893, 0.1867874711751938, 0.7845073938369751, 0.006792271509766579, 0.006792271509766579, 0.0033961357548832893, 0.0033961357548832893, 0.05903979390859604, 0.13954859972000122, 0.3314279317855835, 0.03354533761739731, 0.00268362695351243, 0.22810828685760498, 0.19993020594120026, 0.001341813476756215, 0.9393075108528137, 0.01055462472140789, 0.7219363451004028, 0.07388237118721008, 0.048551272600889206, 0.0021109250374138355, 0.014776474796235561, 0.12454457581043243, 0.4013887941837311, 0.12350424379110336, 0.44770288467407227, 0.8122727870941162, 0.25676336884498596, 0.6052278876304626, 0.016506215557456017, 0.03484645485877991, 0.03117840737104416, 0.0018340239766985178, 0.01834023930132389, 0.02200828678905964, 0.00550207169726491, 0.0018340239766985178, 0.7671201825141907, 0.7798385620117188, 0.21205675601959229, 0.019277887418866158, 0.019277887418866158, 0.019277887418866158, 0.07711154967546463, 0.019277887418866158, 0.5783365964889526, 0.038555774837732315, 0.11169902235269547, 0.8076698780059814, 0.060145627707242966, 0.1385643482208252, 0.7684023380279541, 0.056685417890548706, 0.018895138055086136, 0.14420835673809052, 0.7424059510231018, 0.032046299427747726, 0.053410500288009644, 0.005341050215065479, 0.010682100430130959, 0.013643804006278515, 0.7265325784683228, 0.1500818431377411, 0.047753315418958664, 0.0034109510015696287, 0.006821902003139257, 0.04434236139059067, 0.21277327835559845, 0.7447064518928528, 0.9564263820648193, 0.8634790182113647, 0.10512261092662811, 0.31536781787872314, 0.26017844676971436, 0.0026280651800334454, 0.015768392011523247, 0.1524277776479721, 0.06832969933748245, 0.02890871837735176, 0.042049042880535126, 0.005256130360066891, 0.14536288380622864, 0.0969085842370987, 0.6299058198928833, 0.4975515902042389, 0.4791237711906433, 0.09931027889251709, 0.7017926573753357, 0.02648274227976799, 0.12248267978429794, 0.02648274227976799, 0.0066206855699419975, 0.0066206855699419975, 0.9313986301422119, 0.15463998913764954, 0.07731999456882477, 0.7442049384117126, 0.009664999321103096, 0.1875392198562622, 0.15003137290477753, 0.11252352595329285, 0.5251097679138184, 0.047984570264816284, 0.015994857996702194, 0.9117068648338318, 0.7487347722053528, 0.22283773124217987, 0.008913508616387844, 0.791166365146637, 0.16368959844112396, 0.8989370465278625, 0.8742468357086182, 0.03874938562512398, 0.8912358283996582, 0.11949451267719269, 0.83646160364151, 0.06171391159296036, 0.1439991295337677, 0.7611382603645325, 0.04588593542575836, 0.9177187085151672, 0.07367102056741714, 0.8349382281303406, 0.024557005614042282, 0.024557005614042282, 0.14804430305957794, 0.7402215003967285, 0.9844652414321899, 0.9325252175331116, 0.0233131293207407, 0.0233131293207407, 0.9722138047218323, 0.8440499305725098, 0.7759219408035278, 0.020259058102965355, 0.026336776092648506, 0.15802066028118134, 0.010129529051482677, 0.0020259057637304068, 0.0020259057637304068, 0.0020259057637304068, 0.06945070624351501, 0.06945070624351501, 0.3224497139453888, 0.3026066720485687, 0.07937223464250565, 0.14882294833660126, 0.9697946310043335, 0.8342500329017639, 0.7545644640922546, 0.02374035120010376, 0.07122105360031128, 0.8783929944038391, 0.2801509499549866, 0.6536855697631836, 0.8344741463661194, 0.1599329262971878, 0.09842026233673096, 0.01230253279209137, 0.11072279512882233, 0.5905215740203857, 0.930820107460022, 0.9717232584953308, 0.902324914932251, 0.9618274569511414, 0.5747703909873962, 0.21287791430950165, 0.007095930632203817, 0.19868606328964233, 0.22484520077705383, 0.03747420012950897, 0.06903141736984253, 0.02761256881058216, 0.20117728412151337, 0.30965521931648254, 0.005916978698223829, 0.03747420012950897, 0.011833957396447659, 0.05325280874967575, 0.001972326310351491, 0.001972326310351491, 0.001972326310351491, 0.011833957396447659, 0.001972326310351491, 0.001972326310351491, 0.12056458741426468, 0.024944396689534187, 0.004157399758696556, 0.016629599034786224, 0.029101796448230743, 0.012472198344767094, 0.016629599034786224, 0.008314799517393112, 0.7400171160697937, 0.02078699879348278, 0.2964443564414978, 0.014116398058831692, 0.02117459662258625, 0.02117459662258625, 0.5646559596061707, 0.0423491932451725, 0.007058199029415846, 0.02117459662258625, 0.007058199029415846, 0.007058199029415846, 0.9244586229324341, 0.8397563695907593, 0.07943641394376755, 0.0680883526802063, 0.9288206696510315, 0.021600481122732162, 0.021600481122732162, 0.010800240561366081, 0.08625218272209167, 0.8452714085578918, 0.03450087457895279, 0.017250437289476395, 0.17460712790489197, 0.008314625360071659, 0.016629250720143318, 0.14134863018989563, 0.07483162730932236, 0.23280949890613556, 0.07483162730932236, 0.008314625360071659, 0.2660680115222931, 0.006879801861941814, 0.6123023629188538, 0.37150928378105164, 0.09687280654907227, 0.04843640327453613, 0.7749824523925781, 0.8108087778091431, 0.7285511493682861, 0.9690547585487366, 0.11006207019090652, 0.10394750535488129, 0.00611455924808979, 0.04891647398471832, 0.04280191659927368, 0.04280191659927368, 0.04280191659927368, 0.5136229991912842, 0.03057279624044895, 0.04280191659927368, 0.8236716985702515, 0.9717023968696594, 0.20995548367500305, 0.7253007292747498, 0.047717154026031494, 0.9489543437957764, 0.7582085132598877, 0.8194805979728699, 0.05121753737330437, 0.8406755924224854, 0.1847286820411682, 0.045124564319849014, 0.03525356575846672, 0.18190839886665344, 0.026792708784341812, 0.005640570539981127, 0.5147020816802979, 0.0014101426349952817, 0.0014101426349952817, 0.958776593208313, 0.10711140930652618, 0.7497798204421997, 0.2835261821746826, 0.06671204417943954, 0.03335602208971977, 0.03335602208971977, 0.5003402829170227, 0.05003403127193451, 0.9003366827964783, 0.9380301237106323, 0.8426528573036194, 0.04213264212012291, 0.7113491892814636, 0.12933620810508728, 0.9325768947601318, 0.9197660088539124, 0.7341704368591309, 0.9553050398826599, 0.9643785953521729, 0.8523540496826172, 0.04486073926091194, 0.7589678168296814, 0.08317455649375916, 0.02079363912343979, 0.05198409780859947, 0.062380917370319366, 0.8877353668212891, 0.8452344536781311, 0.8983691334724426, 0.8536040782928467, 0.07422643899917603, 0.0694642961025238, 0.09966616332530975, 0.7218246459960938, 0.08758541941642761, 0.00906056072562933, 0.00604037381708622, 0.00302018690854311, 0.8627943396568298, 0.15146440267562866, 0.7573219537734985, 0.3481218218803406, 0.13732443749904633, 0.1263909637928009, 0.12420426309108734, 0.09227852523326874, 0.06210213154554367, 0.025365659967064857, 0.017056219279766083, 0.02099226973950863, 0.003498711856082082, 0.006997423712164164, 0.020554931834340096, 0.0008746779640205204, 0.00306137278676033, 0.0021866948809474707, 0.0013120168587192893, 0.003498711856082082, 0.003498711856082082, 0.0008746779640205204, 0.0004373389820102602, 0.18423950672149658, 0.7632779479026794, 0.273590087890625, 0.134307861328125, 0.0596923790872097, 0.3631286323070526, 0.1442565768957138, 0.01989745907485485, 0.27097123861312866, 0.5871043801307678, 0.11742087453603745, 0.8313408493995667, 0.22194917500019073, 0.11097458750009537, 0.007398305926471949, 0.31072884798049927, 0.3255254626274109, 0.9444335699081421, 0.9193792939186096, 0.05428347736597061, 0.8685356378555298, 0.9723862409591675, 0.10198875516653061, 0.009271705523133278, 0.009271705523133278, 0.08344534784555435, 0.6026608347892761, 0.07417364418506622, 0.09271705150604248, 0.05662086233496666, 0.9342442154884338, 0.12436371296644211, 0.8581095933914185, 0.07579122483730316, 0.9094946980476379, 0.8478471040725708, 0.024340108036994934, 0.08113369345664978, 0.028396792709827423, 0.008113369345664978, 0.8899244666099548, 0.8976098299026489, 0.9404084086418152, 0.11195741593837738, 0.33587226271629333, 0.13552740216255188, 0.0117849912494421, 0.05892495438456535, 0.03535497188568115, 0.3005172610282898, 0.17143890261650085, 0.07116331905126572, 0.05822453275322914, 0.05498983711004257, 0.10674497485160828, 0.42051050066947937, 0.006469392217695713, 0.06145922839641571, 0.009704088792204857, 0.016173481941223145, 0.009704088792204857, 0.006469392217695713, 0.006469392217695713, 0.20820868015289307, 0.03470144793391228, 0.06246260553598404, 0.11798492074012756, 0.4511187970638275, 0.06940289586782455, 0.041641734540462494, 0.04319855943322182, 0.14399519562721252, 0.11519615352153778, 0.6623778939247131, 0.863663911819458, 0.17572279274463654, 0.5623129606246948, 0.12718982994556427, 0.050206512212753296, 0.07028912007808685, 0.005020651035010815, 0.0033471009228378534, 0.0016735504614189267, 0.0016735504614189267, 0.8179989457130432, 0.8319880366325378, 0.049691442400217056, 0.4472230076789856, 0.4637868106365204, 0.8289392590522766, 0.12311247736215591, 0.6925076842308044, 0.03077811934053898, 0.0718156173825264, 0.04103749245405197, 0.01538905967026949, 0.010259373113512993, 0.010259373113512993, 0.850213348865509, 0.047234077006578445, 0.9014157652854919, 0.9326592087745667, 0.8526709079742432, 0.12242455035448074, 0.0547688752412796, 0.025773588567972183, 0.008054246194660664, 0.7603209018707275, 0.024162739515304565, 0.04585215076804161, 0.09170430153608322, 0.015284051187336445, 0.8253387212753296, 0.8983893990516663, 0.168198361992836, 0.06276058405637741, 0.11798989027738571, 0.09790650755167007, 0.012552116066217422, 0.42426154017448425, 0.1104586198925972, 0.37285205721855164, 0.0011096787638962269, 0.014425823464989662, 0.12872272729873657, 0.024412931874394417, 0.1043097972869873, 0.12539368867874146, 0.03218068182468414, 0.0843355804681778, 0.01775486022233963, 0.0044387150555849075, 0.08655493706464767, 0.0011096787638962269, 0.8965546488761902, 0.04482773318886757, 0.022413866594433784, 0.8996422290802002, 0.95585036277771, 0.10211529582738876, 0.05105764791369438, 0.7148070335388184, 0.05105764791369438, 0.21619561314582825, 0.11818693578243256, 0.1354825794696808, 0.11242172122001648, 0.02594347484409809, 0.002882608212530613, 0.04323912411928177, 0.03170869126915932, 0.020178258419036865, 0.020178258419036865, 0.14701302349567413, 0.11818693578243256, 0.19249217212200165, 0.043748222291469574, 0.21874110400676727, 0.533728301525116, 0.08411663770675659, 0.8832246661186218, 0.24019242823123932, 0.09607697278261185, 0.04803848639130592, 0.5764618515968323, 0.02401924319565296, 0.004803848452866077, 0.9022281765937805, 0.006432298570871353, 0.06753913313150406, 0.7525789141654968, 0.016080746427178383, 0.0016080746427178383, 0.0032161492854356766, 0.14794287085533142, 0.15316706895828247, 0.6203266382217407, 0.034462589770555496, 0.011487530544400215, 0.16465459764003754, 0.011487530544400215, 0.8133188486099243, 0.04518437758088112, 0.9269322752952576, 0.05533923953771591, 0.13553111255168915, 0.766718864440918, 0.019361587241292, 0.06582939624786377, 0.007744634989649057, 0.034636110067367554, 0.14844048023223877, 0.034636110067367554, 0.727358341217041, 0.029688095673918724, 0.004948015790432692, 0.009896031580865383, 0.48335373401641846, 0.01361559797078371, 0.05219312757253647, 0.0499238595366478, 0.029500462114810944, 0.349467009305954, 0.011346331797540188, 0.004538532812148333, 0.0022692664060741663, 0.8200230598449707, 0.11370722204446793, 0.09303317964076996, 0.16539232432842255, 0.5788731575012207, 0.031011059880256653, 0.005168510135263205, 0.005168510135263205, 0.08742432296276093, 0.8305310606956482, 0.3641151487827301, 0.03467763215303421, 0.5375033020973206, 0.017338816076517105, 0.017338816076517105, 0.803758978843689, 0.0893065482378006, 0.3555663228034973, 0.14347413182258606, 0.0686180591583252, 0.37428033351898193, 0.04990404471755028, 0.12534497678279877, 0.34311604499816895, 0.3013343811035156, 0.06836998462677002, 0.007596665062010288, 0.005064443219453096, 0.015193330124020576, 0.13040941953659058, 0.001266110804863274, 0.044501982629299164, 0.37754905223846436, 0.2899806499481201, 0.07608403265476227, 0.004306643269956112, 0.00574219087138772, 0.027275407686829567, 0.1650879979133606, 0.00143554771784693, 0.004306643269956112, 0.9808444380760193, 0.9028636813163757, 0.9794295430183411, 0.007962841540575027, 0.08994997292757034, 0.6420567035675049, 0.04962757229804993, 0.17369650304317474, 0.024813786149024963, 0.0015508616343140602, 0.007754308171570301, 0.006203446537256241, 0.0015508616343140602, 0.0015508616343140602, 0.8760485649108887, 0.1350230872631073, 0.6622560620307922, 0.04500769451260567, 0.1350230872631073, 0.012859341688454151, 0.8299722075462341, 0.17141221463680267, 0.5400845408439636, 0.04217284545302391, 0.1414830982685089, 0.043533261865377426, 0.002720828866586089, 0.03537077456712723, 0.016324972733855247, 0.002720828866586089, 0.7600509524345398, 0.08406656980514526, 0.1307702213525772, 0.046703651547431946, 0.6818732619285583, 0.03736291825771332, 0.8330268859863281, 0.01893243007361889, 0.0063108098693192005, 0.07572972029447556, 0.025243239477276802, 0.01893243007361889, 0.058417558670043945, 0.140202134847641, 0.02336702309548855, 0.6542766690254211, 0.11683511734008789, 0.15182214975357056, 0.17150279879570007, 0.3242621123790741, 0.10683780908584595, 0.03561260178685188, 0.003748695133253932, 0.10964933037757874, 0.08996868133544922, 0.000937173783313483, 0.000937173783313483, 0.001874347566626966, 0.001874347566626966, 0.8102040886878967, 0.4207691550254822, 0.00513133080676198, 0.09236396104097366, 0.1334146112203598, 0.14880859851837158, 0.04105064645409584, 0.00513133080676198, 0.015393992885947227, 0.1282832771539688, 0.7152882814407349, 0.15895295143127441, 0.37037181854248047, 0.008818376809358597, 0.04115242511034012, 0.049970801919698715, 0.19400428235530853, 0.029394589364528656, 0.23221725225448608, 0.02645513042807579, 0.03233404830098152, 0.005878917872905731, 0.0029394589364528656, 0.12413115799427032, 0.8275410532951355, 0.25870025157928467, 0.16739428043365479, 0.08116085827350616, 0.16739428043365479, 0.05326181650161743, 0.02282649278640747, 0.2282649278640747, 0.007608830463141203, 0.0025362768210470676, 0.0025362768210470676, 0.0025362768210470676, 0.05184325575828552, 0.04879365488886833, 0.8965833783149719, 0.7352313995361328, 0.30923494696617126, 0.002620635088533163, 0.6839857697486877, 0.040959496051073074, 0.1433582305908203, 0.6348721385002136, 0.05119936913251877, 0.056319303810596466, 0.020479748025536537, 0.005119937006384134, 0.005119937006384134, 0.005119937006384134, 0.020479748025536537, 0.9331150650978088, 0.2743530571460724, 0.7069867849349976, 0.1825524866580963, 0.2323395162820816, 0.01659568026661873, 0.5476574301719666, 0.08546821027994156, 0.02564046159386635, 0.17093642055988312, 0.012820230796933174, 0.34614622592926025, 0.3333260118961334, 0.012820230796933174, 0.11152401566505432, 0.7647361159324646, 0.09559201449155807, 0.26779475808143616, 0.04119919240474701, 0.6797866821289062, 0.9793002605438232, 0.2691798210144043, 0.02563617378473282, 0.02563617378473282, 0.6409043669700623, 0.14712511003017426, 0.31631898880004883, 0.11034383624792099, 0.01471251156181097, 0.3310315012931824, 0.06620629876852036, 0.9572398066520691, 0.21604090929031372, 0.6387296319007874, 0.018786165863275528, 0.037572331726551056, 0.018786165863275528, 0.04696541652083397, 0.009393082931637764, 0.2747754156589508, 0.20204076170921326, 0.04040814936161041, 0.048489782959222794, 0.4121631383895874, 0.016163259744644165, 0.4262968897819519, 0.10657422244548798, 0.07041510939598083, 0.07422133535146713, 0.25501689314842224, 0.009515555575489998, 0.019031111150979996, 0.024740444496273994, 0.003806222230195999, 0.007612444460391998, 0.1616193652153015, 0.826054573059082, 0.25706684589385986, 0.1635880023241043, 0.5608731508255005, 0.07243186235427856, 0.120719775557518, 0.41044723987579346, 0.3621593117713928, 0.841456413269043, 0.011761413887143135, 0.9213107228279114, 0.058807067573070526, 0.2894307076931, 0.057886142283678055, 0.08682921528816223, 0.53544682264328, 0.916151225566864, 0.27316683530807495, 0.20730280876159668, 0.17690402269363403, 0.13341687619686127, 0.07388593256473541, 0.04433155804872513, 0.04137612134218216, 0.022376881912350655, 0.008866311982274055, 0.0033776424825191498, 0.004222053103148937, 0.004644258413463831, 0.0004222053103148937, 0.0004222053103148937, 0.0008444106206297874, 0.0021110265515744686, 0.0016888212412595749, 0.0004222053103148937, 0.9106714129447937, 0.05971616134047508, 0.34721195697784424, 0.025719404220581055, 0.2314746379852295, 0.3857910633087158, 0.7946305871009827, 0.8196622729301453, 0.13661037385463715, 0.9558587670326233, 0.13846491277217865, 0.26827576756477356, 0.012981086038053036, 0.1298108547925949, 0.06057840213179588, 0.03894325718283653, 0.32452714443206787, 0.004327028524130583, 0.004327028524130583, 0.038518037647008896, 0.11555411666631699, 0.7318426966667175, 0.038518037647008896, 0.9201700091362, 0.905561089515686, 0.9239541292190552, 0.9351971745491028, 0.018337199464440346, 0.9321669936180115, 0.2688114047050476, 0.03449985757470131, 0.31912368535995483, 0.05534352362155914, 0.014374940656125546, 0.1344057023525238, 0.006468723528087139, 0.11284328997135162, 0.03665610030293465, 0.0007187470328062773, 0.0035937351640313864, 0.0007187470328062773, 0.01078120619058609, 0.0007187470328062773, 0.49373772740364075, 0.02259477786719799, 0.03849480673670769, 0.1004212275147438, 0.07029486447572708, 0.039331648498773575, 0.15397922694683075, 0.004184218123555183, 0.026778994128108025, 0.005857905372977257, 0.018410559743642807, 0.019247403368353844, 0.0016736871330067515, 0.003347374266013503, 0.0016736871330067515, 0.8456820249557495, 0.036969706416130066, 0.009242426604032516, 0.04621213302016258, 0.02772727981209755, 0.013863639906048775, 0.004621213302016258, 0.9426488876342773, 0.0010675524827092886, 0.002135104965418577, 0.017080839723348618, 0.02775636687874794, 0.0032026576809585094, 0.0010675524827092886, 0.0032026576809585094, 0.0010675524827092886, 0.8907469511032104, 0.8976662158966064, 0.23949168622493744, 0.7317801117897034, 0.10112331062555313, 0.8426942825317383, 0.8924567699432373, 0.17274592816829681, 0.045459453016519547, 0.027275672182440758, 0.7364431619644165, 0.841042160987854, 0.8111112713813782, 0.06759260594844818, 0.936596691608429, 0.2552499771118164, 0.7207058072090149, 0.9841153025627136, 0.42014506459236145, 0.007502590771764517, 0.011253885924816132, 0.1988186538219452, 0.033761657774448395, 0.033761657774448395, 0.2813471555709839, 0.007502590771764517, 0.2639191448688507, 0.6409465074539185, 0.8764708638191223, 0.02751936763525009, 0.02751936763525009, 0.9264854192733765, 0.03160446509718895, 0.9165295362472534, 0.16140106320381165, 0.12105079740285873, 0.030262699350714684, 0.5548161864280701, 0.10087566822767258, 0.010087566450238228, 0.08754799515008926, 0.006734461523592472, 0.6532427668571472, 0.16836152970790863, 0.006734461523592472, 0.060610152781009674, 0.006734461523592472, 0.01020242553204298, 0.9182183146476746, 0.030607277527451515, 0.01020242553204298, 0.015303638763725758, 0.00510121276602149, 0.3497401475906372, 0.12983198463916779, 0.17320199310779572, 0.1504049450159073, 0.10091865807771683, 0.03975583612918854, 0.015568718314170837, 0.008340384811162949, 0.009452436119318008, 0.0019460897892713547, 0.005838269367814064, 0.008340384811162949, 0.00027801282703876495, 0.0008340384811162949, 0.0011120513081550598, 0.0008340384811162949, 0.0022241026163101196, 0.00027801282703876495, 0.0005560256540775299, 0.08590834587812424, 0.14727145433425903, 0.7363572716712952, 0.017014965415000916, 0.22403039038181305, 0.2750752866268158, 0.05104489624500275, 0.22403039038181305, 0.107761450111866, 0.028358276933431625, 0.053880725055933, 0.019850794225931168, 0.1480035036802292, 0.16730830073356628, 0.045044541358947754, 0.03860960900783539, 0.012869869358837605, 0.5727092027664185, 0.9016676545143127, 0.2088591754436493, 0.019891349598765373, 0.019891349598765373, 0.5867947936058044, 0.019891349598765373, 0.1292937695980072, 0.9076778888702393, 0.8971682190895081, 0.8003735542297363, 0.16265007853507996, 0.7590336799621582, 0.29171016812324524, 0.07955732196569443, 0.06629776954650879, 0.09944665431976318, 0.07955732196569443, 0.12430831789970398, 0.0066297766752541065, 0.016574442386627197, 0.07789988070726395, 0.0066297766752541065, 0.033148884773254395, 0.07458499073982239, 0.029833994805812836, 0.009944665245711803, 0.1952860951423645, 0.05207629129290581, 0.5598201155662537, 0.13019073009490967, 0.026038145646452904, 0.9094529747962952, 0.21045833826065063, 0.748296320438385, 0.2998634874820709, 0.6639834046363831, 0.6109814643859863, 0.3683858811855316, 0.006120058707892895, 0.01836017705500126, 0.12852123379707336, 0.16524158418178558, 0.10404099524021149, 0.25704246759414673, 0.21420206129550934, 0.04284041002392769, 0.05508052930235863, 0.006120058707892895, 0.23870441317558289, 0.0477408841252327, 0.6206315159797668, 0.02387044206261635, 0.02387044206261635, 0.9378348588943481, 0.03802033141255379, 0.028652526438236237, 0.042978789657354355, 0.9025545716285706, 0.03205615654587746, 0.8014038801193237, 0.09616846591234207, 0.3041251599788666, 0.077149398624897, 0.16100744903087616, 0.1520625799894333, 0.0939210057258606, 0.09615722298622131, 0.008944857865571976, 0.006708643399178982, 0.02012593112885952, 0.003354321699589491, 0.008944857865571976, 0.04472428932785988, 0.001118107233196497, 0.012299180030822754, 0.001118107233196497, 0.001118107233196497, 0.004472428932785988, 0.007933145388960838, 0.5632533431053162, 0.09519774466753006, 0.0713983103632927, 0.007933145388960838, 0.03966572880744934, 0.1983286291360855, 0.05070934072136879, 0.8620588183403015, 0.9216770529747009, 0.987049400806427, 0.2473798245191574, 0.09870820492506027, 0.3997073173522949, 0.15842057764530182, 0.021935157477855682, 0.006093099247664213, 0.028028255328536034, 0.030465496703982353, 0.006093099247664213, 0.001218619872815907, 0.11225616186857224, 0.11225616186857224, 0.08980493247509003, 0.3030916452407837, 0.3592197299003601, 0.9042699933052063, 0.01988881081342697, 0.9546629190444946, 0.022343428805470467, 0.069108746945858, 0.7674707770347595, 0.08937371522188187, 0.0031176877673715353, 0.010911907069385052, 0.03585340827703476, 0.0005196146084927022, 0.013715067878365517, 0.9463397264480591, 0.05161912739276886, 0.6968582272529602, 0.012904781848192215, 0.20647650957107544, 0.9138588905334473, 0.021252533420920372, 0.8485761880874634, 0.3534196615219116, 0.183084636926651, 0.1320861428976059, 0.1346360594034195, 0.09485722333192825, 0.028559165075421333, 0.02957913465797901, 0.0209093876183033, 0.0076497760601341724, 0.0020399403292685747, 0.005099850706756115, 0.0025499253533780575, 0.0005099850823171437, 0.0010199701646342874, 0.0015299551887437701, 0.0020399403292685747, 0.0005099850823171437, 0.0005099850823171437, 0.8467950224876404, 0.018801426514983177, 0.7908350229263306, 0.1034078449010849, 0.029377227649092674, 0.004700356628745794, 0.03525267541408539, 0.014101069420576096, 0.0011750891571864486, 0.0011750891571864486, 0.9539178609848022, 0.8957822918891907, 0.1821160465478897, 0.7284641861915588, 0.8441829085350037, 0.8625006675720215, 0.29703429341316223, 0.22077183425426483, 0.16947215795516968, 0.12481395155191422, 0.07717853784561157, 0.03343639895319939, 0.0267949216067791, 0.025191806256771088, 0.006870492827147245, 0.002977213589474559, 0.005267377942800522, 0.0038932792376726866, 0.00022901642660144717, 0.00022901642660144717, 0.0011450821766629815, 0.002061147941276431, 0.0016031150007620454, 0.00022901642660144717, 0.0006870492943562567, 0.00022901642660144717, 0.9457495808601379, 0.060523636639118195, 0.7868072986602783, 0.9387674331665039, 0.09151766449213028, 0.7321413159370422, 0.9591858983039856, 0.02689306251704693, 0.13354240357875824, 0.12326990813016891, 0.16435988247394562, 0.564987063407898, 0.02281339466571808, 0.07857947051525116, 0.3447357416152954, 0.038022324442863464, 0.005069643259048462, 0.5044295191764832, 0.024132229387760162, 0.8808264136314392, 0.07239668816328049, 0.27656814455986023, 0.3802812099456787, 0.11523672938346863, 0.19590245187282562, 0.07338880747556686, 0.8072769045829773, 0.11346834152936935, 0.005972017999738455, 0.8659425973892212, 0.005972017999738455, 0.9239389300346375, 0.8645474910736084, 0.8973648548126221, 0.15943440794944763, 0.022776344791054726, 0.0911053791642189, 0.6605139970779419, 0.04157344624400139, 0.04157344624400139, 0.8314688801765442, 0.7699535489082336, 0.26381558179855347, 0.04991105943918228, 0.670234203338623, 0.9354432821273804, 0.02398572489619255, 0.8019768595695496, 0.18834304809570312, 0.7388388514518738, 0.21231001615524292, 0.03396960347890854, 0.8954246044158936, 0.7560661435127258, 0.07973060756921768, 0.0027493315283209085, 0.1402159035205841, 0.0027493315283209085, 0.010997326113283634, 0.9552578330039978, 0.7505289316177368, 0.29598724842071533, 0.1400570571422577, 0.14659304916858673, 0.11951535940170288, 0.16620104014873505, 0.07656452804803848, 0.0056022824719548225, 0.013071992434561253, 0.020541701465845108, 0.0018674274906516075, 0.0028011412359774113, 0.0018674274906516075, 0.0009337137453258038, 0.004668568726629019, 0.0018674274906516075, 0.0009337137453258038, 0.4216712415218353, 0.12298744916915894, 0.4216712415218353, 0.9686025381088257, 0.01670004427433014, 0.9429667592048645, 0.9519357681274414, 0.9461913108825684, 0.03794059157371521, 0.8726336359977722, 0.8405855894088745, 0.10248003900051117, 0.8608323335647583, 0.9168561100959778, 0.8583794236183167, 0.03129446879029274, 0.42105284333229065, 0.1394026279449463, 0.022759612649679184, 0.06827884167432785, 0.005689903162419796, 0.04551922529935837, 0.20483651757240295, 0.034139420837163925, 0.002844951581209898, 0.002844951581209898, 0.011379806324839592, 0.008534855209290981, 0.2972285747528076, 0.6687642931938171, 0.8722516894340515, 0.595193088054657, 0.005912513937801123, 0.10642525553703308, 0.09065854549407959, 0.18722960352897644, 0.0019708380568772554, 0.007883352227509022, 0.0019708380568772554, 0.9190561175346375, 0.2177426815032959, 0.15483924746513367, 0.20242005586624146, 0.23548468947410583, 0.07096798717975616, 0.0693550780415535, 0.01209681574255228, 0.004838726483285427, 0.006451635155826807, 0.0016129087889567018, 0.006451635155826807, 0.00887099839746952, 0.0016129087889567018, 0.0024193632416427135, 0.0008064543944783509, 0.0032258175779134035, 0.0008064543944783509, 0.0008064543944783509, 0.05471678823232651, 0.17011946439743042, 0.31238311529159546, 0.3979402780532837, 0.007958805188536644, 0.00596910435706377, 0.031835220754146576, 0.01293305866420269, 0.0009948506485670805, 0.001989701297134161, 0.0009948506485670805, 0.00852429773658514, 0.2599910795688629, 0.012786447070538998, 0.07245653122663498, 0.07671868056058884, 0.17474810779094696, 0.3494962155818939, 0.00426214886829257, 0.025572894141077995, 0.00852429773658514, 0.8332794308662415, 0.10014177858829498, 0.886970043182373, 0.9414968490600586, 0.9211570620536804, 0.7399111986160278, 0.7029465436935425, 0.039342671632766724, 0.8655387759208679, 0.8759663701057434, 0.9401406049728394, 0.04146474972367287, 0.23220260441303253, 0.4726981520652771, 0.24049554765224457, 0.07004904001951218, 0.2801961600780487, 0.3152206838130951, 0.3152206838130951, 0.5772507190704346, 0.3418406546115875, 0.013529312796890736, 0.03517621383070946, 0.0027058625128120184, 0.007215633522719145, 0.008117588236927986, 0.006313679274171591, 0.0036078167613595724, 0.0009019541903398931, 0.0009019541903398931, 0.6863918304443359, 0.27964112162590027, 0.12184975296258926, 0.8224858641624451, 0.9145622253417969, 0.23162519931793213, 0.02052375301718712, 0.0879589393734932, 0.31665217876434326, 0.10555072873830795, 0.07036715000867844, 0.002931964583694935, 0.026387682184576988, 0.002931964583694935, 0.02052375301718712, 0.09675483405590057, 0.002931964583694935, 0.002931964583694935, 0.00586392916738987, 0.002931964583694935, 0.10090654343366623, 0.050453271716833115, 0.8198656439781189, 0.7802734971046448, 0.22325928509235382, 0.7395464181900024, 0.7965377569198608, 0.054164569824934006, 0.1051429882645607, 0.035047661513090134, 0.0031861511524766684, 0.08188047260046005, 0.7369242906570435, 0.8285932540893555, 0.9581303596496582, 0.18133510649204254, 0.6346728801727295, 0.9370218515396118, 0.8911048173904419, 0.06198989972472191, 0.02324621193110943, 0.007748737465590239, 0.979193389415741, 0.23921041190624237, 0.05563032999634743, 0.2336473912000656, 0.4617317318916321, 0.4621613919734955, 0.23108069598674774, 0.286099910736084, 0.17696475982666016, 0.012310591526329517, 0.021543534472584724, 0.04924236610531807, 0.044625893235206604, 0.5216613411903381, 0.02000471204519272, 0.07540237158536911, 0.0015388239407911897, 0.012310591526329517, 0.02923765406012535, 0.0030776478815823793, 0.0015388239407911897, 0.02308235876262188, 0.0015388239407911897, 0.18415603041648865, 0.6905851364135742, 0.04051273688673973, 0.006752122659236193, 0.16205094754695892, 0.006752122659236193, 0.7562377452850342, 0.006752122659236193, 0.22264884412288666, 0.7550699710845947, 0.964234471321106, 0.9369170665740967, 0.8780733346939087, 0.11254250258207321, 0.8440687656402588, 0.032880377024412155, 0.8548898100852966, 0.032880377024412155, 0.9520480632781982, 0.029070168733596802, 0.3680449426174164, 0.08277827501296997, 0.24069376289844513, 0.14963765442371368, 0.09232961386442184, 0.02929077483713627, 0.009551339782774448, 0.006367559544742107, 0.004457291681319475, 0.001910267979837954, 0.00891458336263895, 0.0031837797723710537, 0.0006367559544742107, 0.0012735119089484215, 0.0006367559544742107, 0.0006367559544742107, 0.9001564383506775, 0.721835732460022, 0.44897976517677307, 0.01594736985862255, 0.14557085931301117, 0.12389878928661346, 0.089959517121315, 0.059291500598192215, 0.04538866505026817, 0.017174089327454567, 0.013085020706057549, 0.003271255176514387, 0.013902834616601467, 0.011449392884969711, 0.0008178137941285968, 0.004497976042330265, 0.001226720749400556, 0.0008178137941285968, 0.002453441498801112, 0.0004089068970642984, 0.0004089068970642984, 0.03881509229540825, 0.2846440374851227, 0.517534613609314, 0.0517534576356411, 0.09056854993104935, 0.8051453828811646, 0.04431993141770363, 0.05909324064850807, 0.04431993141770363, 0.014773310162127018, 0.007386655081063509, 0.014773310162127018, 0.007386655081063509, 0.020161820575594902, 0.947605550289154, 0.1071074903011322, 0.8033061623573303, 0.2559584081172943, 0.00595252076163888, 0.008928781375288963, 0.038691386580467224, 0.06845398992300034, 0.06845398992300034, 0.008928781375288963, 0.08035903424024582, 0.02381008304655552, 0.03571512550115585, 0.05654894933104515, 0.01488130260258913, 0.24405336380004883, 0.02678634412586689, 0.01488130260258913, 0.00595252076163888, 0.020833823829889297, 0.00595252076163888, 0.020833823829889297, 0.2918397784233093, 0.22710251808166504, 0.14461469650268555, 0.17332881689071655, 0.07413461059331894, 0.029758259654045105, 0.026103736832737923, 0.010441495105624199, 0.008875270374119282, 0.0026103737764060497, 0.006786971352994442, 0.0010441495105624199, 0.0005220747552812099, 0.0005220747552812099, 0.0005220747552812099, 0.0010441495105624199, 0.0005220747552812099, 0.0005220747552812099, 0.975124716758728, 0.9304313063621521, 0.9630202651023865, 0.9369067549705505, 0.5707662105560303, 0.08878585696220398, 0.03488015756011009, 0.18074263632297516, 0.04122200608253479, 0.06341847032308578, 0.015854617580771446, 0.8755297064781189, 0.1900835484266281, 0.5799158811569214, 0.03543930500745773, 0.10953967273235321, 0.02899579517543316, 0.009665264748036861, 0.022552285343408585, 0.012887019664049149, 0.003221754916012287, 0.2190188616514206, 0.5420163869857788, 0.026547741144895554, 0.1283140778541565, 0.028760051354765892, 0.008849246427416801, 0.0022123116068542004, 0.024335429072380066, 0.006636935286223888, 0.008849246427416801, 0.0022123116068542004, 0.0022123116068542004, 0.09174700081348419, 0.6881024837493896, 0.1376204937696457, 0.9123393893241882, 0.08257491141557693, 0.11599808931350708, 0.5105226635932922, 0.17825694382190704, 0.01310712844133377, 0.001966069219633937, 0.05898207798600197, 0.0353892482817173, 0.0013107128906995058, 0.0006553564453497529, 0.0006553564453497529, 0.9161736965179443, 0.12721481919288635, 0.01272148173302412, 0.06996814906597137, 0.6996815204620361, 0.03180370479822159, 0.01272148173302412, 0.03180370479822159, 0.01272148173302412, 0.9275638461112976, 0.17588688433170319, 0.13529761135578156, 0.5998193621635437, 0.03607936203479767, 0.03607936203479767, 0.0045099202543497086, 0.9075064659118652, 0.11455069482326508, 0.6873041987419128, 0.05727534741163254, 0.9361878037452698, 0.0032002688385546207, 0.8800739049911499, 0.05120430141687393, 0.009600806050002575, 0.0032002688385546207, 0.044803764671087265, 0.3286502957344055, 0.13308462500572205, 0.16432514786720276, 0.1755717396736145, 0.05873218551278114, 0.041237492114305496, 0.04248711094260216, 0.02874128147959709, 0.008122536353766918, 0.004373673349618912, 0.006248104851692915, 0.004373673349618912, 0.0006248104618862271, 0.0012496209237724543, 0.0006248104618862271, 0.0012496209237724543, 0.3098963499069214, 0.6197926998138428, 0.025824695825576782, 0.025824695825576782, 0.15304134786128998, 0.8240687847137451, 0.05470631644129753, 0.8889776468276978, 0.027353158220648766, 0.013676579110324383, 0.04881727322936058, 0.7528136968612671, 0.06937190890312195, 0.015415980480611324, 0.020554641261696815, 0.04110928252339363, 0.005138660315424204, 0.002569330157712102, 0.012846650555729866, 0.025693301111459732, 0.002569330157712102, 0.026913881301879883, 0.047099292278289795, 0.013456940650939941, 0.23549646139144897, 0.28259575366973877, 0.3633373975753784, 0.006728470325469971, 0.020185410976409912, 0.8342298269271851, 0.8612736463546753, 0.06983820348978043, 0.8380584716796875, 0.25050726532936096, 0.2822170555591583, 0.11256971955299377, 0.15854890644550323, 0.07451798766851425, 0.037258993834257126, 0.010305678471922874, 0.04201545938849449, 0.006341956090182066, 0.003170978045091033, 0.01426940131932497, 0.003963722847402096, 0.0007927445112727582, 0.0007927445112727582, 0.0007927445112727582, 0.0015854890225455165, 0.049056168645620346, 0.09811233729124069, 0.049056168645620346, 0.7358425259590149, 0.7615548968315125, 0.143933966755867, 0.06952742487192154, 0.6172083616256714, 0.07074720412492752, 0.02683514729142189, 0.021956028416752815, 0.0036593382246792316, 0.029274705797433853, 0.0036593382246792316, 0.0012197793694213033, 0.0024395587388426065, 0.0024395587388426065, 0.0012197793694213033, 0.0012197793694213033, 0.0036593382246792316, 0.0012197793694213033, 0.0012197793694213033, 0.8403422236442566, 0.8029939532279968, 0.9216380715370178, 0.005120211746543646, 0.0614425390958786, 0.002560105873271823, 0.005120211746543646, 0.26353684067726135, 0.2424539029598236, 0.23029066622257233, 0.12244327366352081, 0.026759127154946327, 0.004865295719355345, 0.029191773384809494, 0.07216855138540268, 0.0008108826004900038, 0.0016217652009800076, 0.0016217652009800076, 0.0008108826004900038, 0.0008108826004900038, 0.17262518405914307, 0.7552351355552673, 0.021578148007392883, 0.15628020465373993, 0.20250393450260162, 0.29935362935066223, 0.050625983625650406, 0.006603389047086239, 0.0022011296823620796, 0.026413556188344955, 0.25753217935562134, 0.3029525578022003, 0.6664956212043762, 0.1706821173429489, 0.2986936867237091, 0.4978228211402893, 0.881758987903595, 0.1106906458735466, 0.07218955457210541, 0.8133355975151062, 0.036933522671461105, 0.05078359693288803, 0.304701566696167, 0.5170693397521973, 0.004616690333932638, 0.027700142934918404, 0.013850071467459202, 0.04155021533370018, 0.36979910731315613, 0.14566132426261902, 0.18010063469409943, 0.15808206796646118, 0.05758703872561455, 0.0389559380710125, 0.010726997628808022, 0.017501942813396454, 0.008468681946396828, 0.0022583152167499065, 0.0050812093541026115, 0.0028228939045220613, 0.0005645788041874766, 0.0005645788041874766, 0.0011291576083749533, 0.0011291576083749533, 0.0005645788041874766, 0.8909944295883179, 0.3230838179588318, 0.18622396886348724, 0.15016154944896698, 0.1445452719926834, 0.07064686715602875, 0.04493022710084915, 0.018326804041862488, 0.02128273993730545, 0.014779679477214813, 0.0026603424921631813, 0.006798652932047844, 0.006207465659826994, 0.00029559360700659454, 0.0014779679477214813, 0.0017735615838319063, 0.0011823744280263782, 0.0032515295315533876, 0.0017735615838319063, 0.0005911872140131891, 0.00029559360700659454, 0.08115550130605698, 0.10634168982505798, 0.22387725114822388, 0.046174682676792145, 0.07276010513305664, 0.011193862184882164, 0.37079668045043945, 0.05037238076329231, 0.03358158841729164, 0.9121994972229004, 0.22293062508106232, 0.1606707125902176, 0.29724082350730896, 0.03815929591655731, 0.09841081500053406, 0.11447788774967194, 0.00401676818728447, 0.002008384093642235, 0.05824313685297966, 0.09896127134561539, 0.5611103773117065, 0.14547306299209595, 0.07817940413951874, 0.018802640959620476, 0.001979225315153599, 0.060366373509168625, 0.03067799285054207, 0.0009896126575767994, 0.0009896126575767994, 0.0009896126575767994, 0.007552070543169975, 0.9666650295257568, 0.007552070543169975, 0.007552070543169975, 0.9438497424125671, 0.018506858497858047, 0.02776028774678707, 0.1785430908203125, 0.0510123111307621, 0.7396785020828247, 0.08590333163738251, 0.6381390690803528, 0.06954079121351242, 0.07772206515073776, 0.11862841248512268, 0.1406637579202652, 0.8508442044258118, 0.8669862151145935, 0.312496155500412, 0.218211829662323, 0.16887032985687256, 0.13444602489471436, 0.06846611201763153, 0.030408132821321487, 0.019889596849679947, 0.023714518174529076, 0.00745859881862998, 0.0024861996062099934, 0.004398660734295845, 0.0026774457655847073, 0.0005737383617088199, 0.0003824922314379364, 0.0011474767234176397, 0.0019124612445011735, 0.0017212150851264596, 0.0001912461157189682, 0.0005737383617088199, 0.0001912461157189682, 0.36609581112861633, 0.0677955225110054, 0.009039402939379215, 0.04067731276154518, 0.4429307281970978, 0.02711820788681507, 0.004519701469689608, 0.009039402939379215, 0.02711820788681507, 0.04967239499092102, 0.2483619749546051, 0.6883174777030945, 0.3460700809955597, 0.14395752549171448, 0.0829424113035202, 0.14872433245182037, 0.1434808373451233, 0.052434857934713364, 0.011917013674974442, 0.006196846719831228, 0.035274360328912735, 0.0042901248671114445, 0.010486971586942673, 0.003336763707920909, 0.003336763707920909, 0.00047668052138760686, 0.0009533610427752137, 0.0019067220855504274, 0.002383402781561017, 0.00047668052138760686, 0.00047668052138760686, 0.00047668052138760686, 0.28198906779289246, 0.15230178833007812, 0.21276096999645233, 0.11538013815879822, 0.08768890798091888, 0.05630550906062126, 0.01984538324177265, 0.013845616951584816, 0.021229945123195648, 0.004615205340087414, 0.007384329102933407, 0.01569169946014881, 0.0004615205689333379, 0.0004615205689333379, 0.0018460822757333517, 0.0036921645514667034, 0.002307602670043707, 0.0018460822757333517, 0.0004615205689333379, 0.9348810911178589, 0.32002848386764526, 0.22481846809387207, 0.15295027196407318, 0.1382080763578415, 0.07002542912960052, 0.020270517095923424, 0.022113291546702385, 0.028255874291062355, 0.007985355332493782, 0.0036855486687272787, 0.003071290673688054, 0.003071290673688054, 0.0006142581114545465, 0.001228516222909093, 0.001228516222909093, 0.0006142581114545465, 0.40581926703453064, 0.064076729118824, 0.49125489592552185, 0.43964558839797974, 0.1437302976846695, 0.39737197756767273, 0.008454723283648491, 0.24054951965808868, 0.3772253692150116, 0.06560441106557846, 0.016401102766394615, 0.2897528409957886, 0.005467034410685301, 0.005467034410685301, 0.4982954263687134, 0.03833041712641716, 0.034071482717990875, 0.40246936678886414, 0.012776805087924004, 0.0021294676698744297, 0.0021294676698744297, 0.0021294676698744297, 0.0021294676698744297, 0.0021294676698744297, 0.01990947499871254, 0.10950211435556412, 0.8461527228355408, 0.298446923494339, 0.1623605191707611, 0.24151968955993652, 0.1465286761522293, 0.04749550297856331, 0.016168681904673576, 0.04985343664884567, 0.026610955595970154, 0.001684237620793283, 0.0010105426190420985, 0.0026947802398353815, 0.0003368475299794227, 0.0003368475299794227, 0.0010105426190420985, 0.0023579327389597893, 0.0006736950599588454, 0.0003368475299794227, 0.0003368475299794227, 0.9080064296722412, 0.9610737562179565, 0.7632574439048767, 0.8447515368461609, 0.8054105043411255, 0.3053797781467438, 0.18537087738513947, 0.21483735740184784, 0.1398317962884903, 0.060004446655511856, 0.016608374193310738, 0.03589551895856857, 0.022501667961478233, 0.006429047789424658, 0.002678769873455167, 0.003750277915969491, 0.0016072619473561645, 0.0005357540212571621, 0.0005357540212571621, 0.0010715080425143242, 0.0016072619473561645, 0.0005357540212571621, 0.0005357540212571621, 0.0010715080425143242, 0.8373498916625977, 0.2974725365638733, 0.10551855713129044, 0.11225378513336182, 0.11786647140979767, 0.1897088885307312, 0.1077636331319809, 0.005612689070403576, 0.004490151535719633, 0.031431060284376144, 0.0011225378839299083, 0.010102841071784496, 0.010102841071784496, 0.0011225378839299083, 0.0011225378839299083, 0.0011225378839299083, 0.0011225378839299083, 0.0022450757678598166, 0.01161798182874918, 0.16265174746513367, 0.4995732009410858, 0.17426972091197968, 0.09294385462999344, 0.01161798182874918, 0.034853946417570114, 0.01161798182874918, 0.7691625356674194, 0.1809794157743454, 0.9473140835762024, 0.09234476834535599, 0.006925857625901699, 0.12004819512367249, 0.08541890978813171, 0.023086192086338997, 0.023086192086338997, 0.6417961120605469, 0.004617238417267799, 0.09791228175163269, 0.2610994279384613, 0.11423099786043167, 0.03263742849230766, 0.47324270009994507, 0.8159089684486389, 0.248940110206604, 0.11617205291986465, 0.5974562764167786, 0.857568085193634, 0.2469245195388794, 0.20454195141792297, 0.31879061460494995, 0.09490009397268295, 0.03685440495610237, 0.007370881270617247, 0.02119128219783306, 0.044225286692380905, 0.0009213601588271558, 0.0009213601588271558, 0.005528160836547613, 0.0009213601588271558, 0.01013496145606041, 0.00644952105358243, 0.061497434973716736, 0.6149743795394897, 0.11740419268608093, 0.08106479793787003, 0.025158042088150978, 0.02236270345747471, 0.064292773604393, 0.005590675864368677, 0.005590675864368677, 0.0027953379321843386, 0.24070174992084503, 0.736264169216156, 0.8687158226966858, 0.02471955679357052, 0.08475276082754135, 0.0070627303794026375, 0.0035313651897013187, 0.0035313651897013187, 0.0035313651897013187, 0.7019401788711548, 0.008696604520082474, 0.021120324730873108, 0.05093725398182869, 0.0906931608915329, 0.03354404494166374, 0.011181348003447056, 0.045967765152454376, 0.007454232312738895, 0.009938976727426052, 0.006211860105395317, 0.008696604520082474, 0.002484744181856513, 0.0012423720909282565, 0.08717943727970123, 0.11888104677200317, 0.4755241870880127, 0.22455309331417084, 0.03698521479964256, 0.00792540330439806, 0.00792540330439806, 0.0343434140086174, 0.0026418010238558054, 0.8070783615112305, 0.05380522459745407, 0.938051700592041, 0.894611120223999, 0.8496644496917725, 0.011201211251318455, 0.9565834403038025, 0.013441452756524086, 0.008960968814790249, 0.006720726378262043, 0.0022402422036975622, 0.9876025915145874, 0.021786706522107124, 0.8123329281806946, 0.015561932697892189, 0.08403443545103073, 0.04357341304421425, 0.012449546717107296, 0.003112386679276824, 0.9341973066329956, 0.03663519024848938, 0.012211729772388935, 0.903456449508667, 0.03817421570420265, 0.01272473856806755, 0.01272473856806755, 0.1605612337589264, 0.053520411252975464, 0.026760205626487732, 0.053520411252975464, 0.6690051555633545, 0.7300280332565308, 0.08074160665273666, 0.016148321330547333, 0.7912677526473999, 0.08074160665273666, 0.05478150025010109, 0.018260499462485313, 0.8947645425796509, 0.6203395128250122, 0.2757064402103424, 0.14828777313232422, 0.010591983795166016, 0.050841521471738815, 0.11227502673864365, 0.012710380367934704, 0.6524661779403687, 0.006355190183967352, 0.002118396805599332, 0.002118396805599332, 0.03977344557642937, 0.21875394880771637, 0.019886722788214684, 0.009943361394107342, 0.6960353255271912, 0.8601995706558228, 0.9056233763694763, 0.09092123061418533, 0.4364219009876251, 0.009092123247683048, 0.4455140233039856, 0.764637291431427, 0.1994706094264984, 0.018832197412848473, 0.05649659410119057, 0.037664394825696945, 0.809784471988678, 0.05649659410119057, 0.3628401756286621, 0.021343540400266647, 0.05691610649228096, 0.07114513218402863, 0.1280612349510193, 0.021343540400266647, 0.03557256609201431, 0.2845805287361145, 0.16358476877212524, 0.013632064685225487, 0.09542445093393326, 0.1499527096748352, 0.5316505432128906, 0.9431473612785339, 0.05528227239847183, 0.7923792004585266, 0.04606856033205986, 0.018427424132823944, 0.05528227239847183, 0.009213712066411972, 0.009213712066411972, 0.5128508806228638, 0.06593797355890274, 0.021979324519634247, 0.35166919231414795, 0.00732644135132432, 0.02930576540529728, 0.9674625992774963, 0.8535155653953552, 0.11691994220018387, 0.20035746693611145, 0.7212868928909302, 0.41386181116104126, 0.5173272490501404, 0.05571216717362404, 0.018017908558249474, 0.9369311928749084, 0.9124555587768555, 0.04055358096957207, 0.13651005923748016, 0.7917582988739014, 0.005138371139764786, 0.13359765708446503, 0.09249068051576614, 0.5960510969161987, 0.02569185569882393, 0.020553484559059143, 0.07707557082176208, 0.0359685979783535, 0.8757493495941162, 0.850968599319458, 0.04727603495121002, 0.035457026213407516, 0.02363801747560501, 0.02363801747560501, 0.005909504368901253, 0.005909504368901253, 0.11153639107942581, 0.022307278588414192, 0.7807547450065613, 0.022307278588414192, 0.03346091881394386, 0.9127543568611145, 0.04600749537348747, 0.9201499223709106, 0.2152567058801651, 0.717522382736206, 0.798481822013855, 0.10023336112499237, 0.3132292628288269, 0.06264585256576538, 0.501166820526123, 0.05510471388697624, 0.13592495024204254, 0.27797266840934753, 0.1408231556415558, 0.004898196551948786, 0.0012245491379871964, 0.15919138491153717, 0.22041885554790497, 0.0012245491379871964, 0.002449098275974393, 0.40142005681991577, 0.34789738059043884, 0.1835063099861145, 0.03440743312239647, 0.011469144374132156, 0.015292192809283733, 0.00797878485172987, 0.41968411207199097, 0.1372351050376892, 0.37659865617752075, 0.0031915141735225916, 0.051064226776361465, 0.0015957570867612958, 0.9201777577400208, 0.9644961357116699, 0.9510577321052551, 0.012193048372864723, 0.012193048372864723, 0.2489355355501175, 0.06638281047344208, 0.00829785130918026, 0.01659570261836052, 0.04148925468325615, 0.6057431101799011, 0.25949826836586, 0.12211683392524719, 0.5953195691108704, 0.8230355381965637, 0.923783540725708, 0.021929578855633736, 0.002741197356954217, 0.019188381731510162, 0.01644718460738659, 0.010964789427816868, 0.05348442494869232, 0.6532740592956543, 0.0382031612098217, 0.1337110549211502, 0.01528126373887062, 0.04966410622000694, 0.01910158060491085, 0.003820315934717655, 0.003820315934717655, 0.01910158060491085, 0.003820315934717655, 0.05263920873403549, 0.026319604367017746, 0.13159802556037903, 0.7369489073753357, 0.1493360698223114, 0.11403845250606537, 0.559331476688385, 0.07874083518981934, 0.027152013033628464, 0.002715201349928975, 0.002715201349928975, 0.024436812847852707, 0.024436812847852707, 0.00543040269985795, 0.002715201349928975, 0.00543040269985795, 0.964133620262146, 0.402551531791687, 0.5750735998153687, 0.8472402095794678, 0.8406628370285034, 0.6458207964897156, 0.2348439246416092, 0.1522645652294159, 0.7474806308746338, 0.013842233456671238, 0.05536893382668495, 0.2695159614086151, 0.21405600011348724, 0.10216309130191803, 0.29967841506004333, 0.01751367188990116, 0.010702800005674362, 0.06616276502609253, 0.010702800005674362, 0.0038919271901249886, 0.0009729817975312471, 0.0009729817975312471, 0.0019459635950624943, 0.0009729817975312471, 0.8886606693267822, 0.12002838402986526, 0.7801845073699951, 0.929275393486023, 0.8536636829376221, 0.038148730993270874, 0.07629746198654175, 0.19074365496635437, 0.610379695892334, 0.12605425715446472, 0.32705971598625183, 0.15671610832214355, 0.02044123224914074, 0.0034068720415234566, 0.296397864818573, 0.0034068720415234566, 0.05791682377457619, 0.9468250274658203, 0.21508613228797913, 0.4513779580593109, 0.06816110014915466, 0.13026343286037445, 0.015146911144256592, 0.007573455572128296, 0.07270517200231552, 0.03332320228219032, 0.003029382089152932, 0.001514691044576466, 0.001514691044576466, 0.4944508671760559, 0.20013487339019775, 0.2825433611869812, 0.1382598876953125, 0.7949942946434021, 0.10847285389900208, 0.603598952293396, 0.1889527142047882, 0.06473379582166672, 0.012246934697031975, 0.0017495620995759964, 0.015746058896183968, 0.0017495620995759964, 0.0017495620995759964, 0.9757699966430664, 0.9208784103393555, 0.010544409044086933, 0.04217763617634773, 0.003514803247526288, 0.017574016004800797, 0.816109836101532, 0.04539497569203377, 0.9078994989395142, 0.7924947738647461, 0.8565964698791504, 0.9047549366950989, 0.855156660079956, 0.7455941438674927, 0.18259449303150177, 0.030432414263486862, 0.7783144116401672, 0.18333597481250763, 0.7333438992500305, 0.9528730511665344, 0.03285769000649452, 0.03318871185183525, 0.9292839765548706, 0.7774528861045837, 0.08174562454223633, 0.735710620880127, 0.7414887547492981, 0.8262022137641907, 0.96185702085495, 0.845676839351654, 0.9027759432792664, 0.9784215092658997, 0.7911475300788879, 0.030686935409903526, 0.026851067319512367, 0.0872659683227539, 0.02781003527343273, 0.009589667432010174, 0.0019179334631189704, 0.0009589667315594852, 0.010548633523285389, 0.0009589667315594852, 0.0028769001364707947, 0.0009589667315594852, 0.0009589667315594852, 0.005753800272941589, 0.0009589667315594852, 0.92520672082901, 0.1425442099571228, 0.7839931845664978, 0.1747242510318756, 0.6018279790878296, 0.01941380649805069, 0.15531045198440552, 0.022951655089855194, 0.011475827544927597, 0.8033078908920288, 0.06885496526956558, 0.03442748263478279, 0.03442748263478279, 0.23253782093524933, 0.7333884835243225, 0.9556658864021301, 0.01837819069623947, 0.07298988103866577, 0.07298988103866577, 0.053083550184965134, 0.21896964311599731, 0.26541775465011597, 0.019906330853700638, 0.013270887546241283, 0.019906330853700638, 0.019906330853700638, 0.20569874346256256, 0.026541775092482567, 0.9292038679122925, 0.04160614311695099, 0.009245810098946095, 0.009245810098946095, 0.834248423576355, 0.142243891954422, 0.568975567817688, 0.025862524285912514, 0.07758757472038269, 0.11638136208057404, 0.05172504857182503, 0.8240217566490173, 0.9479159712791443, 0.024305537343025208, 0.10023828595876694, 0.7016680240631104, 0.9230302572250366, 0.907460629940033, 0.8752731680870056, 0.07722998410463333, 0.9526383280754089, 0.22631748020648956, 0.25289568305015564, 0.3012197017669678, 0.08778862655162811, 0.041880812495946884, 0.024967407807707787, 0.029799809679389, 0.024162007495760918, 0.003221601014956832, 0.001610800507478416, 0.001610800507478416, 0.000805400253739208, 0.000805400253739208, 0.003221601014956832, 0.000805400253739208, 0.975818395614624, 0.9468948841094971, 0.01721627078950405, 0.23513302206993103, 0.15127068758010864, 0.12844738364219666, 0.10084711760282516, 0.10350099205970764, 0.09607014805078506, 0.02176174707710743, 0.014330906793475151, 0.035561878234148026, 0.009023163467645645, 0.03237723186612129, 0.024415617808699608, 0.001061548595316708, 0.02070019766688347, 0.005307743325829506, 0.002123097190633416, 0.005838517565280199, 0.003184645902365446, 0.002123097190633416, 0.006900066044181585, 0.14952082931995392, 0.016613425686955452, 0.23258794844150543, 0.033226851373910904, 0.033226851373910904, 0.016613425686955452, 0.48178932070732117, 0.29591113328933716, 0.12742993235588074, 0.13854798674583435, 0.1188775897026062, 0.15479743480682373, 0.08381297439336777, 0.018815157935023308, 0.010262813419103622, 0.020525626838207245, 0.001710468903183937, 0.009407578967511654, 0.008552344515919685, 0.001710468903183937, 0.0008552344515919685, 0.0008552344515919685, 0.007697110064327717, 0.6680231094360352, 0.2982245981693268, 0.6482912302017212, 0.28884264826774597, 0.016046812757849693, 0.0032093627378344536, 0.012837450951337814, 0.00962808821350336, 0.017651494592428207, 0.1080099567770958, 0.06988879293203354, 0.6289991736412048, 0.1334240585565567, 0.012707053683698177, 0.012707053683698177, 0.01906058005988598, 0.9060170650482178, 0.014613178558647633, 0.029226357117295265, 0.014613178558647633, 0.02130703441798687, 0.8735883831977844, 0.02130703441798687, 0.037287309765815735, 0.037287309765815735, 0.0053267586044967175, 0.05235636606812477, 0.013089091517031193, 0.7984345555305481, 0.09162364155054092, 0.026178183034062386, 0.0850885733962059, 0.6594364047050476, 0.10636071860790253, 0.04254428669810295, 0.04254428669810295, 0.16060520708560944, 0.07732842862606049, 0.5502215027809143, 0.1219409853219986, 0.05948340892791748, 0.02081919275224209, 0.0029741704929620028, 0.06330481916666031, 0.8546150922775269, 0.3095948398113251, 0.12123994529247284, 0.10933244973421097, 0.14288993179798126, 0.056289974600076675, 0.13422994315624237, 0.05953747034072876, 0.004329998046159744, 0.04221748188138008, 0.002164999023079872, 0.004329998046159744, 0.008659996092319489, 0.001082499511539936, 0.002164999023079872, 0.273563414812088, 0.07942163199186325, 0.008824625983834267, 0.12354476004838943, 0.16766789555549622, 0.07942163199186325, 0.2559141516685486, 0.9668776988983154, 0.9758832454681396, 0.6373234987258911, 0.10622058063745499, 0.14090080559253693, 0.2994142174720764, 0.5283780097961426, 0.8506491184234619, 0.8915255665779114, 0.01938099041581154, 0.03876198083162308, 0.1406286358833313, 0.8523817658424377, 0.8735888600349426, 0.4695641100406647, 0.0790759027004242, 0.11086930334568024, 0.12554317712783813, 0.09374977648258209, 0.03260861709713936, 0.03260861709713936, 0.012228231877088547, 0.019565170630812645, 0.003260861849412322, 0.00815215427428484, 0.0073369392193853855, 0.0008152154623530805, 0.0008152154623530805, 0.0008152154623530805, 0.0008152154623530805, 0.001630430924706161, 0.0008152154623530805, 0.06007719412446022, 0.6808748841285706, 0.22028304636478424, 0.07087419182062149, 0.023624731227755547, 0.8741150498390198, 0.10247034579515457, 0.04611165449023247, 0.020494068041443825, 0.2510523498058319, 0.5738339424133301, 0.058354806154966354, 0.8169673085212708, 0.10806454718112946, 0.027016136795282364, 0.8104841113090515, 0.11382108181715012, 0.04193408414721489, 0.6350018382072449, 0.11382108181715012, 0.005990583449602127, 0.04792466759681702, 0.029952917248010635, 0.03584685176610947, 0.2150810956954956, 0.011948949657380581, 0.7049880623817444, 0.9238423705101013, 0.017766200006008148, 0.017766200006008148, 0.017766200006008148, 0.7229796051979065, 0.08033107221126556, 0.05993775650858879, 0.24666692316532135, 0.5371345281600952, 0.07838014513254166, 0.018442386761307716, 0.004610596690326929, 0.04380067065358162, 0.004610596690326929, 0.0023052983451634645, 0.8599222302436829, 0.06929205358028412, 0.04619470611214638, 0.7853099703788757, 0.02309735305607319, 0.02309735305607319, 0.14693045616149902, 0.13223740458488464, 0.1616234928369522, 0.014693045057356358, 0.029386090114712715, 0.45548442006111145, 0.014693045057356358, 0.014693045057356358, 0.1213667169213295, 0.7282002568244934, 0.03210601210594177, 0.8989683389663696, 0.8817939162254333, 0.8919163346290588, 0.9000254273414612, 0.016350416466593742, 0.27795708179473877, 0.6703670620918274, 0.016989700496196747, 0.05096909776329994, 0.9004541039466858, 0.8054994344711304, 0.02549048885703087, 0.0356866829097271, 0.10196195542812347, 0.020392389968037605, 0.9042074084281921, 0.7222790718078613, 0.044221166521310806, 0.11792311817407608, 0.05896155908703804, 0.01474038977175951, 0.9852195978164673, 0.27394136786460876, 0.11754222214221954, 0.2545129060745239, 0.15105631947517395, 0.055371128022670746, 0.03788550943136215, 0.050514012575149536, 0.03739979863166809, 0.007771386299282312, 0.001457134960219264, 0.0043714046478271484, 0.0033999814186245203, 0.001457134960219264, 0.0004857116437051445, 0.000971423287410289, 0.000971423287410289, 0.0004857116437051445, 0.13295595347881317, 0.056981123983860016, 0.07597482949495316, 0.01899370737373829, 0.07597482949495316, 0.09496854245662689, 0.4938364028930664, 0.01707620918750763, 0.956267774105072, 0.8694380521774292, 0.08087795972824097, 0.02021948993206024, 0.2059984803199768, 0.00542101263999939, 0.054210126399993896, 0.2114194929599762, 0.22226151823997498, 0.13010430335998535, 0.01084202527999878, 0.03794708847999573, 0.00542101263999939, 0.1029992401599884, 0.07943660020828247, 0.0585322305560112, 0.5476944446563721, 0.10452184081077576, 0.1170644611120224, 0.06689397990703583, 0.004180873744189739, 0.004180873744189739, 0.012542620301246643, 0.056458696722984314, 0.8468804359436035, 0.9332415461540222, 0.003369102953001857, 0.006738205906003714, 0.013476411812007427, 0.020214617252349854, 0.016845514997839928, 0.9328713417053223, 0.12031831592321396, 0.14862850308418274, 0.5378936529159546, 0.18401624262332916, 0.21080529689788818, 0.7621422410011292, 0.16467565298080444, 0.0038296664133667946, 0.6548729538917542, 0.049785662442445755, 0.0038296664133667946, 0.10340099036693573, 0.011488999240100384, 0.0038296664133667946, 0.9212895631790161, 0.014859508723020554, 0.029719017446041107, 0.9667119979858398, 0.6648615002632141, 0.13460122048854828, 0.7403067350387573, 0.2219763547182083, 0.30032095313072205, 0.4439527094364166, 0.8116384148597717, 0.11325187236070633, 0.04718828201293945, 0.2091682255268097, 0.1927167922258377, 0.06110532209277153, 0.13396167755126953, 0.2961257994174957, 0.021151842549443245, 0.0023502048570662737, 0.025852251797914505, 0.009400819428265095, 0.02350204810500145, 0.0023502048570662737, 0.01880163885653019, 0.0023502048570662737, 0.9028211236000061, 0.8620124459266663, 0.20743918418884277, 0.7739077210426331, 0.8680749535560608, 0.7201575040817261, 0.6466745138168335, 0.14596368372440338, 0.0286384429782629, 0.049886319786310196, 0.08961061388254166, 0.0018476415425539017, 0.0286384429782629, 0.0027714623138308525, 0.0018476415425539017, 0.0009238207712769508, 0.0018476415425539017, 0.9380330443382263, 0.03517623990774155, 0.10723589360713959, 0.10723589360713959, 0.7292040586471558, 0.9184390306472778, 0.06726018339395523, 0.11617667973041534, 0.12229124456644058, 0.2017805576324463, 0.4402484893798828, 0.024458248168230057, 0.012229124084115028, 0.006114562042057514, 0.18131275475025177, 0.7359164357185364, 0.01066545583307743, 0.0533272810280323, 0.02789534628391266, 0.5718545913696289, 0.2789534628391266, 0.0976337119936943, 0.8125508427619934, 0.13320505619049072, 0.026641011238098145, 0.0996074378490448, 0.0249018594622612, 0.0498037189245224, 0.8093104362487793, 0.955228865146637, 0.9446636438369751, 0.9913035035133362, 0.014168253168463707, 0.1186591237783432, 0.628716230392456, 0.0070841265842318535, 0.00885515846312046, 0.00885515846312046, 0.2089817374944687, 0.8685948252677917, 0.04342973977327347, 0.8100174069404602, 0.14175304770469666, 0.21214333176612854, 0.7159837484359741, 0.19640761613845825, 0.7070673704147339, 0.01064594741910696, 0.9687812328338623, 0.1182251051068306, 0.8275757431983948, 0.06109916791319847, 0.05276746302843094, 0.19718368351459503, 0.01944064348936081, 0.2749462425708771, 0.24717390537261963, 0.002777234883978963, 0.02777234837412834, 0.049990229308605194, 0.05554469674825668, 0.002777234883978963, 0.002777234883978963, 0.9789404273033142, 0.09354325383901596, 0.8418892621994019, 0.2648399770259857, 0.0784711018204689, 0.16675108671188354, 0.058853328227996826, 0.4119732975959778, 0.15390929579734802, 0.01710103265941143, 0.3762226998806, 0.4275258183479309, 0.9393160939216614, 0.9353637099266052, 0.05284540727734566, 0.14155955612659454, 0.7549843192100525, 0.8217681050300598, 0.06848067790269852, 0.08930400758981705, 0.8037360906600952, 0.059536006301641464, 0.2072746455669403, 0.04877050593495369, 0.14631152153015137, 0.03657788038253784, 0.012192626483738422, 0.03657788038253784, 0.49989768862724304, 0.9643925428390503, 0.027923479676246643, 0.9653545618057251, 0.9787575006484985, 0.009595661424100399, 0.9765501022338867, 0.9150511622428894, 0.021862681955099106, 0.20769546926021576, 0.14210742712020874, 0.4372536242008209, 0.17490145564079285, 0.8817698359489441, 0.9424605369567871, 0.31746551394462585, 0.01443025004118681, 0.11544200032949448, 0.5194889903068542, 0.01443025004118681, 0.031692251563072205, 0.015846125781536102, 0.9190753102302551, 0.03841365873813629, 0.15365463495254517, 0.6914458274841309, 0.08892019838094711, 0.009880022145807743, 0.8694419264793396, 0.019760044291615486, 0.08889544010162354, 0.6222680807113647, 0.2370545119047165, 0.9633728861808777, 0.29726094007492065, 0.1766439527273178, 0.1820264607667923, 0.16000713407993317, 0.06336674094200134, 0.04917650297284126, 0.0286251287907362, 0.018838759511709213, 0.010031027719378471, 0.0012232960434630513, 0.003669888246804476, 0.0031805699691176414, 0.00024465922615490854, 0.00024465922615490854, 0.0009786369046196342, 0.0009786369046196342, 0.0024465920869261026, 0.00024465922615490854, 0.0004893184523098171, 0.00024465922615490854, 0.02082231268286705, 0.02082231268286705, 0.22904543578624725, 0.11660494655370712, 0.008328924886882305, 0.0020822312217205763, 0.5955181121826172, 0.004164462443441153, 0.7519550323486328, 0.06835954636335373, 0.2893172800540924, 0.09775567054748535, 0.10565511882305145, 0.08393163233995438, 0.17378784716129303, 0.1333031803369522, 0.014811464585363865, 0.016786327585577965, 0.03949723765254021, 0.0019748620688915253, 0.010861740447580814, 0.020736049860715866, 0.0019748620688915253, 0.0019748620688915253, 0.0059245857410132885, 0.0009874310344457626, 0.9394338130950928, 0.290169894695282, 0.16433383524417877, 0.1654830276966095, 0.15686412155628204, 0.08446529507637024, 0.06492910534143448, 0.011491877026855946, 0.016663221642374992, 0.013215658254921436, 0.0022983753588050604, 0.007469720207154751, 0.012641064822673798, 0.0005745938397012651, 0.0011491876794025302, 0.0011491876794025302, 0.0017237815773114562, 0.0028729692567139864, 0.0005745938397012651, 0.0022983753588050604, 0.23050744831562042, 0.19406692683696747, 0.2423717975616455, 0.0855928361415863, 0.027965977787971497, 0.03135579451918602, 0.08220302313566208, 0.09576228260993958, 0.004237269517034292, 0.0008474538335576653, 0.0016949076671153307, 0.0008474538335576653, 0.0008474538335576653, 0.25199955701828003, 0.18899966776371002, 0.3419994115829468, 0.08099985867738724, 0.01799996942281723, 0.10799980908632278, 0.9266507625579834, 0.8216015100479126, 0.1522471308708191, 0.23112879693508148, 0.3204912543296814, 0.11970154941082001, 0.020961562171578407, 0.01985832117497921, 0.05295552313327789, 0.05957496538758278, 0.007171060424298048, 0.0011032400652766228, 0.007171060424298048, 0.0022064801305532455, 0.0005516200326383114, 0.0016548600979149342, 0.0016548600979149342, 0.0005516200326383114, 0.0005516200326383114, 0.06456858664751053, 0.2066194862127304, 0.5509852766990662, 0.09470059722661972, 0.004304572474211454, 0.07317773252725601, 0.2813151776790619, 0.2510785758495331, 0.13587331771850586, 0.14812105894088745, 0.07540012151002884, 0.03789143264293671, 0.023347247391939163, 0.023347247391939163, 0.007272093091160059, 0.002679192228242755, 0.006123867817223072, 0.003827417502179742, 0.000382741738576442, 0.001148225273936987, 0.001148225273936987, 0.000382741738576442, 0.000382741738576442, 0.039469070732593536, 0.17761081457138062, 0.7104432582855225, 0.039469070732593536, 0.8995371460914612, 0.03459758311510086, 0.23414035141468048, 0.2107263058423996, 0.1580447405576706, 0.10828991234302521, 0.11414341628551483, 0.06438859552145004, 0.005853508599102497, 0.0029267542995512486, 0.0029267542995512486, 0.011707017198204994, 0.0029267542995512486, 0.005853508599102497, 0.07609561085700989, 0.7827024459838867, 0.02922404371201992, 0.905945360660553, 0.08955778926610947, 0.016792085021734238, 0.1903102993965149, 0.4869704842567444, 0.12314195930957794, 0.016792085021734238, 0.04477889463305473, 0.016792085021734238, 0.9165416955947876, 0.03414206579327583, 0.2923414409160614, 0.644431471824646, 0.0256065484136343, 0.5028471946716309, 0.4190393090248108, 0.07914500683546066, 0.6173310875892639, 0.24534952640533447, 0.031658004969358444, 0.007914501242339611, 0.07521408051252365, 0.8649619817733765, 0.3778110146522522, 0.15006236732006073, 0.12882155179977417, 0.14789894223213196, 0.08633994311094284, 0.03795810788869858, 0.027337703853845596, 0.012980492785573006, 0.01081707701086998, 0.002753437962383032, 0.007473616860806942, 0.003736808430403471, 0.00019667412561830133, 0.0005900224205106497, 0.0011800448410212994, 0.0009833707008510828, 0.002163415541872382, 0.00039334825123660266, 0.0005900224205106497, 0.00019667412561830133, 0.8326325416564941, 0.0987955778837204, 0.07903645932674408, 0.07903645932674408, 0.7113281488418579, 0.05409397929906845, 0.8114097118377686, 0.22493286430835724, 0.7069318294525146, 0.09299775213003159, 0.8741788864135742, 0.009299775585532188, 0.08664869517087936, 0.7798382639884949, 0.22258485853672028, 0.17242489755153656, 0.053294967859983444, 0.06583496183156967, 0.09718494117259979, 0.04075497388839722, 0.30095982551574707, 0.018809989094734192, 0.0031349980272352695, 0.0031349980272352695, 0.012539992108941078, 0.1105760782957077, 0.027644019573926926, 0.19350813329219818, 0.6358124017715454, 0.3979004919528961, 0.5891987681388855, 0.5435777306556702, 0.42278265953063965, 0.012689059600234032, 0.9516794681549072, 0.791157066822052, 0.08790633827447891, 0.10721155256032944, 0.08576924353837967, 0.021442310884594917, 0.7290385961532593, 0.8522545099258423, 0.9534106254577637, 0.9620457887649536, 0.05750668793916702, 0.14787434041500092, 0.04107620567083359, 0.2300267517566681, 0.49291446805000305, 0.1714155673980713, 0.26426565647125244, 0.11427704244852066, 0.4285389184951782, 0.8614065647125244, 0.2012053281068802, 0.19855788350105286, 0.17075978219509125, 0.32298749685287476, 0.03309297934174538, 0.02647438459098339, 0.013237192295491695, 0.021179508417844772, 0.0013237192761152983, 0.0026474385522305965, 0.0013237192761152983, 0.003971157595515251, 0.11251208186149597, 0.12287503480911255, 0.07994279265403748, 0.6143751740455627, 0.02368675358593464, 0.025167174637317657, 0.001480422099120915, 0.004441266413778067, 0.00592168839648366, 0.004441266413778067, 0.001480422099120915, 0.001480422099120915, 0.001480422099120915, 0.001480422099120915, 0.8730729818344116, 0.044624365866184235, 0.044624365866184235, 0.044624365866184235, 0.6247410774230957, 0.08924873173236847, 0.8434417843818665, 0.008179057389497757, 0.04907434433698654, 0.040895286947488785, 0.008179057389497757, 0.040895286947488785, 0.008179057389497757, 0.7279360890388489, 0.008179057389497757, 0.02453717216849327, 0.008179057389497757, 0.04907434433698654, 0.13618338108062744, 0.7626269459724426, 0.08171003311872482, 0.31464719772338867, 0.016560379415750504, 0.5464925169944763, 0.03312075883150101, 0.06624151766300201, 0.037871651351451874, 0.018935825675725937, 0.8710480332374573, 0.037871651351451874, 0.8360301852226257, 0.012667124159634113, 0.07600274682044983, 0.038001373410224915, 0.05656478926539421, 0.028282394632697105, 0.8767542243003845, 0.9303662180900574, 0.03001181222498417, 0.039919815957546234, 0.9181557893753052, 0.19892524182796478, 0.01657710410654545, 0.0331542082130909, 0.7128154635429382, 0.7680732607841492, 0.5713813304901123, 0.018431656062602997, 0.38706475496292114, 0.03930261731147766, 0.814125657081604, 0.05614659935235977, 0.011229319497942924, 0.03930261731147766, 0.005614659748971462, 0.02245863899588585, 0.8241761922836304, 0.9061696529388428, 0.26937010884284973, 0.21458296477794647, 0.02739357016980648, 0.4017723798751831, 0.05478714033961296, 0.02282797545194626, 0.7463909983634949, 0.8231149315834045, 0.35691899061203003, 0.07787322998046875, 0.11421407759189606, 0.05970281362533569, 0.17651265859603882, 0.09863942861557007, 0.0038936615455895662, 0.0025957743637263775, 0.061000701040029526, 0.005191548727452755, 0.015574646182358265, 0.0025957743637263775, 0.0012978871818631887, 0.0038936615455895662, 0.018170421943068504, 0.8442258834838867, 0.2317267507314682, 0.1158633753657341, 0.6436854004859924, 0.8064292073249817, 0.8924673795700073, 0.8328519463539124, 0.01892845332622528, 0.13249917328357697, 0.24465449154376984, 0.30989569425582886, 0.07339634746313095, 0.358826607465744, 0.18789614737033844, 0.7318060398101807, 0.059335626661777496, 0.29799437522888184, 0.1536533385515213, 0.08381091058254242, 0.14434102177619934, 0.1955588012933731, 0.03259313479065895, 0.088467076420784, 0.08144929260015488, 0.81449294090271, 0.09531645476818085, 0.857848048210144, 0.02796836942434311, 0.8949878215789795, 0.9057969450950623, 0.9395394921302795, 0.8033593893051147, 0.9197956323623657, 0.2757114768028259, 0.11232689768075943, 0.010211535729467869, 0.582057535648346, 0.9512089490890503, 0.11498431116342545, 0.7473980188369751, 0.8813170790672302, 0.008474202826619148, 0.09321622550487518, 0.8448259830474854, 0.009492427110671997, 0.10441669821739197, 0.009492427110671997, 0.009492427110671997, 0.04115287959575653, 0.04115287959575653, 0.21948201954364777, 0.013717626221477985, 0.6721636652946472, 0.9107705354690552, 0.0766068696975708, 0.027111608535051346, 0.4732207953929901, 0.02464691735804081, 0.23907509446144104, 0.039435066282749176, 0.04189975932240486, 0.019717533141374588, 0.06161729246377945, 0.0714760571718216, 0.11447687447071075, 0.8242334723472595, 0.02289537526667118, 0.3265950083732605, 0.633978545665741, 0.22172963619232178, 0.013858102262020111, 0.7206213474273682, 0.20746657252311707, 0.0777999684214592, 0.025933321565389633, 0.6223997473716736, 0.21895302832126617, 0.7115973234176636, 0.09167936444282532, 0.8251142501831055, 0.004835804458707571, 0.014507412910461426, 0.15474574267864227, 0.41587916016578674, 0.4013717472553253, 0.312724232673645, 0.15913181006908417, 0.1404992938041687, 0.1817929893732071, 0.06496203690767288, 0.045825932174921036, 0.03273281082510948, 0.008560888469219208, 0.013093124143779278, 0.0030214900616556406, 0.011078797280788422, 0.014603869058191776, 0.0015107450308278203, 0.001007163431495428, 0.000503581715747714, 0.0035250717774033546, 0.0025179083459079266, 0.001007163431495428, 0.001007163431495428, 0.6233609318733215, 0.13933949172496796, 0.11000486463308334, 0.11733852326869965, 0.9226992726325989, 0.8552871346473694, 0.06335460394620895, 0.276677668094635, 0.15827956795692444, 0.1601490080356598, 0.11278976500034332, 0.1458166092634201, 0.0635610818862915, 0.02617221139371395, 0.008724070154130459, 0.016201844438910484, 0.002492591505870223, 0.006854626815766096, 0.011216661892831326, 0.0006231478764675558, 0.0031157394405454397, 0.0018694436876103282, 0.002492591505870223, 0.0006231478764675558, 0.0006231478764675558, 0.0006231478764675558, 0.14615362882614136, 0.26022475957870483, 0.02495305798947811, 0.04990611597895622, 0.47767284512519836, 0.02851778082549572, 0.00712944520637393, 0.003564722603186965, 0.43833690881729126, 0.03984880819916725, 0.4781857132911682, 0.2636549472808838, 0.2575376629829407, 0.18290680646896362, 0.14008581638336182, 0.048632413148880005, 0.02171636000275612, 0.034256793558597565, 0.036397840827703476, 0.005199691746383905, 0.002141049597412348, 0.0024469138588756323, 0.0009175926679745317, 0.00030586423235945404, 0.00030586423235945404, 0.0006117284647189081, 0.0018351853359490633, 0.0006117284647189081, 0.00030586423235945404, 0.0006117284647189081, 0.00030586423235945404, 0.025629138574004173, 0.006407284643501043, 0.45491719245910645, 0.019221853464841843, 0.05766556039452553, 0.05766556039452553, 0.032036423683166504, 0.006407284643501043, 0.32677149772644043, 0.5928413271903992, 0.3759481608867645, 0.0739428699016571, 0.04929524287581444, 0.8133715391159058, 0.4847831130027771, 0.016280028969049454, 0.07537050545215607, 0.11878392100334167, 0.12722541391849518, 0.06089936941862106, 0.04039859399199486, 0.006029640790075064, 0.03256005793809891, 0.004220748320221901, 0.013868173584342003, 0.0072355689480900764, 0.0018088922370225191, 0.0018088922370225191, 0.0006029640790075064, 0.0036177844740450382, 0.0018088922370225191, 0.0012059281580150127, 0.9624391198158264, 0.11579897254705429, 0.049628131091594696, 0.11579897254705429, 0.0661708414554596, 0.5459094643592834, 0.0661708414554596, 0.3490246534347534, 0.09715593606233597, 0.1372154951095581, 0.15056867897510529, 0.10866730660200119, 0.04788728803396225, 0.06952865421772003, 0.008288184180855751, 0.010130003094673157, 0.0032231828663498163, 0.004604546818882227, 0.006446365732699633, 0.0018418187974020839, 0.0018418187974020839, 0.0023022734094411135, 0.00046045469935052097, 0.08096440881490707, 0.035984184592962265, 0.215905100107193, 0.6117311120033264, 0.04498022794723511, 0.3175591826438904, 0.08195075392723083, 0.5531675815582275, 0.02048768848180771, 0.026658330112695694, 0.03998749703168869, 0.7864207625389099, 0.07997499406337738, 0.013329165056347847, 0.03998749703168869, 0.016073204576969147, 0.11251243203878403, 0.3857569098472595, 0.016073204576969147, 0.43397653102874756, 0.9566160440444946, 0.31888526678085327, 0.17565366625785828, 0.10711590200662613, 0.11819685250520706, 0.12476334720849991, 0.05950883403420448, 0.03529489412903786, 0.012312172912061214, 0.016826635226607323, 0.004924869164824486, 0.009849738329648972, 0.006976897828280926, 0.0004104057443328202, 0.0012312172912061214, 0.0016416229773312807, 0.0012312172912061214, 0.0032832459546625614, 0.0008208114886656404, 0.0004104057443328202, 0.8434619307518005, 0.08434619009494781, 0.2295229285955429, 0.030200384557247162, 0.02416030690073967, 0.28992369771003723, 0.13288168609142303, 0.06644084304571152, 0.018120231106877327, 0.036240462213754654, 0.030200384557247162, 0.12684161961078644, 0.9397821426391602, 0.11530163884162903, 0.2272852510213852, 0.33429181575775146, 0.1468229591846466, 0.03566885367035866, 0.06221311539411545, 0.01576065644621849, 0.024055738002061844, 0.009124590083956718, 0.0016590164741501212, 0.007465573959052563, 0.009954098612070084, 0.00580655736848712, 0.0016590164741501212, 0.0016590164741501212, 0.0008295082370750606, 0.0008295082370750606, 0.3819306194782257, 0.1519927978515625, 0.14095059037208557, 0.13575425744056702, 0.09418357163667679, 0.029229383915662766, 0.018836714327335358, 0.023383507505059242, 0.00909358635544777, 0.0019486256642267108, 0.0071449605748057365, 0.003247709246352315, 0.000649541849270463, 0.001299083698540926, 0.000649541849270463, 0.000649541849270463, 0.05447981879115105, 0.027239909395575523, 0.8444371819496155, 0.027239909395575523, 0.07574273645877838, 0.871041476726532, 0.1453161984682083, 0.05556207895278931, 0.21797430515289307, 0.0341920480132103, 0.029918041080236435, 0.41030457615852356, 0.10685014724731445, 0.15116697549819946, 0.7558348774909973, 0.44883793592453003, 0.489641398191452, 0.13846559822559357, 0.15385067462921143, 0.007692533545196056, 0.20000587403774261, 0.08461786806583405, 0.007692533545196056, 0.3923192024230957, 0.03474344685673714, 0.001447643619030714, 0.023162297904491425, 0.001447643619030714, 0.9178060293197632, 0.020267009735107422, 0.028336599469184875, 0.10390086472034454, 0.8406524658203125, 0.29492831230163574, 0.14299555122852325, 0.026811664924025536, 0.5183588862419128, 0.01612764410674572, 0.005375881679356098, 0.9676586389541626, 0.3022485673427582, 0.060449711978435516, 0.17127418518066406, 0.08059961348772049, 0.25187379121780396, 0.08059961348772049, 0.060449711978435516, 0.9395962953567505, 0.4210541248321533, 0.541355311870575, 0.04738199710845947, 0.2783692181110382, 0.06515024602413177, 0.005922749638557434, 0.056266121566295624, 0.12733910977840424, 0.008884124457836151, 0.04145924746990204, 0.20137348771095276, 0.002961374819278717, 0.002961374819278717, 0.14510735869407654, 0.002961374819278717, 0.014806874096393585, 0.017737584188580513, 0.1419006735086441, 0.7981913089752197, 0.8266897797584534], \"Term\": [\"absent\", \"absent\", \"absent\", \"absent\", \"abstract\", \"abstract\", \"abstract\", \"abstract\", \"absurd\", \"absurd\", \"absurd\", \"abyss\", \"abyss\", \"accomplished\", \"accuracy\", \"accuracy\", \"acquisition\", \"acquisition\", \"across\", \"across\", \"action\", \"action\", \"action\", \"action\", \"action\", \"action\", \"action\", \"action\", \"action\", \"action\", \"activity\", \"activity\", \"activity\", \"activity\", \"activity\", \"activity\", \"activity\", \"adequate\", \"adequate\", \"adequate\", \"adequate\", \"adequately\", \"adequately\", \"adequately\", \"adjective\", \"administer\", \"administer\", \"administer\", \"administer\", \"administration\", \"administration\", \"admiration\", \"admiration\", \"admiration\", \"admonish\", \"adventure\", \"affect\", \"affect\", \"affect\", \"affect\", \"affect\", \"affect\", \"affect\", \"affect\", \"affix\", \"again\", \"again\", \"again\", \"again\", \"again\", \"again\", \"again\", \"again\", \"again\", \"again\", \"again\", \"again\", \"again\", \"again\", \"again\", \"against\", \"against\", \"against\", \"against\", \"against\", \"against\", \"against\", \"against\", \"against\", \"against\", \"against\", \"against\", \"aged\", \"agree\", \"agree\", \"agree\", \"agree\", \"agree\", \"agree\", \"agree\", \"agreement\", \"agreement\", \"agreement\", \"agreement\", \"ah\", \"ah\", \"ah\", \"akin\", \"alas\", \"alas\", \"alas\", \"alas\", \"alas\", \"alien\", \"alike\", \"all\", \"all\", \"all\", \"all\", \"all\", \"all\", \"all\", \"all\", \"all\", \"all\", \"all\", \"all\", \"all\", \"all\", \"all\", \"all\", \"all\", \"all\", \"all\", \"all\", \"allowable\", \"alphabet\", \"also\", \"also\", \"also\", \"also\", \"also\", \"also\", \"also\", \"also\", \"also\", \"also\", \"also\", \"also\", \"also\", \"also\", \"also\", \"also\", \"also\", \"also\", \"alternative\", \"ambitious\", \"ambitious\", \"ambitious\", \"amusement\", \"amusement\", \"an\", \"an\", \"an\", \"an\", \"an\", \"an\", \"an\", \"an\", \"an\", \"an\", \"an\", \"an\", \"an\", \"an\", \"an\", \"an\", \"an\", \"ancestral\", \"anchor\", \"and\", \"and\", \"and\", \"and\", \"and\", \"and\", \"and\", \"and\", \"and\", \"and\", \"and\", \"and\", \"and\", \"and\", \"and\", \"and\", \"and\", \"and\", \"and\", \"and\", \"angle\", \"angle\", \"angle\", \"angle\", \"angle\", \"angle\", \"angle\", \"angry\", \"angry\", \"angry\", \"antiquity\", \"antiquity\", \"antiquity\", \"antiquity\", \"antiquity\", \"any\", \"any\", \"any\", \"any\", \"any\", \"any\", \"any\", \"any\", \"any\", \"any\", \"any\", \"any\", \"any\", \"any\", \"any\", \"anyone\", \"anyone\", \"anyone\", \"anyone\", \"anyone\", \"anyone\", \"apartment\", \"apartment\", \"ape\", \"apology\", \"appertain\", \"appertain\", \"appertain\", \"appetite\", \"appetite\", \"appetite\", \"appetite\", \"appetite\", \"approval\", \"approval\", \"arbitrary\", \"arbitrary\", \"arbitrary\", \"arch\", \"archetype\", \"archetype\", \"area\", \"arise\", \"arise\", \"arise\", \"arise\", \"arise\", \"arise\", \"arise\", \"arise\", \"arise\", \"arise\", \"arm\", \"arm\", \"arm\", \"arm\", \"arm\", \"arm\", \"arm\", \"army\", \"army\", \"army\", \"army\", \"army\", \"army\", \"arrest\", \"arrow\", \"arrow\", \"arrow\", \"as\", \"as\", \"as\", \"as\", \"as\", \"as\", \"as\", \"as\", \"as\", \"as\", \"as\", \"as\", \"as\", \"as\", \"as\", \"as\", \"as\", \"as\", \"ascertain\", \"ascertain\", \"ascertain\", \"ashamed\", \"ashamed\", \"ashamed\", \"ashamed\", \"ashamed\", \"ashamed\", \"ashamed\", \"assail\", \"assail\", \"assent\", \"assent\", \"assent\", \"assent\", \"assent\", \"assent\", \"assent\", \"assertion\", \"assertion\", \"assertion\", \"assertion\", \"assertion\", \"assistance\", \"assistance\", \"assistance\", \"assistance\", \"assistance\", \"assuredly\", \"astonished\", \"at\", \"at\", \"at\", \"at\", \"at\", \"at\", \"at\", \"at\", \"at\", \"at\", \"at\", \"at\", \"at\", \"at\", \"at\", \"at\", \"at\", \"at\", \"atom\", \"atom\", \"attack\", \"attack\", \"attack\", \"attack\", \"attack\", \"attribute\", \"attribute\", \"attribute\", \"attribute\", \"attribute\", \"attribute\", \"attribute\", \"attribute\", \"attribute\", \"attribute\", \"augment\", \"authority\", \"authority\", \"authority\", \"authority\", \"authority\", \"authority\", \"authority\", \"authority\", \"autumn\", \"average\", \"average\", \"await\", \"awaken\", \"awaken\", \"awaken\", \"awakening\", \"ax\", \"back\", \"back\", \"back\", \"back\", \"back\", \"back\", \"back\", \"back\", \"back\", \"backwards\", \"bad\", \"bad\", \"bad\", \"bad\", \"bad\", \"bad\", \"bad\", \"bad\", \"bad\", \"bad\", \"bad\", \"bad\", \"bad\", \"badly\", \"badly\", \"balance\", \"bald\", \"band\", \"bank\", \"bank\", \"bar\", \"bar\", \"bar\", \"battle\", \"battle\", \"battle\", \"battle\", \"be\", \"be\", \"be\", \"be\", \"be\", \"be\", \"be\", \"be\", \"be\", \"be\", \"be\", \"be\", \"be\", \"be\", \"be\", \"be\", \"be\", \"be\", \"be\", \"be\", \"because\", \"because\", \"because\", \"because\", \"because\", \"because\", \"because\", \"because\", \"because\", \"because\", \"because\", \"because\", \"because\", \"because\", \"because\", \"beclouding\", \"beclouding\", \"bed\", \"bed\", \"bed\", \"bed\", \"befall\", \"befall\", \"behold\", \"behold\", \"behold\", \"belief\", \"belief\", \"belief\", \"belief\", \"belief\", \"belief\", \"belief\", \"belief\", \"belief\", \"believe\", \"believe\", \"believe\", \"believe\", \"believe\", \"believe\", \"believe\", \"believe\", \"believe\", \"believe\", \"believe\", \"benefit\", \"benefit\", \"benefit\", \"benefit\", \"benefit\", \"benefit\", \"bent\", \"bent\", \"bent\", \"bent\", \"beside\", \"beside\", \"beside\", \"beside\", \"bestow\", \"bestow\", \"bestow\", \"bid\", \"bid\", \"bid\", \"bid\", \"bid\", \"bid\", \"bind\", \"bind\", \"bind\", \"bind\", \"bind\", \"bind\", \"bind\", \"bird\", \"bird\", \"bird\", \"bird\", \"bird\", \"bird\", \"bird\", \"bird\", \"bird\", \"bitter\", \"bitter\", \"bitter\", \"bitterly\", \"bitterness\", \"bitterness\", \"bitterness\", \"blank\", \"blood\", \"blood\", \"blood\", \"blood\", \"blow\", \"blow\", \"body\", \"body\", \"body\", \"body\", \"body\", \"body\", \"body\", \"body\", \"body\", \"body\", \"body\", \"body\", \"body\", \"body\", \"border\", \"boy\", \"boy\", \"brain\", \"brain\", \"brain\", \"brain\", \"brain\", \"brain\", \"brain\", \"brass\", \"brave\", \"brave\", \"breadth\", \"breadth\", \"breadth\", \"breathe\", \"breeze\", \"breeze\", \"bridge\", \"bridge\", \"brief\", \"brief\", \"briefly\", \"briefly\", \"briefly\", \"bright\", \"bright\", \"brother\", \"brother\", \"brother\", \"brother\", \"brother\", \"brother\", \"brother\", \"brother\", \"bundle\", \"burden\", \"burden\", \"burn\", \"burn\", \"burn\", \"burn\", \"burst\", \"by\", \"by\", \"by\", \"by\", \"by\", \"by\", \"by\", \"by\", \"by\", \"by\", \"by\", \"by\", \"by\", \"by\", \"by\", \"by\", \"by\", \"by\", \"cage\", \"cage\", \"calamity\", \"calamity\", \"calm\", \"can\", \"can\", \"can\", \"can\", \"can\", \"can\", \"can\", \"can\", \"can\", \"can\", \"can\", \"can\", \"can\", \"can\", \"can\", \"can\", \"can\", \"can\", \"capability\", \"captive\", \"case\", \"case\", \"case\", \"case\", \"case\", \"case\", \"case\", \"case\", \"case\", \"case\", \"case\", \"case\", \"case\", \"casual\", \"category\", \"category\", \"category\", \"certainty\", \"certainty\", \"certainty\", \"certainty\", \"certainty\", \"certitude\", \"chang\", \"chang\", \"chang\", \"chang\", \"chang\", \"chang\", \"chang\", \"chang\", \"chang\", \"chang\", \"chang\", \"chang\", \"chao\", \"chao\", \"chap\", \"chap\", \"chap\", \"chap\", \"chap\", \"chap\", \"chap\", \"chap\", \"chap\", \"chap\", \"chap\", \"chap\", \"chap\", \"chap\", \"chap\", \"chap\", \"chap\", \"chariot\", \"chariot\", \"chariot\", \"chariot\", \"cheerful\", \"cheerful\", \"cherish\", \"chess\", \"chi\", \"chi\", \"chi\", \"chi\", \"chi\", \"chia\", \"chia\", \"ching\", \"ching\", \"ching\", \"ching\", \"christian\", \"chu\", \"chung\", \"chung\", \"chung\", \"church\", \"church\", \"church\", \"church\", \"church\", \"church\", \"church\", \"circuit\", \"city\", \"city\", \"city\", \"city\", \"city\", \"city\", \"civil\", \"clean\", \"clean\", \"close\", \"close\", \"close\", \"close\", \"close\", \"close\", \"cloth\", \"cloud\", \"cloud\", \"cloud\", \"cloud\", \"cloud\", \"co\", \"co\", \"co\", \"co\", \"cognizance\", \"collect\", \"collect\", \"collect\", \"collect\", \"collection\", \"collection\", \"collection\", \"collection\", \"collection\", \"colour\", \"colour\", \"colour\", \"colour\", \"colour\", \"colour\", \"colour\", \"colour\", \"colour\", \"combat\", \"come\", \"come\", \"come\", \"come\", \"come\", \"come\", \"come\", \"come\", \"come\", \"come\", \"come\", \"come\", \"come\", \"come\", \"come\", \"come\", \"commander\", \"commander\", \"completion\", \"complex\", \"complex\", \"complex\", \"complex\", \"complex\", \"complex\", \"complex\", \"conceive\", \"conceive\", \"conceive\", \"conceive\", \"conceive\", \"conceive\", \"conceive\", \"conceive\", \"concentrate\", \"conception\", \"conception\", \"conception\", \"conception\", \"conception\", \"conception\", \"conception\", \"concerned\", \"concerned\", \"concerned\", \"concert\", \"condition\", \"condition\", \"condition\", \"condition\", \"condition\", \"condition\", \"condition\", \"condition\", \"condition\", \"condition\", \"configuration\", \"conformation\", \"confucius\", \"confucius\", \"confucius\", \"confucius\", \"confucius\", \"confucius\", \"confucius\", \"confucius\", \"confused\", \"confused\", \"confused\", \"connect\", \"connect\", \"connect\", \"connect\", \"connection\", \"connection\", \"connection\", \"connection\", \"connection\", \"connection\", \"consciousness\", \"consciousness\", \"consciousness\", \"consciousness\", \"consciousness\", \"consciousness\", \"consciousness\", \"consistency\", \"consistency\", \"conspire\", \"constellation\", \"constitution\", \"constitution\", \"constitution\", \"constitution\", \"constitution\", \"constitution\", \"constitution\", \"constitution\", \"constitution\", \"constitution\", \"constitutive\", \"constitutive\", \"constitutive\", \"contempt\", \"contempt\", \"content\", \"content\", \"content\", \"content\", \"content\", \"content\", \"content\", \"contest\", \"contract\", \"contract\", \"contract\", \"contract\", \"contradict\", \"contradict\", \"contradict\", \"contradict\", \"contrariwise\", \"contrariwise\", \"contrariwise\", \"control\", \"control\", \"control\", \"convenient\", \"convenient\", \"conveniently\", \"converge\", \"conversant\", \"conversant\", \"conviction\", \"conviction\", \"convinced\", \"convinced\", \"convinced\", \"cool\", \"cool\", \"corporeal\", \"corporeal\", \"corporeal\", \"corporeal\", \"corpse\", \"corpse\", \"correlate\", \"corrupt\", \"corrupt\", \"corrupt\", \"council\", \"counterpart\", \"country\", \"country\", \"country\", \"country\", \"country\", \"country\", \"country\", \"country\", \"courage\", \"courage\", \"courage\", \"courage\", \"courage\", \"courage\", \"courageous\", \"courteous\", \"courtesy\", \"covetous\", \"covetous\", \"covetous\", \"cowardice\", \"cowardice\", \"crafty\", \"creator\", \"creator\", \"creator\", \"creator\", \"creator\", \"crowd\", \"crush\", \"damp\", \"dancer\", \"dangerous\", \"dangerous\", \"dangerous\", \"dangerous\", \"day\", \"day\", \"day\", \"day\", \"day\", \"day\", \"day\", \"day\", \"day\", \"day\", \"day\", \"day\", \"day\", \"day\", \"day\", \"day\", \"de\", \"de\", \"de\", \"de\", \"de\", \"de\", \"de\", \"de\", \"de\", \"de\", \"dead\", \"dead\", \"dead\", \"dead\", \"dead\", \"dead\", \"dead\", \"dead\", \"dead\", \"dead\", \"deception\", \"declare\", \"declare\", \"declare\", \"decree\", \"decree\", \"decree\", \"decree\", \"deduction\", \"deduction\", \"deduction\", \"deduction\", \"deep\", \"deep\", \"deep\", \"deep\", \"deep\", \"deep\", \"deep\", \"deep\", \"deep\", \"defeat\", \"defeat\", \"defeat\", \"deficient\", \"deficient\", \"deficient\", \"definitely\", \"deflect\", \"degenerate\", \"delight\", \"delight\", \"delight\", \"delight\", \"delight\", \"delight\", \"delight\", \"delight\", \"delight\", \"delight\", \"delightful\", \"democracy\", \"demonstration\", \"demonstration\", \"demonstration\", \"denial\", \"denouement\", \"derivative\", \"derivative\", \"descartes\", \"desire\", \"desire\", \"desire\", \"desire\", \"desire\", \"desire\", \"desire\", \"desire\", \"desire\", \"despair\", \"determinately\", \"determinately\", \"devise\", \"devise\", \"devise\", \"devise\", \"devise\", \"devise\", \"devotion\", \"dew\", \"dialectic\", \"dialectic\", \"dialectical\", \"dialectical\", \"differentia\", \"disagreeable\", \"disavow\", \"discernible\", \"discretion\", \"discrimination\", \"discrimination\", \"discussion\", \"discussion\", \"discussion\", \"discussion\", \"discussion\", \"dish\", \"disperse\", \"dissension\", \"dissimilar\", \"dissimilar\", \"distinct\", \"distinct\", \"distinct\", \"distinct\", \"distinct\", \"distinct\", \"distinct\", \"distorted\", \"distrustful\", \"distrustful\", \"do\", \"do\", \"do\", \"do\", \"do\", \"do\", \"do\", \"do\", \"do\", \"do\", \"do\", \"do\", \"do\", \"do\", \"do\", \"do\", \"do\", \"do\", \"do\", \"do\", \"doctor\", \"doctor\", \"dog\", \"dog\", \"dog\", \"dog\", \"dog\", \"dog\", \"dominion\", \"dominion\", \"dominion\", \"doom\", \"door\", \"door\", \"door\", \"door\", \"door\", \"drag\", \"dragon\", \"drama\", \"drama\", \"dread\", \"drink\", \"drink\", \"drink\", \"drink\", \"drink\", \"drink\", \"drink\", \"drum\", \"drum\", \"dry\", \"dry\", \"duration\", \"duration\", \"duty\", \"duty\", \"duty\", \"duty\", \"duty\", \"dwelling\", \"dwelt\", \"eager\", \"ear\", \"ear\", \"ear\", \"ear\", \"ear\", \"ear\", \"ear\", \"earth\", \"earth\", \"earth\", \"earth\", \"earth\", \"earth\", \"earth\", \"earth\", \"earth\", \"earth\", \"earth\", \"earth\", \"earth\", \"eat\", \"eat\", \"eat\", \"eat\", \"eat\", \"eat\", \"eat\", \"economy\", \"economy\", \"economy\", \"economy\", \"edifice\", \"effect\", \"effect\", \"effect\", \"effect\", \"effect\", \"effect\", \"effect\", \"effect\", \"effect\", \"effective\", \"egoism\", \"eight\", \"eight\", \"eight\", \"elegant\", \"element\", \"element\", \"element\", \"element\", \"element\", \"element\", \"element\", \"element\", \"elementary\", \"elementary\", \"elevate\", \"embark\", \"emerge\", \"emotion\", \"emotion\", \"emotion\", \"emotion\", \"emotion\", \"emotion\", \"en\", \"en\", \"en\", \"en\", \"enclose\", \"endeavour\", \"endeavour\", \"endeavour\", \"endeavour\", \"endeavour\", \"endeavour\", \"endeavour\", \"enemy\", \"enemy\", \"enemy\", \"enemy\", \"enemy\", \"enemy\", \"enemy\", \"enemy\", \"enemy\", \"enemy\", \"enemy\", \"enemy\", \"enemy\", \"entity\", \"entity\", \"entity\", \"entrust\", \"envoy\", \"epic\", \"epic\", \"epic\", \"epic\", \"equal\", \"equal\", \"equal\", \"equal\", \"equal\", \"equal\", \"equal\", \"equal\", \"equal\", \"equal\", \"equal\", \"equal\", \"equality\", \"equality\", \"equality\", \"equality\", \"equilibrium\", \"equilibrium\", \"error\", \"error\", \"error\", \"error\", \"error\", \"error\", \"escort\", \"essence\", \"essence\", \"essence\", \"essence\", \"essence\", \"essence\", \"essence\", \"eternal\", \"eternal\", \"eternal\", \"eternal\", \"eternal\", \"eternal\", \"eternally\", \"eternally\", \"eternity\", \"eternity\", \"event\", \"event\", \"event\", \"event\", \"event\", \"evidence\", \"evidence\", \"evidence\", \"evidence\", \"evidence\", \"evidence\", \"evidence\", \"evil\", \"evil\", \"evil\", \"evil\", \"evil\", \"evil\", \"evil\", \"evil\", \"evil\", \"evolve\", \"examine\", \"examine\", \"examine\", \"examine\", \"examine\", \"examine\", \"examine\", \"exceedingly\", \"exceedingly\", \"excessive\", \"excessive\", \"excessive\", \"excessive\", \"excessive\", \"excited\", \"excited\", \"exclude\", \"exclude\", \"exclude\", \"exclude\", \"exclude\", \"exist\", \"exist\", \"exist\", \"exist\", \"exist\", \"exist\", \"exist\", \"exist\", \"exist\", \"existence\", \"existence\", \"existence\", \"existence\", \"existence\", \"existence\", \"existence\", \"existence\", \"existence\", \"existence\", \"expedient\", \"expedition\", \"expense\", \"expense\", \"experience\", \"experience\", \"experience\", \"experience\", \"experience\", \"experience\", \"experience\", \"experience\", \"experience\", \"experience\", \"expressive\", \"extension\", \"extension\", \"extension\", \"extension\", \"extension\", \"extol\", \"fact\", \"fact\", \"fact\", \"fact\", \"fact\", \"fact\", \"fact\", \"fact\", \"fact\", \"faithfully\", \"falsehood\", \"falsehood\", \"falsehood\", \"falsehood\", \"falsehood\", \"family\", \"family\", \"family\", \"family\", \"family\", \"family\", \"famous\", \"famous\", \"famous\", \"famous\", \"famous\", \"far\", \"far\", \"far\", \"far\", \"far\", \"far\", \"far\", \"far\", \"far\", \"far\", \"far\", \"far\", \"fat\", \"father\", \"father\", \"father\", \"father\", \"father\", \"father\", \"father\", \"father\", \"father\", \"fathom\", \"fathom\", \"fear\", \"fear\", \"fear\", \"fear\", \"fear\", \"fear\", \"fear\", \"fear\", \"fear\", \"fear\", \"fear\", \"feeble\", \"feeble\", \"feel\", \"feel\", \"feel\", \"feel\", \"feel\", \"feel\", \"feel\", \"feel\", \"feel\", \"feel\", \"feel\", \"fellow\", \"fellow\", \"fellow\", \"feminine\", \"fight\", \"fight\", \"fight\", \"figure\", \"figure\", \"figure\", \"figure\", \"figure\", \"figure\", \"figure\", \"figure\", \"figure\", \"figure\", \"file\", \"final\", \"final\", \"finite\", \"finite\", \"finite\", \"finite\", \"fire\", \"fire\", \"fire\", \"fire\", \"fire\", \"fire\", \"fire\", \"fish\", \"fish\", \"fish\", \"flat\", \"flat\", \"flat\", \"flattery\", \"flight\", \"flight\", \"flight\", \"flight\", \"flow\", \"flow\", \"flow\", \"flow\", \"flow\", \"flow\", \"fluid\", \"fly\", \"fly\", \"fly\", \"fly\", \"fly\", \"fly\", \"fly\", \"fool\", \"fool\", \"fool\", \"fool\", \"fool\", \"fool\", \"force\", \"force\", \"force\", \"force\", \"force\", \"force\", \"force\", \"force\", \"force\", \"force\", \"forego\", \"forego\", \"formula\", \"formula\", \"formula\", \"forthwith\", \"forthwith\", \"forthwith\", \"forthwith\", \"fox\", \"french\", \"french\", \"french\", \"frequent\", \"frequent\", \"frequent\", \"frequent\", \"friction\", \"from\", \"from\", \"from\", \"from\", \"from\", \"from\", \"from\", \"from\", \"from\", \"from\", \"from\", \"from\", \"from\", \"from\", \"from\", \"from\", \"from\", \"from\", \"front\", \"front\", \"fu\", \"fu\", \"fu\", \"fu\", \"fundamentally\", \"funeral\", \"funeral\", \"fur\", \"future\", \"future\", \"future\", \"future\", \"future\", \"future\", \"future\", \"future\", \"future\", \"genera\", \"genera\", \"genera\", \"genera\", \"generate\", \"geometrical\", \"girl\", \"glass\", \"glass\", \"glaucon\", \"god\", \"god\", \"god\", \"god\", \"god\", \"god\", \"god\", \"god\", \"god\", \"god\", \"god\", \"god\", \"god\", \"god\", \"good\", \"good\", \"good\", \"good\", \"good\", \"good\", \"good\", \"good\", \"good\", \"good\", \"good\", \"good\", \"good\", \"good\", \"good\", \"govern\", \"govern\", \"govern\", \"govern\", \"govern\", \"govern\", \"govern\", \"government\", \"government\", \"government\", \"government\", \"government\", \"government\", \"government\", \"government\", \"government\", \"grammar\", \"grammarian\", \"grass\", \"grass\", \"gratify\", \"gratify\", \"gratitude\", \"group\", \"group\", \"group\", \"group\", \"growth\", \"gulf\", \"gulf\", \"halfway\", \"halt\", \"halt\", \"han\", \"happiness\", \"happiness\", \"happiness\", \"happiness\", \"happiness\", \"happiness\", \"happiness\", \"happiness\", \"hardship\", \"hardship\", \"harp\", \"haste\", \"haste\", \"haste\", \"hasten\", \"hasten\", \"hat\", \"hat\", \"hat\", \"hat\", \"hat\", \"hat\", \"hate\", \"hate\", \"hate\", \"hate\", \"hate\", \"hate\", \"hate\", \"hatred\", \"hatred\", \"hatred\", \"hatred\", \"hatred\", \"hatred\", \"have\", \"have\", \"have\", \"have\", \"have\", \"have\", \"have\", \"have\", \"have\", \"have\", \"have\", \"have\", \"have\", \"have\", \"have\", \"have\", \"have\", \"have\", \"have\", \"he\", \"he\", \"he\", \"heart\", \"heart\", \"heart\", \"heart\", \"heart\", \"heart\", \"heart\", \"heart\", \"heart\", \"heavy\", \"heavy\", \"heavy\", \"heavy\", \"heavy\", \"heavy\", \"heel\", \"height\", \"height\", \"height\", \"height\", \"height\", \"height\", \"hen\", \"henceforth\", \"herein\", \"heresy\", \"heresy\", \"high\", \"high\", \"high\", \"high\", \"high\", \"high\", \"high\", \"high\", \"high\", \"high\", \"high\", \"high\", \"high\", \"high\", \"hill\", \"hill\", \"hill\", \"hill\", \"hill\", \"him\", \"historian\", \"historian\", \"hit\", \"hit\", \"ho\", \"ho\", \"home\", \"home\", \"home\", \"home\", \"home\", \"home\", \"home\", \"home\", \"home\", \"home\", \"homer\", \"homer\", \"homer\", \"homer\", \"homer\", \"honest\", \"honest\", \"honey\", \"honey\", \"honey\", \"horn\", \"horn\", \"horn\", \"how\", \"how\", \"how\", \"how\", \"how\", \"how\", \"how\", \"how\", \"how\", \"how\", \"how\", \"how\", \"how\", \"how\", \"how\", \"how\", \"how\", \"hsi\", \"hsi\", \"hsi\", \"hsi\", \"hsi\", \"hsi\", \"hsi\", \"hsiang\", \"hsiang\", \"hsiao\", \"hsien\", \"human\", \"human\", \"human\", \"human\", \"human\", \"human\", \"human\", \"human\", \"human\", \"human\", \"hunger\", \"hunger\", \"hunger\", \"hunger\", \"hunger\", \"husbandman\", \"ice\", \"ice\", \"idea\", \"idea\", \"idea\", \"idea\", \"idea\", \"idea\", \"idea\", \"idea\", \"identical\", \"identical\", \"identity\", \"identity\", \"identity\", \"identity\", \"idle\", \"idle\", \"idleness\", \"if\", \"if\", \"if\", \"if\", \"if\", \"if\", \"if\", \"if\", \"if\", \"if\", \"if\", \"if\", \"if\", \"if\", \"if\", \"if\", \"if\", \"if\", \"ignoble\", \"image\", \"image\", \"image\", \"image\", \"image\", \"image\", \"image\", \"image\", \"image\", \"immaterial\", \"impede\", \"impracticable\", \"impracticable\", \"impress\", \"impropriety\", \"in\", \"in\", \"in\", \"in\", \"in\", \"in\", \"in\", \"in\", \"in\", \"in\", \"in\", \"in\", \"in\", \"in\", \"in\", \"in\", \"in\", \"in\", \"in\", \"in\", \"inclined\", \"incomprehensible\", \"incomprehensible\", \"incur\", \"indeterminate\", \"indeterminate\", \"induction\", \"induction\", \"inequality\", \"inequality\", \"inequality\", \"inequality\", \"infinite\", \"infinite\", \"infinite\", \"infinite\", \"infinite\", \"infinite\", \"infinity\", \"infinity\", \"infinity\", \"information\", \"information\", \"information\", \"information\", \"inmost\", \"inmost\", \"innate\", \"innate\", \"innate\", \"innate\", \"innumerable\", \"insanity\", \"inscribe\", \"inseparable\", \"inseparable\", \"inseparable\", \"inseparable\", \"insert\", \"insert\", \"insert\", \"insinuate\", \"instinct\", \"instinct\", \"instinct\", \"institute\", \"institute\", \"intellect\", \"intellect\", \"intend\", \"intend\", \"intend\", \"intercept\", \"interest\", \"interest\", \"interest\", \"interest\", \"interest\", \"interest\", \"interpreter\", \"intimately\", \"into\", \"into\", \"into\", \"into\", \"into\", \"into\", \"into\", \"into\", \"into\", \"into\", \"into\", \"into\", \"into\", \"into\", \"into\", \"into\", \"intrinsic\", \"intrinsic\", \"intrinsic\", \"intuition\", \"intuition\", \"intuitive\", \"invade\", \"invariable\", \"invective\", \"invective\", \"invert\", \"island\", \"island\", \"jar\", \"jewel\", \"justice\", \"justice\", \"justice\", \"justice\", \"justice\", \"justice\", \"justice\", \"justice\", \"justice\", \"justice\", \"justice\", \"justice\", \"justice\", \"kao\", \"kao\", \"kindly\", \"king\", \"king\", \"king\", \"king\", \"king\", \"king\", \"king\", \"king\", \"knife\", \"know\", \"know\", \"know\", \"know\", \"know\", \"know\", \"know\", \"know\", \"know\", \"know\", \"know\", \"know\", \"know\", \"know\", \"know\", \"know\", \"know\", \"know\", \"knowledge\", \"knowledge\", \"knowledge\", \"knowledge\", \"knowledge\", \"knowledge\", \"knowledge\", \"knowledge\", \"knowledge\", \"knowledge\", \"knowledge\", \"kung\", \"kung\", \"kung\", \"kung\", \"kung\", \"kung\", \"kung\", \"kung\", \"kung\", \"kung\", \"kwan\", \"la\", \"la\", \"labor\", \"lamb\", \"lament\", \"lamentation\", \"lane\", \"lane\", \"lapse\", \"latin\", \"laugh\", \"laugh\", \"laugh\", \"laugh\", \"laughter\", \"laughter\", \"laughter\", \"laughter\", \"law\", \"law\", \"law\", \"law\", \"law\", \"law\", \"law\", \"law\", \"law\", \"law\", \"law\", \"leader\", \"leader\", \"leaf\", \"leaf\", \"leap\", \"learn\", \"learn\", \"learn\", \"learn\", \"learn\", \"learn\", \"learn\", \"learn\", \"learn\", \"learn\", \"learn\", \"learn\", \"learn\", \"learn\", \"learn\", \"left\", \"left\", \"left\", \"leo\", \"liao\", \"liao\", \"liberty\", \"liberty\", \"liberty\", \"liberty\", \"liberty\", \"lieu\", \"lieu\", \"lightly\", \"lin\", \"linen\", \"linen\", \"liu\", \"living\", \"living\", \"living\", \"living\", \"local\", \"lord\", \"lord\", \"lord\", \"lord\", \"loss\", \"loss\", \"loss\", \"love\", \"love\", \"love\", \"love\", \"love\", \"love\", \"love\", \"love\", \"love\", \"love\", \"love\", \"love\", \"love\", \"love\", \"love\", \"loyal\", \"loyal\", \"lu\", \"lu\", \"lu\", \"lu\", \"lu\", \"lu\", \"lust\", \"lust\", \"ma\", \"madman\", \"maiden\", \"maintenance\", \"maintenance\", \"major\", \"major\", \"major\", \"majority\", \"majority\", \"make\", \"make\", \"make\", \"make\", \"make\", \"make\", \"make\", \"make\", \"make\", \"make\", \"make\", \"make\", \"make\", \"make\", \"make\", \"make\", \"malice\", \"malicious\", \"man\", \"man\", \"man\", \"man\", \"man\", \"man\", \"man\", \"man\", \"man\", \"man\", \"man\", \"man\", \"man\", \"man\", \"man\", \"man\", \"man\", \"man\", \"man\", \"manage\", \"manage\", \"manage\", \"manage\", \"manage\", \"mankind\", \"mankind\", \"mankind\", \"mankind\", \"mankind\", \"mankind\", \"mankind\", \"mankind\", \"marry\", \"marry\", \"marvellous\", \"marvellous\", \"master\", \"master\", \"master\", \"master\", \"master\", \"master\", \"master\", \"master\", \"master\", \"master\", \"master\", \"master\", \"master\", \"master\", \"master\", \"master\", \"master\", \"master\", \"master\", \"may\", \"may\", \"may\", \"may\", \"may\", \"may\", \"may\", \"may\", \"may\", \"may\", \"may\", \"may\", \"may\", \"may\", \"may\", \"may\", \"may\", \"may\", \"me\", \"meal\", \"meeting\", \"melody\", \"mental\", \"mental\", \"mental\", \"mental\", \"mental\", \"mental\", \"mental\", \"mercury\", \"mere\", \"mere\", \"mere\", \"mere\", \"mere\", \"mere\", \"mere\", \"mere\", \"mere\", \"merely\", \"merely\", \"merely\", \"merely\", \"merely\", \"merely\", \"merely\", \"merely\", \"merely\", \"merely\", \"merely\", \"merely\", \"messenger\", \"messenger\", \"messenger\", \"min\", \"mind\", \"mind\", \"mind\", \"mind\", \"mind\", \"mind\", \"mind\", \"mind\", \"mind\", \"mind\", \"mind\", \"mindedness\", \"mine\", \"mine\", \"mine\", \"mine\", \"mine\", \"mine\", \"mine\", \"mine\", \"mislead\", \"mistake\", \"mistake\", \"mistake\", \"mistake\", \"mistake\", \"mistake\", \"mixture\", \"modest\", \"modest\", \"modest\", \"modesty\", \"modification\", \"modification\", \"modification\", \"modification\", \"modification\", \"modification\", \"more\", \"more\", \"more\", \"more\", \"more\", \"more\", \"more\", \"more\", \"more\", \"more\", \"more\", \"more\", \"more\", \"more\", \"more\", \"more\", \"morning\", \"morning\", \"morning\", \"morning\", \"mortal\", \"mortal\", \"motif\", \"motif\", \"motif\", \"motif\", \"motion\", \"motion\", \"motion\", \"motion\", \"motion\", \"motion\", \"motion\", \"motion\", \"motion\", \"motion\", \"motion\", \"mountain\", \"mountain\", \"mountain\", \"mountain\", \"mountain\", \"mountain\", \"mountain\", \"mountain\", \"movable\", \"multiplicity\", \"musical\", \"musical\", \"must\", \"must\", \"must\", \"must\", \"must\", \"must\", \"must\", \"must\", \"must\", \"must\", \"must\", \"must\", \"must\", \"must\", \"must\", \"must\", \"mute\", \"mute\", \"mute\", \"mute\", \"myriad\", \"name\", \"name\", \"name\", \"name\", \"name\", \"name\", \"name\", \"name\", \"name\", \"name\", \"name\", \"name\", \"name\", \"name\", \"name\", \"name\", \"name\", \"nameless\", \"nan\", \"nation\", \"nation\", \"nation\", \"nation\", \"nation\", \"nature\", \"nature\", \"nature\", \"nature\", \"nature\", \"nature\", \"nature\", \"nature\", \"nature\", \"nature\", \"nature\", \"nature\", \"nature\", \"ne\", \"ne\", \"ne\", \"necessarily\", \"necessarily\", \"necessarily\", \"necessarily\", \"necessarily\", \"necessarily\", \"necessarily\", \"necessarily\", \"neck\", \"neck\", \"negation\", \"negation\", \"negation\", \"neighborhood\", \"neighbour\", \"neighbour\", \"neighbour\", \"night\", \"night\", \"night\", \"night\", \"night\", \"night\", \"night\", \"night\", \"no\", \"no\", \"no\", \"no\", \"no\", \"no\", \"no\", \"no\", \"no\", \"no\", \"no\", \"no\", \"no\", \"no\", \"no\", \"no\", \"no\", \"northern\", \"not\", \"not\", \"not\", \"not\", \"not\", \"not\", \"not\", \"not\", \"not\", \"not\", \"not\", \"not\", \"not\", \"not\", \"not\", \"not\", \"not\", \"not\", \"not\", \"not\", \"note\", \"note\", \"note\", \"note\", \"note\", \"note\", \"note\", \"note\", \"note\", \"novel\", \"number\", \"number\", \"number\", \"number\", \"number\", \"number\", \"number\", \"number\", \"number\", \"object\", \"object\", \"object\", \"object\", \"object\", \"object\", \"object\", \"object\", \"object\", \"object\", \"object\", \"objective\", \"objective\", \"objective\", \"objective\", \"obligation\", \"obligation\", \"obligation\", \"obstinately\", \"obstinately\", \"obstinately\", \"occur\", \"occur\", \"occur\", \"occur\", \"occur\", \"occurrence\", \"occurrence\", \"odour\", \"of\", \"of\", \"of\", \"of\", \"of\", \"of\", \"of\", \"of\", \"of\", \"of\", \"of\", \"of\", \"of\", \"of\", \"of\", \"of\", \"of\", \"of\", \"of\", \"of\", \"off\", \"off\", \"off\", \"off\", \"off\", \"off\", \"off\", \"off\", \"off\", \"oh\", \"oh\", \"oh\", \"on\", \"on\", \"on\", \"on\", \"on\", \"on\", \"on\", \"on\", \"on\", \"on\", \"on\", \"on\", \"on\", \"on\", \"on\", \"on\", \"on\", \"on\", \"on\", \"on\", \"one\", \"one\", \"one\", \"one\", \"one\", \"one\", \"one\", \"one\", \"one\", \"one\", \"one\", \"one\", \"one\", \"one\", \"one\", \"one\", \"one\", \"one\", \"one\", \"oneself\", \"only\", \"only\", \"only\", \"only\", \"only\", \"only\", \"only\", \"only\", \"only\", \"only\", \"only\", \"only\", \"only\", \"only\", \"only\", \"only\", \"opening\", \"opening\", \"opening\", \"operate\", \"operate\", \"operate\", \"operate\", \"operation\", \"operation\", \"operation\", \"operation\", \"operation\", \"operation\", \"operation\", \"opinion\", \"opinion\", \"opinion\", \"opinion\", \"opinion\", \"opinion\", \"opinion\", \"opinion\", \"opinion\", \"opinion\", \"opponent\", \"opponent\", \"opponent\", \"or\", \"or\", \"or\", \"or\", \"or\", \"or\", \"or\", \"or\", \"or\", \"or\", \"or\", \"or\", \"or\", \"or\", \"or\", \"or\", \"or\", \"or\", \"oracle\", \"ordain\", \"ordinate\", \"organic\", \"orphan\", \"other\", \"other\", \"other\", \"other\", \"other\", \"other\", \"other\", \"other\", \"other\", \"other\", \"other\", \"other\", \"other\", \"other\", \"other\", \"other\", \"other\", \"other\", \"other\", \"ou\", \"out\", \"out\", \"out\", \"out\", \"out\", \"out\", \"out\", \"out\", \"out\", \"out\", \"out\", \"out\", \"out\", \"out\", \"out\", \"out\", \"out\", \"overcome\", \"overcome\", \"overcome\", \"overcome\", \"overcome\", \"overcome\", \"overcome\", \"overcome\", \"oxen\", \"oxen\", \"page\", \"pain\", \"pain\", \"pain\", \"pain\", \"pain\", \"pain\", \"pain\", \"pain\", \"painful\", \"painful\", \"painful\", \"painful\", \"painful\", \"pale\", \"pardon\", \"pardon\", \"pardon\", \"parsimony\", \"part\", \"part\", \"part\", \"part\", \"part\", \"part\", \"part\", \"part\", \"part\", \"part\", \"part\", \"part\", \"part\", \"part\", \"past\", \"past\", \"past\", \"past\", \"past\", \"past\", \"past\", \"past\", \"past\", \"past\", \"patient\", \"patient\", \"pay\", \"pay\", \"pay\", \"pay\", \"pay\", \"pay\", \"pay\", \"people\", \"people\", \"people\", \"people\", \"people\", \"people\", \"people\", \"people\", \"people\", \"people\", \"people\", \"people\", \"people\", \"people\", \"perceive\", \"perceive\", \"perceive\", \"perceive\", \"perceive\", \"perceive\", \"perceive\", \"perceive\", \"perceive\", \"perpetually\", \"perpetually\", \"pervade\", \"pervert\", \"phantom\", \"phenomenon\", \"phenomenon\", \"phenomenon\", \"phenomenon\", \"phenomenon\", \"phenomenon\", \"phrase\", \"physical\", \"physical\", \"physical\", \"physical\", \"physical\", \"physical\", \"physical\", \"physics\", \"physics\", \"physics\", \"piety\", \"piety\", \"piety\", \"piety\", \"pillar\", \"pillar\", \"pillar\", \"pillar\", \"pillar\", \"pilot\", \"plato\", \"plato\", \"plato\", \"plato\", \"player\", \"player\", \"player\", \"pleasurable\", \"pleasurable\", \"pleasure\", \"pleasure\", \"pleasure\", \"pleasure\", \"pleasure\", \"pleasure\", \"pleasure\", \"pleasure\", \"pleasure\", \"po\", \"po\", \"po\", \"po\", \"po\", \"poetical\", \"poison\", \"politic\", \"politic\", \"politic\", \"politic\", \"population\", \"population\", \"pour\", \"pour\", \"pour\", \"pour\", \"pour\", \"praise\", \"praise\", \"praise\", \"praise\", \"praise\", \"praise\", \"praise\", \"praise\", \"pray\", \"pray\", \"pray\", \"pray\", \"pray\", \"precious\", \"precise\", \"precise\", \"precise\", \"precise\", \"precise\", \"precise\", \"precise\", \"predicate\", \"predicate\", \"predicate\", \"predicate\", \"predicate\", \"predicate\", \"preface\", \"premiss\", \"premiss\", \"presentation\", \"presentation\", \"preservation\", \"preservation\", \"preservation\", \"pressure\", \"pressure\", \"presuppose\", \"presuppose\", \"pretension\", \"pretension\", \"priest\", \"priest\", \"priest\", \"priest\", \"priest\", \"priest\", \"priest\", \"priest\", \"privacy\", \"private\", \"private\", \"private\", \"private\", \"private\", \"private\", \"private\", \"probability\", \"probability\", \"probability\", \"probability\", \"probability\", \"profitable\", \"prologue\", \"prologue\", \"prolong\", \"prolong\", \"prometheus\", \"promote\", \"promote\", \"promote\", \"promote\", \"proof\", \"proof\", \"proof\", \"proof\", \"proof\", \"proof\", \"proof\", \"proof\", \"proof\", \"proof\", \"proportion\", \"proportion\", \"proportion\", \"proportion\", \"proportion\", \"proportion\", \"proposition\", \"proposition\", \"proposition\", \"proposition\", \"proposition\", \"proposition\", \"proposition\", \"prosecution\", \"protect\", \"protection\", \"protection\", \"protection\", \"proud\", \"proud\", \"proud\", \"proud\", \"proud\", \"proud\", \"provision\", \"provision\", \"provision\", \"provisionally\", \"public\", \"public\", \"public\", \"public\", \"public\", \"public\", \"pure\", \"pure\", \"pure\", \"pure\", \"pure\", \"pure\", \"pure\", \"pure\", \"pure\", \"pure\", \"pure\", \"purple\", \"purple\", \"purple\", \"purple\", \"quality\", \"quality\", \"quality\", \"quality\", \"quality\", \"quality\", \"quality\", \"quality\", \"quality\", \"quality\", \"quality\", \"quality\", \"quiet\", \"rain\", \"rain\", \"rapid\", \"rashly\", \"readiness\", \"readiness\", \"rear\", \"rear\", \"rear\", \"rear\", \"reason\", \"reason\", \"reason\", \"reason\", \"reason\", \"reason\", \"reason\", \"reason\", \"reason\", \"reason\", \"reason\", \"reason\", \"reason\", \"reasonably\", \"rebellion\", \"rebellion\", \"reciprocal\", \"rectangle\", \"rectify\", \"rectify\", \"rectify\", \"rectify\", \"refer\", \"refer\", \"refer\", \"refer\", \"refer\", \"refer\", \"refer\", \"refer\", \"refrain\", \"regard\", \"regard\", \"regard\", \"regard\", \"regard\", \"regard\", \"regard\", \"regard\", \"regard\", \"regard\", \"regard\", \"regular\", \"regular\", \"regular\", \"rein\", \"rein\", \"relation\", \"relation\", \"relation\", \"relation\", \"relation\", \"relation\", \"relation\", \"relation\", \"relation\", \"relieve\", \"religion\", \"religion\", \"religion\", \"religion\", \"religion\", \"repel\", \"repentance\", \"repentance\", \"reproof\", \"reprove\", \"repute\", \"residence\", \"resistance\", \"resistance\", \"resistance\", \"respective\", \"resume\", \"resume\", \"revelation\", \"revelation\", \"revenge\", \"revenge\", \"revere\", \"reverential\", \"reverential\", \"revile\", \"rhetoric\", \"rhythm\", \"riches\", \"riddle\", \"ride\", \"right\", \"right\", \"right\", \"right\", \"right\", \"right\", \"right\", \"right\", \"right\", \"right\", \"right\", \"right\", \"right\", \"right\", \"right\", \"rigid\", \"ring\", \"ring\", \"rite\", \"rite\", \"rite\", \"rite\", \"river\", \"river\", \"river\", \"river\", \"river\", \"river\", \"roll\", \"roll\", \"romans\", \"romans\", \"round\", \"round\", \"round\", \"round\", \"round\", \"round\", \"round\", \"round\", \"round\", \"round\", \"round\", \"ruler\", \"ruler\", \"ruler\", \"ruler\", \"rules\", \"run\", \"run\", \"run\", \"run\", \"run\", \"run\", \"rustic\", \"sacred\", \"sacred\", \"sacrificial\", \"sacrificial\", \"safely\", \"salary\", \"salt\", \"salt\", \"salute\", \"same\", \"same\", \"same\", \"same\", \"same\", \"same\", \"same\", \"same\", \"same\", \"same\", \"same\", \"same\", \"same\", \"same\", \"same\", \"san\", \"sanction\", \"sanction\", \"say\", \"say\", \"say\", \"say\", \"say\", \"say\", \"say\", \"say\", \"say\", \"say\", \"say\", \"say\", \"say\", \"say\", \"say\", \"say\", \"say\", \"say\", \"say\", \"say\", \"season\", \"season\", \"season\", \"season\", \"season\", \"season\", \"season\", \"see\", \"see\", \"see\", \"see\", \"see\", \"see\", \"see\", \"see\", \"see\", \"see\", \"see\", \"see\", \"see\", \"see\", \"see\", \"see\", \"seize\", \"seize\", \"sensation\", \"sensation\", \"sensation\", \"sensation\", \"sensation\", \"sensation\", \"sensation\", \"sensible\", \"sensible\", \"sensible\", \"sensible\", \"sensible\", \"sensible\", \"sensible\", \"sequence\", \"sequence\", \"sequence\", \"sequence\", \"series\", \"series\", \"series\", \"series\", \"series\", \"series\", \"servant\", \"servant\", \"servant\", \"servant\", \"servant\", \"seventy\", \"seventy\", \"seventy\", \"seventy\", \"seventy\", \"several\", \"several\", \"several\", \"several\", \"several\", \"several\", \"several\", \"severally\", \"severally\", \"shall\", \"shall\", \"shall\", \"shall\", \"shall\", \"shall\", \"shall\", \"shall\", \"shall\", \"shall\", \"shall\", \"shall\", \"shall\", \"shall\", \"shame\", \"shame\", \"shame\", \"shame\", \"shame\", \"shame\", \"shame\", \"shan\", \"shang\", \"shao\", \"shao\", \"sharp\", \"sharp\", \"sharp\", \"sheer\", \"shell\", \"shell\", \"shell\", \"shih\", \"shih\", \"shortly\", \"should\", \"should\", \"should\", \"should\", \"should\", \"should\", \"should\", \"should\", \"should\", \"should\", \"should\", \"should\", \"should\", \"should\", \"should\", \"should\", \"should\", \"should\", \"shoulder\", \"shoulder\", \"shoulder\", \"shrink\", \"shrink\", \"shrink\", \"shu\", \"shu\", \"shu\", \"shu\", \"shu\", \"sicily\", \"sicily\", \"sigh\", \"sigh\", \"sigh\", \"signify\", \"signify\", \"signify\", \"signify\", \"signify\", \"signify\", \"signify\", \"silent\", \"silent\", \"silent\", \"silent\", \"similarity\", \"similarity\", \"similarity\", \"similarity\", \"similitude\", \"similitude\", \"simple\", \"simple\", \"simple\", \"simple\", \"simple\", \"simple\", \"simple\", \"simple\", \"simple\", \"simplify\", \"simultaneous\", \"simultaneous\", \"simultaneous\", \"simultaneous\", \"simultaneous\", \"sing\", \"sing\", \"sing\", \"sing\", \"sing\", \"sing\", \"sing\", \"sing\", \"sinner\", \"sinner\", \"sister\", \"sister\", \"sitting\", \"situate\", \"skillful\", \"skin\", \"skin\", \"skin\", \"sky\", \"sky\", \"sky\", \"slave\", \"slave\", \"slave\", \"slave\", \"slave\", \"slightly\", \"smell\", \"smell\", \"smell\", \"smell\", \"smell\", \"snow\", \"so\", \"so\", \"so\", \"so\", \"so\", \"so\", \"so\", \"so\", \"so\", \"so\", \"so\", \"so\", \"so\", \"so\", \"so\", \"so\", \"so\", \"soft\", \"soft\", \"soft\", \"soft\", \"soft\", \"soft\", \"soft\", \"soil\", \"soil\", \"solidity\", \"solidity\", \"solidity\", \"son\", \"son\", \"son\", \"son\", \"son\", \"son\", \"son\", \"son\", \"son\", \"son\", \"sound\", \"sound\", \"sound\", \"sound\", \"sound\", \"sound\", \"sound\", \"sound\", \"sound\", \"sour\", \"sour\", \"sovereign\", \"sovereign\", \"sovereign\", \"sovereign\", \"sovereign\", \"sovereign\", \"sovereignty\", \"spake\", \"spake\", \"spake\", \"spake\", \"specially\", \"specially\", \"specie\", \"specie\", \"specie\", \"specie\", \"specie\", \"specie\", \"specie\", \"specie\", \"speculation\", \"speculation\", \"speculation\", \"speculative\", \"speeches\", \"speedily\", \"speedily\", \"spend\", \"spend\", \"spend\", \"sphere\", \"sphere\", \"sphere\", \"spirit\", \"spirit\", \"spirit\", \"spirit\", \"spirit\", \"spirit\", \"spirit\", \"spirit\", \"spirit\", \"spirit\", \"spirit\", \"spirit\", \"spirit\", \"split\", \"spoken\", \"spot\", \"spot\", \"squat\", \"stair\", \"state\", \"state\", \"state\", \"state\", \"state\", \"state\", \"state\", \"state\", \"state\", \"state\", \"state\", \"states\", \"states\", \"statue\", \"statue\", \"statue\", \"steep\", \"stone\", \"stone\", \"stone\", \"stone\", \"stone\", \"stone\", \"stone\", \"stone\", \"street\", \"street\", \"street\", \"street\", \"strive\", \"strive\", \"strive\", \"strive\", \"stuff\", \"stuff\", \"stuff\", \"stupid\", \"stupid\", \"stupid\", \"stupid\", \"sublime\", \"submission\", \"subordinate\", \"substance\", \"substance\", \"substance\", \"substance\", \"substance\", \"substance\", \"substance\", \"subtlety\", \"subtlety\", \"successful\", \"successful\", \"successfully\", \"successfully\", \"successor\", \"successor\", \"suitable\", \"suitable\", \"summit\", \"summit\", \"sun\", \"sun\", \"sun\", \"sun\", \"sun\", \"sun\", \"sun\", \"sun\", \"sun\", \"sun\", \"sun\", \"sun\", \"sung\", \"sunrise\", \"sunrise\", \"surface\", \"surface\", \"surface\", \"surface\", \"surface\", \"surprise\", \"surprise\", \"surprise\", \"surprise\", \"surrender\", \"surround\", \"surround\", \"survey\", \"survey\", \"swear\", \"swear\", \"sweep\", \"sweep\", \"sweep\", \"sweet\", \"sweet\", \"sweet\", \"sweet\", \"sweet\", \"sweet\", \"sweet\", \"ta\", \"table\", \"table\", \"tactic\", \"tactic\", \"tan\", \"te\", \"tear\", \"tear\", \"tear\", \"tear\", \"tear\", \"telescope\", \"temperament\", \"temple\", \"temple\", \"temple\", \"temple\", \"temple\", \"tenth\", \"tenth\", \"tenth\", \"terrestrial\", \"terrestrial\", \"terrestrial\", \"text\", \"text\", \"text\", \"text\", \"texture\", \"texture\", \"texture\", \"thank\", \"that\", \"that\", \"that\", \"that\", \"that\", \"that\", \"that\", \"that\", \"that\", \"that\", \"that\", \"that\", \"that\", \"that\", \"that\", \"that\", \"that\", \"that\", \"that\", \"that\", \"thee\", \"thee\", \"thee\", \"thee\", \"thee\", \"thee\", \"thee\", \"thee\", \"theme\", \"theme\", \"then\", \"then\", \"then\", \"then\", \"then\", \"then\", \"then\", \"then\", \"then\", \"then\", \"then\", \"then\", \"then\", \"then\", \"then\", \"then\", \"theoretically\", \"there\", \"there\", \"there\", \"there\", \"there\", \"there\", \"there\", \"there\", \"there\", \"there\", \"there\", \"there\", \"there\", \"there\", \"there\", \"there\", \"there\", \"there\", \"there\", \"therefore\", \"therefore\", \"therefore\", \"therefore\", \"therefore\", \"therefore\", \"therefore\", \"therefore\", \"therefore\", \"therefore\", \"therefore\", \"therefore\", \"therefore\", \"therein\", \"therein\", \"therein\", \"therein\", \"therein\", \"therein\", \"thi\", \"thickness\", \"thing\", \"thing\", \"thing\", \"thing\", \"thing\", \"thing\", \"thing\", \"thing\", \"thing\", \"thing\", \"thing\", \"thing\", \"thing\", \"thing\", \"thing\", \"thing\", \"thing\", \"thinking\", \"thinking\", \"thinking\", \"thinking\", \"thinking\", \"thinking\", \"this\", \"this\", \"this\", \"this\", \"this\", \"this\", \"this\", \"this\", \"this\", \"this\", \"this\", \"this\", \"this\", \"this\", \"this\", \"this\", \"this\", \"thither\", \"thither\", \"thither\", \"thither\", \"threaten\", \"threaten\", \"three\", \"three\", \"three\", \"three\", \"three\", \"three\", \"three\", \"three\", \"three\", \"three\", \"three\", \"three\", \"three\", \"threshold\", \"thrice\", \"thrice\", \"throw\", \"throw\", \"throw\", \"throw\", \"throw\", \"throw\", \"throw\", \"throw\", \"thrust\", \"thy\", \"thy\", \"thy\", \"thy\", \"tien\", \"tien\", \"till\", \"till\", \"till\", \"till\", \"till\", \"timidity\", \"timidity\", \"to\", \"to\", \"to\", \"to\", \"to\", \"to\", \"to\", \"to\", \"to\", \"to\", \"to\", \"to\", \"to\", \"to\", \"to\", \"to\", \"to\", \"to\", \"to\", \"to\", \"ton\", \"tone\", \"tone\", \"tone\", \"tone\", \"tool\", \"tool\", \"tooth\", \"tooth\", \"total\", \"total\", \"total\", \"totter\", \"totter\", \"towards\", \"towards\", \"towards\", \"towards\", \"towards\", \"towards\", \"towards\", \"towards\", \"towards\", \"towards\", \"towards\", \"tower\", \"tower\", \"tower\", \"tower\", \"town\", \"town\", \"train\", \"train\", \"tranquillity\", \"tranquillity\", \"transcend\", \"transcend\", \"transmit\", \"transmit\", \"transmit\", \"transmit\", \"trap\", \"travel\", \"treasury\", \"tree\", \"tree\", \"tree\", \"tree\", \"tree\", \"triangle\", \"triangle\", \"triangle\", \"triangle\", \"trodden\", \"true\", \"true\", \"true\", \"true\", \"true\", \"true\", \"true\", \"true\", \"true\", \"true\", \"true\", \"true\", \"truth\", \"truth\", \"truth\", \"truth\", \"truth\", \"truth\", \"truth\", \"truth\", \"truth\", \"truth\", \"truth\", \"truth\", \"truth\", \"truth\", \"truthful\", \"tsang\", \"tsang\", \"tsang\", \"tsang\", \"tsang\", \"tsung\", \"tsze\", \"tsze\", \"tsze\", \"tsze\", \"tsze\", \"tsze\", \"tsze\", \"tsze\", \"tsze\", \"tsze\", \"tsze\", \"twenty\", \"twenty\", \"twenty\", \"twice\", \"twice\", \"twice\", \"twice\", \"twice\", \"ugly\", \"ugly\", \"ugly\", \"ugly\", \"ultimate\", \"ultimate\", \"ultimate\", \"ultimate\", \"unaware\", \"unaware\", \"unaware\", \"unconscious\", \"unconscious\", \"uneasiness\", \"uneasiness\", \"unequal\", \"unequal\", \"unequal\", \"unequal\", \"unfamiliar\", \"unit\", \"unit\", \"unit\", \"unity\", \"unity\", \"unity\", \"unity\", \"unity\", \"unity\", \"unity\", \"unprincipled\", \"unsatisfactory\", \"until\", \"until\", \"until\", \"until\", \"until\", \"until\", \"untrue\", \"unwilling\", \"up\", \"up\", \"up\", \"up\", \"up\", \"up\", \"up\", \"up\", \"up\", \"up\", \"up\", \"up\", \"up\", \"up\", \"up\", \"uphold\", \"upwards\", \"upwards\", \"upwards\", \"vacant\", \"vacuum\", \"vague\", \"vague\", \"vague\", \"vain\", \"vain\", \"vain\", \"vain\", \"valley\", \"valley\", \"valley\", \"value\", \"value\", \"value\", \"value\", \"value\", \"value\", \"value\", \"vein\", \"vein\", \"verbal\", \"verbal\", \"verification\", \"verification\", \"verify\", \"vexed\", \"vie\", \"vigorous\", \"violence\", \"violence\", \"violence\", \"violence\", \"violent\", \"violently\", \"violently\", \"volition\", \"volition\", \"volition\", \"wall\", \"wall\", \"wall\", \"wall\", \"wall\", \"wan\", \"wan\", \"wan\", \"wan\", \"wan\", \"wang\", \"wang\", \"war\", \"war\", \"war\", \"war\", \"war\", \"war\", \"war\", \"war\", \"war\", \"waste\", \"waste\", \"waste\", \"watch\", \"watch\", \"weapon\", \"weapon\", \"weapon\", \"weariness\", \"weariness\", \"weariness\", \"weariness\", \"weather\", \"weather\", \"weep\", \"weep\", \"wei\", \"wei\", \"wei\", \"wei\", \"wei\", \"what\", \"what\", \"what\", \"what\", \"what\", \"what\", \"what\", \"what\", \"what\", \"what\", \"what\", \"what\", \"what\", \"what\", \"what\", \"what\", \"what\", \"what\", \"what\", \"whatsoever\", \"whatsoever\", \"whatsoever\", \"whatsoever\", \"wheat\", \"wheel\", \"wheel\", \"when\", \"when\", \"when\", \"when\", \"when\", \"when\", \"when\", \"when\", \"when\", \"when\", \"when\", \"when\", \"when\", \"when\", \"when\", \"when\", \"when\", \"when\", \"when\", \"whereby\", \"whereby\", \"whereby\", \"whereby\", \"whereby\", \"whereby\", \"whereby\", \"whereby\", \"wherever\", \"wherever\", \"wherever\", \"which\", \"which\", \"which\", \"which\", \"which\", \"which\", \"which\", \"which\", \"which\", \"which\", \"which\", \"which\", \"which\", \"which\", \"which\", \"which\", \"which\", \"which\", \"which\", \"which\", \"white\", \"white\", \"white\", \"white\", \"white\", \"white\", \"white\", \"white\", \"white\", \"whiteness\", \"whiteness\", \"whither\", \"whither\", \"whither\", \"who\", \"who\", \"who\", \"who\", \"who\", \"who\", \"who\", \"who\", \"who\", \"who\", \"who\", \"who\", \"who\", \"who\", \"who\", \"who\", \"who\", \"who\", \"whoever\", \"wickedness\", \"wickedness\", \"wickedness\", \"wickedness\", \"wickedness\", \"wickedness\", \"will\", \"will\", \"will\", \"will\", \"will\", \"will\", \"will\", \"will\", \"will\", \"will\", \"will\", \"will\", \"will\", \"will\", \"will\", \"will\", \"wind\", \"wind\", \"wind\", \"wind\", \"wind\", \"window\", \"window\", \"window\", \"window\", \"wine\", \"wine\", \"wine\", \"wine\", \"wine\", \"wine\", \"wing\", \"wing\", \"wing\", \"wing\", \"wing\", \"winged\", \"with\", \"with\", \"with\", \"with\", \"with\", \"with\", \"with\", \"with\", \"with\", \"with\", \"with\", \"with\", \"with\", \"with\", \"with\", \"with\", \"with\", \"with\", \"with\", \"withhold\", \"withhold\", \"woman\", \"woman\", \"woman\", \"woman\", \"woman\", \"woman\", \"woman\", \"woman\", \"woman\", \"woman\", \"wooden\", \"word\", \"word\", \"word\", \"word\", \"word\", \"word\", \"word\", \"word\", \"word\", \"word\", \"word\", \"word\", \"word\", \"word\", \"word\", \"word\", \"word\", \"would\", \"would\", \"would\", \"would\", \"would\", \"would\", \"would\", \"would\", \"would\", \"would\", \"would\", \"would\", \"would\", \"would\", \"would\", \"would\", \"wound\", \"wound\", \"wound\", \"wound\", \"wrath\", \"wrath\", \"wu\", \"wu\", \"wu\", \"wu\", \"wu\", \"wu\", \"wu\", \"xlii\", \"xlii\", \"yang\", \"yang\", \"yao\", \"yao\", \"yao\", \"yao\", \"yao\", \"yao\", \"yao\", \"ye\", \"ye\", \"ye\", \"ye\", \"ye\", \"ye\", \"yea\", \"yea\", \"yea\", \"yellow\", \"yellow\", \"yellow\", \"yellow\", \"yen\", \"yen\", \"yen\", \"yes\", \"yes\", \"yes\", \"yes\", \"yes\", \"yes\", \"yes\", \"yin\", \"yourself\", \"yourself\", \"yu\", \"yu\", \"yu\", \"yu\", \"yu\", \"yu\", \"yu\", \"yu\", \"yu\", \"yu\", \"yu\", \"yu\", \"yu\", \"yu\", \"yuan\", \"yuan\", \"yuan\", \"zeus\"]}, \"R\": 30, \"lambda.step\": 0.01, \"plot.opts\": {\"xlab\": \"PC1\", \"ylab\": \"PC2\"}, \"topic.order\": [13, 12, 15, 4, 10, 3, 11, 20, 16, 6, 14, 1, 18, 17, 8, 19, 9, 7, 2, 5]};\n",
       "\n",
       "function LDAvis_load_lib(url, callback){\n",
       "  var s = document.createElement('script');\n",
       "  s.src = url;\n",
       "  s.async = true;\n",
       "  s.onreadystatechange = s.onload = callback;\n",
       "  s.onerror = function(){console.warn(\"failed to load library \" + url);};\n",
       "  document.getElementsByTagName(\"head\")[0].appendChild(s);\n",
       "}\n",
       "\n",
       "if(typeof(LDAvis) !== \"undefined\"){\n",
       "   // already loaded: just create the visualization\n",
       "   !function(LDAvis){\n",
       "       new LDAvis(\"#\" + \"ldavis_el100661402834703846082258816021\", ldavis_el100661402834703846082258816021_data);\n",
       "   }(LDAvis);\n",
       "}else if(typeof define === \"function\" && define.amd){\n",
       "   // require.js is available: use it to load d3/LDAvis\n",
       "   require.config({paths: {d3: \"https://cdnjs.cloudflare.com/ajax/libs/d3/3.5.5/d3.min\"}});\n",
       "   require([\"d3\"], function(d3){\n",
       "      window.d3 = d3;\n",
       "      LDAvis_load_lib(\"https://cdn.rawgit.com/bmabey/pyLDAvis/files/ldavis.v1.0.0.js\", function(){\n",
       "        new LDAvis(\"#\" + \"ldavis_el100661402834703846082258816021\", ldavis_el100661402834703846082258816021_data);\n",
       "      });\n",
       "    });\n",
       "}else{\n",
       "    // require.js not available: dynamically load d3 & LDAvis\n",
       "    LDAvis_load_lib(\"https://cdnjs.cloudflare.com/ajax/libs/d3/3.5.5/d3.min.js\", function(){\n",
       "         LDAvis_load_lib(\"https://cdn.rawgit.com/bmabey/pyLDAvis/files/ldavis.v1.0.0.js\", function(){\n",
       "                 new LDAvis(\"#\" + \"ldavis_el100661402834703846082258816021\", ldavis_el100661402834703846082258816021_data);\n",
       "            })\n",
       "         });\n",
       "}\n",
       "</script>"
      ],
      "text/plain": [
       "<IPython.core.display.HTML object>"
      ]
     },
     "execution_count": 99,
     "metadata": {},
     "output_type": "execute_result"
    }
   ],
   "source": [
    "lda_display_p = pyLDAvis.gensim.prepare(lda_multi_p, corpus_p, g_dict, sort_topics=True)\n",
    "pyLDAvis.display(lda_display_p)"
   ]
  },
  {
   "cell_type": "markdown",
   "metadata": {},
   "source": [
    "### 2.1.4 Optimization for Number of Topics"
   ]
  },
  {
   "cell_type": "markdown",
   "metadata": {},
   "source": [
    "**Set Optimizing Parameters**"
   ]
  },
  {
   "cell_type": "code",
   "execution_count": 105,
   "metadata": {},
   "outputs": [],
   "source": [
    "sent_opt_params = {\n",
    "    'num_topics':[28,32,36],\n",
    "    'random_state':210,\n",
    "    'chunksize':5000,\n",
    "    'passes':2,\n",
    "    'workers':3\n",
    "}"
   ]
  },
  {
   "cell_type": "code",
   "execution_count": 106,
   "metadata": {},
   "outputs": [],
   "source": [
    "par_opt_params = {\n",
    "    'num_topics':[16,20,24],\n",
    "    'random_state':210,\n",
    "    'chunksize':1000,\n",
    "    'passes':2,\n",
    "    'workers':3\n",
    "}"
   ]
  },
  {
   "cell_type": "markdown",
   "metadata": {},
   "source": [
    "**Sentence LDA**"
   ]
  },
  {
   "cell_type": "code",
   "execution_count": 107,
   "metadata": {
    "scrolled": true
   },
   "outputs": [
    {
     "data": {
      "application/vnd.jupyter.widget-view+json": {
       "model_id": "efae633d87c74fbb85d0acf96808097c",
       "version_major": 2,
       "version_minor": 0
      },
      "text/plain": [
       "HBox(children=(IntProgress(value=0, max=3), HTML(value='')))"
      ]
     },
     "metadata": {},
     "output_type": "display_data"
    },
    {
     "name": "stderr",
     "output_type": "stream",
     "text": [
      "Process ForkPoolWorker-104:\n",
      "Process ForkPoolWorker-103:\n",
      "Process ForkPoolWorker-105:\n",
      "Traceback (most recent call last):\n",
      "Traceback (most recent call last):\n",
      "  File \"/home/ubuntu/anaconda3/envs/tensorflow_p36/lib/python3.6/multiprocessing/process.py\", line 258, in _bootstrap\n",
      "    self.run()\n",
      "  File \"/home/ubuntu/anaconda3/envs/tensorflow_p36/lib/python3.6/multiprocessing/process.py\", line 258, in _bootstrap\n",
      "    self.run()\n",
      "  File \"/home/ubuntu/anaconda3/envs/tensorflow_p36/lib/python3.6/multiprocessing/process.py\", line 93, in run\n",
      "    self._target(*self._args, **self._kwargs)\n",
      "  File \"/home/ubuntu/anaconda3/envs/tensorflow_p36/lib/python3.6/multiprocessing/process.py\", line 93, in run\n",
      "    self._target(*self._args, **self._kwargs)\n",
      "  File \"/home/ubuntu/anaconda3/envs/tensorflow_p36/lib/python3.6/multiprocessing/pool.py\", line 103, in worker\n",
      "    initializer(*initargs)\n",
      "  File \"/home/ubuntu/anaconda3/envs/tensorflow_p36/lib/python3.6/multiprocessing/pool.py\", line 103, in worker\n",
      "    initializer(*initargs)\n"
     ]
    },
    {
     "ename": "KeyboardInterrupt",
     "evalue": "",
     "output_type": "error",
     "traceback": [
      "\u001b[0;31m---------------------------------------------------------------------------\u001b[0m",
      "\u001b[0;31mKeyboardInterrupt\u001b[0m                         Traceback (most recent call last)",
      "\u001b[0;32m<ipython-input-107-090e24b037dc>\u001b[0m in \u001b[0;36m<module>\u001b[0;34m()\u001b[0m\n\u001b[1;32m     12\u001b[0m                                           \u001b[0mpasses\u001b[0m\u001b[0;34m=\u001b[0m\u001b[0msent_opt_params\u001b[0m\u001b[0;34m[\u001b[0m\u001b[0;34m'passes'\u001b[0m\u001b[0;34m]\u001b[0m\u001b[0;34m,\u001b[0m\u001b[0;34m\u001b[0m\u001b[0m\n\u001b[1;32m     13\u001b[0m                                           \u001b[0mper_word_topics\u001b[0m\u001b[0;34m=\u001b[0m\u001b[0;32mTrue\u001b[0m\u001b[0;34m,\u001b[0m\u001b[0;34m\u001b[0m\u001b[0m\n\u001b[0;32m---> 14\u001b[0;31m                                           workers=sent_opt_params['workers'])\n\u001b[0m\u001b[1;32m     15\u001b[0m     \u001b[0mtemp_df\u001b[0m\u001b[0;34m.\u001b[0m\u001b[0mperplexity\u001b[0m \u001b[0;34m=\u001b[0m \u001b[0mlda_multi_s\u001b[0m\u001b[0;34m.\u001b[0m\u001b[0mlog_perplexity\u001b[0m\u001b[0;34m(\u001b[0m\u001b[0mcorpus_s\u001b[0m\u001b[0;34m)\u001b[0m\u001b[0;34m\u001b[0m\u001b[0m\n\u001b[1;32m     16\u001b[0m     \u001b[0mcm\u001b[0m \u001b[0;34m=\u001b[0m \u001b[0mCoherenceModel\u001b[0m\u001b[0;34m(\u001b[0m\u001b[0mmodel\u001b[0m\u001b[0;34m=\u001b[0m\u001b[0mlda_multi_s\u001b[0m\u001b[0;34m,\u001b[0m \u001b[0mtexts\u001b[0m\u001b[0;34m=\u001b[0m\u001b[0;34m[\u001b[0m\u001b[0mast\u001b[0m\u001b[0;34m.\u001b[0m\u001b[0mliteral_eval\u001b[0m\u001b[0;34m(\u001b[0m\u001b[0msent\u001b[0m\u001b[0;34m)\u001b[0m \u001b[0;32mfor\u001b[0m \u001b[0msent\u001b[0m \u001b[0;32min\u001b[0m \u001b[0mnlp_df\u001b[0m\u001b[0;34m.\u001b[0m\u001b[0msent_lemma\u001b[0m\u001b[0;34m]\u001b[0m\u001b[0;34m,\u001b[0m \u001b[0mdictionary\u001b[0m\u001b[0;34m=\u001b[0m\u001b[0mg_dict\u001b[0m\u001b[0;34m,\u001b[0m \u001b[0mcoherence\u001b[0m\u001b[0;34m=\u001b[0m\u001b[0;34m'c_v'\u001b[0m\u001b[0;34m)\u001b[0m\u001b[0;34m\u001b[0m\u001b[0m\n",
      "\u001b[0;32m~/anaconda3/envs/tensorflow_p36/lib/python3.6/site-packages/gensim/models/ldamulticore.py\u001b[0m in \u001b[0;36m__init__\u001b[0;34m(self, corpus, num_topics, id2word, workers, chunksize, passes, batch, alpha, eta, decay, offset, eval_every, iterations, gamma_threshold, random_state, minimum_probability, minimum_phi_value, per_word_topics, dtype)\u001b[0m\n\u001b[1;32m    182\u001b[0m             \u001b[0mdecay\u001b[0m\u001b[0;34m=\u001b[0m\u001b[0mdecay\u001b[0m\u001b[0;34m,\u001b[0m \u001b[0moffset\u001b[0m\u001b[0;34m=\u001b[0m\u001b[0moffset\u001b[0m\u001b[0;34m,\u001b[0m \u001b[0meval_every\u001b[0m\u001b[0;34m=\u001b[0m\u001b[0meval_every\u001b[0m\u001b[0;34m,\u001b[0m \u001b[0miterations\u001b[0m\u001b[0;34m=\u001b[0m\u001b[0miterations\u001b[0m\u001b[0;34m,\u001b[0m\u001b[0;34m\u001b[0m\u001b[0m\n\u001b[1;32m    183\u001b[0m             \u001b[0mgamma_threshold\u001b[0m\u001b[0;34m=\u001b[0m\u001b[0mgamma_threshold\u001b[0m\u001b[0;34m,\u001b[0m \u001b[0mrandom_state\u001b[0m\u001b[0;34m=\u001b[0m\u001b[0mrandom_state\u001b[0m\u001b[0;34m,\u001b[0m \u001b[0mminimum_probability\u001b[0m\u001b[0;34m=\u001b[0m\u001b[0mminimum_probability\u001b[0m\u001b[0;34m,\u001b[0m\u001b[0;34m\u001b[0m\u001b[0m\n\u001b[0;32m--> 184\u001b[0;31m             \u001b[0mminimum_phi_value\u001b[0m\u001b[0;34m=\u001b[0m\u001b[0mminimum_phi_value\u001b[0m\u001b[0;34m,\u001b[0m \u001b[0mper_word_topics\u001b[0m\u001b[0;34m=\u001b[0m\u001b[0mper_word_topics\u001b[0m\u001b[0;34m,\u001b[0m \u001b[0mdtype\u001b[0m\u001b[0;34m=\u001b[0m\u001b[0mdtype\u001b[0m\u001b[0;34m\u001b[0m\u001b[0m\n\u001b[0m\u001b[1;32m    185\u001b[0m         )\n\u001b[1;32m    186\u001b[0m \u001b[0;34m\u001b[0m\u001b[0m\n",
      "\u001b[0;32m~/anaconda3/envs/tensorflow_p36/lib/python3.6/site-packages/gensim/models/ldamodel.py\u001b[0m in \u001b[0;36m__init__\u001b[0;34m(self, corpus, num_topics, id2word, distributed, chunksize, passes, update_every, alpha, eta, decay, offset, eval_every, iterations, gamma_threshold, minimum_probability, random_state, ns_conf, minimum_phi_value, per_word_topics, callbacks, dtype)\u001b[0m\n\u001b[1;32m    517\u001b[0m         \u001b[0;32mif\u001b[0m \u001b[0mcorpus\u001b[0m \u001b[0;32mis\u001b[0m \u001b[0;32mnot\u001b[0m \u001b[0;32mNone\u001b[0m\u001b[0;34m:\u001b[0m\u001b[0;34m\u001b[0m\u001b[0m\n\u001b[1;32m    518\u001b[0m             \u001b[0muse_numpy\u001b[0m \u001b[0;34m=\u001b[0m \u001b[0mself\u001b[0m\u001b[0;34m.\u001b[0m\u001b[0mdispatcher\u001b[0m \u001b[0;32mis\u001b[0m \u001b[0;32mnot\u001b[0m \u001b[0;32mNone\u001b[0m\u001b[0;34m\u001b[0m\u001b[0m\n\u001b[0;32m--> 519\u001b[0;31m             \u001b[0mself\u001b[0m\u001b[0;34m.\u001b[0m\u001b[0mupdate\u001b[0m\u001b[0;34m(\u001b[0m\u001b[0mcorpus\u001b[0m\u001b[0;34m,\u001b[0m \u001b[0mchunks_as_numpy\u001b[0m\u001b[0;34m=\u001b[0m\u001b[0muse_numpy\u001b[0m\u001b[0;34m)\u001b[0m\u001b[0;34m\u001b[0m\u001b[0m\n\u001b[0m\u001b[1;32m    520\u001b[0m \u001b[0;34m\u001b[0m\u001b[0m\n\u001b[1;32m    521\u001b[0m     \u001b[0;32mdef\u001b[0m \u001b[0minit_dir_prior\u001b[0m\u001b[0;34m(\u001b[0m\u001b[0mself\u001b[0m\u001b[0;34m,\u001b[0m \u001b[0mprior\u001b[0m\u001b[0;34m,\u001b[0m \u001b[0mname\u001b[0m\u001b[0;34m)\u001b[0m\u001b[0;34m:\u001b[0m\u001b[0;34m\u001b[0m\u001b[0m\n",
      "\u001b[0;32m~/anaconda3/envs/tensorflow_p36/lib/python3.6/site-packages/gensim/models/ldamulticore.py\u001b[0m in \u001b[0;36mupdate\u001b[0;34m(self, corpus, chunks_as_numpy)\u001b[0m\n\u001b[1;32m    303\u001b[0m                         \u001b[0mprocess_result_queue\u001b[0m\u001b[0;34m(\u001b[0m\u001b[0;34m)\u001b[0m\u001b[0;34m\u001b[0m\u001b[0m\n\u001b[1;32m    304\u001b[0m \u001b[0;34m\u001b[0m\u001b[0m\n\u001b[0;32m--> 305\u001b[0;31m                 \u001b[0mprocess_result_queue\u001b[0m\u001b[0;34m(\u001b[0m\u001b[0;34m)\u001b[0m\u001b[0;34m\u001b[0m\u001b[0m\n\u001b[0m\u001b[1;32m    306\u001b[0m             \u001b[0;31m# endfor single corpus pass\u001b[0m\u001b[0;34m\u001b[0m\u001b[0;34m\u001b[0m\u001b[0m\n\u001b[1;32m    307\u001b[0m \u001b[0;34m\u001b[0m\u001b[0m\n",
      "\u001b[0;32m~/anaconda3/envs/tensorflow_p36/lib/python3.6/site-packages/gensim/models/ldamulticore.py\u001b[0m in \u001b[0;36mprocess_result_queue\u001b[0;34m(force)\u001b[0m\n\u001b[1;32m    267\u001b[0m             \u001b[0mmerged_new\u001b[0m \u001b[0;34m=\u001b[0m \u001b[0;32mFalse\u001b[0m\u001b[0;34m\u001b[0m\u001b[0m\n\u001b[1;32m    268\u001b[0m             \u001b[0;32mwhile\u001b[0m \u001b[0;32mnot\u001b[0m \u001b[0mresult_queue\u001b[0m\u001b[0;34m.\u001b[0m\u001b[0mempty\u001b[0m\u001b[0;34m(\u001b[0m\u001b[0;34m)\u001b[0m\u001b[0;34m:\u001b[0m\u001b[0;34m\u001b[0m\u001b[0m\n\u001b[0;32m--> 269\u001b[0;31m                 \u001b[0mother\u001b[0m\u001b[0;34m.\u001b[0m\u001b[0mmerge\u001b[0m\u001b[0;34m(\u001b[0m\u001b[0mresult_queue\u001b[0m\u001b[0;34m.\u001b[0m\u001b[0mget\u001b[0m\u001b[0;34m(\u001b[0m\u001b[0;34m)\u001b[0m\u001b[0;34m)\u001b[0m\u001b[0;34m\u001b[0m\u001b[0m\n\u001b[0m\u001b[1;32m    270\u001b[0m                 \u001b[0mqueue_size\u001b[0m\u001b[0;34m[\u001b[0m\u001b[0;36m0\u001b[0m\u001b[0;34m]\u001b[0m \u001b[0;34m-=\u001b[0m \u001b[0;36m1\u001b[0m\u001b[0;34m\u001b[0m\u001b[0m\n\u001b[1;32m    271\u001b[0m                 \u001b[0mmerged_new\u001b[0m \u001b[0;34m=\u001b[0m \u001b[0;32mTrue\u001b[0m\u001b[0;34m\u001b[0m\u001b[0m\n",
      "\u001b[0;32m~/anaconda3/envs/tensorflow_p36/lib/python3.6/multiprocessing/queues.py\u001b[0m in \u001b[0;36mget\u001b[0;34m(self, block, timeout)\u001b[0m\n\u001b[1;32m     92\u001b[0m         \u001b[0;32mif\u001b[0m \u001b[0mblock\u001b[0m \u001b[0;32mand\u001b[0m \u001b[0mtimeout\u001b[0m \u001b[0;32mis\u001b[0m \u001b[0;32mNone\u001b[0m\u001b[0;34m:\u001b[0m\u001b[0;34m\u001b[0m\u001b[0m\n\u001b[1;32m     93\u001b[0m             \u001b[0;32mwith\u001b[0m \u001b[0mself\u001b[0m\u001b[0;34m.\u001b[0m\u001b[0m_rlock\u001b[0m\u001b[0;34m:\u001b[0m\u001b[0;34m\u001b[0m\u001b[0m\n\u001b[0;32m---> 94\u001b[0;31m                 \u001b[0mres\u001b[0m \u001b[0;34m=\u001b[0m \u001b[0mself\u001b[0m\u001b[0;34m.\u001b[0m\u001b[0m_recv_bytes\u001b[0m\u001b[0;34m(\u001b[0m\u001b[0;34m)\u001b[0m\u001b[0;34m\u001b[0m\u001b[0m\n\u001b[0m\u001b[1;32m     95\u001b[0m             \u001b[0mself\u001b[0m\u001b[0;34m.\u001b[0m\u001b[0m_sem\u001b[0m\u001b[0;34m.\u001b[0m\u001b[0mrelease\u001b[0m\u001b[0;34m(\u001b[0m\u001b[0;34m)\u001b[0m\u001b[0;34m\u001b[0m\u001b[0m\n\u001b[1;32m     96\u001b[0m         \u001b[0;32melse\u001b[0m\u001b[0;34m:\u001b[0m\u001b[0;34m\u001b[0m\u001b[0m\n",
      "\u001b[0;32m~/anaconda3/envs/tensorflow_p36/lib/python3.6/multiprocessing/connection.py\u001b[0m in \u001b[0;36mrecv_bytes\u001b[0;34m(self, maxlength)\u001b[0m\n\u001b[1;32m    214\u001b[0m         \u001b[0;32mif\u001b[0m \u001b[0mmaxlength\u001b[0m \u001b[0;32mis\u001b[0m \u001b[0;32mnot\u001b[0m \u001b[0;32mNone\u001b[0m \u001b[0;32mand\u001b[0m \u001b[0mmaxlength\u001b[0m \u001b[0;34m<\u001b[0m \u001b[0;36m0\u001b[0m\u001b[0;34m:\u001b[0m\u001b[0;34m\u001b[0m\u001b[0m\n\u001b[1;32m    215\u001b[0m             \u001b[0;32mraise\u001b[0m \u001b[0mValueError\u001b[0m\u001b[0;34m(\u001b[0m\u001b[0;34m\"negative maxlength\"\u001b[0m\u001b[0;34m)\u001b[0m\u001b[0;34m\u001b[0m\u001b[0m\n\u001b[0;32m--> 216\u001b[0;31m         \u001b[0mbuf\u001b[0m \u001b[0;34m=\u001b[0m \u001b[0mself\u001b[0m\u001b[0;34m.\u001b[0m\u001b[0m_recv_bytes\u001b[0m\u001b[0;34m(\u001b[0m\u001b[0mmaxlength\u001b[0m\u001b[0;34m)\u001b[0m\u001b[0;34m\u001b[0m\u001b[0m\n\u001b[0m\u001b[1;32m    217\u001b[0m         \u001b[0;32mif\u001b[0m \u001b[0mbuf\u001b[0m \u001b[0;32mis\u001b[0m \u001b[0;32mNone\u001b[0m\u001b[0;34m:\u001b[0m\u001b[0;34m\u001b[0m\u001b[0m\n\u001b[1;32m    218\u001b[0m             \u001b[0mself\u001b[0m\u001b[0;34m.\u001b[0m\u001b[0m_bad_message_length\u001b[0m\u001b[0;34m(\u001b[0m\u001b[0;34m)\u001b[0m\u001b[0;34m\u001b[0m\u001b[0m\n",
      "\u001b[0;32m~/anaconda3/envs/tensorflow_p36/lib/python3.6/multiprocessing/connection.py\u001b[0m in \u001b[0;36m_recv_bytes\u001b[0;34m(self, maxsize)\u001b[0m\n\u001b[1;32m    409\u001b[0m         \u001b[0;32mif\u001b[0m \u001b[0mmaxsize\u001b[0m \u001b[0;32mis\u001b[0m \u001b[0;32mnot\u001b[0m \u001b[0;32mNone\u001b[0m \u001b[0;32mand\u001b[0m \u001b[0msize\u001b[0m \u001b[0;34m>\u001b[0m \u001b[0mmaxsize\u001b[0m\u001b[0;34m:\u001b[0m\u001b[0;34m\u001b[0m\u001b[0m\n\u001b[1;32m    410\u001b[0m             \u001b[0;32mreturn\u001b[0m \u001b[0;32mNone\u001b[0m\u001b[0;34m\u001b[0m\u001b[0m\n\u001b[0;32m--> 411\u001b[0;31m         \u001b[0;32mreturn\u001b[0m \u001b[0mself\u001b[0m\u001b[0;34m.\u001b[0m\u001b[0m_recv\u001b[0m\u001b[0;34m(\u001b[0m\u001b[0msize\u001b[0m\u001b[0;34m)\u001b[0m\u001b[0;34m\u001b[0m\u001b[0m\n\u001b[0m\u001b[1;32m    412\u001b[0m \u001b[0;34m\u001b[0m\u001b[0m\n\u001b[1;32m    413\u001b[0m     \u001b[0;32mdef\u001b[0m \u001b[0m_poll\u001b[0m\u001b[0;34m(\u001b[0m\u001b[0mself\u001b[0m\u001b[0;34m,\u001b[0m \u001b[0mtimeout\u001b[0m\u001b[0;34m)\u001b[0m\u001b[0;34m:\u001b[0m\u001b[0;34m\u001b[0m\u001b[0m\n",
      "\u001b[0;32m~/anaconda3/envs/tensorflow_p36/lib/python3.6/multiprocessing/connection.py\u001b[0m in \u001b[0;36m_recv\u001b[0;34m(self, size, read)\u001b[0m\n\u001b[1;32m    377\u001b[0m         \u001b[0mremaining\u001b[0m \u001b[0;34m=\u001b[0m \u001b[0msize\u001b[0m\u001b[0;34m\u001b[0m\u001b[0m\n\u001b[1;32m    378\u001b[0m         \u001b[0;32mwhile\u001b[0m \u001b[0mremaining\u001b[0m \u001b[0;34m>\u001b[0m \u001b[0;36m0\u001b[0m\u001b[0;34m:\u001b[0m\u001b[0;34m\u001b[0m\u001b[0m\n\u001b[0;32m--> 379\u001b[0;31m             \u001b[0mchunk\u001b[0m \u001b[0;34m=\u001b[0m \u001b[0mread\u001b[0m\u001b[0;34m(\u001b[0m\u001b[0mhandle\u001b[0m\u001b[0;34m,\u001b[0m \u001b[0mremaining\u001b[0m\u001b[0;34m)\u001b[0m\u001b[0;34m\u001b[0m\u001b[0m\n\u001b[0m\u001b[1;32m    380\u001b[0m             \u001b[0mn\u001b[0m \u001b[0;34m=\u001b[0m \u001b[0mlen\u001b[0m\u001b[0;34m(\u001b[0m\u001b[0mchunk\u001b[0m\u001b[0;34m)\u001b[0m\u001b[0;34m\u001b[0m\u001b[0m\n\u001b[1;32m    381\u001b[0m             \u001b[0;32mif\u001b[0m \u001b[0mn\u001b[0m \u001b[0;34m==\u001b[0m \u001b[0;36m0\u001b[0m\u001b[0;34m:\u001b[0m\u001b[0;34m\u001b[0m\u001b[0m\n",
      "\u001b[0;31mKeyboardInterrupt\u001b[0m: "
     ]
    },
    {
     "name": "stderr",
     "output_type": "stream",
     "text": [
      "  File \"/home/ubuntu/anaconda3/envs/tensorflow_p36/lib/python3.6/site-packages/gensim/models/ldamulticore.py\", line 334, in worker_e_step\n",
      "    chunk_no, chunk, worker_lda = input_queue.get()\n",
      "  File \"/home/ubuntu/anaconda3/envs/tensorflow_p36/lib/python3.6/site-packages/gensim/models/ldamulticore.py\", line 337, in worker_e_step\n",
      "    worker_lda.do_estep(chunk)  # TODO: auto-tune alpha?\n",
      "  File \"/home/ubuntu/anaconda3/envs/tensorflow_p36/lib/python3.6/site-packages/gensim/models/ldamodel.py\", line 742, in do_estep\n",
      "    gamma, sstats = self.inference(chunk, collect_sstats=True)\n",
      "  File \"/home/ubuntu/anaconda3/envs/tensorflow_p36/lib/python3.6/site-packages/gensim/models/ldamodel.py\", line 707, in inference\n",
      "    sstats[:, ids] += np.outer(expElogthetad.T, cts / phinorm)\n",
      "KeyboardInterrupt\n",
      "Traceback (most recent call last):\n",
      "  File \"/home/ubuntu/anaconda3/envs/tensorflow_p36/lib/python3.6/multiprocessing/queues.py\", line 94, in get\n",
      "    res = self._recv_bytes()\n",
      "  File \"/home/ubuntu/anaconda3/envs/tensorflow_p36/lib/python3.6/multiprocessing/process.py\", line 258, in _bootstrap\n",
      "    self.run()\n",
      "  File \"/home/ubuntu/anaconda3/envs/tensorflow_p36/lib/python3.6/multiprocessing/connection.py\", line 216, in recv_bytes\n",
      "    buf = self._recv_bytes(maxlength)\n",
      "  File \"/home/ubuntu/anaconda3/envs/tensorflow_p36/lib/python3.6/multiprocessing/process.py\", line 93, in run\n",
      "    self._target(*self._args, **self._kwargs)\n",
      "  File \"/home/ubuntu/anaconda3/envs/tensorflow_p36/lib/python3.6/multiprocessing/connection.py\", line 407, in _recv_bytes\n",
      "    buf = self._recv(4)\n",
      "  File \"/home/ubuntu/anaconda3/envs/tensorflow_p36/lib/python3.6/multiprocessing/pool.py\", line 103, in worker\n",
      "    initializer(*initargs)\n",
      "  File \"/home/ubuntu/anaconda3/envs/tensorflow_p36/lib/python3.6/multiprocessing/connection.py\", line 379, in _recv\n",
      "    chunk = read(handle, remaining)\n",
      "  File \"/home/ubuntu/anaconda3/envs/tensorflow_p36/lib/python3.6/site-packages/gensim/models/ldamulticore.py\", line 334, in worker_e_step\n",
      "    chunk_no, chunk, worker_lda = input_queue.get()\n",
      "  File \"/home/ubuntu/anaconda3/envs/tensorflow_p36/lib/python3.6/multiprocessing/queues.py\", line 93, in get\n",
      "    with self._rlock:\n",
      "KeyboardInterrupt\n",
      "  File \"/home/ubuntu/anaconda3/envs/tensorflow_p36/lib/python3.6/multiprocessing/synchronize.py\", line 96, in __enter__\n",
      "    return self._semlock.__enter__()\n",
      "KeyboardInterrupt\n"
     ]
    }
   ],
   "source": [
    "lda_multi_s_df = pd.DataFrame(columns=['num_topics','perplexity','coherence'])\n",
    "\n",
    "for nt in tqdm(range(len(sent_opt_params['num_topics']))):\n",
    "    temp_df = pd.DataFrame(columns=['num_topics','perplexity','coherence'])\n",
    "    temp_df.loc[nt, 'num_topics'] = sent_opt_params['num_topics'][nt]\n",
    "\n",
    "    lda_multi_s = ldamulticore.LdaMulticore(corpus=corpus_s,\n",
    "                                          id2word=g_dict,\n",
    "                                          num_topics=sent_opt_params['num_topics'][nt],\n",
    "                                          random_state=210,\n",
    "                                          chunksize=sent_opt_params['chunksize'],\n",
    "                                          passes=sent_opt_params['passes'],\n",
    "                                          per_word_topics=True,\n",
    "                                          workers=sent_opt_params['workers'],\n",
    "                                           alpha='symmetric')\n",
    "    temp_df.perplexity = lda_multi_s.log_perplexity(corpus_s)\n",
    "    cm = CoherenceModel(model=lda_multi_s, texts=[ast.literal_eval(sent) for sent in nlp_df.sent_lemma], dictionary=g_dict, coherence='c_v')\n",
    "    temp_df.coherence = cm.get_coherence()\n",
    "    lda_multi_s_df = lda_multi_s_df.append(temp_df)\n",
    "                \n",
    "lda_multi_s_df"
   ]
  },
  {
   "cell_type": "markdown",
   "metadata": {},
   "source": [
    "**Paragraph LDA**"
   ]
  },
  {
   "cell_type": "code",
   "execution_count": null,
   "metadata": {},
   "outputs": [],
   "source": [
    "lda_multi_p_df = pd.DataFrame(columns=['num_topics','perplexity','coherence'])\n",
    "\n",
    "for nt in tqdm(range(len(par_opt_params['num_topics']))):\n",
    "    temp_df = pd.DataFrame(columns=['num_topics','perplexity','coherence'])\n",
    "    temp_df.loc[nt, 'num_topics'] = par_opt_params['num_topics'][nt]\n",
    "\n",
    "    lda_multi_p = ldamulticore.LdaMulticore(corpus=corpus_p,\n",
    "                                          id2word=g_dict,\n",
    "                                          num_topics=par_opt_params['num_topics'][nt],\n",
    "                                          random_state=210,\n",
    "                                          chunksize=par_opt_params['chunksize'],\n",
    "                                          passes=par_opt_params['passes'],\n",
    "                                          per_word_topics=True,\n",
    "                                          workers=par_opt_params['workers'], \n",
    "                                            alpha='symmetric')\n",
    "    temp_df.perplexity = lda_multi_p.log_perplexity(corpus_p)\n",
    "    cm = CoherenceModel(model=lda_multi_p, texts=[ast.literal_eval(par) for par in nlp_df.par_lemma], dictionary=g_dict, coherence='c_v')\n",
    "    temp_df.coherence = cm.get_coherence()\n",
    "    lda_multi_p_df = lda_multi_p_df.append(temp_df)\n",
    "                \n",
    "lda_multi_p_df"
   ]
  },
  {
   "cell_type": "markdown",
   "metadata": {},
   "source": [
    "**Create Empty Optimizing DataFrames**"
   ]
  },
  {
   "cell_type": "code",
   "execution_count": null,
   "metadata": {},
   "outputs": [],
   "source": [
    "lda_sent = pd.DataFrame(columns=['num_topics','perplexity','coherence'])\n",
    "lda_par = pd.DataFrame(columns=['num_topics','perplexity','coherence'])"
   ]
  },
  {
   "cell_type": "markdown",
   "metadata": {},
   "source": [
    "**Add Latest Results to Lists**"
   ]
  },
  {
   "cell_type": "code",
   "execution_count": null,
   "metadata": {},
   "outputs": [],
   "source": [
    "lda_sent = lda_sent.append(lda_multi_s_df)"
   ]
  },
  {
   "cell_type": "code",
   "execution_count": null,
   "metadata": {},
   "outputs": [],
   "source": [
    "lda_par = lda_par.append(lda_multi_p_df)"
   ]
  },
  {
   "cell_type": "markdown",
   "metadata": {},
   "source": [
    "**Final Sentence LDA Model**"
   ]
  },
  {
   "cell_type": "code",
   "execution_count": 108,
   "metadata": {},
   "outputs": [],
   "source": [
    "sent_params = {\n",
    "    'num_topics':32,\n",
    "    'random_state':210,\n",
    "    'chunksize':5000,\n",
    "    'passes':2,\n",
    "    'workers':3\n",
    "}"
   ]
  },
  {
   "cell_type": "code",
   "execution_count": 109,
   "metadata": {},
   "outputs": [],
   "source": [
    "# Run model\n",
    "lda_multi_s = ldamulticore.LdaMulticore(corpus=corpus_s,\n",
    "                                        id2word=g_dict,\n",
    "                                        num_topics=sent_params['num_topics'],\n",
    "                                        random_state=sent_params['random_state'],\n",
    "                                        chunksize=sent_params['chunksize'],\n",
    "                                        passes=sent_params['passes'],\n",
    "                                        per_word_topics=True,\n",
    "                                        workers=sent_params['workers'], \n",
    "                                        alpha='symmetric'\n",
    "                                       )"
   ]
  },
  {
   "cell_type": "code",
   "execution_count": 75,
   "metadata": {},
   "outputs": [],
   "source": [
    "# Save model to disk\n",
    "lda_multi_s.save('./models/lda_multi_s')"
   ]
  },
  {
   "cell_type": "markdown",
   "metadata": {},
   "source": [
    "**Final Paragraph LDA Model**"
   ]
  },
  {
   "cell_type": "code",
   "execution_count": 110,
   "metadata": {},
   "outputs": [],
   "source": [
    "par_params = {\n",
    "    'num_topics':20,\n",
    "    'random_state':210,\n",
    "    'chunksize':1000,\n",
    "    'passes':2,\n",
    "    'workers':3\n",
    "}"
   ]
  },
  {
   "cell_type": "code",
   "execution_count": 111,
   "metadata": {},
   "outputs": [],
   "source": [
    "# Run model\n",
    "lda_multi_p = ldamulticore.LdaMulticore(corpus=corpus_p,\n",
    "                                        id2word=g_dict,\n",
    "                                        num_topics=par_params['num_topics'],\n",
    "                                        random_state=par_params['random_state'],\n",
    "                                        chunksize=par_params['chunksize'],\n",
    "                                        passes=par_params['passes'],\n",
    "                                        per_word_topics=True,\n",
    "                                        workers=par_params['workers'], \n",
    "                                        alpha='symmetric'\n",
    "                                       )"
   ]
  },
  {
   "cell_type": "code",
   "execution_count": 77,
   "metadata": {},
   "outputs": [],
   "source": [
    "# Save model to disk\n",
    "lda_multi_p.save('./models/lda_multi_p')"
   ]
  },
  {
   "cell_type": "markdown",
   "metadata": {},
   "source": [
    "## 2.2 Get Topic Values for Corpora"
   ]
  },
  {
   "cell_type": "markdown",
   "metadata": {},
   "source": [
    "**Load LDA Models**"
   ]
  },
  {
   "cell_type": "code",
   "execution_count": 2,
   "metadata": {},
   "outputs": [],
   "source": [
    "lda_multi_s = Dictionary.load('./models/lda_multi_s')"
   ]
  },
  {
   "cell_type": "code",
   "execution_count": 4,
   "metadata": {},
   "outputs": [],
   "source": [
    "lda_multi_p = Dictionary.load('./models/lda_multi_p')"
   ]
  },
  {
   "cell_type": "markdown",
   "metadata": {},
   "source": [
    "**Sentences**"
   ]
  },
  {
   "cell_type": "code",
   "execution_count": 112,
   "metadata": {},
   "outputs": [
    {
     "data": {
      "application/vnd.jupyter.widget-view+json": {
       "model_id": "171620f7e52c495dad61821b1b7423b2",
       "version_major": 2,
       "version_minor": 0
      },
      "text/plain": [
       "HBox(children=(IntProgress(value=0, max=70922), HTML(value='')))"
      ]
     },
     "metadata": {},
     "output_type": "display_data"
    }
   ],
   "source": [
    "corpus_topic_df_s = pd.DataFrame(columns=[n for n in range(lda_multi_s.num_topics)])\n",
    "\n",
    "for i, doc in enumerate(lda_multi_s.get_document_topics(tqdm(corpus_s))):\n",
    "    for topic, proba in doc:\n",
    "        corpus_topic_df_s.loc[i, topic] = proba"
   ]
  },
  {
   "cell_type": "code",
   "execution_count": 113,
   "metadata": {},
   "outputs": [],
   "source": [
    "corpus_topic_df_s.fillna(0, inplace=True)"
   ]
  },
  {
   "cell_type": "code",
   "execution_count": 114,
   "metadata": {},
   "outputs": [
    {
     "data": {
      "text/html": [
       "<div>\n",
       "<style scoped>\n",
       "    .dataframe tbody tr th:only-of-type {\n",
       "        vertical-align: middle;\n",
       "    }\n",
       "\n",
       "    .dataframe tbody tr th {\n",
       "        vertical-align: top;\n",
       "    }\n",
       "\n",
       "    .dataframe thead th {\n",
       "        text-align: right;\n",
       "    }\n",
       "</style>\n",
       "<table border=\"1\" class=\"dataframe\">\n",
       "  <thead>\n",
       "    <tr style=\"text-align: right;\">\n",
       "      <th></th>\n",
       "      <th>0</th>\n",
       "      <th>1</th>\n",
       "      <th>2</th>\n",
       "      <th>3</th>\n",
       "      <th>4</th>\n",
       "      <th>5</th>\n",
       "      <th>6</th>\n",
       "      <th>7</th>\n",
       "      <th>8</th>\n",
       "      <th>9</th>\n",
       "      <th>...</th>\n",
       "      <th>22</th>\n",
       "      <th>23</th>\n",
       "      <th>24</th>\n",
       "      <th>25</th>\n",
       "      <th>26</th>\n",
       "      <th>27</th>\n",
       "      <th>28</th>\n",
       "      <th>29</th>\n",
       "      <th>30</th>\n",
       "      <th>31</th>\n",
       "    </tr>\n",
       "  </thead>\n",
       "  <tbody>\n",
       "    <tr>\n",
       "      <th>0</th>\n",
       "      <td>0.0</td>\n",
       "      <td>0.0</td>\n",
       "      <td>0.0</td>\n",
       "      <td>0.0</td>\n",
       "      <td>0.0</td>\n",
       "      <td>0.764414</td>\n",
       "      <td>0.0</td>\n",
       "      <td>0.0</td>\n",
       "      <td>0.000000</td>\n",
       "      <td>0.000000</td>\n",
       "      <td>...</td>\n",
       "      <td>0.0</td>\n",
       "      <td>0.0</td>\n",
       "      <td>0.0</td>\n",
       "      <td>0.0</td>\n",
       "      <td>0.0</td>\n",
       "      <td>0.0</td>\n",
       "      <td>0.0</td>\n",
       "      <td>0.0</td>\n",
       "      <td>0.0</td>\n",
       "      <td>0.0</td>\n",
       "    </tr>\n",
       "    <tr>\n",
       "      <th>1</th>\n",
       "      <td>0.0</td>\n",
       "      <td>0.0</td>\n",
       "      <td>0.0</td>\n",
       "      <td>0.0</td>\n",
       "      <td>0.0</td>\n",
       "      <td>0.000000</td>\n",
       "      <td>0.0</td>\n",
       "      <td>0.0</td>\n",
       "      <td>0.000000</td>\n",
       "      <td>0.058748</td>\n",
       "      <td>...</td>\n",
       "      <td>0.0</td>\n",
       "      <td>0.0</td>\n",
       "      <td>0.0</td>\n",
       "      <td>0.0</td>\n",
       "      <td>0.0</td>\n",
       "      <td>0.0</td>\n",
       "      <td>0.0</td>\n",
       "      <td>0.0</td>\n",
       "      <td>0.0</td>\n",
       "      <td>0.0</td>\n",
       "    </tr>\n",
       "    <tr>\n",
       "      <th>2</th>\n",
       "      <td>0.0</td>\n",
       "      <td>0.0</td>\n",
       "      <td>0.0</td>\n",
       "      <td>0.0</td>\n",
       "      <td>0.0</td>\n",
       "      <td>0.000000</td>\n",
       "      <td>0.0</td>\n",
       "      <td>0.0</td>\n",
       "      <td>0.000000</td>\n",
       "      <td>0.000000</td>\n",
       "      <td>...</td>\n",
       "      <td>0.0</td>\n",
       "      <td>0.0</td>\n",
       "      <td>0.0</td>\n",
       "      <td>0.0</td>\n",
       "      <td>0.0</td>\n",
       "      <td>0.0</td>\n",
       "      <td>0.0</td>\n",
       "      <td>0.0</td>\n",
       "      <td>0.0</td>\n",
       "      <td>0.0</td>\n",
       "    </tr>\n",
       "    <tr>\n",
       "      <th>3</th>\n",
       "      <td>0.0</td>\n",
       "      <td>0.0</td>\n",
       "      <td>0.0</td>\n",
       "      <td>0.0</td>\n",
       "      <td>0.0</td>\n",
       "      <td>0.000000</td>\n",
       "      <td>0.0</td>\n",
       "      <td>0.0</td>\n",
       "      <td>0.771878</td>\n",
       "      <td>0.000000</td>\n",
       "      <td>...</td>\n",
       "      <td>0.0</td>\n",
       "      <td>0.0</td>\n",
       "      <td>0.0</td>\n",
       "      <td>0.0</td>\n",
       "      <td>0.0</td>\n",
       "      <td>0.0</td>\n",
       "      <td>0.0</td>\n",
       "      <td>0.0</td>\n",
       "      <td>0.0</td>\n",
       "      <td>0.0</td>\n",
       "    </tr>\n",
       "    <tr>\n",
       "      <th>4</th>\n",
       "      <td>0.0</td>\n",
       "      <td>0.0</td>\n",
       "      <td>0.0</td>\n",
       "      <td>0.0</td>\n",
       "      <td>0.0</td>\n",
       "      <td>0.000000</td>\n",
       "      <td>0.0</td>\n",
       "      <td>0.0</td>\n",
       "      <td>0.838629</td>\n",
       "      <td>0.000000</td>\n",
       "      <td>...</td>\n",
       "      <td>0.0</td>\n",
       "      <td>0.0</td>\n",
       "      <td>0.0</td>\n",
       "      <td>0.0</td>\n",
       "      <td>0.0</td>\n",
       "      <td>0.0</td>\n",
       "      <td>0.0</td>\n",
       "      <td>0.0</td>\n",
       "      <td>0.0</td>\n",
       "      <td>0.0</td>\n",
       "    </tr>\n",
       "  </tbody>\n",
       "</table>\n",
       "<p>5 rows × 32 columns</p>\n",
       "</div>"
      ],
      "text/plain": [
       "    0    1    2    3    4         5    6    7         8         9  ...    22  \\\n",
       "0  0.0  0.0  0.0  0.0  0.0  0.764414  0.0  0.0  0.000000  0.000000 ...   0.0   \n",
       "1  0.0  0.0  0.0  0.0  0.0  0.000000  0.0  0.0  0.000000  0.058748 ...   0.0   \n",
       "2  0.0  0.0  0.0  0.0  0.0  0.000000  0.0  0.0  0.000000  0.000000 ...   0.0   \n",
       "3  0.0  0.0  0.0  0.0  0.0  0.000000  0.0  0.0  0.771878  0.000000 ...   0.0   \n",
       "4  0.0  0.0  0.0  0.0  0.0  0.000000  0.0  0.0  0.838629  0.000000 ...   0.0   \n",
       "\n",
       "    23   24   25   26   27   28   29   30   31  \n",
       "0  0.0  0.0  0.0  0.0  0.0  0.0  0.0  0.0  0.0  \n",
       "1  0.0  0.0  0.0  0.0  0.0  0.0  0.0  0.0  0.0  \n",
       "2  0.0  0.0  0.0  0.0  0.0  0.0  0.0  0.0  0.0  \n",
       "3  0.0  0.0  0.0  0.0  0.0  0.0  0.0  0.0  0.0  \n",
       "4  0.0  0.0  0.0  0.0  0.0  0.0  0.0  0.0  0.0  \n",
       "\n",
       "[5 rows x 32 columns]"
      ]
     },
     "execution_count": 114,
     "metadata": {},
     "output_type": "execute_result"
    }
   ],
   "source": [
    "corpus_topic_df_s.head()"
   ]
  },
  {
   "cell_type": "markdown",
   "metadata": {},
   "source": [
    "**Paragraphs**"
   ]
  },
  {
   "cell_type": "code",
   "execution_count": 115,
   "metadata": {},
   "outputs": [
    {
     "data": {
      "application/vnd.jupyter.widget-view+json": {
       "model_id": "33176fbe9c1643e7a36d7559c137ddbb",
       "version_major": 2,
       "version_minor": 0
      },
      "text/plain": [
       "HBox(children=(IntProgress(value=0, max=70922), HTML(value='')))"
      ]
     },
     "metadata": {},
     "output_type": "display_data"
    }
   ],
   "source": [
    "corpus_topic_df_p = pd.DataFrame(columns=[n for n in range(lda_multi_p.num_topics)])\n",
    "\n",
    "for i, doc in enumerate(lda_multi_p.get_document_topics(tqdm(corpus_p))):\n",
    "    for topic, proba in doc:\n",
    "        corpus_topic_df_p.loc[i, topic] = proba"
   ]
  },
  {
   "cell_type": "code",
   "execution_count": 116,
   "metadata": {},
   "outputs": [],
   "source": [
    "corpus_topic_df_p.fillna(0, inplace=True)"
   ]
  },
  {
   "cell_type": "markdown",
   "metadata": {},
   "source": [
    "**SAVE LDA VALUES**"
   ]
  },
  {
   "cell_type": "code",
   "execution_count": 117,
   "metadata": {},
   "outputs": [],
   "source": [
    "corpus_topic_df_s.to_csv('../data_vec/corpus_topic_df_s.csv', index=False)"
   ]
  },
  {
   "cell_type": "code",
   "execution_count": 118,
   "metadata": {},
   "outputs": [],
   "source": [
    "corpus_topic_df_p.to_csv('../data_vec/corpus_topic_df_p.csv', index=False)"
   ]
  },
  {
   "cell_type": "markdown",
   "metadata": {},
   "source": [
    "**Test Data**"
   ]
  },
  {
   "cell_type": "code",
   "execution_count": 123,
   "metadata": {},
   "outputs": [
    {
     "data": {
      "application/vnd.jupyter.widget-view+json": {
       "model_id": "1b78d6161ba348a09ea57b9c175954fc",
       "version_major": 2,
       "version_minor": 0
      },
      "text/plain": [
       "HBox(children=(IntProgress(value=0, max=8395), HTML(value='')))"
      ]
     },
     "metadata": {},
     "output_type": "display_data"
    }
   ],
   "source": [
    "t_corpus_topic_df_s = pd.DataFrame(columns=[n for n in range(lda_multi_s.num_topics)])\n",
    "\n",
    "for i, doc in enumerate(lda_multi_s.get_document_topics(tqdm(t_corpus_s))):\n",
    "    for topic, proba in doc:\n",
    "        t_corpus_topic_df_s.loc[i, topic] = proba"
   ]
  },
  {
   "cell_type": "code",
   "execution_count": 132,
   "metadata": {},
   "outputs": [
    {
     "data": {
      "text/html": [
       "<div>\n",
       "<style scoped>\n",
       "    .dataframe tbody tr th:only-of-type {\n",
       "        vertical-align: middle;\n",
       "    }\n",
       "\n",
       "    .dataframe tbody tr th {\n",
       "        vertical-align: top;\n",
       "    }\n",
       "\n",
       "    .dataframe thead th {\n",
       "        text-align: right;\n",
       "    }\n",
       "</style>\n",
       "<table border=\"1\" class=\"dataframe\">\n",
       "  <thead>\n",
       "    <tr style=\"text-align: right;\">\n",
       "      <th></th>\n",
       "      <th>0</th>\n",
       "      <th>1</th>\n",
       "      <th>2</th>\n",
       "      <th>3</th>\n",
       "      <th>4</th>\n",
       "      <th>5</th>\n",
       "      <th>6</th>\n",
       "      <th>7</th>\n",
       "      <th>8</th>\n",
       "      <th>9</th>\n",
       "      <th>...</th>\n",
       "      <th>22</th>\n",
       "      <th>23</th>\n",
       "      <th>24</th>\n",
       "      <th>25</th>\n",
       "      <th>26</th>\n",
       "      <th>27</th>\n",
       "      <th>28</th>\n",
       "      <th>29</th>\n",
       "      <th>30</th>\n",
       "      <th>31</th>\n",
       "    </tr>\n",
       "  </thead>\n",
       "  <tbody>\n",
       "    <tr>\n",
       "      <th>0</th>\n",
       "      <td>0.00000</td>\n",
       "      <td>0.000000</td>\n",
       "      <td>0.0</td>\n",
       "      <td>0.000000</td>\n",
       "      <td>0.0</td>\n",
       "      <td>0.0</td>\n",
       "      <td>0.0</td>\n",
       "      <td>0.0</td>\n",
       "      <td>0.0</td>\n",
       "      <td>0.0</td>\n",
       "      <td>...</td>\n",
       "      <td>0.831242</td>\n",
       "      <td>0.0</td>\n",
       "      <td>0.000000</td>\n",
       "      <td>0.0</td>\n",
       "      <td>0.0</td>\n",
       "      <td>0.0</td>\n",
       "      <td>0.0</td>\n",
       "      <td>0.0</td>\n",
       "      <td>0.0</td>\n",
       "      <td>0.0</td>\n",
       "    </tr>\n",
       "    <tr>\n",
       "      <th>1</th>\n",
       "      <td>0.60195</td>\n",
       "      <td>0.000000</td>\n",
       "      <td>0.0</td>\n",
       "      <td>0.000000</td>\n",
       "      <td>0.0</td>\n",
       "      <td>0.0</td>\n",
       "      <td>0.0</td>\n",
       "      <td>0.0</td>\n",
       "      <td>0.0</td>\n",
       "      <td>0.0</td>\n",
       "      <td>...</td>\n",
       "      <td>0.000000</td>\n",
       "      <td>0.0</td>\n",
       "      <td>0.000000</td>\n",
       "      <td>0.0</td>\n",
       "      <td>0.0</td>\n",
       "      <td>0.0</td>\n",
       "      <td>0.0</td>\n",
       "      <td>0.0</td>\n",
       "      <td>0.0</td>\n",
       "      <td>0.0</td>\n",
       "    </tr>\n",
       "    <tr>\n",
       "      <th>2</th>\n",
       "      <td>0.00000</td>\n",
       "      <td>0.074247</td>\n",
       "      <td>0.0</td>\n",
       "      <td>0.456575</td>\n",
       "      <td>0.0</td>\n",
       "      <td>0.0</td>\n",
       "      <td>0.0</td>\n",
       "      <td>0.0</td>\n",
       "      <td>0.0</td>\n",
       "      <td>0.0</td>\n",
       "      <td>...</td>\n",
       "      <td>0.000000</td>\n",
       "      <td>0.0</td>\n",
       "      <td>0.000000</td>\n",
       "      <td>0.0</td>\n",
       "      <td>0.0</td>\n",
       "      <td>0.0</td>\n",
       "      <td>0.0</td>\n",
       "      <td>0.0</td>\n",
       "      <td>0.0</td>\n",
       "      <td>0.0</td>\n",
       "    </tr>\n",
       "    <tr>\n",
       "      <th>3</th>\n",
       "      <td>0.00000</td>\n",
       "      <td>0.000000</td>\n",
       "      <td>0.0</td>\n",
       "      <td>0.000000</td>\n",
       "      <td>0.0</td>\n",
       "      <td>0.0</td>\n",
       "      <td>0.0</td>\n",
       "      <td>0.0</td>\n",
       "      <td>0.0</td>\n",
       "      <td>0.0</td>\n",
       "      <td>...</td>\n",
       "      <td>0.000000</td>\n",
       "      <td>0.0</td>\n",
       "      <td>0.327097</td>\n",
       "      <td>0.0</td>\n",
       "      <td>0.0</td>\n",
       "      <td>0.0</td>\n",
       "      <td>0.0</td>\n",
       "      <td>0.0</td>\n",
       "      <td>0.0</td>\n",
       "      <td>0.0</td>\n",
       "    </tr>\n",
       "    <tr>\n",
       "      <th>4</th>\n",
       "      <td>0.00000</td>\n",
       "      <td>0.000000</td>\n",
       "      <td>0.0</td>\n",
       "      <td>0.000000</td>\n",
       "      <td>0.0</td>\n",
       "      <td>0.0</td>\n",
       "      <td>0.0</td>\n",
       "      <td>0.0</td>\n",
       "      <td>0.0</td>\n",
       "      <td>0.0</td>\n",
       "      <td>...</td>\n",
       "      <td>0.000000</td>\n",
       "      <td>0.0</td>\n",
       "      <td>0.000000</td>\n",
       "      <td>0.0</td>\n",
       "      <td>0.0</td>\n",
       "      <td>0.0</td>\n",
       "      <td>0.0</td>\n",
       "      <td>0.0</td>\n",
       "      <td>0.0</td>\n",
       "      <td>0.0</td>\n",
       "    </tr>\n",
       "  </tbody>\n",
       "</table>\n",
       "<p>5 rows × 32 columns</p>\n",
       "</div>"
      ],
      "text/plain": [
       "        0         1    2         3    4    5    6    7    8    9  ...   \\\n",
       "0  0.00000  0.000000  0.0  0.000000  0.0  0.0  0.0  0.0  0.0  0.0 ...    \n",
       "1  0.60195  0.000000  0.0  0.000000  0.0  0.0  0.0  0.0  0.0  0.0 ...    \n",
       "2  0.00000  0.074247  0.0  0.456575  0.0  0.0  0.0  0.0  0.0  0.0 ...    \n",
       "3  0.00000  0.000000  0.0  0.000000  0.0  0.0  0.0  0.0  0.0  0.0 ...    \n",
       "4  0.00000  0.000000  0.0  0.000000  0.0  0.0  0.0  0.0  0.0  0.0 ...    \n",
       "\n",
       "         22   23        24   25   26   27   28   29   30   31  \n",
       "0  0.831242  0.0  0.000000  0.0  0.0  0.0  0.0  0.0  0.0  0.0  \n",
       "1  0.000000  0.0  0.000000  0.0  0.0  0.0  0.0  0.0  0.0  0.0  \n",
       "2  0.000000  0.0  0.000000  0.0  0.0  0.0  0.0  0.0  0.0  0.0  \n",
       "3  0.000000  0.0  0.327097  0.0  0.0  0.0  0.0  0.0  0.0  0.0  \n",
       "4  0.000000  0.0  0.000000  0.0  0.0  0.0  0.0  0.0  0.0  0.0  \n",
       "\n",
       "[5 rows x 32 columns]"
      ]
     },
     "execution_count": 132,
     "metadata": {},
     "output_type": "execute_result"
    }
   ],
   "source": [
    "t_corpus_topic_df_s.head()"
   ]
  },
  {
   "cell_type": "code",
   "execution_count": 125,
   "metadata": {},
   "outputs": [
    {
     "data": {
      "text/plain": [
       "(8395, 32)"
      ]
     },
     "execution_count": 125,
     "metadata": {},
     "output_type": "execute_result"
    }
   ],
   "source": [
    "t_corpus_topic_df_s.shape"
   ]
  },
  {
   "cell_type": "code",
   "execution_count": 126,
   "metadata": {},
   "outputs": [
    {
     "data": {
      "application/vnd.jupyter.widget-view+json": {
       "model_id": "4d4ae7a09804402fb3bb48f5b1601894",
       "version_major": 2,
       "version_minor": 0
      },
      "text/plain": [
       "HBox(children=(IntProgress(value=0, max=8395), HTML(value='')))"
      ]
     },
     "metadata": {},
     "output_type": "display_data"
    }
   ],
   "source": [
    "t_corpus_topic_df_p = pd.DataFrame(columns=[n for n in range(lda_multi_p.num_topics)])\n",
    "\n",
    "for i, doc in enumerate(lda_multi_p.get_document_topics(tqdm(t_corpus_p))):\n",
    "    for topic, proba in doc:\n",
    "        t_corpus_topic_df_p.loc[i, topic] = proba"
   ]
  },
  {
   "cell_type": "code",
   "execution_count": 133,
   "metadata": {},
   "outputs": [
    {
     "data": {
      "text/html": [
       "<div>\n",
       "<style scoped>\n",
       "    .dataframe tbody tr th:only-of-type {\n",
       "        vertical-align: middle;\n",
       "    }\n",
       "\n",
       "    .dataframe tbody tr th {\n",
       "        vertical-align: top;\n",
       "    }\n",
       "\n",
       "    .dataframe thead th {\n",
       "        text-align: right;\n",
       "    }\n",
       "</style>\n",
       "<table border=\"1\" class=\"dataframe\">\n",
       "  <thead>\n",
       "    <tr style=\"text-align: right;\">\n",
       "      <th></th>\n",
       "      <th>0</th>\n",
       "      <th>1</th>\n",
       "      <th>2</th>\n",
       "      <th>3</th>\n",
       "      <th>4</th>\n",
       "      <th>5</th>\n",
       "      <th>6</th>\n",
       "      <th>7</th>\n",
       "      <th>8</th>\n",
       "      <th>9</th>\n",
       "      <th>10</th>\n",
       "      <th>11</th>\n",
       "      <th>12</th>\n",
       "      <th>13</th>\n",
       "      <th>14</th>\n",
       "      <th>15</th>\n",
       "      <th>16</th>\n",
       "      <th>17</th>\n",
       "      <th>18</th>\n",
       "      <th>19</th>\n",
       "    </tr>\n",
       "  </thead>\n",
       "  <tbody>\n",
       "    <tr>\n",
       "      <th>0</th>\n",
       "      <td>0.0</td>\n",
       "      <td>0.0</td>\n",
       "      <td>0.0</td>\n",
       "      <td>0.0</td>\n",
       "      <td>0.0</td>\n",
       "      <td>0.0</td>\n",
       "      <td>0.0</td>\n",
       "      <td>0.000000</td>\n",
       "      <td>0.0</td>\n",
       "      <td>0.835277</td>\n",
       "      <td>0.0</td>\n",
       "      <td>0.0</td>\n",
       "      <td>0.0</td>\n",
       "      <td>0.0</td>\n",
       "      <td>0.0</td>\n",
       "      <td>0.0</td>\n",
       "      <td>0.0</td>\n",
       "      <td>0.0</td>\n",
       "      <td>0.0</td>\n",
       "      <td>0.0</td>\n",
       "    </tr>\n",
       "    <tr>\n",
       "      <th>1</th>\n",
       "      <td>0.0</td>\n",
       "      <td>0.0</td>\n",
       "      <td>0.0</td>\n",
       "      <td>0.0</td>\n",
       "      <td>0.0</td>\n",
       "      <td>0.0</td>\n",
       "      <td>0.0</td>\n",
       "      <td>0.818124</td>\n",
       "      <td>0.0</td>\n",
       "      <td>0.000000</td>\n",
       "      <td>0.0</td>\n",
       "      <td>0.0</td>\n",
       "      <td>0.0</td>\n",
       "      <td>0.0</td>\n",
       "      <td>0.0</td>\n",
       "      <td>0.0</td>\n",
       "      <td>0.0</td>\n",
       "      <td>0.0</td>\n",
       "      <td>0.0</td>\n",
       "      <td>0.0</td>\n",
       "    </tr>\n",
       "    <tr>\n",
       "      <th>2</th>\n",
       "      <td>0.0</td>\n",
       "      <td>0.0</td>\n",
       "      <td>0.0</td>\n",
       "      <td>0.0</td>\n",
       "      <td>0.0</td>\n",
       "      <td>0.0</td>\n",
       "      <td>0.0</td>\n",
       "      <td>0.818124</td>\n",
       "      <td>0.0</td>\n",
       "      <td>0.000000</td>\n",
       "      <td>0.0</td>\n",
       "      <td>0.0</td>\n",
       "      <td>0.0</td>\n",
       "      <td>0.0</td>\n",
       "      <td>0.0</td>\n",
       "      <td>0.0</td>\n",
       "      <td>0.0</td>\n",
       "      <td>0.0</td>\n",
       "      <td>0.0</td>\n",
       "      <td>0.0</td>\n",
       "    </tr>\n",
       "    <tr>\n",
       "      <th>3</th>\n",
       "      <td>0.0</td>\n",
       "      <td>0.0</td>\n",
       "      <td>0.0</td>\n",
       "      <td>0.0</td>\n",
       "      <td>0.0</td>\n",
       "      <td>0.0</td>\n",
       "      <td>0.0</td>\n",
       "      <td>0.000000</td>\n",
       "      <td>0.0</td>\n",
       "      <td>0.828708</td>\n",
       "      <td>0.0</td>\n",
       "      <td>0.0</td>\n",
       "      <td>0.0</td>\n",
       "      <td>0.0</td>\n",
       "      <td>0.0</td>\n",
       "      <td>0.0</td>\n",
       "      <td>0.0</td>\n",
       "      <td>0.0</td>\n",
       "      <td>0.0</td>\n",
       "      <td>0.0</td>\n",
       "    </tr>\n",
       "    <tr>\n",
       "      <th>4</th>\n",
       "      <td>0.0</td>\n",
       "      <td>0.0</td>\n",
       "      <td>0.0</td>\n",
       "      <td>0.0</td>\n",
       "      <td>0.0</td>\n",
       "      <td>0.0</td>\n",
       "      <td>0.0</td>\n",
       "      <td>0.000000</td>\n",
       "      <td>0.0</td>\n",
       "      <td>0.826057</td>\n",
       "      <td>0.0</td>\n",
       "      <td>0.0</td>\n",
       "      <td>0.0</td>\n",
       "      <td>0.0</td>\n",
       "      <td>0.0</td>\n",
       "      <td>0.0</td>\n",
       "      <td>0.0</td>\n",
       "      <td>0.0</td>\n",
       "      <td>0.0</td>\n",
       "      <td>0.0</td>\n",
       "    </tr>\n",
       "  </tbody>\n",
       "</table>\n",
       "</div>"
      ],
      "text/plain": [
       "    0    1    2    3    4    5    6         7    8         9    10   11   12  \\\n",
       "0  0.0  0.0  0.0  0.0  0.0  0.0  0.0  0.000000  0.0  0.835277  0.0  0.0  0.0   \n",
       "1  0.0  0.0  0.0  0.0  0.0  0.0  0.0  0.818124  0.0  0.000000  0.0  0.0  0.0   \n",
       "2  0.0  0.0  0.0  0.0  0.0  0.0  0.0  0.818124  0.0  0.000000  0.0  0.0  0.0   \n",
       "3  0.0  0.0  0.0  0.0  0.0  0.0  0.0  0.000000  0.0  0.828708  0.0  0.0  0.0   \n",
       "4  0.0  0.0  0.0  0.0  0.0  0.0  0.0  0.000000  0.0  0.826057  0.0  0.0  0.0   \n",
       "\n",
       "    13   14   15   16   17   18   19  \n",
       "0  0.0  0.0  0.0  0.0  0.0  0.0  0.0  \n",
       "1  0.0  0.0  0.0  0.0  0.0  0.0  0.0  \n",
       "2  0.0  0.0  0.0  0.0  0.0  0.0  0.0  \n",
       "3  0.0  0.0  0.0  0.0  0.0  0.0  0.0  \n",
       "4  0.0  0.0  0.0  0.0  0.0  0.0  0.0  "
      ]
     },
     "execution_count": 133,
     "metadata": {},
     "output_type": "execute_result"
    }
   ],
   "source": [
    "t_corpus_topic_df_p.head()"
   ]
  },
  {
   "cell_type": "code",
   "execution_count": 128,
   "metadata": {},
   "outputs": [
    {
     "data": {
      "text/plain": [
       "(8395, 20)"
      ]
     },
     "execution_count": 128,
     "metadata": {},
     "output_type": "execute_result"
    }
   ],
   "source": [
    "t_corpus_topic_df_p.shape"
   ]
  },
  {
   "cell_type": "code",
   "execution_count": 130,
   "metadata": {},
   "outputs": [],
   "source": [
    "t_corpus_topic_df_s.fillna(0, inplace=True)\n",
    "t_corpus_topic_df_p.fillna(0, inplace=True)"
   ]
  },
  {
   "cell_type": "markdown",
   "metadata": {},
   "source": [
    "**Save to Disk**"
   ]
  },
  {
   "cell_type": "code",
   "execution_count": 131,
   "metadata": {},
   "outputs": [],
   "source": [
    "t_corpus_topic_df_s.to_csv('../data_vec/t_corpus_topic_df_s.csv', index=False)\n",
    "t_corpus_topic_df_p.to_csv('../data_vec/t_corpus_topic_df_p.csv', index=False)"
   ]
  },
  {
   "cell_type": "markdown",
   "metadata": {},
   "source": [
    "## 2.2 Topic Labeling with Gensim Word2Vec"
   ]
  },
  {
   "cell_type": "markdown",
   "metadata": {},
   "source": [
    "### NOTE: This functionality is not included in the final model"
   ]
  },
  {
   "cell_type": "markdown",
   "metadata": {},
   "source": [
    "### 2.2.1 Word2Vec"
   ]
  },
  {
   "cell_type": "markdown",
   "metadata": {},
   "source": [
    "**Load Gensim Wikipedia Text8 Vector Dataset**"
   ]
  },
  {
   "cell_type": "code",
   "execution_count": 3,
   "metadata": {},
   "outputs": [],
   "source": [
    "text8_corpus = api.load('text8')"
   ]
  },
  {
   "cell_type": "code",
   "execution_count": 4,
   "metadata": {},
   "outputs": [],
   "source": [
    "wv_vecsize_s = 32\n",
    "wv_vecsize_p = 16"
   ]
  },
  {
   "cell_type": "markdown",
   "metadata": {},
   "source": [
    "**Train Word2Vec Model**"
   ]
  },
  {
   "cell_type": "markdown",
   "metadata": {},
   "source": [
    "Sentences"
   ]
  },
  {
   "cell_type": "code",
   "execution_count": 5,
   "metadata": {},
   "outputs": [],
   "source": [
    "wv_model_s = Word2Vec(text8_corpus, \n",
    "                    size=wv_vecsize_s, \n",
    "                    window=2, \n",
    "                    min_count=2, \n",
    "                    sg=0,\n",
    "                    workers=3\n",
    ")"
   ]
  },
  {
   "cell_type": "markdown",
   "metadata": {},
   "source": [
    "Paragraphs"
   ]
  },
  {
   "cell_type": "code",
   "execution_count": 6,
   "metadata": {},
   "outputs": [],
   "source": [
    "wv_model_p = Word2Vec(text8_corpus, \n",
    "                    size=wv_vecsize_p, \n",
    "                    window=2, \n",
    "                    min_count=2, \n",
    "                    sg=0,\n",
    "                    workers=3\n",
    ")"
   ]
  },
  {
   "cell_type": "markdown",
   "metadata": {},
   "source": [
    "**Save Word2Vec Models to Disk**"
   ]
  },
  {
   "cell_type": "code",
   "execution_count": null,
   "metadata": {},
   "outputs": [],
   "source": [
    "wv_model_s.save('../ec2_models/wv_model')\n",
    "wv_model_p.save('../ec2_models/wv_model')"
   ]
  },
  {
   "cell_type": "markdown",
   "metadata": {},
   "source": [
    "### 2.2.2 Identify Vectors for Specificity"
   ]
  },
  {
   "cell_type": "markdown",
   "metadata": {},
   "source": [
    "**Get Vectors for _Tiger_ >> _Animal_ for Sentences and Paragraphs**"
   ]
  },
  {
   "cell_type": "code",
   "execution_count": null,
   "metadata": {},
   "outputs": [],
   "source": [
    "tiger_s = wv_model_s['tiger']\n",
    "cat_s = wv_model_s['cat']\n",
    "mammal_s = wv_model_s['mammal']\n",
    "animal_s = wv_model_s['animal']"
   ]
  },
  {
   "cell_type": "markdown",
   "metadata": {},
   "source": [
    "**Check for Specificity Vectors**"
   ]
  },
  {
   "cell_type": "code",
   "execution_count": null,
   "metadata": {},
   "outputs": [],
   "source": [
    "tiger_p = wv_model_p['tiger']\n",
    "cat_p = wv_model_p['cat']\n",
    "mammal_p = wv_model_p['mammal']\n",
    "animal_p = wv_model_p['animal']"
   ]
  },
  {
   "cell_type": "markdown",
   "metadata": {},
   "source": [
    "Sentences"
   ]
  },
  {
   "cell_type": "code",
   "execution_count": null,
   "metadata": {},
   "outputs": [],
   "source": [
    "for i in range(wv_vecsize_s):\n",
    "    x_vals = [1,2,3,4,5]\n",
    "    y_vals = [tiger_s[i],cat_s[i],mammal_s[i],animal_s[i]]\n",
    "    i_min_dif = None\n",
    "    min_dif = 999999\n",
    "\n",
    "    # Check for elements with unidirectionality\n",
    "    if (tiger_s[i]<cat_s[i]) & (cat_s[i]<mammal_s[i]) & (mammal_s[i]<animal_s[i]):\n",
    "        print(i, 'ascending')\n",
    "        print(y_vals)\n",
    "    elif (tiger_s[i]>cat_s[i]) & (cat_s[i]>mammal_s[i]) & (mammal_s[i]>animal_s[i]):\n",
    "        print(i, 'descending')\n",
    "        print(y_vals)\n",
    "        \n",
    "print('')\n",
    "print(i_min_dif)\n",
    "print(min_dif)\n",
    "print([tiger_s[i_min_dif],cat_s[i_min_dif],mammal_s[i_min_dif],animal_s[i_min_dif]])"
   ]
  },
  {
   "cell_type": "markdown",
   "metadata": {},
   "source": [
    "Paragraphs"
   ]
  },
  {
   "cell_type": "code",
   "execution_count": null,
   "metadata": {},
   "outputs": [],
   "source": [
    "for i in range(wv_vecsize_p):\n",
    "    x_vals = [1,2,3,4,5]\n",
    "    y_vals = [tiger_p[i],cat_p[i],mammal_p[i],animal_p[i]]\n",
    "    i_min_dif = None\n",
    "    min_dif = 999999\n",
    "\n",
    "    # Check for elements with unidirectionality\n",
    "    if (tiger_p[i]<cat_p[i]) & (cat_p[i]<mammal_p[i]) & (mammal_p[i]<animal_p[i]):\n",
    "        print(i, 'ascending')\n",
    "        print(y_vals)\n",
    "    elif (tiger_p[i]>cat_p[i]) & (cat_p[i]>mammal_p[i]) & (mammal_p[i]>animal_p[i]):\n",
    "        print(i, 'descending')\n",
    "        print(y_vals)\n",
    "        \n",
    "print('')\n",
    "print(i_min_dif)\n",
    "print(min_dif)\n",
    "print([tiger_p[i_min_dif],cat_p[i_min_dif],mammal_p[i_min_dif],animal_p[i_min_dif]])"
   ]
  },
  {
   "cell_type": "markdown",
   "metadata": {},
   "source": [
    "**Adjust Specificity Values**"
   ]
  },
  {
   "cell_type": "code",
   "execution_count": null,
   "metadata": {},
   "outputs": [],
   "source": []
  },
  {
   "cell_type": "markdown",
   "metadata": {},
   "source": [
    "### 2.2.3 Get Topic Labels"
   ]
  },
  {
   "cell_type": "code",
   "execution_count": null,
   "metadata": {},
   "outputs": [],
   "source": [
    "topics_s = lda_multi_s.get_topics()\n",
    "topics_p = lda_multi_p.get_topics()"
   ]
  },
  {
   "cell_type": "markdown",
   "metadata": {},
   "source": [
    "## 2.3 LDA Features for Corpora"
   ]
  },
  {
   "cell_type": "code",
   "execution_count": null,
   "metadata": {},
   "outputs": [],
   "source": []
  },
  {
   "cell_type": "markdown",
   "metadata": {},
   "source": [
    "### 2.3.1 Training Text LDA"
   ]
  },
  {
   "cell_type": "code",
   "execution_count": 134,
   "metadata": {},
   "outputs": [],
   "source": [
    "colname_s = ['lda_s_'+str(i) for i in range(corpus_topic_df_s.shape[1])]"
   ]
  },
  {
   "cell_type": "code",
   "execution_count": 136,
   "metadata": {},
   "outputs": [],
   "source": [
    "corpus_topic_df_s.columns = colname_s"
   ]
  },
  {
   "cell_type": "code",
   "execution_count": 120,
   "metadata": {},
   "outputs": [
    {
     "data": {
      "text/plain": [
       "(70922, 32)"
      ]
     },
     "execution_count": 120,
     "metadata": {},
     "output_type": "execute_result"
    }
   ],
   "source": [
    "corpus_topic_df_s.shape"
   ]
  },
  {
   "cell_type": "code",
   "execution_count": 137,
   "metadata": {},
   "outputs": [],
   "source": [
    "colname_p = ['lda_p_'+str(i) for i in range(corpus_topic_df_p.shape[1])]"
   ]
  },
  {
   "cell_type": "code",
   "execution_count": 138,
   "metadata": {},
   "outputs": [],
   "source": [
    "corpus_topic_df_p.columns = colname_p"
   ]
  },
  {
   "cell_type": "code",
   "execution_count": 122,
   "metadata": {},
   "outputs": [
    {
     "data": {
      "text/plain": [
       "(70922, 20)"
      ]
     },
     "execution_count": 122,
     "metadata": {},
     "output_type": "execute_result"
    }
   ],
   "source": [
    "corpus_topic_df_p.shape"
   ]
  },
  {
   "cell_type": "code",
   "execution_count": 139,
   "metadata": {},
   "outputs": [],
   "source": [
    "lda_train = pd.merge(corpus_topic_df_s, corpus_topic_df_p, left_index=True, right_index=True)"
   ]
  },
  {
   "cell_type": "code",
   "execution_count": 151,
   "metadata": {},
   "outputs": [],
   "source": [
    "lda_train = lda_train.merge(nlp_df[['a_num','p_num','s_num']], left_index=True, right_index=True)"
   ]
  },
  {
   "cell_type": "code",
   "execution_count": 154,
   "metadata": {},
   "outputs": [
    {
     "data": {
      "text/html": [
       "<div>\n",
       "<style scoped>\n",
       "    .dataframe tbody tr th:only-of-type {\n",
       "        vertical-align: middle;\n",
       "    }\n",
       "\n",
       "    .dataframe tbody tr th {\n",
       "        vertical-align: top;\n",
       "    }\n",
       "\n",
       "    .dataframe thead th {\n",
       "        text-align: right;\n",
       "    }\n",
       "</style>\n",
       "<table border=\"1\" class=\"dataframe\">\n",
       "  <thead>\n",
       "    <tr style=\"text-align: right;\">\n",
       "      <th></th>\n",
       "      <th>lda_s_0</th>\n",
       "      <th>lda_s_1</th>\n",
       "      <th>lda_s_2</th>\n",
       "      <th>lda_s_3</th>\n",
       "      <th>lda_s_4</th>\n",
       "      <th>lda_s_5</th>\n",
       "      <th>lda_s_6</th>\n",
       "      <th>lda_s_7</th>\n",
       "      <th>lda_s_8</th>\n",
       "      <th>lda_s_9</th>\n",
       "      <th>...</th>\n",
       "      <th>lda_p_13</th>\n",
       "      <th>lda_p_14</th>\n",
       "      <th>lda_p_15</th>\n",
       "      <th>lda_p_16</th>\n",
       "      <th>lda_p_17</th>\n",
       "      <th>lda_p_18</th>\n",
       "      <th>lda_p_19</th>\n",
       "      <th>a_num</th>\n",
       "      <th>p_num</th>\n",
       "      <th>s_num</th>\n",
       "    </tr>\n",
       "  </thead>\n",
       "  <tbody>\n",
       "    <tr>\n",
       "      <th>0</th>\n",
       "      <td>0.0</td>\n",
       "      <td>0.0</td>\n",
       "      <td>0.0</td>\n",
       "      <td>0.0</td>\n",
       "      <td>0.0</td>\n",
       "      <td>0.764414</td>\n",
       "      <td>0.0</td>\n",
       "      <td>0.0</td>\n",
       "      <td>0.000000</td>\n",
       "      <td>0.000000</td>\n",
       "      <td>...</td>\n",
       "      <td>0.0</td>\n",
       "      <td>0.0</td>\n",
       "      <td>0.0</td>\n",
       "      <td>0.0</td>\n",
       "      <td>0.0</td>\n",
       "      <td>0.0</td>\n",
       "      <td>0.0</td>\n",
       "      <td>0</td>\n",
       "      <td>0</td>\n",
       "      <td>0</td>\n",
       "    </tr>\n",
       "    <tr>\n",
       "      <th>1</th>\n",
       "      <td>0.0</td>\n",
       "      <td>0.0</td>\n",
       "      <td>0.0</td>\n",
       "      <td>0.0</td>\n",
       "      <td>0.0</td>\n",
       "      <td>0.000000</td>\n",
       "      <td>0.0</td>\n",
       "      <td>0.0</td>\n",
       "      <td>0.000000</td>\n",
       "      <td>0.058748</td>\n",
       "      <td>...</td>\n",
       "      <td>0.0</td>\n",
       "      <td>0.0</td>\n",
       "      <td>0.0</td>\n",
       "      <td>0.0</td>\n",
       "      <td>0.0</td>\n",
       "      <td>0.0</td>\n",
       "      <td>0.0</td>\n",
       "      <td>0</td>\n",
       "      <td>0</td>\n",
       "      <td>1</td>\n",
       "    </tr>\n",
       "    <tr>\n",
       "      <th>2</th>\n",
       "      <td>0.0</td>\n",
       "      <td>0.0</td>\n",
       "      <td>0.0</td>\n",
       "      <td>0.0</td>\n",
       "      <td>0.0</td>\n",
       "      <td>0.000000</td>\n",
       "      <td>0.0</td>\n",
       "      <td>0.0</td>\n",
       "      <td>0.000000</td>\n",
       "      <td>0.000000</td>\n",
       "      <td>...</td>\n",
       "      <td>0.0</td>\n",
       "      <td>0.0</td>\n",
       "      <td>0.0</td>\n",
       "      <td>0.0</td>\n",
       "      <td>0.0</td>\n",
       "      <td>0.0</td>\n",
       "      <td>0.0</td>\n",
       "      <td>0</td>\n",
       "      <td>0</td>\n",
       "      <td>2</td>\n",
       "    </tr>\n",
       "    <tr>\n",
       "      <th>3</th>\n",
       "      <td>0.0</td>\n",
       "      <td>0.0</td>\n",
       "      <td>0.0</td>\n",
       "      <td>0.0</td>\n",
       "      <td>0.0</td>\n",
       "      <td>0.000000</td>\n",
       "      <td>0.0</td>\n",
       "      <td>0.0</td>\n",
       "      <td>0.771878</td>\n",
       "      <td>0.000000</td>\n",
       "      <td>...</td>\n",
       "      <td>0.0</td>\n",
       "      <td>0.0</td>\n",
       "      <td>0.0</td>\n",
       "      <td>0.0</td>\n",
       "      <td>0.0</td>\n",
       "      <td>0.0</td>\n",
       "      <td>0.0</td>\n",
       "      <td>0</td>\n",
       "      <td>1</td>\n",
       "      <td>0</td>\n",
       "    </tr>\n",
       "    <tr>\n",
       "      <th>4</th>\n",
       "      <td>0.0</td>\n",
       "      <td>0.0</td>\n",
       "      <td>0.0</td>\n",
       "      <td>0.0</td>\n",
       "      <td>0.0</td>\n",
       "      <td>0.000000</td>\n",
       "      <td>0.0</td>\n",
       "      <td>0.0</td>\n",
       "      <td>0.838629</td>\n",
       "      <td>0.000000</td>\n",
       "      <td>...</td>\n",
       "      <td>0.0</td>\n",
       "      <td>0.0</td>\n",
       "      <td>0.0</td>\n",
       "      <td>0.0</td>\n",
       "      <td>0.0</td>\n",
       "      <td>0.0</td>\n",
       "      <td>0.0</td>\n",
       "      <td>0</td>\n",
       "      <td>1</td>\n",
       "      <td>1</td>\n",
       "    </tr>\n",
       "  </tbody>\n",
       "</table>\n",
       "<p>5 rows × 55 columns</p>\n",
       "</div>"
      ],
      "text/plain": [
       "   lda_s_0  lda_s_1  lda_s_2  lda_s_3  lda_s_4   lda_s_5  lda_s_6  lda_s_7  \\\n",
       "0      0.0      0.0      0.0      0.0      0.0  0.764414      0.0      0.0   \n",
       "1      0.0      0.0      0.0      0.0      0.0  0.000000      0.0      0.0   \n",
       "2      0.0      0.0      0.0      0.0      0.0  0.000000      0.0      0.0   \n",
       "3      0.0      0.0      0.0      0.0      0.0  0.000000      0.0      0.0   \n",
       "4      0.0      0.0      0.0      0.0      0.0  0.000000      0.0      0.0   \n",
       "\n",
       "    lda_s_8   lda_s_9  ...    lda_p_13  lda_p_14  lda_p_15  lda_p_16  \\\n",
       "0  0.000000  0.000000  ...         0.0       0.0       0.0       0.0   \n",
       "1  0.000000  0.058748  ...         0.0       0.0       0.0       0.0   \n",
       "2  0.000000  0.000000  ...         0.0       0.0       0.0       0.0   \n",
       "3  0.771878  0.000000  ...         0.0       0.0       0.0       0.0   \n",
       "4  0.838629  0.000000  ...         0.0       0.0       0.0       0.0   \n",
       "\n",
       "   lda_p_17  lda_p_18  lda_p_19  a_num  p_num  s_num  \n",
       "0       0.0       0.0       0.0      0      0      0  \n",
       "1       0.0       0.0       0.0      0      0      1  \n",
       "2       0.0       0.0       0.0      0      0      2  \n",
       "3       0.0       0.0       0.0      0      1      0  \n",
       "4       0.0       0.0       0.0      0      1      1  \n",
       "\n",
       "[5 rows x 55 columns]"
      ]
     },
     "execution_count": 154,
     "metadata": {},
     "output_type": "execute_result"
    }
   ],
   "source": [
    "lda_train.head()"
   ]
  },
  {
   "cell_type": "markdown",
   "metadata": {},
   "source": [
    "### 2.3.2 Testing Text LDA"
   ]
  },
  {
   "cell_type": "code",
   "execution_count": 141,
   "metadata": {},
   "outputs": [],
   "source": [
    "t_corpus_topic_df_s.columns = colname_s"
   ]
  },
  {
   "cell_type": "code",
   "execution_count": 142,
   "metadata": {},
   "outputs": [],
   "source": [
    "t_corpus_topic_df_p.columns = colname_p"
   ]
  },
  {
   "cell_type": "code",
   "execution_count": 143,
   "metadata": {},
   "outputs": [],
   "source": [
    "lda_test = pd.merge(t_corpus_topic_df_s, t_corpus_topic_df_p, left_index=True, right_index=True)"
   ]
  },
  {
   "cell_type": "code",
   "execution_count": 152,
   "metadata": {},
   "outputs": [],
   "source": [
    "lda_test = lda_test.merge(t_nlp_df[['a_num','p_num','s_num']], left_index=True, right_index=True)"
   ]
  },
  {
   "cell_type": "code",
   "execution_count": 153,
   "metadata": {},
   "outputs": [
    {
     "data": {
      "text/html": [
       "<div>\n",
       "<style scoped>\n",
       "    .dataframe tbody tr th:only-of-type {\n",
       "        vertical-align: middle;\n",
       "    }\n",
       "\n",
       "    .dataframe tbody tr th {\n",
       "        vertical-align: top;\n",
       "    }\n",
       "\n",
       "    .dataframe thead th {\n",
       "        text-align: right;\n",
       "    }\n",
       "</style>\n",
       "<table border=\"1\" class=\"dataframe\">\n",
       "  <thead>\n",
       "    <tr style=\"text-align: right;\">\n",
       "      <th></th>\n",
       "      <th>lda_s_0</th>\n",
       "      <th>lda_s_1</th>\n",
       "      <th>lda_s_2</th>\n",
       "      <th>lda_s_3</th>\n",
       "      <th>lda_s_4</th>\n",
       "      <th>lda_s_5</th>\n",
       "      <th>lda_s_6</th>\n",
       "      <th>lda_s_7</th>\n",
       "      <th>lda_s_8</th>\n",
       "      <th>lda_s_9</th>\n",
       "      <th>...</th>\n",
       "      <th>lda_p_13</th>\n",
       "      <th>lda_p_14</th>\n",
       "      <th>lda_p_15</th>\n",
       "      <th>lda_p_16</th>\n",
       "      <th>lda_p_17</th>\n",
       "      <th>lda_p_18</th>\n",
       "      <th>lda_p_19</th>\n",
       "      <th>a_num</th>\n",
       "      <th>p_num</th>\n",
       "      <th>s_num</th>\n",
       "    </tr>\n",
       "  </thead>\n",
       "  <tbody>\n",
       "    <tr>\n",
       "      <th>0</th>\n",
       "      <td>0.00000</td>\n",
       "      <td>0.000000</td>\n",
       "      <td>0.0</td>\n",
       "      <td>0.000000</td>\n",
       "      <td>0.0</td>\n",
       "      <td>0.0</td>\n",
       "      <td>0.0</td>\n",
       "      <td>0.0</td>\n",
       "      <td>0.0</td>\n",
       "      <td>0.0</td>\n",
       "      <td>...</td>\n",
       "      <td>0.0</td>\n",
       "      <td>0.0</td>\n",
       "      <td>0.0</td>\n",
       "      <td>0.0</td>\n",
       "      <td>0.0</td>\n",
       "      <td>0.0</td>\n",
       "      <td>0.0</td>\n",
       "      <td>0</td>\n",
       "      <td>0</td>\n",
       "      <td>0</td>\n",
       "    </tr>\n",
       "    <tr>\n",
       "      <th>1</th>\n",
       "      <td>0.60195</td>\n",
       "      <td>0.000000</td>\n",
       "      <td>0.0</td>\n",
       "      <td>0.000000</td>\n",
       "      <td>0.0</td>\n",
       "      <td>0.0</td>\n",
       "      <td>0.0</td>\n",
       "      <td>0.0</td>\n",
       "      <td>0.0</td>\n",
       "      <td>0.0</td>\n",
       "      <td>...</td>\n",
       "      <td>0.0</td>\n",
       "      <td>0.0</td>\n",
       "      <td>0.0</td>\n",
       "      <td>0.0</td>\n",
       "      <td>0.0</td>\n",
       "      <td>0.0</td>\n",
       "      <td>0.0</td>\n",
       "      <td>0</td>\n",
       "      <td>1</td>\n",
       "      <td>0</td>\n",
       "    </tr>\n",
       "    <tr>\n",
       "      <th>2</th>\n",
       "      <td>0.00000</td>\n",
       "      <td>0.074247</td>\n",
       "      <td>0.0</td>\n",
       "      <td>0.456575</td>\n",
       "      <td>0.0</td>\n",
       "      <td>0.0</td>\n",
       "      <td>0.0</td>\n",
       "      <td>0.0</td>\n",
       "      <td>0.0</td>\n",
       "      <td>0.0</td>\n",
       "      <td>...</td>\n",
       "      <td>0.0</td>\n",
       "      <td>0.0</td>\n",
       "      <td>0.0</td>\n",
       "      <td>0.0</td>\n",
       "      <td>0.0</td>\n",
       "      <td>0.0</td>\n",
       "      <td>0.0</td>\n",
       "      <td>0</td>\n",
       "      <td>1</td>\n",
       "      <td>1</td>\n",
       "    </tr>\n",
       "    <tr>\n",
       "      <th>3</th>\n",
       "      <td>0.00000</td>\n",
       "      <td>0.000000</td>\n",
       "      <td>0.0</td>\n",
       "      <td>0.000000</td>\n",
       "      <td>0.0</td>\n",
       "      <td>0.0</td>\n",
       "      <td>0.0</td>\n",
       "      <td>0.0</td>\n",
       "      <td>0.0</td>\n",
       "      <td>0.0</td>\n",
       "      <td>...</td>\n",
       "      <td>0.0</td>\n",
       "      <td>0.0</td>\n",
       "      <td>0.0</td>\n",
       "      <td>0.0</td>\n",
       "      <td>0.0</td>\n",
       "      <td>0.0</td>\n",
       "      <td>0.0</td>\n",
       "      <td>0</td>\n",
       "      <td>2</td>\n",
       "      <td>0</td>\n",
       "    </tr>\n",
       "    <tr>\n",
       "      <th>4</th>\n",
       "      <td>0.00000</td>\n",
       "      <td>0.000000</td>\n",
       "      <td>0.0</td>\n",
       "      <td>0.000000</td>\n",
       "      <td>0.0</td>\n",
       "      <td>0.0</td>\n",
       "      <td>0.0</td>\n",
       "      <td>0.0</td>\n",
       "      <td>0.0</td>\n",
       "      <td>0.0</td>\n",
       "      <td>...</td>\n",
       "      <td>0.0</td>\n",
       "      <td>0.0</td>\n",
       "      <td>0.0</td>\n",
       "      <td>0.0</td>\n",
       "      <td>0.0</td>\n",
       "      <td>0.0</td>\n",
       "      <td>0.0</td>\n",
       "      <td>0</td>\n",
       "      <td>3</td>\n",
       "      <td>0</td>\n",
       "    </tr>\n",
       "  </tbody>\n",
       "</table>\n",
       "<p>5 rows × 55 columns</p>\n",
       "</div>"
      ],
      "text/plain": [
       "   lda_s_0   lda_s_1  lda_s_2   lda_s_3  lda_s_4  lda_s_5  lda_s_6  lda_s_7  \\\n",
       "0  0.00000  0.000000      0.0  0.000000      0.0      0.0      0.0      0.0   \n",
       "1  0.60195  0.000000      0.0  0.000000      0.0      0.0      0.0      0.0   \n",
       "2  0.00000  0.074247      0.0  0.456575      0.0      0.0      0.0      0.0   \n",
       "3  0.00000  0.000000      0.0  0.000000      0.0      0.0      0.0      0.0   \n",
       "4  0.00000  0.000000      0.0  0.000000      0.0      0.0      0.0      0.0   \n",
       "\n",
       "   lda_s_8  lda_s_9  ...    lda_p_13  lda_p_14  lda_p_15  lda_p_16  lda_p_17  \\\n",
       "0      0.0      0.0  ...         0.0       0.0       0.0       0.0       0.0   \n",
       "1      0.0      0.0  ...         0.0       0.0       0.0       0.0       0.0   \n",
       "2      0.0      0.0  ...         0.0       0.0       0.0       0.0       0.0   \n",
       "3      0.0      0.0  ...         0.0       0.0       0.0       0.0       0.0   \n",
       "4      0.0      0.0  ...         0.0       0.0       0.0       0.0       0.0   \n",
       "\n",
       "   lda_p_18  lda_p_19  a_num  p_num  s_num  \n",
       "0       0.0       0.0      0      0      0  \n",
       "1       0.0       0.0      0      1      0  \n",
       "2       0.0       0.0      0      1      1  \n",
       "3       0.0       0.0      0      2      0  \n",
       "4       0.0       0.0      0      3      0  \n",
       "\n",
       "[5 rows x 55 columns]"
      ]
     },
     "execution_count": 153,
     "metadata": {},
     "output_type": "execute_result"
    }
   ],
   "source": [
    "lda_test.head()"
   ]
  },
  {
   "cell_type": "markdown",
   "metadata": {},
   "source": [
    "**Save Files to Disk**"
   ]
  },
  {
   "cell_type": "code",
   "execution_count": 155,
   "metadata": {},
   "outputs": [],
   "source": [
    "lda_train.to_csv('../data_vec/lda_train.csv', index=False)\n",
    "lda_test.to_csv('../data_vec/lda_test.csv', index=False)"
   ]
  },
  {
   "cell_type": "markdown",
   "metadata": {},
   "source": [
    "## Continue to Notebook 3: Document Vectors"
   ]
  }
 ],
 "metadata": {
  "kernelspec": {
   "display_name": "Environment (conda_tensorflow_p36)",
   "language": "python",
   "name": "conda_tensorflow_p36"
  },
  "language_info": {
   "codemirror_mode": {
    "name": "ipython",
    "version": 3
   },
   "file_extension": ".py",
   "mimetype": "text/x-python",
   "name": "python",
   "nbconvert_exporter": "python",
   "pygments_lexer": "ipython3",
   "version": "3.6.5"
  }
 },
 "nbformat": 4,
 "nbformat_minor": 2
}
