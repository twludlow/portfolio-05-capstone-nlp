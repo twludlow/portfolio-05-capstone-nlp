{
 "cells": [
  {
   "cell_type": "markdown",
   "metadata": {},
   "source": [
    "# Capstone: Philosophical Factors for NLP\n",
    "**_Measuring Similarity to Philosophical Concepts in Text Data_**\n",
    "\n",
    "## Thomas W. Ludlow, Jr.\n",
    "**General Assembly Data Science Immersive DSI-NY-6**\n",
    "\n",
    "**February 12, 2019**"
   ]
  },
  {
   "cell_type": "markdown",
   "metadata": {},
   "source": [
    "# Notebook 3 - Document Vectors"
   ]
  },
  {
   "cell_type": "markdown",
   "metadata": {},
   "source": [
    "### Table of Contents"
   ]
  },
  {
   "cell_type": "markdown",
   "metadata": {},
   "source": [
    "[**3.1 Gensim Doc2Vec**](#3.1-Gensim-Doc2Vec)\n",
    "- [3.1.1 Create Tagged Documents](#3.1.1-Create-Tagged-Documents)\n",
    "- [3.1.2 Build Doc2Vec Models](#3.1.2-Build-Doc2Vec-Models)\n",
    "\n",
    "[**3.2 Doc2Vec Features for Corpora**](#3.2-Doc2Vec-Features-for-Corpora)\n",
    "- [3.2.1 3.2.1 Combine Sentence and Paragraph Vectors](#3.2.1-Combine-Sentence-and-Paragraph-Vectors)\n",
    "- [3.2.2 Combine Vectors with LDA Features](#3.2.2-Combine-Vectors-with-LDA-Features)"
   ]
  },
  {
   "cell_type": "markdown",
   "metadata": {},
   "source": [
    "**Libraries**"
   ]
  },
  {
   "cell_type": "code",
   "execution_count": 3,
   "metadata": {},
   "outputs": [],
   "source": [
    "# Python Data Science\n",
    "import re\n",
    "import ast\n",
    "import time\n",
    "import pickle\n",
    "import numpy as np\n",
    "import pandas as pd\n",
    "from tqdm import tqdm\n",
    "\n",
    "# Natural Language Processing\n",
    "import spacy\n",
    "from nltk.stem import PorterStemmer\n",
    "\n",
    "# Gensim\n",
    "import gensim\n",
    "import gensim.downloader as api\n",
    "from gensim.corpora import Dictionary\n",
    "from gensim.models import TfidfModel, ldamulticore, CoherenceModel\n",
    "from gensim.models.word2vec import Word2Vec\n",
    "from gensim.models.doc2vec import Doc2Vec, TaggedDocument\n",
    "import pyLDAvis.gensim\n",
    "\n",
    "# Modeling Prep\n",
    "from sklearn.preprocessing import StandardScaler\n",
    "from sklearn.externals import joblib\n",
    "\n",
    "# Plotting\n",
    "import matplotlib.pyplot as plt\n",
    "%matplotlib inline\n",
    "\n",
    "# Override deprecation warnings\n",
    "import warnings\n",
    "warnings.filterwarnings(\"ignore\",category=DeprecationWarning)"
   ]
  },
  {
   "cell_type": "markdown",
   "metadata": {},
   "source": [
    "## 3.1 Gensim Doc2Vec"
   ]
  },
  {
   "cell_type": "markdown",
   "metadata": {},
   "source": [
    "**Load Preprocessed Text Data**"
   ]
  },
  {
   "cell_type": "code",
   "execution_count": 4,
   "metadata": {},
   "outputs": [],
   "source": [
    "nlp_df = pd.read_csv('../data_eda/nlp_df.csv')\n",
    "t_nlp_df = pd.read_csv('../data_eda/t_nlp_df.csv')"
   ]
  },
  {
   "cell_type": "code",
   "execution_count": 5,
   "metadata": {},
   "outputs": [],
   "source": [
    "text8_corpus = api.load('text8')"
   ]
  },
  {
   "cell_type": "code",
   "execution_count": 6,
   "metadata": {},
   "outputs": [],
   "source": [
    "text8_data = [d for d in text8_corpus]"
   ]
  },
  {
   "cell_type": "code",
   "execution_count": null,
   "metadata": {},
   "outputs": [
    {
     "name": "stdout",
     "output_type": "stream",
     "text": [
      " Part 1/4 [==================================================] 100.0% 1950.0/1950.0MB downloaded\n",
      " Part 2/4 [--------------------------------------------------] 0.7% 14.2/1950.0MB downloaded"
     ]
    }
   ],
   "source": [
    "wiki_corpus = api.load('wiki-english-20171001')"
   ]
  },
  {
   "cell_type": "code",
   "execution_count": null,
   "metadata": {},
   "outputs": [],
   "source": [
    "wiki_data = [d for d in tqdm(wiki_corpus)]"
   ]
  },
  {
   "cell_type": "markdown",
   "metadata": {},
   "source": [
    "### 3.1.1 Create Tagged Documents"
   ]
  },
  {
   "cell_type": "code",
   "execution_count": 7,
   "metadata": {},
   "outputs": [],
   "source": [
    "def create_tagged_document(list_of_list_of