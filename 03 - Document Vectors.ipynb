{
 "cells": [
  {
   "cell_type": "markdown",
   "metadata": {},
   "source": [
    "# Capstone: Philosophical Factors for NLP\n",
    "**_Measuring Similarity to Philosophical Concepts in Text Data_**\n",
    "\n",
    "## Thomas W. Ludlow, Jr.\n",
    "**General Assembly Data Science Immersive DSI-NY-6**\n",
    "\n",
    "**February 12, 2019**"
   ]
  },
  {
   "cell_type": "markdown",
   "metadata": {},
   "source": [
    "# Notebook 3 - Document Vectors"
   ]
  },
  {
   "cell_type": "markdown",
   "metadata": {},
   "source": [
    "### Table of Contents"
   ]
  },
  {
   "cell_type": "markdown",
   "metadata": {},
   "source": [
    "[**3.1 Gensim Doc2Vec**](#3.1-Gensim-Doc2Vec)\n",
    "- [3.1.1 Create Tagged Documents](#3.1.1-Create-Tagged-Documents)\n",
    "- [3.1.2 Build Doc2Vec Models](#3.1.2-Build-Doc2Vec-Models)\n",
    "\n",
    "[**3.2 Doc2Vec Features for Corpora**](#3.2-Doc2Vec-Features-for-Corpora)\n",
    "- [3.2.1 3.2.1 Combine Sentence and Paragraph Vectors](#3.2.1-Combine-Sentence-and-Paragraph-Vectors)\n",
    "- [3.2.2 Combine Vectors with LDA Features](#3.2.2-Combine-Vectors-with-LDA-Features)"
   ]
  },
  {
   "cell_type": "markdown",
   "metadata": {},
   "source": [
    "**Libraries**"
   ]
  },
  {
   "cell_type": "code",
   "execution_count": 1,
   "metadata": {},
   "outputs": [],
   "source": [
    "# Python Data Science\n",
    "import re\n",
    "import ast\n",
    "import time\n",
    "import pickle\n",
    "import numpy as np\n",
    "import pandas as pd\n",
    "from tqdm import tqdm\n",
    "\n",
    "# Natural Language Processing\n",
    "import spacy\n",
    "from nltk.stem import PorterStemmer\n",
    "\n",
    "# Gensim\n",
    "import gensim\n",
    "import gensim.downloader as api\n",
    "from gensim.corpora import Dictionary\n",
    "from gensim.models import TfidfModel, ldamulticore, CoherenceModel\n",
    "from gensim.models.word2vec import Word2Vec\n",
    "from gensim.models.doc2vec import Doc2Vec, TaggedDocument\n",
    "from gensim.test.utils import get_tmpfile\n",
    "import pyLDAvis.gensim\n",
    "\n",
    "# Modeling Prep\n",
    "from sklearn.preprocessing import StandardScaler\n",
    "from sklearn.externals import joblib\n",
    "\n",
    "# Plotting\n",
    "import matplotlib.pyplot as plt\n",
    "%matplotlib inline\n",
    "\n",
    "# Override deprecation warnings\n",
    "import warnings\n",
    "warnings.filterwarnings(\"ignore\",category=DeprecationWarning)"
   ]
  },
  {
   "cell_type": "markdown",
   "metadata": {},
   "source": [
    "## 3.1 Gensim Doc2Vec"
   ]
  },
  {
   "cell_type": "markdown",
   "metadata": {},
   "source": [
    "**Load Preprocessed Text Data**"
   ]
  },
  {
   "cell_type": "code",
   "execution_count": 2,
   "metadata": {},
   "outputs": [],
   "source": [
    "nlp_df = pd.read_csv('../data_eda/nlp_df.csv')\n",
    "t_nlp_df = pd.read_csv('../data_eda/t_nlp_df.csv')"
   ]
  },
  {
   "cell_type": "code",
   "execution_count": 3,
   "metadata": {},
   "outputs": [],
   "source": [
    "wiki_corpus = api.load('wiki-english-20171001')"
   ]
  },
  {
   "cell_type": "code",
   "execution_count": 4,
   "metadata": {},
   "outputs": [
    {
     "name": "stderr",
     "output_type": "stream",
     "text": [
      "4924894it [08:23, 9787.73it/s] \n"
     ]
    }
   ],
   "source": [
    "wiki_data = [d for d in tqdm(wiki_corpus)]"
   ]
  },
  {
   "cell_type": "markdown",
   "metadata": {},
   "source": [
    "### 3.1.1 Create Tagged Documents"
   ]
  },
  {
   "cell_type": "code",
   "execution_count": 5,
   "metadata": {},
   "outputs": [],
   "source": [
    "def create_tagged_document(list_of_list_of_words):\n",
    "    for i, list_of_words in enumerate(list_of_list_of_words):\n",
    "        yield gensim.models.doc2vec.TaggedDocument(list_of_words, [i])"
   ]
  },
  {
   "cell_type": "code",
   "execution_count": 6,
   "metadata": {},
   "outputs": [],
   "source": [
    "wiki_tag = list(create_tagged_document(wiki_data))"
   ]
  },
  {
   "cell_type": "code",
   "execution_count": 7,
   "metadata": {
    "scrolled": true
   },
   "outputs": [
    {
     "data": {
      "text/plain": [
       "4924894"
      ]
     },
     "execution_count": 7,
     "metadata": {},
     "output_type": "execute_result"
    }
   ],
   "source": [
    "len(wiki_tag)"
   ]
  },
  {
   "cell_type": "markdown",
   "metadata": {},
   "source": [
    "**Sentence Vectors**"
   ]
  },
  {
   "cell_type": "code",
   "execution_count": 8,
   "metadata": {},
   "outputs": [],
   "source": [
    "d2v_s = gensim.models.doc2vec.Doc2Vec(vector_size=32, min_count=2, epochs=5)"
   ]
  },
  {
   "cell_type": "code",
   "execution_count": 9,
   "metadata": {},
   "outputs": [],
   "source": [
    "d2v_s.build_vocab(wiki_tag)"
   ]
  },
  {
   "cell_type": "markdown",
   "metadata": {},
   "source": [
    "**Paragraph Vectors**"
   ]
  },
  {
   "cell_type": "code",
   "execution_count": 10,
   "metadata": {},
   "outputs": [],
   "source": [
    "d2v_p = gensim.models.doc2vec.Doc2Vec(vector_size=16, min_count=2, epochs=5)"
   ]
  },
  {
   "cell_type": "code",
   "execution_count": 11,
   "metadata": {},
   "outputs": [],
   "source": [
    "d2v_p.build_vocab(wiki_tag)"
   ]
  },
  {
   "cell_type": "markdown",
   "metadata": {},
   "source": [
    "### 3.1.2 Build Doc2Vec Models"
   ]
  },
  {
   "cell_type": "markdown",
   "metadata": {},
   "source": [
    "**Sentence Model**"
   ]
  },
  {
   "cell_type": "code",
   "execution_count": 12,
   "metadata": {},
   "outputs": [],
   "source": [
    "d2v_s.train(wiki_tag, total_examples=d2v_s.corpus_count, epochs=d2v_s.epochs)"
   ]
  },
  {
   "cell_type": "code",
   "execution_count": 13,
   "metadata": {},
   "outputs": [],
   "source": [
    "d2v_s_vecs = []\n",
    "\n",
    "for sent_vec in [ast.literal_eval(sent) for sent in nlp_df.sent_lemma]:\n",
    "    d2v_s_vecs.append(d2v_s.infer_vector(sent_vec))"
   ]
  },
  {
   "cell_type": "code",
   "execution_count": 14,
   "metadata": {},
   "outputs": [
    {
     "data": {
      "text/plain": [
       "63932"
      ]
     },
     "execution_count": 14,
     "metadata": {},
     "output_type": "execute_result"
    }
   ],
   "source": [
    "len(d2v_s_vecs)"
   ]
  },
  {
   "cell_type": "code",
   "execution_count": 15,
   "metadata": {},
   "outputs": [
    {
     "data": {
      "text/plain": [
       "32"
      ]
     },
     "execution_count": 15,
     "metadata": {},
     "output_type": "execute_result"
    }
   ],
   "source": [
    "len(d2v_s_vecs[0])"
   ]
  },
  {
   "cell_type": "code",
   "execution_count": 16,
   "metadata": {},
   "outputs": [
    {
     "data": {
      "text/plain": [
       "array([ 0.00514079,  0.00756313, -0.00511922,  0.00348715,  0.01475863,\n",
       "       -0.00040127, -0.01314587, -0.01083631,  0.01318629,  0.00035891,\n",
       "       -0.00045937,  0.00500179, -0.00523515,  0.00804647, -0.00362201,\n",
       "       -0.01548954, -0.01027478, -0.01155843,  0.01347735,  0.00225375,\n",
       "       -0.00243251, -0.00711353, -0.00331062,  0.00680516, -0.00090451,\n",
       "       -0.01197521, -0.00331335,  0.00697181, -0.00226184,  0.00126615,\n",
       "       -0.0099524 ,  0.00706321], dtype=float32)"
      ]
     },
     "execution_count": 16,
     "metadata": {},
     "output_type": "execute_result"
    }
   ],
   "source": [
    "d2v_s_vecs[0]"
   ]
  },
  {
   "cell_type": "markdown",
   "metadata": {},
   "source": [
    "Testing Text"
   ]
  },
  {
   "cell_type": "code",
   "execution_count": 17,
   "metadata": {},
   "outputs": [],
   "source": [
    "t_d2v_s_vecs = []\n",
    "\n",
    "for sent_vec in [ast.literal_eval(sent) for sent in t_nlp_df.sent_lemma]:\n",
    "    t_d2v_s_vecs.append(d2v_s.infer_vector(sent_vec))"
   ]
  },
  {
   "cell_type": "code",
   "execution_count": 18,
   "metadata": {},
   "outputs": [
    {
     "data": {
      "text/plain": [
       "7935"
      ]
     },
     "execution_count": 18,
     "metadata": {},
     "output_type": "execute_result"
    }
   ],
   "source": [
    "len(t_d2v_s_vecs)"
   ]
  },
  {
   "cell_type": "code",
   "execution_count": 19,
   "metadata": {},
   "outputs": [
    {
     "data": {
      "text/plain": [
       "32"
      ]
     },
     "execution_count": 19,
     "metadata": {},
     "output_type": "execute_result"
    }
   ],
   "source": [
    "len(t_d2v_s_vecs[0])"
   ]
  },
  {
   "cell_type": "markdown",
   "metadata": {},
   "source": [
    "**Paragraph Model**"
   ]
  },
  {
   "cell_type": "code",
   "execution_count": 20,
   "metadata": {},
   "outputs": [],
   "source": [
    "d2v_p.train(wiki_tag, total_examples=d2v_p.corpus_count, epochs=d2v_p.epochs)"
   ]
  },
  {
   "cell_type": "code",
   "execution_count": 21,
   "metadata": {},
   "outputs": [],
   "source": [
    "d2v_p_vecs = []\n",
    "\n",
    "for par_vec in [ast.literal_eval(par) for par in nlp_df.par_lemma]:\n",
    "    d2v_p_vecs.append(d2v_p.infer_vector(par_vec))"
   ]
  },
  {
   "cell_type": "code",
   "execution_count": 22,
   "metadata": {},
   "outputs": [
    {
     "data": {
      "text/plain": [
       "63932"
      ]
     },
     "execution_count": 22,
     "metadata": {},
     "output_type": "execute_result"
    }
   ],
   "source": [
    "len(d2v_p_vecs)"
   ]
  },
  {
   "cell_type": "code",
   "execution_count": 23,
   "metadata": {},
   "outputs": [
    {
     "data": {
      "text/plain": [
       "16"
      ]
     },
     "execution_count": 23,
     "metadata": {},
     "output_type": "execute_result"
    }
   ],
   "source": [
    "len(d2v_p_vecs[0])"
   ]
  },
  {
   "cell_type": "markdown",
   "metadata": {},
   "source": [
    "Testing Text"
   ]
  },
  {
   "cell_type": "code",
   "execution_count": 24,
   "metadata": {},
   "outputs": [],
   "source": [
    "t_d2v_p_vecs = []\n",
    "\n",
    "for par_vec in [ast.literal_eval(par) for par in t_nlp_df.par_lemma]:\n",
    "    t_d2v_p_vecs.append(d2v_p.infer_vector(par_vec))"
   ]
  },
  {
   "cell_type": "code",
   "execution_count": 25,
   "metadata": {},
   "outputs": [
    {
     "data": {
      "text/plain": [
       "7935"
      ]
     },
     "execution_count": 25,
     "metadata": {},
     "output_type": "execute_result"
    }
   ],
   "source": [
    "len(t_d2v_p_vecs)"
   ]
  },
  {
   "cell_type": "code",
   "execution_count": 26,
   "metadata": {},
   "outputs": [
    {
     "data": {
      "text/plain": [
       "16"
      ]
     },
     "execution_count": 26,
     "metadata": {},
     "output_type": "execute_result"
    }
   ],
   "source": [
    "len(t_d2v_p_vecs[0])"
   ]
  },
  {
   "cell_type": "markdown",
   "metadata": {},
   "source": [
    "**Save to Disk**"
   ]
  },
  {
   "cell_type": "code",
   "execution_count": 27,
   "metadata": {},
   "outputs": [],
   "source": [
    "d2v_s_file = open('../models/d2v_s.pkl','wb')\n",
    "pickle.dump(d2v_s, d2v_s_file)\n",
    "d2v_s_file.close()"
   ]
  },
  {
   "cell_type": "code",
   "execution_count": 28,
   "metadata": {},
   "outputs": [],
   "source": [
    "d2v_p_file = open('../models/d2v_p.pkl','wb')\n",
    "pickle.dump(d2v_p, d2v_p_file)\n",
    "d2v_p_file.close()"
   ]
  },
  {
   "cell_type": "markdown",
   "metadata": {},
   "source": [
    "## 3.2 Doc2Vec Features for Corpora"
   ]
  },
  {
   "cell_type": "markdown",
   "metadata": {},
   "source": [
    "### 3.2.1 Combine Sentence and Paragraph Vectors"
   ]
  },
  {
   "cell_type": "code",
   "execution_count": 29,
   "metadata": {},
   "outputs": [],
   "source": [
    "# Feature names\n",
    "s_vec_cols = ['s_vec_'+str(i) for i in range(len(d2v_s_vecs[0]))]\n",
    "p_vec_cols = ['p_vec_'+str(j) for j in range(len(d2v_p_vecs[0]))]"
   ]
  },
  {
   "cell_type": "code",
   "execution_count": 30,
   "metadata": {},
   "outputs": [
    {
     "data": {
      "text/html": [
       "<div>\n",
       "<style scoped>\n",
       "    .dataframe tbody tr th:only-of-type {\n",
       "        vertical-align: middle;\n",
       "    }\n",
       "\n",
       "    .dataframe tbody tr th {\n",
       "        vertical-align: top;\n",
       "    }\n",
       "\n",
       "    .dataframe thead th {\n",
       "        text-align: right;\n",
       "    }\n",
       "</style>\n",
       "<table border=\"1\" class=\"dataframe\">\n",
       "  <thead>\n",
       "    <tr style=\"text-align: right;\">\n",
       "      <th></th>\n",
       "      <th>s_vec_0</th>\n",
       "      <th>s_vec_1</th>\n",
       "      <th>s_vec_2</th>\n",
       "      <th>s_vec_3</th>\n",
       "      <th>s_vec_4</th>\n",
       "      <th>s_vec_5</th>\n",
       "      <th>s_vec_6</th>\n",
       "      <th>s_vec_7</th>\n",
       "      <th>s_vec_8</th>\n",
       "      <th>s_vec_9</th>\n",
       "      <th>...</th>\n",
       "      <th>s_vec_22</th>\n",
       "      <th>s_vec_23</th>\n",
       "      <th>s_vec_24</th>\n",
       "      <th>s_vec_25</th>\n",
       "      <th>s_vec_26</th>\n",
       "      <th>s_vec_27</th>\n",
       "      <th>s_vec_28</th>\n",
       "      <th>s_vec_29</th>\n",
       "      <th>s_vec_30</th>\n",
       "      <th>s_vec_31</th>\n",
       "    </tr>\n",
       "  </thead>\n",
       "  <tbody>\n",
       "    <tr>\n",
       "      <th>0</th>\n",
       "      <td>0.005141</td>\n",
       "      <td>0.007563</td>\n",
       "      <td>-0.005119</td>\n",
       "      <td>0.003487</td>\n",
       "      <td>0.014759</td>\n",
       "      <td>-0.000401</td>\n",
       "      <td>-0.013146</td>\n",
       "      <td>-0.010836</td>\n",
       "      <td>0.013186</td>\n",
       "      <td>0.000359</td>\n",
       "      <td>...</td>\n",
       "      <td>-0.003311</td>\n",
       "      <td>0.006805</td>\n",
       "      <td>-0.000905</td>\n",
       "      <td>-0.011975</td>\n",
       "      <td>-0.003313</td>\n",
       "      <td>0.006972</td>\n",
       "      <td>-0.002262</td>\n",
       "      <td>0.001266</td>\n",
       "      <td>-0.009952</td>\n",
       "      <td>0.007063</td>\n",
       "    </tr>\n",
       "    <tr>\n",
       "      <th>1</th>\n",
       "      <td>0.000672</td>\n",
       "      <td>-0.008255</td>\n",
       "      <td>0.004202</td>\n",
       "      <td>0.012191</td>\n",
       "      <td>-0.008325</td>\n",
       "      <td>0.010428</td>\n",
       "      <td>-0.010309</td>\n",
       "      <td>0.007246</td>\n",
       "      <td>0.000948</td>\n",
       "      <td>0.013675</td>\n",
       "      <td>...</td>\n",
       "      <td>-0.001058</td>\n",
       "      <td>0.004864</td>\n",
       "      <td>-0.010299</td>\n",
       "      <td>0.013718</td>\n",
       "      <td>0.003485</td>\n",
       "      <td>0.012364</td>\n",
       "      <td>0.007462</td>\n",
       "      <td>-0.000469</td>\n",
       "      <td>-0.000097</td>\n",
       "      <td>0.014184</td>\n",
       "    </tr>\n",
       "    <tr>\n",
       "      <th>2</th>\n",
       "      <td>0.009192</td>\n",
       "      <td>0.003800</td>\n",
       "      <td>0.004282</td>\n",
       "      <td>0.003132</td>\n",
       "      <td>0.009840</td>\n",
       "      <td>0.002502</td>\n",
       "      <td>-0.015351</td>\n",
       "      <td>-0.012835</td>\n",
       "      <td>0.005541</td>\n",
       "      <td>-0.002684</td>\n",
       "      <td>...</td>\n",
       "      <td>0.000799</td>\n",
       "      <td>-0.002421</td>\n",
       "      <td>0.000578</td>\n",
       "      <td>-0.009566</td>\n",
       "      <td>-0.002560</td>\n",
       "      <td>0.009780</td>\n",
       "      <td>-0.009652</td>\n",
       "      <td>-0.000443</td>\n",
       "      <td>-0.006498</td>\n",
       "      <td>0.004068</td>\n",
       "    </tr>\n",
       "    <tr>\n",
       "      <th>3</th>\n",
       "      <td>0.012862</td>\n",
       "      <td>0.005095</td>\n",
       "      <td>0.007222</td>\n",
       "      <td>-0.000288</td>\n",
       "      <td>0.005181</td>\n",
       "      <td>0.011893</td>\n",
       "      <td>-0.000838</td>\n",
       "      <td>-0.004347</td>\n",
       "      <td>0.000892</td>\n",
       "      <td>-0.013354</td>\n",
       "      <td>...</td>\n",
       "      <td>0.006634</td>\n",
       "      <td>0.007733</td>\n",
       "      <td>0.000416</td>\n",
       "      <td>-0.008731</td>\n",
       "      <td>-0.006828</td>\n",
       "      <td>0.012731</td>\n",
       "      <td>-0.006450</td>\n",
       "      <td>0.007383</td>\n",
       "      <td>-0.013415</td>\n",
       "      <td>0.003337</td>\n",
       "    </tr>\n",
       "    <tr>\n",
       "      <th>4</th>\n",
       "      <td>0.005489</td>\n",
       "      <td>-0.004147</td>\n",
       "      <td>-0.003460</td>\n",
       "      <td>-0.008962</td>\n",
       "      <td>0.004228</td>\n",
       "      <td>-0.000990</td>\n",
       "      <td>-0.011614</td>\n",
       "      <td>-0.008368</td>\n",
       "      <td>0.003744</td>\n",
       "      <td>0.005757</td>\n",
       "      <td>...</td>\n",
       "      <td>-0.014279</td>\n",
       "      <td>-0.006709</td>\n",
       "      <td>0.008639</td>\n",
       "      <td>-0.003609</td>\n",
       "      <td>0.014656</td>\n",
       "      <td>-0.008735</td>\n",
       "      <td>-0.007220</td>\n",
       "      <td>0.001693</td>\n",
       "      <td>-0.001438</td>\n",
       "      <td>0.001204</td>\n",
       "    </tr>\n",
       "  </tbody>\n",
       "</table>\n",
       "<p>5 rows × 32 columns</p>\n",
       "</div>"
      ],
      "text/plain": [
       "    s_vec_0   s_vec_1   s_vec_2   s_vec_3   s_vec_4   s_vec_5   s_vec_6  \\\n",
       "0  0.005141  0.007563 -0.005119  0.003487  0.014759 -0.000401 -0.013146   \n",
       "1  0.000672 -0.008255  0.004202  0.012191 -0.008325  0.010428 -0.010309   \n",
       "2  0.009192  0.003800  0.004282  0.003132  0.009840  0.002502 -0.015351   \n",
       "3  0.012862  0.005095  0.007222 -0.000288  0.005181  0.011893 -0.000838   \n",
       "4  0.005489 -0.004147 -0.003460 -0.008962  0.004228 -0.000990 -0.011614   \n",
       "\n",
       "    s_vec_7   s_vec_8   s_vec_9    ...     s_vec_22  s_vec_23  s_vec_24  \\\n",
       "0 -0.010836  0.013186  0.000359    ...    -0.003311  0.006805 -0.000905   \n",
       "1  0.007246  0.000948  0.013675    ...    -0.001058  0.004864 -0.010299   \n",
       "2 -0.012835  0.005541 -0.002684    ...     0.000799 -0.002421  0.000578   \n",
       "3 -0.004347  0.000892 -0.013354    ...     0.006634  0.007733  0.000416   \n",
       "4 -0.008368  0.003744  0.005757    ...    -0.014279 -0.006709  0.008639   \n",
       "\n",
       "   s_vec_25  s_vec_26  s_vec_27  s_vec_28  s_vec_29  s_vec_30  s_vec_31  \n",
       "0 -0.011975 -0.003313  0.006972 -0.002262  0.001266 -0.009952  0.007063  \n",
       "1  0.013718  0.003485  0.012364  0.007462 -0.000469 -0.000097  0.014184  \n",
       "2 -0.009566 -0.002560  0.009780 -0.009652 -0.000443 -0.006498  0.004068  \n",
       "3 -0.008731 -0.006828  0.012731 -0.006450  0.007383 -0.013415  0.003337  \n",
       "4 -0.003609  0.014656 -0.008735 -0.007220  0.001693 -0.001438  0.001204  \n",
       "\n",
       "[5 rows x 32 columns]"
      ]
     },
     "execution_count": 30,
     "metadata": {},
     "output_type": "execute_result"
    }
   ],
   "source": [
    "vec_df = pd.DataFrame(d2v_s_vecs, columns=s_vec_cols)\n",
    "vec_df.head()"
   ]
  },
  {
   "cell_type": "code",
   "execution_count": 31,
   "metadata": {},
   "outputs": [
    {
     "data": {
      "text/html": [
       "<div>\n",
       "<style scoped>\n",
       "    .dataframe tbody tr th:only-of-type {\n",
       "        vertical-align: middle;\n",
       "    }\n",
       "\n",
       "    .dataframe tbody tr th {\n",
       "        vertical-align: top;\n",
       "    }\n",
       "\n",
       "    .dataframe thead th {\n",
       "        text-align: right;\n",
       "    }\n",
       "</style>\n",
       "<table border=\"1\" class=\"dataframe\">\n",
       "  <thead>\n",
       "    <tr style=\"text-align: right;\">\n",
       "      <th></th>\n",
       "      <th>p_vec_0</th>\n",
       "      <th>p_vec_1</th>\n",
       "      <th>p_vec_2</th>\n",
       "      <th>p_vec_3</th>\n",
       "      <th>p_vec_4</th>\n",
       "      <th>p_vec_5</th>\n",
       "      <th>p_vec_6</th>\n",
       "      <th>p_vec_7</th>\n",
       "      <th>p_vec_8</th>\n",
       "      <th>p_vec_9</th>\n",
       "      <th>p_vec_10</th>\n",
       "      <th>p_vec_11</th>\n",
       "      <th>p_vec_12</th>\n",
       "      <th>p_vec_13</th>\n",
       "      <th>p_vec_14</th>\n",
       "      <th>p_vec_15</th>\n",
       "    </tr>\n",
       "  </thead>\n",
       "  <tbody>\n",
       "    <tr>\n",
       "      <th>0</th>\n",
       "      <td>0.015278</td>\n",
       "      <td>0.005593</td>\n",
       "      <td>-0.007604</td>\n",
       "      <td>-0.002626</td>\n",
       "      <td>0.000075</td>\n",
       "      <td>-0.010657</td>\n",
       "      <td>0.009646</td>\n",
       "      <td>-0.017440</td>\n",
       "      <td>-0.019920</td>\n",
       "      <td>-0.012895</td>\n",
       "      <td>0.026869</td>\n",
       "      <td>-0.008289</td>\n",
       "      <td>0.013262</td>\n",
       "      <td>0.026985</td>\n",
       "      <td>0.005105</td>\n",
       "      <td>-0.026231</td>\n",
       "    </tr>\n",
       "    <tr>\n",
       "      <th>1</th>\n",
       "      <td>0.015278</td>\n",
       "      <td>0.005593</td>\n",
       "      <td>-0.007604</td>\n",
       "      <td>-0.002626</td>\n",
       "      <td>0.000075</td>\n",
       "      <td>-0.010657</td>\n",
       "      <td>0.009646</td>\n",
       "      <td>-0.017440</td>\n",
       "      <td>-0.019920</td>\n",
       "      <td>-0.012895</td>\n",
       "      <td>0.026869</td>\n",
       "      <td>-0.008289</td>\n",
       "      <td>0.013262</td>\n",
       "      <td>0.026985</td>\n",
       "      <td>0.005105</td>\n",
       "      <td>-0.026231</td>\n",
       "    </tr>\n",
       "    <tr>\n",
       "      <th>2</th>\n",
       "      <td>0.015278</td>\n",
       "      <td>0.005593</td>\n",
       "      <td>-0.007604</td>\n",
       "      <td>-0.002626</td>\n",
       "      <td>0.000075</td>\n",
       "      <td>-0.010657</td>\n",
       "      <td>0.009646</td>\n",
       "      <td>-0.017440</td>\n",
       "      <td>-0.019920</td>\n",
       "      <td>-0.012895</td>\n",
       "      <td>0.026869</td>\n",
       "      <td>-0.008289</td>\n",
       "      <td>0.013262</td>\n",
       "      <td>0.026985</td>\n",
       "      <td>0.005105</td>\n",
       "      <td>-0.026231</td>\n",
       "    </tr>\n",
       "    <tr>\n",
       "      <th>3</th>\n",
       "      <td>-0.002480</td>\n",
       "      <td>0.015847</td>\n",
       "      <td>0.009259</td>\n",
       "      <td>-0.011517</td>\n",
       "      <td>0.004692</td>\n",
       "      <td>0.004190</td>\n",
       "      <td>-0.013091</td>\n",
       "      <td>-0.021624</td>\n",
       "      <td>-0.021936</td>\n",
       "      <td>0.027087</td>\n",
       "      <td>-0.018606</td>\n",
       "      <td>0.017486</td>\n",
       "      <td>-0.029226</td>\n",
       "      <td>-0.012035</td>\n",
       "      <td>0.017496</td>\n",
       "      <td>0.009983</td>\n",
       "    </tr>\n",
       "    <tr>\n",
       "      <th>4</th>\n",
       "      <td>-0.002480</td>\n",
       "      <td>0.015847</td>\n",
       "      <td>0.009259</td>\n",
       "      <td>-0.011517</td>\n",
       "      <td>0.004692</td>\n",
       "      <td>0.004190</td>\n",
       "      <td>-0.013091</td>\n",
       "      <td>-0.021624</td>\n",
       "      <td>-0.021936</td>\n",
       "      <td>0.027087</td>\n",
       "      <td>-0.018606</td>\n",
       "      <td>0.017486</td>\n",
       "      <td>-0.029226</td>\n",
       "      <td>-0.012035</td>\n",
       "      <td>0.017496</td>\n",
       "      <td>0.009983</td>\n",
       "    </tr>\n",
       "  </tbody>\n",
       "</table>\n",
       "</div>"
      ],
      "text/plain": [
       "    p_vec_0   p_vec_1   p_vec_2   p_vec_3   p_vec_4   p_vec_5   p_vec_6  \\\n",
       "0  0.015278  0.005593 -0.007604 -0.002626  0.000075 -0.010657  0.009646   \n",
       "1  0.015278  0.005593 -0.007604 -0.002626  0.000075 -0.010657  0.009646   \n",
       "2  0.015278  0.005593 -0.007604 -0.002626  0.000075 -0.010657  0.009646   \n",
       "3 -0.002480  0.015847  0.009259 -0.011517  0.004692  0.004190 -0.013091   \n",
       "4 -0.002480  0.015847  0.009259 -0.011517  0.004692  0.004190 -0.013091   \n",
       "\n",
       "    p_vec_7   p_vec_8   p_vec_9  p_vec_10  p_vec_11  p_vec_12  p_vec_13  \\\n",
       "0 -0.017440 -0.019920 -0.012895  0.026869 -0.008289  0.013262  0.026985   \n",
       "1 -0.017440 -0.019920 -0.012895  0.026869 -0.008289  0.013262  0.026985   \n",
       "2 -0.017440 -0.019920 -0.012895  0.026869 -0.008289  0.013262  0.026985   \n",
       "3 -0.021624 -0.021936  0.027087 -0.018606  0.017486 -0.029226 -0.012035   \n",
       "4 -0.021624 -0.021936  0.027087 -0.018606  0.017486 -0.029226 -0.012035   \n",
       "\n",
       "   p_vec_14  p_vec_15  \n",
       "0  0.005105 -0.026231  \n",
       "1  0.005105 -0.026231  \n",
       "2  0.005105 -0.026231  \n",
       "3  0.017496  0.009983  \n",
       "4  0.017496  0.009983  "
      ]
     },
     "execution_count": 31,
     "metadata": {},
     "output_type": "execute_result"
    }
   ],
   "source": [
    "p_vec_df = pd.DataFrame(d2v_p_vecs, columns=p_vec_cols)\n",
    "p_vec_df.head()"
   ]
  },
  {
   "cell_type": "code",
   "execution_count": 32,
   "metadata": {},
   "outputs": [],
   "source": [
    "for col_name in p_vec_cols:\n",
    "    vec_df[col_name] = p_vec_df[col_name]"
   ]
  },
  {
   "cell_type": "code",
   "execution_count": 33,
   "metadata": {},
   "outputs": [
    {
     "data": {
      "text/plain": [
       "(63932, 48)"
      ]
     },
     "execution_count": 33,
     "metadata": {},
     "output_type": "execute_result"
    }
   ],
   "source": [
    "vec_df.shape"
   ]
  },
  {
   "cell_type": "markdown",
   "metadata": {},
   "source": [
    "Testing Texts"
   ]
  },
  {
   "cell_type": "code",
   "execution_count": 34,
   "metadata": {},
   "outputs": [
    {
     "data": {
      "text/html": [
       "<div>\n",
       "<style scoped>\n",
       "    .dataframe tbody tr th:only-of-type {\n",
       "        vertical-align: middle;\n",
       "    }\n",
       "\n",
       "    .dataframe tbody tr th {\n",
       "        vertical-align: top;\n",
       "    }\n",
       "\n",
       "    .dataframe thead th {\n",
       "        text-align: right;\n",
       "    }\n",
       "</style>\n",
       "<table border=\"1\" class=\"dataframe\">\n",
       "  <thead>\n",
       "    <tr style=\"text-align: right;\">\n",
       "      <th></th>\n",
       "      <th>s_vec_0</th>\n",
       "      <th>s_vec_1</th>\n",
       "      <th>s_vec_2</th>\n",
       "      <th>s_vec_3</th>\n",
       "      <th>s_vec_4</th>\n",
       "      <th>s_vec_5</th>\n",
       "      <th>s_vec_6</th>\n",
       "      <th>s_vec_7</th>\n",
       "      <th>s_vec_8</th>\n",
       "      <th>s_vec_9</th>\n",
       "      <th>...</th>\n",
       "      <th>s_vec_22</th>\n",
       "      <th>s_vec_23</th>\n",
       "      <th>s_vec_24</th>\n",
       "      <th>s_vec_25</th>\n",
       "      <th>s_vec_26</th>\n",
       "      <th>s_vec_27</th>\n",
       "      <th>s_vec_28</th>\n",
       "      <th>s_vec_29</th>\n",
       "      <th>s_vec_30</th>\n",
       "      <th>s_vec_31</th>\n",
       "    </tr>\n",
       "  </thead>\n",
       "  <tbody>\n",
       "    <tr>\n",
       "      <th>0</th>\n",
       "      <td>0.012852</td>\n",
       "      <td>-0.000564</td>\n",
       "      <td>0.000924</td>\n",
       "      <td>0.015578</td>\n",
       "      <td>-0.009460</td>\n",
       "      <td>-0.001825</td>\n",
       "      <td>0.006729</td>\n",
       "      <td>0.014028</td>\n",
       "      <td>-0.012019</td>\n",
       "      <td>-0.005941</td>\n",
       "      <td>...</td>\n",
       "      <td>-0.008684</td>\n",
       "      <td>-0.005400</td>\n",
       "      <td>-0.000060</td>\n",
       "      <td>-0.014494</td>\n",
       "      <td>0.008053</td>\n",
       "      <td>-0.014840</td>\n",
       "      <td>-0.005764</td>\n",
       "      <td>0.015105</td>\n",
       "      <td>-0.000736</td>\n",
       "      <td>0.011270</td>\n",
       "    </tr>\n",
       "    <tr>\n",
       "      <th>1</th>\n",
       "      <td>0.014496</td>\n",
       "      <td>-0.015362</td>\n",
       "      <td>-0.008466</td>\n",
       "      <td>0.012413</td>\n",
       "      <td>0.012671</td>\n",
       "      <td>-0.000903</td>\n",
       "      <td>0.015530</td>\n",
       "      <td>-0.005830</td>\n",
       "      <td>-0.007259</td>\n",
       "      <td>0.014899</td>\n",
       "      <td>...</td>\n",
       "      <td>-0.007146</td>\n",
       "      <td>-0.009037</td>\n",
       "      <td>-0.001791</td>\n",
       "      <td>-0.005722</td>\n",
       "      <td>0.006260</td>\n",
       "      <td>-0.007856</td>\n",
       "      <td>-0.015266</td>\n",
       "      <td>-0.008989</td>\n",
       "      <td>0.009174</td>\n",
       "      <td>0.008290</td>\n",
       "    </tr>\n",
       "    <tr>\n",
       "      <th>2</th>\n",
       "      <td>-0.005569</td>\n",
       "      <td>0.010911</td>\n",
       "      <td>0.007000</td>\n",
       "      <td>0.004631</td>\n",
       "      <td>0.000567</td>\n",
       "      <td>0.012376</td>\n",
       "      <td>0.001706</td>\n",
       "      <td>-0.012309</td>\n",
       "      <td>0.000371</td>\n",
       "      <td>0.012049</td>\n",
       "      <td>...</td>\n",
       "      <td>0.009573</td>\n",
       "      <td>0.009243</td>\n",
       "      <td>-0.013573</td>\n",
       "      <td>-0.013910</td>\n",
       "      <td>-0.014415</td>\n",
       "      <td>-0.004039</td>\n",
       "      <td>-0.004773</td>\n",
       "      <td>0.006494</td>\n",
       "      <td>-0.014571</td>\n",
       "      <td>0.007027</td>\n",
       "    </tr>\n",
       "    <tr>\n",
       "      <th>3</th>\n",
       "      <td>0.012320</td>\n",
       "      <td>-0.007913</td>\n",
       "      <td>-0.014627</td>\n",
       "      <td>-0.005808</td>\n",
       "      <td>-0.004552</td>\n",
       "      <td>0.002174</td>\n",
       "      <td>-0.012969</td>\n",
       "      <td>0.000185</td>\n",
       "      <td>-0.009987</td>\n",
       "      <td>-0.009841</td>\n",
       "      <td>...</td>\n",
       "      <td>0.000689</td>\n",
       "      <td>-0.013390</td>\n",
       "      <td>-0.001545</td>\n",
       "      <td>-0.007197</td>\n",
       "      <td>-0.008211</td>\n",
       "      <td>-0.007027</td>\n",
       "      <td>-0.004479</td>\n",
       "      <td>0.010525</td>\n",
       "      <td>-0.005323</td>\n",
       "      <td>0.010000</td>\n",
       "    </tr>\n",
       "    <tr>\n",
       "      <th>4</th>\n",
       "      <td>0.001876</td>\n",
       "      <td>-0.003734</td>\n",
       "      <td>-0.006766</td>\n",
       "      <td>-0.008286</td>\n",
       "      <td>0.006277</td>\n",
       "      <td>-0.012269</td>\n",
       "      <td>-0.003850</td>\n",
       "      <td>-0.011094</td>\n",
       "      <td>0.013328</td>\n",
       "      <td>0.011740</td>\n",
       "      <td>...</td>\n",
       "      <td>0.012417</td>\n",
       "      <td>-0.003519</td>\n",
       "      <td>0.008170</td>\n",
       "      <td>0.013473</td>\n",
       "      <td>-0.015407</td>\n",
       "      <td>-0.014435</td>\n",
       "      <td>0.003849</td>\n",
       "      <td>0.003812</td>\n",
       "      <td>0.005256</td>\n",
       "      <td>-0.013906</td>\n",
       "    </tr>\n",
       "  </tbody>\n",
       "</table>\n",
       "<p>5 rows × 32 columns</p>\n",
       "</div>"
      ],
      "text/plain": [
       "    s_vec_0   s_vec_1   s_vec_2   s_vec_3   s_vec_4   s_vec_5   s_vec_6  \\\n",
       "0  0.012852 -0.000564  0.000924  0.015578 -0.009460 -0.001825  0.006729   \n",
       "1  0.014496 -0.015362 -0.008466  0.012413  0.012671 -0.000903  0.015530   \n",
       "2 -0.005569  0.010911  0.007000  0.004631  0.000567  0.012376  0.001706   \n",
       "3  0.012320 -0.007913 -0.014627 -0.005808 -0.004552  0.002174 -0.012969   \n",
       "4  0.001876 -0.003734 -0.006766 -0.008286  0.006277 -0.012269 -0.003850   \n",
       "\n",
       "    s_vec_7   s_vec_8   s_vec_9    ...     s_vec_22  s_vec_23  s_vec_24  \\\n",
       "0  0.014028 -0.012019 -0.005941    ...    -0.008684 -0.005400 -0.000060   \n",
       "1 -0.005830 -0.007259  0.014899    ...    -0.007146 -0.009037 -0.001791   \n",
       "2 -0.012309  0.000371  0.012049    ...     0.009573  0.009243 -0.013573   \n",
       "3  0.000185 -0.009987 -0.009841    ...     0.000689 -0.013390 -0.001545   \n",
       "4 -0.011094  0.013328  0.011740    ...     0.012417 -0.003519  0.008170   \n",
       "\n",
       "   s_vec_25  s_vec_26  s_vec_27  s_vec_28  s_vec_29  s_vec_30  s_vec_31  \n",
       "0 -0.014494  0.008053 -0.014840 -0.005764  0.015105 -0.000736  0.011270  \n",
       "1 -0.005722  0.006260 -0.007856 -0.015266 -0.008989  0.009174  0.008290  \n",
       "2 -0.013910 -0.014415 -0.004039 -0.004773  0.006494 -0.014571  0.007027  \n",
       "3 -0.007197 -0.008211 -0.007027 -0.004479  0.010525 -0.005323  0.010000  \n",
       "4  0.013473 -0.015407 -0.014435  0.003849  0.003812  0.005256 -0.013906  \n",
       "\n",
       "[5 rows x 32 columns]"
      ]
     },
     "execution_count": 34,
     "metadata": {},
     "output_type": "execute_result"
    }
   ],
   "source": [
    "t_vec_df = pd.DataFrame(t_d2v_s_vecs, columns=s_vec_cols)\n",
    "t_vec_df.head()"
   ]
  },
  {
   "cell_type": "code",
   "execution_count": 35,
   "metadata": {},
   "outputs": [
    {
     "data": {
      "text/html": [
       "<div>\n",
       "<style scoped>\n",
       "    .dataframe tbody tr th:only-of-type {\n",
       "        vertical-align: middle;\n",
       "    }\n",
       "\n",
       "    .dataframe tbody tr th {\n",
       "        vertical-align: top;\n",
       "    }\n",
       "\n",
       "    .dataframe thead th {\n",
       "        text-align: right;\n",
       "    }\n",
       "</style>\n",
       "<table border=\"1\" class=\"dataframe\">\n",
       "  <thead>\n",
       "    <tr style=\"text-align: right;\">\n",
       "      <th></th>\n",
       "      <th>p_vec_0</th>\n",
       "      <th>p_vec_1</th>\n",
       "      <th>p_vec_2</th>\n",
       "      <th>p_vec_3</th>\n",
       "      <th>p_vec_4</th>\n",
       "      <th>p_vec_5</th>\n",
       "      <th>p_vec_6</th>\n",
       "      <th>p_vec_7</th>\n",
       "      <th>p_vec_8</th>\n",
       "      <th>p_vec_9</th>\n",
       "      <th>p_vec_10</th>\n",
       "      <th>p_vec_11</th>\n",
       "      <th>p_vec_12</th>\n",
       "      <th>p_vec_13</th>\n",
       "      <th>p_vec_14</th>\n",
       "      <th>p_vec_15</th>\n",
       "    </tr>\n",
       "  </thead>\n",
       "  <tbody>\n",
       "    <tr>\n",
       "      <th>0</th>\n",
       "      <td>0.025705</td>\n",
       "      <td>-0.001128</td>\n",
       "      <td>0.001848</td>\n",
       "      <td>0.031156</td>\n",
       "      <td>-0.018919</td>\n",
       "      <td>-0.003649</td>\n",
       "      <td>0.013457</td>\n",
       "      <td>0.028057</td>\n",
       "      <td>-0.024037</td>\n",
       "      <td>-0.011881</td>\n",
       "      <td>0.018372</td>\n",
       "      <td>0.013929</td>\n",
       "      <td>-0.028593</td>\n",
       "      <td>0.030767</td>\n",
       "      <td>0.003707</td>\n",
       "      <td>-0.001779</td>\n",
       "    </tr>\n",
       "    <tr>\n",
       "      <th>1</th>\n",
       "      <td>0.013783</td>\n",
       "      <td>0.018774</td>\n",
       "      <td>0.024949</td>\n",
       "      <td>0.012319</td>\n",
       "      <td>-0.005295</td>\n",
       "      <td>-0.016047</td>\n",
       "      <td>-0.009274</td>\n",
       "      <td>-0.007650</td>\n",
       "      <td>-0.001096</td>\n",
       "      <td>0.030937</td>\n",
       "      <td>-0.027963</td>\n",
       "      <td>0.006029</td>\n",
       "      <td>0.011325</td>\n",
       "      <td>0.028024</td>\n",
       "      <td>0.029917</td>\n",
       "      <td>0.030057</td>\n",
       "    </tr>\n",
       "    <tr>\n",
       "      <th>2</th>\n",
       "      <td>0.013783</td>\n",
       "      <td>0.018774</td>\n",
       "      <td>0.024949</td>\n",
       "      <td>0.012319</td>\n",
       "      <td>-0.005295</td>\n",
       "      <td>-0.016047</td>\n",
       "      <td>-0.009274</td>\n",
       "      <td>-0.007650</td>\n",
       "      <td>-0.001096</td>\n",
       "      <td>0.030937</td>\n",
       "      <td>-0.027963</td>\n",
       "      <td>0.006029</td>\n",
       "      <td>0.011325</td>\n",
       "      <td>0.028024</td>\n",
       "      <td>0.029917</td>\n",
       "      <td>0.030057</td>\n",
       "    </tr>\n",
       "    <tr>\n",
       "      <th>3</th>\n",
       "      <td>0.024640</td>\n",
       "      <td>-0.015825</td>\n",
       "      <td>-0.029253</td>\n",
       "      <td>-0.011617</td>\n",
       "      <td>-0.009103</td>\n",
       "      <td>0.004347</td>\n",
       "      <td>-0.025937</td>\n",
       "      <td>0.000370</td>\n",
       "      <td>-0.019974</td>\n",
       "      <td>-0.019681</td>\n",
       "      <td>0.001572</td>\n",
       "      <td>-0.006201</td>\n",
       "      <td>0.016997</td>\n",
       "      <td>-0.001124</td>\n",
       "      <td>-0.003639</td>\n",
       "      <td>-0.022111</td>\n",
       "    </tr>\n",
       "    <tr>\n",
       "      <th>4</th>\n",
       "      <td>0.003752</td>\n",
       "      <td>-0.007468</td>\n",
       "      <td>-0.013531</td>\n",
       "      <td>-0.016572</td>\n",
       "      <td>0.012554</td>\n",
       "      <td>-0.024539</td>\n",
       "      <td>-0.007701</td>\n",
       "      <td>-0.022187</td>\n",
       "      <td>0.026657</td>\n",
       "      <td>0.023480</td>\n",
       "      <td>-0.014577</td>\n",
       "      <td>0.012544</td>\n",
       "      <td>0.027701</td>\n",
       "      <td>-0.005998</td>\n",
       "      <td>-0.000147</td>\n",
       "      <td>0.010758</td>\n",
       "    </tr>\n",
       "  </tbody>\n",
       "</table>\n",
       "</div>"
      ],
      "text/plain": [
       "    p_vec_0   p_vec_1   p_vec_2   p_vec_3   p_vec_4   p_vec_5   p_vec_6  \\\n",
       "0  0.025705 -0.001128  0.001848  0.031156 -0.018919 -0.003649  0.013457   \n",
       "1  0.013783  0.018774  0.024949  0.012319 -0.005295 -0.016047 -0.009274   \n",
       "2  0.013783  0.018774  0.024949  0.012319 -0.005295 -0.016047 -0.009274   \n",
       "3  0.024640 -0.015825 -0.029253 -0.011617 -0.009103  0.004347 -0.025937   \n",
       "4  0.003752 -0.007468 -0.013531 -0.016572  0.012554 -0.024539 -0.007701   \n",
       "\n",
       "    p_vec_7   p_vec_8   p_vec_9  p_vec_10  p_vec_11  p_vec_12  p_vec_13  \\\n",
       "0  0.028057 -0.024037 -0.011881  0.018372  0.013929 -0.028593  0.030767   \n",
       "1 -0.007650 -0.001096  0.030937 -0.027963  0.006029  0.011325  0.028024   \n",
       "2 -0.007650 -0.001096  0.030937 -0.027963  0.006029  0.011325  0.028024   \n",
       "3  0.000370 -0.019974 -0.019681  0.001572 -0.006201  0.016997 -0.001124   \n",
       "4 -0.022187  0.026657  0.023480 -0.014577  0.012544  0.027701 -0.005998   \n",
       "\n",
       "   p_vec_14  p_vec_15  \n",
       "0  0.003707 -0.001779  \n",
       "1  0.029917  0.030057  \n",
       "2  0.029917  0.030057  \n",
       "3 -0.003639 -0.022111  \n",
       "4 -0.000147  0.010758  "
      ]
     },
     "execution_count": 35,
     "metadata": {},
     "output_type": "execute_result"
    }
   ],
   "source": [
    "t_p_vec_df = pd.DataFrame(t_d2v_p_vecs, columns=p_vec_cols)\n",
    "t_p_vec_df.head()"
   ]
  },
  {
   "cell_type": "code",
   "execution_count": 36,
   "metadata": {},
   "outputs": [],
   "source": [
    "for col_name in p_vec_cols:\n",
    "    t_vec_df[col_name] = t_p_vec_df[col_name]"
   ]
  },
  {
   "cell_type": "code",
   "execution_count": 37,
   "metadata": {},
   "outputs": [
    {
     "data": {
      "text/plain": [
       "(7935, 48)"
      ]
     },
     "execution_count": 37,
     "metadata": {},
     "output_type": "execute_result"
    }
   ],
   "source": [
    "t_vec_df.shape"
   ]
  },
  {
   "cell_type": "markdown",
   "metadata": {},
   "source": [
    "**Save Vector DataFrames to Disk**"
   ]
  },
  {
   "cell_type": "code",
   "execution_count": 38,
   "metadata": {},
   "outputs": [],
   "source": [
    "vec_df.to_csv('../data_vec/vec_df.csv', index=False)"
   ]
  },
  {
   "cell_type": "code",
   "execution_count": 39,
   "metadata": {},
   "outputs": [],
   "source": [
    "t_vec_df.to_csv('../data_vec/t_vec_df.csv', index=False)"
   ]
  },
  {
   "cell_type": "code",
   "execution_count": 40,
   "metadata": {},
   "outputs": [],
   "source": [
    "vec_df = pd.read_csv('../data_vec/vec_df.csv')"
   ]
  },
  {
   "cell_type": "code",
   "execution_count": 41,
   "metadata": {},
   "outputs": [],
   "source": [
    "t_vec_df = pd.read_csv('../data_vec/t_vec_df.csv')"
   ]
  },
  {
   "cell_type": "markdown",
   "metadata": {},
   "source": [
    "### 3.2.2 Combine Vectors with LDA Features"
   ]
  },
  {
   "cell_type": "markdown",
   "metadata": {},
   "source": [
    "**Load LDA Features**"
   ]
  },
  {
   "cell_type": "code",
   "execution_count": 42,
   "metadata": {},
   "outputs": [],
   "source": [
    "lda_train = pd.read_csv('../data_vec/lda_train.csv')\n",
    "lda_test = pd.read_csv('../data_vec/lda_test.csv')"
   ]
  },
  {
   "cell_type": "code",
   "execution_count": 43,
   "metadata": {},
   "outputs": [],
   "source": [
    "prep_train = pd.merge(vec_df, lda_train, right_index=True, left_index=True)\n",
    "prep_test = pd.merge(t_vec_df, lda_test, right_index=True, left_index=True)"
   ]
  },
  {
   "cell_type": "code",
   "execution_count": 44,
   "metadata": {},
   "outputs": [
    {
     "data": {
      "text/html": [
       "<div>\n",
       "<style scoped>\n",
       "    .dataframe tbody tr th:only-of-type {\n",
       "        vertical-align: middle;\n",
       "    }\n",
       "\n",
       "    .dataframe tbody tr th {\n",
       "        vertical-align: top;\n",
       "    }\n",
       "\n",
       "    .dataframe thead th {\n",
       "        text-align: right;\n",
       "    }\n",
       "</style>\n",
       "<table border=\"1\" class=\"dataframe\">\n",
       "  <thead>\n",
       "    <tr style=\"text-align: right;\">\n",
       "      <th></th>\n",
       "      <th>s_vec_0</th>\n",
       "      <th>s_vec_1</th>\n",
       "      <th>s_vec_2</th>\n",
       "      <th>s_vec_3</th>\n",
       "      <th>s_vec_4</th>\n",
       "      <th>s_vec_5</th>\n",
       "      <th>s_vec_6</th>\n",
       "      <th>s_vec_7</th>\n",
       "      <th>s_vec_8</th>\n",
       "      <th>s_vec_9</th>\n",
       "      <th>...</th>\n",
       "      <th>p9_lda_civil</th>\n",
       "      <th>p10_lda_deadites</th>\n",
       "      <th>p11_lda_idea</th>\n",
       "      <th>p12_lda_love</th>\n",
       "      <th>p13_lda_sense</th>\n",
       "      <th>p14_lda_biomolecular</th>\n",
       "      <th>p15_lda_thee</th>\n",
       "      <th>a_num</th>\n",
       "      <th>p_num</th>\n",
       "      <th>s_num</th>\n",
       "    </tr>\n",
       "  </thead>\n",
       "  <tbody>\n",
       "    <tr>\n",
       "      <th>0</th>\n",
       "      <td>0.005141</td>\n",
       "      <td>0.007563</td>\n",
       "      <td>-0.005119</td>\n",
       "      <td>0.003487</td>\n",
       "      <td>0.014759</td>\n",
       "      <td>-0.000401</td>\n",
       "      <td>-0.013146</td>\n",
       "      <td>-0.010836</td>\n",
       "      <td>0.013186</td>\n",
       "      <td>0.000359</td>\n",
       "      <td>...</td>\n",
       "      <td>0.012991</td>\n",
       "      <td>0.012991</td>\n",
       "      <td>0.805130</td>\n",
       "      <td>0.012991</td>\n",
       "      <td>0.012991</td>\n",
       "      <td>0.012991</td>\n",
       "      <td>0.012991</td>\n",
       "      <td>0</td>\n",
       "      <td>0</td>\n",
       "      <td>0</td>\n",
       "    </tr>\n",
       "    <tr>\n",
       "      <th>1</th>\n",
       "      <td>0.000672</td>\n",
       "      <td>-0.008255</td>\n",
       "      <td>0.004202</td>\n",
       "      <td>0.012191</td>\n",
       "      <td>-0.008325</td>\n",
       "      <td>0.010428</td>\n",
       "      <td>-0.010309</td>\n",
       "      <td>0.007246</td>\n",
       "      <td>0.000948</td>\n",
       "      <td>0.013675</td>\n",
       "      <td>...</td>\n",
       "      <td>0.012991</td>\n",
       "      <td>0.012991</td>\n",
       "      <td>0.805130</td>\n",
       "      <td>0.012991</td>\n",
       "      <td>0.012991</td>\n",
       "      <td>0.012991</td>\n",
       "      <td>0.012991</td>\n",
       "      <td>0</td>\n",
       "      <td>0</td>\n",
       "      <td>1</td>\n",
       "    </tr>\n",
       "    <tr>\n",
       "      <th>2</th>\n",
       "      <td>0.009192</td>\n",
       "      <td>0.003800</td>\n",
       "      <td>0.004282</td>\n",
       "      <td>0.003132</td>\n",
       "      <td>0.009840</td>\n",
       "      <td>0.002502</td>\n",
       "      <td>-0.015351</td>\n",
       "      <td>-0.012835</td>\n",
       "      <td>0.005541</td>\n",
       "      <td>-0.002684</td>\n",
       "      <td>...</td>\n",
       "      <td>0.012991</td>\n",
       "      <td>0.012991</td>\n",
       "      <td>0.805130</td>\n",
       "      <td>0.012991</td>\n",
       "      <td>0.012991</td>\n",
       "      <td>0.012991</td>\n",
       "      <td>0.012991</td>\n",
       "      <td>0</td>\n",
       "      <td>0</td>\n",
       "      <td>2</td>\n",
       "    </tr>\n",
       "    <tr>\n",
       "      <th>3</th>\n",
       "      <td>0.012862</td>\n",
       "      <td>0.005095</td>\n",
       "      <td>0.007222</td>\n",
       "      <td>-0.000288</td>\n",
       "      <td>0.005181</td>\n",
       "      <td>0.011893</td>\n",
       "      <td>-0.000838</td>\n",
       "      <td>-0.004347</td>\n",
       "      <td>0.000892</td>\n",
       "      <td>-0.013354</td>\n",
       "      <td>...</td>\n",
       "      <td>0.013657</td>\n",
       "      <td>0.013657</td>\n",
       "      <td>0.013657</td>\n",
       "      <td>0.013657</td>\n",
       "      <td>0.736205</td>\n",
       "      <td>0.013657</td>\n",
       "      <td>0.013657</td>\n",
       "      <td>0</td>\n",
       "      <td>1</td>\n",
       "      <td>0</td>\n",
       "    </tr>\n",
       "    <tr>\n",
       "      <th>4</th>\n",
       "      <td>0.005489</td>\n",
       "      <td>-0.004147</td>\n",
       "      <td>-0.003460</td>\n",
       "      <td>-0.008962</td>\n",
       "      <td>0.004228</td>\n",
       "      <td>-0.000990</td>\n",
       "      <td>-0.011614</td>\n",
       "      <td>-0.008368</td>\n",
       "      <td>0.003744</td>\n",
       "      <td>0.005757</td>\n",
       "      <td>...</td>\n",
       "      <td>0.013657</td>\n",
       "      <td>0.013657</td>\n",
       "      <td>0.013657</td>\n",
       "      <td>0.013657</td>\n",
       "      <td>0.735830</td>\n",
       "      <td>0.013657</td>\n",
       "      <td>0.013657</td>\n",
       "      <td>0</td>\n",
       "      <td>1</td>\n",
       "      <td>1</td>\n",
       "    </tr>\n",
       "  </tbody>\n",
       "</table>\n",
       "<p>5 rows × 99 columns</p>\n",
       "</div>"
      ],
      "text/plain": [
       "    s_vec_0   s_vec_1   s_vec_2   s_vec_3   s_vec_4   s_vec_5   s_vec_6  \\\n",
       "0  0.005141  0.007563 -0.005119  0.003487  0.014759 -0.000401 -0.013146   \n",
       "1  0.000672 -0.008255  0.004202  0.012191 -0.008325  0.010428 -0.010309   \n",
       "2  0.009192  0.003800  0.004282  0.003132  0.009840  0.002502 -0.015351   \n",
       "3  0.012862  0.005095  0.007222 -0.000288  0.005181  0.011893 -0.000838   \n",
       "4  0.005489 -0.004147 -0.003460 -0.008962  0.004228 -0.000990 -0.011614   \n",
       "\n",
       "    s_vec_7   s_vec_8   s_vec_9  ...    p9_lda_civil  p10_lda_deadites  \\\n",
       "0 -0.010836  0.013186  0.000359  ...        0.012991          0.012991   \n",
       "1  0.007246  0.000948  0.013675  ...        0.012991          0.012991   \n",
       "2 -0.012835  0.005541 -0.002684  ...        0.012991          0.012991   \n",
       "3 -0.004347  0.000892 -0.013354  ...        0.013657          0.013657   \n",
       "4 -0.008368  0.003744  0.005757  ...        0.013657          0.013657   \n",
       "\n",
       "   p11_lda_idea  p12_lda_love  p13_lda_sense  p14_lda_biomolecular  \\\n",
       "0      0.805130      0.012991       0.012991              0.012991   \n",
       "1      0.805130      0.012991       0.012991              0.012991   \n",
       "2      0.805130      0.012991       0.012991              0.012991   \n",
       "3      0.013657      0.013657       0.736205              0.013657   \n",
       "4      0.013657      0.013657       0.735830              0.013657   \n",
       "\n",
       "   p15_lda_thee  a_num  p_num  s_num  \n",
       "0      0.012991      0      0      0  \n",
       "1      0.012991      0      0      1  \n",
       "2      0.012991      0      0      2  \n",
       "3      0.013657      0      1      0  \n",
       "4      0.013657      0      1      1  \n",
       "\n",
       "[5 rows x 99 columns]"
      ]
     },
     "execution_count": 44,
     "metadata": {},
     "output_type": "execute_result"
    }
   ],
   "source": [
    "prep_train.head()"
   ]
  },
  {
   "cell_type": "code",
   "execution_count": 45,
   "metadata": {},
   "outputs": [
    {
     "data": {
      "text/plain": [
       "(63932, 99)"
      ]
     },
     "execution_count": 45,
     "metadata": {},
     "output_type": "execute_result"
    }
   ],
   "source": [
    "prep_train.shape"
   ]
  },
  {
   "cell_type": "code",
   "execution_count": 46,
   "metadata": {},
   "outputs": [
    {
     "data": {
      "text/html": [
       "<div>\n",
       "<style scoped>\n",
       "    .dataframe tbody tr th:only-of-type {\n",
       "        vertical-align: middle;\n",
       "    }\n",
       "\n",
       "    .dataframe tbody tr th {\n",
       "        vertical-align: top;\n",
       "    }\n",
       "\n",
       "    .dataframe thead th {\n",
       "        text-align: right;\n",
       "    }\n",
       "</style>\n",
       "<table border=\"1\" class=\"dataframe\">\n",
       "  <thead>\n",
       "    <tr style=\"text-align: right;\">\n",
       "      <th></th>\n",
       "      <th>s_vec_0</th>\n",
       "      <th>s_vec_1</th>\n",
       "      <th>s_vec_2</th>\n",
       "      <th>s_vec_3</th>\n",
       "      <th>s_vec_4</th>\n",
       "      <th>s_vec_5</th>\n",
       "      <th>s_vec_6</th>\n",
       "      <th>s_vec_7</th>\n",
       "      <th>s_vec_8</th>\n",
       "      <th>s_vec_9</th>\n",
       "      <th>...</th>\n",
       "      <th>p9_lda_civil</th>\n",
       "      <th>p10_lda_deadites</th>\n",
       "      <th>p11_lda_idea</th>\n",
       "      <th>p12_lda_love</th>\n",
       "      <th>p13_lda_sense</th>\n",
       "      <th>p14_lda_biomolecular</th>\n",
       "      <th>p15_lda_thee</th>\n",
       "      <th>a_num</th>\n",
       "      <th>p_num</th>\n",
       "      <th>s_num</th>\n",
       "    </tr>\n",
       "  </thead>\n",
       "  <tbody>\n",
       "    <tr>\n",
       "      <th>0</th>\n",
       "      <td>0.012852</td>\n",
       "      <td>-0.000564</td>\n",
       "      <td>0.000924</td>\n",
       "      <td>0.015578</td>\n",
       "      <td>-0.009460</td>\n",
       "      <td>-0.001825</td>\n",
       "      <td>0.006729</td>\n",
       "      <td>0.014028</td>\n",
       "      <td>-0.012019</td>\n",
       "      <td>-0.005941</td>\n",
       "      <td>...</td>\n",
       "      <td>0.012556</td>\n",
       "      <td>0.012556</td>\n",
       "      <td>0.012556</td>\n",
       "      <td>0.012556</td>\n",
       "      <td>0.267877</td>\n",
       "      <td>0.012556</td>\n",
       "      <td>0.012556</td>\n",
       "      <td>0</td>\n",
       "      <td>0</td>\n",
       "      <td>0</td>\n",
       "    </tr>\n",
       "    <tr>\n",
       "      <th>1</th>\n",
       "      <td>0.014496</td>\n",
       "      <td>-0.015362</td>\n",
       "      <td>-0.008466</td>\n",
       "      <td>0.012413</td>\n",
       "      <td>0.012671</td>\n",
       "      <td>-0.000903</td>\n",
       "      <td>0.015530</td>\n",
       "      <td>-0.005830</td>\n",
       "      <td>-0.007259</td>\n",
       "      <td>0.014899</td>\n",
       "      <td>...</td>\n",
       "      <td>0.011455</td>\n",
       "      <td>0.011455</td>\n",
       "      <td>0.147549</td>\n",
       "      <td>0.011455</td>\n",
       "      <td>0.011455</td>\n",
       "      <td>0.011455</td>\n",
       "      <td>0.011455</td>\n",
       "      <td>0</td>\n",
       "      <td>1</td>\n",
       "      <td>0</td>\n",
       "    </tr>\n",
       "    <tr>\n",
       "      <th>2</th>\n",
       "      <td>-0.005569</td>\n",
       "      <td>0.010911</td>\n",
       "      <td>0.007000</td>\n",
       "      <td>0.004631</td>\n",
       "      <td>0.000567</td>\n",
       "      <td>0.012376</td>\n",
       "      <td>0.001706</td>\n",
       "      <td>-0.012309</td>\n",
       "      <td>0.000371</td>\n",
       "      <td>0.012049</td>\n",
       "      <td>...</td>\n",
       "      <td>0.011455</td>\n",
       "      <td>0.011455</td>\n",
       "      <td>0.147652</td>\n",
       "      <td>0.011455</td>\n",
       "      <td>0.011455</td>\n",
       "      <td>0.011455</td>\n",
       "      <td>0.011455</td>\n",
       "      <td>0</td>\n",
       "      <td>1</td>\n",
       "      <td>1</td>\n",
       "    </tr>\n",
       "    <tr>\n",
       "      <th>3</th>\n",
       "      <td>0.012320</td>\n",
       "      <td>-0.007913</td>\n",
       "      <td>-0.014627</td>\n",
       "      <td>-0.005808</td>\n",
       "      <td>-0.004552</td>\n",
       "      <td>0.002174</td>\n",
       "      <td>-0.012969</td>\n",
       "      <td>0.000185</td>\n",
       "      <td>-0.009987</td>\n",
       "      <td>-0.009841</td>\n",
       "      <td>...</td>\n",
       "      <td>0.012644</td>\n",
       "      <td>0.012644</td>\n",
       "      <td>0.012644</td>\n",
       "      <td>0.012644</td>\n",
       "      <td>0.012644</td>\n",
       "      <td>0.012644</td>\n",
       "      <td>0.012644</td>\n",
       "      <td>0</td>\n",
       "      <td>2</td>\n",
       "      <td>0</td>\n",
       "    </tr>\n",
       "    <tr>\n",
       "      <th>4</th>\n",
       "      <td>0.001876</td>\n",
       "      <td>-0.003734</td>\n",
       "      <td>-0.006766</td>\n",
       "      <td>-0.008286</td>\n",
       "      <td>0.006277</td>\n",
       "      <td>-0.012269</td>\n",
       "      <td>-0.003850</td>\n",
       "      <td>-0.011094</td>\n",
       "      <td>0.013328</td>\n",
       "      <td>0.011740</td>\n",
       "      <td>...</td>\n",
       "      <td>0.015147</td>\n",
       "      <td>0.015147</td>\n",
       "      <td>0.015147</td>\n",
       "      <td>0.015147</td>\n",
       "      <td>0.015148</td>\n",
       "      <td>0.015147</td>\n",
       "      <td>0.015147</td>\n",
       "      <td>0</td>\n",
       "      <td>3</td>\n",
       "      <td>0</td>\n",
       "    </tr>\n",
       "  </tbody>\n",
       "</table>\n",
       "<p>5 rows × 99 columns</p>\n",
       "</div>"
      ],
      "text/plain": [
       "    s_vec_0   s_vec_1   s_vec_2   s_vec_3   s_vec_4   s_vec_5   s_vec_6  \\\n",
       "0  0.012852 -0.000564  0.000924  0.015578 -0.009460 -0.001825  0.006729   \n",
       "1  0.014496 -0.015362 -0.008466  0.012413  0.012671 -0.000903  0.015530   \n",
       "2 -0.005569  0.010911  0.007000  0.004631  0.000567  0.012376  0.001706   \n",
       "3  0.012320 -0.007913 -0.014627 -0.005808 -0.004552  0.002174 -0.012969   \n",
       "4  0.001876 -0.003734 -0.006766 -0.008286  0.006277 -0.012269 -0.003850   \n",
       "\n",
       "    s_vec_7   s_vec_8   s_vec_9  ...    p9_lda_civil  p10_lda_deadites  \\\n",
       "0  0.014028 -0.012019 -0.005941  ...        0.012556          0.012556   \n",
       "1 -0.005830 -0.007259  0.014899  ...        0.011455          0.011455   \n",
       "2 -0.012309  0.000371  0.012049  ...        0.011455          0.011455   \n",
       "3  0.000185 -0.009987 -0.009841  ...        0.012644          0.012644   \n",
       "4 -0.011094  0.013328  0.011740  ...        0.015147          0.015147   \n",
       "\n",
       "   p11_lda_idea  p12_lda_love  p13_lda_sense  p14_lda_biomolecular  \\\n",
       "0      0.012556      0.012556       0.267877              0.012556   \n",
       "1      0.147549      0.011455       0.011455              0.011455   \n",
       "2      0.147652      0.011455       0.011455              0.011455   \n",
       "3      0.012644      0.012644       0.012644              0.012644   \n",
       "4      0.015147      0.015147       0.015148              0.015147   \n",
       "\n",
       "   p15_lda_thee  a_num  p_num  s_num  \n",
       "0      0.012556      0      0      0  \n",
       "1      0.011455      0      1      0  \n",
       "2      0.011455      0      1      1  \n",
       "3      0.012644      0      2      0  \n",
       "4      0.015147      0      3      0  \n",
       "\n",
       "[5 rows x 99 columns]"
      ]
     },
     "execution_count": 46,
     "metadata": {},
     "output_type": "execute_result"
    }
   ],
   "source": [
    "prep_test.head()"
   ]
  },
  {
   "cell_type": "code",
   "execution_count": 47,
   "metadata": {},
   "outputs": [
    {
     "data": {
      "text/plain": [
       "(7935, 99)"
      ]
     },
     "execution_count": 47,
     "metadata": {},
     "output_type": "execute_result"
    }
   ],
   "source": [
    "prep_test.shape"
   ]
  },
  {
   "cell_type": "markdown",
   "metadata": {},
   "source": [
    "**Save Train and Test Features to Disk**"
   ]
  },
  {
   "cell_type": "code",
   "execution_count": 48,
   "metadata": {},
   "outputs": [],
   "source": [
    "prep_train.to_csv('../data_vec/prep_train.csv', index=False)\n",
    "prep_test.to_csv('../data_vec/prep_test.csv', index=False)"
   ]
  },
  {
   "cell_type": "markdown",
   "metadata": {},
   "source": [
    "## Continue to Notebook 4: Multiclass Classification Models"
   ]
  }
 ],
 "metadata": {
  "kernelspec": {
   "display_name": "Environment (conda_tensorflow_p36)",
   "language": "python",
   "name": "conda_tensorflow_p36"
  },
  "language_info": {
   "codemirror_mode": {
    "name": "ipython",
    "version": 3
   },
   "file_extension": ".py",
   "mimetype": "text/x-python",
   "name": "python",
   "nbconvert_exporter": "python",
   "pygments_lexer": "ipython3",
   "version": "3.6.5"
  }
 },
 "nbformat": 4,
 "nbformat_minor": 2
}
